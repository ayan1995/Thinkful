{
 "cells": [
  {
   "cell_type": "code",
   "execution_count": null,
   "metadata": {},
   "outputs": [],
   "source": [
    "# Ayan Karim Drill-Evaluating Data Sources\n",
    "\n",
    "# 1. Reframe the question to, 'What are popular areas to live in Amsterdam, found through AirBnB?\n",
    "#    Limit conclusions to popularity amongst AirBnB locations in Amsterdam, \n",
    "#    not Amsterdam as a whole.\n",
    "\n",
    "# 2. Reframe the question to, 'How did patterns of mental health differ between New York and \n",
    "#    San Fansisco during 9/11?'\n",
    "\n",
    "# 3. Reframe the question to, 'What are the most common reasons Armenian students visit \n",
    "#    local pubs?'"
   ]
  }
 ],
 "metadata": {
  "kernelspec": {
   "display_name": "Python 3",
   "language": "python",
   "name": "python3"
  },
  "language_info": {
   "codemirror_mode": {
    "name": "ipython",
    "version": 3
   },
   "file_extension": ".py",
   "mimetype": "text/x-python",
   "name": "python",
   "nbconvert_exporter": "python",
   "pygments_lexer": "ipython3",
   "version": "3.6.4"
  }
 },
 "nbformat": 4,
 "nbformat_minor": 2
}
