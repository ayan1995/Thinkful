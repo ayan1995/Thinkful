{
 "cells": [
  {
   "cell_type": "code",
   "execution_count": null,
   "metadata": {},
   "outputs": [],
   "source": [
    "# Ayan Karim Drill - Exercises in Bayes' Rule\n",
    "\n",
    "# P(Be Positive) = (0.98*0.005) + (0.1*0.995) = 0.1044\n",
    "# P(Correctly diagnose a sufferer of Thripshaw's) = 0.98\n",
    "# P(Correctly identify a non-sufferer of Thripshaw's) = (0.90*0.995) = 0.8955\n",
    "# P(Misclassify the person) = (0.02*0.005) + (0.1*0.995) = 0.0996"
   ]
  }
 ],
 "metadata": {
  "kernelspec": {
   "display_name": "Python 3",
   "language": "python",
   "name": "python3"
  },
  "language_info": {
   "codemirror_mode": {
    "name": "ipython",
    "version": 3
   },
   "file_extension": ".py",
   "mimetype": "text/x-python",
   "name": "python",
   "nbconvert_exporter": "python",
   "pygments_lexer": "ipython3",
   "version": "3.6.4"
  }
 },
 "nbformat": 4,
 "nbformat_minor": 2
}
