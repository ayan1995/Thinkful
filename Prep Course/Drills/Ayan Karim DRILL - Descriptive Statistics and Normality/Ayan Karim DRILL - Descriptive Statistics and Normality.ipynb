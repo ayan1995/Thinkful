{
 "cells": [
  {
   "cell_type": "code",
   "execution_count": 1,
   "metadata": {},
   "outputs": [],
   "source": [
    "# Ayan Karim DRILL - Descriptive Statistics and Normality"
   ]
  },
  {
   "cell_type": "code",
   "execution_count": 3,
   "metadata": {},
   "outputs": [],
   "source": [
    "import numpy as np\n",
    "import pandas as pd\n",
    "import matplotlib.pyplot as plt\n",
    "%matplotlib inline"
   ]
  },
  {
   "cell_type": "code",
   "execution_count": 27,
   "metadata": {
    "scrolled": false
   },
   "outputs": [],
   "source": [
    "# 1. Binomial Data Set\n",
    "\n",
    "n, p = 10, 0.6\n",
    "binomial = pd.DataFrame(np.random.binomial(10, 0.6, 100))"
   ]
  },
  {
   "cell_type": "code",
   "execution_count": 46,
   "metadata": {},
   "outputs": [
    {
     "name": "stdout",
     "output_type": "stream",
     "text": [
      "mean = 5.94\n",
      "median = 6.0\n",
      "standard deviation = 1.5230219826371383\n"
     ]
    },
    {
     "data": {
      "image/png": "[encoded data removed]",
      "text/plain": [
       "<Figure size 432x288 with 1 Axes>"
      ]
     },
     "metadata": {},
     "output_type": "display_data"
    }
   ],
   "source": [
    "plt.hist(binomial[0], bins=15)\n",
    "plt.axvline(binomial[0].mean(), color='r', linestyle='solid', linewidth=2)\n",
    "plt.axvline(binomial[0].mean() + binomial[0].std(), color='r', linestyle='dashed', linewidth=2)\n",
    "plt.axvline(binomial[0].mean() - binomial[0].std(), color='r', linestyle='dashed', linewidth=2)\n",
    "print('mean = ' + str(np.mean(binomial[0])))\n",
    "print('median = ' + str(np.median(binomial[0])))\n",
    "print('standard deviation = ' + str(np.std(binomial[0], ddof=1)))"
   ]
  },
  {
   "cell_type": "code",
   "execution_count": null,
   "metadata": {},
   "outputs": [],
   "source": [
    "# The binomial distribution shows a normal distribution since the mean accurately \n",
    "# describes the center of the data where the probability mass is the most populated.\n",
    "# Furthermore, the standard deviations is relatively large at 1.52 but because the \n",
    "# data is normal we can cocnlude 68.2% of the data is within 1 standard deviation of the mean."
   ]
  },
  {
   "cell_type": "code",
   "execution_count": 38,
   "metadata": {},
   "outputs": [],
   "source": [
    "# 2. Gamma Data Set\n",
    "\n",
    "shape = 10\n",
    "scale = 10\n",
    "\n",
    "gamma = pd.DataFrame(np.random.gamma(2, 2, 100))"
   ]
  },
  {
   "cell_type": "code",
   "execution_count": 47,
   "metadata": {},
   "outputs": [
    {
     "name": "stdout",
     "output_type": "stream",
     "text": [
      "mean = 3.896860919780443\n",
      "median = 2.8127104645304266\n",
      "standard deviation = 2.942625534220005\n"
     ]
    },
    {
     "data": {
      "image/png": "[encoded data removed]",
      "text/plain": [
       "<Figure size 432x288 with 1 Axes>"
      ]
     },
     "metadata": {},
     "output_type": "display_data"
    }
   ],
   "source": [
    "plt.hist(gamma[0], bins=25)\n",
    "plt.axvline(gamma[0].mean(), color='r', linestyle='solid', linewidth=2)\n",
    "plt.axvline(gamma[0].mean() + gamma[0].std(), color='r', linestyle='dashed', linewidth=2)\n",
    "plt.axvline(gamma[0].mean() - gamma[0].std(), color='r', linestyle='dashed', linewidth=2)\n",
    "print('mean = ' + str(np.mean(gamma[0])))\n",
    "print('median = ' + str(np.median(gamma[0])))\n",
    "print('standard deviation = ' + str(np.std(gamma[0], ddof=1)))"
   ]
  },
  {
   "cell_type": "code",
   "execution_count": null,
   "metadata": {},
   "outputs": [],
   "source": [
    "# The gamma distribution is positively skewed so the mean is larger than the median.\n",
    "# Thus neither the mean nor the median give use a good sense of centrality in this data.\n",
    "# However, the standard deviation still summarises the majority of the data around the mean."
   ]
  },
  {
   "cell_type": "code",
   "execution_count": 15,
   "metadata": {},
   "outputs": [],
   "source": [
    "# 3. Chi-square distribution\n",
    "\n",
    "chi_square = np.random.chisquare(40,100)"
   ]
  },
  {
   "cell_type": "code",
   "execution_count": 16,
   "metadata": {},
   "outputs": [
    {
     "name": "stdout",
     "output_type": "stream",
     "text": [
      "mean = 40.01090464379852\n",
      "median = 39.46890956163071\n",
      "standard deviation = 8.997982629285481\n"
     ]
    },
    {
     "data": {
      "image/png": "[encoded data removed]",
      "text/plain": [
       "<Figure size 432x288 with 1 Axes>"
      ]
     },
     "metadata": {},
     "output_type": "display_data"
    }
   ],
   "source": [
    "plt.hist(chi_square, bins=20)\n",
    "plt.axvline(chi_square.mean(), color='r', linestyle='solid', linewidth=2)\n",
    "plt.axvline(chi_square.mean() + chi_square.std(), color='r', linestyle='dashed', linewidth=2)\n",
    "plt.axvline(chi_square.mean() - chi_square.std(), color='r', linestyle='dashed', linewidth=2)\n",
    "print('mean = ' + str(np.mean(chi_square)))\n",
    "print('median = ' + str(np.median(chi_square)))\n",
    "print('standard deviation = ' + str(np.std(chi_square, ddof=1)))"
   ]
  },
  {
   "cell_type": "code",
   "execution_count": null,
   "metadata": {},
   "outputs": [],
   "source": [
    "# The chi-squared data shows a normal distribution that isn't completely consistent\n",
    "# as there are multiple fluctations in low and high peaks. The standard deviation still informs\n",
    "# us of 68.2% of the data."
   ]
  },
  {
   "cell_type": "code",
   "execution_count": 17,
   "metadata": {},
   "outputs": [],
   "source": [
    "# 4. Geometric Distribution\n",
    "\n",
    "geometric = np.random.geometric(p=0.35, size=100)"
   ]
  },
  {
   "cell_type": "code",
   "execution_count": 18,
   "metadata": {},
   "outputs": [
    {
     "name": "stdout",
     "output_type": "stream",
     "text": [
      "mean = 3.0\n",
      "median = 2.0\n",
      "standard deviation = 2.188122205883115\n"
     ]
    },
    {
     "data": {
      "image/png": "[encoded data removed]",
      "text/plain": [
       "<Figure size 432x288 with 1 Axes>"
      ]
     },
     "metadata": {},
     "output_type": "display_data"
    }
   ],
   "source": [
    "plt.hist(geometric, bins=10)\n",
    "plt.axvline(geometric.mean(), color='r', linestyle='solid', linewidth=2)\n",
    "plt.axvline(geometric.mean() + geometric.std(), color='r', linestyle='dashed', linewidth=2)\n",
    "plt.axvline(geometric.mean() - geometric.std(), color='r', linestyle='dashed', linewidth=2)\n",
    "print('mean = ' + str(np.mean(geometric)))\n",
    "print('median = ' + str(np.median(geometric)))\n",
    "print('standard deviation = ' + str(np.std(geometric, ddof=1)))"
   ]
  },
  {
   "cell_type": "code",
   "execution_count": null,
   "metadata": {},
   "outputs": [],
   "source": [
    "# The geometric distribution shows a strong positive skew indicating that the mean and\n",
    "# median are bad measures of center. Once again the standard deviations surround most of the\n",
    "# data."
   ]
  },
  {
   "cell_type": "code",
   "execution_count": 17,
   "metadata": {},
   "outputs": [],
   "source": [
    "# 5. Lognormal Distribution\n",
    "\n",
    "lognormal = np.random.lognormal(3., 1., 100)"
   ]
  },
  {
   "cell_type": "code",
   "execution_count": 50,
   "metadata": {},
   "outputs": [
    {
     "name": "stdout",
     "output_type": "stream",
     "text": [
      "mean = 40.46606805588365\n",
      "median = 22.76133604230909\n",
      "standard deviation = 51.18337779893976\n"
     ]
    },
    {
     "data": {
      "image/png": "[encoded data removed]",
      "text/plain": [
       "<Figure size 432x288 with 1 Axes>"
      ]
     },
     "metadata": {},
     "output_type": "display_data"
    }
   ],
   "source": [
    "plt.hist(lognormal)\n",
    "plt.axvline(lognormal.mean(), color='r', linestyle='solid', linewidth=2)\n",
    "plt.axvline(lognormal.mean() + lognormal.std(), color='r', linestyle='dashed', linewidth=2)\n",
    "plt.axvline(lognormal.mean() - lognormal.std(), color='r', linestyle='dashed', linewidth=2)\n",
    "print('mean = ' + str(np.mean(lognormal)))\n",
    "print('median = ' + str(np.median(lognormal)))\n",
    "print('standard deviation = ' + str(np.std(lognormal, ddof=1)))"
   ]
  },
  {
   "cell_type": "code",
   "execution_count": null,
   "metadata": {},
   "outputs": [],
   "source": [
    "# The lognormal distribution shows a strong positive skew indicating that the mean and\n",
    "# median are bad measures of center. Here the standard deviation to the left of the mean\n",
    "# go beyond the data so not much can be concluded from it."
   ]
  },
  {
   "cell_type": "code",
   "execution_count": 19,
   "metadata": {},
   "outputs": [],
   "source": [
    "# 6. Poisson Distribution\n",
    "\n",
    "poisson = np.random.poisson(5, 100)"
   ]
  },
  {
   "cell_type": "code",
   "execution_count": 51,
   "metadata": {},
   "outputs": [
    {
     "name": "stdout",
     "output_type": "stream",
     "text": [
      "mean = 5.29\n",
      "median = 5.0\n",
      "standard deviation = 1.9555412074772074\n"
     ]
    },
    {
     "data": {
      "image/png": "[encoded data removed]",
      "text/plain": [
       "<Figure size 432x288 with 1 Axes>"
      ]
     },
     "metadata": {},
     "output_type": "display_data"
    }
   ],
   "source": [
    "plt.hist(poisson, bins=15)\n",
    "plt.axvline(poisson.mean(), color='r', linestyle='solid', linewidth=2)\n",
    "plt.axvline(poisson.mean() + poisson.std(), color='r', linestyle='dashed', linewidth=2)\n",
    "plt.axvline(poisson.mean() - poisson.std(), color='r', linestyle='dashed', linewidth=2)\n",
    "print('mean = ' + str(np.mean(poisson)))\n",
    "print('median = ' + str(np.median(poisson)))\n",
    "print('standard deviation = ' + str(np.std(poisson, ddof=1)))"
   ]
  },
  {
   "cell_type": "code",
   "execution_count": null,
   "metadata": {},
   "outputs": [],
   "source": [
    "# The poisson data shows a normal distribution so the mean is a good measure of center.\n",
    "# There are some gaps in the data between the bars, so 1 standard deviation may not be \n",
    "# enough to encompass all the data."
   ]
  },
  {
   "cell_type": "code",
   "execution_count": 52,
   "metadata": {},
   "outputs": [
    {
     "name": "stdout",
     "output_type": "stream",
     "text": [
      "mean = 15.136354432933102\n",
      "median = 15.20639057723419\n",
      "standard deviation = 1.0822961282638688\n"
     ]
    },
    {
     "data": {
      "image/png": "[encoded data removed]",
      "text/plain": [
       "<Figure size 432x288 with 1 Axes>"
      ]
     },
     "metadata": {},
     "output_type": "display_data"
    }
   ],
   "source": [
    "normal1 = np.random.normal(5, 0.5, 100)\n",
    "normal2 = np.random.normal(10, 1, 100)\n",
    "normal3 = normal1 + normal2\n",
    "plt.hist(normal3)\n",
    "plt.axvline(normal3.mean(), color='r', linestyle='solid', linewidth=2)\n",
    "plt.axvline(normal3.mean() + normal3.std(), color='r', linestyle='dashed', linewidth=2)\n",
    "plt.axvline(normal3.mean() - normal3.std(), color='r', linestyle='dashed', linewidth=2)\n",
    "print('mean = ' + str(np.mean(normal3)))\n",
    "print('median = ' + str(np.median(normal3)))\n",
    "print('standard deviation = ' + str(np.std(normal3, ddof=1)))"
   ]
  },
  {
   "cell_type": "code",
   "execution_count": null,
   "metadata": {},
   "outputs": [],
   "source": [
    "# There's a slight, but present normal distrubtion in the in the histogram above.\n",
    "# Two normal distributions with different means and standard deviations seem to \n",
    "# increase the traffic or cluster of data that makes the distrubtion more shapeless\n",
    "# rather than a nice flowing normal distribution. However the mean still shows some centrality\n",
    "# and most of the data falls within 1 standard deviation"
   ]
  }
 ],
 "metadata": {
  "kernelspec": {
   "display_name": "Python 3",
   "language": "python",
   "name": "python3"
  },
  "language_info": {
   "codemirror_mode": {
    "name": "ipython",
    "version": 3
   },
   "file_extension": ".py",
   "mimetype": "text/x-python",
   "name": "python",
   "nbconvert_exporter": "python",
   "pygments_lexer": "ipython3",
   "version": "3.6.4"
  }
 },
 "nbformat": 4,
 "nbformat_minor": 2
}
