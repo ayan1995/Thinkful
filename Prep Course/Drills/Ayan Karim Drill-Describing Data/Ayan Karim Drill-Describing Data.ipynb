{
 "cells": [
  {
   "cell_type": "code",
   "execution_count": 25,
   "metadata": {},
   "outputs": [
    {
     "name": "stdout",
     "output_type": "stream",
     "text": [
      "Mean = 9.857142857142858\n",
      "Median = 10.0\n",
      "Mode = 8\n",
      "Variance = 7.476190476190475\n",
      "Standard Deviation = 2.734262327610589\n",
      "Standard Error = 1.0334540197243192\n"
     ]
    }
   ],
   "source": [
    "# Ayan Karim\n",
    "# Drill: Describing Data\n",
    "\n",
    "import pandas as pd\n",
    "import numpy as np\n",
    "import statistics\n",
    "\n",
    "# 1.\n",
    "\n",
    "df = pd.DataFrame()\n",
    "df['age'] = [14, 12, 11, 10, 8, 6, 8]\n",
    "print('Mean = ' + str(np.mean(df['age'])))\n",
    "print('Median = ' + str(np.median(df['age'])))\n",
    "print('Mode = ' + str(statistics.mode(df['age'])))\n",
    "print('Variance = ' + str(df['age'].var()))\n",
    "print('Standard Deviation = ' + str(np.std(df['age'], ddof=1)))\n",
    "print('Standard Error = ' + str(np.std(df['age'] ,ddof=1) / np.sqrt(len(df['age']))))"
   ]
  },
  {
   "cell_type": "code",
   "execution_count": 26,
   "metadata": {},
   "outputs": [],
   "source": [
    "# 2.\n",
    "\n",
    "# For central tendency, I'd use the mean = 9.86 because it includes all the data points\n",
    "# and since there are no significant outliers, the mean isn't drastically changed.\n",
    "\n",
    "# For measure of variance, I would use Standard Error, because it shows that the room \n",
    "# for error is very small at +/- 1.03%."
   ]
  },
  {
   "cell_type": "code",
   "execution_count": 27,
   "metadata": {},
   "outputs": [
    {
     "name": "stdout",
     "output_type": "stream",
     "text": [
      "Mean = 10.0\n",
      "Median = 10.0\n",
      "Mode = 8\n",
      "Variance = 6.333333333333333\n",
      "Standard Deviation = 2.516611478423583\n",
      "Standard Error = 0.9511897312113418\n"
     ]
    }
   ],
   "source": [
    "# 3.\n",
    "\n",
    "df['age'] = [14, 12, 11, 10, 8, 7, 8]\n",
    "print('Mean = ' + str(np.mean(df['age'])))\n",
    "print('Median = ' + str(np.median(df['age'])))\n",
    "print('Mode = ' + str(statistics.mode(df['age'])))\n",
    "print('Variance = ' + str(df['age'].var()))\n",
    "print('Standard Deviation = ' + str(np.std(df['age'], ddof=1)))\n",
    "print('Standard Error = ' + str(np.std(df['age'] ,ddof=1) / np.sqrt(len(df['age']))))"
   ]
  },
  {
   "cell_type": "code",
   "execution_count": 28,
   "metadata": {},
   "outputs": [],
   "source": [
    "# The mean and the measures of variance changed, but the median and mode remained the same."
   ]
  },
  {
   "cell_type": "code",
   "execution_count": 34,
   "metadata": {},
   "outputs": [
    {
     "name": "stdout",
     "output_type": "stream",
     "text": [
      "Mean = 9.0\n",
      "Median = 10.0\n",
      "No Mode\n",
      "Variance = 18.0\n",
      "Standard Deviation = 4.242640687119285\n",
      "Standard Error = 1.6035674514745462\n"
     ]
    }
   ],
   "source": [
    "# 4.\n",
    "\n",
    "from statistics import mode, StatisticsError\n",
    "\n",
    "df['age'] = [14, 12, 11, 10, 8, 7, 1]\n",
    "print('Mean = ' + str(np.mean(df['age'])))\n",
    "print('Median = ' + str(np.median(df['age'])))\n",
    "try:\n",
    "    statistics.mode(df['age'])\n",
    "except StatisticsError:\n",
    "    print ('No Mode')\n",
    "print('Variance = ' + str(df['age'].var()))\n",
    "print('Standard Deviation = ' + str(np.std(df['age'], ddof=1)))\n",
    "print('Standard Error = ' + str(np.std(df['age'] ,ddof=1) / np.sqrt(len(df['age']))))"
   ]
  },
  {
   "cell_type": "code",
   "execution_count": 35,
   "metadata": {},
   "outputs": [],
   "source": [
    "# Replacing Cousin Oliver (age 8) with a 1 year old changes my choice measure\n",
    "# to the median, because the 1 year old is an extreme low data point\n",
    "# so the mean is sensitive to it.\n",
    "# I would change using the Standard Error to the Variance because the Variance \n",
    "# shows there's lots of variability."
   ]
  },
  {
   "cell_type": "code",
   "execution_count": 39,
   "metadata": {},
   "outputs": [
    {
     "data": {
      "text/plain": [
       "18.5"
      ]
     },
     "execution_count": 39,
     "metadata": {},
     "output_type": "execute_result"
    }
   ],
   "source": [
    "# 5.\n",
    "\n",
    "df = pd.DataFrame()\n",
    "df['fans'] = [0.20, 0.23, 0.17, 0.05]\n",
    "np.median(df['fans']) * 100"
   ]
  },
  {
   "cell_type": "code",
   "execution_count": null,
   "metadata": {},
   "outputs": [],
   "source": [
    "# We use the sample median of 18.5% because the sciphi magazine fans are outliers at 5% (0.05).\n",
    "# This is the best estimate for the population median and for the percentage of American adults\n",
    "# that are fans of the show at the 50th anniversary."
   ]
  }
 ],
 "metadata": {
  "kernelspec": {
   "display_name": "Python 3",
   "language": "python",
   "name": "python3"
  },
  "language_info": {
   "codemirror_mode": {
    "name": "ipython",
    "version": 3
   },
   "file_extension": ".py",
   "mimetype": "text/x-python",
   "name": "python",
   "nbconvert_exporter": "python",
   "pygments_lexer": "ipython3",
   "version": "3.6.4"
  }
 },
 "nbformat": 4,
 "nbformat_minor": 2
}
