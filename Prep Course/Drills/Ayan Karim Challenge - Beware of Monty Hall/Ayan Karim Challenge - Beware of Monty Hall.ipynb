{
 "cells": [
  {
   "cell_type": "code",
   "execution_count": null,
   "metadata": {},
   "outputs": [],
   "source": [
    "# Ayan Karim Challenge - Beware of Monty Hall\n",
    "\n",
    "# In the Monty Hall problem, I would switch my door when the host reveals a door to be a dud.\n",
    "# This is because the conditions of the game have changed when the host reveals a dud.\n",
    "# In the begginning there's a condition that I have 3 doors to choose from. \n",
    "# I have a 1/3 chance of choosing the prize door, but when a dud is revealed, \n",
    "# I have to choose a door based on the condition that I have 2 doors and a 1/2 probability.\n",
    "# Since the conditions changed, the whole game changed, and I should switch my decision\n",
    "# based on the new game.\n",
    "\n",
    "# Bayes' rule applies here because the condition of the game determines the probability of \n",
    "# winning the prize. So when a door is revealed by the host, Bayes' rule tells us that \n",
    "# since the conditions have changed, the probability of winning and the whole game has changed."
   ]
  }
 ],
 "metadata": {
  "kernelspec": {
   "display_name": "Python 3",
   "language": "python",
   "name": "python3"
  },
  "language_info": {
   "codemirror_mode": {
    "name": "ipython",
    "version": 3
   },
   "file_extension": ".py",
   "mimetype": "text/x-python",
   "name": "python",
   "nbconvert_exporter": "python",
   "pygments_lexer": "ipython3",
   "version": "3.6.4"
  }
 },
 "nbformat": 4,
 "nbformat_minor": 2
}
