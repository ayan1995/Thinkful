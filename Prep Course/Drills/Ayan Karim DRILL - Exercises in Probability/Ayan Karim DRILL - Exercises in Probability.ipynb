{
 "cells": [
  {
   "cell_type": "code",
   "execution_count": 10,
   "metadata": {},
   "outputs": [
    {
     "name": "stdout",
     "output_type": "stream",
     "text": [
      "P(HTTH)=P(HHHH)=P(TTHH) = 0.0625\n"
     ]
    }
   ],
   "source": [
    "# Ayan Karim DRILL - Exercises in Probability\n",
    "\n",
    "# 1.\n",
    "\n",
    "print('P(HTTH)=P(HHHH)=P(TTHH) = ' + str(0.5*0.5*0.5*0.5))"
   ]
  },
  {
   "cell_type": "code",
   "execution_count": 15,
   "metadata": {},
   "outputs": [],
   "source": [
    "# 2.\n",
    "\n",
    "# P(not a man) = 24/25"
   ]
  },
  {
   "cell_type": "code",
   "execution_count": 14,
   "metadata": {},
   "outputs": [
    {
     "name": "stdout",
     "output_type": "stream",
     "text": [
      "P(Bernice in a plane crash) = 0.0005\n"
     ]
    }
   ],
   "source": [
    "# 3. \n",
    "\n",
    "print('P(Bernice in a plane crash) = ' + str(0.10*0.005))"
   ]
  },
  {
   "cell_type": "code",
   "execution_count": null,
   "metadata": {},
   "outputs": [],
   "source": [
    "# 4.\n",
    "\n",
    "# There is a selection bias because some users may click on the link \n",
    "# to the website more than others so they have a higher chance of \n",
    "# taking the survey than others. Also, those who take the survey may have \n",
    "# user behaviour that's different from the rest of the population, due to clicking\n",
    "# on the link more often."
   ]
  }
 ],
 "metadata": {
  "kernelspec": {
   "display_name": "Python 3",
   "language": "python",
   "name": "python3"
  },
  "language_info": {
   "codemirror_mode": {
    "name": "ipython",
    "version": 3
   },
   "file_extension": ".py",
   "mimetype": "text/x-python",
   "name": "python",
   "nbconvert_exporter": "python",
   "pygments_lexer": "ipython3",
   "version": "3.6.4"
  }
 },
 "nbformat": 4,
 "nbformat_minor": 2
}
