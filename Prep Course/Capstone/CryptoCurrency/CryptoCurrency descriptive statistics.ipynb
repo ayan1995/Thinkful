{
 "cells": [
  {
   "cell_type": "code",
   "execution_count": 2,
   "metadata": {},
   "outputs": [],
   "source": [
    "# Crypto Currency descriptive statistics\n",
    "import numpy as np\n",
    "import pandas as pd\n",
    "import matplotlib.pyplot as plt\n",
    "%matplotlib inline"
   ]
  },
  {
   "cell_type": "code",
   "execution_count": 14,
   "metadata": {},
   "outputs": [
    {
     "data": {
      "text/html": [
       "<div>\n",
       "<style scoped>\n",
       "    .dataframe tbody tr th:only-of-type {\n",
       "        vertical-align: middle;\n",
       "    }\n",
       "\n",
       "    .dataframe tbody tr th {\n",
       "        vertical-align: top;\n",
       "    }\n",
       "\n",
       "    .dataframe thead th {\n",
       "        text-align: right;\n",
       "    }\n",
       "</style>\n",
       "<table border=\"1\" class=\"dataframe\">\n",
       "  <thead>\n",
       "    <tr style=\"text-align: right;\">\n",
       "      <th></th>\n",
       "      <th>slug</th>\n",
       "      <th>symbol</th>\n",
       "      <th>name</th>\n",
       "      <th>date</th>\n",
       "      <th>ranknow</th>\n",
       "      <th>open</th>\n",
       "      <th>high</th>\n",
       "      <th>low</th>\n",
       "      <th>close</th>\n",
       "      <th>volume</th>\n",
       "      <th>market</th>\n",
       "      <th>close_ratio</th>\n",
       "      <th>spread</th>\n",
       "    </tr>\n",
       "  </thead>\n",
       "  <tbody>\n",
       "    <tr>\n",
       "      <th>0</th>\n",
       "      <td>bitcoin</td>\n",
       "      <td>BTC</td>\n",
       "      <td>Bitcoin</td>\n",
       "      <td>2013-04-28</td>\n",
       "      <td>1</td>\n",
       "      <td>135.300000</td>\n",
       "      <td>135.980000</td>\n",
       "      <td>132.100000</td>\n",
       "      <td>134.210000</td>\n",
       "      <td>0.0</td>\n",
       "      <td>1.500520e+09</td>\n",
       "      <td>0.5438</td>\n",
       "      <td>3.88</td>\n",
       "    </tr>\n",
       "    <tr>\n",
       "      <th>1</th>\n",
       "      <td>bitcoin</td>\n",
       "      <td>BTC</td>\n",
       "      <td>Bitcoin</td>\n",
       "      <td>2013-04-29</td>\n",
       "      <td>1</td>\n",
       "      <td>134.440000</td>\n",
       "      <td>147.490000</td>\n",
       "      <td>134.000000</td>\n",
       "      <td>144.540000</td>\n",
       "      <td>0.0</td>\n",
       "      <td>1.491160e+09</td>\n",
       "      <td>0.7813</td>\n",
       "      <td>13.49</td>\n",
       "    </tr>\n",
       "    <tr>\n",
       "      <th>2</th>\n",
       "      <td>bitcoin</td>\n",
       "      <td>BTC</td>\n",
       "      <td>Bitcoin</td>\n",
       "      <td>2013-04-30</td>\n",
       "      <td>1</td>\n",
       "      <td>144.000000</td>\n",
       "      <td>146.930000</td>\n",
       "      <td>134.050000</td>\n",
       "      <td>139.000000</td>\n",
       "      <td>0.0</td>\n",
       "      <td>1.597780e+09</td>\n",
       "      <td>0.3843</td>\n",
       "      <td>12.88</td>\n",
       "    </tr>\n",
       "    <tr>\n",
       "      <th>3</th>\n",
       "      <td>bitcoin</td>\n",
       "      <td>BTC</td>\n",
       "      <td>Bitcoin</td>\n",
       "      <td>2013-05-01</td>\n",
       "      <td>1</td>\n",
       "      <td>139.000000</td>\n",
       "      <td>139.890000</td>\n",
       "      <td>107.720000</td>\n",
       "      <td>116.990000</td>\n",
       "      <td>0.0</td>\n",
       "      <td>1.542820e+09</td>\n",
       "      <td>0.2882</td>\n",
       "      <td>32.17</td>\n",
       "    </tr>\n",
       "    <tr>\n",
       "      <th>4</th>\n",
       "      <td>bitcoin</td>\n",
       "      <td>BTC</td>\n",
       "      <td>Bitcoin</td>\n",
       "      <td>2013-05-02</td>\n",
       "      <td>1</td>\n",
       "      <td>116.380000</td>\n",
       "      <td>125.600000</td>\n",
       "      <td>92.280000</td>\n",
       "      <td>105.210000</td>\n",
       "      <td>0.0</td>\n",
       "      <td>1.292190e+09</td>\n",
       "      <td>0.3881</td>\n",
       "      <td>33.32</td>\n",
       "    </tr>\n",
       "    <tr>\n",
       "      <th>5</th>\n",
       "      <td>bitcoin</td>\n",
       "      <td>BTC</td>\n",
       "      <td>Bitcoin</td>\n",
       "      <td>2013-05-03</td>\n",
       "      <td>1</td>\n",
       "      <td>106.250000</td>\n",
       "      <td>108.130000</td>\n",
       "      <td>79.100000</td>\n",
       "      <td>97.750000</td>\n",
       "      <td>0.0</td>\n",
       "      <td>1.180070e+09</td>\n",
       "      <td>0.6424</td>\n",
       "      <td>29.03</td>\n",
       "    </tr>\n",
       "    <tr>\n",
       "      <th>6</th>\n",
       "      <td>bitcoin</td>\n",
       "      <td>BTC</td>\n",
       "      <td>Bitcoin</td>\n",
       "      <td>2013-05-04</td>\n",
       "      <td>1</td>\n",
       "      <td>98.100000</td>\n",
       "      <td>115.000000</td>\n",
       "      <td>92.500000</td>\n",
       "      <td>112.500000</td>\n",
       "      <td>0.0</td>\n",
       "      <td>1.089890e+09</td>\n",
       "      <td>0.8889</td>\n",
       "      <td>22.50</td>\n",
       "    </tr>\n",
       "    <tr>\n",
       "      <th>7</th>\n",
       "      <td>bitcoin</td>\n",
       "      <td>BTC</td>\n",
       "      <td>Bitcoin</td>\n",
       "      <td>2013-05-05</td>\n",
       "      <td>1</td>\n",
       "      <td>112.900000</td>\n",
       "      <td>118.800000</td>\n",
       "      <td>107.140000</td>\n",
       "      <td>115.910000</td>\n",
       "      <td>0.0</td>\n",
       "      <td>1.254760e+09</td>\n",
       "      <td>0.7521</td>\n",
       "      <td>11.66</td>\n",
       "    </tr>\n",
       "    <tr>\n",
       "      <th>8</th>\n",
       "      <td>bitcoin</td>\n",
       "      <td>BTC</td>\n",
       "      <td>Bitcoin</td>\n",
       "      <td>2013-05-06</td>\n",
       "      <td>1</td>\n",
       "      <td>115.980000</td>\n",
       "      <td>124.660000</td>\n",
       "      <td>106.640000</td>\n",
       "      <td>112.300000</td>\n",
       "      <td>0.0</td>\n",
       "      <td>1.289470e+09</td>\n",
       "      <td>0.3141</td>\n",
       "      <td>18.02</td>\n",
       "    </tr>\n",
       "    <tr>\n",
       "      <th>9</th>\n",
       "      <td>bitcoin</td>\n",
       "      <td>BTC</td>\n",
       "      <td>Bitcoin</td>\n",
       "      <td>2013-05-07</td>\n",
       "      <td>1</td>\n",
       "      <td>112.250000</td>\n",
       "      <td>113.440000</td>\n",
       "      <td>97.700000</td>\n",
       "      <td>111.500000</td>\n",
       "      <td>0.0</td>\n",
       "      <td>1.248470e+09</td>\n",
       "      <td>0.8767</td>\n",
       "      <td>15.74</td>\n",
       "    </tr>\n",
       "    <tr>\n",
       "      <th>10</th>\n",
       "      <td>bitcoin</td>\n",
       "      <td>BTC</td>\n",
       "      <td>Bitcoin</td>\n",
       "      <td>2013-05-08</td>\n",
       "      <td>1</td>\n",
       "      <td>109.600000</td>\n",
       "      <td>115.780000</td>\n",
       "      <td>109.600000</td>\n",
       "      <td>113.570000</td>\n",
       "      <td>0.0</td>\n",
       "      <td>1.219450e+09</td>\n",
       "      <td>0.6424</td>\n",
       "      <td>6.18</td>\n",
       "    </tr>\n",
       "    <tr>\n",
       "      <th>11</th>\n",
       "      <td>bitcoin</td>\n",
       "      <td>BTC</td>\n",
       "      <td>Bitcoin</td>\n",
       "      <td>2013-05-09</td>\n",
       "      <td>1</td>\n",
       "      <td>113.200000</td>\n",
       "      <td>113.460000</td>\n",
       "      <td>109.260000</td>\n",
       "      <td>112.670000</td>\n",
       "      <td>0.0</td>\n",
       "      <td>1.259980e+09</td>\n",
       "      <td>0.8119</td>\n",
       "      <td>4.20</td>\n",
       "    </tr>\n",
       "    <tr>\n",
       "      <th>12</th>\n",
       "      <td>bitcoin</td>\n",
       "      <td>BTC</td>\n",
       "      <td>Bitcoin</td>\n",
       "      <td>2013-05-10</td>\n",
       "      <td>1</td>\n",
       "      <td>112.800000</td>\n",
       "      <td>122.000000</td>\n",
       "      <td>111.550000</td>\n",
       "      <td>117.200000</td>\n",
       "      <td>0.0</td>\n",
       "      <td>1.255970e+09</td>\n",
       "      <td>0.5407</td>\n",
       "      <td>10.45</td>\n",
       "    </tr>\n",
       "    <tr>\n",
       "      <th>13</th>\n",
       "      <td>bitcoin</td>\n",
       "      <td>BTC</td>\n",
       "      <td>Bitcoin</td>\n",
       "      <td>2013-05-11</td>\n",
       "      <td>1</td>\n",
       "      <td>117.700000</td>\n",
       "      <td>118.680000</td>\n",
       "      <td>113.010000</td>\n",
       "      <td>115.240000</td>\n",
       "      <td>0.0</td>\n",
       "      <td>1.311050e+09</td>\n",
       "      <td>0.3933</td>\n",
       "      <td>5.67</td>\n",
       "    </tr>\n",
       "    <tr>\n",
       "      <th>14</th>\n",
       "      <td>bitcoin</td>\n",
       "      <td>BTC</td>\n",
       "      <td>Bitcoin</td>\n",
       "      <td>2013-05-12</td>\n",
       "      <td>1</td>\n",
       "      <td>115.640000</td>\n",
       "      <td>117.450000</td>\n",
       "      <td>113.440000</td>\n",
       "      <td>115.000000</td>\n",
       "      <td>0.0</td>\n",
       "      <td>1.288630e+09</td>\n",
       "      <td>0.3890</td>\n",
       "      <td>4.01</td>\n",
       "    </tr>\n",
       "    <tr>\n",
       "      <th>15</th>\n",
       "      <td>bitcoin</td>\n",
       "      <td>BTC</td>\n",
       "      <td>Bitcoin</td>\n",
       "      <td>2013-05-13</td>\n",
       "      <td>1</td>\n",
       "      <td>114.820000</td>\n",
       "      <td>118.700000</td>\n",
       "      <td>114.500000</td>\n",
       "      <td>117.980000</td>\n",
       "      <td>0.0</td>\n",
       "      <td>1.279980e+09</td>\n",
       "      <td>0.8286</td>\n",
       "      <td>4.20</td>\n",
       "    </tr>\n",
       "    <tr>\n",
       "      <th>16</th>\n",
       "      <td>bitcoin</td>\n",
       "      <td>BTC</td>\n",
       "      <td>Bitcoin</td>\n",
       "      <td>2013-05-14</td>\n",
       "      <td>1</td>\n",
       "      <td>117.980000</td>\n",
       "      <td>119.800000</td>\n",
       "      <td>110.250000</td>\n",
       "      <td>111.500000</td>\n",
       "      <td>0.0</td>\n",
       "      <td>1.315720e+09</td>\n",
       "      <td>0.1309</td>\n",
       "      <td>9.55</td>\n",
       "    </tr>\n",
       "    <tr>\n",
       "      <th>17</th>\n",
       "      <td>bitcoin</td>\n",
       "      <td>BTC</td>\n",
       "      <td>Bitcoin</td>\n",
       "      <td>2013-05-15</td>\n",
       "      <td>1</td>\n",
       "      <td>111.400000</td>\n",
       "      <td>115.810000</td>\n",
       "      <td>103.500000</td>\n",
       "      <td>114.220000</td>\n",
       "      <td>0.0</td>\n",
       "      <td>1.242760e+09</td>\n",
       "      <td>0.8708</td>\n",
       "      <td>12.31</td>\n",
       "    </tr>\n",
       "    <tr>\n",
       "      <th>18</th>\n",
       "      <td>bitcoin</td>\n",
       "      <td>BTC</td>\n",
       "      <td>Bitcoin</td>\n",
       "      <td>2013-05-16</td>\n",
       "      <td>1</td>\n",
       "      <td>114.220000</td>\n",
       "      <td>118.760000</td>\n",
       "      <td>112.200000</td>\n",
       "      <td>118.760000</td>\n",
       "      <td>0.0</td>\n",
       "      <td>1.274620e+09</td>\n",
       "      <td>1.0000</td>\n",
       "      <td>6.56</td>\n",
       "    </tr>\n",
       "    <tr>\n",
       "      <th>19</th>\n",
       "      <td>bitcoin</td>\n",
       "      <td>BTC</td>\n",
       "      <td>Bitcoin</td>\n",
       "      <td>2013-05-17</td>\n",
       "      <td>1</td>\n",
       "      <td>118.210000</td>\n",
       "      <td>125.300000</td>\n",
       "      <td>116.570000</td>\n",
       "      <td>123.020000</td>\n",
       "      <td>0.0</td>\n",
       "      <td>1.319590e+09</td>\n",
       "      <td>0.7388</td>\n",
       "      <td>8.73</td>\n",
       "    </tr>\n",
       "    <tr>\n",
       "      <th>20</th>\n",
       "      <td>bitcoin</td>\n",
       "      <td>BTC</td>\n",
       "      <td>Bitcoin</td>\n",
       "      <td>2013-05-18</td>\n",
       "      <td>1</td>\n",
       "      <td>123.500000</td>\n",
       "      <td>125.250000</td>\n",
       "      <td>122.300000</td>\n",
       "      <td>123.500000</td>\n",
       "      <td>0.0</td>\n",
       "      <td>1.379140e+09</td>\n",
       "      <td>0.4068</td>\n",
       "      <td>2.95</td>\n",
       "    </tr>\n",
       "    <tr>\n",
       "      <th>21</th>\n",
       "      <td>bitcoin</td>\n",
       "      <td>BTC</td>\n",
       "      <td>Bitcoin</td>\n",
       "      <td>2013-05-19</td>\n",
       "      <td>1</td>\n",
       "      <td>123.210000</td>\n",
       "      <td>124.500000</td>\n",
       "      <td>119.570000</td>\n",
       "      <td>121.990000</td>\n",
       "      <td>0.0</td>\n",
       "      <td>1.376370e+09</td>\n",
       "      <td>0.4909</td>\n",
       "      <td>4.93</td>\n",
       "    </tr>\n",
       "    <tr>\n",
       "      <th>22</th>\n",
       "      <td>bitcoin</td>\n",
       "      <td>BTC</td>\n",
       "      <td>Bitcoin</td>\n",
       "      <td>2013-05-20</td>\n",
       "      <td>1</td>\n",
       "      <td>122.500000</td>\n",
       "      <td>123.620000</td>\n",
       "      <td>120.120000</td>\n",
       "      <td>122.000000</td>\n",
       "      <td>0.0</td>\n",
       "      <td>1.368910e+09</td>\n",
       "      <td>0.5371</td>\n",
       "      <td>3.50</td>\n",
       "    </tr>\n",
       "    <tr>\n",
       "      <th>23</th>\n",
       "      <td>bitcoin</td>\n",
       "      <td>BTC</td>\n",
       "      <td>Bitcoin</td>\n",
       "      <td>2013-05-21</td>\n",
       "      <td>1</td>\n",
       "      <td>122.020000</td>\n",
       "      <td>123.000000</td>\n",
       "      <td>121.210000</td>\n",
       "      <td>122.880000</td>\n",
       "      <td>0.0</td>\n",
       "      <td>1.363940e+09</td>\n",
       "      <td>0.9330</td>\n",
       "      <td>1.79</td>\n",
       "    </tr>\n",
       "    <tr>\n",
       "      <th>24</th>\n",
       "      <td>bitcoin</td>\n",
       "      <td>BTC</td>\n",
       "      <td>Bitcoin</td>\n",
       "      <td>2013-05-22</td>\n",
       "      <td>1</td>\n",
       "      <td>122.890000</td>\n",
       "      <td>124.000000</td>\n",
       "      <td>122.000000</td>\n",
       "      <td>123.890000</td>\n",
       "      <td>0.0</td>\n",
       "      <td>1.374130e+09</td>\n",
       "      <td>0.9450</td>\n",
       "      <td>2.00</td>\n",
       "    </tr>\n",
       "    <tr>\n",
       "      <th>25</th>\n",
       "      <td>bitcoin</td>\n",
       "      <td>BTC</td>\n",
       "      <td>Bitcoin</td>\n",
       "      <td>2013-05-23</td>\n",
       "      <td>1</td>\n",
       "      <td>123.800000</td>\n",
       "      <td>126.930000</td>\n",
       "      <td>123.100000</td>\n",
       "      <td>126.700000</td>\n",
       "      <td>0.0</td>\n",
       "      <td>1.384780e+09</td>\n",
       "      <td>0.9399</td>\n",
       "      <td>3.83</td>\n",
       "    </tr>\n",
       "    <tr>\n",
       "      <th>26</th>\n",
       "      <td>bitcoin</td>\n",
       "      <td>BTC</td>\n",
       "      <td>Bitcoin</td>\n",
       "      <td>2013-05-24</td>\n",
       "      <td>1</td>\n",
       "      <td>126.300000</td>\n",
       "      <td>133.850000</td>\n",
       "      <td>125.720000</td>\n",
       "      <td>133.200000</td>\n",
       "      <td>0.0</td>\n",
       "      <td>1.413300e+09</td>\n",
       "      <td>0.9200</td>\n",
       "      <td>8.13</td>\n",
       "    </tr>\n",
       "    <tr>\n",
       "      <th>27</th>\n",
       "      <td>bitcoin</td>\n",
       "      <td>BTC</td>\n",
       "      <td>Bitcoin</td>\n",
       "      <td>2013-05-25</td>\n",
       "      <td>1</td>\n",
       "      <td>133.100000</td>\n",
       "      <td>133.220000</td>\n",
       "      <td>128.900000</td>\n",
       "      <td>131.980000</td>\n",
       "      <td>0.0</td>\n",
       "      <td>1.489950e+09</td>\n",
       "      <td>0.7130</td>\n",
       "      <td>4.32</td>\n",
       "    </tr>\n",
       "    <tr>\n",
       "      <th>28</th>\n",
       "      <td>bitcoin</td>\n",
       "      <td>BTC</td>\n",
       "      <td>Bitcoin</td>\n",
       "      <td>2013-05-26</td>\n",
       "      <td>1</td>\n",
       "      <td>131.990000</td>\n",
       "      <td>136.000000</td>\n",
       "      <td>130.620000</td>\n",
       "      <td>133.480000</td>\n",
       "      <td>0.0</td>\n",
       "      <td>1.478030e+09</td>\n",
       "      <td>0.5316</td>\n",
       "      <td>5.38</td>\n",
       "    </tr>\n",
       "    <tr>\n",
       "      <th>29</th>\n",
       "      <td>bitcoin</td>\n",
       "      <td>BTC</td>\n",
       "      <td>Bitcoin</td>\n",
       "      <td>2013-05-27</td>\n",
       "      <td>1</td>\n",
       "      <td>133.500000</td>\n",
       "      <td>135.470000</td>\n",
       "      <td>124.700000</td>\n",
       "      <td>129.750000</td>\n",
       "      <td>0.0</td>\n",
       "      <td>1.495520e+09</td>\n",
       "      <td>0.4689</td>\n",
       "      <td>10.77</td>\n",
       "    </tr>\n",
       "    <tr>\n",
       "      <th>...</th>\n",
       "      <td>...</td>\n",
       "      <td>...</td>\n",
       "      <td>...</td>\n",
       "      <td>...</td>\n",
       "      <td>...</td>\n",
       "      <td>...</td>\n",
       "      <td>...</td>\n",
       "      <td>...</td>\n",
       "      <td>...</td>\n",
       "      <td>...</td>\n",
       "      <td>...</td>\n",
       "      <td>...</td>\n",
       "      <td>...</td>\n",
       "    </tr>\n",
       "    <tr>\n",
       "      <th>784994</th>\n",
       "      <td>jingtum-tech</td>\n",
       "      <td>SWTC</td>\n",
       "      <td>Jingtum Tech</td>\n",
       "      <td>2018-05-09</td>\n",
       "      <td>1644</td>\n",
       "      <td>0.006183</td>\n",
       "      <td>0.006197</td>\n",
       "      <td>0.006034</td>\n",
       "      <td>0.006059</td>\n",
       "      <td>86986.0</td>\n",
       "      <td>0.000000e+00</td>\n",
       "      <td>0.1534</td>\n",
       "      <td>0.00</td>\n",
       "    </tr>\n",
       "    <tr>\n",
       "      <th>784995</th>\n",
       "      <td>jingtum-tech</td>\n",
       "      <td>SWTC</td>\n",
       "      <td>Jingtum Tech</td>\n",
       "      <td>2018-05-10</td>\n",
       "      <td>1644</td>\n",
       "      <td>0.006160</td>\n",
       "      <td>0.006160</td>\n",
       "      <td>0.006047</td>\n",
       "      <td>0.006077</td>\n",
       "      <td>91476.0</td>\n",
       "      <td>0.000000e+00</td>\n",
       "      <td>0.2655</td>\n",
       "      <td>0.00</td>\n",
       "    </tr>\n",
       "    <tr>\n",
       "      <th>784996</th>\n",
       "      <td>jingtum-tech</td>\n",
       "      <td>SWTC</td>\n",
       "      <td>Jingtum Tech</td>\n",
       "      <td>2018-05-11</td>\n",
       "      <td>1644</td>\n",
       "      <td>0.006072</td>\n",
       "      <td>0.006081</td>\n",
       "      <td>0.005602</td>\n",
       "      <td>0.005700</td>\n",
       "      <td>101879.0</td>\n",
       "      <td>0.000000e+00</td>\n",
       "      <td>0.2046</td>\n",
       "      <td>0.00</td>\n",
       "    </tr>\n",
       "    <tr>\n",
       "      <th>784997</th>\n",
       "      <td>jingtum-tech</td>\n",
       "      <td>SWTC</td>\n",
       "      <td>Jingtum Tech</td>\n",
       "      <td>2018-05-12</td>\n",
       "      <td>1644</td>\n",
       "      <td>0.005700</td>\n",
       "      <td>0.006019</td>\n",
       "      <td>0.005505</td>\n",
       "      <td>0.005667</td>\n",
       "      <td>85542.0</td>\n",
       "      <td>0.000000e+00</td>\n",
       "      <td>0.3152</td>\n",
       "      <td>0.00</td>\n",
       "    </tr>\n",
       "    <tr>\n",
       "      <th>784998</th>\n",
       "      <td>jingtum-tech</td>\n",
       "      <td>SWTC</td>\n",
       "      <td>Jingtum Tech</td>\n",
       "      <td>2018-05-13</td>\n",
       "      <td>1644</td>\n",
       "      <td>0.005667</td>\n",
       "      <td>0.005670</td>\n",
       "      <td>0.005416</td>\n",
       "      <td>0.005565</td>\n",
       "      <td>90098.0</td>\n",
       "      <td>0.000000e+00</td>\n",
       "      <td>0.5866</td>\n",
       "      <td>0.00</td>\n",
       "    </tr>\n",
       "    <tr>\n",
       "      <th>784999</th>\n",
       "      <td>jingtum-tech</td>\n",
       "      <td>SWTC</td>\n",
       "      <td>Jingtum Tech</td>\n",
       "      <td>2018-05-14</td>\n",
       "      <td>1644</td>\n",
       "      <td>0.005564</td>\n",
       "      <td>0.005585</td>\n",
       "      <td>0.005210</td>\n",
       "      <td>0.005568</td>\n",
       "      <td>80558.0</td>\n",
       "      <td>0.000000e+00</td>\n",
       "      <td>0.9547</td>\n",
       "      <td>0.00</td>\n",
       "    </tr>\n",
       "    <tr>\n",
       "      <th>785000</th>\n",
       "      <td>jingtum-tech</td>\n",
       "      <td>SWTC</td>\n",
       "      <td>Jingtum Tech</td>\n",
       "      <td>2018-05-15</td>\n",
       "      <td>1644</td>\n",
       "      <td>0.005566</td>\n",
       "      <td>0.006918</td>\n",
       "      <td>0.005299</td>\n",
       "      <td>0.006660</td>\n",
       "      <td>202674.0</td>\n",
       "      <td>0.000000e+00</td>\n",
       "      <td>0.8406</td>\n",
       "      <td>0.00</td>\n",
       "    </tr>\n",
       "    <tr>\n",
       "      <th>785001</th>\n",
       "      <td>jingtum-tech</td>\n",
       "      <td>SWTC</td>\n",
       "      <td>Jingtum Tech</td>\n",
       "      <td>2018-05-16</td>\n",
       "      <td>1644</td>\n",
       "      <td>0.006600</td>\n",
       "      <td>0.006796</td>\n",
       "      <td>0.006164</td>\n",
       "      <td>0.006308</td>\n",
       "      <td>140899.0</td>\n",
       "      <td>0.000000e+00</td>\n",
       "      <td>0.2278</td>\n",
       "      <td>0.00</td>\n",
       "    </tr>\n",
       "    <tr>\n",
       "      <th>785002</th>\n",
       "      <td>jingtum-tech</td>\n",
       "      <td>SWTC</td>\n",
       "      <td>Jingtum Tech</td>\n",
       "      <td>2018-05-17</td>\n",
       "      <td>1644</td>\n",
       "      <td>0.006308</td>\n",
       "      <td>0.009284</td>\n",
       "      <td>0.006231</td>\n",
       "      <td>0.008647</td>\n",
       "      <td>493302.0</td>\n",
       "      <td>0.000000e+00</td>\n",
       "      <td>0.7914</td>\n",
       "      <td>0.00</td>\n",
       "    </tr>\n",
       "    <tr>\n",
       "      <th>785003</th>\n",
       "      <td>jingtum-tech</td>\n",
       "      <td>SWTC</td>\n",
       "      <td>Jingtum Tech</td>\n",
       "      <td>2018-05-18</td>\n",
       "      <td>1644</td>\n",
       "      <td>0.008648</td>\n",
       "      <td>0.010041</td>\n",
       "      <td>0.006500</td>\n",
       "      <td>0.007582</td>\n",
       "      <td>416570.0</td>\n",
       "      <td>0.000000e+00</td>\n",
       "      <td>0.3056</td>\n",
       "      <td>0.00</td>\n",
       "    </tr>\n",
       "    <tr>\n",
       "      <th>785004</th>\n",
       "      <td>jingtum-tech</td>\n",
       "      <td>SWTC</td>\n",
       "      <td>Jingtum Tech</td>\n",
       "      <td>2018-05-19</td>\n",
       "      <td>1644</td>\n",
       "      <td>0.007584</td>\n",
       "      <td>0.007597</td>\n",
       "      <td>0.006502</td>\n",
       "      <td>0.006807</td>\n",
       "      <td>96824.0</td>\n",
       "      <td>0.000000e+00</td>\n",
       "      <td>0.2785</td>\n",
       "      <td>0.00</td>\n",
       "    </tr>\n",
       "    <tr>\n",
       "      <th>785005</th>\n",
       "      <td>jingtum-tech</td>\n",
       "      <td>SWTC</td>\n",
       "      <td>Jingtum Tech</td>\n",
       "      <td>2018-05-20</td>\n",
       "      <td>1644</td>\n",
       "      <td>0.006807</td>\n",
       "      <td>0.007092</td>\n",
       "      <td>0.006806</td>\n",
       "      <td>0.006883</td>\n",
       "      <td>142333.0</td>\n",
       "      <td>0.000000e+00</td>\n",
       "      <td>0.2692</td>\n",
       "      <td>0.00</td>\n",
       "    </tr>\n",
       "    <tr>\n",
       "      <th>785006</th>\n",
       "      <td>jingtum-tech</td>\n",
       "      <td>SWTC</td>\n",
       "      <td>Jingtum Tech</td>\n",
       "      <td>2018-05-21</td>\n",
       "      <td>1644</td>\n",
       "      <td>0.006882</td>\n",
       "      <td>0.006896</td>\n",
       "      <td>0.006877</td>\n",
       "      <td>0.006891</td>\n",
       "      <td>142503.0</td>\n",
       "      <td>0.000000e+00</td>\n",
       "      <td>0.7368</td>\n",
       "      <td>0.00</td>\n",
       "    </tr>\n",
       "    <tr>\n",
       "      <th>785007</th>\n",
       "      <td>jingtum-tech</td>\n",
       "      <td>SWTC</td>\n",
       "      <td>Jingtum Tech</td>\n",
       "      <td>2018-05-22</td>\n",
       "      <td>1644</td>\n",
       "      <td>0.006250</td>\n",
       "      <td>0.006992</td>\n",
       "      <td>0.005994</td>\n",
       "      <td>0.005994</td>\n",
       "      <td>71278.0</td>\n",
       "      <td>0.000000e+00</td>\n",
       "      <td>0.0000</td>\n",
       "      <td>0.00</td>\n",
       "    </tr>\n",
       "    <tr>\n",
       "      <th>785008</th>\n",
       "      <td>jingtum-tech</td>\n",
       "      <td>SWTC</td>\n",
       "      <td>Jingtum Tech</td>\n",
       "      <td>2018-05-23</td>\n",
       "      <td>1644</td>\n",
       "      <td>0.005994</td>\n",
       "      <td>0.006195</td>\n",
       "      <td>0.005010</td>\n",
       "      <td>0.005785</td>\n",
       "      <td>245220.0</td>\n",
       "      <td>0.000000e+00</td>\n",
       "      <td>0.6540</td>\n",
       "      <td>0.00</td>\n",
       "    </tr>\n",
       "    <tr>\n",
       "      <th>785009</th>\n",
       "      <td>jingtum-tech</td>\n",
       "      <td>SWTC</td>\n",
       "      <td>Jingtum Tech</td>\n",
       "      <td>2018-05-24</td>\n",
       "      <td>1644</td>\n",
       "      <td>0.005785</td>\n",
       "      <td>0.005880</td>\n",
       "      <td>0.005099</td>\n",
       "      <td>0.005692</td>\n",
       "      <td>285669.0</td>\n",
       "      <td>0.000000e+00</td>\n",
       "      <td>0.7593</td>\n",
       "      <td>0.00</td>\n",
       "    </tr>\n",
       "    <tr>\n",
       "      <th>785010</th>\n",
       "      <td>aston</td>\n",
       "      <td>ATX</td>\n",
       "      <td>Aston</td>\n",
       "      <td>2018-05-11</td>\n",
       "      <td>1645</td>\n",
       "      <td>0.165137</td>\n",
       "      <td>0.169753</td>\n",
       "      <td>0.165137</td>\n",
       "      <td>0.168394</td>\n",
       "      <td>3449410.0</td>\n",
       "      <td>0.000000e+00</td>\n",
       "      <td>0.7056</td>\n",
       "      <td>0.00</td>\n",
       "    </tr>\n",
       "    <tr>\n",
       "      <th>785011</th>\n",
       "      <td>aston</td>\n",
       "      <td>ATX</td>\n",
       "      <td>Aston</td>\n",
       "      <td>2018-05-12</td>\n",
       "      <td>1645</td>\n",
       "      <td>0.166220</td>\n",
       "      <td>0.252689</td>\n",
       "      <td>0.166220</td>\n",
       "      <td>0.248275</td>\n",
       "      <td>5495050.0</td>\n",
       "      <td>0.000000e+00</td>\n",
       "      <td>0.9490</td>\n",
       "      <td>0.09</td>\n",
       "    </tr>\n",
       "    <tr>\n",
       "      <th>785012</th>\n",
       "      <td>aston</td>\n",
       "      <td>ATX</td>\n",
       "      <td>Aston</td>\n",
       "      <td>2018-05-13</td>\n",
       "      <td>1645</td>\n",
       "      <td>0.251915</td>\n",
       "      <td>0.266767</td>\n",
       "      <td>0.190654</td>\n",
       "      <td>0.223815</td>\n",
       "      <td>4363120.0</td>\n",
       "      <td>0.000000e+00</td>\n",
       "      <td>0.4357</td>\n",
       "      <td>0.08</td>\n",
       "    </tr>\n",
       "    <tr>\n",
       "      <th>785013</th>\n",
       "      <td>aston</td>\n",
       "      <td>ATX</td>\n",
       "      <td>Aston</td>\n",
       "      <td>2018-05-14</td>\n",
       "      <td>1645</td>\n",
       "      <td>0.230032</td>\n",
       "      <td>0.235026</td>\n",
       "      <td>0.199848</td>\n",
       "      <td>0.211586</td>\n",
       "      <td>2637030.0</td>\n",
       "      <td>0.000000e+00</td>\n",
       "      <td>0.3337</td>\n",
       "      <td>0.04</td>\n",
       "    </tr>\n",
       "    <tr>\n",
       "      <th>785014</th>\n",
       "      <td>aston</td>\n",
       "      <td>ATX</td>\n",
       "      <td>Aston</td>\n",
       "      <td>2018-05-15</td>\n",
       "      <td>1645</td>\n",
       "      <td>0.211310</td>\n",
       "      <td>0.232529</td>\n",
       "      <td>0.169484</td>\n",
       "      <td>0.192747</td>\n",
       "      <td>2237920.0</td>\n",
       "      <td>0.000000e+00</td>\n",
       "      <td>0.3690</td>\n",
       "      <td>0.06</td>\n",
       "    </tr>\n",
       "    <tr>\n",
       "      <th>785015</th>\n",
       "      <td>aston</td>\n",
       "      <td>ATX</td>\n",
       "      <td>Aston</td>\n",
       "      <td>2018-05-16</td>\n",
       "      <td>1645</td>\n",
       "      <td>0.192636</td>\n",
       "      <td>0.215440</td>\n",
       "      <td>0.161388</td>\n",
       "      <td>0.204076</td>\n",
       "      <td>2173870.0</td>\n",
       "      <td>0.000000e+00</td>\n",
       "      <td>0.7898</td>\n",
       "      <td>0.05</td>\n",
       "    </tr>\n",
       "    <tr>\n",
       "      <th>785016</th>\n",
       "      <td>aston</td>\n",
       "      <td>ATX</td>\n",
       "      <td>Aston</td>\n",
       "      <td>2018-05-17</td>\n",
       "      <td>1645</td>\n",
       "      <td>0.203366</td>\n",
       "      <td>0.224843</td>\n",
       "      <td>0.180957</td>\n",
       "      <td>0.182081</td>\n",
       "      <td>1911050.0</td>\n",
       "      <td>0.000000e+00</td>\n",
       "      <td>0.0256</td>\n",
       "      <td>0.04</td>\n",
       "    </tr>\n",
       "    <tr>\n",
       "      <th>785017</th>\n",
       "      <td>aston</td>\n",
       "      <td>ATX</td>\n",
       "      <td>Aston</td>\n",
       "      <td>2018-05-18</td>\n",
       "      <td>1645</td>\n",
       "      <td>0.184179</td>\n",
       "      <td>0.185596</td>\n",
       "      <td>0.152549</td>\n",
       "      <td>0.180460</td>\n",
       "      <td>2004120.0</td>\n",
       "      <td>0.000000e+00</td>\n",
       "      <td>0.8446</td>\n",
       "      <td>0.03</td>\n",
       "    </tr>\n",
       "    <tr>\n",
       "      <th>785018</th>\n",
       "      <td>aston</td>\n",
       "      <td>ATX</td>\n",
       "      <td>Aston</td>\n",
       "      <td>2018-05-19</td>\n",
       "      <td>1645</td>\n",
       "      <td>0.180433</td>\n",
       "      <td>0.180591</td>\n",
       "      <td>0.158397</td>\n",
       "      <td>0.174013</td>\n",
       "      <td>925414.0</td>\n",
       "      <td>0.000000e+00</td>\n",
       "      <td>0.7036</td>\n",
       "      <td>0.02</td>\n",
       "    </tr>\n",
       "    <tr>\n",
       "      <th>785019</th>\n",
       "      <td>aston</td>\n",
       "      <td>ATX</td>\n",
       "      <td>Aston</td>\n",
       "      <td>2018-05-20</td>\n",
       "      <td>1645</td>\n",
       "      <td>0.174143</td>\n",
       "      <td>0.174143</td>\n",
       "      <td>0.157184</td>\n",
       "      <td>0.167866</td>\n",
       "      <td>854900.0</td>\n",
       "      <td>0.000000e+00</td>\n",
       "      <td>0.6299</td>\n",
       "      <td>0.02</td>\n",
       "    </tr>\n",
       "    <tr>\n",
       "      <th>785020</th>\n",
       "      <td>aston</td>\n",
       "      <td>ATX</td>\n",
       "      <td>Aston</td>\n",
       "      <td>2018-05-21</td>\n",
       "      <td>1645</td>\n",
       "      <td>0.168075</td>\n",
       "      <td>0.169099</td>\n",
       "      <td>0.165706</td>\n",
       "      <td>0.166054</td>\n",
       "      <td>845673.0</td>\n",
       "      <td>0.000000e+00</td>\n",
       "      <td>0.1026</td>\n",
       "      <td>0.00</td>\n",
       "    </tr>\n",
       "    <tr>\n",
       "      <th>785021</th>\n",
       "      <td>aston</td>\n",
       "      <td>ATX</td>\n",
       "      <td>Aston</td>\n",
       "      <td>2018-05-22</td>\n",
       "      <td>1645</td>\n",
       "      <td>0.156766</td>\n",
       "      <td>0.157625</td>\n",
       "      <td>0.142146</td>\n",
       "      <td>0.150380</td>\n",
       "      <td>486511.0</td>\n",
       "      <td>0.000000e+00</td>\n",
       "      <td>0.5319</td>\n",
       "      <td>0.02</td>\n",
       "    </tr>\n",
       "    <tr>\n",
       "      <th>785022</th>\n",
       "      <td>aston</td>\n",
       "      <td>ATX</td>\n",
       "      <td>Aston</td>\n",
       "      <td>2018-05-23</td>\n",
       "      <td>1645</td>\n",
       "      <td>0.147663</td>\n",
       "      <td>0.169331</td>\n",
       "      <td>0.131630</td>\n",
       "      <td>0.138031</td>\n",
       "      <td>1411730.0</td>\n",
       "      <td>0.000000e+00</td>\n",
       "      <td>0.1698</td>\n",
       "      <td>0.04</td>\n",
       "    </tr>\n",
       "    <tr>\n",
       "      <th>785023</th>\n",
       "      <td>aston</td>\n",
       "      <td>ATX</td>\n",
       "      <td>Aston</td>\n",
       "      <td>2018-05-24</td>\n",
       "      <td>1645</td>\n",
       "      <td>0.142871</td>\n",
       "      <td>0.157774</td>\n",
       "      <td>0.139641</td>\n",
       "      <td>0.148132</td>\n",
       "      <td>821824.0</td>\n",
       "      <td>0.000000e+00</td>\n",
       "      <td>0.4683</td>\n",
       "      <td>0.02</td>\n",
       "    </tr>\n",
       "  </tbody>\n",
       "</table>\n",
       "<p>785024 rows × 13 columns</p>\n",
       "</div>"
      ],
      "text/plain": [
       "                slug symbol          name        date  ranknow        open  \\\n",
       "0            bitcoin    BTC       Bitcoin  2013-04-28        1  135.300000   \n",
       "1            bitcoin    BTC       Bitcoin  2013-04-29        1  134.440000   \n",
       "2            bitcoin    BTC       Bitcoin  2013-04-30        1  144.000000   \n",
       "3            bitcoin    BTC       Bitcoin  2013-05-01        1  139.000000   \n",
       "4            bitcoin    BTC       Bitcoin  2013-05-02        1  116.380000   \n",
       "5            bitcoin    BTC       Bitcoin  2013-05-03        1  106.250000   \n",
       "6            bitcoin    BTC       Bitcoin  2013-05-04        1   98.100000   \n",
       "7            bitcoin    BTC       Bitcoin  2013-05-05        1  112.900000   \n",
       "8            bitcoin    BTC       Bitcoin  2013-05-06        1  115.980000   \n",
       "9            bitcoin    BTC       Bitcoin  2013-05-07        1  112.250000   \n",
       "10           bitcoin    BTC       Bitcoin  2013-05-08        1  109.600000   \n",
       "11           bitcoin    BTC       Bitcoin  2013-05-09        1  113.200000   \n",
       "12           bitcoin    BTC       Bitcoin  2013-05-10        1  112.800000   \n",
       "13           bitcoin    BTC       Bitcoin  2013-05-11        1  117.700000   \n",
       "14           bitcoin    BTC       Bitcoin  2013-05-12        1  115.640000   \n",
       "15           bitcoin    BTC       Bitcoin  2013-05-13        1  114.820000   \n",
       "16           bitcoin    BTC       Bitcoin  2013-05-14        1  117.980000   \n",
       "17           bitcoin    BTC       Bitcoin  2013-05-15        1  111.400000   \n",
       "18           bitcoin    BTC       Bitcoin  2013-05-16        1  114.220000   \n",
       "19           bitcoin    BTC       Bitcoin  2013-05-17        1  118.210000   \n",
       "20           bitcoin    BTC       Bitcoin  2013-05-18        1  123.500000   \n",
       "21           bitcoin    BTC       Bitcoin  2013-05-19        1  123.210000   \n",
       "22           bitcoin    BTC       Bitcoin  2013-05-20        1  122.500000   \n",
       "23           bitcoin    BTC       Bitcoin  2013-05-21        1  122.020000   \n",
       "24           bitcoin    BTC       Bitcoin  2013-05-22        1  122.890000   \n",
       "25           bitcoin    BTC       Bitcoin  2013-05-23        1  123.800000   \n",
       "26           bitcoin    BTC       Bitcoin  2013-05-24        1  126.300000   \n",
       "27           bitcoin    BTC       Bitcoin  2013-05-25        1  133.100000   \n",
       "28           bitcoin    BTC       Bitcoin  2013-05-26        1  131.990000   \n",
       "29           bitcoin    BTC       Bitcoin  2013-05-27        1  133.500000   \n",
       "...              ...    ...           ...         ...      ...         ...   \n",
       "784994  jingtum-tech   SWTC  Jingtum Tech  2018-05-09     1644    0.006183   \n",
       "784995  jingtum-tech   SWTC  Jingtum Tech  2018-05-10     1644    0.006160   \n",
       "784996  jingtum-tech   SWTC  Jingtum Tech  2018-05-11     1644    0.006072   \n",
       "784997  jingtum-tech   SWTC  Jingtum Tech  2018-05-12     1644    0.005700   \n",
       "784998  jingtum-tech   SWTC  Jingtum Tech  2018-05-13     1644    0.005667   \n",
       "784999  jingtum-tech   SWTC  Jingtum Tech  2018-05-14     1644    0.005564   \n",
       "785000  jingtum-tech   SWTC  Jingtum Tech  2018-05-15     1644    0.005566   \n",
       "785001  jingtum-tech   SWTC  Jingtum Tech  2018-05-16     1644    0.006600   \n",
       "785002  jingtum-tech   SWTC  Jingtum Tech  2018-05-17     1644    0.006308   \n",
       "785003  jingtum-tech   SWTC  Jingtum Tech  2018-05-18     1644    0.008648   \n",
       "785004  jingtum-tech   SWTC  Jingtum Tech  2018-05-19     1644    0.007584   \n",
       "785005  jingtum-tech   SWTC  Jingtum Tech  2018-05-20     1644    0.006807   \n",
       "785006  jingtum-tech   SWTC  Jingtum Tech  2018-05-21     1644    0.006882   \n",
       "785007  jingtum-tech   SWTC  Jingtum Tech  2018-05-22     1644    0.006250   \n",
       "785008  jingtum-tech   SWTC  Jingtum Tech  2018-05-23     1644    0.005994   \n",
       "785009  jingtum-tech   SWTC  Jingtum Tech  2018-05-24     1644    0.005785   \n",
       "785010         aston    ATX         Aston  2018-05-11     1645    0.165137   \n",
       "785011         aston    ATX         Aston  2018-05-12     1645    0.166220   \n",
       "785012         aston    ATX         Aston  2018-05-13     1645    0.251915   \n",
       "785013         aston    ATX         Aston  2018-05-14     1645    0.230032   \n",
       "785014         aston    ATX         Aston  2018-05-15     1645    0.211310   \n",
       "785015         aston    ATX         Aston  2018-05-16     1645    0.192636   \n",
       "785016         aston    ATX         Aston  2018-05-17     1645    0.203366   \n",
       "785017         aston    ATX         Aston  2018-05-18     1645    0.184179   \n",
       "785018         aston    ATX         Aston  2018-05-19     1645    0.180433   \n",
       "785019         aston    ATX         Aston  2018-05-20     1645    0.174143   \n",
       "785020         aston    ATX         Aston  2018-05-21     1645    0.168075   \n",
       "785021         aston    ATX         Aston  2018-05-22     1645    0.156766   \n",
       "785022         aston    ATX         Aston  2018-05-23     1645    0.147663   \n",
       "785023         aston    ATX         Aston  2018-05-24     1645    0.142871   \n",
       "\n",
       "              high         low       close     volume        market  \\\n",
       "0       135.980000  132.100000  134.210000        0.0  1.500520e+09   \n",
       "1       147.490000  134.000000  144.540000        0.0  1.491160e+09   \n",
       "2       146.930000  134.050000  139.000000        0.0  1.597780e+09   \n",
       "3       139.890000  107.720000  116.990000        0.0  1.542820e+09   \n",
       "4       125.600000   92.280000  105.210000        0.0  1.292190e+09   \n",
       "5       108.130000   79.100000   97.750000        0.0  1.180070e+09   \n",
       "6       115.000000   92.500000  112.500000        0.0  1.089890e+09   \n",
       "7       118.800000  107.140000  115.910000        0.0  1.254760e+09   \n",
       "8       124.660000  106.640000  112.300000        0.0  1.289470e+09   \n",
       "9       113.440000   97.700000  111.500000        0.0  1.248470e+09   \n",
       "10      115.780000  109.600000  113.570000        0.0  1.219450e+09   \n",
       "11      113.460000  109.260000  112.670000        0.0  1.259980e+09   \n",
       "12      122.000000  111.550000  117.200000        0.0  1.255970e+09   \n",
       "13      118.680000  113.010000  115.240000        0.0  1.311050e+09   \n",
       "14      117.450000  113.440000  115.000000        0.0  1.288630e+09   \n",
       "15      118.700000  114.500000  117.980000        0.0  1.279980e+09   \n",
       "16      119.800000  110.250000  111.500000        0.0  1.315720e+09   \n",
       "17      115.810000  103.500000  114.220000        0.0  1.242760e+09   \n",
       "18      118.760000  112.200000  118.760000        0.0  1.274620e+09   \n",
       "19      125.300000  116.570000  123.020000        0.0  1.319590e+09   \n",
       "20      125.250000  122.300000  123.500000        0.0  1.379140e+09   \n",
       "21      124.500000  119.570000  121.990000        0.0  1.376370e+09   \n",
       "22      123.620000  120.120000  122.000000        0.0  1.368910e+09   \n",
       "23      123.000000  121.210000  122.880000        0.0  1.363940e+09   \n",
       "24      124.000000  122.000000  123.890000        0.0  1.374130e+09   \n",
       "25      126.930000  123.100000  126.700000        0.0  1.384780e+09   \n",
       "26      133.850000  125.720000  133.200000        0.0  1.413300e+09   \n",
       "27      133.220000  128.900000  131.980000        0.0  1.489950e+09   \n",
       "28      136.000000  130.620000  133.480000        0.0  1.478030e+09   \n",
       "29      135.470000  124.700000  129.750000        0.0  1.495520e+09   \n",
       "...            ...         ...         ...        ...           ...   \n",
       "784994    0.006197    0.006034    0.006059    86986.0  0.000000e+00   \n",
       "784995    0.006160    0.006047    0.006077    91476.0  0.000000e+00   \n",
       "784996    0.006081    0.005602    0.005700   101879.0  0.000000e+00   \n",
       "784997    0.006019    0.005505    0.005667    85542.0  0.000000e+00   \n",
       "784998    0.005670    0.005416    0.005565    90098.0  0.000000e+00   \n",
       "784999    0.005585    0.005210    0.005568    80558.0  0.000000e+00   \n",
       "785000    0.006918    0.005299    0.006660   202674.0  0.000000e+00   \n",
       "785001    0.006796    0.006164    0.006308   140899.0  0.000000e+00   \n",
       "785002    0.009284    0.006231    0.008647   493302.0  0.000000e+00   \n",
       "785003    0.010041    0.006500    0.007582   416570.0  0.000000e+00   \n",
       "785004    0.007597    0.006502    0.006807    96824.0  0.000000e+00   \n",
       "785005    0.007092    0.006806    0.006883   142333.0  0.000000e+00   \n",
       "785006    0.006896    0.006877    0.006891   142503.0  0.000000e+00   \n",
       "785007    0.006992    0.005994    0.005994    71278.0  0.000000e+00   \n",
       "785008    0.006195    0.005010    0.005785   245220.0  0.000000e+00   \n",
       "785009    0.005880    0.005099    0.005692   285669.0  0.000000e+00   \n",
       "785010    0.169753    0.165137    0.168394  3449410.0  0.000000e+00   \n",
       "785011    0.252689    0.166220    0.248275  5495050.0  0.000000e+00   \n",
       "785012    0.266767    0.190654    0.223815  4363120.0  0.000000e+00   \n",
       "785013    0.235026    0.199848    0.211586  2637030.0  0.000000e+00   \n",
       "785014    0.232529    0.169484    0.192747  2237920.0  0.000000e+00   \n",
       "785015    0.215440    0.161388    0.204076  2173870.0  0.000000e+00   \n",
       "785016    0.224843    0.180957    0.182081  1911050.0  0.000000e+00   \n",
       "785017    0.185596    0.152549    0.180460  2004120.0  0.000000e+00   \n",
       "785018    0.180591    0.158397    0.174013   925414.0  0.000000e+00   \n",
       "785019    0.174143    0.157184    0.167866   854900.0  0.000000e+00   \n",
       "785020    0.169099    0.165706    0.166054   845673.0  0.000000e+00   \n",
       "785021    0.157625    0.142146    0.150380   486511.0  0.000000e+00   \n",
       "785022    0.169331    0.131630    0.138031  1411730.0  0.000000e+00   \n",
       "785023    0.157774    0.139641    0.148132   821824.0  0.000000e+00   \n",
       "\n",
       "        close_ratio  spread  \n",
       "0            0.5438    3.88  \n",
       "1            0.7813   13.49  \n",
       "2            0.3843   12.88  \n",
       "3            0.2882   32.17  \n",
       "4            0.3881   33.32  \n",
       "5            0.6424   29.03  \n",
       "6            0.8889   22.50  \n",
       "7            0.7521   11.66  \n",
       "8            0.3141   18.02  \n",
       "9            0.8767   15.74  \n",
       "10           0.6424    6.18  \n",
       "11           0.8119    4.20  \n",
       "12           0.5407   10.45  \n",
       "13           0.3933    5.67  \n",
       "14           0.3890    4.01  \n",
       "15           0.8286    4.20  \n",
       "16           0.1309    9.55  \n",
       "17           0.8708   12.31  \n",
       "18           1.0000    6.56  \n",
       "19           0.7388    8.73  \n",
       "20           0.4068    2.95  \n",
       "21           0.4909    4.93  \n",
       "22           0.5371    3.50  \n",
       "23           0.9330    1.79  \n",
       "24           0.9450    2.00  \n",
       "25           0.9399    3.83  \n",
       "26           0.9200    8.13  \n",
       "27           0.7130    4.32  \n",
       "28           0.5316    5.38  \n",
       "29           0.4689   10.77  \n",
       "...             ...     ...  \n",
       "784994       0.1534    0.00  \n",
       "784995       0.2655    0.00  \n",
       "784996       0.2046    0.00  \n",
       "784997       0.3152    0.00  \n",
       "784998       0.5866    0.00  \n",
       "784999       0.9547    0.00  \n",
       "785000       0.8406    0.00  \n",
       "785001       0.2278    0.00  \n",
       "785002       0.7914    0.00  \n",
       "785003       0.3056    0.00  \n",
       "785004       0.2785    0.00  \n",
       "785005       0.2692    0.00  \n",
       "785006       0.7368    0.00  \n",
       "785007       0.0000    0.00  \n",
       "785008       0.6540    0.00  \n",
       "785009       0.7593    0.00  \n",
       "785010       0.7056    0.00  \n",
       "785011       0.9490    0.09  \n",
       "785012       0.4357    0.08  \n",
       "785013       0.3337    0.04  \n",
       "785014       0.3690    0.06  \n",
       "785015       0.7898    0.05  \n",
       "785016       0.0256    0.04  \n",
       "785017       0.8446    0.03  \n",
       "785018       0.7036    0.02  \n",
       "785019       0.6299    0.02  \n",
       "785020       0.1026    0.00  \n",
       "785021       0.5319    0.02  \n",
       "785022       0.1698    0.04  \n",
       "785023       0.4683    0.02  \n",
       "\n",
       "[785024 rows x 13 columns]"
      ]
     },
     "execution_count": 14,
     "metadata": {},
     "output_type": "execute_result"
    }
   ],
   "source": [
    "crp = pd.read_csv('crypto-markets.csv')\n",
    "crp"
   ]
  },
  {
   "cell_type": "code",
   "execution_count": 4,
   "metadata": {},
   "outputs": [
    {
     "data": {
      "text/html": [
       "<div>\n",
       "<style scoped>\n",
       "    .dataframe tbody tr th:only-of-type {\n",
       "        vertical-align: middle;\n",
       "    }\n",
       "\n",
       "    .dataframe tbody tr th {\n",
       "        vertical-align: top;\n",
       "    }\n",
       "\n",
       "    .dataframe thead th {\n",
       "        text-align: right;\n",
       "    }\n",
       "</style>\n",
       "<table border=\"1\" class=\"dataframe\">\n",
       "  <thead>\n",
       "    <tr style=\"text-align: right;\">\n",
       "      <th></th>\n",
       "      <th>ranknow</th>\n",
       "      <th>open</th>\n",
       "      <th>high</th>\n",
       "      <th>low</th>\n",
       "      <th>close</th>\n",
       "      <th>volume</th>\n",
       "      <th>market</th>\n",
       "      <th>close_ratio</th>\n",
       "      <th>spread</th>\n",
       "    </tr>\n",
       "  </thead>\n",
       "  <tbody>\n",
       "    <tr>\n",
       "      <th>count</th>\n",
       "      <td>785024.000000</td>\n",
       "      <td>7.850240e+05</td>\n",
       "      <td>7.850240e+05</td>\n",
       "      <td>7.850240e+05</td>\n",
       "      <td>7.850240e+05</td>\n",
       "      <td>7.850240e+05</td>\n",
       "      <td>7.850240e+05</td>\n",
       "      <td>7.850240e+05</td>\n",
       "      <td>7.850240e+05</td>\n",
       "    </tr>\n",
       "    <tr>\n",
       "      <th>mean</th>\n",
       "      <td>842.650876</td>\n",
       "      <td>3.550859e+02</td>\n",
       "      <td>4.233219e+02</td>\n",
       "      <td>2.980848e+02</td>\n",
       "      <td>3.536499e+02</td>\n",
       "      <td>7.459260e+06</td>\n",
       "      <td>1.563100e+08</td>\n",
       "      <td>-inf</td>\n",
       "      <td>1.252368e+02</td>\n",
       "    </tr>\n",
       "    <tr>\n",
       "      <th>std</th>\n",
       "      <td>452.624872</td>\n",
       "      <td>1.403939e+04</td>\n",
       "      <td>1.733459e+04</td>\n",
       "      <td>1.157055e+04</td>\n",
       "      <td>1.396510e+04</td>\n",
       "      <td>1.817992e+08</td>\n",
       "      <td>3.478147e+09</td>\n",
       "      <td>NaN</td>\n",
       "      <td>7.379191e+03</td>\n",
       "    </tr>\n",
       "    <tr>\n",
       "      <th>min</th>\n",
       "      <td>1.000000</td>\n",
       "      <td>2.500000e-09</td>\n",
       "      <td>3.200000e-09</td>\n",
       "      <td>9.200000e-14</td>\n",
       "      <td>0.000000e+00</td>\n",
       "      <td>0.000000e+00</td>\n",
       "      <td>0.000000e+00</td>\n",
       "      <td>-inf</td>\n",
       "      <td>0.000000e+00</td>\n",
       "    </tr>\n",
       "    <tr>\n",
       "      <th>25%</th>\n",
       "      <td>472.000000</td>\n",
       "      <td>1.117000e-03</td>\n",
       "      <td>1.305000e-03</td>\n",
       "      <td>9.630000e-04</td>\n",
       "      <td>1.119000e-03</td>\n",
       "      <td>6.400000e+01</td>\n",
       "      <td>1.294600e+04</td>\n",
       "      <td>1.552000e-01</td>\n",
       "      <td>0.000000e+00</td>\n",
       "    </tr>\n",
       "    <tr>\n",
       "      <th>50%</th>\n",
       "      <td>910.000000</td>\n",
       "      <td>1.723150e-02</td>\n",
       "      <td>1.980350e-02</td>\n",
       "      <td>1.511100e-02</td>\n",
       "      <td>1.723000e-02</td>\n",
       "      <td>1.201000e+03</td>\n",
       "      <td>1.932045e+05</td>\n",
       "      <td>4.342000e-01</td>\n",
       "      <td>0.000000e+00</td>\n",
       "    </tr>\n",
       "    <tr>\n",
       "      <th>75%</th>\n",
       "      <td>1185.000000</td>\n",
       "      <td>2.159187e-01</td>\n",
       "      <td>2.424478e-01</td>\n",
       "      <td>1.915900e-01</td>\n",
       "      <td>2.156592e-01</td>\n",
       "      <td>3.963225e+04</td>\n",
       "      <td>3.635550e+06</td>\n",
       "      <td>7.586000e-01</td>\n",
       "      <td>4.000000e-02</td>\n",
       "    </tr>\n",
       "    <tr>\n",
       "      <th>max</th>\n",
       "      <td>1645.000000</td>\n",
       "      <td>2.298390e+06</td>\n",
       "      <td>2.926100e+06</td>\n",
       "      <td>2.030590e+06</td>\n",
       "      <td>2.300740e+06</td>\n",
       "      <td>2.384090e+10</td>\n",
       "      <td>3.261410e+11</td>\n",
       "      <td>1.000000e+00</td>\n",
       "      <td>1.770563e+06</td>\n",
       "    </tr>\n",
       "  </tbody>\n",
       "</table>\n",
       "</div>"
      ],
      "text/plain": [
       "             ranknow          open          high           low         close  \\\n",
       "count  785024.000000  7.850240e+05  7.850240e+05  7.850240e+05  7.850240e+05   \n",
       "mean      842.650876  3.550859e+02  4.233219e+02  2.980848e+02  3.536499e+02   \n",
       "std       452.624872  1.403939e+04  1.733459e+04  1.157055e+04  1.396510e+04   \n",
       "min         1.000000  2.500000e-09  3.200000e-09  9.200000e-14  0.000000e+00   \n",
       "25%       472.000000  1.117000e-03  1.305000e-03  9.630000e-04  1.119000e-03   \n",
       "50%       910.000000  1.723150e-02  1.980350e-02  1.511100e-02  1.723000e-02   \n",
       "75%      1185.000000  2.159187e-01  2.424478e-01  1.915900e-01  2.156592e-01   \n",
       "max      1645.000000  2.298390e+06  2.926100e+06  2.030590e+06  2.300740e+06   \n",
       "\n",
       "             volume        market   close_ratio        spread  \n",
       "count  7.850240e+05  7.850240e+05  7.850240e+05  7.850240e+05  \n",
       "mean   7.459260e+06  1.563100e+08          -inf  1.252368e+02  \n",
       "std    1.817992e+08  3.478147e+09           NaN  7.379191e+03  \n",
       "min    0.000000e+00  0.000000e+00          -inf  0.000000e+00  \n",
       "25%    6.400000e+01  1.294600e+04  1.552000e-01  0.000000e+00  \n",
       "50%    1.201000e+03  1.932045e+05  4.342000e-01  0.000000e+00  \n",
       "75%    3.963225e+04  3.635550e+06  7.586000e-01  4.000000e-02  \n",
       "max    2.384090e+10  3.261410e+11  1.000000e+00  1.770563e+06  "
      ]
     },
     "execution_count": 4,
     "metadata": {},
     "output_type": "execute_result"
    }
   ],
   "source": [
    "crp.describe()"
   ]
  },
  {
   "cell_type": "code",
   "execution_count": 5,
   "metadata": {},
   "outputs": [],
   "source": [
    "crp1 = crp[crp['ranknow']==1]\n",
    "crp2 = crp[crp['ranknow']==2]\n",
    "crp3 = crp[crp['ranknow']==3]\n",
    "crp4 = crp[crp['ranknow']==4]\n",
    "crp5 = crp[crp['ranknow']==5]"
   ]
  },
  {
   "cell_type": "code",
   "execution_count": 6,
   "metadata": {},
   "outputs": [
    {
     "data": {
      "text/html": [
       "<div>\n",
       "<style scoped>\n",
       "    .dataframe tbody tr th:only-of-type {\n",
       "        vertical-align: middle;\n",
       "    }\n",
       "\n",
       "    .dataframe tbody tr th {\n",
       "        vertical-align: top;\n",
       "    }\n",
       "\n",
       "    .dataframe thead tr th {\n",
       "        text-align: left;\n",
       "    }\n",
       "\n",
       "    .dataframe thead tr:last-of-type th {\n",
       "        text-align: right;\n",
       "    }\n",
       "</style>\n",
       "<table border=\"1\" class=\"dataframe\">\n",
       "  <thead>\n",
       "    <tr>\n",
       "      <th></th>\n",
       "      <th colspan=\"8\" halign=\"left\">low</th>\n",
       "    </tr>\n",
       "    <tr>\n",
       "      <th></th>\n",
       "      <th>count</th>\n",
       "      <th>mean</th>\n",
       "      <th>std</th>\n",
       "      <th>min</th>\n",
       "      <th>25%</th>\n",
       "      <th>50%</th>\n",
       "      <th>75%</th>\n",
       "      <th>max</th>\n",
       "    </tr>\n",
       "    <tr>\n",
       "      <th>ranknow</th>\n",
       "      <th></th>\n",
       "      <th></th>\n",
       "      <th></th>\n",
       "      <th></th>\n",
       "      <th></th>\n",
       "      <th></th>\n",
       "      <th></th>\n",
       "      <th></th>\n",
       "    </tr>\n",
       "  </thead>\n",
       "  <tbody>\n",
       "    <tr>\n",
       "      <th>1</th>\n",
       "      <td>1866.0</td>\n",
       "      <td>1812.283730</td>\n",
       "      <td>3153.471445</td>\n",
       "      <td>65.530000</td>\n",
       "      <td>280.985000</td>\n",
       "      <td>535.000000</td>\n",
       "      <td>1034.742500</td>\n",
       "      <td>18974.10</td>\n",
       "    </tr>\n",
       "    <tr>\n",
       "      <th>2</th>\n",
       "      <td>1035.0</td>\n",
       "      <td>186.856956</td>\n",
       "      <td>277.055802</td>\n",
       "      <td>0.420897</td>\n",
       "      <td>8.240000</td>\n",
       "      <td>12.640000</td>\n",
       "      <td>295.345000</td>\n",
       "      <td>1290.60</td>\n",
       "    </tr>\n",
       "    <tr>\n",
       "      <th>3</th>\n",
       "      <td>1768.0</td>\n",
       "      <td>0.126519</td>\n",
       "      <td>0.317183</td>\n",
       "      <td>0.002802</td>\n",
       "      <td>0.006022</td>\n",
       "      <td>0.007973</td>\n",
       "      <td>0.028615</td>\n",
       "      <td>3.12</td>\n",
       "    </tr>\n",
       "    <tr>\n",
       "      <th>4</th>\n",
       "      <td>319.0</td>\n",
       "      <td>1026.103824</td>\n",
       "      <td>625.314618</td>\n",
       "      <td>200.980000</td>\n",
       "      <td>502.880000</td>\n",
       "      <td>975.400000</td>\n",
       "      <td>1338.605000</td>\n",
       "      <td>3038.01</td>\n",
       "    </tr>\n",
       "    <tr>\n",
       "      <th>5</th>\n",
       "      <td>341.0</td>\n",
       "      <td>5.682238</td>\n",
       "      <td>4.858552</td>\n",
       "      <td>0.480196</td>\n",
       "      <td>1.320000</td>\n",
       "      <td>5.050000</td>\n",
       "      <td>8.990000</td>\n",
       "      <td>18.88</td>\n",
       "    </tr>\n",
       "  </tbody>\n",
       "</table>\n",
       "</div>"
      ],
      "text/plain": [
       "            low                                                                \\\n",
       "          count         mean          std         min         25%         50%   \n",
       "ranknow                                                                         \n",
       "1        1866.0  1812.283730  3153.471445   65.530000  280.985000  535.000000   \n",
       "2        1035.0   186.856956   277.055802    0.420897    8.240000   12.640000   \n",
       "3        1768.0     0.126519     0.317183    0.002802    0.006022    0.007973   \n",
       "4         319.0  1026.103824   625.314618  200.980000  502.880000  975.400000   \n",
       "5         341.0     5.682238     4.858552    0.480196    1.320000    5.050000   \n",
       "\n",
       "                                \n",
       "                 75%       max  \n",
       "ranknow                         \n",
       "1        1034.742500  18974.10  \n",
       "2         295.345000   1290.60  \n",
       "3           0.028615      3.12  \n",
       "4        1338.605000   3038.01  \n",
       "5           8.990000     18.88  "
      ]
     },
     "execution_count": 6,
     "metadata": {},
     "output_type": "execute_result"
    }
   ],
   "source": [
    "crp_5 = crp[crp['ranknow']<=5]\n",
    "crp_5_low = crp_5[['ranknow','low']]\n",
    "crp_5_low.groupby('ranknow').describe()"
   ]
  },
  {
   "cell_type": "code",
   "execution_count": 7,
   "metadata": {},
   "outputs": [
    {
     "data": {
      "text/plain": [
       "[<matplotlib.lines.Line2D at 0x1109c12e8>]"
      ]
     },
     "execution_count": 7,
     "metadata": {},
     "output_type": "execute_result"
    },
    {
     "data": {
      "image/png": "[encoded data removed]",
      "text/plain": [
       "<Figure size 720x216 with 1 Axes>"
      ]
     },
     "metadata": {},
     "output_type": "display_data"
    },
    {
     "data": {
      "image/png": "[encoded data removed]",
      "text/plain": [
       "<Figure size 720x216 with 1 Axes>"
      ]
     },
     "metadata": {},
     "output_type": "display_data"
    },
    {
     "data": {
      "image/png": "[encoded data removed]",
      "text/plain": [
       "<Figure size 720x216 with 1 Axes>"
      ]
     },
     "metadata": {},
     "output_type": "display_data"
    },
    {
     "data": {
      "image/png": "[encoded data removed]",
      "text/plain": [
       "<Figure size 720x216 with 1 Axes>"
      ]
     },
     "metadata": {},
     "output_type": "display_data"
    },
    {
     "data": {
      "image/png": "[encoded data removed]",
      "text/plain": [
       "<Figure size 720x216 with 1 Axes>"
      ]
     },
     "metadata": {},
     "output_type": "display_data"
    }
   ],
   "source": [
    "# Statistics on trend\n",
    "# How to use 'year' as x-axis instead of index\n",
    "\n",
    "plt.figure(figsize=(10,3))\n",
    "plt.plot(crp1['market'], color='r')\n",
    "\n",
    "plt.figure(figsize=(10,3))\n",
    "plt.plot(crp2['market'], color='b')\n",
    "\n",
    "plt.figure(figsize=(10,3))\n",
    "plt.plot(crp3['market'], color='g')\n",
    "\n",
    "plt.figure(figsize=(10,3))\n",
    "plt.plot(crp4['market'], color='orange')\n",
    "\n",
    "plt.figure(figsize=(10,3))\n",
    "plt.plot(crp5['market'], color='purple')"
   ]
  },
  {
   "cell_type": "code",
   "execution_count": 10,
   "metadata": {},
   "outputs": [],
   "source": [
    "crp11 = crp[crp['ranknow']==11]\n",
    "crp12 = crp[crp['ranknow']==12]\n",
    "crp13 = crp[crp['ranknow']==13]\n",
    "crp14 = crp[crp['ranknow']==14]\n",
    "crp15 = crp[crp['ranknow']==15]"
   ]
  },
  {
   "cell_type": "code",
   "execution_count": 11,
   "metadata": {},
   "outputs": [
    {
     "data": {
      "text/html": [
       "<div>\n",
       "<style scoped>\n",
       "    .dataframe tbody tr th:only-of-type {\n",
       "        vertical-align: middle;\n",
       "    }\n",
       "\n",
       "    .dataframe tbody tr th {\n",
       "        vertical-align: top;\n",
       "    }\n",
       "\n",
       "    .dataframe thead tr th {\n",
       "        text-align: left;\n",
       "    }\n",
       "\n",
       "    .dataframe thead tr:last-of-type th {\n",
       "        text-align: right;\n",
       "    }\n",
       "</style>\n",
       "<table border=\"1\" class=\"dataframe\">\n",
       "  <thead>\n",
       "    <tr>\n",
       "      <th></th>\n",
       "      <th colspan=\"8\" halign=\"left\">market</th>\n",
       "    </tr>\n",
       "    <tr>\n",
       "      <th></th>\n",
       "      <th>count</th>\n",
       "      <th>mean</th>\n",
       "      <th>std</th>\n",
       "      <th>min</th>\n",
       "      <th>25%</th>\n",
       "      <th>50%</th>\n",
       "      <th>75%</th>\n",
       "      <th>max</th>\n",
       "    </tr>\n",
       "    <tr>\n",
       "      <th>ranknow</th>\n",
       "      <th></th>\n",
       "      <th></th>\n",
       "      <th></th>\n",
       "      <th></th>\n",
       "      <th></th>\n",
       "      <th></th>\n",
       "      <th></th>\n",
       "      <th></th>\n",
       "    </tr>\n",
       "  </thead>\n",
       "  <tbody>\n",
       "    <tr>\n",
       "      <th>11</th>\n",
       "      <td>636.0</td>\n",
       "      <td>1.951882e+09</td>\n",
       "      <td>2.647045e+09</td>\n",
       "      <td>0.0</td>\n",
       "      <td>7894250.0</td>\n",
       "      <td>402371000.0</td>\n",
       "      <td>3.377968e+09</td>\n",
       "      <td>1.221790e+10</td>\n",
       "    </tr>\n",
       "    <tr>\n",
       "      <th>12</th>\n",
       "      <td>1477.0</td>\n",
       "      <td>7.244444e+08</td>\n",
       "      <td>1.454858e+09</td>\n",
       "      <td>1260140.0</td>\n",
       "      <td>4470350.0</td>\n",
       "      <td>16467000.0</td>\n",
       "      <td>5.623140e+08</td>\n",
       "      <td>7.291030e+09</td>\n",
       "    </tr>\n",
       "    <tr>\n",
       "      <th>13</th>\n",
       "      <td>1574.0</td>\n",
       "      <td>8.933909e+08</td>\n",
       "      <td>1.827589e+09</td>\n",
       "      <td>702537.0</td>\n",
       "      <td>15036600.0</td>\n",
       "      <td>44464800.0</td>\n",
       "      <td>6.942752e+08</td>\n",
       "      <td>1.207960e+10</td>\n",
       "    </tr>\n",
       "    <tr>\n",
       "      <th>14</th>\n",
       "      <td>1193.0</td>\n",
       "      <td>3.723972e+08</td>\n",
       "      <td>7.331427e+08</td>\n",
       "      <td>143726.0</td>\n",
       "      <td>951600.0</td>\n",
       "      <td>6951590.0</td>\n",
       "      <td>3.195120e+08</td>\n",
       "      <td>2.514990e+09</td>\n",
       "    </tr>\n",
       "    <tr>\n",
       "      <th>15</th>\n",
       "      <td>1163.0</td>\n",
       "      <td>1.167381e+09</td>\n",
       "      <td>2.282041e+09</td>\n",
       "      <td>771348.0</td>\n",
       "      <td>2785435.0</td>\n",
       "      <td>46560200.0</td>\n",
       "      <td>1.867200e+09</td>\n",
       "      <td>1.652030e+10</td>\n",
       "    </tr>\n",
       "  </tbody>\n",
       "</table>\n",
       "</div>"
      ],
      "text/plain": [
       "         market                                                     \\\n",
       "          count          mean           std        min         25%   \n",
       "ranknow                                                              \n",
       "11        636.0  1.951882e+09  2.647045e+09        0.0   7894250.0   \n",
       "12       1477.0  7.244444e+08  1.454858e+09  1260140.0   4470350.0   \n",
       "13       1574.0  8.933909e+08  1.827589e+09   702537.0  15036600.0   \n",
       "14       1193.0  3.723972e+08  7.331427e+08   143726.0    951600.0   \n",
       "15       1163.0  1.167381e+09  2.282041e+09   771348.0   2785435.0   \n",
       "\n",
       "                                                  \n",
       "                 50%           75%           max  \n",
       "ranknow                                           \n",
       "11       402371000.0  3.377968e+09  1.221790e+10  \n",
       "12        16467000.0  5.623140e+08  7.291030e+09  \n",
       "13        44464800.0  6.942752e+08  1.207960e+10  \n",
       "14         6951590.0  3.195120e+08  2.514990e+09  \n",
       "15        46560200.0  1.867200e+09  1.652030e+10  "
      ]
     },
     "execution_count": 11,
     "metadata": {},
     "output_type": "execute_result"
    }
   ],
   "source": [
    "crp_15 = crp[(crp['ranknow']>10) & (crp['ranknow']<=15)]\n",
    "crp_15_low = crp_15[['ranknow','market']]\n",
    "crp_15_low.groupby('ranknow').describe()"
   ]
  },
  {
   "cell_type": "code",
   "execution_count": 12,
   "metadata": {},
   "outputs": [
    {
     "data": {
      "text/plain": [
       "[<matplotlib.lines.Line2D at 0x11163e0b8>]"
      ]
     },
     "execution_count": 12,
     "metadata": {},
     "output_type": "execute_result"
    },
    {
     "data": {
      "image/png": "[encoded data removed]",
      "text/plain": [
       "<Figure size 720x216 with 1 Axes>"
      ]
     },
     "metadata": {},
     "output_type": "display_data"
    },
    {
     "data": {
      "image/png": "[encoded data removed]",
      "text/plain": [
       "<Figure size 720x216 with 1 Axes>"
      ]
     },
     "metadata": {},
     "output_type": "display_data"
    },
    {
     "data": {
      "image/png": "[encoded data removed]",
      "text/plain": [
       "<Figure size 720x216 with 1 Axes>"
      ]
     },
     "metadata": {},
     "output_type": "display_data"
    },
    {
     "data": {
      "image/png": "[encoded data removed]",
      "text/plain": [
       "<Figure size 720x216 with 1 Axes>"
      ]
     },
     "metadata": {},
     "output_type": "display_data"
    },
    {
     "data": {
      "image/png": "[encoded data removed]",
      "text/plain": [
       "<Figure size 720x216 with 1 Axes>"
      ]
     },
     "metadata": {},
     "output_type": "display_data"
    }
   ],
   "source": [
    "plt.figure(figsize=(10,3))\n",
    "plt.plot(crp11['market'], color='r')\n",
    "\n",
    "plt.figure(figsize=(10,3))\n",
    "plt.plot(crp12['market'], color='b')\n",
    "\n",
    "plt.figure(figsize=(10,3))\n",
    "plt.plot(crp13['market'], color='g')\n",
    "\n",
    "plt.figure(figsize=(10,3))\n",
    "plt.plot(crp14['market'], color='orange')\n",
    "\n",
    "plt.figure(figsize=(10,3))\n",
    "plt.plot(crp5['market'], color='purple')"
   ]
  },
  {
   "cell_type": "code",
   "execution_count": 13,
   "metadata": {
    "scrolled": true
   },
   "outputs": [
    {
     "name": "stdout",
     "output_type": "stream",
     "text": [
      "count    1866.000000\n",
      "mean      139.376372\n",
      "std       367.792599\n",
      "min         0.000000\n",
      "25%         6.682500\n",
      "50%        16.045000\n",
      "75%        71.935000\n",
      "max      4110.400000\n",
      "Name: spread, dtype: float64\n"
     ]
    },
    {
     "data": {
      "text/plain": [
       "{'whiskers': [<matplotlib.lines.Line2D at 0x1109664a8>,\n",
       "  <matplotlib.lines.Line2D at 0x110966780>],\n",
       " 'caps': [<matplotlib.lines.Line2D at 0x11095e828>,\n",
       "  <matplotlib.lines.Line2D at 0x11095e160>],\n",
       " 'boxes': [<matplotlib.lines.Line2D at 0x110966a58>],\n",
       " 'medians': [<matplotlib.lines.Line2D at 0x11095e9b0>],\n",
       " 'fliers': [<matplotlib.lines.Line2D at 0x11095ed68>],\n",
       " 'means': []}"
      ]
     },
     "execution_count": 13,
     "metadata": {},
     "output_type": "execute_result"
    },
    {
     "data": {
      "image/png": "[encoded data removed]",
      "text/plain": [
       "<Figure size 432x288 with 1 Axes>"
      ]
     },
     "metadata": {},
     "output_type": "display_data"
    }
   ],
   "source": [
    "# Statistics on Spread\n",
    "print(crp1['spread'].describe())\n",
    "plt.boxplot(crp1['spread'])"
   ]
  },
  {
   "cell_type": "code",
   "execution_count": 12,
   "metadata": {},
   "outputs": [
    {
     "data": {
      "text/plain": [
       "(array([1.691e+03, 9.200e+01, 3.800e+01, 1.900e+01, 1.000e+01, 9.000e+00,\n",
       "        2.000e+00, 1.000e+00, 1.000e+00, 3.000e+00]),\n",
       " array([   0.  ,  411.04,  822.08, 1233.12, 1644.16, 2055.2 , 2466.24,\n",
       "        2877.28, 3288.32, 3699.36, 4110.4 ]),\n",
       " <a list of 10 Patch objects>)"
      ]
     },
     "execution_count": 12,
     "metadata": {},
     "output_type": "execute_result"
    },
    {
     "data": {
      "image/png": "[encoded data removed]",
      "text/plain": [
       "<Figure size 432x288 with 1 Axes>"
      ]
     },
     "metadata": {},
     "output_type": "display_data"
    }
   ],
   "source": [
    "plt.hist(crp1['spread'])"
   ]
  },
  {
   "cell_type": "code",
   "execution_count": 13,
   "metadata": {},
   "outputs": [
    {
     "name": "stdout",
     "output_type": "stream",
     "text": [
      "count    1035.000000\n",
      "mean       18.170396\n",
      "std        37.186458\n",
      "min         0.020000\n",
      "25%         0.315000\n",
      "50%         1.350000\n",
      "75%        21.490000\n",
      "max       417.090000\n",
      "Name: spread, dtype: float64\n"
     ]
    },
    {
     "data": {
      "text/plain": [
       "{'whiskers': [<matplotlib.lines.Line2D at 0x111546358>,\n",
       "  <matplotlib.lines.Line2D at 0x1115463c8>],\n",
       " 'caps': [<matplotlib.lines.Line2D at 0x111546d30>,\n",
       "  <matplotlib.lines.Line2D at 0x118c72160>],\n",
       " 'boxes': [<matplotlib.lines.Line2D at 0x111546208>],\n",
       " 'medians': [<matplotlib.lines.Line2D at 0x11152ca90>],\n",
       " 'fliers': [<matplotlib.lines.Line2D at 0x11152c630>],\n",
       " 'means': []}"
      ]
     },
     "execution_count": 13,
     "metadata": {},
     "output_type": "execute_result"
    },
    {
     "data": {
      "image/png": "[encoded data removed]",
      "text/plain": [
       "<Figure size 432x288 with 1 Axes>"
      ]
     },
     "metadata": {},
     "output_type": "display_data"
    }
   ],
   "source": [
    "print(crp2['spread'].describe())\n",
    "plt.boxplot(crp2['spread'])"
   ]
  },
  {
   "cell_type": "code",
   "execution_count": 14,
   "metadata": {},
   "outputs": [
    {
     "data": {
      "text/plain": [
       "(array([1.691e+03, 9.200e+01, 3.800e+01, 1.900e+01, 1.000e+01, 9.000e+00,\n",
       "        2.000e+00, 1.000e+00, 1.000e+00, 3.000e+00]),\n",
       " array([   0.  ,  411.04,  822.08, 1233.12, 1644.16, 2055.2 , 2466.24,\n",
       "        2877.28, 3288.32, 3699.36, 4110.4 ]),\n",
       " <a list of 10 Patch objects>)"
      ]
     },
     "execution_count": 14,
     "metadata": {},
     "output_type": "execute_result"
    },
    {
     "data": {
      "image/png": "[encoded data removed]",
      "text/plain": [
       "<Figure size 432x288 with 1 Axes>"
      ]
     },
     "metadata": {},
     "output_type": "display_data"
    }
   ],
   "source": [
    "plt.hist(crp1['spread'])"
   ]
  },
  {
   "cell_type": "code",
   "execution_count": 15,
   "metadata": {},
   "outputs": [
    {
     "name": "stdout",
     "output_type": "stream",
     "text": [
      "count    1768.000000\n",
      "mean        0.017913\n",
      "std         0.074813\n",
      "min         0.000000\n",
      "25%         0.000000\n",
      "50%         0.000000\n",
      "75%         0.000000\n",
      "max         1.290000\n",
      "Name: spread, dtype: float64\n"
     ]
    },
    {
     "data": {
      "text/plain": [
       "{'whiskers': [<matplotlib.lines.Line2D at 0x107c066a0>,\n",
       "  <matplotlib.lines.Line2D at 0x107c06d30>],\n",
       " 'caps': [<matplotlib.lines.Line2D at 0x107c06ac8>,\n",
       "  <matplotlib.lines.Line2D at 0x1065d8cc0>],\n",
       " 'boxes': [<matplotlib.lines.Line2D at 0x107c06160>],\n",
       " 'medians': [<matplotlib.lines.Line2D at 0x1065d8400>],\n",
       " 'fliers': [<matplotlib.lines.Line2D at 0x1065d85f8>],\n",
       " 'means': []}"
      ]
     },
     "execution_count": 15,
     "metadata": {},
     "output_type": "execute_result"
    },
    {
     "data": {
      "image/png": "[encoded data removed]",
      "text/plain": [
       "<Figure size 432x288 with 1 Axes>"
      ]
     },
     "metadata": {},
     "output_type": "display_data"
    }
   ],
   "source": [
    "print(crp3['spread'].describe())\n",
    "plt.boxplot(crp3['spread'])"
   ]
  },
  {
   "cell_type": "code",
   "execution_count": 16,
   "metadata": {},
   "outputs": [
    {
     "data": {
      "text/plain": [
       "(array([1.71e+03, 3.50e+01, 6.00e+00, 6.00e+00, 4.00e+00, 2.00e+00,\n",
       "        4.00e+00, 0.00e+00, 0.00e+00, 1.00e+00]),\n",
       " array([0.   , 0.129, 0.258, 0.387, 0.516, 0.645, 0.774, 0.903, 1.032,\n",
       "        1.161, 1.29 ]),\n",
       " <a list of 10 Patch objects>)"
      ]
     },
     "execution_count": 16,
     "metadata": {},
     "output_type": "execute_result"
    },
    {
     "data": {
      "image/png": "[encoded data removed]",
      "text/plain": [
       "<Figure size 432x288 with 1 Axes>"
      ]
     },
     "metadata": {},
     "output_type": "display_data"
    }
   ],
   "source": [
    "plt.hist(crp3['spread'])"
   ]
  },
  {
   "cell_type": "code",
   "execution_count": 17,
   "metadata": {},
   "outputs": [
    {
     "name": "stdout",
     "output_type": "stream",
     "text": [
      "count     319.000000\n",
      "mean      156.755266\n",
      "std       187.949004\n",
      "min         7.500000\n",
      "25%        53.770000\n",
      "50%       101.770000\n",
      "75%       180.655000\n",
      "max      1530.590000\n",
      "Name: spread, dtype: float64\n"
     ]
    },
    {
     "data": {
      "text/plain": [
       "{'whiskers': [<matplotlib.lines.Line2D at 0x1121cd438>,\n",
       "  <matplotlib.lines.Line2D at 0x1121cd8d0>],\n",
       " 'caps': [<matplotlib.lines.Line2D at 0x1121cdcf8>,\n",
       "  <matplotlib.lines.Line2D at 0x111792160>],\n",
       " 'boxes': [<matplotlib.lines.Line2D at 0x1121cd2e8>],\n",
       " 'medians': [<matplotlib.lines.Line2D at 0x111792588>],\n",
       " 'fliers': [<matplotlib.lines.Line2D at 0x1117929b0>],\n",
       " 'means': []}"
      ]
     },
     "execution_count": 17,
     "metadata": {},
     "output_type": "execute_result"
    },
    {
     "data": {
      "image/png": "[encoded data removed]",
      "text/plain": [
       "<Figure size 432x288 with 1 Axes>"
      ]
     },
     "metadata": {},
     "output_type": "display_data"
    }
   ],
   "source": [
    "print(crp4['spread'].describe())\n",
    "plt.boxplot(crp4['spread'])"
   ]
  },
  {
   "cell_type": "code",
   "execution_count": 18,
   "metadata": {},
   "outputs": [
    {
     "data": {
      "text/plain": [
       "(array([222.,  61.,  18.,   9.,   3.,   3.,   0.,   0.,   1.,   2.]),\n",
       " array([   7.5  ,  159.809,  312.118,  464.427,  616.736,  769.045,\n",
       "         921.354, 1073.663, 1225.972, 1378.281, 1530.59 ]),\n",
       " <a list of 10 Patch objects>)"
      ]
     },
     "execution_count": 18,
     "metadata": {},
     "output_type": "execute_result"
    },
    {
     "data": {
      "image/png": "[encoded data removed]",
      "text/plain": [
       "<Figure size 432x288 with 1 Axes>"
      ]
     },
     "metadata": {},
     "output_type": "display_data"
    }
   ],
   "source": [
    "plt.hist(crp4['spread'])"
   ]
  },
  {
   "cell_type": "code",
   "execution_count": 19,
   "metadata": {},
   "outputs": [
    {
     "name": "stdout",
     "output_type": "stream",
     "text": [
      "count    341.000000\n",
      "mean       0.848299\n",
      "std        0.973777\n",
      "min        0.020000\n",
      "25%        0.150000\n",
      "50%        0.520000\n",
      "75%        1.140000\n",
      "max        5.170000\n",
      "Name: spread, dtype: float64\n"
     ]
    },
    {
     "data": {
      "text/plain": [
       "{'whiskers': [<matplotlib.lines.Line2D at 0x111a22c18>,\n",
       "  <matplotlib.lines.Line2D at 0x111a290f0>],\n",
       " 'caps': [<matplotlib.lines.Line2D at 0x111a29518>,\n",
       "  <matplotlib.lines.Line2D at 0x111a29940>],\n",
       " 'boxes': [<matplotlib.lines.Line2D at 0x111a22ac8>],\n",
       " 'medians': [<matplotlib.lines.Line2D at 0x111a29d68>],\n",
       " 'fliers': [<matplotlib.lines.Line2D at 0x111a321d0>],\n",
       " 'means': []}"
      ]
     },
     "execution_count": 19,
     "metadata": {},
     "output_type": "execute_result"
    },
    {
     "data": {
      "image/png": "[encoded data removed]",
      "text/plain": [
       "<Figure size 432x288 with 1 Axes>"
      ]
     },
     "metadata": {},
     "output_type": "display_data"
    }
   ],
   "source": [
    "print(crp5['spread'].describe())\n",
    "plt.boxplot(crp5['spread'])"
   ]
  },
  {
   "cell_type": "code",
   "execution_count": 20,
   "metadata": {},
   "outputs": [
    {
     "data": {
      "text/plain": [
       "(array([174.,  73.,  38.,  21.,   9.,  12.,   4.,   3.,   5.,   2.]),\n",
       " array([0.02 , 0.535, 1.05 , 1.565, 2.08 , 2.595, 3.11 , 3.625, 4.14 ,\n",
       "        4.655, 5.17 ]),\n",
       " <a list of 10 Patch objects>)"
      ]
     },
     "execution_count": 20,
     "metadata": {},
     "output_type": "execute_result"
    },
    {
     "data": {
      "image/png": "[encoded data removed]",
      "text/plain": [
       "<Figure size 432x288 with 1 Axes>"
      ]
     },
     "metadata": {},
     "output_type": "display_data"
    }
   ],
   "source": [
    "plt.hist(crp5['spread'])"
   ]
  },
  {
   "cell_type": "code",
   "execution_count": 21,
   "metadata": {},
   "outputs": [
    {
     "name": "stdout",
     "output_type": "stream",
     "text": [
      "       close_ratio\n",
      "count  1866.000000\n",
      "mean      0.544563\n",
      "std       0.299849\n",
      "min       0.000000\n",
      "25%       0.283250\n",
      "50%       0.570200\n",
      "75%       0.813900\n",
      "max       1.000000\n"
     ]
    },
    {
     "data": {
      "text/plain": [
       "{'whiskers': [<matplotlib.lines.Line2D at 0x11229e0f0>,\n",
       "  <matplotlib.lines.Line2D at 0x11229e588>],\n",
       " 'caps': [<matplotlib.lines.Line2D at 0x11229e9b0>,\n",
       "  <matplotlib.lines.Line2D at 0x11229edd8>],\n",
       " 'boxes': [<matplotlib.lines.Line2D at 0x112293f60>],\n",
       " 'medians': [<matplotlib.lines.Line2D at 0x1122a6240>],\n",
       " 'fliers': [<matplotlib.lines.Line2D at 0x1122a6668>],\n",
       " 'means': []}"
      ]
     },
     "execution_count": 21,
     "metadata": {},
     "output_type": "execute_result"
    },
    {
     "data": {
      "image/png": "[encoded data removed]",
      "text/plain": [
       "<Figure size 432x288 with 1 Axes>"
      ]
     },
     "metadata": {},
     "output_type": "display_data"
    }
   ],
   "source": [
    "# Daily close rate statistics\n",
    "print(crp1[['close_ratio']].describe())\n",
    "plt.boxplot(crp1['close_ratio'])"
   ]
  },
  {
   "cell_type": "code",
   "execution_count": 22,
   "metadata": {},
   "outputs": [
    {
     "data": {
      "text/plain": [
       "(array([159., 145., 193., 188., 142., 154., 183., 207., 225., 270.]),\n",
       " array([0. , 0.1, 0.2, 0.3, 0.4, 0.5, 0.6, 0.7, 0.8, 0.9, 1. ]),\n",
       " <a list of 10 Patch objects>)"
      ]
     },
     "execution_count": 22,
     "metadata": {},
     "output_type": "execute_result"
    },
    {
     "data": {
      "image/png": "[encoded data removed]",
      "text/plain": [
       "<Figure size 432x288 with 1 Axes>"
      ]
     },
     "metadata": {},
     "output_type": "display_data"
    }
   ],
   "source": [
    "plt.hist(crp1['close_ratio'])"
   ]
  },
  {
   "cell_type": "code",
   "execution_count": 23,
   "metadata": {},
   "outputs": [
    {
     "name": "stdout",
     "output_type": "stream",
     "text": [
      "       close_ratio\n",
      "count  1035.000000\n",
      "mean      0.524223\n",
      "std       0.297310\n",
      "min       0.000000\n",
      "25%       0.267450\n",
      "50%       0.518300\n",
      "75%       0.794000\n",
      "max       1.000000\n"
     ]
    },
    {
     "data": {
      "text/plain": [
       "{'whiskers': [<matplotlib.lines.Line2D at 0x112536710>,\n",
       "  <matplotlib.lines.Line2D at 0x112536ba8>],\n",
       " 'caps': [<matplotlib.lines.Line2D at 0x112536fd0>,\n",
       "  <matplotlib.lines.Line2D at 0x11259d438>],\n",
       " 'boxes': [<matplotlib.lines.Line2D at 0x1125365c0>],\n",
       " 'medians': [<matplotlib.lines.Line2D at 0x11259d860>],\n",
       " 'fliers': [<matplotlib.lines.Line2D at 0x11259dc88>],\n",
       " 'means': []}"
      ]
     },
     "execution_count": 23,
     "metadata": {},
     "output_type": "execute_result"
    },
    {
     "data": {
      "image/png": "[encoded data removed]",
      "text/plain": [
       "<Figure size 432x288 with 1 Axes>"
      ]
     },
     "metadata": {},
     "output_type": "display_data"
    }
   ],
   "source": [
    "print(crp2[['close_ratio']].describe())\n",
    "plt.boxplot(crp2['close_ratio'])\n"
   ]
  },
  {
   "cell_type": "code",
   "execution_count": 24,
   "metadata": {},
   "outputs": [
    {
     "data": {
      "text/plain": [
       "(array([ 88.,  89., 111., 119.,  79., 108.,  83., 107., 115., 136.]),\n",
       " array([0. , 0.1, 0.2, 0.3, 0.4, 0.5, 0.6, 0.7, 0.8, 0.9, 1. ]),\n",
       " <a list of 10 Patch objects>)"
      ]
     },
     "execution_count": 24,
     "metadata": {},
     "output_type": "execute_result"
    },
    {
     "data": {
      "image/png": "[encoded data removed]",
      "text/plain": [
       "<Figure size 432x288 with 1 Axes>"
      ]
     },
     "metadata": {},
     "output_type": "display_data"
    }
   ],
   "source": [
    "plt.hist(crp2['close_ratio'])"
   ]
  },
  {
   "cell_type": "code",
   "execution_count": 25,
   "metadata": {},
   "outputs": [
    {
     "name": "stdout",
     "output_type": "stream",
     "text": [
      "       close_ratio\n",
      "count  1768.000000\n",
      "mean      0.474505\n",
      "std       0.340775\n",
      "min       0.000000\n",
      "25%       0.151350\n",
      "50%       0.438850\n",
      "75%       0.806050\n",
      "max       1.000000\n"
     ]
    },
    {
     "data": {
      "text/plain": [
       "{'whiskers': [<matplotlib.lines.Line2D at 0x11271b3c8>,\n",
       "  <matplotlib.lines.Line2D at 0x11271b860>],\n",
       " 'caps': [<matplotlib.lines.Line2D at 0x11271bc88>,\n",
       "  <matplotlib.lines.Line2D at 0x1127250f0>],\n",
       " 'boxes': [<matplotlib.lines.Line2D at 0x11271b278>],\n",
       " 'medians': [<matplotlib.lines.Line2D at 0x112725518>],\n",
       " 'fliers': [<matplotlib.lines.Line2D at 0x112725940>],\n",
       " 'means': []}"
      ]
     },
     "execution_count": 25,
     "metadata": {},
     "output_type": "execute_result"
    },
    {
     "data": {
      "image/png": "[encoded data removed]",
      "text/plain": [
       "<Figure size 432x288 with 1 Axes>"
      ]
     },
     "metadata": {},
     "output_type": "display_data"
    }
   ],
   "source": [
    "print(crp3[['close_ratio']].describe())\n",
    "plt.boxplot(crp3['close_ratio'])"
   ]
  },
  {
   "cell_type": "code",
   "execution_count": 26,
   "metadata": {},
   "outputs": [
    {
     "data": {
      "text/plain": [
       "(array([341., 185., 157., 142., 135., 104., 114., 132., 167., 291.]),\n",
       " array([0. , 0.1, 0.2, 0.3, 0.4, 0.5, 0.6, 0.7, 0.8, 0.9, 1. ]),\n",
       " <a list of 10 Patch objects>)"
      ]
     },
     "execution_count": 26,
     "metadata": {},
     "output_type": "execute_result"
    },
    {
     "data": {
      "image/png": "[encoded data removed]",
      "text/plain": [
       "<Figure size 432x288 with 1 Axes>"
      ]
     },
     "metadata": {},
     "output_type": "display_data"
    }
   ],
   "source": [
    "plt.hist(crp3['close_ratio'])"
   ]
  },
  {
   "cell_type": "code",
   "execution_count": 28,
   "metadata": {},
   "outputs": [
    {
     "name": "stdout",
     "output_type": "stream",
     "text": [
      "       close_ratio\n",
      "count   319.000000\n",
      "mean      0.477776\n",
      "std       0.309227\n",
      "min       0.000000\n",
      "25%       0.202450\n",
      "50%       0.444900\n",
      "75%       0.760600\n",
      "max       1.000000\n"
     ]
    },
    {
     "data": {
      "text/plain": [
       "{'whiskers': [<matplotlib.lines.Line2D at 0x112e9f550>,\n",
       "  <matplotlib.lines.Line2D at 0x112e9f9e8>],\n",
       " 'caps': [<matplotlib.lines.Line2D at 0x112e9fe10>,\n",
       "  <matplotlib.lines.Line2D at 0x112ea6278>],\n",
       " 'boxes': [<matplotlib.lines.Line2D at 0x112e9f400>],\n",
       " 'medians': [<matplotlib.lines.Line2D at 0x112ea66a0>],\n",
       " 'fliers': [<matplotlib.lines.Line2D at 0x112ea6ac8>],\n",
       " 'means': []}"
      ]
     },
     "execution_count": 28,
     "metadata": {},
     "output_type": "execute_result"
    },
    {
     "data": {
      "image/png": "[encoded data removed]",
      "text/plain": [
       "<Figure size 432x288 with 1 Axes>"
      ]
     },
     "metadata": {},
     "output_type": "display_data"
    }
   ],
   "source": [
    "print(crp4[['close_ratio']].describe())\n",
    "plt.boxplot(crp4['close_ratio'])"
   ]
  },
  {
   "cell_type": "code",
   "execution_count": 29,
   "metadata": {},
   "outputs": [
    {
     "data": {
      "text/plain": [
       "(array([36., 43., 37., 32., 29., 20., 22., 29., 40., 31.]),\n",
       " array([0. , 0.1, 0.2, 0.3, 0.4, 0.5, 0.6, 0.7, 0.8, 0.9, 1. ]),\n",
       " <a list of 10 Patch objects>)"
      ]
     },
     "execution_count": 29,
     "metadata": {},
     "output_type": "execute_result"
    },
    {
     "data": {
      "image/png": "[encoded data removed]",
      "text/plain": [
       "<Figure size 432x288 with 1 Axes>"
      ]
     },
     "metadata": {},
     "output_type": "display_data"
    }
   ],
   "source": [
    "plt.hist(crp4['close_ratio'])"
   ]
  },
  {
   "cell_type": "code",
   "execution_count": 30,
   "metadata": {},
   "outputs": [
    {
     "name": "stdout",
     "output_type": "stream",
     "text": [
      "       close_ratio\n",
      "count   341.000000\n",
      "mean      0.506778\n",
      "std       0.304035\n",
      "min       0.000000\n",
      "25%       0.259700\n",
      "50%       0.490400\n",
      "75%       0.780800\n",
      "max       1.000000\n"
     ]
    },
    {
     "data": {
      "text/plain": [
       "{'whiskers': [<matplotlib.lines.Line2D at 0x113014f98>,\n",
       "  <matplotlib.lines.Line2D at 0x11301b470>],\n",
       " 'caps': [<matplotlib.lines.Line2D at 0x11301b898>,\n",
       "  <matplotlib.lines.Line2D at 0x11301bcc0>],\n",
       " 'boxes': [<matplotlib.lines.Line2D at 0x113014e48>],\n",
       " 'medians': [<matplotlib.lines.Line2D at 0x113026128>],\n",
       " 'fliers': [<matplotlib.lines.Line2D at 0x113026550>],\n",
       " 'means': []}"
      ]
     },
     "execution_count": 30,
     "metadata": {},
     "output_type": "execute_result"
    },
    {
     "data": {
      "image/png": "[encoded data removed]",
      "text/plain": [
       "<Figure size 432x288 with 1 Axes>"
      ]
     },
     "metadata": {},
     "output_type": "display_data"
    }
   ],
   "source": [
    "print(crp5[['close_ratio']].describe())\n",
    "plt.boxplot(crp5['close_ratio'])"
   ]
  },
  {
   "cell_type": "code",
   "execution_count": 31,
   "metadata": {},
   "outputs": [
    {
     "data": {
      "text/plain": [
       "(array([36., 43., 37., 32., 29., 20., 22., 29., 40., 31.]),\n",
       " array([0. , 0.1, 0.2, 0.3, 0.4, 0.5, 0.6, 0.7, 0.8, 0.9, 1. ]),\n",
       " <a list of 10 Patch objects>)"
      ]
     },
     "execution_count": 31,
     "metadata": {},
     "output_type": "execute_result"
    },
    {
     "data": {
      "image/png": "[encoded data removed]",
      "text/plain": [
       "<Figure size 432x288 with 1 Axes>"
      ]
     },
     "metadata": {},
     "output_type": "display_data"
    }
   ],
   "source": [
    "plt.hist(crp4['close_ratio'])"
   ]
  },
  {
   "cell_type": "code",
   "execution_count": null,
   "metadata": {},
   "outputs": [],
   "source": []
  }
 ],
 "metadata": {
  "kernelspec": {
   "display_name": "Python 3",
   "language": "python",
   "name": "python3"
  },
  "language_info": {
   "codemirror_mode": {
    "name": "ipython",
    "version": 3
   },
   "file_extension": ".py",
   "mimetype": "text/x-python",
   "name": "python",
   "nbconvert_exporter": "python",
   "pygments_lexer": "ipython3",
   "version": "3.6.4"
  }
 },
 "nbformat": 4,
 "nbformat_minor": 2
}
