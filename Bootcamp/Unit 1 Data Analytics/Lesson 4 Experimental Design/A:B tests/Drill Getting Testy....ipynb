{
 "cells": [
  {
   "cell_type": "markdown",
   "metadata": {},
   "source": [
    "## For each of the following questions, outline how you could use an A/B test to find an answer. Be sure to identify all five key components of an A/B test we outlined above."
   ]
  },
  {
   "cell_type": "markdown",
   "metadata": {},
   "source": [
    "### Does a new supplement help people sleep better?\n",
    "\n",
    "We'll implement two version of a supplement, one that's new and one that's already used, in two different groups of nutrition stores. The two groups of stores will be divided randomly by location and will represent our samples. To all the customers who bought the sleep supplement, we'd ask them to fill out a short survey via email to rate how well they slept given a certain range where 1 is not at all and 5 is like a baby. Then we'd compare the results of the surveys between the two groups. We also collect information on the survey for age, gender and whether they have any medical condition that inhibits their sleep, so that we can compare the results on constant variables and make sure any difference is attributed to the supplement."
   ]
  },
  {
   "cell_type": "markdown",
   "metadata": {},
   "source": [
    "### Will new uniforms help a gym's business?\n",
    "\n",
    "In a chain gym, we'll implement new uniforms in randomly selected locations as our treatment variable and also collect data from locations with our control, regular gym uniforms. Our hypothesis would be that new uniforms won't help a gym's business. Then, over the course of three months, we'll measure their average revenues and compare them. Other variables we would need to measure are whether the gyms are in urban or rural areas as well as the season that the study takes place so that we can make sure our consumer base is consistent."
   ]
  },
  {
   "cell_type": "markdown",
   "metadata": {},
   "source": [
    "### Will a new homepage improve my online exotic pet rental business?\n",
    "\n",
    "We can split the data collection on the samples for two different locations. For example we can implement the new homepage in specific regions that are randomly selected, and keep the current homepage for another group of regions. Our hypothesis would be that a new homepage would increase revenue for the pet rental business. So we would measure the average revenue of the two samples and compare them. We would specify the control variables as urban or rural areas, age and gender so that we can measure based on similar traits."
   ]
  },
  {
   "cell_type": "markdown",
   "metadata": {},
   "source": [
    "### If I put 'please read' in the email subject will more people read my emails?\n",
    "\n",
    "We can send emails to all subscribers or contacts of our email. Half the emails will contain 'please read' and would be sent out randomly, where as the other won't include it. Then we'll compare the number of people who clicked on the email. Our hypothesis would be that if we include 'please read', the recipients will open the email. Our constant variables would be the type of recipients of the email, such as whether they're coworkers, friends, or family, and at what time the emails were sent, such as in the evening or in the morning."
   ]
  },
  {
   "cell_type": "code",
   "execution_count": null,
   "metadata": {},
   "outputs": [],
   "source": []
  }
 ],
 "metadata": {
  "kernelspec": {
   "display_name": "Python 3",
   "language": "python",
   "name": "python3"
  },
  "language_info": {
   "codemirror_mode": {
    "name": "ipython",
    "version": 3
   },
   "file_extension": ".py",
   "mimetype": "text/x-python",
   "name": "python",
   "nbconvert_exporter": "python",
   "pygments_lexer": "ipython3",
   "version": "3.7.0"
  }
 },
 "nbformat": 4,
 "nbformat_minor": 2
}
