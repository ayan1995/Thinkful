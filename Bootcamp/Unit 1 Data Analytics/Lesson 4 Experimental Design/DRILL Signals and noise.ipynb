{
 "cells": [
  {
   "cell_type": "markdown",
   "metadata": {},
   "source": [
    "### To help you find your bearings with regard to t-tests, calculate the t-values for the following numbers:\n",
    "\n",
    "1. $\\bar{y_1}= 5$, $\\bar{y_2}= 8$, $s_1= 1$, $s_2= 3$, $N_1= 200$, $N_2= 500$\n",
    "2. $\\bar{y_1}= 1090$, $\\bar{y_2}= 999$, $s_1= 400$, $s_2= 30$, $N_1= 900$, $N_2= 100$\n",
    "3. $\\bar{y_1}= 45$, $\\bar{y_2}= 40$, $s_1= 45$, $s_2= 40$, $N_1= 2000$, $N_2= 2000$"
   ]
  },
  {
   "cell_type": "code",
   "execution_count": 1,
   "metadata": {},
   "outputs": [],
   "source": [
    "import numpy as np\n",
    "from scipy import stats"
   ]
  },
  {
   "cell_type": "code",
   "execution_count": 8,
   "metadata": {},
   "outputs": [
    {
     "name": "stdout",
     "output_type": "stream",
     "text": [
      "-19.78141420187361\n",
      "6.658536585365854\n",
      "3.7139067635410377\n"
     ]
    }
   ],
   "source": [
    "# Define variables\n",
    "y1 = 5\n",
    "y2 = 8\n",
    "s1 = 1\n",
    "s2 = 3\n",
    "N1 = 200\n",
    "N2 = 500\n",
    "\n",
    "t = ((y1 - y2)/(np.sqrt(((s1**2)/N1)+((s2**2)/N2))))\n",
    "print (t)\n",
    "\n",
    "y1 = 1090\n",
    "y2 = 999\n",
    "s1 = 400\n",
    "s2 = 30\n",
    "N1 = 900\n",
    "N2 = 100\n",
    "\n",
    "t = ((y1 - y2)/(np.sqrt(((s1**2)/N1)+((s2**2)/N2))))\n",
    "print (t)\n",
    "\n",
    "y1 = 45\n",
    "y2 = 40\n",
    "s1 = 45\n",
    "s2 = 40\n",
    "N1 = 2000\n",
    "N2 = 2000\n",
    "\n",
    "t = ((y1 - y2)/(np.sqrt(((s1**2)/N1)+((s2**2)/N2))))\n",
    "print (t)"
   ]
  },
  {
   "cell_type": "code",
   "execution_count": null,
   "metadata": {},
   "outputs": [],
   "source": []
  }
 ],
 "metadata": {
  "kernelspec": {
   "display_name": "Python 3",
   "language": "python",
   "name": "python3"
  },
  "language_info": {
   "codemirror_mode": {
    "name": "ipython",
    "version": 3
   },
   "file_extension": ".py",
   "mimetype": "text/x-python",
   "name": "python",
   "nbconvert_exporter": "python",
   "pygments_lexer": "ipython3",
   "version": "3.7.0"
  }
 },
 "nbformat": 4,
 "nbformat_minor": 2
}
