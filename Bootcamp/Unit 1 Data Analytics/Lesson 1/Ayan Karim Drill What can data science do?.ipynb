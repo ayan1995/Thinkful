{
 "cells": [
  {
   "cell_type": "markdown",
   "metadata": {},
   "source": [
    "1. You work at an e-commerce company that sells three goods: widgets, doodads, and fizzbangs. The head of advertising asks you which they should feature in their new advertising campaign. You have data on individual visitors' sessions (activity on a website, pageviews, and purchases), as well as whether or not those users converted from an advertisement for that session. You also have the cost and price information for the goods.\n",
    "\n",
    "**Which good has the highest revenue from conversions amongst users based on their page views and website activity?** We can compare each good's total purphases given that they were converted from advertisements during visitor sessions and then compare the total revenue of these goods by summing their price. Whichever good returns the highest revenue should be featured on the new advertising campaign."
   ]
  },
  {
   "cell_type": "markdown",
   "metadata": {},
   "source": [
    "2. You work at a web design company that offers to build websites for clients. Signups have slowed, and you are tasked with finding out why. The onboarding funnel has three steps: email and password signup, plan choice, and payment. On a user level you have information on what steps they have completed as well as timestamps for all of those events for the past 3 years. You also have information on marketing spend on a weekly level.\n",
    "\n",
    "**Has there been a decreasing awareness of the Web Design service and what aspect of the onboarding funnel likely discouraged users from signing up?**\n",
    "We would analyze the trend of the number of people who have signed up via email and password over the last 3 years and compare that trend to market spending the market spending trend over the last 3 years. Then we would compare trend for the proportion of those who've signed up that actually chose a plan with the trend for the proportion of those who made a payment to see where the most people were discouraged."
   ]
  },
  {
   "cell_type": "markdown",
   "metadata": {},
   "source": [
    "3. You work at a hotel website and currently the website ranks search results by price. For simplicity's sake, let's say it's a website for one city with 100 hotels. You are tasked with proposing a better ranking system. You have session information, price information for the hotels, and whether each hotel is currently available.\n",
    "\n",
    "**Are customers more likely to make a booking when hotels are ranked by price, by availability, or by both?** We could compare the proportion of bookings made from everyone who used the website when the hotels are ranked by price, by availability, and a third variable inwhich they are ranked by price given they are available."
   ]
  },
  {
   "cell_type": "markdown",
   "metadata": {},
   "source": [
    "4. You work at a social network, and the management is worried about churn (users stopping using the product). You are tasked with finding out if their churn is atypical. You have three years of data for users with an entry for every time they've logged in, including the timestamp and length of session.\n",
    "\n",
    "**Which users have stopped logging in or decreased how often and how long they've logged in for?** We could group those users who have stopped logging in by filtering those who havent logged in for the last 6 months and also create another group who have used the product significantly less in the last 6 months compared to before by comparing their length session. Then we can analyze what separates this group from those who continue to use the product."
   ]
  },
  {
   "cell_type": "code",
   "execution_count": null,
   "metadata": {},
   "outputs": [],
   "source": []
  }
 ],
 "metadata": {
  "kernelspec": {
   "display_name": "Python 3",
   "language": "python",
   "name": "python3"
  },
  "language_info": {
   "codemirror_mode": {
    "name": "ipython",
    "version": 3
   },
   "file_extension": ".py",
   "mimetype": "text/x-python",
   "name": "python",
   "nbconvert_exporter": "python",
   "pygments_lexer": "ipython3",
   "version": "3.7.0"
  }
 },
 "nbformat": 4,
 "nbformat_minor": 2
}
