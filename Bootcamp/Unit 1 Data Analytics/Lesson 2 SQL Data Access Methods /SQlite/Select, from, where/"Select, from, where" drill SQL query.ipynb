{
 "cells": [
  {
   "cell_type": "markdown",
   "metadata": {},
   "source": [
    "SELECT\n",
    "    trip_id,\n",
    "\tduration\n",
    "FROM\n",
    "    trips\n",
    "WHERE\n",
    "\tduration > 500\n",
    "ORDER BY duration"
   ]
  },
  {
   "cell_type": "markdown",
   "metadata": {},
   "source": [
    "SELECT\n",
    "\t*\n",
    "FROM\n",
    "\tstations\n",
    "WHERE\n",
    "\tstation_id = 84"
   ]
  },
  {
   "cell_type": "markdown",
   "metadata": {},
   "source": [
    "SELECT\n",
    "\tMinTemperatureF\n",
    "FROM\n",
    "\tweather\n",
    "WHERE\n",
    "\tZIP = 94301 AND\n",
    "\tEvents = 'Rain'"
   ]
  },
  {
   "cell_type": "code",
   "execution_count": null,
   "metadata": {},
   "outputs": [],
   "source": []
  }
 ],
 "metadata": {
  "kernelspec": {
   "display_name": "Python 3",
   "language": "python",
   "name": "python3"
  },
  "language_info": {
   "codemirror_mode": {
    "name": "ipython",
    "version": 3
   },
   "file_extension": ".py",
   "mimetype": "text/x-python",
   "name": "python",
   "nbconvert_exporter": "python",
   "pygments_lexer": "ipython3",
   "version": "3.7.0"
  }
 },
 "nbformat": 4,
 "nbformat_minor": 2
}
