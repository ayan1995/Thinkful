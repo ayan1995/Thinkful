{
 "cells": [
  {
   "cell_type": "code",
   "execution_count": 1,
   "metadata": {},
   "outputs": [
    {
     "name": "stderr",
     "output_type": "stream",
     "text": [
      "/usr/local/lib/python3.7/site-packages/matplotlib/__init__.py:886: MatplotlibDeprecationWarning: \n",
      "examples.directory is deprecated; in the future, examples will be found relative to the 'datapath' directory.\n",
      "  \"found relative to the 'datapath' directory.\".format(key))\n"
     ]
    }
   ],
   "source": [
    "import numpy as np\n",
    "import pandas as pd\n",
    "import scipy\n",
    "import matplotlib.pyplot as plt\n",
    "import seaborn as sns\n",
    "import glob\n",
    "import os\n",
    "import re\n",
    "import spacy\n",
    "import nltk\n",
    "%matplotlib inline"
   ]
  },
  {
   "cell_type": "code",
   "execution_count": 2,
   "metadata": {},
   "outputs": [],
   "source": [
    "# Import TextEdit Documents \n",
    "# Put Text Edit Documents into A Dataframe\n",
    "# Inside Data Frame, the columns should include; Source, Document\n",
    "\n",
    "# path to folders /Users/ayankarim/documents/thinkful/bootcamp/Unit 6 Advanced NLP/20news-bydate/20news-bydate-train\n",
    "\n",
    "train_directory = '/Users/ayankarim/documents/thinkful/bootcamp/Unit 6 Advanced NLP/20news-bydate/20news-bydate-train'\n",
    "\n",
    "\n",
    "# def scan_folder(parent):\n",
    "#     # iterate over all the files in directory 'parent'\n",
    "#     for file_name in os.listdir(train_directory):\n",
    "        \n",
    "#         if file_name.endswith(\".txt\"):\n",
    "#             # if it's a txt file, print its name (or do whatever you want)\n",
    "#             print(file_name)\n",
    "#         else:\n",
    "#             current_path = \"\".join((parent, \"/\", file_name))\n",
    "#             if os.path.isdir(current_path):\n",
    "#                 # if we're checking a sub-directory, recall this method\n",
    "#                 scan_folder(current_path)\n",
    "\n"
   ]
  },
  {
   "cell_type": "code",
   "execution_count": 3,
   "metadata": {},
   "outputs": [
    {
     "name": "stdout",
     "output_type": "stream",
     "text": [
      "['talk.politics.mideast', 'rec.autos', 'comp.sys.mac.hardware', 'alt.atheism', 'rec.sport.baseball', 'comp.os.ms-windows.misc', 'rec.sport.hockey', 'sci.crypt', 'sci.med', 'talk.politics.misc', 'rec.motorcycles', 'comp.windows.x', 'comp.graphics', 'comp.sys.ibm.pc.hardware', 'sci.electronics', 'talk.politics.guns', 'sci.space', 'soc.religion.christian', 'misc.forsale', 'talk.religion.misc']\n"
     ]
    }
   ],
   "source": [
    "folders = []\n",
    "for folder in os.listdir(train_directory):\n",
    "    folders.append(folder)\n",
    "    \n",
    "folders.remove('.DS_Store')\n",
    "\n",
    "print(folders)"
   ]
  },
  {
   "cell_type": "code",
   "execution_count": 4,
   "metadata": {},
   "outputs": [
    {
     "data": {
      "text/plain": [
       "20"
      ]
     },
     "execution_count": 4,
     "metadata": {},
     "output_type": "execute_result"
    }
   ],
   "source": [
    "len(folders)"
   ]
  },
  {
   "cell_type": "code",
   "execution_count": 5,
   "metadata": {},
   "outputs": [],
   "source": [
    "# Define path to text files that contain the novels\n",
    "\n",
    "topics = []\n",
    "articles = []\n",
    "texts = []\n",
    "\n",
    "for name in folders:\n",
    "    path = '/Users/ayankarim/documents/thinkful/bootcamp/Unit 6 Advanced NLP/20news-bydate/20news-bydate-train/' + str(name) + '/*'\n",
    "    files = glob.glob(path)\n",
    "    # Create empty lists to store information on author, title, and content of the text\n",
    "    # assign author, title and content of texts to lists\n",
    "    for filename in files:\n",
    "        try:\n",
    "            with open(filename, 'rb') as f:\n",
    "                topics.append(name)\n",
    "                articles.append(filename.split('n/')[1])\n",
    "                texts.append(f.read())\n",
    "        except IOError as exc:\n",
    "            if exc.errno != errno.EISDIR:\n",
    "                raise\n",
    "\n",
    "# Convert type object type from bytes to strings         \n",
    "texts = [text.decode('ISO-8859-1') for text in texts]"
   ]
  },
  {
   "cell_type": "code",
   "execution_count": 6,
   "metadata": {},
   "outputs": [],
   "source": [
    "# go to first folder, save title of folder as the topic\n",
    "# import all data to text list and save title to title list\n"
   ]
  },
  {
   "cell_type": "code",
   "execution_count": 7,
   "metadata": {},
   "outputs": [],
   "source": [
    "# # Utility function for standard text cleaning.\n",
    "# def text_cleaner(text):\n",
    "#     # Visual inspection identifies a form of punctuation spaCy does not\n",
    "#     # recognize: the double dash '--'.  Better get rid of it now!\n",
    "#     text = re.sub(r'--',' ',text)\n",
    "#     text = re.sub(\"[\\[].*?[\\]]\", \"\", text)\n",
    "#     #text = re.sub(\"\\n\", \" \", text)\n",
    "#     text = re.sub(\"\\'\", \"\", text)\n",
    "#     text = re.sub(r'Chapter \\d+','', text)\n",
    "#     text = re.sub(r'CHAPTER \\d+','', text)\n",
    "#     text = re.sub(r'chapter \\d+','', text)\n",
    "#     text = ' '.join(text.split())\n",
    "#     return text"
   ]
  },
  {
   "cell_type": "code",
   "execution_count": 8,
   "metadata": {},
   "outputs": [
    {
     "name": "stdout",
     "output_type": "stream",
     "text": [
      "11314\n",
      "11314\n",
      "11314\n"
     ]
    }
   ],
   "source": [
    "print(len(topics))\n",
    "print(len(articles))\n",
    "print(len(texts))"
   ]
  },
  {
   "cell_type": "code",
   "execution_count": 9,
   "metadata": {},
   "outputs": [],
   "source": [
    "# Sparse the text\n",
    "nlp = spacy.load('en')\n",
    "texts = [nlp(text) for text in texts]"
   ]
  },
  {
   "cell_type": "code",
   "execution_count": 10,
   "metadata": {},
   "outputs": [
    {
     "data": {
      "text/plain": [
       "dict_keys(['topics', 'articles', 'texts'])"
      ]
     },
     "execution_count": 10,
     "metadata": {},
     "output_type": "execute_result"
    }
   ],
   "source": [
    "# Create dictionary containing information on data set for title, author and text\n",
    "text_dict = {}\n",
    "text_dict['topics'] = topics\n",
    "text_dict['articles'] = articles\n",
    "text_dict['texts'] = texts\n",
    "text_dict.keys()"
   ]
  },
  {
   "cell_type": "code",
   "execution_count": 11,
   "metadata": {},
   "outputs": [],
   "source": [
    "# Create a data frame from dictionary containing the data set\n",
    "df = pd.DataFrame({'topics':text_dict['topics'], 'articles':text_dict['articles'], 'texts':text_dict['texts']})"
   ]
  },
  {
   "cell_type": "code",
   "execution_count": 12,
   "metadata": {},
   "outputs": [],
   "source": [
    "# Convert tuples to string\n",
    "df['texts'] = df['texts'].astype(str)"
   ]
  },
  {
   "cell_type": "code",
   "execution_count": 13,
   "metadata": {
    "scrolled": true
   },
   "outputs": [
    {
     "name": "stdout",
     "output_type": "stream",
     "text": [
      "<class 'pandas.core.frame.DataFrame'>\n",
      "RangeIndex: 11314 entries, 0 to 11313\n",
      "Data columns (total 3 columns):\n",
      "topics      11314 non-null object\n",
      "articles    11314 non-null object\n",
      "texts       11314 non-null object\n",
      "dtypes: object(3)\n",
      "memory usage: 265.2+ KB\n"
     ]
    }
   ],
   "source": [
    "df.info()"
   ]
  },
  {
   "cell_type": "code",
   "execution_count": 14,
   "metadata": {},
   "outputs": [],
   "source": [
    "# Tokenize sentences\n",
    "df['texts'] = df.apply(lambda row: nltk.word_tokenize(row['texts']), axis=1)"
   ]
  },
  {
   "cell_type": "code",
   "execution_count": 15,
   "metadata": {},
   "outputs": [],
   "source": [
    "from nltk.corpus import stopwords\n",
    "\n",
    "# Remove all stop words\n",
    "stop = stopwords.words('english')\n",
    "df['texts'] = df['texts'].apply(lambda x: [item for item in x if item not in stop])"
   ]
  },
  {
   "cell_type": "code",
   "execution_count": 16,
   "metadata": {},
   "outputs": [],
   "source": [
    "# Lower Case everything\n",
    "df['texts'] = df['texts'].astype(str)\n",
    "df['texts'] = df['texts'].apply(lambda x: x.lower())"
   ]
  },
  {
   "cell_type": "code",
   "execution_count": 17,
   "metadata": {},
   "outputs": [],
   "source": [
    "from string import punctuation\n",
    "\n",
    "# remove all punctuations\n",
    "df['texts'] = df['texts'].apply(lambda x: ''.join(c for c in x if c not in punctuation))"
   ]
  },
  {
   "cell_type": "code",
   "execution_count": 18,
   "metadata": {},
   "outputs": [
    {
     "data": {
      "text/html": [
       "<div>\n",
       "<style scoped>\n",
       "    .dataframe tbody tr th:only-of-type {\n",
       "        vertical-align: middle;\n",
       "    }\n",
       "\n",
       "    .dataframe tbody tr th {\n",
       "        vertical-align: top;\n",
       "    }\n",
       "\n",
       "    .dataframe thead th {\n",
       "        text-align: right;\n",
       "    }\n",
       "</style>\n",
       "<table border=\"1\" class=\"dataframe\">\n",
       "  <thead>\n",
       "    <tr style=\"text-align: right;\">\n",
       "      <th></th>\n",
       "      <th>topics</th>\n",
       "      <th>articles</th>\n",
       "      <th>texts</th>\n",
       "    </tr>\n",
       "  </thead>\n",
       "  <tbody>\n",
       "    <tr>\n",
       "      <th>0</th>\n",
       "      <td>talk.politics.mideast</td>\n",
       "      <td>talk.politics.mideast/75895</td>\n",
       "      <td>from  hm  csbrownedu  harry mamaysky  subject ...</td>\n",
       "    </tr>\n",
       "    <tr>\n",
       "      <th>1</th>\n",
       "      <td>talk.politics.mideast</td>\n",
       "      <td>talk.politics.mideast/76248</td>\n",
       "      <td>from  waldo  cybernetcsefauedu  todd j dicker ...</td>\n",
       "    </tr>\n",
       "    <tr>\n",
       "      <th>2</th>\n",
       "      <td>talk.politics.mideast</td>\n",
       "      <td>talk.politics.mideast/76277</td>\n",
       "      <td>from  clgannon  newcastleacuk  space cadet  su...</td>\n",
       "    </tr>\n",
       "    <tr>\n",
       "      <th>3</th>\n",
       "      <td>talk.politics.mideast</td>\n",
       "      <td>talk.politics.mideast/76045</td>\n",
       "      <td>from  shaig  thinkcom  shai guday  subject  ba...</td>\n",
       "    </tr>\n",
       "    <tr>\n",
       "      <th>4</th>\n",
       "      <td>talk.politics.mideast</td>\n",
       "      <td>talk.politics.mideast/76283</td>\n",
       "      <td>from  koc  rizeeceorstedu  cetin kaya koc  sub...</td>\n",
       "    </tr>\n",
       "  </tbody>\n",
       "</table>\n",
       "</div>"
      ],
      "text/plain": [
       "                  topics                     articles  \\\n",
       "0  talk.politics.mideast  talk.politics.mideast/75895   \n",
       "1  talk.politics.mideast  talk.politics.mideast/76248   \n",
       "2  talk.politics.mideast  talk.politics.mideast/76277   \n",
       "3  talk.politics.mideast  talk.politics.mideast/76045   \n",
       "4  talk.politics.mideast  talk.politics.mideast/76283   \n",
       "\n",
       "                                               texts  \n",
       "0  from  hm  csbrownedu  harry mamaysky  subject ...  \n",
       "1  from  waldo  cybernetcsefauedu  todd j dicker ...  \n",
       "2  from  clgannon  newcastleacuk  space cadet  su...  \n",
       "3  from  shaig  thinkcom  shai guday  subject  ba...  \n",
       "4  from  koc  rizeeceorstedu  cetin kaya koc  sub...  "
      ]
     },
     "execution_count": 18,
     "metadata": {},
     "output_type": "execute_result"
    }
   ],
   "source": [
    "df.head()"
   ]
  },
  {
   "cell_type": "code",
   "execution_count": 19,
   "metadata": {},
   "outputs": [],
   "source": [
    "from sklearn.feature_extraction.text import TfidfVectorizer, CountVectorizer\n",
    "# Creat TF-IDF Matrix\n",
    "\n",
    "# Creating the tf-idf matrix.\n",
    "vectorizer = TfidfVectorizer(stop_words='english')\n",
    "train_tfidf=vectorizer.fit_transform(df['texts'])"
   ]
  },
  {
   "cell_type": "code",
   "execution_count": 20,
   "metadata": {},
   "outputs": [],
   "source": [
    "# Getting the word list.\n",
    "terms = vectorizer.get_feature_names()\n",
    "\n",
    "# Number of topics.\n",
    "ntopics=20"
   ]
  },
  {
   "cell_type": "code",
   "execution_count": 21,
   "metadata": {},
   "outputs": [],
   "source": [
    "# Linking words to topics\n",
    "def word_topic(tfidf, solution, wordlist):\n",
    "    \n",
    "    # Loading scores for each word on each topic/component.\n",
    "    words_by_topic=tfidf.T * solution\n",
    "\n",
    "    # Linking the loadings to the words in an easy-to-read way.\n",
    "    components=pd.DataFrame(words_by_topic,index=wordlist)\n",
    "    \n",
    "    return components\n",
    "\n",
    "# Extracts the top N words and their loadings for each topic.\n",
    "def top_words(components, n_top_words):\n",
    "    n_topics = range(components.shape[1])\n",
    "    index= np.repeat(n_topics, n_top_words, axis=0)\n",
    "    topwords=pd.Series(index=index)\n",
    "    for column in range(components.shape[1]):\n",
    "        # Sort the column so that highest loadings are at the top.\n",
    "        sortedwords=components.iloc[:,column].sort_values(ascending=False)\n",
    "        # Choose the N highest loadings.\n",
    "        chosen=sortedwords[:n_top_words]\n",
    "        # Combine loading and index into a string.\n",
    "        chosenlist=chosen.index +\" \"+round(chosen,2).map(str) \n",
    "        topwords.loc[column]=chosenlist\n",
    "    return(topwords)\n",
    "\n",
    "# Number of words to look at for each topic.\n",
    "n_top_words = 10"
   ]
  },
  {
   "cell_type": "code",
   "execution_count": 22,
   "metadata": {},
   "outputs": [],
   "source": [
    "# LSA\n",
    "\n",
    "from sklearn.decomposition import TruncatedSVD\n",
    "from sklearn.pipeline import make_pipeline\n",
    "from sklearn.preprocessing import Normalizer\n",
    "\n",
    "svd= TruncatedSVD(ntopics)\n",
    "lsa = make_pipeline(svd, Normalizer(copy=False))\n",
    "train_lsa = lsa.fit_transform(train_tfidf)\n",
    "\n",
    "components_lsa = word_topic(train_tfidf, train_lsa, terms)\n",
    "\n",
    "topwords=pd.DataFrame()\n",
    "topwords['LSA']=top_words(components_lsa, n_top_words)                \n"
   ]
  },
  {
   "cell_type": "code",
   "execution_count": 23,
   "metadata": {},
   "outputs": [
    {
     "name": "stderr",
     "output_type": "stream",
     "text": [
      "/usr/local/lib/python3.7/site-packages/sklearn/decomposition/online_lda.py:314: DeprecationWarning: n_topics has been renamed to n_components in version 0.19 and will be removed in 0.21\n",
      "  DeprecationWarning)\n"
     ]
    }
   ],
   "source": [
    "# LDA\n",
    "from sklearn.decomposition import LatentDirichletAllocation as LDA\n",
    "\n",
    "lda = LDA(n_topics=ntopics, \n",
    "          doc_topic_prior=None, # Prior = 1/n_documents\n",
    "          topic_word_prior=1/ntopics,\n",
    "          learning_decay=0.7, # Convergence rate.\n",
    "          learning_offset=10.0, # Causes earlier iterations to have less influence on the learning\n",
    "          max_iter=10, # when to stop even if the model is not converging (to prevent running forever)\n",
    "          evaluate_every=-1, # Do not evaluate perplexity, as it slows training time.\n",
    "          mean_change_tol=0.001, # Stop updating the document topic distribution in the E-step when mean change is < tol\n",
    "          max_doc_update_iter=100, # When to stop updating the document topic distribution in the E-step even if tol is not reached\n",
    "          n_jobs=-1, # Use all available CPUs to speed up processing time.\n",
    "          verbose=0, # amount of output to give while iterating\n",
    "          random_state=0\n",
    "         )\n",
    "\n",
    "train_lda = lda.fit_transform(train_tfidf) \n",
    "\n",
    "components_lda = word_topic(train_tfidf, train_lda, terms)\n",
    "\n",
    "topwords['LDA']=top_words(components_lda, n_top_words)\n"
   ]
  },
  {
   "cell_type": "code",
   "execution_count": 24,
   "metadata": {},
   "outputs": [],
   "source": [
    "# NNMF\n",
    "\n",
    "from sklearn.decomposition import NMF\n",
    "\n",
    "nmf = NMF(alpha=0.0, \n",
    "          init='nndsvdar', # how starting value are calculated\n",
    "          l1_ratio=0.0, # Sets whether regularization is L2 (0), L1 (1), or a combination (values between 0 and 1)\n",
    "          max_iter=200, # when to stop even if the model is not converging (to prevent running forever)\n",
    "          n_components=ntopics, \n",
    "          random_state=0, \n",
    "          solver='cd', # Use Coordinate Descent to solve\n",
    "          tol=0.0001, # model will stop if tfidf-WH <= tol\n",
    "          verbose=0 # amount of output to give while iterating\n",
    "         )\n",
    "train_nmf = nmf.fit_transform(train_tfidf) \n",
    "\n",
    "components_nmf = word_topic(train_tfidf, train_nmf, terms)\n",
    "\n",
    "topwords['NNMF']=top_words(components_nmf, n_top_words)"
   ]
  },
  {
   "cell_type": "code",
   "execution_count": 25,
   "metadata": {
    "scrolled": false
   },
   "outputs": [
    {
     "name": "stdout",
     "output_type": "stream",
     "text": [
      "Topic 0:\n",
      "                  LSA                    LDA               NNMF\n",
      "0            nt 158.0              nt 108.12            car 2.8\n",
      "0      subject 101.99          subject 75.78          bike 1.43\n",
      "0        lines 101.04            lines 75.67            nt 1.31\n",
      "0  organization 99.85     organization 74.51        writes 1.04\n",
      "0        writes 99.04           writes 66.67       article 1.03\n",
      "0        article 90.5       university 66.13          cars 0.97\n",
      "0    university 88.58          article 60.52          like 0.83\n",
      "0           like 83.1  nntppostinghost 60.49       subject 0.79\n",
      "0        people 80.29             like 59.11  organization 0.79\n",
      "0          know 78.18             know 56.14         lines 0.78\n",
      "Topic 1:\n",
      "               LSA                   LDA             NNMF\n",
      "1         god 47.7               nt 4.46        god 10.18\n",
      "1      jesus 22.53          subject 3.19        jesus 4.3\n",
      "1     people 21.54            lines 3.18       bible 2.75\n",
      "1      bible 14.79     organization 3.16          nt 2.48\n",
      "1  christians 13.6           writes 2.94       people 2.4\n",
      "1  christian 13.48          article 2.87     believe 2.28\n",
      "1    believe 12.09       university 2.68       faith 2.17\n",
      "1     christ 11.33  nntppostinghost 2.54  christians 2.11\n",
      "1      faith 11.27             like 2.19   christian 2.04\n",
      "1     church 10.84            think 2.11      christ 1.99\n",
      "Topic 2:\n",
      "                LSA                   LDA             NNMF\n",
      "2         key 24.27               nt 4.98         key 4.42\n",
      "2     clipper 24.07          subject 4.12      clipper 4.2\n",
      "2  encryption 21.99            lines 4.09  encryption 4.18\n",
      "2        chip 21.26     organization 4.08        chip 4.17\n",
      "2  government 20.11           writes 3.62        keys 2.31\n",
      "2        keys 12.97       university 3.57  government 2.23\n",
      "2        escrow 9.6  nntppostinghost 3.32      escrow 1.76\n",
      "2      clinton 9.23          article 3.14          nt 1.72\n",
      "2          nsa 9.19             like 2.79   algorithm 1.59\n",
      "2       crypto 9.02            think 2.51      crypto 1.52\n",
      "Topic 3:\n",
      "              LSA                   LDA          NNMF\n",
      "3      team 22.74               nt 8.19     team 3.38\n",
      "3      game 21.34               ax 6.17     game 2.95\n",
      "3      year 17.32           writes 6.11       nt 2.04\n",
      "3   players 14.65          subject 5.96  players 2.03\n",
      "3      games 14.5            lines 5.92    games 2.02\n",
      "3    hockey 14.08          article 5.81    hockey 2.0\n",
      "3        nt 13.08      organization 5.8     year 1.84\n",
      "3    writes 12.83       university 5.29     play 1.67\n",
      "3   article 12.71  nntppostinghost 4.75   season 1.61\n",
      "3  baseball 12.01              like 3.9      nhl 1.51\n",
      "Topic 4:\n",
      "                    LSA                 LDA                  NNMF\n",
      "4          gordon 20.82            nt 55.84              geb 5.11\n",
      "4             geb 20.07           god 46.28           gordon 4.89\n",
      "4           banks 19.56        people 42.65            banks 4.88\n",
      "4       cspittedu 14.41        writes 36.12        cspittedu 3.49\n",
      "4          science 8.62       article 33.05            n3jxp 1.73\n",
      "4         computer 7.22        subject 28.9  cadredslpittedu 1.73\n",
      "4            n3jxp 6.56         think 28.38         chastity 1.73\n",
      "4         chastity 6.54         lines 27.82         shameful 1.72\n",
      "4         shameful 6.54  organization 27.53       skepticism 1.71\n",
      "4  cadredslpittedu 6.54          like 26.11        intellect 1.71\n",
      "Topic 5:\n",
      "              LSA                   LDA          NNMF\n",
      "5    israel 19.33               nt 4.78       nt 5.85\n",
      "5   israeli 15.63       university 3.92   people 3.21\n",
      "5      jews 11.48          subject 3.82    think 2.49\n",
      "5    turkish 9.13            lines 3.78     like 2.38\n",
      "5   armenian 7.75     organization 3.77     know 2.23\n",
      "5  armenians 7.54           writes 3.25   writes 2.12\n",
      "5       arab 7.32          article 3.04   article 1.9\n",
      "5     people 7.08  nntppostinghost 2.92     good 1.79\n",
      "5        war 6.23             like 2.71     time 1.63\n",
      "5    armenia 5.65              know 2.7  subject 1.55\n",
      "Topic 6:\n",
      "               LSA                   LDA                   NNMF\n",
      "6      drive 22.92               nt 3.49             keith 3.53\n",
      "6       scsi 15.79          subject 3.08          morality 2.14\n",
      "6         nt 12.26            lines 2.99           livesey 1.98\n",
      "6         ide 10.0     organization 2.97         objective 1.69\n",
      "6        keith 9.3            writes 2.5  solntzewpdsgicom 1.38\n",
      "6         car 9.07       university 2.49             moral 1.28\n",
      "6      drives 7.86          article 2.42               jon 1.28\n",
      "6  controller 7.47  nntppostinghost 2.37         schneider 1.27\n",
      "6        hard 7.33             know 1.87                nt 1.19\n",
      "6         gun 6.67             like 1.86     ccocaltechedu 1.17\n",
      "Topic 7:\n",
      "                    LSA                   LDA             NNMF\n",
      "7           keith 16.18                nt 4.2       drive 3.62\n",
      "7         windows 11.49          subject 3.77        scsi 3.32\n",
      "7               nt 9.41            lines 3.76          ide 2.1\n",
      "7         morality 9.37     organization 3.69      drives 1.32\n",
      "7           window 9.03           writes 3.25  controller 1.29\n",
      "7          livesey 8.19        university 3.2        hard 1.24\n",
      "7        objective 7.93  nntppostinghost 2.94        disk 1.17\n",
      "7             file 7.34           article 2.8         bus 0.93\n",
      "7           writes 7.09             know 2.41         mac 0.84\n",
      "7  nntppostinghost 6.94          players 2.35          nt 0.79\n",
      "Topic 8:\n",
      "             LSA                   LDA           NNMF\n",
      "8   israel 18.71               nt 3.29    israel 5.01\n",
      "8  israeli 14.72          subject 2.84   israeli 3.69\n",
      "8    keith 10.64     organization 2.77      jews 2.29\n",
      "8      jews 8.94            lines 2.77      arab 1.67\n",
      "8       arab 6.2       university 2.43  lebanese 1.29\n",
      "8   morality 5.9           writes 2.36     arabs 1.22\n",
      "8      jake 5.82          article 2.24      jake 1.12\n",
      "8    jewish 5.64  nntppostinghost 2.24     peace 1.11\n",
      "8      team 5.23             know 1.86  israelis 1.09\n",
      "8      game 5.21           thanks 1.77   lebanon 1.07\n",
      "Topic 9:\n",
      "              LSA                   LDA            NNMF\n",
      "9     keith 12.97               nt 3.82   armenian 2.77\n",
      "9   turkish 10.09          subject 3.35    turkish 2.76\n",
      "9   armenian 8.84            lines 3.34  armenians 2.49\n",
      "9  armenians 8.39     organization 3.29    armenia 1.82\n",
      "9       game 8.28       university 3.19      argic 1.73\n",
      "9       team 8.12           writes 2.76     serdar 1.72\n",
      "9    windows 7.63  nntppostinghost 2.64      turks 1.49\n",
      "9    morality 7.1          article 2.58   genocide 1.28\n",
      "9    armenia 6.55             like 2.36     turkey 1.15\n",
      "9     livesey 6.3           people 1.95     people 1.11\n",
      "Topic 10:\n",
      "                     LSA                   LDA                 NNMF\n",
      "10            space 16.1               nt 4.41      university 2.63\n",
      "10      university 15.82           subject 3.8         subject 2.42\n",
      "10         subject 14.81            lines 3.72           lines 2.41\n",
      "10    organization 14.75      organization 3.7    organization 2.39\n",
      "10           lines 14.54           writes 3.25  nntppostinghost 2.1\n",
      "10  nntppostinghost 14.4       university 3.08           thanks 2.0\n",
      "10            sale 13.05          article 2.81           email 1.93\n",
      "10    distribution 11.19  nntppostinghost 2.71              nt 1.89\n",
      "10            email 10.4             know 2.62    distribution 1.68\n",
      "10             new 10.18             like 2.41            know 1.61\n",
      "Topic 11:\n",
      "                   LSA                   LDA                NNMF\n",
      "11         space 20.74               nt 4.71           henry 3.6\n",
      "11         henry 14.37          subject 3.82          space 3.15\n",
      "11           moon 8.14            lines 3.81  zootorontoedu 1.78\n",
      "11            nasa 7.3      organization 3.8        spencer 1.49\n",
      "11  zootorontoedu 7.24           writes 3.67        zoology 1.35\n",
      "11         launch 5.97           article 3.5           moon 1.21\n",
      "11          orbit 5.76       university 3.32           nasa 1.15\n",
      "11        spencer 5.52             like 2.84        toronto 1.13\n",
      "11        program 5.46  nntppostinghost 2.72         launch 0.99\n",
      "11         window 5.31             know 2.65             nt 0.99\n",
      "Topic 12:\n",
      "            LSA                   LDA             NNMF\n",
      "12     car 21.3               nt 5.35         gun 2.99\n",
      "12   bike 12.26          subject 4.09      people 2.05\n",
      "12       nt 8.7              msg 3.99          nt 2.04\n",
      "12    cars 7.89            lines 3.98        guns 1.83\n",
      "12  window 7.29     organization 3.98  government 1.46\n",
      "12     key 6.85           writes 3.74      writes 1.26\n",
      "12  engine 6.41       university 3.71         law 1.23\n",
      "12     dod 6.28          article 3.57     article 1.22\n",
      "12     oil 5.31  nntppostinghost 3.35     weapons 1.19\n",
      "12   speed 4.87             like 2.99       right 1.15\n",
      "Topic 13:\n",
      "             LSA                   LDA          NNMF\n",
      "13   window 9.52               nt 2.86     card 4.08\n",
      "13    drive 7.16            lines 2.41    video 2.38\n",
      "13     file 6.24          subject 2.41  monitor 1.62\n",
      "13      msg 5.35     organization 2.34  drivers 1.52\n",
      "13     scsi 5.22       university 1.98  windows 1.28\n",
      "13   cramer 5.17           writes 1.95      vga 1.25\n",
      "13  program 4.79  nntppostinghost 1.88       nt 1.06\n",
      "13       new 4.4          article 1.74    cards 1.05\n",
      "13    files 4.35             know 1.72  diamond 0.98\n",
      "13    motif 4.07             like 1.48    color 0.96\n",
      "Topic 14:\n",
      "                    LSA                   LDA              NNMF\n",
      "14        sandvik 12.97               nt 3.99       cramer 3.25\n",
      "14          window 8.67          subject 3.55      clayton 1.84\n",
      "14            kent 8.34     organization 3.53           men 1.8\n",
      "14  newtonapplecom 8.11            lines 3.52  optilinkcom 1.47\n",
      "14            bike 5.98           writes 3.05   homosexual 1.42\n",
      "14         article 5.17          article 2.85          gay 1.26\n",
      "14     xnewsreader 5.06        university 2.8       sexual 1.15\n",
      "14              11 5.01  nntppostinghost 2.65     optilink 1.13\n",
      "14           wrote 4.95             know 2.36       people 0.94\n",
      "14             car 4.85             like 2.24         male 0.91\n",
      "Topic 15:\n",
      "                 LSA                   LDA                 NNMF\n",
      "15      cramer 10.49               nt 4.43         sandvik 3.95\n",
      "15          msg 8.94            lines 3.79  newtonapplecom 2.49\n",
      "15         card 8.76          subject 3.74            kent 2.45\n",
      "15          men 6.68     organization 3.62           ksand 1.09\n",
      "15       clayton 6.3       university 3.13           alink 1.09\n",
      "15           nt 6.02           writes 3.12      cookamunga 0.96\n",
      "15      article 5.85  nntppostinghost 2.97         tourist 0.95\n",
      "15        video 5.22          article 2.95           jesus 0.94\n",
      "15       writes 5.11             like 2.84       activities 0.9\n",
      "15  optilinkcom 5.09     distribution 2.32          bureau 0.87\n",
      "Topic 16:\n",
      "               LSA                  LDA                NNMF\n",
      "16   windows 14.71              nt 3.48         georgia 3.1\n",
      "16   michael 10.93         subject 2.85        michael 2.23\n",
      "16    georgia 8.98           lines 2.84      covington 2.04\n",
      "16        dos 7.94    organization 2.83       mcovingt 2.04\n",
      "16        file 7.1      university 2.68         athens 1.89\n",
      "16         nt 6.24          writes 2.39        programs 1.5\n",
      "16    article 4.95  nntppostinghost 2.3  aisun3aiugaedu 1.4\n",
      "16        car 4.89         article 2.13            706 1.19\n",
      "16  covington 4.31          amanda 1.99       aiugaedu 1.02\n",
      "16   mcovingt 4.26            know 1.82          n4tmi 1.01\n",
      "Topic 17:\n",
      "                         LSA                LDA          NNMF\n",
      "17                   gld 8.7           geb 4.84  windows 4.27\n",
      "17  cunixbcccolumbiaedu 7.89         banks 4.59     file 2.27\n",
      "17                  gary 7.6        gordon 4.54      dos 2.02\n",
      "17                  car 7.44            nt 3.77     files 1.6\n",
      "17                  new 7.31     cspittedu 3.24       nt 1.15\n",
      "17              windows 6.82       subject 3.18       31 1.04\n",
      "17                  god 6.08         lines 3.18   program 1.0\n",
      "17                 sale 5.91  organization 3.13       use 1.0\n",
      "17            insurance 5.85        writes 2.89  version 0.78\n",
      "17                 dare 5.16       article 2.79    lines 0.76\n",
      "Topic 18:\n",
      "                         LSA                   LDA                     NNMF\n",
      "18               window 8.73               nt 4.62                 gld 3.93\n",
      "18              georgia 7.35          subject 3.84  cunixbcccolumbiaedu 2.7\n",
      "18              michael 7.14            lines 3.82                gary 2.41\n",
      "18                  gld 6.98     organization 3.78                dare 2.26\n",
      "18                 gary 6.66           writes 3.73                jets 0.79\n",
      "18  cunixbcccolumbiaedu 6.11          article 3.38                domi 0.77\n",
      "18                  msg 4.67       university 3.35        cunixcbitnet 0.76\n",
      "18                 dare 4.22  nntppostinghost 2.81            souviens 0.76\n",
      "18            covington 4.16             know 2.59         columbiaedu 0.75\n",
      "18             mcovingt 4.09             like 2.44                phds 0.75\n",
      "Topic 19:\n",
      "                     LSA                   LDA              NNMF\n",
      "19            file 10.14               nt 4.16       window 5.41\n",
      "19          windows 10.0              gld 3.85      manager 1.32\n",
      "19              msg 8.88             lines 3.4  application 0.98\n",
      "19            files 8.03          subject 3.38       server 0.97\n",
      "19             bike 5.92     organization 3.35          use 0.94\n",
      "19             food 5.37       university 2.93        motif 0.94\n",
      "19          article 5.25           writes 2.81       problem 0.9\n",
      "19  nntppostinghost 5.22  nntppostinghost 2.64      program 0.87\n",
      "19               nt 5.11          article 2.56        mouse 0.87\n",
      "19           writes 4.91             like 2.37      windows 0.87\n"
     ]
    }
   ],
   "source": [
    "for topic in range(ntopics):\n",
    "    print('Topic {}:'.format(topic))\n",
    "    print(topwords.loc[topic])"
   ]
  },
  {
   "cell_type": "code",
   "execution_count": 28,
   "metadata": {
    "scrolled": false
   },
   "outputs": [
    {
     "data": {
      "image/png": "[encoded data removed]",
      "text/plain": [
       "<Figure size 432x288 with 1 Axes>"
      ]
     },
     "metadata": {},
     "output_type": "display_data"
    },
    {
     "data": {
      "image/png": "[encoded data removed]",
      "text/plain": [
       "<Figure size 432x288 with 1 Axes>"
      ]
     },
     "metadata": {},
     "output_type": "display_data"
    },
    {
     "data": {
      "image/png": "[encoded data removed]",
      "text/plain": [
       "<Figure size 432x288 with 1 Axes>"
      ]
     },
     "metadata": {},
     "output_type": "display_data"
    },
    {
     "data": {
      "image/png": "[encoded data removed]",
      "text/plain": [
       "<Figure size 432x288 with 1 Axes>"
      ]
     },
     "metadata": {},
     "output_type": "display_data"
    },
    {
     "data": {
      "image/png": "[encoded data removed]",
      "text/plain": [
       "<Figure size 432x288 with 1 Axes>"
      ]
     },
     "metadata": {},
     "output_type": "display_data"
    }
   ],
   "source": [
    "# organization, university, bible, sexual, morality\n",
    "\n",
    "# The words to look at.\n",
    "targetwords=['organization','university','bible','sexual', 'morality']\n",
    "\n",
    "# Storing the loadings.\n",
    "wordloadings=pd.DataFrame(columns=targetwords)\n",
    "\n",
    "# For each word, extracting and string the loadings for each method.\n",
    "for word in targetwords:\n",
    "    loadings=components_lsa.loc[word].append(\n",
    "        components_lda.loc[word]).append(\n",
    "            components_nmf.loc[word])\n",
    "    wordloadings[word]=loadings\n",
    "\n",
    "# Labeling the data by method and providing an ordering variable for graphing purposes. \n",
    "wordloadings['method']=np.repeat(['LSA','LDA','NNMF'], 20, axis=0)\n",
    "wordloadings['loading']=[0,1,2,3,4,5,6,7,8,9,10,11,12,13,14,15,16,17,18,19]*3\n",
    "\n",
    "sns.set(style=\"darkgrid\")\n",
    "\n",
    "for word in targetwords:\n",
    "    sns.barplot(x=\"method\", y=word, hue=\"loading\", data=wordloadings)\n",
    "    plt.title(word)\n",
    "    plt.ylabel(\"\")\n",
    "    plt.show()\n"
   ]
  },
  {
   "cell_type": "markdown",
   "metadata": {},
   "source": [
    "# Conclusion\n",
    "\n",
    "From the algorithms run above, I believe that Non-Negative Matrix Factorization may be the most useful algorithm for topic modelling this corpus of text. According to our visualizations of sparsity, NNMF is is easily the most sparse as there isn't much positive loading for these words in each of the topics. This is important for our corpus because we have many topics (20). Since we have that many topics, we want strong separability when assignin topics to text and words to topics. This model can therefore distinguish between the topics easier. Given that there are many topics, words and phrases can overlap between them, so better sparsity is good."
   ]
  },
  {
   "cell_type": "code",
   "execution_count": null,
   "metadata": {},
   "outputs": [],
   "source": []
  }
 ],
 "metadata": {
  "kernelspec": {
   "display_name": "Python 3",
   "language": "python",
   "name": "python3"
  },
  "language_info": {
   "codemirror_mode": {
    "name": "ipython",
    "version": 3
   },
   "file_extension": ".py",
   "mimetype": "text/x-python",
   "name": "python",
   "nbconvert_exporter": "python",
   "pygments_lexer": "ipython3",
   "version": "3.7.2"
  }
 },
 "nbformat": 4,
 "nbformat_minor": 2
}
