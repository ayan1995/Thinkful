{
 "cells": [
  {
   "cell_type": "markdown",
   "metadata": {},
   "source": [
    "DRILL:\n",
    "Let's say we work at a credit card company and we're trying to figure out if people are going to pay their bills on time. We have everyone's purchases, split into four main categories: groceries, dining out, utilities, and entertainment. What are some ways you might use KNN to create this model? What aspects of KNN would be useful? Write up your thoughts in submit a link below."
   ]
  },
  {
   "cell_type": "markdown",
   "metadata": {},
   "source": [
    "KNN Methodology:\n",
    "\n",
    "1. Create a data frame with all predictors, or features, as well as a binary column indicating whether the bill was paid on time (1 for paid on time and 0 for not paid on time)\n",
    "2. Normalize all purchases in the dataframe using z scores.\n",
    "3. Split the data into a train and test group.\n",
    "3. Train the KNN classifier with the predictors(x) being the purchases, and the prediction(y) being whether or not the bill was paid on time.\n",
    "4. Apply the model to test group to see how accurately it classifies bills being paid on time or not.\n",
    "5. Since the dataset is densely populated, we don't need to weight the distances."
   ]
  }
 ],
 "metadata": {
  "kernelspec": {
   "display_name": "Python 3",
   "language": "python",
   "name": "python3"
  },
  "language_info": {
   "codemirror_mode": {
    "name": "ipython",
    "version": 3
   },
   "file_extension": ".py",
   "mimetype": "text/x-python",
   "name": "python",
   "nbconvert_exporter": "python",
   "pygments_lexer": "ipython3",
   "version": "3.7.0"
  }
 },
 "nbformat": 4,
 "nbformat_minor": 2
}
