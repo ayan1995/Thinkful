{
 "cells": [
  {
   "cell_type": "code",
   "execution_count": 1,
   "metadata": {},
   "outputs": [],
   "source": [
    "import numpy as np\n",
    "import pandas as pd\n",
    "import matplotlib.pyplot as plt\n",
    "import seaborn as sns\n",
    "%matplotlib inline"
   ]
  },
  {
   "cell_type": "code",
   "execution_count": 6,
   "metadata": {},
   "outputs": [
    {
     "data": {
      "text/html": [
       "<div>\n",
       "<style scoped>\n",
       "    .dataframe tbody tr th:only-of-type {\n",
       "        vertical-align: middle;\n",
       "    }\n",
       "\n",
       "    .dataframe tbody tr th {\n",
       "        vertical-align: top;\n",
       "    }\n",
       "\n",
       "    .dataframe thead th {\n",
       "        text-align: right;\n",
       "    }\n",
       "</style>\n",
       "<table border=\"1\" class=\"dataframe\">\n",
       "  <thead>\n",
       "    <tr style=\"text-align: right;\">\n",
       "      <th></th>\n",
       "      <th>Linear Regression Scores</th>\n",
       "      <th>Gradient Boosted Regression Scores</th>\n",
       "    </tr>\n",
       "    <tr>\n",
       "      <th>Holdout-Groups</th>\n",
       "      <th></th>\n",
       "      <th></th>\n",
       "    </tr>\n",
       "  </thead>\n",
       "  <tbody>\n",
       "    <tr>\n",
       "      <th>20% Test Set</th>\n",
       "      <td>0.9049</td>\n",
       "      <td>0.8963</td>\n",
       "    </tr>\n",
       "    <tr>\n",
       "      <th>cv 1</th>\n",
       "      <td>0.9280</td>\n",
       "      <td>0.9222</td>\n",
       "    </tr>\n",
       "    <tr>\n",
       "      <th>cv 2</th>\n",
       "      <td>0.9083</td>\n",
       "      <td>0.9140</td>\n",
       "    </tr>\n",
       "    <tr>\n",
       "      <th>cv 3</th>\n",
       "      <td>0.9318</td>\n",
       "      <td>0.9129</td>\n",
       "    </tr>\n",
       "    <tr>\n",
       "      <th>cv 4</th>\n",
       "      <td>0.9605</td>\n",
       "      <td>0.9276</td>\n",
       "    </tr>\n",
       "    <tr>\n",
       "      <th>cv 5</th>\n",
       "      <td>0.9180</td>\n",
       "      <td>0.9223</td>\n",
       "    </tr>\n",
       "    <tr>\n",
       "      <th>range</th>\n",
       "      <td>0.0522</td>\n",
       "      <td>0.0146</td>\n",
       "    </tr>\n",
       "  </tbody>\n",
       "</table>\n",
       "</div>"
      ],
      "text/plain": [
       "               Linear Regression Scores Gradient Boosted Regression Scores\n",
       "Holdout-Groups                                                            \n",
       "20% Test Set                     0.9049                             0.8963\n",
       "cv 1                             0.9280                             0.9222\n",
       "cv 2                             0.9083                             0.9140\n",
       "cv 3                             0.9318                             0.9129\n",
       "cv 4                             0.9605                             0.9276\n",
       "cv 5                             0.9180                             0.9223\n",
       "range                            0.0522                             0.0146"
      ]
     },
     "execution_count": 6,
     "metadata": {},
     "output_type": "execute_result"
    }
   ],
   "source": [
    "regress = pd.DataFrame()\n",
    "regress['Holdout-Groups'] = ['20% Test Set', 'cv 1', 'cv 2', 'cv 3', 'cv 4', 'cv 5', 'range']\n",
    "regress['Linear Regression Scores'] = ['0.9049', '0.9280', '0.9083', '0.9318', '0.9605', '0.9180', '0.0522']\n",
    "regress['Gradient Boosted Regression Scores'] = ['0.8963', '0.9222', '0.9140', '0.9129', '0.9276', '0.9223', '0.0146']\n",
    "regress = regress.set_index('Holdout-Groups')\n",
    "regress"
   ]
  },
  {
   "cell_type": "code",
   "execution_count": 3,
   "metadata": {},
   "outputs": [
    {
     "data": {
      "text/plain": [
       "0.052200000000000024"
      ]
     },
     "execution_count": 3,
     "metadata": {},
     "output_type": "execute_result"
    }
   ],
   "source": [
    "0.9605-0.9083"
   ]
  },
  {
   "cell_type": "code",
   "execution_count": 4,
   "metadata": {},
   "outputs": [
    {
     "data": {
      "text/plain": [
       "0.014699999999999935"
      ]
     },
     "execution_count": 4,
     "metadata": {},
     "output_type": "execute_result"
    }
   ],
   "source": [
    "0.9276-0.9129"
   ]
  },
  {
   "cell_type": "code",
   "execution_count": 5,
   "metadata": {},
   "outputs": [
    {
     "data": {
      "text/html": [
       "<div>\n",
       "<style scoped>\n",
       "    .dataframe tbody tr th:only-of-type {\n",
       "        vertical-align: middle;\n",
       "    }\n",
       "\n",
       "    .dataframe tbody tr th {\n",
       "        vertical-align: top;\n",
       "    }\n",
       "\n",
       "    .dataframe thead th {\n",
       "        text-align: right;\n",
       "    }\n",
       "</style>\n",
       "<table border=\"1\" class=\"dataframe\">\n",
       "  <thead>\n",
       "    <tr style=\"text-align: right;\">\n",
       "      <th></th>\n",
       "      <th>Gradient Boosted Classification Score</th>\n",
       "      <th>Random Forest Classification Scores</th>\n",
       "    </tr>\n",
       "    <tr>\n",
       "      <th>Holdout-Groups</th>\n",
       "      <th></th>\n",
       "      <th></th>\n",
       "    </tr>\n",
       "  </thead>\n",
       "  <tbody>\n",
       "    <tr>\n",
       "      <th>20% Test Set</th>\n",
       "      <td>0.9810</td>\n",
       "      <td>0.9683</td>\n",
       "    </tr>\n",
       "    <tr>\n",
       "      <th>Type I error</th>\n",
       "      <td>0.00%</td>\n",
       "      <td>1.07%</td>\n",
       "    </tr>\n",
       "    <tr>\n",
       "      <th>Type II error</th>\n",
       "      <td>4.62%</td>\n",
       "      <td>6.15%</td>\n",
       "    </tr>\n",
       "  </tbody>\n",
       "</table>\n",
       "</div>"
      ],
      "text/plain": [
       "               Gradient Boosted Classification Score  \\\n",
       "Holdout-Groups                                         \n",
       "20% Test Set                                  0.9810   \n",
       "Type I error                                   0.00%   \n",
       "Type II error                                  4.62%   \n",
       "\n",
       "               Random Forest Classification Scores  \n",
       "Holdout-Groups                                      \n",
       "20% Test Set                                0.9683  \n",
       "Type I error                                 1.07%  \n",
       "Type II error                                6.15%  "
      ]
     },
     "execution_count": 5,
     "metadata": {},
     "output_type": "execute_result"
    }
   ],
   "source": [
    "classification = pd.DataFrame()\n",
    "classification['Holdout-Groups'] = ['20% Test Set', 'Type I error', 'Type II error']\n",
    "classification['Gradient Boosted Classification Score'] = ['0.9810', '0.00%', '4.62%']\n",
    "classification['Random Forest Classification Scores'] = ['0.9683', '1.07%', '6.15%']\n",
    "classification = classification.set_index('Holdout-Groups')\n",
    "classification"
   ]
  },
  {
   "cell_type": "code",
   "execution_count": null,
   "metadata": {},
   "outputs": [],
   "source": []
  }
 ],
 "metadata": {
  "kernelspec": {
   "display_name": "Python 3",
   "language": "python",
   "name": "python3"
  },
  "language_info": {
   "codemirror_mode": {
    "name": "ipython",
    "version": 3
   },
   "file_extension": ".py",
   "mimetype": "text/x-python",
   "name": "python",
   "nbconvert_exporter": "python",
   "pygments_lexer": "ipython3",
   "version": "3.7.0"
  }
 },
 "nbformat": 4,
 "nbformat_minor": 2
}
