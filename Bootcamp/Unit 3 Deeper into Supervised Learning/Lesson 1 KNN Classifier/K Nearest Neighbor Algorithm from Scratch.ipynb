{
 "cells": [
  {
   "cell_type": "code",
   "execution_count": 1,
   "metadata": {},
   "outputs": [],
   "source": [
    "import pandas as pd\n",
    "import numpy as np\n",
    "import matplotlib.pyplot as plt\n",
    "import sklearn\n",
    "from sklearn.model_selection import train_test_split\n",
    "import scipy\n",
    "import math\n",
    "import warnings\n",
    "from collections import Counter\n",
    "%matplotlib inline"
   ]
  },
  {
   "cell_type": "code",
   "execution_count": 2,
   "metadata": {},
   "outputs": [],
   "source": [
    "music = pd.DataFrame()\n",
    "\n",
    "\n",
    "music['jazz'] = [ 1, 0, 0, 0, 1, 1, 0, 1, 1, 0,\n",
    "                  0, 1, 1, 0, 1, 1, 0, 1, 1, 1,\n",
    "                  1, 1, 1, 1, 0, 0, 1, 1, 0, 0]\n",
    "\n",
    "music['duration'] = [184, 134, 243, 186, 122, 197, 294, 382, 102, 264, \n",
    "                     205, 110, 307, 110, 397, 153, 190, 192, 210, 403,\n",
    "                     164, 198, 204, 253, 234, 190, 182, 401, 376, 102]\n",
    "\n",
    "music['loudness'] = [18, 34, 43, 36, 22, 9, 29, 22, 10, 24, \n",
    "                     20, 10, 17, 51, 7, 13, 19, 12, 21, 22,\n",
    "                     16, 18, 4, 23, 34, 19, 14, 11, 37, 42]\n",
    "\n",
    "music = {1:[[184,18], [122,22], [197,9], [382,22], [102,10], [110,10], [307,17], [397,7], [153,13], [192,12]], 0:[[134,34], [243,43], [186,36], [294,29], [264,24], [205,20], [110,51], [190,19], [234,34], [190,19]]}"
   ]
  },
  {
   "cell_type": "code",
   "execution_count": 3,
   "metadata": {},
   "outputs": [],
   "source": [
    "# Define euclidean distance function\n",
    "\n",
    "distance_columns = ['duration', 'loudness']\n",
    "\n",
    "def knn(dataset, predict, k=3):\n",
    "    if len(music) > k:\n",
    "        warnings.warn(\"K should be smaller than size of dataset\")\n",
    "    distance = []\n",
    "    for group in music:\n",
    "        for features in music[group]:\n",
    "            dist = np.linalg.norm(np.array(features) - np.array(predict))\n",
    "            distance.append([dist, group])\n",
    "            \n",
    "    votes = [i[1] for i in sorted(distance)[:k]]\n",
    "    prediction = Counter(votes).most_common(1)[0][0]\n",
    "    return prediction\n",
    "        "
   ]
  },
  {
   "cell_type": "code",
   "execution_count": 4,
   "metadata": {},
   "outputs": [
    {
     "name": "stdout",
     "output_type": "stream",
     "text": [
      "0\n"
     ]
    }
   ],
   "source": [
    "music = {1:[[184,18], [122,22], [197,9], [382,22], [102,10], [110,10], [307,17], [397,7], [153,13], [192,12]], 0:[[134,34], [243,43], [186,36], [294,29], [264,24], [205,20], [110,51], [190,19], [234,34], [190,19]]}\n",
    "predict = [24, 190]\n",
    "p = knn(music, predict, k=3)\n",
    "print(p)"
   ]
  },
  {
   "cell_type": "code",
   "execution_count": null,
   "metadata": {},
   "outputs": [],
   "source": []
  }
 ],
 "metadata": {
  "kernelspec": {
   "display_name": "Python 3",
   "language": "python",
   "name": "python3"
  },
  "language_info": {
   "codemirror_mode": {
    "name": "ipython",
    "version": 3
   },
   "file_extension": ".py",
   "mimetype": "text/x-python",
   "name": "python",
   "nbconvert_exporter": "python",
   "pygments_lexer": "ipython3",
   "version": "3.7.0"
  }
 },
 "nbformat": 4,
 "nbformat_minor": 2
}
