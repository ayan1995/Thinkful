{
 "cells": [
  {
   "cell_type": "markdown",
   "metadata": {},
   "source": [
    "Datset on New York in 2013 found at: https://ucr.fbi.gov/crime-in-the-u.s/2013/crime-in-the-u.s.-2013/tables/table-8/table-8-state-cuts/table_8_offenses_known_to_law_enforcement_new_york_by_city_2013.xls"
   ]
  },
  {
   "cell_type": "markdown",
   "metadata": {},
   "source": [
    "### Data\n",
    "\n",
    "The data used in this investigation is the 2013 Crime Rates in New York City. We're using the variables with information on crime to predict whether Murder has occured in each city. \n",
    "\n",
    "### Preprocessing\n",
    "\n",
    "After cleaning the data, we changed the murder column to binary values where 1 means that murder has occured and 0 that it hasn't.\n",
    "\n",
    "### Feature Selection\n",
    "\n",
    "In this model we're using each of the features available to us by the columns of data. Furthermore, we created a new column for Population squared to put a higher emphasis on population. This is also done to provide more quadratic 'noise' to our model for the sake of showing how regularization can minimize the overfitting affects of large data and large coefficients."
   ]
  },
  {
   "cell_type": "code",
   "execution_count": 1,
   "metadata": {},
   "outputs": [],
   "source": [
    "import math\n",
    "\n",
    "from IPython.display import display\n",
    "import numpy as np\n",
    "import pandas as pd\n",
    "import matplotlib.pyplot as plt\n",
    "import seaborn as sns\n",
    "from sklearn import linear_model\n",
    "from sklearn.decomposition import PCA\n",
    "from sklearn.preprocessing import StandardScaler\n",
    "from sklearn.model_selection import train_test_split\n",
    "import scipy\n",
    "import statsmodels.formula.api as smf\n",
    "%matplotlib inline\n",
    "pd.options.display.float_format = '{:.3f}'.format\n",
    "\n",
    "# Suppress annoying harmless error.\n",
    "import warnings\n",
    "warnings.filterwarnings(action='ignore', module='scipy', message='^internal gelsd')"
   ]
  },
  {
   "cell_type": "code",
   "execution_count": 2,
   "metadata": {},
   "outputs": [],
   "source": [
    "# Read data using pandas\n",
    "df = pd.read_excel('table_8_offenses_known_to_law_enforcement_new_york_by_city_2013.xls')\n",
    "\n",
    "# Delete first three rows\n",
    "df = df.drop([0,1,2], axis=0)\n",
    "\n",
    "# Make first row the column headers\n",
    "df = df.reset_index(drop=True)\n",
    "df.columns = df.iloc[0]\n",
    "df = df.drop([0], axis=0)\n",
    "df = df.reset_index(drop=True)\n",
    "\n",
    "# Rename all column headers\n",
    "df.columns = ['City', 'Population', 'Violent Crime', 'Murder and Nonnegligent Manslaughter', 'Rape (revised definition)', 'Rape (legacy definition)', 'Robbery', 'Aggravated Assault', 'Property Crime', 'Burglary', 'Larceny-Theft', 'Motor Vehicle Theft', 'Arson']\n",
    "\n",
    "# Remove entire Unnamed: 4 or 'Rape revised defintion'\n",
    "df = df.drop('Rape (revised definition)', axis=1)\n",
    "\n",
    "# Remove null objects\n",
    "df = df.drop([348, 349, 350], axis=0)\n",
    "df = df.drop('Arson', axis=1)\n",
    "df = df.dropna(how='all')\n",
    "\n",
    "# Convert all columns from object to integer values\n",
    "df[['Population', 'Violent Crime',\n",
    "       'Murder and Nonnegligent Manslaughter', 'Rape (legacy definition)',\n",
    "       'Robbery', 'Aggravated Assault', 'Property Crime', 'Burglary',\n",
    "       'Larceny-Theft', 'Motor Vehicle Theft']] = df[['Population', 'Violent Crime',\n",
    "       'Murder and Nonnegligent Manslaughter', 'Rape (legacy definition)',\n",
    "       'Robbery', 'Aggravated Assault', 'Property Crime', 'Burglary',\n",
    "       'Larceny-Theft', 'Motor Vehicle Theft']].astype(int)\n",
    "\n",
    "# Remove New York and buffalo from data because it skews the data. Although the data is correct\n",
    "df[df['City'] == 'New York']\n",
    "df = df[(df['City']!='New York')&(df['City']!='Buffalo')]\n",
    "\n",
    "# Change name of Property Crime so that it's one word\n",
    "df['Propertycrime'] = df['Property Crime']\n",
    "df = df.drop(columns=['Property Crime'])\n",
    "\n",
    "df['Murder'] = df['Murder and Nonnegligent Manslaughter']\n",
    "df = df.drop(columns=['Murder and Nonnegligent Manslaughter'])\n",
    "\n",
    "df['Aggravated_Assault'] = df['Aggravated Assault']\n",
    "df = df.drop(columns=['Aggravated Assault'])"
   ]
  },
  {
   "cell_type": "code",
   "execution_count": 3,
   "metadata": {},
   "outputs": [],
   "source": [
    "# Create Features: Population^2, Murder binary, Robbery, binary\n",
    "# More specifically, create binary categories for murder and robery\n",
    "df['Population^2'] = df['Population']**2\n",
    "df['Murder'] = np.where(df['Murder']>0, '1', '0')\n",
    "#df['Aggravated_Assault'] = np.where(df['Aggravated_Assault']>0, '1', '0')\n",
    "\n",
    "#Convert new columns to int\n",
    "df[['Population^2']] = df[['Population^2']].astype(int)\n",
    "df[['Murder']] = df[['Murder']].astype(int)\n",
    "df[['Aggravated_Assault']] = df[['Aggravated_Assault']].astype(int)"
   ]
  },
  {
   "cell_type": "code",
   "execution_count": 4,
   "metadata": {
    "scrolled": true
   },
   "outputs": [
    {
     "data": {
      "text/html": [
       "<div>\n",
       "<style scoped>\n",
       "    .dataframe tbody tr th:only-of-type {\n",
       "        vertical-align: middle;\n",
       "    }\n",
       "\n",
       "    .dataframe tbody tr th {\n",
       "        vertical-align: top;\n",
       "    }\n",
       "\n",
       "    .dataframe thead th {\n",
       "        text-align: right;\n",
       "    }\n",
       "</style>\n",
       "<table border=\"1\" class=\"dataframe\">\n",
       "  <thead>\n",
       "    <tr style=\"text-align: right;\">\n",
       "      <th></th>\n",
       "      <th>Population</th>\n",
       "      <th>Violent Crime</th>\n",
       "      <th>Rape (legacy definition)</th>\n",
       "      <th>Robbery</th>\n",
       "      <th>Burglary</th>\n",
       "      <th>Larceny-Theft</th>\n",
       "      <th>Motor Vehicle Theft</th>\n",
       "      <th>Propertycrime</th>\n",
       "      <th>Murder</th>\n",
       "      <th>Aggravated_Assault</th>\n",
       "      <th>Population^2</th>\n",
       "    </tr>\n",
       "  </thead>\n",
       "  <tbody>\n",
       "    <tr>\n",
       "      <th>Population</th>\n",
       "      <td>1.000</td>\n",
       "      <td>0.796</td>\n",
       "      <td>0.737</td>\n",
       "      <td>0.778</td>\n",
       "      <td>0.767</td>\n",
       "      <td>0.871</td>\n",
       "      <td>0.804</td>\n",
       "      <td>0.857</td>\n",
       "      <td>0.505</td>\n",
       "      <td>0.799</td>\n",
       "      <td>0.881</td>\n",
       "    </tr>\n",
       "    <tr>\n",
       "      <th>Violent Crime</th>\n",
       "      <td>0.796</td>\n",
       "      <td>1.000</td>\n",
       "      <td>0.922</td>\n",
       "      <td>0.988</td>\n",
       "      <td>0.945</td>\n",
       "      <td>0.875</td>\n",
       "      <td>0.973</td>\n",
       "      <td>0.912</td>\n",
       "      <td>0.453</td>\n",
       "      <td>0.994</td>\n",
       "      <td>0.869</td>\n",
       "    </tr>\n",
       "    <tr>\n",
       "      <th>Rape (legacy definition)</th>\n",
       "      <td>0.737</td>\n",
       "      <td>0.922</td>\n",
       "      <td>1.000</td>\n",
       "      <td>0.893</td>\n",
       "      <td>0.950</td>\n",
       "      <td>0.885</td>\n",
       "      <td>0.917</td>\n",
       "      <td>0.918</td>\n",
       "      <td>0.442</td>\n",
       "      <td>0.915</td>\n",
       "      <td>0.776</td>\n",
       "    </tr>\n",
       "    <tr>\n",
       "      <th>Robbery</th>\n",
       "      <td>0.778</td>\n",
       "      <td>0.988</td>\n",
       "      <td>0.893</td>\n",
       "      <td>1.000</td>\n",
       "      <td>0.932</td>\n",
       "      <td>0.853</td>\n",
       "      <td>0.975</td>\n",
       "      <td>0.893</td>\n",
       "      <td>0.417</td>\n",
       "      <td>0.965</td>\n",
       "      <td>0.878</td>\n",
       "    </tr>\n",
       "    <tr>\n",
       "      <th>Burglary</th>\n",
       "      <td>0.767</td>\n",
       "      <td>0.945</td>\n",
       "      <td>0.950</td>\n",
       "      <td>0.932</td>\n",
       "      <td>1.000</td>\n",
       "      <td>0.929</td>\n",
       "      <td>0.959</td>\n",
       "      <td>0.964</td>\n",
       "      <td>0.430</td>\n",
       "      <td>0.931</td>\n",
       "      <td>0.793</td>\n",
       "    </tr>\n",
       "    <tr>\n",
       "      <th>Larceny-Theft</th>\n",
       "      <td>0.871</td>\n",
       "      <td>0.875</td>\n",
       "      <td>0.885</td>\n",
       "      <td>0.853</td>\n",
       "      <td>0.929</td>\n",
       "      <td>1.000</td>\n",
       "      <td>0.890</td>\n",
       "      <td>0.994</td>\n",
       "      <td>0.472</td>\n",
       "      <td>0.871</td>\n",
       "      <td>0.799</td>\n",
       "    </tr>\n",
       "    <tr>\n",
       "      <th>Motor Vehicle Theft</th>\n",
       "      <td>0.804</td>\n",
       "      <td>0.973</td>\n",
       "      <td>0.917</td>\n",
       "      <td>0.975</td>\n",
       "      <td>0.959</td>\n",
       "      <td>0.890</td>\n",
       "      <td>1.000</td>\n",
       "      <td>0.928</td>\n",
       "      <td>0.407</td>\n",
       "      <td>0.954</td>\n",
       "      <td>0.875</td>\n",
       "    </tr>\n",
       "    <tr>\n",
       "      <th>Propertycrime</th>\n",
       "      <td>0.857</td>\n",
       "      <td>0.912</td>\n",
       "      <td>0.918</td>\n",
       "      <td>0.893</td>\n",
       "      <td>0.964</td>\n",
       "      <td>0.994</td>\n",
       "      <td>0.928</td>\n",
       "      <td>1.000</td>\n",
       "      <td>0.466</td>\n",
       "      <td>0.905</td>\n",
       "      <td>0.816</td>\n",
       "    </tr>\n",
       "    <tr>\n",
       "      <th>Murder</th>\n",
       "      <td>0.505</td>\n",
       "      <td>0.453</td>\n",
       "      <td>0.442</td>\n",
       "      <td>0.417</td>\n",
       "      <td>0.430</td>\n",
       "      <td>0.472</td>\n",
       "      <td>0.407</td>\n",
       "      <td>0.466</td>\n",
       "      <td>1.000</td>\n",
       "      <td>0.469</td>\n",
       "      <td>0.355</td>\n",
       "    </tr>\n",
       "    <tr>\n",
       "      <th>Aggravated_Assault</th>\n",
       "      <td>0.799</td>\n",
       "      <td>0.994</td>\n",
       "      <td>0.915</td>\n",
       "      <td>0.965</td>\n",
       "      <td>0.931</td>\n",
       "      <td>0.871</td>\n",
       "      <td>0.954</td>\n",
       "      <td>0.905</td>\n",
       "      <td>0.469</td>\n",
       "      <td>1.000</td>\n",
       "      <td>0.852</td>\n",
       "    </tr>\n",
       "    <tr>\n",
       "      <th>Population^2</th>\n",
       "      <td>0.881</td>\n",
       "      <td>0.869</td>\n",
       "      <td>0.776</td>\n",
       "      <td>0.878</td>\n",
       "      <td>0.793</td>\n",
       "      <td>0.799</td>\n",
       "      <td>0.875</td>\n",
       "      <td>0.816</td>\n",
       "      <td>0.355</td>\n",
       "      <td>0.852</td>\n",
       "      <td>1.000</td>\n",
       "    </tr>\n",
       "  </tbody>\n",
       "</table>\n",
       "</div>"
      ],
      "text/plain": [
       "                          Population  Violent Crime  Rape (legacy definition)  \\\n",
       "Population                     1.000          0.796                     0.737   \n",
       "Violent Crime                  0.796          1.000                     0.922   \n",
       "Rape (legacy definition)       0.737          0.922                     1.000   \n",
       "Robbery                        0.778          0.988                     0.893   \n",
       "Burglary                       0.767          0.945                     0.950   \n",
       "Larceny-Theft                  0.871          0.875                     0.885   \n",
       "Motor Vehicle Theft            0.804          0.973                     0.917   \n",
       "Propertycrime                  0.857          0.912                     0.918   \n",
       "Murder                         0.505          0.453                     0.442   \n",
       "Aggravated_Assault             0.799          0.994                     0.915   \n",
       "Population^2                   0.881          0.869                     0.776   \n",
       "\n",
       "                          Robbery  Burglary  Larceny-Theft  \\\n",
       "Population                  0.778     0.767          0.871   \n",
       "Violent Crime               0.988     0.945          0.875   \n",
       "Rape (legacy definition)    0.893     0.950          0.885   \n",
       "Robbery                     1.000     0.932          0.853   \n",
       "Burglary                    0.932     1.000          0.929   \n",
       "Larceny-Theft               0.853     0.929          1.000   \n",
       "Motor Vehicle Theft         0.975     0.959          0.890   \n",
       "Propertycrime               0.893     0.964          0.994   \n",
       "Murder                      0.417     0.430          0.472   \n",
       "Aggravated_Assault          0.965     0.931          0.871   \n",
       "Population^2                0.878     0.793          0.799   \n",
       "\n",
       "                          Motor Vehicle Theft  Propertycrime  Murder  \\\n",
       "Population                              0.804          0.857   0.505   \n",
       "Violent Crime                           0.973          0.912   0.453   \n",
       "Rape (legacy definition)                0.917          0.918   0.442   \n",
       "Robbery                                 0.975          0.893   0.417   \n",
       "Burglary                                0.959          0.964   0.430   \n",
       "Larceny-Theft                           0.890          0.994   0.472   \n",
       "Motor Vehicle Theft                     1.000          0.928   0.407   \n",
       "Propertycrime                           0.928          1.000   0.466   \n",
       "Murder                                  0.407          0.466   1.000   \n",
       "Aggravated_Assault                      0.954          0.905   0.469   \n",
       "Population^2                            0.875          0.816   0.355   \n",
       "\n",
       "                          Aggravated_Assault  Population^2  \n",
       "Population                             0.799         0.881  \n",
       "Violent Crime                          0.994         0.869  \n",
       "Rape (legacy definition)               0.915         0.776  \n",
       "Robbery                                0.965         0.878  \n",
       "Burglary                               0.931         0.793  \n",
       "Larceny-Theft                          0.871         0.799  \n",
       "Motor Vehicle Theft                    0.954         0.875  \n",
       "Propertycrime                          0.905         0.816  \n",
       "Murder                                 0.469         0.355  \n",
       "Aggravated_Assault                     1.000         0.852  \n",
       "Population^2                           0.852         1.000  "
      ]
     },
     "execution_count": 4,
     "metadata": {},
     "output_type": "execute_result"
    }
   ],
   "source": [
    "df.corr()"
   ]
  },
  {
   "cell_type": "markdown",
   "metadata": {},
   "source": [
    "# Logistic Regression"
   ]
  },
  {
   "cell_type": "code",
   "execution_count": 5,
   "metadata": {},
   "outputs": [
    {
     "name": "stdout",
     "output_type": "stream",
     "text": [
      "Accuracy of Logistic Regression Model for predicting Murder in New York = 0.8846153846153846\n"
     ]
    }
   ],
   "source": [
    "# Logist Regression\n",
    "from sklearn.linear_model import LogisticRegression\n",
    "from sklearn.model_selection import train_test_split\n",
    "\n",
    "logreg = LogisticRegression()\n",
    "logregl2 = LogisticRegression(penalty='l2')\n",
    "logregl1 = LogisticRegression(penalty='l1')\n",
    "\n",
    "x = df.drop(['City', 'Murder'], 1)\n",
    "y = df['Murder']\n",
    "\n",
    "x_train, x_test, y_train, y_test = train_test_split(x, y, test_size=0.3, random_state=0)\n",
    "\n",
    "logreg.fit(x_train, y_train)\n",
    "\n",
    "y_pred = logreg.predict(x_test)\n",
    "\n",
    "print('Accuracy of Logistic Regression Model for predicting Murder in New York = ' + str(logreg.score(x_test, y_test)))\n"
   ]
  },
  {
   "cell_type": "code",
   "execution_count": 6,
   "metadata": {},
   "outputs": [
    {
     "name": "stdout",
     "output_type": "stream",
     "text": [
      "[[89  3]\n",
      " [ 9  3]]\n"
     ]
    }
   ],
   "source": [
    "# Confusion Matrix to view errors\n",
    "from sklearn.metrics import confusion_matrix\n",
    "confusion_matrix = confusion_matrix(y_test, y_pred)\n",
    "print(confusion_matrix)"
   ]
  },
  {
   "cell_type": "code",
   "execution_count": 7,
   "metadata": {},
   "outputs": [
    {
     "name": "stdout",
     "output_type": "stream",
     "text": [
      "             precision    recall  f1-score   support\n",
      "\n",
      "          0       0.91      0.97      0.94        92\n",
      "          1       0.50      0.25      0.33        12\n",
      "\n",
      "avg / total       0.86      0.88      0.87       104\n",
      "\n"
     ]
    }
   ],
   "source": [
    "# Compute precision, recall, F-mearue and support\n",
    "from sklearn.metrics import classification_report\n",
    "print(classification_report(y_test, y_pred))"
   ]
  },
  {
   "cell_type": "markdown",
   "metadata": {},
   "source": [
    "# L2 (Ridge) Logistic Regression"
   ]
  },
  {
   "cell_type": "code",
   "execution_count": 8,
   "metadata": {},
   "outputs": [
    {
     "name": "stdout",
     "output_type": "stream",
     "text": [
      "Accuracy of Logistic Regression Model for predicting Murder in New York = 0.8846153846153846\n"
     ]
    }
   ],
   "source": [
    "logregl2.fit(x_train, y_train)\n",
    "\n",
    "y_pred = logregl2.predict(x_test)\n",
    "\n",
    "print('Accuracy of Logistic Regression Model for predicting Murder in New York = ' + str(logregl2.score(x_test, y_test)))"
   ]
  },
  {
   "cell_type": "code",
   "execution_count": 9,
   "metadata": {
    "scrolled": true
   },
   "outputs": [
    {
     "name": "stdout",
     "output_type": "stream",
     "text": [
      "[[89  3]\n",
      " [ 9  3]]\n"
     ]
    }
   ],
   "source": [
    "# Confusion Matrix to view errors\n",
    "from sklearn.metrics import confusion_matrix\n",
    "confusion_matrix = confusion_matrix(y_test, y_pred)\n",
    "print(confusion_matrix)"
   ]
  },
  {
   "cell_type": "code",
   "execution_count": 10,
   "metadata": {},
   "outputs": [
    {
     "name": "stdout",
     "output_type": "stream",
     "text": [
      "             precision    recall  f1-score   support\n",
      "\n",
      "          0       0.91      0.97      0.94        92\n",
      "          1       0.50      0.25      0.33        12\n",
      "\n",
      "avg / total       0.86      0.88      0.87       104\n",
      "\n"
     ]
    }
   ],
   "source": [
    "# Compute precision, recall, F-mearue and support\n",
    "from sklearn.metrics import classification_report\n",
    "print(classification_report(y_test, y_pred))"
   ]
  },
  {
   "cell_type": "markdown",
   "metadata": {},
   "source": [
    "# L1 (Lasso) Logistic Regression"
   ]
  },
  {
   "cell_type": "code",
   "execution_count": 11,
   "metadata": {},
   "outputs": [
    {
     "name": "stdout",
     "output_type": "stream",
     "text": [
      "Accuracy of Logistic Regression Model for predicting Murder in New York = 0.9134615384615384\n"
     ]
    }
   ],
   "source": [
    "logregl1.fit(x_train, y_train)\n",
    "\n",
    "y_pred = logregl1.predict(x_test)\n",
    "\n",
    "print('Accuracy of Logistic Regression Model for predicting Murder in New York = ' + str(logregl1.score(x_test, y_test)))"
   ]
  },
  {
   "cell_type": "code",
   "execution_count": 12,
   "metadata": {
    "scrolled": true
   },
   "outputs": [
    {
     "name": "stdout",
     "output_type": "stream",
     "text": [
      "[[91  1]\n",
      " [ 8  4]]\n"
     ]
    }
   ],
   "source": [
    "# Confusion Matrix to view errors\n",
    "from sklearn.metrics import confusion_matrix\n",
    "confusion_matrix = confusion_matrix(y_test, y_pred)\n",
    "print(confusion_matrix)"
   ]
  },
  {
   "cell_type": "code",
   "execution_count": 13,
   "metadata": {},
   "outputs": [
    {
     "name": "stdout",
     "output_type": "stream",
     "text": [
      "             precision    recall  f1-score   support\n",
      "\n",
      "          0       0.92      0.99      0.95        92\n",
      "          1       0.80      0.33      0.47        12\n",
      "\n",
      "avg / total       0.91      0.91      0.90       104\n",
      "\n"
     ]
    }
   ],
   "source": [
    "# Compute precision, recall, F-mearue and support\n",
    "from sklearn.metrics import classification_report\n",
    "print(classification_report(y_test, y_pred))"
   ]
  },
  {
   "cell_type": "markdown",
   "metadata": {},
   "source": [
    "### Observations\n",
    "\n",
    "In the models above we've combined logistic regression with regularization by tuning the parameter to penalties like L1 and L2 repressenting lasso and ridge regularization.\n",
    "\n",
    "Regular Logistic Regression and Ridge Regression gives the same level of accuracy when classifying Murder at 88%.\n",
    "\n",
    "Lasso regression improves the model by 4 percent to 92%."
   ]
  },
  {
   "cell_type": "markdown",
   "metadata": {},
   "source": [
    "# Ridge Regression"
   ]
  },
  {
   "cell_type": "code",
   "execution_count": 14,
   "metadata": {},
   "outputs": [
    {
     "name": "stdout",
     "output_type": "stream",
     "text": [
      "-0.6724355751414863\n"
     ]
    },
    {
     "name": "stderr",
     "output_type": "stream",
     "text": [
      "/usr/local/lib/python3.7/site-packages/sklearn/linear_model/ridge.py:112: LinAlgWarning: scipy.linalg.solve\n",
      "Ill-conditioned matrix detected. Result is not guaranteed to be accurate.\n",
      "Reciprocal condition number4.158874e-22\n",
      "  overwrite_a=True).T\n"
     ]
    }
   ],
   "source": [
    "from sklearn import linear_model\n",
    "\n",
    "ridge = linear_model.Ridge(alpha=1, fit_intercept=False)\n",
    "\n",
    "x = df.drop(['City', 'Murder'], 1)\n",
    "y = df['Murder']\n",
    "\n",
    "x_train, x_test, y_train, y_test = train_test_split(x, y, test_size=0.3, random_state=0)\n",
    "\n",
    "ridge.fit(x_train, y_train)\n",
    "y_pred = ridge.predict(x_test)\n",
    "print(ridge.score(x_test, y_test))"
   ]
  },
  {
   "cell_type": "markdown",
   "metadata": {},
   "source": [
    "# Lasso Regression"
   ]
  },
  {
   "cell_type": "code",
   "execution_count": 15,
   "metadata": {},
   "outputs": [
    {
     "name": "stdout",
     "output_type": "stream",
     "text": [
      "0.38141910684711416\n"
     ]
    }
   ],
   "source": [
    "from sklearn import linear_model\n",
    "\n",
    "lasso = linear_model.Lasso(alpha=1.5)\n",
    "\n",
    "x = df.drop(['City', 'Murder'], 1)\n",
    "y = df['Murder']\n",
    "\n",
    "x_train, x_test, y_train, y_test = train_test_split(x, y, test_size=0.3, random_state=0)\n",
    "\n",
    "lasso.fit(x_train, y_train)\n",
    "y_pred = lasso.predict(x_test)\n",
    "print(lasso.score(x_test, y_test))"
   ]
  },
  {
   "cell_type": "markdown",
   "metadata": {},
   "source": [
    "# Ridge and Lasso Observations\n",
    "\n",
    "Neither the Ridge nor Lasso regressions have show promising models for classifying Murder. The R squared value for the Ridge regression is negative, indicating the value wasn't squared because the model was so poor. Further more, the lasso regression has a model accuracy of 38%. Changing the lambda value doesn't improve either model by much.\n",
    "\n",
    "# Final Conclusions\n",
    "\n",
    "Logistic Regression coupled with tuning the parameters to Lasso regression provides the most accurate model at 92% and so is the best by far. Furthermore, the the logistic L1 regression also has consistent precision, recall scores at 92% and F-score rates at 91%. This shows us that the models ability to predict true positive values are quite strong.\n",
    "\n",
    "However, even logistic regression isn't the best predictor of this model. The variables of this model have multicollinearity and there aren't many columns with large data point that would encourage using ridge or lasso regression. Because of the multicollinearity, adding new variables that are quaratic or cubic might multiply the overfitting that's already occuring. Therefore, a different model, may be more appropriate."
   ]
  },
  {
   "cell_type": "code",
   "execution_count": null,
   "metadata": {},
   "outputs": [],
   "source": []
  }
 ],
 "metadata": {
  "kernelspec": {
   "display_name": "Python 3",
   "language": "python",
   "name": "python3"
  },
  "language_info": {
   "codemirror_mode": {
    "name": "ipython",
    "version": 3
   },
   "file_extension": ".py",
   "mimetype": "text/x-python",
   "name": "python",
   "nbconvert_exporter": "python",
   "pygments_lexer": "ipython3",
   "version": "3.7.0"
  }
 },
 "nbformat": 4,
 "nbformat_minor": 2
}
