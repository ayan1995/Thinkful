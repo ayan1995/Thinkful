{
 "cells": [
  {
   "cell_type": "code",
   "execution_count": 15,
   "metadata": {},
   "outputs": [],
   "source": [
    "import math\n",
    "\n",
    "from IPython.display import display\n",
    "import numpy as np\n",
    "import pandas as pd\n",
    "import matplotlib.pyplot as plt\n",
    "import seaborn as sns\n",
    "from sklearn import linear_model\n",
    "import scipy\n",
    "import statsmodels.formula.api as smf\n",
    "%matplotlib inline\n",
    "pd.options.display.float_format = '{:.3f}'.format\n",
    "\n",
    "# Suppress annoying harmless error.\n",
    "import warnings\n",
    "warnings.filterwarnings(action='ignore', module='scipy', message='^internal gelsd')"
   ]
  },
  {
   "cell_type": "code",
   "execution_count": 16,
   "metadata": {},
   "outputs": [],
   "source": [
    "df = pd.read_excel('table_8_offenses_known_to_law_enforcement_new_york_by_city_2013.xls')"
   ]
  },
  {
   "cell_type": "code",
   "execution_count": 17,
   "metadata": {},
   "outputs": [],
   "source": [
    "# Delete first three rows\n",
    "df = df.drop([0,1,2], axis=0)\n",
    "\n",
    "# Make first row the column headers\n",
    "df = df.reset_index(drop=True)\n",
    "df.columns = df.iloc[0]\n",
    "df = df.drop([0], axis=0)\n",
    "df = df.reset_index(drop=True)\n",
    "\n",
    "# Rename all column headers\n",
    "df.columns = ['City', 'Population', 'Violent Crime', 'Murder and Nonnegligent Manslaughter', 'Rape (revised definition)', 'Rape (legacy definition)', 'Robbery', 'Aggravated Assault', 'Property Crime', 'Burglary', 'Larceny-Theft', 'Motor Vehicle Theft', 'Arson']\n",
    "\n",
    "# Remove entire Unnamed: 4 or 'Rape revised defintion'\n",
    "df = df.drop('Rape (revised definition)', axis=1)\n",
    "\n",
    "# Remove null objects\n",
    "df = df.drop([348, 349, 350], axis=0)\n",
    "df = df.drop('Arson', axis=1)\n",
    "df = df.dropna(how='all')\n",
    "\n",
    "# Convert all columns from object to integer values\n",
    "df[['Population', 'Violent Crime',\n",
    "       'Murder and Nonnegligent Manslaughter', 'Rape (legacy definition)',\n",
    "       'Robbery', 'Aggravated Assault', 'Property Crime', 'Burglary',\n",
    "       'Larceny-Theft', 'Motor Vehicle Theft']] = df[['Population', 'Violent Crime',\n",
    "       'Murder and Nonnegligent Manslaughter', 'Rape (legacy definition)',\n",
    "       'Robbery', 'Aggravated Assault', 'Property Crime', 'Burglary',\n",
    "       'Larceny-Theft', 'Motor Vehicle Theft']].astype(int)\n",
    "\n",
    "# Remove New York and buffalo from data because it skews the data. Although the data is correct\n",
    "df[df['City'] == 'New York']\n",
    "df = df[df['City']!='New York']\n",
    "\n",
    "# Change name of Property Crime so that it's one word\n",
    "df['Propertycrime'] = df['Property Crime']\n",
    "df = df.drop(columns=['Property Crime'])"
   ]
  },
  {
   "cell_type": "code",
   "execution_count": 18,
   "metadata": {},
   "outputs": [],
   "source": [
    "# Change name of variables to one word\n",
    "df['Larcenytheft'] = df['Larceny-Theft']\n",
    "df = df.drop(columns=['Larceny-Theft'])\n",
    "\n",
    "df['Motorvehicletheft'] = df['Motor Vehicle Theft']\n",
    "df = df.drop(columns=['Motor Vehicle Theft'])"
   ]
  },
  {
   "cell_type": "code",
   "execution_count": 19,
   "metadata": {},
   "outputs": [],
   "source": [
    "#Make variables binary\n",
    "df['Robbery_binary'] = np.where(df['Robbery']>0, '1', '0')"
   ]
  },
  {
   "cell_type": "code",
   "execution_count": 20,
   "metadata": {},
   "outputs": [
    {
     "name": "stdout",
     "output_type": "stream",
     "text": [
      "\n",
      "Coefficients: \n",
      " [[1.26560102e-04]\n",
      " [2.50146661e-01]\n",
      " [6.87755598e-01]\n",
      " [6.20977407e-02]]\n",
      "\n",
      "Intercept: \n",
      " [  0.5506028  -24.32170443  33.6910277   -9.36932327]\n",
      "\n",
      "R-squared:\n",
      " 0.9843468966715793\n"
     ]
    }
   ],
   "source": [
    "# Propertycrime = Robbery_binary + Burglary + Larcenytheft + Motorvehicletheft\n",
    "regr = linear_model.LinearRegression()\n",
    "X = df['Propertycrime'].values.reshape(-1, 1)\n",
    "Y = df[['Robbery_binary', 'Burglary', 'Larcenytheft', 'Motorvehicletheft']]\n",
    "regr.fit(a,b)\n",
    "\n",
    "# Inspect the results\n",
    "print('\\nCoefficients: \\n', regr.coef_)\n",
    "print('\\nIntercept: \\n', regr.intercept_)\n",
    "print('\\nR-squared:\\n', regr.score(X,Y))"
   ]
  },
  {
   "cell_type": "code",
   "execution_count": 21,
   "metadata": {},
   "outputs": [],
   "source": [
    "# Test for significance in parameters\n",
    "linear_formula = 'Propertycrime ~ Robbery_binary+Burglary+Larcenytheft+Motorvehicletheft'\n",
    "\n",
    "# Fit the model to our data using formula\n",
    "lm = smf.ols(formula=linear_formula, data=df).fit()"
   ]
  },
  {
   "cell_type": "code",
   "execution_count": 22,
   "metadata": {},
   "outputs": [
    {
     "data": {
      "text/plain": [
       "Intercept              0.000\n",
       "Robbery_binary[T.1]   -0.000\n",
       "Burglary               1.000\n",
       "Larcenytheft           1.000\n",
       "Motorvehicletheft      1.000\n",
       "dtype: float64"
      ]
     },
     "execution_count": 22,
     "metadata": {},
     "output_type": "execute_result"
    }
   ],
   "source": [
    "lm.params"
   ]
  },
  {
   "cell_type": "code",
   "execution_count": 23,
   "metadata": {},
   "outputs": [
    {
     "data": {
      "text/plain": [
       "Intercept             0.000\n",
       "Robbery_binary[T.1]   0.000\n",
       "Burglary              0.000\n",
       "Larcenytheft          0.000\n",
       "Motorvehicletheft     0.000\n",
       "dtype: float64"
      ]
     },
     "execution_count": 23,
     "metadata": {},
     "output_type": "execute_result"
    }
   ],
   "source": [
    "lm.pvalues"
   ]
  }
 ],
 "metadata": {
  "kernelspec": {
   "display_name": "Python 3",
   "language": "python",
   "name": "python3"
  },
  "language_info": {
   "codemirror_mode": {
    "name": "ipython",
    "version": 3
   },
   "file_extension": ".py",
   "mimetype": "text/x-python",
   "name": "python",
   "nbconvert_exporter": "python",
   "pygments_lexer": "ipython3",
   "version": "3.7.0"
  }
 },
 "nbformat": 4,
 "nbformat_minor": 2
}
