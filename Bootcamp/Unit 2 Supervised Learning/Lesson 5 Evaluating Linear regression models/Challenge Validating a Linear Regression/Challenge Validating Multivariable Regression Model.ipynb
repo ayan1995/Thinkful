{
 "cells": [
  {
   "cell_type": "code",
   "execution_count": 1,
   "metadata": {},
   "outputs": [],
   "source": [
    "import math\n",
    "\n",
    "from IPython.display import display\n",
    "import numpy as np\n",
    "import pandas as pd\n",
    "import matplotlib.pyplot as plt\n",
    "import seaborn as sns\n",
    "from sklearn import linear_model\n",
    "from sklearn.decomposition import PCA\n",
    "from sklearn.preprocessing import StandardScaler\n",
    "from sklearn.model_selection import train_test_split\n",
    "import scipy\n",
    "import statsmodels.formula.api as smf\n",
    "%matplotlib inline\n",
    "pd.options.display.float_format = '{:.3f}'.format\n",
    "\n",
    "# Suppress annoying harmless error.\n",
    "import warnings\n",
    "warnings.filterwarnings(action='ignore', module='scipy', message='^internal gelsd')"
   ]
  },
  {
   "cell_type": "markdown",
   "metadata": {},
   "source": [
    "Datset on New York in 2013 found at: https://ucr.fbi.gov/crime-in-the-u.s/2013/crime-in-the-u.s.-2013/tables/table-8/table-8-state-cuts/table_8_offenses_known_to_law_enforcement_new_york_by_city_2013.xls"
   ]
  },
  {
   "cell_type": "code",
   "execution_count": 2,
   "metadata": {},
   "outputs": [],
   "source": [
    "# Read data using pandas\n",
    "df = pd.read_excel('table_8_offenses_known_to_law_enforcement_new_york_by_city_2013.xls')\n",
    "\n",
    "# Delete first three rows\n",
    "df = df.drop([0,1,2], axis=0)\n",
    "\n",
    "# Make first row the column headers\n",
    "df = df.reset_index(drop=True)\n",
    "df.columns = df.iloc[0]\n",
    "df = df.drop([0], axis=0)\n",
    "df = df.reset_index(drop=True)\n",
    "\n",
    "# Rename all column headers\n",
    "df.columns = ['City', 'Population', 'Violent Crime', 'Murder and Nonnegligent Manslaughter', 'Rape (revised definition)', 'Rape (legacy definition)', 'Robbery', 'Aggravated Assault', 'Property Crime', 'Burglary', 'Larceny-Theft', 'Motor Vehicle Theft', 'Arson']\n",
    "\n",
    "# Remove entire Unnamed: 4 or 'Rape revised defintion'\n",
    "df = df.drop('Rape (revised definition)', axis=1)\n",
    "\n",
    "# Remove null objects\n",
    "df = df.drop([348, 349, 350], axis=0)\n",
    "df = df.drop('Arson', axis=1)\n",
    "df = df.dropna(how='all')\n",
    "\n",
    "# Convert all columns from object to integer values\n",
    "df[['Population', 'Violent Crime',\n",
    "       'Murder and Nonnegligent Manslaughter', 'Rape (legacy definition)',\n",
    "       'Robbery', 'Aggravated Assault', 'Property Crime', 'Burglary',\n",
    "       'Larceny-Theft', 'Motor Vehicle Theft']] = df[['Population', 'Violent Crime',\n",
    "       'Murder and Nonnegligent Manslaughter', 'Rape (legacy definition)',\n",
    "       'Robbery', 'Aggravated Assault', 'Property Crime', 'Burglary',\n",
    "       'Larceny-Theft', 'Motor Vehicle Theft']].astype(int)\n",
    "\n",
    "# Remove New York and buffalo from data because it skews the data. Although the data is correct\n",
    "df[df['City'] == 'New York']\n",
    "df = df[(df['City']!='New York')&(df['City']!='Buffalo')]\n",
    "\n",
    "# Change name of Property Crime so that it's one word\n",
    "df['Propertycrime'] = df['Property Crime']\n",
    "df = df.drop(columns=['Property Crime'])\n",
    "\n",
    "df['Murder'] = df['Murder and Nonnegligent Manslaughter']\n",
    "df = df.drop(columns=['Murder and Nonnegligent Manslaughter'])\n",
    "\n",
    "df['Aggravated_Assault'] = df['Aggravated Assault']\n",
    "df = df.drop(columns=['Aggravated Assault'])"
   ]
  },
  {
   "cell_type": "code",
   "execution_count": 3,
   "metadata": {},
   "outputs": [],
   "source": [
    "# Create Features: Population^2, Murder binary, Robbery, binary\n",
    "# More specifically, create binary categories for murder and robery\n",
    "df['Population^2'] = df['Population']**2\n",
    "df['Murder'] = np.where(df['Murder']>0, '1', '0')\n",
    "df['Robbery_binary'] = np.where(df['Robbery']>0, '1', '0')\n",
    "#df['Aggravated_Assault'] = np.where(df['Aggravated_Assault']>0, '1', '0')\n",
    "\n",
    "#Convert new columns to int\n",
    "df[['Population^2']] = df[['Population^2']].astype(int)\n",
    "df[['Murder']] = df[['Murder']].astype(int)\n",
    "df[['Robbery_binary']] = df[['Robbery_binary']].astype(int)\n",
    "df[['Aggravated_Assault']] = df[['Aggravated_Assault']].astype(int)"
   ]
  },
  {
   "cell_type": "code",
   "execution_count": 4,
   "metadata": {},
   "outputs": [
    {
     "name": "stdout",
     "output_type": "stream",
     "text": [
      "\n",
      "Coefficients: \n",
      " [[1.74484226e-02 7.28298619e-08 1.84108347e+02 6.20590854e+01]]\n",
      "\n",
      "Intercept: \n",
      " [-35.45330011]\n",
      "\n",
      "R-squared:\n",
      " 0.7572767492306005\n"
     ]
    },
    {
     "name": "stderr",
     "output_type": "stream",
     "text": [
      "/usr/local/lib/python3.7/site-packages/sklearn/linear_model/base.py:509: RuntimeWarning: internal gelsd driver lwork query error, required iwork dimension not returned. This is likely the result of LAPACK bug 0038, fixed in LAPACK 3.2.2 (released July 21, 2010). Falling back to 'gelss' driver.\n",
      "  linalg.lstsq(X, y)\n"
     ]
    }
   ],
   "source": [
    "# Run Model\n",
    "regr = linear_model.LinearRegression()\n",
    "y = df['Propertycrime'].values.reshape(-1, 1)\n",
    "x = df[['Population','Population^2', 'Murder', 'Robbery_binary']]\n",
    "regr.fit(x,y)\n",
    "\n",
    "# Inspect the results\n",
    "print('\\nCoefficients: \\n', regr.coef_)\n",
    "print('\\nIntercept: \\n', regr.intercept_)\n",
    "print('\\nR-squared:\\n', regr.score(x,y))"
   ]
  },
  {
   "cell_type": "code",
   "execution_count": 5,
   "metadata": {},
   "outputs": [
    {
     "name": "stdout",
     "output_type": "stream",
     "text": [
      "With 30% holdout: 0.7503983756164383\n",
      "Testing on sample:0.7572767492306005\n"
     ]
    }
   ],
   "source": [
    "# Cross Validation test\n",
    "\n",
    "x_train, x_test, y_train, y_test = train_test_split(x, y, test_size=0.3, random_state=30)\n",
    "print('With 30% holdout: ' + str(regr.fit(x_train, y_train,).score(x_test, y_test)))\n",
    "print('Testing on sample:' + str(regr.fit(x,y).score(x,y)))"
   ]
  },
  {
   "cell_type": "code",
   "execution_count": 6,
   "metadata": {},
   "outputs": [
    {
     "data": {
      "text/plain": [
       "array([0.81409112, 0.71966237, 0.74405329, 0.61140936, 0.21822869])"
      ]
     },
     "execution_count": 6,
     "metadata": {},
     "output_type": "execute_result"
    }
   ],
   "source": [
    "# Cross-validation with mutliple folds\n",
    "from sklearn.model_selection import cross_val_score\n",
    "\n",
    "cross_val_score(regr, x, y, cv=5)"
   ]
  },
  {
   "cell_type": "code",
   "execution_count": 7,
   "metadata": {},
   "outputs": [],
   "source": [
    "# Test for significance in parameters\n",
    "linear_formula = 'Propertycrime ~ Population+Population^2+Murder+Robbery_binary'\n",
    "\n",
    "# Fit the model to our data using formula\n",
    "lm = smf.ols(formula=linear_formula, data=df).fit()"
   ]
  },
  {
   "cell_type": "code",
   "execution_count": 8,
   "metadata": {},
   "outputs": [
    {
     "data": {
      "text/plain": [
       "Intercept        -80.074\n",
       "Population         8.359\n",
       "Population ^ 2    -8.330\n",
       "Murder           114.402\n",
       "Robbery_binary   -27.541\n",
       "dtype: float64"
      ]
     },
     "execution_count": 8,
     "metadata": {},
     "output_type": "execute_result"
    }
   ],
   "source": [
    "lm.params"
   ]
  },
  {
   "cell_type": "code",
   "execution_count": 9,
   "metadata": {},
   "outputs": [
    {
     "data": {
      "text/plain": [
       "Intercept        0.025\n",
       "Population       0.456\n",
       "Population ^ 2   0.458\n",
       "Murder           0.135\n",
       "Robbery_binary   0.578\n",
       "dtype: float64"
      ]
     },
     "execution_count": 9,
     "metadata": {},
     "output_type": "execute_result"
    }
   ],
   "source": [
    "lm.pvalues"
   ]
  },
  {
   "cell_type": "code",
   "execution_count": 10,
   "metadata": {},
   "outputs": [
    {
     "name": "stdout",
     "output_type": "stream",
     "text": [
      "R-squared =  0.9996910610726267\n"
     ]
    }
   ],
   "source": [
    "# Applying PLSR\n",
    "from sklearn.cross_decomposition import PLSRegression\n",
    "\n",
    "features = df[['Population', 'Burglary', 'Larceny-Theft', 'Motor Vehicle Theft']]\n",
    "X = features\n",
    "Y = df['Propertycrime']\n",
    "\n",
    "pls1 = PLSRegression(n_components=3)\n",
    "\n",
    "#Fit pls1 to training data\n",
    "pls1.fit(X,Y)\n",
    "\n",
    "pls1_pred = pls1.predict(X)\n",
    "\n",
    "print('R-squared = ', pls1.score(X,Y))\n",
    "\n"
   ]
  },
  {
   "cell_type": "code",
   "execution_count": 11,
   "metadata": {},
   "outputs": [
    {
     "data": {
      "text/plain": [
       "array([0.99968399, 0.99906992, 0.99862366, 0.99979725, 0.99952227])"
      ]
     },
     "execution_count": 11,
     "metadata": {},
     "output_type": "execute_result"
    }
   ],
   "source": [
    "# Cross-validation with mutliple folds\n",
    "from sklearn.model_selection import cross_val_score\n",
    "\n",
    "cross_val_score(pls1, X, Y, cv=5)"
   ]
  },
  {
   "cell_type": "code",
   "execution_count": 12,
   "metadata": {},
   "outputs": [],
   "source": [
    "# Test for significance in parameters\n",
    "linear_formula = 'Propertycrime ~ features'\n",
    "\n",
    "# Fit the model to our data using formula\n",
    "lm = smf.ols(formula=linear_formula, data=df).fit()"
   ]
  },
  {
   "cell_type": "code",
   "execution_count": 13,
   "metadata": {},
   "outputs": [
    {
     "data": {
      "text/plain": [
       "Intercept     0.000\n",
       "features[0]   0.000\n",
       "features[1]   0.000\n",
       "features[2]   0.000\n",
       "features[3]   0.000\n",
       "dtype: float64"
      ]
     },
     "execution_count": 13,
     "metadata": {},
     "output_type": "execute_result"
    }
   ],
   "source": [
    "lm.pvalues"
   ]
  },
  {
   "cell_type": "markdown",
   "metadata": {},
   "source": [
    "# Test Model on Second Data Set"
   ]
  },
  {
   "cell_type": "markdown",
   "metadata": {},
   "source": [
    "Dataset on Illinois found at: https://ucr.fbi.gov/crime-in-the-u.s/2013/crime-in-the-u.s.-2013/tables/table-8/table-8-state-cuts/table_8_offenses_known_to_law_enforcement_illinois_by_city_2013.xls"
   ]
  },
  {
   "cell_type": "code",
   "execution_count": 14,
   "metadata": {},
   "outputs": [],
   "source": [
    "# Process Second Dataset on Illinois\n",
    "\n",
    "df1 = pd.read_excel('table_8_offenses_known_to_law_enforcement_illinois_by_city_2013.xls')"
   ]
  },
  {
   "cell_type": "code",
   "execution_count": 15,
   "metadata": {},
   "outputs": [],
   "source": [
    "# Delete first three rows\n",
    "df1 = df1.drop([0,1,2], axis=0)\n",
    "\n",
    "# Make first row the column headers\n",
    "df1 = df1.reset_index(drop=True)\n",
    "df1.columns = df1.iloc[0]\n",
    "df1 = df1.drop([0], axis=0)\n",
    "df1 = df1.reset_index(drop=True)\n",
    "\n",
    "# Rename all column headers\n",
    "df1.columns = ['City', 'Population', 'Violent Crime', 'Murder and Nonnegligent Manslaughter', 'Rape (revised definition)', 'Rape (legacy definition)', 'Robbery', 'Aggravated Assault', 'Property Crime', 'Burglary', 'Larceny-Theft', 'Motor Vehicle Theft', 'Arson']\n",
    "\n",
    "# Remove entire Unnamed: 4 or 'Rape revised defintion'\n",
    "df1 = df1.drop('Rape (revised definition)', axis=1)\n",
    "\n",
    "# Remove null objects\n",
    "df1 = df1.drop([77, 398, 506, 507, 508, 509], axis=0)\n",
    "df1 = df1.drop('Arson', axis=1)\n",
    "df1 = df1.dropna(how='all')\n",
    "\n",
    "# Convert all columns from object to integer values\n",
    "df1[['Population', 'Violent Crime',\n",
    "       'Murder and Nonnegligent Manslaughter', 'Rape (legacy definition)',\n",
    "       'Robbery', 'Aggravated Assault', 'Property Crime', 'Burglary',\n",
    "       'Larceny-Theft', 'Motor Vehicle Theft']] = df1[['Population', 'Violent Crime',\n",
    "       'Murder and Nonnegligent Manslaughter', 'Rape (legacy definition)',\n",
    "       'Robbery', 'Aggravated Assault', 'Property Crime', 'Burglary',\n",
    "       'Larceny-Theft', 'Motor Vehicle Theft']].astype(int)\n",
    "\n",
    "# Change name of Property Crime so that it's one word\n",
    "df1['Propertycrime'] = df1['Property Crime']\n",
    "df1 = df1.drop(columns=['Property Crime'])\n",
    "\n",
    "df1['Murder'] = df1['Murder and Nonnegligent Manslaughter']\n",
    "df1 = df1.drop(columns=['Murder and Nonnegligent Manslaughter'])\n",
    "\n",
    "df1['Aggravated_Assault'] = df1['Aggravated Assault']\n",
    "df1 = df1.drop(columns=['Aggravated Assault'])"
   ]
  },
  {
   "cell_type": "code",
   "execution_count": 16,
   "metadata": {},
   "outputs": [],
   "source": [
    "# Create Features: Population^2, Murder binary, Robbery, binary\n",
    "# More specifically, create binary categories for murder and robery\n",
    "df1['Population^2'] = df1['Population']**2\n",
    "df1['Murder'] = np.where(df1['Murder']>0, '1', '0')\n",
    "df1['Robbery_binary'] = np.where(df1['Robbery']>0, '1', '0')\n",
    "#df1['Aggravated_Assault'] = np.where(df1['Aggravated_Assault']>0, '1', '0')\n",
    "\n",
    "#Convert new columns to int\n",
    "df1[['Population^2']] = df1[['Population^2']].astype(int)\n",
    "df1[['Murder']] = df1[['Murder']].astype(int)\n",
    "df1[['Robbery_binary']] = df1[['Robbery_binary']].astype(int)\n",
    "df1[['Aggravated_Assault']] = df1[['Aggravated_Assault']].astype(int)"
   ]
  },
  {
   "cell_type": "code",
   "execution_count": 17,
   "metadata": {},
   "outputs": [],
   "source": [
    "features1 = df1[['Population', 'Burglary', 'Larceny-Theft', 'Motor Vehicle Theft']]\n",
    "X_ = features1\n",
    "Y_ = df1['Propertycrime']"
   ]
  },
  {
   "cell_type": "code",
   "execution_count": 18,
   "metadata": {},
   "outputs": [
    {
     "name": "stdout",
     "output_type": "stream",
     "text": [
      "R-squared =  0.9982728371052765\n"
     ]
    }
   ],
   "source": [
    "#Fit pls1 to training data\n",
    "pls1_pred = pls1.predict(X_)\n",
    "\n",
    "print('R-squared = ', pls1.score(X_,Y_))"
   ]
  },
  {
   "cell_type": "code",
   "execution_count": 19,
   "metadata": {},
   "outputs": [
    {
     "data": {
      "text/plain": [
       "array([0.99665765, 0.9959959 , 0.99547465, 0.99769769, 0.99874302])"
      ]
     },
     "execution_count": 19,
     "metadata": {},
     "output_type": "execute_result"
    }
   ],
   "source": [
    "# Cross-validation with mutliple folds\n",
    "from sklearn.model_selection import cross_val_score\n",
    "\n",
    "cross_val_score(pls1, X_, Y_, cv=5)"
   ]
  },
  {
   "cell_type": "code",
   "execution_count": 20,
   "metadata": {},
   "outputs": [],
   "source": [
    "# Test for significance in parameters\n",
    "linear_formula = 'Propertycrime ~ features1'\n",
    "\n",
    "# Fit the model to our data using formula\n",
    "lm = smf.ols(formula=linear_formula, data=df1).fit()"
   ]
  },
  {
   "cell_type": "code",
   "execution_count": 21,
   "metadata": {},
   "outputs": [
    {
     "data": {
      "text/plain": [
       "Intercept      0.000\n",
       "features1[0]   0.036\n",
       "features1[1]   0.000\n",
       "features1[2]   0.000\n",
       "features1[3]   0.000\n",
       "dtype: float64"
      ]
     },
     "execution_count": 21,
     "metadata": {},
     "output_type": "execute_result"
    }
   ],
   "source": [
    "lm.pvalues"
   ]
  },
  {
   "cell_type": "markdown",
   "metadata": {},
   "source": [
    "# Methods applies:\n",
    "\n",
    "For the first model, I used the features given by the assignment, which included population, population squared, binary robbery and binary murder (whether robbery or murder occured or not). My results were bad as te R squared value was low and inconsistent throughout multiple fold hold-out groups. Furthermore, model was even worse when applied to a different dataset.\n",
    "\n",
    "In the second model, I applied dimensionality reduction using Partial least Squares. I narrowed down the following features; 'Population', 'Burglary', 'Larceny-Theft' and 'Motor Vehicle Theft' because they had the most significant effects on our model according to T-tests. This model lead to a 99% average accuracy in the r squared value across hold out groups and in the second data set. The improvement from the second model was vast and so I'd discard the initial model which had bad results.\n",
    "\n",
    "Moving forward, I would review the assumption made about the model, such as heterscedasticity and normality in the residual errors."
   ]
  },
  {
   "cell_type": "code",
   "execution_count": null,
   "metadata": {},
   "outputs": [],
   "source": []
  }
 ],
 "metadata": {
  "kernelspec": {
   "display_name": "Python 3",
   "language": "python",
   "name": "python3"
  },
  "language_info": {
   "codemirror_mode": {
    "name": "ipython",
    "version": 3
   },
   "file_extension": ".py",
   "mimetype": "text/x-python",
   "name": "python",
   "nbconvert_exporter": "python",
   "pygments_lexer": "ipython3",
   "version": "3.7.0"
  }
 },
 "nbformat": 4,
 "nbformat_minor": 2
}
