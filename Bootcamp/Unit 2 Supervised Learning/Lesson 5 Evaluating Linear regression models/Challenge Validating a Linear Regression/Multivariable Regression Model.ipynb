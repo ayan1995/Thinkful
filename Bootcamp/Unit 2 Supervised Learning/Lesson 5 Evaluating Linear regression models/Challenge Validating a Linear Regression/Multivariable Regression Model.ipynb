{
 "cells": [
  {
   "cell_type": "code",
   "execution_count": 1,
   "metadata": {},
   "outputs": [],
   "source": [
    "import math\n",
    "\n",
    "from IPython.display import display\n",
    "import numpy as np\n",
    "import pandas as pd\n",
    "import matplotlib.pyplot as plt\n",
    "import seaborn as sns\n",
    "from sklearn import linear_model\n",
    "from sklearn.decomposition import PCA\n",
    "from sklearn.preprocessing import StandardScaler\n",
    "from sklearn.model_selection import train_test_split\n",
    "import scipy\n",
    "import statsmodels.formula.api as smf\n",
    "%matplotlib inline\n",
    "pd.options.display.float_format = '{:.3f}'.format\n",
    "\n",
    "# Suppress annoying harmless error.\n",
    "import warnings\n",
    "warnings.filterwarnings(action='ignore', module='scipy', message='^internal gelsd')"
   ]
  },
  {
   "cell_type": "code",
   "execution_count": 2,
   "metadata": {},
   "outputs": [],
   "source": [
    "# Read data using pandas\n",
    "df = pd.read_excel('table_8_offenses_known_to_law_enforcement_new_york_by_city_2013.xls')\n",
    "\n",
    "# Delete first three rows\n",
    "df = df.drop([0,1,2], axis=0)\n",
    "\n",
    "# Make first row the column headers\n",
    "df = df.reset_index(drop=True)\n",
    "df.columns = df.iloc[0]\n",
    "df = df.drop([0], axis=0)\n",
    "df = df.reset_index(drop=True)\n",
    "\n",
    "# Rename all column headers\n",
    "df.columns = ['City', 'Population', 'Violent Crime', 'Murder and Nonnegligent Manslaughter', 'Rape (revised definition)', 'Rape (legacy definition)', 'Robbery', 'Aggravated Assault', 'Property Crime', 'Burglary', 'Larceny-Theft', 'Motor Vehicle Theft', 'Arson']\n",
    "\n",
    "# Remove entire Unnamed: 4 or 'Rape revised defintion'\n",
    "df = df.drop('Rape (revised definition)', axis=1)\n",
    "\n",
    "# Remove null objects\n",
    "df = df.drop([348, 349, 350], axis=0)\n",
    "df = df.drop('Arson', axis=1)\n",
    "df = df.dropna(how='all')\n",
    "\n",
    "# Convert all columns from object to integer values\n",
    "df[['Population', 'Violent Crime',\n",
    "       'Murder and Nonnegligent Manslaughter', 'Rape (legacy definition)',\n",
    "       'Robbery', 'Aggravated Assault', 'Property Crime', 'Burglary',\n",
    "       'Larceny-Theft', 'Motor Vehicle Theft']] = df[['Population', 'Violent Crime',\n",
    "       'Murder and Nonnegligent Manslaughter', 'Rape (legacy definition)',\n",
    "       'Robbery', 'Aggravated Assault', 'Property Crime', 'Burglary',\n",
    "       'Larceny-Theft', 'Motor Vehicle Theft']].astype(int)\n",
    "\n",
    "# Remove New York and buffalo from data because it skews the data. Although the data is correct\n",
    "df[df['City'] == 'New York']\n",
    "df = df[(df['City']!='New York')&(df['City']!='Buffalo')]\n",
    "\n",
    "# Change name of Property Crime so that it's one word\n",
    "df['Propertycrime'] = df['Property Crime']\n",
    "df = df.drop(columns=['Property Crime'])\n",
    "\n",
    "df['Murder'] = df['Murder and Nonnegligent Manslaughter']\n",
    "df = df.drop(columns=['Murder and Nonnegligent Manslaughter'])\n",
    "\n",
    "df['Aggravated_Assault'] = df['Aggravated Assault']\n",
    "df = df.drop(columns=['Aggravated Assault'])"
   ]
  },
  {
   "cell_type": "code",
   "execution_count": 3,
   "metadata": {},
   "outputs": [
    {
     "data": {
      "text/html": [
       "<div>\n",
       "<style scoped>\n",
       "    .dataframe tbody tr th:only-of-type {\n",
       "        vertical-align: middle;\n",
       "    }\n",
       "\n",
       "    .dataframe tbody tr th {\n",
       "        vertical-align: top;\n",
       "    }\n",
       "\n",
       "    .dataframe thead th {\n",
       "        text-align: right;\n",
       "    }\n",
       "</style>\n",
       "<table border=\"1\" class=\"dataframe\">\n",
       "  <thead>\n",
       "    <tr style=\"text-align: right;\">\n",
       "      <th></th>\n",
       "      <th>City</th>\n",
       "      <th>Population</th>\n",
       "      <th>Violent Crime</th>\n",
       "      <th>Rape (legacy definition)</th>\n",
       "      <th>Robbery</th>\n",
       "      <th>Burglary</th>\n",
       "      <th>Larceny-Theft</th>\n",
       "      <th>Motor Vehicle Theft</th>\n",
       "      <th>Propertycrime</th>\n",
       "      <th>Murder</th>\n",
       "      <th>Aggravated_Assault</th>\n",
       "    </tr>\n",
       "  </thead>\n",
       "  <tbody>\n",
       "    <tr>\n",
       "      <th>0</th>\n",
       "      <td>Adams Village</td>\n",
       "      <td>1861</td>\n",
       "      <td>0</td>\n",
       "      <td>0</td>\n",
       "      <td>0</td>\n",
       "      <td>2</td>\n",
       "      <td>10</td>\n",
       "      <td>0</td>\n",
       "      <td>12</td>\n",
       "      <td>0</td>\n",
       "      <td>0</td>\n",
       "    </tr>\n",
       "    <tr>\n",
       "      <th>1</th>\n",
       "      <td>Addison Town and Village</td>\n",
       "      <td>2577</td>\n",
       "      <td>3</td>\n",
       "      <td>0</td>\n",
       "      <td>0</td>\n",
       "      <td>3</td>\n",
       "      <td>20</td>\n",
       "      <td>1</td>\n",
       "      <td>24</td>\n",
       "      <td>0</td>\n",
       "      <td>3</td>\n",
       "    </tr>\n",
       "    <tr>\n",
       "      <th>2</th>\n",
       "      <td>Akron Village</td>\n",
       "      <td>2846</td>\n",
       "      <td>3</td>\n",
       "      <td>0</td>\n",
       "      <td>0</td>\n",
       "      <td>1</td>\n",
       "      <td>15</td>\n",
       "      <td>0</td>\n",
       "      <td>16</td>\n",
       "      <td>0</td>\n",
       "      <td>3</td>\n",
       "    </tr>\n",
       "    <tr>\n",
       "      <th>3</th>\n",
       "      <td>Albany</td>\n",
       "      <td>97956</td>\n",
       "      <td>791</td>\n",
       "      <td>30</td>\n",
       "      <td>227</td>\n",
       "      <td>705</td>\n",
       "      <td>3243</td>\n",
       "      <td>142</td>\n",
       "      <td>4090</td>\n",
       "      <td>8</td>\n",
       "      <td>526</td>\n",
       "    </tr>\n",
       "    <tr>\n",
       "      <th>4</th>\n",
       "      <td>Albion Village</td>\n",
       "      <td>6388</td>\n",
       "      <td>23</td>\n",
       "      <td>3</td>\n",
       "      <td>4</td>\n",
       "      <td>53</td>\n",
       "      <td>165</td>\n",
       "      <td>5</td>\n",
       "      <td>223</td>\n",
       "      <td>0</td>\n",
       "      <td>16</td>\n",
       "    </tr>\n",
       "  </tbody>\n",
       "</table>\n",
       "</div>"
      ],
      "text/plain": [
       "                       City  Population  Violent Crime  \\\n",
       "0             Adams Village        1861              0   \n",
       "1  Addison Town and Village        2577              3   \n",
       "2             Akron Village        2846              3   \n",
       "3                    Albany       97956            791   \n",
       "4            Albion Village        6388             23   \n",
       "\n",
       "   Rape (legacy definition)  Robbery  Burglary  Larceny-Theft  \\\n",
       "0                         0        0         2             10   \n",
       "1                         0        0         3             20   \n",
       "2                         0        0         1             15   \n",
       "3                        30      227       705           3243   \n",
       "4                         3        4        53            165   \n",
       "\n",
       "   Motor Vehicle Theft  Propertycrime  Murder  Aggravated_Assault  \n",
       "0                    0             12       0                   0  \n",
       "1                    1             24       0                   3  \n",
       "2                    0             16       0                   3  \n",
       "3                  142           4090       8                 526  \n",
       "4                    5            223       0                  16  "
      ]
     },
     "execution_count": 3,
     "metadata": {},
     "output_type": "execute_result"
    }
   ],
   "source": [
    "df.head()"
   ]
  },
  {
   "cell_type": "code",
   "execution_count": 4,
   "metadata": {},
   "outputs": [],
   "source": [
    "# Create Features: Population^2, Murder binary, Robbery, binary\n",
    "# More specifically, create binary categories for murder and robery\n",
    "df['Population^2'] = df['Population']**2\n",
    "df['Murder'] = np.where(df['Murder']>0, '1', '0')\n",
    "df['Robbery_binary'] = np.where(df['Robbery']>0, '1', '0')\n",
    "#df['Aggravated_Assault'] = np.where(df['Aggravated_Assault']>0, '1', '0')\n",
    "\n",
    "#Convert new columns to int\n",
    "df[['Population^2']] = df[['Population^2']].astype(int)\n",
    "df[['Murder']] = df[['Murder']].astype(int)\n",
    "df[['Robbery_binary']] = df[['Robbery_binary']].astype(int)\n",
    "df[['Aggravated_Assault']] = df[['Aggravated_Assault']].astype(int)"
   ]
  },
  {
   "cell_type": "code",
   "execution_count": 5,
   "metadata": {},
   "outputs": [
    {
     "name": "stdout",
     "output_type": "stream",
     "text": [
      "\n",
      "Coefficients: \n",
      " [[1.74484226e-02 7.28298619e-08 1.84108347e+02 6.20590854e+01]]\n",
      "\n",
      "Intercept: \n",
      " [-35.45330011]\n",
      "\n",
      "R-squared:\n",
      " 0.7572767492306005\n"
     ]
    },
    {
     "name": "stderr",
     "output_type": "stream",
     "text": [
      "/usr/local/lib/python3.7/site-packages/sklearn/linear_model/base.py:509: RuntimeWarning: internal gelsd driver lwork query error, required iwork dimension not returned. This is likely the result of LAPACK bug 0038, fixed in LAPACK 3.2.2 (released July 21, 2010). Falling back to 'gelss' driver.\n",
      "  linalg.lstsq(X, y)\n"
     ]
    }
   ],
   "source": [
    "# Run Model\n",
    "regr = linear_model.LinearRegression()\n",
    "y = df['Propertycrime'].values.reshape(-1, 1)\n",
    "x = df[['Population','Population^2', 'Murder', 'Robbery_binary']]\n",
    "regr.fit(x,y)\n",
    "\n",
    "# Inspect the results\n",
    "print('\\nCoefficients: \\n', regr.coef_)\n",
    "print('\\nIntercept: \\n', regr.intercept_)\n",
    "print('\\nR-squared:\\n', regr.score(x,y))"
   ]
  },
  {
   "cell_type": "code",
   "execution_count": 6,
   "metadata": {},
   "outputs": [
    {
     "name": "stdout",
     "output_type": "stream",
     "text": [
      "With 30% holdout: 0.7503983756164383\n",
      "Testing on sample:0.7572767492306005\n"
     ]
    }
   ],
   "source": [
    "# Cross Validation test\n",
    "\n",
    "x_train, x_test, y_train, y_test = train_test_split(x, y, test_size=0.3, random_state=30)\n",
    "print('With 30% holdout: ' + str(regr.fit(x_train, y_train,).score(x_test, y_test)))\n",
    "print('Testing on sample:' + str(regr.fit(x,y).score(x,y)))"
   ]
  },
  {
   "cell_type": "code",
   "execution_count": 7,
   "metadata": {},
   "outputs": [
    {
     "data": {
      "text/plain": [
       "array([0.81409112, 0.71966237, 0.74405329, 0.61140936, 0.21822869])"
      ]
     },
     "execution_count": 7,
     "metadata": {},
     "output_type": "execute_result"
    }
   ],
   "source": [
    "# Cross-validation with mutliple folds\n",
    "from sklearn.model_selection import cross_val_score\n",
    "\n",
    "cross_val_score(regr, x, y, cv=5)"
   ]
  },
  {
   "cell_type": "code",
   "execution_count": 8,
   "metadata": {},
   "outputs": [],
   "source": [
    "# Test for significance in parameters\n",
    "linear_formula = 'Propertycrime ~ Population+Population^2+Murder+Robbery_binary'\n",
    "\n",
    "# Fit the model to our data using formula\n",
    "lm = smf.ols(formula=linear_formula, data=df).fit()"
   ]
  },
  {
   "cell_type": "code",
   "execution_count": 9,
   "metadata": {},
   "outputs": [
    {
     "data": {
      "text/plain": [
       "Intercept        -80.074\n",
       "Population         8.359\n",
       "Population ^ 2    -8.330\n",
       "Murder           114.402\n",
       "Robbery_binary   -27.541\n",
       "dtype: float64"
      ]
     },
     "execution_count": 9,
     "metadata": {},
     "output_type": "execute_result"
    }
   ],
   "source": [
    "lm.params"
   ]
  },
  {
   "cell_type": "code",
   "execution_count": 10,
   "metadata": {},
   "outputs": [
    {
     "data": {
      "text/plain": [
       "Intercept        0.025\n",
       "Population       0.456\n",
       "Population ^ 2   0.458\n",
       "Murder           0.135\n",
       "Robbery_binary   0.578\n",
       "dtype: float64"
      ]
     },
     "execution_count": 10,
     "metadata": {},
     "output_type": "execute_result"
    }
   ],
   "source": [
    "lm.pvalues"
   ]
  },
  {
   "cell_type": "code",
   "execution_count": 11,
   "metadata": {},
   "outputs": [
    {
     "name": "stderr",
     "output_type": "stream",
     "text": [
      "/usr/local/lib/python3.7/site-packages/sklearn/utils/validation.py:475: DataConversionWarning: Data with input dtype int64 was converted to float64 by StandardScaler.\n",
      "  warnings.warn(msg, DataConversionWarning)\n"
     ]
    }
   ],
   "source": [
    "# Create PCA on the follwing variables: Burglary, Violent Crime, Aggravated_Assault, Larceny-Theft, Motor-Vehicle Theft, Robbery\n",
    "\n",
    "# Standardize Data\n",
    "features = ['Burglary', 'Violent Crime', 'Aggravated_Assault', 'Larceny-Theft']\n",
    "x = df.loc[:, features].values\n",
    "\n",
    "scaler = StandardScaler()\n",
    "\n",
    "scaler.fit(x)\n",
    "\n",
    "pd.DataFrame(data=x, columns=features).head()\n",
    "\n",
    "# PCA\n",
    "pca = PCA(n_components=2)\n",
    "principalComponents = pca.fit_transform(x)\n",
    "\n",
    "# Create Merged Data Frame\n",
    "principalDf = pd.DataFrame(data = principalComponents, columns = ['principalcomponent_1', 'principalcomponent_2'])\n",
    "principalDf['City'] = df['City']\n",
    "merged_inner = pd.merge(left=df, right=principalDf, left_on='City', right_on='City')\n",
    "df = merged_inner"
   ]
  },
  {
   "cell_type": "code",
   "execution_count": 12,
   "metadata": {},
   "outputs": [
    {
     "name": "stdout",
     "output_type": "stream",
     "text": [
      "\n",
      "Coefficients: \n",
      " [[1.04847039e-02 1.70042096e-07 1.90643236e+02 9.79970918e+01\n",
      "  1.52002213e-02 6.42797921e-02]]\n",
      "\n",
      "Intercept: \n",
      " [-8.23669611]\n",
      "\n",
      "R-squared:\n",
      " 0.8831188362844727\n"
     ]
    }
   ],
   "source": [
    "# Run Model\n",
    "regr = linear_model.LinearRegression()\n",
    "y = df['Propertycrime'].values.reshape(-1, 1)\n",
    "x = df[['Population','Population^2', 'Murder', 'Robbery_binary', 'principalcomponent_1', 'principalcomponent_2']]\n",
    "regr.fit(x,y)\n",
    "\n",
    "# Inspect the results\n",
    "print('\\nCoefficients: \\n', regr.coef_)\n",
    "print('\\nIntercept: \\n', regr.intercept_)\n",
    "print('\\nR-squared:\\n', regr.score(x,y))"
   ]
  },
  {
   "cell_type": "code",
   "execution_count": 13,
   "metadata": {},
   "outputs": [
    {
     "name": "stdout",
     "output_type": "stream",
     "text": [
      "With 30% holdout: 0.94577136316751\n",
      "Testing on sample:0.8831188362844727\n"
     ]
    }
   ],
   "source": [
    "# Cross Validation test\n",
    "x_train, x_test, y_train, y_test = train_test_split(x, y, test_size=0.3, random_state=30)\n",
    "print('With 30% holdout: ' + str(regr.fit(x_train, y_train,).score(x_test, y_test)))\n",
    "print('Testing on sample:' + str(regr.fit(x,y).score(x,y)))"
   ]
  },
  {
   "cell_type": "code",
   "execution_count": 14,
   "metadata": {},
   "outputs": [
    {
     "data": {
      "text/plain": [
       "array([0.78210715, 0.73976958, 0.70814505, 0.91106597, 0.87308833])"
      ]
     },
     "execution_count": 14,
     "metadata": {},
     "output_type": "execute_result"
    }
   ],
   "source": [
    "# Cross-validation with mutliple folds\n",
    "from sklearn.model_selection import cross_val_score\n",
    "\n",
    "cross_val_score(regr, x, y, cv=5)"
   ]
  },
  {
   "cell_type": "code",
   "execution_count": 15,
   "metadata": {},
   "outputs": [],
   "source": [
    "# Test for significance in parameters\n",
    "linear_formula = 'Propertycrime ~ Population+Population^2+Murder+Robbery_binary+principalcomponent_1+principalcomponent_2'\n",
    "\n",
    "# Fit the model to our data using formula\n",
    "lm = smf.ols(formula=linear_formula, data=df).fit()"
   ]
  },
  {
   "cell_type": "code",
   "execution_count": 16,
   "metadata": {},
   "outputs": [
    {
     "data": {
      "text/plain": [
       "Intercept              -101.600\n",
       "Population               11.433\n",
       "Population ^ 2          -11.400\n",
       "Murder                   57.394\n",
       "Robbery_binary          -78.160\n",
       "principalcomponent_1      0.001\n",
       "principalcomponent_2      0.157\n",
       "dtype: float64"
      ]
     },
     "execution_count": 16,
     "metadata": {},
     "output_type": "execute_result"
    }
   ],
   "source": [
    "lm.params"
   ]
  },
  {
   "cell_type": "code",
   "execution_count": 17,
   "metadata": {},
   "outputs": [
    {
     "data": {
      "text/plain": [
       "Intercept              0.001\n",
       "Population             0.246\n",
       "Population ^ 2         0.248\n",
       "Murder                 0.394\n",
       "Robbery_binary         0.075\n",
       "principalcomponent_1   0.982\n",
       "principalcomponent_2   0.438\n",
       "dtype: float64"
      ]
     },
     "execution_count": 17,
     "metadata": {},
     "output_type": "execute_result"
    }
   ],
   "source": [
    "lm.pvalues"
   ]
  },
  {
   "cell_type": "code",
   "execution_count": 18,
   "metadata": {},
   "outputs": [
    {
     "data": {
      "text/html": [
       "<div>\n",
       "<style scoped>\n",
       "    .dataframe tbody tr th:only-of-type {\n",
       "        vertical-align: middle;\n",
       "    }\n",
       "\n",
       "    .dataframe tbody tr th {\n",
       "        vertical-align: top;\n",
       "    }\n",
       "\n",
       "    .dataframe thead th {\n",
       "        text-align: right;\n",
       "    }\n",
       "</style>\n",
       "<table border=\"1\" class=\"dataframe\">\n",
       "  <thead>\n",
       "    <tr style=\"text-align: right;\">\n",
       "      <th></th>\n",
       "      <th>Table 8</th>\n",
       "      <th>Unnamed: 1</th>\n",
       "      <th>Unnamed: 2</th>\n",
       "      <th>Unnamed: 3</th>\n",
       "      <th>Unnamed: 4</th>\n",
       "      <th>Unnamed: 5</th>\n",
       "      <th>Unnamed: 6</th>\n",
       "      <th>Unnamed: 7</th>\n",
       "      <th>Unnamed: 8</th>\n",
       "      <th>Unnamed: 9</th>\n",
       "      <th>Unnamed: 10</th>\n",
       "      <th>Unnamed: 11</th>\n",
       "      <th>Unnamed: 12</th>\n",
       "    </tr>\n",
       "  </thead>\n",
       "  <tbody>\n",
       "    <tr>\n",
       "      <th>509</th>\n",
       "      <td>Zion</td>\n",
       "      <td>24338</td>\n",
       "      <td>146</td>\n",
       "      <td>5</td>\n",
       "      <td>NaN</td>\n",
       "      <td>19</td>\n",
       "      <td>34</td>\n",
       "      <td>88</td>\n",
       "      <td>800</td>\n",
       "      <td>243</td>\n",
       "      <td>520</td>\n",
       "      <td>37</td>\n",
       "      <td>5</td>\n",
       "    </tr>\n",
       "    <tr>\n",
       "      <th>510</th>\n",
       "      <td>1 The figures shown in this column for the off...</td>\n",
       "      <td>NaN</td>\n",
       "      <td>NaN</td>\n",
       "      <td>NaN</td>\n",
       "      <td>NaN</td>\n",
       "      <td>NaN</td>\n",
       "      <td>NaN</td>\n",
       "      <td>NaN</td>\n",
       "      <td>NaN</td>\n",
       "      <td>NaN</td>\n",
       "      <td>NaN</td>\n",
       "      <td>NaN</td>\n",
       "      <td>NaN</td>\n",
       "    </tr>\n",
       "    <tr>\n",
       "      <th>511</th>\n",
       "      <td>2 The figures shown in this column for the off...</td>\n",
       "      <td>NaN</td>\n",
       "      <td>NaN</td>\n",
       "      <td>NaN</td>\n",
       "      <td>NaN</td>\n",
       "      <td>NaN</td>\n",
       "      <td>NaN</td>\n",
       "      <td>NaN</td>\n",
       "      <td>NaN</td>\n",
       "      <td>NaN</td>\n",
       "      <td>NaN</td>\n",
       "      <td>NaN</td>\n",
       "      <td>NaN</td>\n",
       "    </tr>\n",
       "    <tr>\n",
       "      <th>512</th>\n",
       "      <td>3 The FBI determined that the agency's data we...</td>\n",
       "      <td>NaN</td>\n",
       "      <td>NaN</td>\n",
       "      <td>NaN</td>\n",
       "      <td>NaN</td>\n",
       "      <td>NaN</td>\n",
       "      <td>NaN</td>\n",
       "      <td>NaN</td>\n",
       "      <td>NaN</td>\n",
       "      <td>NaN</td>\n",
       "      <td>NaN</td>\n",
       "      <td>NaN</td>\n",
       "      <td>NaN</td>\n",
       "    </tr>\n",
       "    <tr>\n",
       "      <th>513</th>\n",
       "      <td>4 The data collection methodology for the offe...</td>\n",
       "      <td>NaN</td>\n",
       "      <td>NaN</td>\n",
       "      <td>NaN</td>\n",
       "      <td>NaN</td>\n",
       "      <td>NaN</td>\n",
       "      <td>NaN</td>\n",
       "      <td>NaN</td>\n",
       "      <td>NaN</td>\n",
       "      <td>NaN</td>\n",
       "      <td>NaN</td>\n",
       "      <td>NaN</td>\n",
       "      <td>NaN</td>\n",
       "    </tr>\n",
       "  </tbody>\n",
       "</table>\n",
       "</div>"
      ],
      "text/plain": [
       "                                               Table 8 Unnamed: 1 Unnamed: 2  \\\n",
       "509                                               Zion      24338        146   \n",
       "510  1 The figures shown in this column for the off...        NaN        NaN   \n",
       "511  2 The figures shown in this column for the off...        NaN        NaN   \n",
       "512  3 The FBI determined that the agency's data we...        NaN        NaN   \n",
       "513  4 The data collection methodology for the offe...        NaN        NaN   \n",
       "\n",
       "    Unnamed: 3 Unnamed: 4 Unnamed: 5 Unnamed: 6 Unnamed: 7 Unnamed: 8  \\\n",
       "509          5        NaN         19         34         88        800   \n",
       "510        NaN        NaN        NaN        NaN        NaN        NaN   \n",
       "511        NaN        NaN        NaN        NaN        NaN        NaN   \n",
       "512        NaN        NaN        NaN        NaN        NaN        NaN   \n",
       "513        NaN        NaN        NaN        NaN        NaN        NaN   \n",
       "\n",
       "    Unnamed: 9 Unnamed: 10 Unnamed: 11 Unnamed: 12  \n",
       "509        243         520          37           5  \n",
       "510        NaN         NaN         NaN         NaN  \n",
       "511        NaN         NaN         NaN         NaN  \n",
       "512        NaN         NaN         NaN         NaN  \n",
       "513        NaN         NaN         NaN         NaN  "
      ]
     },
     "execution_count": 18,
     "metadata": {},
     "output_type": "execute_result"
    }
   ],
   "source": [
    "# Process Second Dataset on Illinois\n",
    "\n",
    "df1 = pd.read_excel('table_8_offenses_known_to_law_enforcement_illinois_by_city_2013.xls')\n",
    "df1.tail()"
   ]
  },
  {
   "cell_type": "code",
   "execution_count": 19,
   "metadata": {},
   "outputs": [],
   "source": [
    "# Delete first three rows\n",
    "df1 = df1.drop([0,1,2], axis=0)\n",
    "\n",
    "# Make first row the column headers\n",
    "df1 = df1.reset_index(drop=True)\n",
    "df1.columns = df1.iloc[0]\n",
    "df1 = df1.drop([0], axis=0)\n",
    "df1 = df1.reset_index(drop=True)\n",
    "\n",
    "# Rename all column headers\n",
    "df1.columns = ['City', 'Population', 'Violent Crime', 'Murder and Nonnegligent Manslaughter', 'Rape (revised definition)', 'Rape (legacy definition)', 'Robbery', 'Aggravated Assault', 'Property Crime', 'Burglary', 'Larceny-Theft', 'Motor Vehicle Theft', 'Arson']\n",
    "\n",
    "# Remove entire Unnamed: 4 or 'Rape revised defintion'\n",
    "df1 = df1.drop('Rape (revised definition)', axis=1)\n",
    "\n",
    "# Remove null objects\n",
    "df1 = df1.drop([77, 398, 506, 507, 508, 509], axis=0)\n",
    "df1 = df1.drop('Arson', axis=1)\n",
    "df1 = df1.dropna(how='all')\n",
    "\n",
    "# Convert all columns from object to integer values\n",
    "df1[['Population', 'Violent Crime',\n",
    "       'Murder and Nonnegligent Manslaughter', 'Rape (legacy definition)',\n",
    "       'Robbery', 'Aggravated Assault', 'Property Crime', 'Burglary',\n",
    "       'Larceny-Theft', 'Motor Vehicle Theft']] = df1[['Population', 'Violent Crime',\n",
    "       'Murder and Nonnegligent Manslaughter', 'Rape (legacy definition)',\n",
    "       'Robbery', 'Aggravated Assault', 'Property Crime', 'Burglary',\n",
    "       'Larceny-Theft', 'Motor Vehicle Theft']].astype(int)\n",
    "\n",
    "# Remove New York and buffalo from data because it skews the data. Although the data is correct\n",
    "#df1[df1['City'] == 'New York']\n",
    "#df1 = df1[(df1['City']!='New York')&(df1['City']!='Buffalo')]\n",
    "\n",
    "# Change name of Property Crime so that it's one word\n",
    "df1['Propertycrime'] = df1['Property Crime']\n",
    "df1 = df1.drop(columns=['Property Crime'])\n",
    "\n",
    "df1['Murder'] = df1['Murder and Nonnegligent Manslaughter']\n",
    "df1 = df1.drop(columns=['Murder and Nonnegligent Manslaughter'])\n",
    "\n",
    "df1['Aggravated_Assault'] = df1['Aggravated Assault']\n",
    "df1 = df1.drop(columns=['Aggravated Assault'])"
   ]
  },
  {
   "cell_type": "code",
   "execution_count": 20,
   "metadata": {},
   "outputs": [],
   "source": [
    "# Create Features: Population^2, Murder binary, Robbery, binary\n",
    "# More specifically, create binary categories for murder and robery\n",
    "df1['Population^2'] = df1['Population']**2\n",
    "df1['Murder'] = np.where(df1['Murder']>0, '1', '0')\n",
    "df1['Robbery_binary'] = np.where(df1['Robbery']>0, '1', '0')\n",
    "#df1['Aggravated_Assault'] = np.where(df1['Aggravated_Assault']>0, '1', '0')\n",
    "\n",
    "#Convert new columns to int\n",
    "df1[['Population^2']] = df1[['Population^2']].astype(int)\n",
    "df1[['Murder']] = df1[['Murder']].astype(int)\n",
    "df1[['Robbery_binary']] = df1[['Robbery_binary']].astype(int)\n",
    "df1[['Aggravated_Assault']] = df1[['Aggravated_Assault']].astype(int)"
   ]
  },
  {
   "cell_type": "code",
   "execution_count": 21,
   "metadata": {},
   "outputs": [
    {
     "name": "stderr",
     "output_type": "stream",
     "text": [
      "/usr/local/lib/python3.7/site-packages/sklearn/utils/validation.py:475: DataConversionWarning: Data with input dtype int64 was converted to float64 by StandardScaler.\n",
      "  warnings.warn(msg, DataConversionWarning)\n"
     ]
    }
   ],
   "source": [
    "# Create PCA on the follwing variables: Burglary, Violent Crime, Aggravated_Assault, Larceny-Theft, Motor-Vehicle Theft, Robbery\n",
    "\n",
    "# Standardize Data\n",
    "features = ['Burglary', 'Violent Crime', 'Aggravated_Assault', 'Larceny-Theft']\n",
    "x = df1.loc[:, features].values\n",
    "\n",
    "scaler = StandardScaler()\n",
    "\n",
    "scaler.fit(x)\n",
    "\n",
    "pd.DataFrame(data=x, columns=features).head()\n",
    "\n",
    "# PCA\n",
    "pca = PCA(n_components=2)\n",
    "principalComponents = pca.fit_transform(x)\n",
    "\n",
    "# Create Merged Data Frame\n",
    "principalDf1 = pd.DataFrame(data = principalComponents, columns = ['principalcomponent_1', 'principalcomponent_2'])\n",
    "principalDf1['City'] = df1['City']\n",
    "merged_inner = pd.merge(left=df1, right=principalDf1, left_on='City', right_on='City')\n",
    "df1 = merged_inner"
   ]
  },
  {
   "cell_type": "code",
   "execution_count": 22,
   "metadata": {},
   "outputs": [
    {
     "name": "stdout",
     "output_type": "stream",
     "text": [
      "\n",
      "Coefficients: \n",
      " [[ 2.13451881e-02 -7.64984534e-09  8.55545067e+01  3.69410487e+01\n",
      "  -2.23687624e-02 -2.31624078e-01]]\n",
      "\n",
      "Intercept: \n",
      " [-42.64251966]\n",
      "\n",
      "R-squared:\n",
      " 0.7354182862362844\n"
     ]
    }
   ],
   "source": [
    "# Run Model\n",
    "y = df1['Propertycrime'].values.reshape(-1, 1)\n",
    "x = df1[['Population','Population^2', 'Murder', 'Robbery_binary', 'principalcomponent_1', 'principalcomponent_2']]\n",
    "regr.fit(x,y)\n",
    "\n",
    "# Inspect the results\n",
    "print('\\nCoefficients: \\n', regr.coef_)\n",
    "print('\\nIntercept: \\n', regr.intercept_)\n",
    "print('\\nR-squared:\\n', regr.score(x,y))"
   ]
  },
  {
   "cell_type": "code",
   "execution_count": 23,
   "metadata": {},
   "outputs": [
    {
     "name": "stdout",
     "output_type": "stream",
     "text": [
      "With 30% holdout: 0.6926982267936467\n",
      "Testing on sample:0.7354182862362844\n"
     ]
    }
   ],
   "source": [
    "# Cross Validation test\n",
    "x_train, x_test, y_train, y_test = train_test_split(x, y, test_size=0.3, random_state=30)\n",
    "print('With 30% holdout: ' + str(regr.fit(x_train, y_train,).score(x_test, y_test)))\n",
    "print('Testing on sample:' + str(regr.fit(x,y).score(x,y)))"
   ]
  },
  {
   "cell_type": "code",
   "execution_count": 24,
   "metadata": {},
   "outputs": [
    {
     "data": {
      "text/plain": [
       "array([0.56639313, 0.68661144, 0.81365572, 0.71811264, 0.64732305])"
      ]
     },
     "execution_count": 24,
     "metadata": {},
     "output_type": "execute_result"
    }
   ],
   "source": [
    "# Cross-validation with mutliple folds\n",
    "from sklearn.model_selection import cross_val_score\n",
    "\n",
    "cross_val_score(regr, x, y, cv=5)"
   ]
  },
  {
   "cell_type": "code",
   "execution_count": 25,
   "metadata": {},
   "outputs": [],
   "source": [
    "# Test for significance in parameters\n",
    "linear_formula = 'Propertycrime ~ Population+Population^2+Murder+Robbery_binary+principalcomponent_1+principalcomponent_2'\n",
    "\n",
    "# Fit the model to our data using formula\n",
    "lm = smf.ols(formula=linear_formula, data=df1).fit()"
   ]
  },
  {
   "cell_type": "code",
   "execution_count": 26,
   "metadata": {},
   "outputs": [
    {
     "data": {
      "text/plain": [
       "Intercept              -39.595\n",
       "Population              -3.513\n",
       "Population ^ 2           3.534\n",
       "Murder                  87.944\n",
       "Robbery_binary          44.653\n",
       "principalcomponent_1    -0.025\n",
       "principalcomponent_2    -0.220\n",
       "dtype: float64"
      ]
     },
     "execution_count": 26,
     "metadata": {},
     "output_type": "execute_result"
    }
   ],
   "source": [
    "lm.params"
   ]
  },
  {
   "cell_type": "code",
   "execution_count": 27,
   "metadata": {},
   "outputs": [
    {
     "data": {
      "text/plain": [
       "Intercept              0.034\n",
       "Population             0.569\n",
       "Population ^ 2         0.566\n",
       "Murder                 0.016\n",
       "Robbery_binary         0.108\n",
       "principalcomponent_1   0.400\n",
       "principalcomponent_2   0.222\n",
       "dtype: float64"
      ]
     },
     "execution_count": 27,
     "metadata": {},
     "output_type": "execute_result"
    }
   ],
   "source": [
    "lm.pvalues"
   ]
  },
  {
   "cell_type": "code",
   "execution_count": null,
   "metadata": {},
   "outputs": [],
   "source": []
  }
 ],
 "metadata": {
  "kernelspec": {
   "display_name": "Python 3",
   "language": "python",
   "name": "python3"
  },
  "language_info": {
   "codemirror_mode": {
    "name": "ipython",
    "version": 3
   },
   "file_extension": ".py",
   "mimetype": "text/x-python",
   "name": "python",
   "nbconvert_exporter": "python",
   "pygments_lexer": "ipython3",
   "version": "3.7.0"
  }
 },
 "nbformat": 4,
 "nbformat_minor": 2
}
