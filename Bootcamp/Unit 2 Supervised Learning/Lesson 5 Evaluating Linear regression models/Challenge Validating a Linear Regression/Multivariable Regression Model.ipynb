{
 "cells": [
  {
   "cell_type": "code",
   "execution_count": 1,
   "metadata": {},
   "outputs": [],
   "source": [
    "import math\n",
    "\n",
    "from IPython.display import display\n",
    "import numpy as np\n",
    "import pandas as pd\n",
    "import matplotlib.pyplot as plt\n",
    "import seaborn as sns\n",
    "from sklearn import linear_model\n",
    "from sklearn.decomposition import PCA\n",
    "from sklearn.preprocessing import StandardScaler\n",
    "from sklearn.model_selection import train_test_split\n",
    "import scipy\n",
    "import statsmodels.formula.api as smf\n",
    "%matplotlib inline\n",
    "pd.options.display.float_format = '{:.3f}'.format\n",
    "\n",
    "# Suppress annoying harmless error.\n",
    "import warnings\n",
    "warnings.filterwarnings(action='ignore', module='scipy', message='^internal gelsd')"
   ]
  },
  {
   "cell_type": "code",
   "execution_count": 2,
   "metadata": {},
   "outputs": [],
   "source": [
    "# Read data using pandas\n",
    "df = pd.read_excel('table_8_offenses_known_to_law_enforcement_new_york_by_city_2013.xls')\n",
    "\n",
    "# Delete first three rows\n",
    "df = df.drop([0,1,2], axis=0)\n",
    "\n",
    "# Make first row the column headers\n",
    "df = df.reset_index(drop=True)\n",
    "df.columns = df.iloc[0]\n",
    "df = df.drop([0], axis=0)\n",
    "df = df.reset_index(drop=True)\n",
    "\n",
    "# Rename all column headers\n",
    "df.columns = ['City', 'Population', 'Violent Crime', 'Murder and Nonnegligent Manslaughter', 'Rape (revised definition)', 'Rape (legacy definition)', 'Robbery', 'Aggravated Assault', 'Property Crime', 'Burglary', 'Larceny-Theft', 'Motor Vehicle Theft', 'Arson']\n",
    "\n",
    "# Remove entire Unnamed: 4 or 'Rape revised defintion'\n",
    "df = df.drop('Rape (revised definition)', axis=1)\n",
    "\n",
    "# Remove null objects\n",
    "df = df.drop([348, 349, 350], axis=0)\n",
    "df = df.drop('Arson', axis=1)\n",
    "df = df.dropna(how='all')\n",
    "\n",
    "# Convert all columns from object to integer values\n",
    "df[['Population', 'Violent Crime',\n",
    "       'Murder and Nonnegligent Manslaughter', 'Rape (legacy definition)',\n",
    "       'Robbery', 'Aggravated Assault', 'Property Crime', 'Burglary',\n",
    "       'Larceny-Theft', 'Motor Vehicle Theft']] = df[['Population', 'Violent Crime',\n",
    "       'Murder and Nonnegligent Manslaughter', 'Rape (legacy definition)',\n",
    "       'Robbery', 'Aggravated Assault', 'Property Crime', 'Burglary',\n",
    "       'Larceny-Theft', 'Motor Vehicle Theft']].astype(int)\n",
    "\n",
    "# Remove New York and buffalo from data because it skews the data. Although the data is correct\n",
    "df[df['City'] == 'New York']\n",
    "df = df[(df['City']!='New York')&(df['City']!='Buffalo')]\n",
    "\n",
    "# Change name of Property Crime so that it's one word\n",
    "df['Propertycrime'] = df['Property Crime']\n",
    "df = df.drop(columns=['Property Crime'])\n",
    "\n",
    "df['Murder'] = df['Murder and Nonnegligent Manslaughter']\n",
    "df = df.drop(columns=['Murder and Nonnegligent Manslaughter'])\n",
    "\n",
    "df['Aggravated_Assault'] = df['Aggravated Assault']\n",
    "df = df.drop(columns=['Aggravated Assault'])"
   ]
  },
  {
   "cell_type": "code",
   "execution_count": 3,
   "metadata": {},
   "outputs": [],
   "source": [
    "# Create Features: Population^2, Murder binary, Robbery, binary\n",
    "# More specifically, create binary categories for murder and robery\n",
    "df['Population^2'] = df['Population']**2\n",
    "df['Murder'] = np.where(df['Murder']>0, '1', '0')\n",
    "df['Robbery_binary'] = np.where(df['Robbery']>0, '1', '0')\n",
    "#df['Aggravated_Assault'] = np.where(df['Aggravated_Assault']>0, '1', '0')\n",
    "\n",
    "#Convert new columns to int\n",
    "df[['Population^2']] = df[['Population^2']].astype(int)\n",
    "df[['Murder']] = df[['Murder']].astype(int)\n",
    "df[['Robbery_binary']] = df[['Robbery_binary']].astype(int)\n",
    "df[['Aggravated_Assault']] = df[['Aggravated_Assault']].astype(int)"
   ]
  },
  {
   "cell_type": "code",
   "execution_count": 4,
   "metadata": {},
   "outputs": [
    {
     "name": "stdout",
     "output_type": "stream",
     "text": [
      "\n",
      "Coefficients: \n",
      " [[1.74484226e-02 7.28298619e-08 1.84108347e+02 6.20590854e+01]]\n",
      "\n",
      "Intercept: \n",
      " [-35.45330011]\n",
      "\n",
      "R-squared:\n",
      " 0.7572767492306005\n"
     ]
    },
    {
     "name": "stderr",
     "output_type": "stream",
     "text": [
      "/usr/local/lib/python3.7/site-packages/sklearn/linear_model/base.py:509: RuntimeWarning: internal gelsd driver lwork query error, required iwork dimension not returned. This is likely the result of LAPACK bug 0038, fixed in LAPACK 3.2.2 (released July 21, 2010). Falling back to 'gelss' driver.\n",
      "  linalg.lstsq(X, y)\n"
     ]
    }
   ],
   "source": [
    "# Run Model\n",
    "regr = linear_model.LinearRegression()\n",
    "y = df['Propertycrime'].values.reshape(-1, 1)\n",
    "x = df[['Population','Population^2', 'Murder', 'Robbery_binary']]\n",
    "regr.fit(x,y)\n",
    "\n",
    "# Inspect the results\n",
    "print('\\nCoefficients: \\n', regr.coef_)\n",
    "print('\\nIntercept: \\n', regr.intercept_)\n",
    "print('\\nR-squared:\\n', regr.score(x,y))"
   ]
  },
  {
   "cell_type": "code",
   "execution_count": 5,
   "metadata": {},
   "outputs": [
    {
     "name": "stdout",
     "output_type": "stream",
     "text": [
      "With 30% holdout: 0.7503983756164383\n",
      "Testing on sample:0.7572767492306005\n"
     ]
    }
   ],
   "source": [
    "# Cross Validation test\n",
    "\n",
    "x_train, x_test, y_train, y_test = train_test_split(x, y, test_size=0.3, random_state=30)\n",
    "print('With 30% holdout: ' + str(regr.fit(x_train, y_train,).score(x_test, y_test)))\n",
    "print('Testing on sample:' + str(regr.fit(x,y).score(x,y)))"
   ]
  },
  {
   "cell_type": "code",
   "execution_count": 6,
   "metadata": {},
   "outputs": [
    {
     "data": {
      "text/plain": [
       "array([0.81409112, 0.71966237, 0.74405329, 0.61140936, 0.21822869])"
      ]
     },
     "execution_count": 6,
     "metadata": {},
     "output_type": "execute_result"
    }
   ],
   "source": [
    "# Cross-validation with mutliple folds\n",
    "from sklearn.model_selection import cross_val_score\n",
    "\n",
    "cross_val_score(regr, x, y, cv=5)"
   ]
  },
  {
   "cell_type": "code",
   "execution_count": 7,
   "metadata": {},
   "outputs": [],
   "source": [
    "# Test for significance in parameters\n",
    "linear_formula = 'Propertycrime ~ Population+Population^2+Murder+Robbery_binary'\n",
    "\n",
    "# Fit the model to our data using formula\n",
    "lm = smf.ols(formula=linear_formula, data=df).fit()"
   ]
  },
  {
   "cell_type": "code",
   "execution_count": 8,
   "metadata": {},
   "outputs": [
    {
     "data": {
      "text/plain": [
       "Intercept        -80.074\n",
       "Population         8.359\n",
       "Population ^ 2    -8.330\n",
       "Murder           114.402\n",
       "Robbery_binary   -27.541\n",
       "dtype: float64"
      ]
     },
     "execution_count": 8,
     "metadata": {},
     "output_type": "execute_result"
    }
   ],
   "source": [
    "lm.params"
   ]
  },
  {
   "cell_type": "code",
   "execution_count": 9,
   "metadata": {},
   "outputs": [
    {
     "data": {
      "text/plain": [
       "Intercept        0.025\n",
       "Population       0.456\n",
       "Population ^ 2   0.458\n",
       "Murder           0.135\n",
       "Robbery_binary   0.578\n",
       "dtype: float64"
      ]
     },
     "execution_count": 9,
     "metadata": {},
     "output_type": "execute_result"
    }
   ],
   "source": [
    "lm.pvalues"
   ]
  },
  {
   "cell_type": "code",
   "execution_count": 10,
   "metadata": {},
   "outputs": [
    {
     "data": {
      "text/html": [
       "<div>\n",
       "<style scoped>\n",
       "    .dataframe tbody tr th:only-of-type {\n",
       "        vertical-align: middle;\n",
       "    }\n",
       "\n",
       "    .dataframe tbody tr th {\n",
       "        vertical-align: top;\n",
       "    }\n",
       "\n",
       "    .dataframe thead th {\n",
       "        text-align: right;\n",
       "    }\n",
       "</style>\n",
       "<table border=\"1\" class=\"dataframe\">\n",
       "  <thead>\n",
       "    <tr style=\"text-align: right;\">\n",
       "      <th></th>\n",
       "      <th>Population</th>\n",
       "      <th>Violent Crime</th>\n",
       "      <th>Rape (legacy definition)</th>\n",
       "      <th>Robbery</th>\n",
       "      <th>Burglary</th>\n",
       "      <th>Larceny-Theft</th>\n",
       "      <th>Motor Vehicle Theft</th>\n",
       "      <th>Propertycrime</th>\n",
       "      <th>Murder</th>\n",
       "      <th>Aggravated_Assault</th>\n",
       "      <th>Population^2</th>\n",
       "      <th>Robbery_binary</th>\n",
       "    </tr>\n",
       "  </thead>\n",
       "  <tbody>\n",
       "    <tr>\n",
       "      <th>Population</th>\n",
       "      <td>1.000</td>\n",
       "      <td>0.796</td>\n",
       "      <td>0.737</td>\n",
       "      <td>0.778</td>\n",
       "      <td>0.767</td>\n",
       "      <td>0.871</td>\n",
       "      <td>0.804</td>\n",
       "      <td>0.857</td>\n",
       "      <td>0.505</td>\n",
       "      <td>0.799</td>\n",
       "      <td>0.881</td>\n",
       "      <td>0.369</td>\n",
       "    </tr>\n",
       "    <tr>\n",
       "      <th>Violent Crime</th>\n",
       "      <td>0.796</td>\n",
       "      <td>1.000</td>\n",
       "      <td>0.922</td>\n",
       "      <td>0.988</td>\n",
       "      <td>0.945</td>\n",
       "      <td>0.875</td>\n",
       "      <td>0.973</td>\n",
       "      <td>0.912</td>\n",
       "      <td>0.453</td>\n",
       "      <td>0.994</td>\n",
       "      <td>0.869</td>\n",
       "      <td>0.198</td>\n",
       "    </tr>\n",
       "    <tr>\n",
       "      <th>Rape (legacy definition)</th>\n",
       "      <td>0.737</td>\n",
       "      <td>0.922</td>\n",
       "      <td>1.000</td>\n",
       "      <td>0.893</td>\n",
       "      <td>0.950</td>\n",
       "      <td>0.885</td>\n",
       "      <td>0.917</td>\n",
       "      <td>0.918</td>\n",
       "      <td>0.442</td>\n",
       "      <td>0.915</td>\n",
       "      <td>0.776</td>\n",
       "      <td>0.225</td>\n",
       "    </tr>\n",
       "    <tr>\n",
       "      <th>Robbery</th>\n",
       "      <td>0.778</td>\n",
       "      <td>0.988</td>\n",
       "      <td>0.893</td>\n",
       "      <td>1.000</td>\n",
       "      <td>0.932</td>\n",
       "      <td>0.853</td>\n",
       "      <td>0.975</td>\n",
       "      <td>0.893</td>\n",
       "      <td>0.417</td>\n",
       "      <td>0.965</td>\n",
       "      <td>0.878</td>\n",
       "      <td>0.181</td>\n",
       "    </tr>\n",
       "    <tr>\n",
       "      <th>Burglary</th>\n",
       "      <td>0.767</td>\n",
       "      <td>0.945</td>\n",
       "      <td>0.950</td>\n",
       "      <td>0.932</td>\n",
       "      <td>1.000</td>\n",
       "      <td>0.929</td>\n",
       "      <td>0.959</td>\n",
       "      <td>0.964</td>\n",
       "      <td>0.430</td>\n",
       "      <td>0.931</td>\n",
       "      <td>0.793</td>\n",
       "      <td>0.231</td>\n",
       "    </tr>\n",
       "    <tr>\n",
       "      <th>Larceny-Theft</th>\n",
       "      <td>0.871</td>\n",
       "      <td>0.875</td>\n",
       "      <td>0.885</td>\n",
       "      <td>0.853</td>\n",
       "      <td>0.929</td>\n",
       "      <td>1.000</td>\n",
       "      <td>0.890</td>\n",
       "      <td>0.994</td>\n",
       "      <td>0.472</td>\n",
       "      <td>0.871</td>\n",
       "      <td>0.799</td>\n",
       "      <td>0.335</td>\n",
       "    </tr>\n",
       "    <tr>\n",
       "      <th>Motor Vehicle Theft</th>\n",
       "      <td>0.804</td>\n",
       "      <td>0.973</td>\n",
       "      <td>0.917</td>\n",
       "      <td>0.975</td>\n",
       "      <td>0.959</td>\n",
       "      <td>0.890</td>\n",
       "      <td>1.000</td>\n",
       "      <td>0.928</td>\n",
       "      <td>0.407</td>\n",
       "      <td>0.954</td>\n",
       "      <td>0.875</td>\n",
       "      <td>0.198</td>\n",
       "    </tr>\n",
       "    <tr>\n",
       "      <th>Propertycrime</th>\n",
       "      <td>0.857</td>\n",
       "      <td>0.912</td>\n",
       "      <td>0.918</td>\n",
       "      <td>0.893</td>\n",
       "      <td>0.964</td>\n",
       "      <td>0.994</td>\n",
       "      <td>0.928</td>\n",
       "      <td>1.000</td>\n",
       "      <td>0.466</td>\n",
       "      <td>0.905</td>\n",
       "      <td>0.816</td>\n",
       "      <td>0.308</td>\n",
       "    </tr>\n",
       "    <tr>\n",
       "      <th>Murder</th>\n",
       "      <td>0.505</td>\n",
       "      <td>0.453</td>\n",
       "      <td>0.442</td>\n",
       "      <td>0.417</td>\n",
       "      <td>0.430</td>\n",
       "      <td>0.472</td>\n",
       "      <td>0.407</td>\n",
       "      <td>0.466</td>\n",
       "      <td>1.000</td>\n",
       "      <td>0.469</td>\n",
       "      <td>0.355</td>\n",
       "      <td>0.308</td>\n",
       "    </tr>\n",
       "    <tr>\n",
       "      <th>Aggravated_Assault</th>\n",
       "      <td>0.799</td>\n",
       "      <td>0.994</td>\n",
       "      <td>0.915</td>\n",
       "      <td>0.965</td>\n",
       "      <td>0.931</td>\n",
       "      <td>0.871</td>\n",
       "      <td>0.954</td>\n",
       "      <td>0.905</td>\n",
       "      <td>0.469</td>\n",
       "      <td>1.000</td>\n",
       "      <td>0.852</td>\n",
       "      <td>0.206</td>\n",
       "    </tr>\n",
       "    <tr>\n",
       "      <th>Population^2</th>\n",
       "      <td>0.881</td>\n",
       "      <td>0.869</td>\n",
       "      <td>0.776</td>\n",
       "      <td>0.878</td>\n",
       "      <td>0.793</td>\n",
       "      <td>0.799</td>\n",
       "      <td>0.875</td>\n",
       "      <td>0.816</td>\n",
       "      <td>0.355</td>\n",
       "      <td>0.852</td>\n",
       "      <td>1.000</td>\n",
       "      <td>0.171</td>\n",
       "    </tr>\n",
       "    <tr>\n",
       "      <th>Robbery_binary</th>\n",
       "      <td>0.369</td>\n",
       "      <td>0.198</td>\n",
       "      <td>0.225</td>\n",
       "      <td>0.181</td>\n",
       "      <td>0.231</td>\n",
       "      <td>0.335</td>\n",
       "      <td>0.198</td>\n",
       "      <td>0.308</td>\n",
       "      <td>0.308</td>\n",
       "      <td>0.206</td>\n",
       "      <td>0.171</td>\n",
       "      <td>1.000</td>\n",
       "    </tr>\n",
       "  </tbody>\n",
       "</table>\n",
       "</div>"
      ],
      "text/plain": [
       "                          Population  Violent Crime  Rape (legacy definition)  \\\n",
       "Population                     1.000          0.796                     0.737   \n",
       "Violent Crime                  0.796          1.000                     0.922   \n",
       "Rape (legacy definition)       0.737          0.922                     1.000   \n",
       "Robbery                        0.778          0.988                     0.893   \n",
       "Burglary                       0.767          0.945                     0.950   \n",
       "Larceny-Theft                  0.871          0.875                     0.885   \n",
       "Motor Vehicle Theft            0.804          0.973                     0.917   \n",
       "Propertycrime                  0.857          0.912                     0.918   \n",
       "Murder                         0.505          0.453                     0.442   \n",
       "Aggravated_Assault             0.799          0.994                     0.915   \n",
       "Population^2                   0.881          0.869                     0.776   \n",
       "Robbery_binary                 0.369          0.198                     0.225   \n",
       "\n",
       "                          Robbery  Burglary  Larceny-Theft  \\\n",
       "Population                  0.778     0.767          0.871   \n",
       "Violent Crime               0.988     0.945          0.875   \n",
       "Rape (legacy definition)    0.893     0.950          0.885   \n",
       "Robbery                     1.000     0.932          0.853   \n",
       "Burglary                    0.932     1.000          0.929   \n",
       "Larceny-Theft               0.853     0.929          1.000   \n",
       "Motor Vehicle Theft         0.975     0.959          0.890   \n",
       "Propertycrime               0.893     0.964          0.994   \n",
       "Murder                      0.417     0.430          0.472   \n",
       "Aggravated_Assault          0.965     0.931          0.871   \n",
       "Population^2                0.878     0.793          0.799   \n",
       "Robbery_binary              0.181     0.231          0.335   \n",
       "\n",
       "                          Motor Vehicle Theft  Propertycrime  Murder  \\\n",
       "Population                              0.804          0.857   0.505   \n",
       "Violent Crime                           0.973          0.912   0.453   \n",
       "Rape (legacy definition)                0.917          0.918   0.442   \n",
       "Robbery                                 0.975          0.893   0.417   \n",
       "Burglary                                0.959          0.964   0.430   \n",
       "Larceny-Theft                           0.890          0.994   0.472   \n",
       "Motor Vehicle Theft                     1.000          0.928   0.407   \n",
       "Propertycrime                           0.928          1.000   0.466   \n",
       "Murder                                  0.407          0.466   1.000   \n",
       "Aggravated_Assault                      0.954          0.905   0.469   \n",
       "Population^2                            0.875          0.816   0.355   \n",
       "Robbery_binary                          0.198          0.308   0.308   \n",
       "\n",
       "                          Aggravated_Assault  Population^2  Robbery_binary  \n",
       "Population                             0.799         0.881           0.369  \n",
       "Violent Crime                          0.994         0.869           0.198  \n",
       "Rape (legacy definition)               0.915         0.776           0.225  \n",
       "Robbery                                0.965         0.878           0.181  \n",
       "Burglary                               0.931         0.793           0.231  \n",
       "Larceny-Theft                          0.871         0.799           0.335  \n",
       "Motor Vehicle Theft                    0.954         0.875           0.198  \n",
       "Propertycrime                          0.905         0.816           0.308  \n",
       "Murder                                 0.469         0.355           0.308  \n",
       "Aggravated_Assault                     1.000         0.852           0.206  \n",
       "Population^2                           0.852         1.000           0.171  \n",
       "Robbery_binary                         0.206         0.171           1.000  "
      ]
     },
     "execution_count": 10,
     "metadata": {},
     "output_type": "execute_result"
    }
   ],
   "source": [
    "df.corr()"
   ]
  },
  {
   "cell_type": "code",
   "execution_count": 11,
   "metadata": {},
   "outputs": [
    {
     "name": "stderr",
     "output_type": "stream",
     "text": [
      "/usr/local/lib/python3.7/site-packages/sklearn/utils/validation.py:475: DataConversionWarning: Data with input dtype int64 was converted to float64 by StandardScaler.\n",
      "  warnings.warn(msg, DataConversionWarning)\n"
     ]
    }
   ],
   "source": [
    "# Create PCA on the follwing variables: Burglary, Violent Crime, Aggravated_Assault, Larceny-Theft, Motor-Vehicle Theft, Robbery\n",
    "\n",
    "# Standardize Data\n",
    "features = ['Burglary', 'Violent Crime', 'Aggravated_Assault', 'Larceny-Theft', 'Rape (legacy definition)', 'Motor Vehicle Theft', 'Propertycrime']\n",
    "x = df.loc[:, features].values\n",
    "\n",
    "scaler = StandardScaler()\n",
    "\n",
    "scaler.fit(x)\n",
    "\n",
    "pd.DataFrame(data=x, columns=features).head()\n",
    "\n",
    "# PCA\n",
    "pca = PCA(n_components=2)\n",
    "principalComponents = pca.fit_transform(x)\n",
    "\n",
    "# Create Merged Data Frame\n",
    "principalDf = pd.DataFrame(data = principalComponents, columns = ['principalcomponent_1', 'principalcomponent_2'])\n",
    "principalDf['City'] = df['City']\n",
    "merged_inner = pd.merge(left=df, right=principalDf, left_on='City', right_on='City')\n",
    "df = merged_inner"
   ]
  },
  {
   "cell_type": "code",
   "execution_count": 12,
   "metadata": {},
   "outputs": [
    {
     "name": "stdout",
     "output_type": "stream",
     "text": [
      "\n",
      "Coefficients: \n",
      " [[1.26484401e-02 1.63507617e-07 1.08588802e+02 8.78483381e-03\n",
      "  2.45945628e-02]]\n",
      "\n",
      "Intercept: \n",
      " [-16.35771675]\n",
      "\n",
      "R-squared:\n",
      " 0.8783858380552845\n"
     ]
    }
   ],
   "source": [
    "# Run Model\n",
    "regr = linear_model.LinearRegression()\n",
    "y = df['Propertycrime'].values.reshape(-1, 1)\n",
    "x = df[['Population', 'Population^2', 'Robbery_binary', 'principalcomponent_1', 'principalcomponent_2']]\n",
    "regr.fit(x,y)\n",
    "\n",
    "# Inspect the results\n",
    "print('\\nCoefficients: \\n', regr.coef_)\n",
    "print('\\nIntercept: \\n', regr.intercept_)\n",
    "print('\\nR-squared:\\n', regr.score(x,y))"
   ]
  },
  {
   "cell_type": "code",
   "execution_count": 13,
   "metadata": {},
   "outputs": [
    {
     "data": {
      "text/plain": [
       "array([0.77129256, 0.77125247, 0.66888079, 0.90819445, 0.86787878])"
      ]
     },
     "execution_count": 13,
     "metadata": {},
     "output_type": "execute_result"
    }
   ],
   "source": [
    "# Cross-validation with mutliple folds\n",
    "from sklearn.model_selection import cross_val_score\n",
    "\n",
    "cross_val_score(regr, x, y, cv=5)"
   ]
  },
  {
   "cell_type": "code",
   "execution_count": 14,
   "metadata": {},
   "outputs": [],
   "source": [
    "# Test for significance in parameters\n",
    "linear_formula = 'Propertycrime ~ Population+Population^2+Robbery_binary+principalcomponent_1+principalcomponent_2'\n",
    "\n",
    "# Fit the model to our data using formula\n",
    "lm = smf.ols(formula=linear_formula, data=df).fit()"
   ]
  },
  {
   "cell_type": "code",
   "execution_count": 15,
   "metadata": {},
   "outputs": [
    {
     "data": {
      "text/plain": [
       "Intercept              -103.013\n",
       "Population               11.203\n",
       "Population ^ 2          -11.170\n",
       "Robbery_binary          -72.848\n",
       "principalcomponent_1      0.001\n",
       "principalcomponent_2      0.142\n",
       "dtype: float64"
      ]
     },
     "execution_count": 15,
     "metadata": {},
     "output_type": "execute_result"
    }
   ],
   "source": [
    "lm.params"
   ]
  },
  {
   "cell_type": "code",
   "execution_count": 16,
   "metadata": {},
   "outputs": [
    {
     "data": {
      "text/plain": [
       "Intercept              0.001\n",
       "Population             0.256\n",
       "Population ^ 2         0.257\n",
       "Robbery_binary         0.094\n",
       "principalcomponent_1   0.963\n",
       "principalcomponent_2   0.469\n",
       "dtype: float64"
      ]
     },
     "execution_count": 16,
     "metadata": {},
     "output_type": "execute_result"
    }
   ],
   "source": [
    "lm.pvalues"
   ]
  },
  {
   "cell_type": "code",
   "execution_count": 17,
   "metadata": {},
   "outputs": [],
   "source": [
    "# Process Second Dataset on Illinois\n",
    "\n",
    "df1 = pd.read_excel('table_8_offenses_known_to_law_enforcement_illinois_by_city_2013.xls')"
   ]
  },
  {
   "cell_type": "code",
   "execution_count": 18,
   "metadata": {},
   "outputs": [],
   "source": [
    "# Delete first three rows\n",
    "df1 = df1.drop([0,1,2], axis=0)\n",
    "\n",
    "# Make first row the column headers\n",
    "df1 = df1.reset_index(drop=True)\n",
    "df1.columns = df1.iloc[0]\n",
    "df1 = df1.drop([0], axis=0)\n",
    "df1 = df1.reset_index(drop=True)\n",
    "\n",
    "# Rename all column headers\n",
    "df1.columns = ['City', 'Population', 'Violent Crime', 'Murder and Nonnegligent Manslaughter', 'Rape (revised definition)', 'Rape (legacy definition)', 'Robbery', 'Aggravated Assault', 'Property Crime', 'Burglary', 'Larceny-Theft', 'Motor Vehicle Theft', 'Arson']\n",
    "\n",
    "# Remove entire Unnamed: 4 or 'Rape revised defintion'\n",
    "df1 = df1.drop('Rape (revised definition)', axis=1)\n",
    "\n",
    "# Remove null objects\n",
    "df1 = df1.drop([77, 398, 506, 507, 508, 509], axis=0)\n",
    "df1 = df1.drop('Arson', axis=1)\n",
    "df1 = df1.dropna(how='all')\n",
    "\n",
    "# Convert all columns from object to integer values\n",
    "df1[['Population', 'Violent Crime',\n",
    "       'Murder and Nonnegligent Manslaughter', 'Rape (legacy definition)',\n",
    "       'Robbery', 'Aggravated Assault', 'Property Crime', 'Burglary',\n",
    "       'Larceny-Theft', 'Motor Vehicle Theft']] = df1[['Population', 'Violent Crime',\n",
    "       'Murder and Nonnegligent Manslaughter', 'Rape (legacy definition)',\n",
    "       'Robbery', 'Aggravated Assault', 'Property Crime', 'Burglary',\n",
    "       'Larceny-Theft', 'Motor Vehicle Theft']].astype(int)\n",
    "\n",
    "# Change name of Property Crime so that it's one word\n",
    "df1['Propertycrime'] = df1['Property Crime']\n",
    "df1 = df1.drop(columns=['Property Crime'])\n",
    "\n",
    "df1['Murder'] = df1['Murder and Nonnegligent Manslaughter']\n",
    "df1 = df1.drop(columns=['Murder and Nonnegligent Manslaughter'])\n",
    "\n",
    "df1['Aggravated_Assault'] = df1['Aggravated Assault']\n",
    "df1 = df1.drop(columns=['Aggravated Assault'])"
   ]
  },
  {
   "cell_type": "code",
   "execution_count": 19,
   "metadata": {},
   "outputs": [],
   "source": [
    "# Create Features: Population^2, Murder binary, Robbery, binary\n",
    "# More specifically, create binary categories for murder and robery\n",
    "df1['Population^2'] = df1['Population']**2\n",
    "df1['Murder'] = np.where(df1['Murder']>0, '1', '0')\n",
    "df1['Robbery_binary'] = np.where(df1['Robbery']>0, '1', '0')\n",
    "#df1['Aggravated_Assault'] = np.where(df1['Aggravated_Assault']>0, '1', '0')\n",
    "\n",
    "#Convert new columns to int\n",
    "df1[['Population^2']] = df1[['Population^2']].astype(int)\n",
    "df1[['Murder']] = df1[['Murder']].astype(int)\n",
    "df1[['Robbery_binary']] = df1[['Robbery_binary']].astype(int)\n",
    "df1[['Aggravated_Assault']] = df1[['Aggravated_Assault']].astype(int)"
   ]
  },
  {
   "cell_type": "code",
   "execution_count": 20,
   "metadata": {},
   "outputs": [
    {
     "name": "stderr",
     "output_type": "stream",
     "text": [
      "/usr/local/lib/python3.7/site-packages/sklearn/utils/validation.py:475: DataConversionWarning: Data with input dtype int64 was converted to float64 by StandardScaler.\n",
      "  warnings.warn(msg, DataConversionWarning)\n"
     ]
    }
   ],
   "source": [
    "# Create PCA on the follwing variables: Burglary, Violent Crime, Aggravated_Assault, Larceny-Theft, Motor-Vehicle Theft, Robbery\n",
    "\n",
    "# Standardize Data\n",
    "features = ['Burglary', 'Violent Crime', 'Aggravated_Assault', 'Larceny-Theft', 'Rape (legacy definition)', 'Motor Vehicle Theft', 'Propertycrime']\n",
    "x = df1.loc[:, features].values\n",
    "\n",
    "scaler = StandardScaler()\n",
    "\n",
    "scaler.fit(x)\n",
    "\n",
    "pd.DataFrame(data=x, columns=features).head()\n",
    "\n",
    "# PCA\n",
    "pca = PCA(n_components=2)\n",
    "principalComponents = pca.fit_transform(x)\n",
    "\n",
    "# Create Merged Data Frame\n",
    "principalDf1 = pd.DataFrame(data = principalComponents, columns = ['principalcomponent_1', 'principalcomponent_2'])\n",
    "principalDf1['City'] = df1['City']\n",
    "merged_inner = pd.merge(left=df1, right=principalDf1, left_on='City', right_on='City')\n",
    "df1 = merged_inner"
   ]
  },
  {
   "cell_type": "code",
   "execution_count": 21,
   "metadata": {},
   "outputs": [
    {
     "name": "stdout",
     "output_type": "stream",
     "text": [
      "\n",
      "Coefficients: \n",
      " [[1.26484401e-02 1.63507617e-07 1.08588802e+02 8.78483381e-03\n",
      "  2.45945628e-02]]\n",
      "\n",
      "Intercept: \n",
      " [-16.35771675]\n",
      "\n",
      "R-squared:\n",
      " 0.4037147130088853\n"
     ]
    }
   ],
   "source": [
    "# Run Model\n",
    "y = df1['Propertycrime'].values.reshape(-1, 1)\n",
    "x = df1[['Population','Population^2', 'Robbery_binary', 'principalcomponent_1', 'principalcomponent_2']]\n",
    "\n",
    "\n",
    "# Inspect the results\n",
    "print('\\nCoefficients: \\n', regr.coef_)\n",
    "print('\\nIntercept: \\n', regr.intercept_)\n",
    "print('\\nR-squared:\\n', regr.score(x,y))"
   ]
  },
  {
   "cell_type": "code",
   "execution_count": 22,
   "metadata": {},
   "outputs": [
    {
     "data": {
      "text/plain": [
       "array([0.57374475, 0.6798357 , 0.80894192, 0.71278063, 0.64617103])"
      ]
     },
     "execution_count": 22,
     "metadata": {},
     "output_type": "execute_result"
    }
   ],
   "source": [
    "# Cross-validation with mutliple folds\n",
    "from sklearn.model_selection import cross_val_score\n",
    "\n",
    "cross_val_score(regr, x, y, cv=5)"
   ]
  },
  {
   "cell_type": "code",
   "execution_count": 23,
   "metadata": {},
   "outputs": [],
   "source": [
    "# Test for significance in parameters\n",
    "linear_formula = 'Propertycrime ~ Population+Population^2+Robbery_binary+principalcomponent_1+principalcomponent_2'\n",
    "\n",
    "# Fit the model to our data using formula\n",
    "lm = smf.ols(formula=linear_formula, data=df1).fit()"
   ]
  },
  {
   "cell_type": "code",
   "execution_count": 24,
   "metadata": {},
   "outputs": [
    {
     "data": {
      "text/plain": [
       "Intercept              -37.898\n",
       "Population              -4.342\n",
       "Population ^ 2           4.363\n",
       "Robbery_binary          53.928\n",
       "principalcomponent_1    -0.012\n",
       "principalcomponent_2    -0.234\n",
       "dtype: float64"
      ]
     },
     "execution_count": 24,
     "metadata": {},
     "output_type": "execute_result"
    }
   ],
   "source": [
    "lm.params"
   ]
  },
  {
   "cell_type": "code",
   "execution_count": 25,
   "metadata": {},
   "outputs": [
    {
     "data": {
      "text/plain": [
       "Intercept              0.043\n",
       "Population             0.482\n",
       "Population ^ 2         0.480\n",
       "Robbery_binary         0.051\n",
       "principalcomponent_1   0.526\n",
       "principalcomponent_2   0.179\n",
       "dtype: float64"
      ]
     },
     "execution_count": 25,
     "metadata": {},
     "output_type": "execute_result"
    }
   ],
   "source": [
    "lm.pvalues"
   ]
  },
  {
   "cell_type": "code",
   "execution_count": null,
   "metadata": {},
   "outputs": [],
   "source": []
  }
 ],
 "metadata": {
  "kernelspec": {
   "display_name": "Python 3",
   "language": "python",
   "name": "python3"
  },
  "language_info": {
   "codemirror_mode": {
    "name": "ipython",
    "version": 3
   },
   "file_extension": ".py",
   "mimetype": "text/x-python",
   "name": "python",
   "nbconvert_exporter": "python",
   "pygments_lexer": "ipython3",
   "version": "3.7.0"
  }
 },
 "nbformat": 4,
 "nbformat_minor": 2
}
