{
 "cells": [
  {
   "cell_type": "markdown",
   "metadata": {},
   "source": [
    "Categorize each of the following research questions as \"good\" or \"bad\", and provide alternative formulations for the bad ones. Save your responses in a document of some kind, submit a link below, and discuss your reasoning with your mentor.\n",
    "\n",
    "1. What is the 1994 rate of juvenile delinquency in the U.S.?\n",
    "    - Good\n",
    "2. What can we do to reduce juvenile delinquency in the U.S.?\n",
    "    - Bad: \"Given the rate of juvenile delinquency in the U.S., will X methods reduce that rate?\"\n",
    "3. Does education play a role in reducing juvenile delinquents' return to crime?\n",
    "    - Good\n",
    "4. How many customers does AT&T currently serve in Washington, DC?\n",
    "    - Good\n",
    "5. What factors lead consumers to choose AT&T over other service providers?\n",
    "    - Good\n",
    "6. How can AT&T attract more customers?\n",
    "    - Bad: \"What factors can AT&T adopt to attract more customers?\"\n",
    "7. Why did the Challenger Shuttle explode?\n",
    "    - Bad: \"What factors lead to the Challenger Shuttle exploding?\"\n",
    "8. Which genes are associated with increased risk of breast cancer?\n",
    "    - Good\n",
    "9. Is it better to read to children at night or in the morning?\n",
    "    - Bad: \"Does reading to children at different times have different effects on children's attentiveness?\"\n",
    "10. How does Google’s search algorithm work?\n",
    "    - Bad: \"What factors define Google's search algorithm and how are they used?\""
   ]
  },
  {
   "cell_type": "markdown",
   "metadata": {},
   "source": []
  }
 ],
 "metadata": {
  "kernelspec": {
   "display_name": "Python 3",
   "language": "python",
   "name": "python3"
  },
  "language_info": {
   "codemirror_mode": {
    "name": "ipython",
    "version": 3
   },
   "file_extension": ".py",
   "mimetype": "text/x-python",
   "name": "python",
   "nbconvert_exporter": "python",
   "pygments_lexer": "ipython3",
   "version": "3.7.0"
  }
 },
 "nbformat": 4,
 "nbformat_minor": 2
}
