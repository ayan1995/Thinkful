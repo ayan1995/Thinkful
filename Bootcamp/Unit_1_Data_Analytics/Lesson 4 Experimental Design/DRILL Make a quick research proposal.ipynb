{
 "cells": [
  {
   "cell_type": "markdown",
   "metadata": {},
   "source": [
    "## Look back to the potential experiments in the previous assignment. For one of those experiments, write up the essential points of a research proposal for an improved version of that experiment."
   ]
  },
  {
   "cell_type": "markdown",
   "metadata": {},
   "source": [
    "The Sith Lords are concerned that their recruiting slogan, \"Give In to Your Anger,\" isn't very effective. Darth Vader develops an alternative slogan, \"Together We Can Rule the Galaxy.\" They compare the slogans on two groups of 50 captured droids each. In one group, Emperor Palpatine delivers the \"Anger\" slogan. In the other, Darth Vader presents the \"Together\" slogan. 20 droids convert to the Dark Side after hearing Palpatine's slogan, while only 5 droids convert after hearing Vader's. The Sith's data scientist concludes that \"Anger\" is a more effective slogan and should continue to be used."
   ]
  },
  {
   "cell_type": "markdown",
   "metadata": {},
   "source": [
    "# Research Proposal\n",
    "\n",
    "### The Problem\n",
    "\n",
    "How to increase recruitment to the Dark Side across the galaxy.\n",
    "\n",
    "### The Potential Solution\n",
    "\n",
    "If an alternative slogan is used, 'Together We Can Rule the Galaxy\", instead of \"Give In to Your Anger\" then more people will be recruited to the Dark Side.\n",
    "\n",
    "### Method\n",
    "\n",
    "Both Darth Vader and Palpatine will capture two groups of 50 droids each. So there will be a total of two samples. They will present the \"Anger\" slogan to one group and the \"Together\" slogan to the other group. This will be an A/B manipulation where the new slogan is implemented or the old one is. \n",
    "\n",
    "We will measure the proportion of droids that are recruited in each sample according to their group. So we will measure the proportion of droids recruited in Palpatine's respective groups as well as Vaders and compare them separately. If each sample shows that at least 10% more droids were recruited with the new slogan from both groups, then conclude that the new slogan is more effective in recruitement. If the new slogan recruits more proportionally but only less than one standard deviation, then observe two new samples of captured droids. If recruitement doesn not increase proportionally, then don't implement the new slogan."
   ]
  },
  {
   "cell_type": "code",
   "execution_count": null,
   "metadata": {},
   "outputs": [],
   "source": []
  }
 ],
 "metadata": {
  "kernelspec": {
   "display_name": "Python 3",
   "language": "python",
   "name": "python3"
  },
  "language_info": {
   "codemirror_mode": {
    "name": "ipython",
    "version": 3
   },
   "file_extension": ".py",
   "mimetype": "text/x-python",
   "name": "python",
   "nbconvert_exporter": "python",
   "pygments_lexer": "ipython3",
   "version": "3.7.0"
  }
 },
 "nbformat": 4,
 "nbformat_minor": 2
}
