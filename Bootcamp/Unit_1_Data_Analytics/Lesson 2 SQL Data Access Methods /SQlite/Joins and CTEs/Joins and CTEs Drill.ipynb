{
 "cells": [
  {
   "cell_type": "markdown",
   "metadata": {},
   "source": [
    "__1. What are the three longest trips on rainy days?__\n",
    "\n",
    "WITH\n",
    "    rainy\n",
    "AS (\n",
    "    SELECT\n",
    "        Date,\n",
    "        Events\n",
    "    FROM\n",
    "        weather\n",
    "\tWHERE\n",
    "\t\tEvents = 'Rain'\n",
    "    GROUP BY 1\n",
    ")\n",
    "\n",
    "SELECT\n",
    "\tEvents,\n",
    "\tDATE(start_date) trip_date,\n",
    "\tduration\n",
    "FROM\n",
    "    trips\n",
    "JOIN\n",
    "\trainy\n",
    "ON\n",
    "\trainy.Date = trip_date\n",
    "ORDER BY duration DESC\n",
    "LIMIT 3"
   ]
  },
  {
   "cell_type": "markdown",
   "metadata": {},
   "source": [
    "__2. Which station is full most often?__\n",
    "\n",
    "WITH\n",
    "\tdocks\n",
    "AS (\n",
    "\tSELECT\n",
    "\t\tstation_id,\n",
    "\t\tCOUNT(*) full_stations\n",
    "\tFROM\n",
    "\t\tstatus\n",
    "\tWHERE\n",
    "\t\tdocks_available = 0\n",
    "\tGROUP BY 1\n",
    ")\n",
    "\n",
    "SELECT\n",
    "\td.full_stations,\n",
    "\ts.name\n",
    "FROM\n",
    "\tdocks d\n",
    "JOIN\n",
    "\tstations s\n",
    "ON\n",
    "\td.station_id = s.station_id\n",
    "ORDER BY d.full_stations DESC\n",
    "LIMIT 1"
   ]
  },
  {
   "cell_type": "markdown",
   "metadata": {},
   "source": [
    "__3. Return a list of stations with a count of number of trips starting at that station but ordered by dock count.__\n",
    "\n",
    "SELECT\n",
    "\tstart_station,\n",
    "\tdockcount,\n",
    "\tCOUNT(*)\n",
    "FROM\n",
    "\ttrips\n",
    "JOIN\n",
    "\tstations\n",
    "ON\n",
    "\tstations.name = trips.start_station\n",
    "GROUP BY 1, 2\n",
    "ORDER BY 2 DESC"
   ]
  },
  {
   "cell_type": "markdown",
   "metadata": {},
   "source": [
    "__4. (Challenge) What's the length of the longest trip for each day it rains anywhere?__\n",
    "\n",
    "WITH rainy \n",
    "\tAS (\n",
    "\t\tSELECT \n",
    "\t\t\tdate\n",
    "\t\tFROM weather\n",
    "\t\tWHERE events = 'Rain'\n",
    "\t\tGROUP BY 1\n",
    "),\n",
    "\n",
    "rain_trips AS (\n",
    "\tSELECT\n",
    "\t\ttrip_id,\n",
    "\t\tduration,\n",
    "\tDATE(start_date) trip_date\n",
    "\tFROM trips\n",
    "\tJOIN rainy\n",
    "\tON rainy.date = trip_date\n",
    "\tORDER BY duration DESC\n",
    ")\n",
    "\n",
    "SELECT \n",
    "\ttrip_date,\n",
    "\tmax(duration)\n",
    "FROM rain_trips\n",
    "GROUP BY 1"
   ]
  },
  {
   "cell_type": "code",
   "execution_count": null,
   "metadata": {},
   "outputs": [],
   "source": []
  }
 ],
 "metadata": {
  "kernelspec": {
   "display_name": "Python 3",
   "language": "python",
   "name": "python3"
  },
  "language_info": {
   "codemirror_mode": {
    "name": "ipython",
    "version": 3
   },
   "file_extension": ".py",
   "mimetype": "text/x-python",
   "name": "python",
   "nbconvert_exporter": "python",
   "pygments_lexer": "ipython3",
   "version": "3.7.0"
  }
 },
 "nbformat": 4,
 "nbformat_minor": 2
}
