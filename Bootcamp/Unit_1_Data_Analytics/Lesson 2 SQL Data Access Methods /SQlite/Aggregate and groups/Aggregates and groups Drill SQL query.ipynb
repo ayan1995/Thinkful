{
 "cells": [
  {
   "cell_type": "markdown",
   "metadata": {},
   "source": [
    "## What was the hottest day in our data set? Where was that?\n",
    "\n",
    "SELECT\n",
    "\tDate,\n",
    "\tZIP,\n",
    "\tMAX(MaxTemperatureF)\n",
    "FROM\n",
    "\tweather\n",
    "GROUP BY\n",
    "\tDate AND\n",
    "\tZIP"
   ]
  },
  {
   "cell_type": "markdown",
   "metadata": {},
   "source": [
    "## How many trips started at each station?\n",
    "\n",
    "SELECT\n",
    "\tstart_station,\n",
    "\tCOUNT(trip_id)\n",
    "FROM\n",
    "\ttrips\n",
    "GROUP BY\n",
    "\tstart_station"
   ]
  },
  {
   "cell_type": "markdown",
   "metadata": {},
   "source": [
    "## What's the shortest trip that happened?\n",
    "\n",
    "SELECT\n",
    "\tstart_station,\n",
    "\tend_station,\n",
    "\tMIN(duration)\n",
    "FROM\n",
    "\ttrips\n",
    "GROUP BY\n",
    "\ttrip_id AND\n",
    "\tstart_station AND\n",
    "\tend_station\n",
    "ORDER BY min(duration)"
   ]
  },
  {
   "cell_type": "markdown",
   "metadata": {},
   "source": [
    "## What is the average trip duration, by end station?\n",
    "\n",
    "SELECT\n",
    "\tend_station,\n",
    "\tAVG(duration)\n",
    "FROM\n",
    "\ttrips\n",
    "GROUP BY\n",
    "\tend_station"
   ]
  },
  {
   "cell_type": "code",
   "execution_count": null,
   "metadata": {},
   "outputs": [],
   "source": []
  }
 ],
 "metadata": {
  "kernelspec": {
   "display_name": "Python 3",
   "language": "python",
   "name": "python3"
  },
  "language_info": {
   "codemirror_mode": {
    "name": "ipython",
    "version": 3
   },
   "file_extension": ".py",
   "mimetype": "text/x-python",
   "name": "python",
   "nbconvert_exporter": "python",
   "pygments_lexer": "ipython3",
   "version": "3.7.0"
  }
 },
 "nbformat": 4,
 "nbformat_minor": 2
}
