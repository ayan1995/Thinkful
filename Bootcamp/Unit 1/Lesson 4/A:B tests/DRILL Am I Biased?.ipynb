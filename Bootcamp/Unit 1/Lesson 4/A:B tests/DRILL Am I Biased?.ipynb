{
 "cells": [
  {
   "cell_type": "markdown",
   "metadata": {},
   "source": [
    "## For each of the following scenarios, call out the potential biases in the proposed experiment. Do your best to try to discover not only the bias, but the initial design. There is plenty of room for interpretation here, so make sure to state what assumptions you're making."
   ]
  },
  {
   "cell_type": "markdown",
   "metadata": {},
   "source": [
    "### You're testing advertising emails for a bathing suit company and you test one version of the email in February and the other in May.\n",
    "\n",
    "There's contextual Bias here as May is very close to summer so more people are likely to buy bathing suits than in February when it's still quite cold. The initial design is probably based on the amount of clickthroughs and/or sales and purchases made from those emails."
   ]
  },
  {
   "cell_type": "markdown",
   "metadata": {},
   "source": [
    "### You open a clinic to treat anxiety and find that the people who visit show a higher rate of anxiety than the general population.\n",
    "\n",
    "This is condintional bias because the ones attending a clinic for anxiety are only the sample of the population that have much more anxiety than the general population. Most people don't go to clinincs even if they have some anxiety, only those who can't cope with it or need extra help. I'm assuming you wanted to see if openning your clinic will lower the rate of anxiety in your area, but all the patients in your sample had more anxiety than the regular person so it's not representative."
   ]
  },
  {
   "cell_type": "markdown",
   "metadata": {},
   "source": [
    "### You launch a new ad billboard based campaign and see an increase in website visits in the first week.\n",
    "\n",
    "There may be a lurking variable here because we don't know if the increased visits are due to the new ad billboards or some other variable, since we can't directly attribute the website visit to someone seeing the advertisement like we can by measuring clicks from an email. Also we need to keep collecting data through the marketing campaign rather than just the first week, so we can attribute the change to the advert campgain. The design probably measured website activity after the introduction of the campaign to see if it increases from before. "
   ]
  },
  {
   "cell_type": "markdown",
   "metadata": {},
   "source": [
    "### You launch a loyalty program but see no change in visits in the first week.\n",
    "\n",
    "One week is not enough time for consumers to adjust to the new program. More time needs to be allotted so that consumers can learn about the program, and then we can measure the change in visits over the course of longer time period like one month. The design was probably meant to measure visit activity after the launch of the loyalty program, but they didn't define a long enough time period."
   ]
  },
  {
   "cell_type": "code",
   "execution_count": null,
   "metadata": {},
   "outputs": [],
   "source": []
  }
 ],
 "metadata": {
  "kernelspec": {
   "display_name": "Python 3",
   "language": "python",
   "name": "python3"
  },
  "language_info": {
   "codemirror_mode": {
    "name": "ipython",
    "version": 3
   },
   "file_extension": ".py",
   "mimetype": "text/x-python",
   "name": "python",
   "nbconvert_exporter": "python",
   "pygments_lexer": "ipython3",
   "version": "3.7.0"
  }
 },
 "nbformat": 4,
 "nbformat_minor": 2
}
