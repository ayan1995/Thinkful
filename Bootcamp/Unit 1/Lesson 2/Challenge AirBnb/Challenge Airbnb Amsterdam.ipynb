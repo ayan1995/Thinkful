{
 "cells": [
  {
   "cell_type": "markdown",
   "metadata": {},
   "source": [
    "# City: Amsterdam"
   ]
  },
  {
   "cell_type": "markdown",
   "metadata": {},
   "source": [
    "__1. What's the most expensive listing? What else can you tell me about the listing?__\n",
    "\n",
    "The most expensive listing is in IJburg - Zeeburgereiland at 5000 euros, hosted by Marianne in IJburg - Zeeburgereiland and its a private room.\n",
    "\n",
    "SELECT\n",
    "\tname,\n",
    "\tneighbourhood,\n",
    "\troom_type,\n",
    "\tprice\n",
    "FROM\n",
    "\tlistings\n",
    "ORDER BY price DESC"
   ]
  },
  {
   "cell_type": "markdown",
   "metadata": {},
   "source": [
    "__2. What neighborhoods seem to be the most popular?__\n",
    "\n",
    "De Baarsjes - Oud-West is the most popular neighborhood for AirBnB in Amsterdam.\n",
    "\n",
    "SELECT\n",
    "\tname,\n",
    "\tneighbourhood,\n",
    "\troom_type,\n",
    "\tnumber_of_reviews\n",
    "FROM\n",
    "\tlistings\n",
    "ORDER BY number_of_reviews DESC"
   ]
  },
  {
   "cell_type": "markdown",
   "metadata": {},
   "source": [
    "__3. What time of year is the cheapest time to go to your city? What about the busiest?__\n",
    "\n",
    "The cheapest time of the year to go to Amsterdam is in July.\n",
    "\n",
    "SELECT\n",
    "\tDATE(date) date,\n",
    "\tAVG(price) avg_price\n",
    "FROM\n",
    "\tcalendar\n",
    "GROUP BY 1\n",
    "ORDER BY 2\n",
    "\n",
    "The busiest time of the year is on 2019-07-06.\n",
    "\n",
    "SELECT\n",
    "\tDATE(date) date,\n",
    "\tCOUNT(available) available\n",
    "FROM\n",
    "\tcalendar\n",
    "WHERE available = 1\n",
    "GROUP BY 1\n",
    "ORDER BY 2"
   ]
  },
  {
   "cell_type": "markdown",
   "metadata": {},
   "source": [
    "To change column headers and column types:\n",
    "\n",
    "CREATE TABLE listings1(\n",
    "    id PRIMARY KEY NOT NULL,\n",
    "\tname NOT NULL,\n",
    "\thost_id INT NOT NULL,\n",
    "\thost_name NOT NULL,\n",
    "\tneighborhood_group NOT NULL,\n",
    "\tneighbourhood NOT NULL,\n",
    "\tlatitude INT NOT NULL,\n",
    "\tlongitude INT NOT NULL,\n",
    "\troom_type NOT NULL,\n",
    "\tprice INT NOT NULL,\n",
    "\tminimum_nights INT NOT NULL,\n",
    "\tnumber_of_reviews INT NOT NULL,\n",
    "\tlast_review NOT NULL,\n",
    "\treviews_per_month INT NOT NULL,\n",
    "\tcalculated_host_listings_count INT NOT NULL,\n",
    "\tavailability_365 INT NOT NULL\n",
    ")\n",
    "\n",
    "INSERT INTO listings1(\n",
    "\tid,\n",
    "\tname,\n",
    "\thost_id,\n",
    "\thost_name,\n",
    "\tneighborhood_group,\n",
    "\tneighbourhood,\n",
    "\tlatitude,\n",
    "\tlongitude,\n",
    "\troom_type,\n",
    "\tprice,\n",
    "\tminimum_nights,\n",
    "\tnumber_of_reviews,\n",
    "\tlast_review,\n",
    "\treviews_per_month,\n",
    "\tcalculated_host_listings_count,\n",
    "\tavailability_365)\n",
    " SELECT \n",
    "\tfield1, \n",
    "\tfield2, \n",
    "\tfield3, \n",
    "\tfield4, \n",
    "\tfield5, \n",
    "\tfield6, \n",
    "\tfield7, \n",
    "\tfield8, \n",
    "\tfield9, \n",
    "\tfield10, \n",
    "\tfield11, \n",
    "\tfield12, \n",
    "\tfield13, \n",
    "\tfield14, \n",
    "\tfield15, \n",
    "\tfield16\n",
    " FROM listings\n",
    " \n",
    " DROP TABLE listings1\n",
    " \n",
    " ALTER TABLE listings1 RENAME TO listings"
   ]
  },
  {
   "cell_type": "code",
   "execution_count": null,
   "metadata": {},
   "outputs": [],
   "source": []
  }
 ],
 "metadata": {
  "kernelspec": {
   "display_name": "Python 3",
   "language": "python",
   "name": "python3"
  },
  "language_info": {
   "codemirror_mode": {
    "name": "ipython",
    "version": 3
   },
   "file_extension": ".py",
   "mimetype": "text/x-python",
   "name": "python",
   "nbconvert_exporter": "python",
   "pygments_lexer": "ipython3",
   "version": "3.7.0"
  }
 },
 "nbformat": 4,
 "nbformat_minor": 2
}
