{
 "cells": [
  {
   "cell_type": "markdown",
   "metadata": {},
   "source": [
    "__1. What are the three longest trips on rainy days?__\n",
    "\n",
    "WITH\n",
    "    rainy\n",
    "AS (\n",
    "    SELECT\n",
    "        ZIP,\n",
    "        Events\n",
    "    FROM\n",
    "        weather\n",
    "\tWHERE\n",
    "\t\tEvents = 'Rain'\n",
    "    GROUP BY 1\n",
    ")\n",
    "\n",
    "SELECT\n",
    "    r.ZIP,\n",
    "    r.Events,\n",
    "\tt.duration\n",
    "FROM\n",
    "    rainy r\n",
    "JOIN\n",
    "\ttrips t\n",
    "ON\n",
    "\tr.ZIP = t.zip_code\n",
    "ORDER BY duration DESC\n",
    "LIMIT 3"
   ]
  },
  {
   "cell_type": "markdown",
   "metadata": {},
   "source": [
    "__2. Which station is full most often?__\n",
    "\n",
    "WITH\n",
    "\tdocks\n",
    "AS (\n",
    "\tSELECT\n",
    "\t\tstation_id,\n",
    "\t\tCOUNT(*) full_stations\n",
    "\tFROM\n",
    "\t\tstatus\n",
    "\tWHERE\n",
    "\t\tdocks_available = 0\n",
    "\tGROUP BY 1\n",
    ")\n",
    "\n",
    "SELECT\n",
    "\td.full_stations,\n",
    "\ts.name\n",
    "FROM\n",
    "\tdocks d\n",
    "JOIN\n",
    "\tstations s\n",
    "ON\n",
    "\td.station_id = s.station_id\n",
    "ORDER BY d.full_stations DESC\n",
    "LIMIT 1"
   ]
  },
  {
   "cell_type": "markdown",
   "metadata": {},
   "source": [
    "__3. Return a list of stations with a count of number of trips starting at that station but ordered by dock count.__\n",
    "\n",
    "WITH\n",
    "\tstation_counts\n",
    "AS (\n",
    "\tSELECT\n",
    "\t\tstart_station,\n",
    "\t\tCOUNT(*) station_trips\n",
    "\tFROM\n",
    "\t\ttrips\n",
    "\tGROUP BY 1\n",
    ")\n",
    "\n",
    "SELECT\n",
    "\tsc.station_trips,\n",
    "\ts.name,\n",
    "\ts.dockcount\n",
    "FROM\n",
    "\tstation_counts sc\n",
    "JOIN\n",
    "\tstations s\n",
    "ON\n",
    "\tsc.start_station = s.name\n",
    "ORDER BY s.dockcount"
   ]
  },
  {
   "cell_type": "markdown",
   "metadata": {},
   "source": [
    "__4. (Challenge) What's the length of the longest trip for each day it rains anywhere?__\n",
    "\n",
    "WITH\n",
    "\tlongest\n",
    "AS (\n",
    "\tSELECT\n",
    "\t\tDATE(start_date) start_date,\n",
    "\t\tMAX(duration) duration\n",
    "\tFROM\n",
    "\t\ttrips\n",
    "\tGROUP BY 1\n",
    ")\n",
    "\n",
    "SELECT\n",
    "\tw.Date,\n",
    "\tl.start_date,\n",
    "\tl.duration,\n",
    "\tw.Events\n",
    "FROM\n",
    "\tlongest l\n",
    "JOIN\n",
    "\tweather w\n",
    "ON\n",
    "\tl.start_date = w.Date\n",
    "WHERE Events = 'Rain'"
   ]
  },
  {
   "cell_type": "code",
   "execution_count": null,
   "metadata": {},
   "outputs": [],
   "source": []
  }
 ],
 "metadata": {
  "kernelspec": {
   "display_name": "Python 3",
   "language": "python",
   "name": "python3"
  },
  "language_info": {
   "codemirror_mode": {
    "name": "ipython",
    "version": 3
   },
   "file_extension": ".py",
   "mimetype": "text/x-python",
   "name": "python",
   "nbconvert_exporter": "python",
   "pygments_lexer": "ipython3",
   "version": "3.7.0"
  }
 },
 "nbformat": 4,
 "nbformat_minor": 2
}
