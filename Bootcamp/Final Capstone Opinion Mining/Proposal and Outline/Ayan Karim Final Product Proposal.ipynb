{
 "cells": [
  {
   "attachments": {},
   "cell_type": "markdown",
   "metadata": {},
   "source": [
    "Ayan Karim Proposal\n",
    "\n",
    "01/14/2019\n",
    "\n",
    "## Opinion Mining using Aspect-Based Sentiment Analysis for Analyzing Competition and Product Development \n",
    "\n",
    "### Problem\n",
    "\n",
    "Tech companies want to assess their products’ performance and their consumer’s opinions to their products. Most companies have their own forum for complaints and methods of collecting feedback, but most people don’t place general reviews and opinions directly on those forums unless they feel strongly about something specific that’s affecting them, so there’s a selection bias.\n",
    "\n",
    "Furthermore, they want to understand how their product compares with that of their competitors, not just in sales but in performance.\n",
    "\n",
    "To get the whole picture of how consumers feel about their product as well as that of their competition, the company needs information from public media like news and social media.\n",
    "\n",
    "The **problem** is that there’s an opportunity cost in the time spent on researching reviews online and deciding which reviews are meaningful to a company for product development, then repeating that research on competitors for the sake of comparison.\n",
    "\n",
    "### Value\n",
    "\n",
    "My product will do the following:\n",
    "1.\tCollect consumer opinions on a company’s product and that of their competitor from popular media sources online.\n",
    "2.\tA semantic analysis of the reviews and categorize their semantics by positive, negative or neutral. \n",
    "3.\tIt will cluster the text into topics (memory, speed, user-friendliness, reliability, etc.) that are related to positive and negative sentiments and sort the aspects (terms that refer to one of the topics) under each sentiment, based on popularity. \n",
    "4.\tThe results will return two queries, one on your companies’ opinions and one on your competitors.\n",
    "5.\tFinally, my product will produce visualizations that compare the two companies’ opinion data based on their positive and negative sentiments and how they differ in each topic.\n",
    "\n",
    "The **value** that my product gives is return an easy to read and visualize query of popular opinions on a company’s product as well as which aspects the opinion refers to. And it compares these opinions to that of their main competitor. A company can then use this information for product development. \n",
    "\n",
    "\n",
    "\n",
    "### Data Source\n",
    "\n",
    "The data will be textual information scraped from TechRadar, Wired and Twitter.\n",
    "\n",
    "Techniques that will be used in this project\n",
    "\n",
    "•\tSpacy for text processing\n",
    "\n",
    "•\tSense2vec and TF-IDF Vectorizers for feature engineering.\n",
    "\n",
    "•\tLSA and its variants for topic modelling.\n",
    "\n",
    "•\tTextRank for popularity and significance\n",
    "\n",
    "•\tLinear Support Vector Classifiers\n",
    "\n",
    "•\tClassification approach to topic modelling.\n",
    "\n",
    "•\tLogistic Regression\n",
    "\n",
    "•\tMay use a pre-trained model to use classify sentiments\n",
    "\n",
    "•\tNeural Coeff v2.0 for pretrained neural networks that parse and replaces pronouns\n",
    "\n",
    "### Possible Challenges\n",
    "\n",
    "•\tMy biggest challenge will be scraping the data and cleaning it into a form I can process and explore.\n",
    "\n",
    "•\tFiguring out how to analyze the semantics of textual data that don’t have labels. I’ll probably use a pretrained model.\n",
    "\n",
    "•\tProducing the resulting tables for each company so that they’re easy to compare side by side and produce the accompanying visualizations."
   ]
  },
  {
   "cell_type": "code",
   "execution_count": null,
   "metadata": {},
   "outputs": [],
   "source": []
  }
 ],
 "metadata": {
  "kernelspec": {
   "display_name": "Python 3",
   "language": "python",
   "name": "python3"
  },
  "language_info": {
   "codemirror_mode": {
    "name": "ipython",
    "version": 3
   },
   "file_extension": ".py",
   "mimetype": "text/x-python",
   "name": "python",
   "nbconvert_exporter": "python",
   "pygments_lexer": "ipython3",
   "version": "3.6.5"
  }
 },
 "nbformat": 4,
 "nbformat_minor": 2
}
