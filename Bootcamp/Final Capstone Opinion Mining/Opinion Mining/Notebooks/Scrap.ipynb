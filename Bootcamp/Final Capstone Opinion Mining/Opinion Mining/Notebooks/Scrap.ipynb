{
 "cells": [
  {
   "cell_type": "code",
   "execution_count": 1,
   "metadata": {},
   "outputs": [],
   "source": [
    "# # Load Spacy parser\n",
    "# spacy.load('en')\n",
    "# parser = English()\n",
    "\n",
    "# # Function to tokenize text\n",
    "# def tokenize(text):\n",
    "#     lda_tokens = []\n",
    "#     tokens  = parser(text)\n",
    "#     for token in tokens:\n",
    "#         if token.orth_.isspace():\n",
    "#             continue\n",
    "#         elif token.like_url:\n",
    "#             lda_tokens.append('URL')\n",
    "#         elif token.orth_.startswith('@'):\n",
    "#             lda_tokens.append('SCREEN_NAME')\n",
    "#         else:\n",
    "#             lda_tokens.append(token.lower_)\n",
    "#     return lda_tokens\n"
   ]
  },
  {
   "cell_type": "code",
   "execution_count": 2,
   "metadata": {},
   "outputs": [],
   "source": [
    "# # Mallet LDA\n",
    "\n",
    "# mallet_path = '/Users/ayankarim/mallet-2.0.8/bin/mallet'\n",
    "\n",
    "# ldamallet = gensim.models.wrappers.LdaMallet(mallet_path, corpus=corpus, num_topics=3, id2word=id2word, iterations=1000, random_seed=100 )"
   ]
  },
  {
   "cell_type": "code",
   "execution_count": 3,
   "metadata": {},
   "outputs": [],
   "source": [
    "# # Show topics\n",
    "# pprint(ldamallet.show_topics(num_words=15, formatted=False))\n",
    "\n",
    "# # Compute Coherence Score\n",
    "# coherence_model_ldamallet = CoherenceModel(model=ldamallet, texts=data_lemmatized, dictionary=id2word, coherence='c_v')\n",
    "# coherence_ldamallet = coherence_model_ldamallet.get_coherence()\n",
    "# print('\\nCoherence Score: ', coherence_ldamallet)"
   ]
  },
  {
   "cell_type": "code",
   "execution_count": null,
   "metadata": {},
   "outputs": [],
   "source": []
  }
 ],
 "metadata": {
  "kernelspec": {
   "display_name": "Python 3",
   "language": "python",
   "name": "python3"
  },
  "language_info": {
   "codemirror_mode": {
    "name": "ipython",
    "version": 3
   },
   "file_extension": ".py",
   "mimetype": "text/x-python",
   "name": "python",
   "nbconvert_exporter": "python",
   "pygments_lexer": "ipython3",
   "version": "3.6.5"
  }
 },
 "nbformat": 4,
 "nbformat_minor": 2
}
