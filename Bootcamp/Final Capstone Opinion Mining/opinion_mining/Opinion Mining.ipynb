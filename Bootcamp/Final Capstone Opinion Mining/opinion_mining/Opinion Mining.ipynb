{
 "cells": [
  {
   "cell_type": "code",
   "execution_count": 1,
   "metadata": {},
   "outputs": [],
   "source": [
    "# Import Dependencies and modules\n",
    "%matplotlib inline\n",
    "import numpy as np\n",
    "import pandas as pd\n",
    "import scipy\n",
    "import sklearn\n",
    "import spacy\n",
    "import matplotlib.pyplot as plt\n",
    "import seaborn as sns\n",
    "import re\n",
    "from string import punctuation\n",
    "from collections import Counter\n",
    "from io import StringIO\n",
    "import nltk\n",
    "import glob\n",
    "import errno\n",
    "import os\n",
    "import json"
   ]
  },
  {
   "cell_type": "code",
   "execution_count": 2,
   "metadata": {},
   "outputs": [],
   "source": [
    "# Load json files into Jupyter Notebook\n",
    "    # import each file as separate dictionaries\n",
    "    # visualize and compare the formats of each dictionary\n",
    "    # combine the dictionaries into one dictionary\n",
    "\n",
    "# Clean the text in the dictionaries"
   ]
  },
  {
   "cell_type": "code",
   "execution_count": 3,
   "metadata": {},
   "outputs": [],
   "source": [
    "# Load each json file\n",
    "with open('iphonex_digtrends.json') as f:\n",
    "    iphonex_digtrends = json.load(f)\n",
    "\n",
    "with open('iphonex_gizmodo.json') as f:\n",
    "    iphonex_gizmodo = json.load(f)\n",
    "\n",
    "with open('iphonex_techradar.json') as f:\n",
    "    iphonex_techradar = json.load(f)\n",
    "\n",
    "with open('pixel3_digtrends.json') as f:\n",
    "    pixel3_digtrends = json.load(f)\n",
    "\n",
    "with open('pixel3_gizmodo.json') as f:\n",
    "    pixel3_gizmodo = json.load(f)\n",
    "\n",
    "with open('pixel3_techradar.json') as f:\n",
    "    pixel3_techradar = json.load(f)"
   ]
  },
  {
   "cell_type": "code",
   "execution_count": 4,
   "metadata": {},
   "outputs": [],
   "source": [
    "# Define path to text files that contain the novels\n",
    "path = '/Users/ayankarim/Documents/Thinkful/Bootcamp/Final Capstone Opinion Mining/opinion_mining/*.json'\n",
    "files = glob.glob(path)\n",
    "\n",
    "# Create empty lists to store information on author, title, and content of the text\n",
    "name = []\n",
    "article = []\n",
    "\n",
    "# assign author, title and content of texts to lists\n",
    "for filename in files:\n",
    "    try:\n",
    "        with open(filename, 'r') as f:\n",
    "            name.append(filename.split('.')[0])\n",
    "            article.append(f.read())\n",
    "    except IOError as exc:\n",
    "        if exc.errno != errno.EISDIR:\n",
    "            raise\n",
    "                        \n",
    "# Remove unwanted characters from filenames\n",
    "name = [x.split('opinion_mining/')[1] for x in name]"
   ]
  },
  {
   "cell_type": "code",
   "execution_count": 5,
   "metadata": {},
   "outputs": [],
   "source": [
    "# Utility function for standard text cleaning.\n",
    "def text_cleaner(text):\n",
    "    # Visual inspection identifies a form of punctuation spaCy does not\n",
    "    # recognize: the double dash '--'.  Better get rid of it now!\n",
    "\n",
    "    text = str(text).replace(\"\\n\", \"\")\n",
    "    text = str(text).replace(\"\\t\", \"\")\n",
    "    text = str(text).replace(\"\\'\", \"\")\n",
    "    text = re.sub(\"<p>\", \"\", str(text))\n",
    "    text = re.sub(\"</p>\", \"\", str(text))\n",
    "    text = re.sub(\"</a>\", \"\", str(text))\n",
    "    text = re.sub('<[^>]+>', \"\", str(text))\n",
    "    text = str(text).replace(\"\\\\u2019\", \"\")\n",
    "    text = str(text).replace(\"\\\\u2013\", \"\")\n",
    "    text = str(text).replace(\"\\\\u2018\", \"\")\n",
    "    text = str(text).replace(\"\\\\u00a0\", \"\")\n",
    "    text = str(text).replace(\"\\\\u00a3\", \"\")\n",
    "    text = str(text).replace(\"\\u2014\", \"\")\n",
    "    text = str(text).replace(\"\\u201d\", \"\")\n",
    "    text = str(text).replace(\"\\u201c\", \"\")\n",
    "    text = ' '.join(str(text).split())\n",
    "    return text\n",
    "\n"
   ]
  },
  {
   "cell_type": "code",
   "execution_count": 6,
   "metadata": {},
   "outputs": [],
   "source": [
    "#### CANT CLEAN Test[2] with Regex for some reason!!!!"
   ]
  },
  {
   "cell_type": "code",
   "execution_count": 7,
   "metadata": {},
   "outputs": [],
   "source": [
    "df = pd.DataFrame.from_dict(iphonex_digtrends, orient='columns')"
   ]
  },
  {
   "cell_type": "code",
   "execution_count": 8,
   "metadata": {
    "scrolled": true
   },
   "outputs": [
    {
     "data": {
      "text/html": [
       "<div>\n",
       "<style scoped>\n",
       "    .dataframe tbody tr th:only-of-type {\n",
       "        vertical-align: middle;\n",
       "    }\n",
       "\n",
       "    .dataframe tbody tr th {\n",
       "        vertical-align: top;\n",
       "    }\n",
       "\n",
       "    .dataframe thead th {\n",
       "        text-align: right;\n",
       "    }\n",
       "</style>\n",
       "<table border=\"1\" class=\"dataframe\">\n",
       "  <thead>\n",
       "    <tr style=\"text-align: right;\">\n",
       "      <th></th>\n",
       "      <th>author</th>\n",
       "      <th>text</th>\n",
       "      <th>title</th>\n",
       "    </tr>\n",
       "  </thead>\n",
       "  <tbody>\n",
       "    <tr>\n",
       "      <th>0</th>\n",
       "      <td>[\\n\\t\\t\\t\\t\\t\\tEric Brackett\\t\\t\\t\\t\\t]</td>\n",
       "      <td>[&lt;p&gt;The iPhone X &lt;a href=\"https://www.digitalt...</td>\n",
       "      <td>\\n\\t\\tShrinking demand forces Apple to slow do...</td>\n",
       "    </tr>\n",
       "    <tr>\n",
       "      <th>1</th>\n",
       "      <td>[\\n\\t\\t\\t\\t\\t\\tLucas Coll\\t\\t\\t\\t\\t]</td>\n",
       "      <td>[&lt;p&gt;When it comes to high-quality devices, lik...</td>\n",
       "      <td>\\n\\t\\tLooking to upgrade? These are the best i...</td>\n",
       "    </tr>\n",
       "    <tr>\n",
       "      <th>2</th>\n",
       "      <td>[\\n\\t\\t\\t\\t\\t\\tSimon Hill\\t\\t\\t\\t\\t]</td>\n",
       "      <td>[&lt;p&gt;&lt;span style=\"font-weight: 400;\"&gt;The &lt;a hre...</td>\n",
       "      <td>\\n\\t\\tThe most common iPhone X problems, and h...</td>\n",
       "    </tr>\n",
       "    <tr>\n",
       "      <th>3</th>\n",
       "      <td>[\\n\\t\\t\\t\\t\\t\\tTrevor Mogg\\t\\t\\t\\t\\t]</td>\n",
       "      <td>[&lt;p&gt;If you’re in the market for an &lt;a href=\"ht...</td>\n",
       "      <td>\\n\\t\\tThis $4,600 solar charger comes with an ...</td>\n",
       "    </tr>\n",
       "    <tr>\n",
       "      <th>4</th>\n",
       "      <td>[\\n\\t\\t\\t\\t\\t\\tMark Jansen\\t\\t\\t\\t\\t]</td>\n",
       "      <td>[&lt;p&gt;&lt;/p&gt;, &lt;p&gt;The initial estimates, set during...</td>\n",
       "      <td>\\n\\t\\tApple will halve iPhone X production aft...</td>\n",
       "    </tr>\n",
       "  </tbody>\n",
       "</table>\n",
       "</div>"
      ],
      "text/plain": [
       "                                    author  \\\n",
       "0  [\\n\\t\\t\\t\\t\\t\\tEric Brackett\\t\\t\\t\\t\\t]   \n",
       "1     [\\n\\t\\t\\t\\t\\t\\tLucas Coll\\t\\t\\t\\t\\t]   \n",
       "2     [\\n\\t\\t\\t\\t\\t\\tSimon Hill\\t\\t\\t\\t\\t]   \n",
       "3    [\\n\\t\\t\\t\\t\\t\\tTrevor Mogg\\t\\t\\t\\t\\t]   \n",
       "4    [\\n\\t\\t\\t\\t\\t\\tMark Jansen\\t\\t\\t\\t\\t]   \n",
       "\n",
       "                                                text  \\\n",
       "0  [<p>The iPhone X <a href=\"https://www.digitalt...   \n",
       "1  [<p>When it comes to high-quality devices, lik...   \n",
       "2  [<p><span style=\"font-weight: 400;\">The <a hre...   \n",
       "3  [<p>If you’re in the market for an <a href=\"ht...   \n",
       "4  [<p></p>, <p>The initial estimates, set during...   \n",
       "\n",
       "                                               title  \n",
       "0  \\n\\t\\tShrinking demand forces Apple to slow do...  \n",
       "1  \\n\\t\\tLooking to upgrade? These are the best i...  \n",
       "2  \\n\\t\\tThe most common iPhone X problems, and h...  \n",
       "3  \\n\\t\\tThis $4,600 solar charger comes with an ...  \n",
       "4  \\n\\t\\tApple will halve iPhone X production aft...  "
      ]
     },
     "execution_count": 8,
     "metadata": {},
     "output_type": "execute_result"
    }
   ],
   "source": [
    "df.head()"
   ]
  },
  {
   "cell_type": "code",
   "execution_count": 9,
   "metadata": {},
   "outputs": [],
   "source": [
    "# Convert lists to strings and remove brackets\n",
    "df['text'] = df['text'].astype(str)\n",
    "df['author'] = df['author'].astype(str)\n",
    "\n",
    "df['text'] = df['text'].map(lambda x: x.strip('[]'))\n",
    "df['author'] = df['author'].map(lambda x: x.strip('[]'))"
   ]
  },
  {
   "cell_type": "code",
   "execution_count": 10,
   "metadata": {},
   "outputs": [
    {
     "data": {
      "text/html": [
       "<div>\n",
       "<style scoped>\n",
       "    .dataframe tbody tr th:only-of-type {\n",
       "        vertical-align: middle;\n",
       "    }\n",
       "\n",
       "    .dataframe tbody tr th {\n",
       "        vertical-align: top;\n",
       "    }\n",
       "\n",
       "    .dataframe thead th {\n",
       "        text-align: right;\n",
       "    }\n",
       "</style>\n",
       "<table border=\"1\" class=\"dataframe\">\n",
       "  <thead>\n",
       "    <tr style=\"text-align: right;\">\n",
       "      <th></th>\n",
       "      <th>author</th>\n",
       "      <th>text</th>\n",
       "      <th>title</th>\n",
       "    </tr>\n",
       "  </thead>\n",
       "  <tbody>\n",
       "    <tr>\n",
       "      <th>0</th>\n",
       "      <td>'\\n\\t\\t\\t\\t\\t\\tEric Brackett\\t\\t\\t\\t\\t'</td>\n",
       "      <td>'&lt;p&gt;The iPhone X &lt;a href=\"https://www.digitalt...</td>\n",
       "      <td>\\n\\t\\tShrinking demand forces Apple to slow do...</td>\n",
       "    </tr>\n",
       "    <tr>\n",
       "      <th>1</th>\n",
       "      <td>'\\n\\t\\t\\t\\t\\t\\tLucas Coll\\t\\t\\t\\t\\t'</td>\n",
       "      <td>'&lt;p&gt;When it comes to high-quality devices, lik...</td>\n",
       "      <td>\\n\\t\\tLooking to upgrade? These are the best i...</td>\n",
       "    </tr>\n",
       "    <tr>\n",
       "      <th>2</th>\n",
       "      <td>'\\n\\t\\t\\t\\t\\t\\tSimon Hill\\t\\t\\t\\t\\t'</td>\n",
       "      <td>'&lt;p&gt;&lt;span style=\"font-weight: 400;\"&gt;The &lt;a hre...</td>\n",
       "      <td>\\n\\t\\tThe most common iPhone X problems, and h...</td>\n",
       "    </tr>\n",
       "    <tr>\n",
       "      <th>3</th>\n",
       "      <td>'\\n\\t\\t\\t\\t\\t\\tTrevor Mogg\\t\\t\\t\\t\\t'</td>\n",
       "      <td>'&lt;p&gt;If you’re in the market for an &lt;a href=\"ht...</td>\n",
       "      <td>\\n\\t\\tThis $4,600 solar charger comes with an ...</td>\n",
       "    </tr>\n",
       "    <tr>\n",
       "      <th>4</th>\n",
       "      <td>'\\n\\t\\t\\t\\t\\t\\tMark Jansen\\t\\t\\t\\t\\t'</td>\n",
       "      <td>'&lt;p&gt;&lt;/p&gt;', '&lt;p&gt;The initial estimates, set duri...</td>\n",
       "      <td>\\n\\t\\tApple will halve iPhone X production aft...</td>\n",
       "    </tr>\n",
       "  </tbody>\n",
       "</table>\n",
       "</div>"
      ],
      "text/plain": [
       "                                    author  \\\n",
       "0  '\\n\\t\\t\\t\\t\\t\\tEric Brackett\\t\\t\\t\\t\\t'   \n",
       "1     '\\n\\t\\t\\t\\t\\t\\tLucas Coll\\t\\t\\t\\t\\t'   \n",
       "2     '\\n\\t\\t\\t\\t\\t\\tSimon Hill\\t\\t\\t\\t\\t'   \n",
       "3    '\\n\\t\\t\\t\\t\\t\\tTrevor Mogg\\t\\t\\t\\t\\t'   \n",
       "4    '\\n\\t\\t\\t\\t\\t\\tMark Jansen\\t\\t\\t\\t\\t'   \n",
       "\n",
       "                                                text  \\\n",
       "0  '<p>The iPhone X <a href=\"https://www.digitalt...   \n",
       "1  '<p>When it comes to high-quality devices, lik...   \n",
       "2  '<p><span style=\"font-weight: 400;\">The <a hre...   \n",
       "3  '<p>If you’re in the market for an <a href=\"ht...   \n",
       "4  '<p></p>', '<p>The initial estimates, set duri...   \n",
       "\n",
       "                                               title  \n",
       "0  \\n\\t\\tShrinking demand forces Apple to slow do...  \n",
       "1  \\n\\t\\tLooking to upgrade? These are the best i...  \n",
       "2  \\n\\t\\tThe most common iPhone X problems, and h...  \n",
       "3  \\n\\t\\tThis $4,600 solar charger comes with an ...  \n",
       "4  \\n\\t\\tApple will halve iPhone X production aft...  "
      ]
     },
     "execution_count": 10,
     "metadata": {},
     "output_type": "execute_result"
    }
   ],
   "source": [
    "df.head()"
   ]
  },
  {
   "cell_type": "code",
   "execution_count": 11,
   "metadata": {},
   "outputs": [],
   "source": [
    "## Was able to convert ONE json file to data frame\n",
    "## NEED to CLEAN it\n",
    "## Apply it to EACH json file\n",
    "## Combine into ONE DataFrame\n",
    "## Preprocess for NLP!!!"
   ]
  },
  {
   "cell_type": "code",
   "execution_count": null,
   "metadata": {},
   "outputs": [],
   "source": []
  }
 ],
 "metadata": {
  "kernelspec": {
   "display_name": "Python 3",
   "language": "python",
   "name": "python3"
  },
  "language_info": {
   "codemirror_mode": {
    "name": "ipython",
    "version": 3
   },
   "file_extension": ".py",
   "mimetype": "text/x-python",
   "name": "python",
   "nbconvert_exporter": "python",
   "pygments_lexer": "ipython3",
   "version": "3.6.5"
  }
 },
 "nbformat": 4,
 "nbformat_minor": 2
}
