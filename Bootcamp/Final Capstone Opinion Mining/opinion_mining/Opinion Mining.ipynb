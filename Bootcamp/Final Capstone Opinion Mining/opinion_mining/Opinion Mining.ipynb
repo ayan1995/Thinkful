{
 "cells": [
  {
   "cell_type": "code",
   "execution_count": 1,
   "metadata": {},
   "outputs": [],
   "source": [
    "# Import Dependencies and modules\n",
    "%matplotlib inline\n",
    "import numpy as np\n",
    "import pandas as pd\n",
    "import scipy\n",
    "import sklearn\n",
    "import spacy\n",
    "import matplotlib.pyplot as plt\n",
    "import seaborn as sns\n",
    "import re\n",
    "import string\n",
    "from string import punctuation\n",
    "from collections import Counter\n",
    "from io import StringIO\n",
    "from nltk.corpus import stopwords\n",
    "import nltk\n",
    "import glob\n",
    "import errno\n",
    "import os\n",
    "import json"
   ]
  },
  {
   "cell_type": "markdown",
   "metadata": {},
   "source": [
    "# Load Data"
   ]
  },
  {
   "cell_type": "code",
   "execution_count": 2,
   "metadata": {},
   "outputs": [],
   "source": [
    "# Load each json file\n",
    "with open('iphonex_digtrends.json') as f:\n",
    "    iphonex_digtrends = json.load(f)\n",
    "\n",
    "with open('iphonex_gizmodo.json') as f:\n",
    "    iphonex_gizmodo = json.load(f)\n",
    "\n",
    "with open('iphonex_techradar.json') as f:\n",
    "    iphonex_techradar = json.load(f)\n",
    "\n",
    "with open('pixel3_digtrends.json') as f:\n",
    "    pixel3_digtrends = json.load(f)\n",
    "\n",
    "with open('pixel3_gizmodo.json') as f:\n",
    "    pixel3_gizmodo = json.load(f)\n",
    "\n",
    "with open('pixel3_techradar.json') as f:\n",
    "    pixel3_techradar = json.load(f)"
   ]
  },
  {
   "cell_type": "markdown",
   "metadata": {},
   "source": [
    "# Clean Data"
   ]
  },
  {
   "cell_type": "code",
   "execution_count": 3,
   "metadata": {},
   "outputs": [],
   "source": [
    "# Utility function for standard text cleaning.\n",
    "def text_cleaner(text):\n",
    "    # Visual inspection identifies a form of punctuation spaCy does not\n",
    "    # recognize: the double dash '--'.  Better get rid of it now!\n",
    "\n",
    "    text = str(text).replace(\"\\n\", \"\")\n",
    "    text = str(text).replace(\"\\t\", \"\")\n",
    "    text = str(text).replace(\"\\\\n\", \"\")\n",
    "    text = str(text).replace(\"\\\\t\", \"\")\n",
    "    text = str(text).replace(\"\\\\\", \"\")\n",
    "    text = str(text).replace(\"xa0\", \" \")\n",
    "    text = str(text).replace(\"\\'\", \"\")\n",
    "    text = re.sub(\"<p>\", \"\", str(text))\n",
    "    text = re.sub(\"</p>\", \"\", str(text))\n",
    "    text = re.sub(\"</a>\", \"\", str(text))\n",
    "    text = re.sub('<[^>]+>', \"\", str(text))\n",
    "    text = str(text).replace(\"\\\\u2019\", \"\")\n",
    "    text = str(text).replace(\"\\\\u2013\", \"\")\n",
    "    text = str(text).replace(\"\\\\u2018\", \"\")\n",
    "    text = str(text).replace(\"\\\\u00a0\", \"\")\n",
    "    text = str(text).replace(\"\\\\u00a3\", \"\")\n",
    "    text = str(text).replace(\"\\u2014\", \"\")\n",
    "    text = str(text).replace(\"\\u201d\", \"\")\n",
    "    text = str(text).replace(\"\\u201c\", \"\")\n",
    "    return text\n"
   ]
  },
  {
   "cell_type": "code",
   "execution_count": 4,
   "metadata": {},
   "outputs": [],
   "source": [
    "# Populate each JSON file into a data frame\n",
    "\n",
    "iphonex_digtrends = pd.DataFrame.from_dict(iphonex_digtrends, orient='columns')\n",
    "iphonex_gizmodo = pd.DataFrame.from_dict(iphonex_gizmodo, orient='columns')\n",
    "iphonex_techradar = pd.DataFrame.from_dict(iphonex_techradar, orient='columns')\n",
    "pixel3_digtrends = pd.DataFrame.from_dict(pixel3_digtrends, orient='columns')\n",
    "pixel3_gizmodo = pd.DataFrame.from_dict(pixel3_gizmodo, orient='columns')\n",
    "pixel3_techradar = pd.DataFrame.from_dict(pixel3_techradar, orient='columns')"
   ]
  },
  {
   "cell_type": "code",
   "execution_count": 5,
   "metadata": {},
   "outputs": [],
   "source": [
    "# Define function to clean text\n",
    "def clean_text(df):\n",
    "    # Convert lists to strings and remove brackets\n",
    "    df['text'] = df['text'].astype(str)\n",
    "    df['author'] = df['author'].astype(str)\n",
    "\n",
    "    df['text'] = df['text'].map(lambda x: x.strip('[]'))\n",
    "    df['author'] = df['author'].map(lambda x: x.strip('[]'))\n",
    "\n",
    "    # Clean text\n",
    "    df['text'] = df['text'].apply(lambda x: text_cleaner(x))\n",
    "    df['title'] = df['title'].apply(lambda x: text_cleaner(x))\n",
    "    df['author'] = df['author'].apply(lambda x: text_cleaner(x))\n",
    "    \n",
    "# Put dataframes into a list to iterate through\n",
    "dataframes = [iphonex_digtrends, iphonex_gizmodo, iphonex_techradar, pixel3_digtrends, pixel3_gizmodo, pixel3_techradar]\n",
    "\n",
    "# Clean each Data Frame\n",
    "for dataframe in dataframes:\n",
    "    clean_text(dataframe)"
   ]
  },
  {
   "cell_type": "code",
   "execution_count": 6,
   "metadata": {},
   "outputs": [],
   "source": [
    "# Label all the rows in the dataframe for the phone that the article is talking about\n",
    "\n",
    "iphones = [iphonex_digtrends, iphonex_gizmodo, iphonex_techradar]\n",
    "pixel3s = [pixel3_digtrends, pixel3_gizmodo, pixel3_techradar]\n",
    "\n",
    "for dataframe in iphones:\n",
    "    dataframe['phone'] = 'IPhone X'\n",
    "    \n",
    "for dataframe in pixel3s:\n",
    "    dataframe['phone'] = 'Google Pixel 3'\n"
   ]
  },
  {
   "cell_type": "code",
   "execution_count": 7,
   "metadata": {},
   "outputs": [],
   "source": [
    "# Concat all the dataframes into one dataframe\n",
    "all_frames = [iphonex_digtrends, iphonex_gizmodo, iphonex_techradar, pixel3_digtrends, pixel3_gizmodo, pixel3_techradar]\n",
    "df = pd.concat(all_frames)\n"
   ]
  },
  {
   "cell_type": "code",
   "execution_count": 8,
   "metadata": {},
   "outputs": [
    {
     "data": {
      "text/html": [
       "<div>\n",
       "<style scoped>\n",
       "    .dataframe tbody tr th:only-of-type {\n",
       "        vertical-align: middle;\n",
       "    }\n",
       "\n",
       "    .dataframe tbody tr th {\n",
       "        vertical-align: top;\n",
       "    }\n",
       "\n",
       "    .dataframe thead th {\n",
       "        text-align: right;\n",
       "    }\n",
       "</style>\n",
       "<table border=\"1\" class=\"dataframe\">\n",
       "  <thead>\n",
       "    <tr style=\"text-align: right;\">\n",
       "      <th></th>\n",
       "      <th>author</th>\n",
       "      <th>text</th>\n",
       "      <th>title</th>\n",
       "      <th>phone</th>\n",
       "    </tr>\n",
       "  </thead>\n",
       "  <tbody>\n",
       "    <tr>\n",
       "      <th>0</th>\n",
       "      <td>Eric Brackett</td>\n",
       "      <td>The iPhone X launched to stellar reviews and e...</td>\n",
       "      <td>Shrinking demand forces Apple to slow down iPh...</td>\n",
       "      <td>IPhone X</td>\n",
       "    </tr>\n",
       "    <tr>\n",
       "      <th>1</th>\n",
       "      <td>Lucas Coll</td>\n",
       "      <td>When it comes to high-quality devices, like th...</td>\n",
       "      <td>Looking to upgrade? These are the best iPhone ...</td>\n",
       "      <td>IPhone X</td>\n",
       "    </tr>\n",
       "    <tr>\n",
       "      <th>2</th>\n",
       "      <td>Simon Hill</td>\n",
       "      <td>The iPhone X is completely different from any ...</td>\n",
       "      <td>The most common iPhone X problems, and how to ...</td>\n",
       "      <td>IPhone X</td>\n",
       "    </tr>\n",
       "    <tr>\n",
       "      <th>3</th>\n",
       "      <td>Trevor Mogg</td>\n",
       "      <td>If you’re in the market for an iPhone X, and p...</td>\n",
       "      <td>This $4,600 solar charger comes with an iPhone...</td>\n",
       "      <td>IPhone X</td>\n",
       "    </tr>\n",
       "    <tr>\n",
       "      <th>4</th>\n",
       "      <td>Mark Jansen</td>\n",
       "      <td>, The initial estimates, set during the Novemb...</td>\n",
       "      <td>Apple will halve iPhone X production after lim...</td>\n",
       "      <td>IPhone X</td>\n",
       "    </tr>\n",
       "  </tbody>\n",
       "</table>\n",
       "</div>"
      ],
      "text/plain": [
       "          author                                               text  \\\n",
       "0  Eric Brackett  The iPhone X launched to stellar reviews and e...   \n",
       "1     Lucas Coll  When it comes to high-quality devices, like th...   \n",
       "2     Simon Hill  The iPhone X is completely different from any ...   \n",
       "3    Trevor Mogg  If you’re in the market for an iPhone X, and p...   \n",
       "4    Mark Jansen  , The initial estimates, set during the Novemb...   \n",
       "\n",
       "                                               title     phone  \n",
       "0  Shrinking demand forces Apple to slow down iPh...  IPhone X  \n",
       "1  Looking to upgrade? These are the best iPhone ...  IPhone X  \n",
       "2  The most common iPhone X problems, and how to ...  IPhone X  \n",
       "3  This $4,600 solar charger comes with an iPhone...  IPhone X  \n",
       "4  Apple will halve iPhone X production after lim...  IPhone X  "
      ]
     },
     "execution_count": 8,
     "metadata": {},
     "output_type": "execute_result"
    }
   ],
   "source": [
    "# Visualize dataframe\n",
    "df.head()"
   ]
  },
  {
   "cell_type": "markdown",
   "metadata": {},
   "source": [
    "# Pre-Process Data for NLP"
   ]
  },
  {
   "cell_type": "code",
   "execution_count": 9,
   "metadata": {},
   "outputs": [],
   "source": [
    "# Tokenize text\n",
    "df['text'] = df.apply(lambda row: nltk.word_tokenize(row['text']), axis=1)\n",
    "df['title'] = df.apply(lambda row: nltk.word_tokenize(row['title']), axis=1)\n",
    "\n",
    "# Remove Stopwords, or keep it, might be important for aspect based semantics\n",
    "stop = stopwords.words('english')\n",
    "df['text'] = df['text'].apply(lambda x: [item for item in x if item not in stop])\n",
    "df['title'] = df['title'].apply(lambda x: [item for item in x if item not in stop])\n",
    "\n",
    "# Lowercase everything\n",
    "df['text'] = df['text'].astype(str)\n",
    "df['text'] = df['text'].apply(lambda x: x.lower())\n",
    "\n",
    "df['title'] = df['title'].astype(str)\n",
    "df['title'] = df['title'].apply(lambda x: x.lower())\n",
    "\n",
    "# remove all punctuations\n",
    "df['text'] = df['text'].apply(lambda x: ''.join(c for c in x if c not in punctuation))\n",
    "df['title'] = df['title'].apply(lambda x: ''.join(c for c in x if c not in punctuation))"
   ]
  },
  {
   "cell_type": "code",
   "execution_count": 10,
   "metadata": {},
   "outputs": [
    {
     "data": {
      "text/html": [
       "<div>\n",
       "<style scoped>\n",
       "    .dataframe tbody tr th:only-of-type {\n",
       "        vertical-align: middle;\n",
       "    }\n",
       "\n",
       "    .dataframe tbody tr th {\n",
       "        vertical-align: top;\n",
       "    }\n",
       "\n",
       "    .dataframe thead th {\n",
       "        text-align: right;\n",
       "    }\n",
       "</style>\n",
       "<table border=\"1\" class=\"dataframe\">\n",
       "  <thead>\n",
       "    <tr style=\"text-align: right;\">\n",
       "      <th></th>\n",
       "      <th>author</th>\n",
       "      <th>text</th>\n",
       "      <th>title</th>\n",
       "      <th>phone</th>\n",
       "    </tr>\n",
       "  </thead>\n",
       "  <tbody>\n",
       "    <tr>\n",
       "      <th>0</th>\n",
       "      <td>Eric Brackett</td>\n",
       "      <td>the iphone x launched stellar reviews equally ...</td>\n",
       "      <td>shrinking demand forces apple slow iphone x pr...</td>\n",
       "      <td>IPhone X</td>\n",
       "    </tr>\n",
       "    <tr>\n",
       "      <th>1</th>\n",
       "      <td>Lucas Coll</td>\n",
       "      <td>when comes highquality devices  like ipad  mac...</td>\n",
       "      <td>looking upgrade  these best iphone deals janua...</td>\n",
       "      <td>IPhone X</td>\n",
       "    </tr>\n",
       "    <tr>\n",
       "      <th>2</th>\n",
       "      <td>Simon Hill</td>\n",
       "      <td>the iphone x completely different predecessors...</td>\n",
       "      <td>the common iphone x problems  fix</td>\n",
       "      <td>IPhone X</td>\n",
       "    </tr>\n",
       "    <tr>\n",
       "      <th>3</th>\n",
       "      <td>Trevor Mogg</td>\n",
       "      <td>if ’ market iphone x  pricey battery packs als...</td>\n",
       "      <td>this  4600 solar charger comes iphone x attached</td>\n",
       "      <td>IPhone X</td>\n",
       "    </tr>\n",
       "    <tr>\n",
       "      <th>4</th>\n",
       "      <td>Mark Jansen</td>\n",
       "      <td>the initial estimates  set november launch wi...</td>\n",
       "      <td>apple halve iphone x production limp holiday s...</td>\n",
       "      <td>IPhone X</td>\n",
       "    </tr>\n",
       "  </tbody>\n",
       "</table>\n",
       "</div>"
      ],
      "text/plain": [
       "          author                                               text  \\\n",
       "0  Eric Brackett  the iphone x launched stellar reviews equally ...   \n",
       "1     Lucas Coll  when comes highquality devices  like ipad  mac...   \n",
       "2     Simon Hill  the iphone x completely different predecessors...   \n",
       "3    Trevor Mogg  if ’ market iphone x  pricey battery packs als...   \n",
       "4    Mark Jansen   the initial estimates  set november launch wi...   \n",
       "\n",
       "                                               title     phone  \n",
       "0  shrinking demand forces apple slow iphone x pr...  IPhone X  \n",
       "1  looking upgrade  these best iphone deals janua...  IPhone X  \n",
       "2                  the common iphone x problems  fix  IPhone X  \n",
       "3   this  4600 solar charger comes iphone x attached  IPhone X  \n",
       "4  apple halve iphone x production limp holiday s...  IPhone X  "
      ]
     },
     "execution_count": 10,
     "metadata": {},
     "output_type": "execute_result"
    }
   ],
   "source": [
    "# Visualize dataframe\n",
    "df.head()"
   ]
  },
  {
   "cell_type": "code",
   "execution_count": 11,
   "metadata": {},
   "outputs": [],
   "source": [
    "# Read through Peter Min's medium post and take notes on ideas that is useful to your project\n",
    "# and should be implemented"
   ]
  }
 ],
 "metadata": {
  "kernelspec": {
   "display_name": "Python 3",
   "language": "python",
   "name": "python3"
  },
  "language_info": {
   "codemirror_mode": {
    "name": "ipython",
    "version": 3
   },
   "file_extension": ".py",
   "mimetype": "text/x-python",
   "name": "python",
   "nbconvert_exporter": "python",
   "pygments_lexer": "ipython3",
   "version": "3.6.5"
  }
 },
 "nbformat": 4,
 "nbformat_minor": 2
}
