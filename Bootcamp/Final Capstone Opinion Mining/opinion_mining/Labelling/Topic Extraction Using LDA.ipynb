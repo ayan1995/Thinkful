{
 "cells": [
  {
   "cell_type": "code",
   "execution_count": 1,
   "metadata": {},
   "outputs": [],
   "source": [
    "# Import Dependencies and modules\n",
    "%matplotlib inline\n",
    "import numpy as np\n",
    "import pandas as pd\n",
    "import scipy\n",
    "import sklearn\n",
    "import spacy\n",
    "import matplotlib.pyplot as plt\n",
    "import seaborn as sns\n",
    "import re\n",
    "import string\n",
    "from string import punctuation\n",
    "from collections import Counter\n",
    "from io import StringIO\n",
    "from nltk.corpus import stopwords\n",
    "import nltk\n",
    "import glob\n",
    "import errno\n",
    "import os\n",
    "import json"
   ]
  },
  {
   "cell_type": "code",
   "execution_count": 2,
   "metadata": {},
   "outputs": [],
   "source": [
    "train_df = pd.read_csv('train.csv')"
   ]
  },
  {
   "cell_type": "code",
   "execution_count": 3,
   "metadata": {},
   "outputs": [],
   "source": [
    "# Assign labels based on ratings for positive and negative.\n",
    "train_df['sentiment'] = np.where(train_df['rating']>3, 'positive', 'negative')\n",
    "train_df['numeric_sentiment'] = np.where(train_df['sentiment']=='positive', 1, 0)"
   ]
  },
  {
   "cell_type": "code",
   "execution_count": 4,
   "metadata": {},
   "outputs": [],
   "source": [
    "# Remove null rows\n",
    "train_df = train_df.dropna()"
   ]
  },
  {
   "cell_type": "code",
   "execution_count": 5,
   "metadata": {},
   "outputs": [
    {
     "data": {
      "text/plain": [
       "123907"
      ]
     },
     "execution_count": 5,
     "metadata": {},
     "output_type": "execute_result"
    }
   ],
   "source": [
    "len(train_df)"
   ]
  },
  {
   "cell_type": "code",
   "execution_count": 6,
   "metadata": {},
   "outputs": [],
   "source": [
    "from spacy.lang.en import English\n",
    "\n",
    "spacy.load('en')\n",
    "parser = English()\n",
    "\n",
    "# Function to tokenize text\n",
    "def tokenize(text):\n",
    "    lda_tokens = []\n",
    "    tokens  = parser(text)\n",
    "    for token in tokens:\n",
    "        if token.orth_.isspace():\n",
    "            continue\n",
    "        elif token.like_url:\n",
    "            lda_tokens.append('URL')\n",
    "        elif token.orth_.startswith('@'):\n",
    "            lda_tokens.append('SCREEN_NAME')\n",
    "        else:\n",
    "            lda_tokens.append(token.lower_)\n",
    "    return lda_tokens"
   ]
  },
  {
   "cell_type": "code",
   "execution_count": 7,
   "metadata": {},
   "outputs": [
    {
     "name": "stderr",
     "output_type": "stream",
     "text": [
      "[nltk_data] Downloading package wordnet to\n",
      "[nltk_data]     /Users/ayankarim/nltk_data...\n",
      "[nltk_data]   Package wordnet is already up-to-date!\n"
     ]
    },
    {
     "data": {
      "text/plain": [
       "True"
      ]
     },
     "execution_count": 7,
     "metadata": {},
     "output_type": "execute_result"
    }
   ],
   "source": [
    "# Download wordnet to find meaning of words, synonyms and antonyms\n",
    "nltk.download('wordnet')"
   ]
  },
  {
   "cell_type": "code",
   "execution_count": 8,
   "metadata": {},
   "outputs": [],
   "source": [
    "from nltk.corpus import wordnet as wn\n",
    "\n",
    "# Function to lemmatize and more words to their root\n",
    "def get_lemma(word):\n",
    "    lemma = wn.morphy(word)\n",
    "    if lemma is None:\n",
    "        return word\n",
    "    else:\n",
    "        return lemma"
   ]
  },
  {
   "cell_type": "code",
   "execution_count": 9,
   "metadata": {},
   "outputs": [
    {
     "name": "stderr",
     "output_type": "stream",
     "text": [
      "[nltk_data] Downloading package stopwords to\n",
      "[nltk_data]     /Users/ayankarim/nltk_data...\n",
      "[nltk_data]   Package stopwords is already up-to-date!\n"
     ]
    }
   ],
   "source": [
    "# Compile set of stopwords\n",
    "nltk.download('stopwords')\n",
    "en_stop = set(nltk.corpus.stopwords.words('english'))"
   ]
  },
  {
   "cell_type": "code",
   "execution_count": 10,
   "metadata": {},
   "outputs": [],
   "source": [
    "def prepare_text_for_lda(text):\n",
    "    tokens = tokenize(text)\n",
    "    tokens = [token for token in tokens if len(token) > 4]\n",
    "    tokens = [token for token in tokens if token not in en_stop]\n",
    "    tokens = [get_lemma(token) for token in tokens]\n",
    "    return tokens"
   ]
  },
  {
   "cell_type": "code",
   "execution_count": 11,
   "metadata": {},
   "outputs": [],
   "source": [
    "text_data = []\n",
    "\n",
    "# Prepare training set for LDA\n",
    "tokens = train_df['reviews'].apply(lambda x: prepare_text_for_lda(x))\n",
    "\n",
    "# Append tokenized text to list of tokenized data\n",
    "null = tokens.apply(lambda x: text_data.append(x))"
   ]
  },
  {
   "cell_type": "code",
   "execution_count": 12,
   "metadata": {},
   "outputs": [],
   "source": [
    "from gensim import corpora\n",
    "\n",
    "# Assemble tokenized text data into a dictionary\n",
    "dictionary = corpora.Dictionary(text_data)"
   ]
  },
  {
   "cell_type": "code",
   "execution_count": 13,
   "metadata": {},
   "outputs": [],
   "source": [
    "# Create Bag of Words corpus from text data\n",
    "corpus = [dictionary.doc2bow(text) for text in text_data]"
   ]
  },
  {
   "cell_type": "code",
   "execution_count": 21,
   "metadata": {},
   "outputs": [
    {
     "name": "stdout",
     "output_type": "stream",
     "text": [
      "[(0, 0.2971015349024831),\n",
      " (1, 0.2829494137811665),\n",
      " (2, 0.2321433031173297),\n",
      " (3, 0.19882151854791358),\n",
      " (4, 0.21382809584578655),\n",
      " (5, 0.3589515305482139),\n",
      " (6, 0.2250311418544782),\n",
      " (7, 0.31047777115186354),\n",
      " (8, 0.10265436888018073),\n",
      " (9, 0.13924146238697405),\n",
      " (10, 0.14800153997554158),\n",
      " (11, 0.28094425063675976),\n",
      " (12, 0.21890549088517897),\n",
      " (13, 0.1721957881901213),\n",
      " (14, 0.3891339875656897),\n",
      " (15, 0.11756723195577365),\n",
      " (16, 0.20752621743387425)]\n"
     ]
    }
   ],
   "source": [
    "from gensim import models\n",
    "\n",
    "# Create TF-IDF vectors from our bag of words\n",
    "tfidf = models.TfidfModel(corpus)\n",
    "corpus_tfidf = tfidf[corpus]\n",
    "\n",
    "from pprint import pprint\n",
    "\n",
    "for doc in corpus_tfidf:\n",
    "    pprint(doc)\n",
    "    break"
   ]
  },
  {
   "cell_type": "code",
   "execution_count": 22,
   "metadata": {},
   "outputs": [],
   "source": [
    "import pickle\n",
    "\n",
    "pickle.dump(corpus, open('corpus.pkl', 'wb'))\n",
    "pickle.dump(corpus_tfidf, open('corpus_tfidf.pkl', 'wb'))\n",
    "dictionary.save('dictionary.gensim')\n"
   ]
  },
  {
   "cell_type": "markdown",
   "metadata": {},
   "source": [
    "# 3 Topics"
   ]
  },
  {
   "cell_type": "code",
   "execution_count": 24,
   "metadata": {},
   "outputs": [
    {
     "name": "stdout",
     "output_type": "stream",
     "text": [
      "(0, '0.100*\"phone\" + 0.017*\"unlock\" + 0.015*\"samsung\" + 0.013*\"would\" + 0.012*\"return\" + 0.011*\"mobile\" + 0.011*\"amazon\" + 0.011*\"buy\" + 0.010*\"charger\" + 0.010*\"problem\"')\n",
      "(1, '0.080*\"phone\" + 0.022*\"battery\" + 0.019*\"screen\" + 0.014*\"charge\" + 0.012*\"samsung\" + 0.011*\"camera\" + 0.009*\"feature\" + 0.008*\"really\" + 0.007*\"would\" + 0.007*\"galaxy\"')\n",
      "(2, '0.126*\"phone\" + 0.095*\"great\" + 0.058*\"works\" + 0.032*\"product\" + 0.032*\"excellent\" + 0.024*\"perfect\" + 0.022*\"happy\" + 0.018*\"recommend\" + 0.017*\"everything\" + 0.017*\"price\"')\n"
     ]
    }
   ],
   "source": [
    "import gensim\n",
    "\n",
    "NUM_TOPICS = 3\n",
    "\n",
    "# Extract Topics\n",
    "ldamodel = gensim.models.ldamodel.LdaModel(corpus, num_topics = NUM_TOPICS, id2word = dictionary, passes=15)\n",
    "ldamodel.save('model3.gensim')\n",
    "\n",
    "# Print terms for topics\n",
    "topics = ldamodel.print_topics(num_words=10)\n",
    "for topic in topics:\n",
    "    print(topic)"
   ]
  },
  {
   "cell_type": "markdown",
   "metadata": {},
   "source": [
    "# 5 Topics"
   ]
  },
  {
   "cell_type": "code",
   "execution_count": 17,
   "metadata": {},
   "outputs": [
    {
     "name": "stdout",
     "output_type": "stream",
     "text": [
      "(0, '0.181*\"phone\" + 0.117*\"great\" + 0.067*\"works\" + 0.027*\"happy\" + 0.021*\"everything\" + 0.020*\"expect\" + 0.020*\"price\" + 0.016*\"arrive\" + 0.016*\"purchase\" + 0.015*\"love\"')\n",
      "(1, '0.075*\"phone\" + 0.033*\"samsung\" + 0.015*\"camera\" + 0.014*\"galaxy\" + 0.013*\"feature\" + 0.012*\"mobile\" + 0.011*\"screen\" + 0.009*\"android\" + 0.008*\"better\" + 0.007*\"model\"')\n",
      "(2, '0.120*\"phone\" + 0.029*\"battery\" + 0.018*\"charge\" + 0.018*\"would\" + 0.015*\"screen\" + 0.015*\"problem\" + 0.012*\"month\" + 0.012*\"buy\" + 0.012*\"return\" + 0.009*\"issue\"')\n",
      "(3, '0.081*\"unlock\" + 0.032*\"international\" + 0.025*\"version\" + 0.022*\"excelente\" + 0.014*\"factory\" + 0.014*\"language\" + 0.013*\"amaze\" + 0.013*\"excelent\" + 0.013*\"english\" + 0.013*\"lock\"')\n",
      "(4, '0.103*\"product\" + 0.075*\"excellent\" + 0.052*\"recommend\" + 0.038*\"charger\" + 0.027*\"perfect\" + 0.019*\"seller\" + 0.019*\"would\" + 0.017*\"cellphone\" + 0.016*\"original\" + 0.015*\"adapter\"')\n"
     ]
    }
   ],
   "source": [
    "import gensim\n",
    "\n",
    "NUM_TOPICS = 5\n",
    "\n",
    "# Extract Topics\n",
    "ldamodel = gensim.models.ldamodel.LdaModel(corpus, num_topics = NUM_TOPICS, id2word = dictionary, passes=15)\n",
    "ldamodel.save('model5.gensim')\n",
    "\n",
    "# Print terms for topics\n",
    "topics = ldamodel.print_topics(num_words=10)\n",
    "for topic in topics:\n",
    "    print(topic)"
   ]
  },
  {
   "cell_type": "markdown",
   "metadata": {},
   "source": [
    "# 7 Topics"
   ]
  },
  {
   "cell_type": "code",
   "execution_count": 18,
   "metadata": {},
   "outputs": [
    {
     "name": "stdout",
     "output_type": "stream",
     "text": [
      "(0, '0.098*\"unlock\" + 0.066*\"phone\" + 0.039*\"love\" + 0.032*\"buy\" + 0.032*\"version\" + 0.023*\"mobile\" + 0.017*\"factory\" + 0.017*\"language\" + 0.016*\"country\" + 0.015*\"english\"')\n",
      "(1, '0.119*\"battery\" + 0.074*\"phone\" + 0.073*\"charge\" + 0.050*\"charger\" + 0.019*\"excelente\" + 0.015*\"screen\" + 0.013*\"adapter\" + 0.012*\"last\" + 0.012*\"expectation\" + 0.011*\"black\"')\n",
      "(2, '0.179*\"phone\" + 0.150*\"great\" + 0.054*\"works\" + 0.047*\"excellent\" + 0.043*\"product\" + 0.028*\"price\" + 0.023*\"expect\" + 0.018*\"awesome\" + 0.015*\"thanks\" + 0.013*\"quality\"')\n",
      "(3, '0.098*\"perfect\" + 0.087*\"works\" + 0.041*\"perfectly\" + 0.030*\"everything\" + 0.030*\"exactly\" + 0.029*\"describe\" + 0.027*\"condition\" + 0.025*\"beautiful\" + 0.021*\"thank\" + 0.019*\"manual\"')\n",
      "(4, '0.105*\"phone\" + 0.037*\"purchase\" + 0.031*\"recommend\" + 0.029*\"would\" + 0.028*\"happy\" + 0.023*\"seller\" + 0.023*\"product\" + 0.021*\"receive\" + 0.021*\"order\" + 0.018*\"brand\"')\n",
      "(5, '0.035*\"camera\" + 0.031*\"screen\" + 0.030*\"samsung\" + 0.029*\"feature\" + 0.024*\"galaxy\" + 0.020*\"android\" + 0.019*\"iphone\" + 0.019*\"better\" + 0.016*\"really\" + 0.011*\"memory\"')\n",
      "(6, '0.125*\"phone\" + 0.016*\"samsung\" + 0.013*\"would\" + 0.010*\"return\" + 0.010*\"month\" + 0.010*\"problem\" + 0.010*\"could\" + 0.008*\"buy\" + 0.008*\"call\" + 0.008*\"screen\"')\n"
     ]
    }
   ],
   "source": [
    "import gensim\n",
    "\n",
    "NUM_TOPICS = 7\n",
    "\n",
    "# Extract Topics\n",
    "ldamodel = gensim.models.ldamodel.LdaModel(corpus, num_topics = NUM_TOPICS, id2word = dictionary, passes=15)\n",
    "ldamodel.save('model7.gensim')\n",
    "\n",
    "# Print terms for topics\n",
    "topics = ldamodel.print_topics(num_words=10)\n",
    "for topic in topics:\n",
    "    print(topic)"
   ]
  },
  {
   "cell_type": "markdown",
   "metadata": {},
   "source": [
    "# 10 Topics"
   ]
  },
  {
   "cell_type": "code",
   "execution_count": 19,
   "metadata": {},
   "outputs": [
    {
     "name": "stdout",
     "output_type": "stream",
     "text": [
      "(0, '0.235*\"great\" + 0.231*\"phone\" + 0.100*\"works\" + 0.035*\"price\" + 0.031*\"expect\" + 0.027*\"awesome\" + 0.018*\"look\" + 0.013*\"everything\" + 0.011*\"brand\" + 0.011*\"problem\"')\n",
      "(1, '0.092*\"phone\" + 0.027*\"camera\" + 0.024*\"feature\" + 0.020*\"galaxy\" + 0.019*\"really\" + 0.017*\"samsung\" + 0.016*\"android\" + 0.014*\"better\" + 0.013*\"picture\" + 0.013*\"still\"')\n",
      "(2, '0.185*\"screen\" + 0.039*\"button\" + 0.035*\"touch\" + 0.027*\"cellphone\" + 0.020*\"speaker\" + 0.020*\"drop\" + 0.018*\"sound\" + 0.016*\"scratch\" + 0.015*\"volume\" + 0.015*\"small\"')\n",
      "(3, '0.112*\"phone\" + 0.061*\"battery\" + 0.046*\"charge\" + 0.033*\"problem\" + 0.032*\"charger\" + 0.023*\"working\" + 0.020*\"month\" + 0.018*\"issue\" + 0.016*\"would\" + 0.013*\"start\"')\n",
      "(4, '0.063*\"samsung\" + 0.021*\"version\" + 0.019*\"international\" + 0.017*\"warranty\" + 0.016*\"device\" + 0.013*\"model\" + 0.009*\"update\" + 0.009*\"galaxy\" + 0.009*\"google\" + 0.008*\"country\"')\n",
      "(5, '0.135*\"phone\" + 0.039*\"unlock\" + 0.030*\"service\" + 0.030*\"mobile\" + 0.021*\"verizon\" + 0.019*\"network\" + 0.019*\"call\" + 0.017*\"carrier\" + 0.017*\"problem\" + 0.016*\"could\"')\n",
      "(6, '0.219*\"product\" + 0.159*\"excellent\" + 0.036*\"describe\" + 0.035*\"thank\" + 0.027*\"expectation\" + 0.021*\"seller\" + 0.020*\"quality\" + 0.018*\"exactly\" + 0.016*\"advertise\" + 0.013*\"complain\"')\n",
      "(7, '0.104*\"perfect\" + 0.074*\"phone\" + 0.063*\"works\" + 0.053*\"amaze\" + 0.044*\"thanks\" + 0.043*\"perfectly\" + 0.037*\"everything\" + 0.037*\"love\" + 0.032*\"condition\" + 0.030*\"satisfy\"')\n",
      "(8, '0.092*\"phone\" + 0.047*\"recommend\" + 0.042*\"purchase\" + 0.041*\"would\" + 0.038*\"happy\" + 0.023*\"want\" + 0.019*\"memory\" + 0.019*\"buy\" + 0.014*\"really\" + 0.014*\"seller\"')\n",
      "(9, '0.154*\"phone\" + 0.035*\"return\" + 0.023*\"seller\" + 0.022*\"amazon\" + 0.021*\"buy\" + 0.021*\"money\" + 0.019*\"would\" + 0.018*\"receive\" + 0.016*\"purchase\" + 0.015*\"never\"')\n"
     ]
    }
   ],
   "source": [
    "import gensim\n",
    "\n",
    "NUM_TOPICS = 10\n",
    "\n",
    "# Extract Topics\n",
    "ldamodel = gensim.models.ldamodel.LdaModel(corpus, num_topics = NUM_TOPICS, id2word = dictionary, passes=15)\n",
    "ldamodel.save('model10.gensim')\n",
    "\n",
    "# Print terms for topics\n",
    "topics = ldamodel.print_topics(num_words=10)\n",
    "for topic in topics:\n",
    "    print(topic)"
   ]
  },
  {
   "cell_type": "code",
   "execution_count": 20,
   "metadata": {},
   "outputs": [],
   "source": [
    "# Create Visualizations of topic clusters using pyLDAvis\n",
    "\n",
    "\n",
    "\n",
    "# ... Perhaps you should just do the topic modelling on your scraped dataset\n",
    "# Label your dataset with the topics using the highest probability of the terms being in a given topic\n",
    "\n",
    "# Use the train dataset for training on sentiment labels\n",
    "# After an appropriate accuracy (above 98%)\n",
    "# Use the trained model to assign sentiments to scraped data\n",
    "\n",
    "# MAY NEED TO SCRAPE TEST DATA. PERHAPS TWO DIFFERENT PHONES!!!!!"
   ]
  }
 ],
 "metadata": {
  "kernelspec": {
   "display_name": "Python 3",
   "language": "python",
   "name": "python3"
  },
  "language_info": {
   "codemirror_mode": {
    "name": "ipython",
    "version": 3
   },
   "file_extension": ".py",
   "mimetype": "text/x-python",
   "name": "python",
   "nbconvert_exporter": "python",
   "pygments_lexer": "ipython3",
   "version": "3.6.5"
  }
 },
 "nbformat": 4,
 "nbformat_minor": 2
}
