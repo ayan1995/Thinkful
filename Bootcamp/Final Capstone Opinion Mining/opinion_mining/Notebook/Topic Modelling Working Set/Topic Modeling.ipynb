{
 "cells": [
  {
   "cell_type": "code",
   "execution_count": 1,
   "metadata": {},
   "outputs": [],
   "source": [
    "# Import Dependencies and modules\n",
    "import numpy as np\n",
    "import pandas as pd\n",
    "import scipy\n",
    "import sklearn\n",
    "import spacy\n",
    "from spacy.lang.en import English\n",
    "import matplotlib.pyplot as plt\n",
    "import seaborn as sns\n",
    "import re\n",
    "import string\n",
    "from string import punctuation\n",
    "from collections import Counter\n",
    "from io import StringIO\n",
    "from nltk.corpus import stopwords\n",
    "from nltk.corpus import wordnet as wn\n",
    "\n",
    "from sklearn.linear_model import SGDClassifier\n",
    "from sklearn.feature_extraction.text import CountVectorizer\n",
    "from sklearn.feature_extraction.text import TfidfTransformer\n",
    "from sklearn.pipeline import Pipeline\n",
    "from sklearn.naive_bayes import MultinomialNB\n",
    "from skmultilearn.problem_transform import LabelPowerset\n",
    "\n",
    "\n",
    "import nltk\n",
    "import glob\n",
    "import errno\n",
    "import os\n",
    "import json\n",
    "\n",
    "from pprint import pprint\n",
    "\n",
    "# Gensim\n",
    "import gensim\n",
    "import gensim.corpora as corpora\n",
    "from gensim.utils import simple_preprocess\n",
    "from gensim import models, corpora, similarities\n",
    "from gensim.models import CoherenceModel, TfidfModel\n",
    "from itertools import chain\n",
    "from sklearn.model_selection import train_test_split\n",
    "from sklearn.preprocessing import MultiLabelBinarizer\n",
    "\n",
    "\n",
    "# spacy for lemmatization\n",
    "import spacy\n",
    "\n",
    "# Plotting tools\n",
    "import pyLDAvis\n",
    "import pyLDAvis.gensim  # don't skip this\n",
    "import matplotlib.pyplot as plt\n",
    "\n",
    "import pickle\n",
    "\n",
    "\n",
    "%matplotlib inline"
   ]
  },
  {
   "cell_type": "markdown",
   "metadata": {},
   "source": [
    "# Load Data"
   ]
  },
  {
   "cell_type": "markdown",
   "metadata": {},
   "source": [
    "Data contains texts on:\n",
    "- IPhone X,\n",
    "    S9,\n",
    "    Pixel 3,\n",
    "    Huawei Mate 20 Pro,\n",
    "    OnePlus 6T,\n",
    "    Huawei P2 Pro,\n",
    "    LG V4 Thinq,\n",
    "    Sony Xperia XZ3,\n",
    "    Essential Phone,\n",
    "    Razer Phone 2,\n",
    "    HTC U12+,\n",
    "    Moto G6 plus"
   ]
  },
  {
   "cell_type": "code",
   "execution_count": 2,
   "metadata": {},
   "outputs": [],
   "source": [
    "json_data = pd.DataFrame(columns = ['author', 'text', 'title'])"
   ]
  },
  {
   "cell_type": "code",
   "execution_count": 3,
   "metadata": {},
   "outputs": [],
   "source": [
    "# Define path to text files that contain the novels\n",
    "path = '/Users/ayankarim/Documents/Thinkful/Bootcamp/Final Capstone Opinion Mining/opinion_mining/Notebook/Topic Modelling Working Set/files/*.json'\n",
    "files = glob.glob(path)\n",
    "\n",
    "all_jsons = []\n",
    "\n",
    "for filenames in files:\n",
    "    with open(filenames, 'r') as f:\n",
    "        file = json.load(f)\n",
    "        all_jsons.append(file)\n"
   ]
  },
  {
   "cell_type": "code",
   "execution_count": 4,
   "metadata": {},
   "outputs": [],
   "source": [
    "for dicts in all_jsons:\n",
    "    df = pd.DataFrame(dicts)\n",
    "    json_data = json_data.append(df)"
   ]
  },
  {
   "cell_type": "code",
   "execution_count": 5,
   "metadata": {},
   "outputs": [
    {
     "data": {
      "text/html": [
       "<div>\n",
       "<style scoped>\n",
       "    .dataframe tbody tr th:only-of-type {\n",
       "        vertical-align: middle;\n",
       "    }\n",
       "\n",
       "    .dataframe tbody tr th {\n",
       "        vertical-align: top;\n",
       "    }\n",
       "\n",
       "    .dataframe thead th {\n",
       "        text-align: right;\n",
       "    }\n",
       "</style>\n",
       "<table border=\"1\" class=\"dataframe\">\n",
       "  <thead>\n",
       "    <tr style=\"text-align: right;\">\n",
       "      <th></th>\n",
       "      <th>author</th>\n",
       "      <th>text</th>\n",
       "      <th>title</th>\n",
       "    </tr>\n",
       "  </thead>\n",
       "  <tbody>\n",
       "    <tr>\n",
       "      <th>0</th>\n",
       "      <td>[\\n\\t\\t\\t\\t\\t\\tJulian Chokkattu\\t\\t\\t\\t\\t]</td>\n",
       "      <td>[&lt;p&gt;Google’s &lt;a href=\"https://store.google.com...</td>\n",
       "      <td>\\n\\t\\tGoogle will announce hardware on October...</td>\n",
       "    </tr>\n",
       "    <tr>\n",
       "      <th>1</th>\n",
       "      <td>[\\n\\t\\t\\t\\t\\t\\tChristian de Looper\\t\\t\\t\\t\\t]</td>\n",
       "      <td>[&lt;p&gt;Google finally unveiled the new &lt;a href=\"h...</td>\n",
       "      <td>\\n\\t\\tHere’s how to buy the new Google Pixel 3...</td>\n",
       "    </tr>\n",
       "    <tr>\n",
       "      <th>2</th>\n",
       "      <td>[\\n\\t\\t\\t\\t\\t\\tSimon Hill\\t\\t\\t\\t\\t]</td>\n",
       "      <td>[&lt;p&gt;If you plan to buy one of Google’s &lt;a href...</td>\n",
       "      <td>\\n\\t\\tThe best Pixel 3 cases and covers\\t</td>\n",
       "    </tr>\n",
       "    <tr>\n",
       "      <th>3</th>\n",
       "      <td>[\\n\\t\\t\\t\\t\\t\\tSimon Hill\\t\\t\\t\\t\\t]</td>\n",
       "      <td>[&lt;p&gt;As the developer of Android, Google turns ...</td>\n",
       "      <td>\\n\\t\\tGoogle Pixel 3 vs. Pixel 2 vs. Pixel: Pi...</td>\n",
       "    </tr>\n",
       "    <tr>\n",
       "      <th>4</th>\n",
       "      <td>[\\n\\t\\t\\t\\t\\t\\tSimon Hill\\t\\t\\t\\t\\t]</td>\n",
       "      <td>[&lt;p&gt;There are plenty of contenders in the &lt;a h...</td>\n",
       "      <td>\\n\\t\\tGoogle Pixel 3 vs. Samsung Galaxy S9: Wh...</td>\n",
       "    </tr>\n",
       "  </tbody>\n",
       "</table>\n",
       "</div>"
      ],
      "text/plain": [
       "                                          author  \\\n",
       "0     [\\n\\t\\t\\t\\t\\t\\tJulian Chokkattu\\t\\t\\t\\t\\t]   \n",
       "1  [\\n\\t\\t\\t\\t\\t\\tChristian de Looper\\t\\t\\t\\t\\t]   \n",
       "2           [\\n\\t\\t\\t\\t\\t\\tSimon Hill\\t\\t\\t\\t\\t]   \n",
       "3           [\\n\\t\\t\\t\\t\\t\\tSimon Hill\\t\\t\\t\\t\\t]   \n",
       "4           [\\n\\t\\t\\t\\t\\t\\tSimon Hill\\t\\t\\t\\t\\t]   \n",
       "\n",
       "                                                text  \\\n",
       "0  [<p>Google’s <a href=\"https://store.google.com...   \n",
       "1  [<p>Google finally unveiled the new <a href=\"h...   \n",
       "2  [<p>If you plan to buy one of Google’s <a href...   \n",
       "3  [<p>As the developer of Android, Google turns ...   \n",
       "4  [<p>There are plenty of contenders in the <a h...   \n",
       "\n",
       "                                               title  \n",
       "0  \\n\\t\\tGoogle will announce hardware on October...  \n",
       "1  \\n\\t\\tHere’s how to buy the new Google Pixel 3...  \n",
       "2          \\n\\t\\tThe best Pixel 3 cases and covers\\t  \n",
       "3  \\n\\t\\tGoogle Pixel 3 vs. Pixel 2 vs. Pixel: Pi...  \n",
       "4  \\n\\t\\tGoogle Pixel 3 vs. Samsung Galaxy S9: Wh...  "
      ]
     },
     "execution_count": 5,
     "metadata": {},
     "output_type": "execute_result"
    }
   ],
   "source": [
    "json_data.head()"
   ]
  },
  {
   "cell_type": "markdown",
   "metadata": {},
   "source": [
    "# Clean Data"
   ]
  },
  {
   "cell_type": "code",
   "execution_count": 6,
   "metadata": {},
   "outputs": [],
   "source": [
    "# Utility function for standard text cleaning.\n",
    "def text_cleaner(text):\n",
    "    # Visual inspection identifies a form of punctuation spaCy does not\n",
    "    # recognize: the double dash '--'.  Better get rid of it now!\n",
    "\n",
    "    text = str(text).replace(\"\\n\", \"\")\n",
    "    text = str(text).replace(\"\\t\", \"\")\n",
    "    text = str(text).replace(\"\\\\n\", \"\")\n",
    "    text = str(text).replace(\"\\\\t\", \"\")\n",
    "    text = str(text).replace(\"\\\\\", \"\")\n",
    "    text = str(text).replace(\"xa0\", \" \")\n",
    "    text = str(text).replace(\"\\'\", \"\")\n",
    "    text = re.sub(\"<p>\", \"\", str(text))\n",
    "    text = re.sub(\"</p>\", \"\", str(text))\n",
    "    text = re.sub(\"</a>\", \"\", str(text))\n",
    "    text = re.sub('<[^>]+>', \"\", str(text)) \n",
    "    text = str(text).replace(\"\\\\u2019\", \"\")\n",
    "    text = str(text).replace(\"\\\\u2013\", \"\")\n",
    "    text = str(text).replace(\"\\\\u2018\", \"\")\n",
    "    text = str(text).replace(\"\\\\u00a0\", \"\")\n",
    "    text = str(text).replace(\"\\\\u00a3\", \"\")\n",
    "    text = str(text).replace(\"\\u2014\", \"\")\n",
    "    text = str(text).replace(\"\\u201d\", \"\")\n",
    "    text = str(text).replace(\"\\u201c\", \"\")\n",
    "    return text\n"
   ]
  },
  {
   "cell_type": "code",
   "execution_count": 7,
   "metadata": {},
   "outputs": [],
   "source": [
    "# Define function to clean text\n",
    "def clean_text(df):\n",
    "    # Convert lists to strings and remove brackets\n",
    "    df['text'] = df['text'].astype(str)\n",
    "    df['author'] = df['author'].astype(str)\n",
    "\n",
    "    df['text'] = df['text'].map(lambda x: x.strip('[]'))\n",
    "    df['author'] = df['author'].map(lambda x: x.strip('[]'))\n",
    "\n",
    "    # Clean text\n",
    "    df['text'] = df['text'].apply(lambda x: text_cleaner(x))\n",
    "    df['title'] = df['title'].apply(lambda x: text_cleaner(x))\n",
    "    df['author'] = df['author'].apply(lambda x: text_cleaner(x))"
   ]
  },
  {
   "cell_type": "code",
   "execution_count": 8,
   "metadata": {},
   "outputs": [],
   "source": [
    "# Clean Text\n",
    "clean_text(json_data)"
   ]
  },
  {
   "cell_type": "code",
   "execution_count": 9,
   "metadata": {},
   "outputs": [],
   "source": [
    "# Reset index\n",
    "json_data = json_data.reset_index()\n",
    "json_data = json_data.drop(['index'], axis=1)"
   ]
  },
  {
   "cell_type": "code",
   "execution_count": 10,
   "metadata": {},
   "outputs": [
    {
     "data": {
      "text/html": [
       "<div>\n",
       "<style scoped>\n",
       "    .dataframe tbody tr th:only-of-type {\n",
       "        vertical-align: middle;\n",
       "    }\n",
       "\n",
       "    .dataframe tbody tr th {\n",
       "        vertical-align: top;\n",
       "    }\n",
       "\n",
       "    .dataframe thead th {\n",
       "        text-align: right;\n",
       "    }\n",
       "</style>\n",
       "<table border=\"1\" class=\"dataframe\">\n",
       "  <thead>\n",
       "    <tr style=\"text-align: right;\">\n",
       "      <th></th>\n",
       "      <th>author</th>\n",
       "      <th>text</th>\n",
       "      <th>title</th>\n",
       "    </tr>\n",
       "  </thead>\n",
       "  <tbody>\n",
       "    <tr>\n",
       "      <th>0</th>\n",
       "      <td>Julian Chokkattu</td>\n",
       "      <td>Google’s annual hardware launch event will tak...</td>\n",
       "      <td>Google will announce hardware on October 9, ne...</td>\n",
       "    </tr>\n",
       "    <tr>\n",
       "      <th>1</th>\n",
       "      <td>Christian de Looper</td>\n",
       "      <td>Google finally unveiled the new Google Pixel 3...</td>\n",
       "      <td>Here’s how to buy the new Google Pixel 3 and G...</td>\n",
       "    </tr>\n",
       "    <tr>\n",
       "      <th>2</th>\n",
       "      <td>Simon Hill</td>\n",
       "      <td>If you plan to buy one of Google’s Pixel 3 sma...</td>\n",
       "      <td>The best Pixel 3 cases and covers</td>\n",
       "    </tr>\n",
       "    <tr>\n",
       "      <th>3</th>\n",
       "      <td>Simon Hill</td>\n",
       "      <td>As the developer of Android, Google turns out ...</td>\n",
       "      <td>Google Pixel 3 vs. Pixel 2 vs. Pixel: Picking ...</td>\n",
       "    </tr>\n",
       "    <tr>\n",
       "      <th>4</th>\n",
       "      <td>Simon Hill</td>\n",
       "      <td>There are plenty of contenders in the Android ...</td>\n",
       "      <td>Google Pixel 3 vs. Samsung Galaxy S9: Which sm...</td>\n",
       "    </tr>\n",
       "  </tbody>\n",
       "</table>\n",
       "</div>"
      ],
      "text/plain": [
       "                author                                               text  \\\n",
       "0     Julian Chokkattu  Google’s annual hardware launch event will tak...   \n",
       "1  Christian de Looper  Google finally unveiled the new Google Pixel 3...   \n",
       "2           Simon Hill  If you plan to buy one of Google’s Pixel 3 sma...   \n",
       "3           Simon Hill  As the developer of Android, Google turns out ...   \n",
       "4           Simon Hill  There are plenty of contenders in the Android ...   \n",
       "\n",
       "                                               title  \n",
       "0  Google will announce hardware on October 9, ne...  \n",
       "1  Here’s how to buy the new Google Pixel 3 and G...  \n",
       "2                  The best Pixel 3 cases and covers  \n",
       "3  Google Pixel 3 vs. Pixel 2 vs. Pixel: Picking ...  \n",
       "4  Google Pixel 3 vs. Samsung Galaxy S9: Which sm...  "
      ]
     },
     "execution_count": 10,
     "metadata": {},
     "output_type": "execute_result"
    }
   ],
   "source": [
    "# Visualize dataframe\n",
    "json_data.head()"
   ]
  },
  {
   "cell_type": "markdown",
   "metadata": {},
   "source": [
    "# Pre-Process Data for NLP"
   ]
  },
  {
   "cell_type": "code",
   "execution_count": 11,
   "metadata": {},
   "outputs": [],
   "source": [
    "\n",
    "spacy.load('en')\n",
    "parser = English()\n",
    "\n",
    "# Function to tokenize text\n",
    "def tokenize(text):\n",
    "    lda_tokens = []\n",
    "    tokens  = parser(text)\n",
    "    for token in tokens:\n",
    "        if token.orth_.isspace():\n",
    "            continue\n",
    "        elif token.like_url:\n",
    "            lda_tokens.append('URL')\n",
    "        elif token.orth_.startswith('@'):\n",
    "            lda_tokens.append('SCREEN_NAME')\n",
    "        else:\n",
    "            lda_tokens.append(token.lower_)\n",
    "    return lda_tokens\n",
    "\n",
    "def sent_to_words(sentences):\n",
    "    for sentence in sentences:\n",
    "        yield(gensim.utils.simple_preprocess(str(sentence), deacc = True))\n",
    "        \n"
   ]
  },
  {
   "cell_type": "code",
   "execution_count": 12,
   "metadata": {},
   "outputs": [],
   "source": [
    "data = list(json_data['text'])\n",
    "\n",
    "data_words = list(sent_to_words(data))"
   ]
  },
  {
   "cell_type": "code",
   "execution_count": 13,
   "metadata": {},
   "outputs": [
    {
     "name": "stdout",
     "output_type": "stream",
     "text": [
      "[['google', 'annual', 'hardware', 'launch', 'event', 'will', 'take', 'place', 'on', 'october', 'in', 'new', 'york', 'city', 'the', 'company', 'sent', 'out', 'invites', 'to', 'media', 'including', 'digital', 'trends', 'confirming', 'the', 'date', 'which', 'had', 'leaked', 'in', 'august', 'the', 'date', 'and', 'venue', 'are', 'change', 'of', 'pace', 'considering', 'the', 'past', 'two', 'google', 'october', 'events', 'have', 'taken', 'place', 'in', 'san', 'francisco', 'on', 'october', 'the', 'company', 'is', 'widely', 'expected', 'to', 'launch', 'slew', 'of', 'hardware', 'products', 'ranging', 'from', 'smartphones', 'to', 'smart', 'home', 'devices', 'the', 'highlights', 'will', 'be', 'the', 'pixel', 'and', 'pixel', 'xl', 'successors', 'to', 'last', 'year', 'critically', 'acclaimed', 'pixel', 'and', 'pixel', 'xl', 'smartphones', 'there', 'have', 'been', 'an', 'alarmingly', 'high', 'number', 'of', 'leaks', 'for', 'the', 'pixel', 'series', 'and', 'if', 'true', 'we', 'know', 'quite', 'lot', 'about', 'the', 'phones', 'it', 'may', 'be', 'due', 'to', 'carelessness', 'recently', 'someone', 'left', 'pixel', 'in', 'the', 'back', 'of', 'lyft', 'separately', 'group', 'in', 'russia', 'claims', 'to', 'have', 'gotten', 'its', 'hands', 'on', 'shipment', 'of', 'pixel', 'xl', 'smartphones', 'and', 'even', 'posted', 'an', 'unboxing', 'video', 'showing', 'everything', 'you', 'get', 'in', 'the', 'box', 'the', 'pixel', 'xl', 'is', 'expected', 'to', 'have', 'notch', 'design', 'where', 'cutout', 'at', 'the', 'top', 'of', 'the', 'screen', 'houses', 'the', 'front', 'facing', 'camera', 'this', 'has', 'garnered', 'some', 'criticism', 'as', 'the', 'notch', 'on', 'the', 'pixel', 'xl', 'looks', 'unusually', 'large', 'the', 'smaller', 'pixel', 'may', 'have', 'more', 'traditional', 'design', 'with', 'slimmer', 'bezels', 'on', 'the', 'top', 'and', 'bottom', 'you', 'can', 'learn', 'more', 'about', 'the', 'two', 'phones', 'in', 'our', 'pixel', 'roundup', 'as', 'the', 'new', 'pixel', 'devices', 'are', 'rumored', 'to', 'support', 'wireless', 'charging', 'leaks', 'suggest', 'google', 'will', 'also', 'announce', 'the', 'pixel', 'stand', 'wireless', 'charging', 'dock', 'that', 'also', 'turns', 'the', 'phone', 'screen', 'into', 'smart', 'display', 'for', 'google', 'assistant', 'similar', 'to', 'what', 'lenovo', 'offers', 'with', 'its', 'smart', 'display', 'google', 'is', 'also', 'rumored', 'to', 'be', 'launch', 'its', 'own', 'smart', 'display', 'to', 'compete', 'with', 'the', 'likes', 'of', 'amazon', 'echo', 'show', 'it', 'will', 'essentially', 'be', 'google', 'home', 'with', 'screen', 'you', 'll', 'be', 'able', 'to', 'access', 'youtube', 'videos', 'with', 'your', 'voice', 'thanks', 'to', 'google', 'assistant', 'and', 'make', 'video', 'calls', 'with', 'google', 'duo', 'app', 'other', 'products', 'rumored', 'to', 'be', 'on', 'the', 'docket', 'are', 'two', 'pixelbooks', 'which', 'are', 'chromebooks', 'from', 'google', 'running', 'chrome', 'os', 'and', 'potential', 'followup', 'to', 'the', 'google', 'pixel', 'buds', 'there', 'likely', 'more', 'google', 'will', 'announce', 'at', 'the', 'event', 'that', 'we', 'haven', 'heard', 'much', 'about', 'for', 'example', 'last', 'year', 'google', 'clips', 'announcement', 'came', 'as', 'surprise', 'digital', 'trends', 'will', 'be', 'on', 'the', 'scene', 'in', 'new', 'york', 'on', 'october', 'reporting', 'on', 'everything', 'google', 'will', 'announce', 'so', 'stay', 'tuned']]\n"
     ]
    }
   ],
   "source": [
    "print(data_words[:1])"
   ]
  },
  {
   "cell_type": "code",
   "execution_count": 14,
   "metadata": {},
   "outputs": [],
   "source": [
    "# Create Bigrams and Trigrams\n",
    "\n",
    "# Build the models\n",
    "bigram = gensim.models.Phrases(data_words, min_count=5, threshold=100)\n",
    "trigram = gensim.models.Phrases(bigram[data_words], threshold=100)\n",
    "\n",
    "# fast way to get a sentece clubbed as a bigram/trigram\n",
    "bigram_mod = gensim.models.phrases.Phraser(bigram)\n",
    "trigram_mod = gensim.models.phrases.Phraser(trigram)"
   ]
  },
  {
   "cell_type": "code",
   "execution_count": 16,
   "metadata": {},
   "outputs": [],
   "source": [
    "# Remove Stopwords, make bigrams and lemmatize\n",
    "stop_words = stopwords.words('english')\n",
    "stop_words.extend(['pixel', 'iphone', 'samsung', 'apple', 'essential', 'xs', 'max', \n",
    "                  'huawei', 'galaxy', 'note', 'moto', 'oneplus', 'android', 'mate', 'pro', 'lg', 'sony', 'razer', 'phone', 'company', \n",
    "                  'smartphone', 'google', 'thinq', 'nokia', 'htc', 'xperia', 'xz'])\n",
    "\n",
    "# Define functions for stopwords, bigrams, trigrams and lemmatization\n",
    "def remove_stopwords(texts):\n",
    "    return [[word for word in simple_preprocess(str(doc)) if word not in stop_words] for doc in texts]\n",
    "\n",
    "def make_bigrams(texts):\n",
    "    return [bigram_mod[doc] for doc in texts]\n",
    "\n",
    "def make_trigrams(texts):\n",
    "    return [trigram_mod[bigram_mod[doc]] for doc in texts]\n",
    "\n",
    "def lemmatization(texts, allowed_postags=['NOUN', 'ADJ', 'VERB', 'ADV']):\n",
    "    \"\"\"https://spacy.io/api/annotation\"\"\"\n",
    "    texts_out = []\n",
    "    for sent in texts:\n",
    "        doc = nlp(\" \".join(sent)) \n",
    "        texts_out.append([token.lemma_ for token in doc if token.pos_ in allowed_postags])\n",
    "    return texts_out"
   ]
  },
  {
   "cell_type": "code",
   "execution_count": 17,
   "metadata": {
    "scrolled": true
   },
   "outputs": [
    {
     "name": "stdout",
     "output_type": "stream",
     "text": [
      "[['annual', 'hardware', 'launch', 'event', 'take', 'place', 'october', 'new', 'york', 'city', 'send', 'invite', 'medium', 'include', 'digital_trend', 'confirm', 'date', 'leak', 'august', 'date', 'venue', 'change', 'pace', 'consider', 'october', 'event', 'take', 'place', 'san', 'francisco', 'october', 'widely', 'expect', 'launch', 'slay', 'hardware', 'product', 'range', 'smartphone', 'smart', 'home', 'device', 'highlight', 'successor', 'last_year', 'critically', 'acclaim', 'smartphone', 'alarmingly', 'high', 'number', 'leak', 'series', 'true', 'know', 'quite', 'lot', 'phone', 'may', 'due', 'carelessness', 'recently', 'someone', 'leave', 'lyft', 'separately', 'group', 'russia', 'claim', 'get', 'hand', 'shipment', 'smartphone', 'even', 'post', 'unbox', 'video', 'show', 'everything', 'get', 'box', 'expect', 'notch', 'design', 'cutout', 'top', 'screen', 'house', 'front_fac', 'camera', 'garner', 'criticism', 'notch', 'look', 'unusually', 'large', 'small', 'may', 'traditional', 'design', 'slim', 'bezel', 'top', 'bottom', 'learn', 'phone', 'roundup', 'new', 'device', 'rumor', 'support', 'wireless_charging', 'leak', 'suggest', 'also', 'announce', 'stand', 'wireless_charging', 'dock', 'also', 'turn', 'screen', 'smart', 'display', 'assistant', 'similar', 'lenovo', 'offer', 'smart', 'display', 'also', 'rumor', 'launch', 'smart', 'display', 'compete', 'like', 'amazon', 'echo', 'show', 'essentially', 'home', 'screen', 'able', 'access', 'youtube', 'video', 'voice', 'thank', 'assistant', 'make', 'video', 'call', 'duo', 'app', 'product', 'rumor', 'docket', 'pixelbook', 'chromebook', 'run', 'chrome_os', 'potential', 'followup', 'bud', 'likely', 'announce', 'event', 'hear', 'much', 'example', 'last_year', 'clip', 'announcement', 'come', 'surprise', 'digital_trend', 'scene', 'new', 'york', 'october', 'report', 'everything', 'announce', 'stay', 'tune']]\n"
     ]
    }
   ],
   "source": [
    "# Remove Stop Words\n",
    "data_words_nostops = remove_stopwords(data_words)\n",
    "\n",
    "# Form Bigrams\n",
    "data_words_bigrams = make_bigrams(data_words_nostops)\n",
    "\n",
    "# Initialize spacy 'en' model, keeping only tagger component (for efficiency)\n",
    "# python3 -m spacy download en\n",
    "nlp = spacy.load('en', disable=['parser', 'ner'])\n",
    "\n",
    "# Do lemmatization keeping only noun, adj, vb, adv\n",
    "data_lemmatized = lemmatization(data_words_bigrams, allowed_postags=['NOUN', 'ADJ', 'VERB', 'ADV'])\n",
    "\n",
    "print(data_lemmatized[:1])"
   ]
  },
  {
   "cell_type": "code",
   "execution_count": 18,
   "metadata": {},
   "outputs": [],
   "source": [
    "# Create Dictionary\n",
    "id2word = corpora.Dictionary(data_lemmatized)\n",
    "\n",
    "# Create Corpus\n",
    "texts = data_lemmatized\n",
    "\n",
    "# Term Document Frequency\n",
    "corpus = [id2word.doc2bow(text) for text in texts]"
   ]
  },
  {
   "cell_type": "code",
   "execution_count": 19,
   "metadata": {},
   "outputs": [],
   "source": [
    "# Feed this data to a pre-built model"
   ]
  },
  {
   "cell_type": "code",
   "execution_count": 20,
   "metadata": {},
   "outputs": [],
   "source": [
    "# Find another data set to try topic modelling on for comparison"
   ]
  },
  {
   "cell_type": "code",
   "execution_count": 21,
   "metadata": {},
   "outputs": [
    {
     "data": {
      "text/plain": [
       "316"
      ]
     },
     "execution_count": 21,
     "metadata": {},
     "output_type": "execute_result"
    }
   ],
   "source": [
    "len(corpus[2])"
   ]
  },
  {
   "cell_type": "code",
   "execution_count": 22,
   "metadata": {},
   "outputs": [],
   "source": [
    "# gather tfidf scores\n",
    "tfidf = models.TfidfModel(corpus, id2word = id2word)\n",
    "\n",
    "# filter low value words\n",
    "low_value = 0.025\n",
    "\n",
    "for i in range(0, len(corpus)):\n",
    "    bow = corpus[i]\n",
    "    low_value_words = [] #reinitialize to be safe. You can skip this.\n",
    "    low_value_words = [id for id, value in tfidf[bow] if value < low_value]\n",
    "    new_bow = [b for b in bow if b[0] not in low_value_words]\n",
    "\n",
    "    #reassign        \n",
    "    corpus[i] = new_bow"
   ]
  },
  {
   "cell_type": "code",
   "execution_count": 23,
   "metadata": {},
   "outputs": [
    {
     "data": {
      "text/plain": [
       "198"
      ]
     },
     "execution_count": 23,
     "metadata": {},
     "output_type": "execute_result"
    }
   ],
   "source": [
    "len(corpus[2])"
   ]
  },
  {
   "cell_type": "code",
   "execution_count": 24,
   "metadata": {},
   "outputs": [
    {
     "name": "stdout",
     "output_type": "stream",
     "text": [
      "[[(0, 1), (1, 1), (2, 1), (3, 1), (5, 1), (6, 3), (7, 1), (8, 1), (10, 2), (11, 1), (12, 1), (13, 1), (14, 1), (15, 1), (16, 1), (18, 1), (19, 1), (20, 1), (21, 1), (22, 1), (23, 1), (24, 1), (26, 1), (27, 1), (28, 1), (29, 1), (30, 1), (31, 1), (32, 2), (33, 2), (34, 2), (35, 2), (36, 3), (37, 1), (38, 1), (39, 1), (40, 1), (41, 1), (42, 1), (44, 3), (45, 2), (46, 1), (47, 2), (48, 1), (49, 1), (50, 1), (51, 1), (53, 1), (54, 1), (55, 2), (56, 1), (57, 1), (58, 1), (59, 2), (60, 1), (62, 1), (65, 2), (66, 3), (67, 3), (68, 1), (69, 1), (70, 1), (71, 1), (72, 1), (75, 1), (78, 1), (81, 2), (82, 1), (83, 4), (85, 1), (87, 1), (88, 2), (89, 1), (90, 1), (91, 2), (92, 1), (93, 1), (94, 1), (95, 1), (96, 1), (97, 3), (98, 1), (99, 1), (100, 1), (101, 1), (102, 3), (103, 1), (104, 1), (105, 1), (106, 1), (107, 2), (108, 1), (109, 1), (110, 1), (112, 4), (113, 3), (114, 1), (115, 1), (116, 1), (117, 1), (118, 1), (119, 1), (120, 1), (122, 1), (123, 2), (124, 1), (125, 1), (126, 1), (127, 1), (128, 1), (129, 1), (130, 1), (131, 3), (132, 1), (133, 1), (134, 2), (135, 2), (136, 1)]]\n"
     ]
    }
   ],
   "source": [
    "# View\n",
    "print(corpus[:1])"
   ]
  },
  {
   "cell_type": "code",
   "execution_count": 25,
   "metadata": {},
   "outputs": [],
   "source": [
    "# Build the lda topic model\n",
    "\n",
    "lda = models.ldamodel.LdaModel(corpus=corpus, id2word=id2word, num_topics=3, update_every=1, \n",
    "                               chunksize=50, passes=25, random_state=1, alpha='auto', minimum_probability=0)\n",
    "\n",
    "# save the model to disk\n",
    "# filename = 'lda_model.pkl'\n",
    "# pickle.dump(lda, open(filename, 'wb'))"
   ]
  },
  {
   "cell_type": "markdown",
   "metadata": {},
   "source": [
    "1. topic 0\n",
    "    - camera, display, feature, megapixel, lens, screen, big, device\n",
    "    \n",
    "    reliability\n",
    "    \n",
    "2. topic 1\n",
    "    - screen, app, case, tap, go, option, display, setting, button, notification, select\n",
    "    \n",
    "    functionality\n",
    "    \n",
    "3. topic 2\n",
    "    - camera, photo, device, work, user, issue, leak, show, app, really, update\n",
    "    \n",
    "    design"
   ]
  },
  {
   "cell_type": "code",
   "execution_count": 26,
   "metadata": {},
   "outputs": [
    {
     "name": "stdout",
     "output_type": "stream",
     "text": [
      "[(0,\n",
      "  '0.018*\"camera\" + 0.013*\"phone\" + 0.008*\"good\" + 0.008*\"display\" + '\n",
      "  '0.008*\"feature\" + 0.007*\"lens\" + 0.007*\"megapixel\" + 0.006*\"offer\" + '\n",
      "  '0.006*\"winner\" + 0.006*\"find\" + 0.006*\"screen\" + 0.005*\"get\" + '\n",
      "  '0.005*\"device\" + 0.005*\"come\" + 0.005*\"update\"'),\n",
      " (1,\n",
      "  '0.017*\"app\" + 0.017*\"screen\" + 0.014*\"case\" + 0.011*\"tap\" + 0.008*\"home\" + '\n",
      "  '0.007*\"set\" + 0.006*\"want\" + 0.006*\"display\" + 0.006*\"setting\" + '\n",
      "  '0.006*\"option\" + 0.006*\"go\" + 0.006*\"turn\" + 0.006*\"button\" + 0.005*\"use\" + '\n",
      "  '0.005*\"time\"'),\n",
      " (2,\n",
      "  '0.007*\"photo\" + 0.006*\"camera\" + 0.006*\"even\" + 0.006*\"device\" + '\n",
      "  '0.004*\"could\" + 0.004*\"say\" + 0.004*\"take\" + 0.004*\"issue\" + 0.004*\"user\" + '\n",
      "  '0.004*\"really\" + 0.004*\"leak\" + 0.004*\"thing\" + 0.003*\"people\" + '\n",
      "  '0.003*\"seem\" + 0.003*\"new\"')]\n"
     ]
    }
   ],
   "source": [
    "# Print the key words in the 10 topics\n",
    "pprint(lda.print_topics(num_words=15))\n",
    "doc_lda = lda[corpus]"
   ]
  },
  {
   "cell_type": "code",
   "execution_count": 27,
   "metadata": {},
   "outputs": [
    {
     "name": "stdout",
     "output_type": "stream",
     "text": [
      "\n",
      "Perplexity:  -7.7599402552235945\n",
      "\n",
      "Coherence Score:  0.3891545948178223\n"
     ]
    }
   ],
   "source": [
    "# Evaluate how good the model is\n",
    "\n",
    "# Compute perplexity\n",
    "print('\\nPerplexity: ', lda.log_perplexity(corpus)) # Lower the better\n",
    "\n",
    "# Compute Coherence\n",
    "coherenece_model_lda = CoherenceModel(model=lda, texts=data_lemmatized, dictionary=id2word, coherence='c_v' )\n",
    "coherence_lda = coherenece_model_lda.get_coherence()\n",
    "print('\\nCoherence Score: ', coherence_lda)"
   ]
  },
  {
   "cell_type": "code",
   "execution_count": 28,
   "metadata": {},
   "outputs": [
    {
     "name": "stderr",
     "output_type": "stream",
     "text": [
      "/usr/local/lib/python3.6/site-packages/pyLDAvis/_prepare.py:257: FutureWarning: Sorting because non-concatenation axis is not aligned. A future version\n",
      "of pandas will change to not sort by default.\n",
      "\n",
      "To accept the future behavior, pass 'sort=False'.\n",
      "\n",
      "To retain the current behavior and silence the warning, pass 'sort=True'.\n",
      "\n",
      "  return pd.concat([default_term_info] + list(topic_dfs))\n"
     ]
    },
    {
     "data": {
      "text/html": [
       "\n",
       "<link rel=\"stylesheet\" type=\"text/css\" href=\"https://cdn.rawgit.com/bmabey/pyLDAvis/files/ldavis.v1.0.0.css\">\n",
       "\n",
       "\n",
       "<div id=\"ldavis_el5784149813763686325629695\"></div>\n",
       "<script type=\"text/javascript\">\n",
       "\n",
       "var ldavis_el5784149813763686325629695_data = {\"mdsDat\": {\"x\": [-0.07366008561580907, -0.12084557113553498, 0.19450565675134404], \"y\": [0.1515083232767003, -0.12883838207496476, -0.022669941201735586], \"topics\": [1, 2, 3], \"cluster\": [1, 1, 1], \"Freq\": [52.24758529663086, 30.57359504699707, 17.178817749023438]}, \"tinfo\": {\"Category\": [\"Default\", \"Default\", \"Default\", \"Default\", \"Default\", \"Default\", \"Default\", \"Default\", \"Default\", \"Default\", \"Default\", \"Default\", \"Default\", \"Default\", \"Default\", \"Default\", \"Default\", \"Default\", \"Default\", \"Default\", \"Default\", \"Default\", \"Default\", \"Default\", \"Default\", \"Default\", \"Default\", \"Default\", \"Default\", \"Default\", \"Topic1\", \"Topic1\", \"Topic1\", \"Topic1\", \"Topic1\", \"Topic1\", \"Topic1\", \"Topic1\", \"Topic1\", \"Topic1\", \"Topic1\", \"Topic1\", \"Topic1\", \"Topic1\", \"Topic1\", \"Topic1\", \"Topic1\", \"Topic1\", \"Topic1\", \"Topic1\", \"Topic1\", \"Topic1\", \"Topic1\", \"Topic1\", \"Topic1\", \"Topic1\", \"Topic1\", \"Topic1\", \"Topic1\", \"Topic1\", \"Topic1\", \"Topic1\", \"Topic1\", \"Topic1\", \"Topic1\", \"Topic1\", \"Topic1\", \"Topic1\", \"Topic1\", \"Topic1\", \"Topic1\", \"Topic1\", \"Topic1\", \"Topic1\", \"Topic1\", \"Topic1\", \"Topic1\", \"Topic1\", \"Topic1\", \"Topic1\", \"Topic1\", \"Topic1\", \"Topic2\", \"Topic2\", \"Topic2\", \"Topic2\", \"Topic2\", \"Topic2\", \"Topic2\", \"Topic2\", \"Topic2\", \"Topic2\", \"Topic2\", \"Topic2\", \"Topic2\", \"Topic2\", \"Topic2\", \"Topic2\", \"Topic2\", \"Topic2\", \"Topic2\", \"Topic2\", \"Topic2\", \"Topic2\", \"Topic2\", \"Topic2\", \"Topic2\", \"Topic2\", \"Topic2\", \"Topic2\", \"Topic2\", \"Topic2\", \"Topic2\", \"Topic2\", \"Topic2\", \"Topic2\", \"Topic2\", \"Topic2\", \"Topic2\", \"Topic2\", \"Topic2\", \"Topic2\", \"Topic2\", \"Topic2\", \"Topic2\", \"Topic2\", \"Topic2\", \"Topic2\", \"Topic2\", \"Topic2\", \"Topic2\", \"Topic2\", \"Topic2\", \"Topic2\", \"Topic2\", \"Topic2\", \"Topic2\", \"Topic2\", \"Topic2\", \"Topic2\", \"Topic2\", \"Topic2\", \"Topic2\", \"Topic2\", \"Topic2\", \"Topic2\", \"Topic2\", \"Topic2\", \"Topic2\", \"Topic2\", \"Topic3\", \"Topic3\", \"Topic3\", \"Topic3\", \"Topic3\", \"Topic3\", \"Topic3\", \"Topic3\", \"Topic3\", \"Topic3\", \"Topic3\", \"Topic3\", \"Topic3\", \"Topic3\", \"Topic3\", \"Topic3\", \"Topic3\", \"Topic3\", \"Topic3\", \"Topic3\", \"Topic3\", \"Topic3\", \"Topic3\", \"Topic3\", \"Topic3\", \"Topic3\", \"Topic3\", \"Topic3\", \"Topic3\", \"Topic3\", \"Topic3\", \"Topic3\", \"Topic3\", \"Topic3\", \"Topic3\", \"Topic3\", \"Topic3\", \"Topic3\", \"Topic3\", \"Topic3\", \"Topic3\", \"Topic3\", \"Topic3\", \"Topic3\", \"Topic3\", \"Topic3\", \"Topic3\", \"Topic3\", \"Topic3\", \"Topic3\", \"Topic3\", \"Topic3\", \"Topic3\", \"Topic3\", \"Topic3\", \"Topic3\", \"Topic3\", \"Topic3\", \"Topic3\", \"Topic3\", \"Topic3\", \"Topic3\", \"Topic3\", \"Topic3\", \"Topic3\", \"Topic3\", \"Topic3\", \"Topic3\", \"Topic3\"], \"Freq\": [345.0, 513.0, 552.0, 243.0, 180.0, 300.0, 303.0, 121.0, 166.0, 266.0, 153.0, 104.0, 179.0, 378.0, 109.0, 219.0, 213.0, 211.0, 263.0, 208.0, 123.0, 164.0, 195.0, 284.0, 75.0, 162.0, 416.0, 183.0, 487.0, 95.0, 551.837646484375, 299.4585876464844, 265.5077209472656, 210.46627807617188, 183.3304901123047, 194.3531951904297, 161.1656036376953, 160.55795288085938, 153.65682983398438, 145.9168243408203, 132.75830078125, 114.6593017578125, 118.4276351928711, 301.7411804199219, 119.48171997070312, 108.50991821289062, 102.55731964111328, 102.6386947631836, 101.19318389892578, 94.05744934082031, 88.07784271240234, 89.06900024414062, 98.70860290527344, 82.57817840576172, 83.05439758300781, 76.80951690673828, 78.15579223632812, 85.68253326416016, 65.61412048339844, 80.56476593017578, 109.61835479736328, 272.2565002441406, 85.81031799316406, 181.22312927246094, 161.0999298095703, 369.9276123046875, 337.02093505859375, 796.056640625, 234.4182586669922, 259.5921936035156, 158.92648315429688, 180.64866638183594, 366.6640625, 144.13877868652344, 209.10516357421875, 148.84744262695312, 126.27411651611328, 141.87255859375, 169.45591735839844, 197.23703002929688, 221.4425048828125, 244.5296630859375, 94.37140655517578, 53.966121673583984, 51.24882125854492, 46.10972595214844, 40.61418533325195, 37.611751556396484, 31.335023880004883, 26.68555450439453, 25.52834701538086, 26.573131561279297, 25.469974517822266, 23.596019744873047, 21.189186096191406, 25.225183486938477, 20.292797088623047, 23.27518081665039, 23.253955841064453, 18.804279327392578, 17.6711483001709, 17.380817413330078, 16.62261962890625, 22.296119689941406, 82.63285827636719, 16.183076858520508, 16.690265655517578, 22.374622344970703, 17.485139846801758, 17.54345703125, 15.348318099975586, 16.577707290649414, 36.671043395996094, 56.57799530029297, 102.60826873779297, 114.32770538330078, 74.72794342041016, 29.319934844970703, 81.03936767578125, 35.9715576171875, 50.54545593261719, 43.067649841308594, 102.36431884765625, 188.28883361816406, 160.0014190673828, 44.87849044799805, 85.65498352050781, 110.11981964111328, 55.68431854248047, 70.45840454101562, 52.960548400878906, 83.6074447631836, 96.1231689453125, 88.64434814453125, 108.97175598144531, 93.52897644042969, 47.642147064208984, 151.8672637939453, 84.66921997070312, 70.40189361572266, 72.78738403320312, 64.32100677490234, 70.88460540771484, 163.17880249023438, 64.12344360351562, 60.33064651489258, 84.85600280761719, 68.1090087890625, 59.076683044433594, 57.39641571044922, 52.41402816772461, 33.31623840332031, 22.56751823425293, 27.756437301635742, 27.023841857910156, 36.83046340942383, 18.839462280273438, 18.61368179321289, 22.602352142333984, 17.355066299438477, 17.10628890991211, 19.56968879699707, 15.512331008911133, 16.141223907470703, 17.498306274414062, 18.57094383239746, 13.43740177154541, 15.934882164001465, 12.912297248840332, 21.340524673461914, 11.23689079284668, 11.429710388183594, 55.73988723754883, 9.959967613220215, 9.49292278289795, 10.195926666259766, 60.418968200683594, 11.001596450805664, 9.013745307922363, 9.279377937316895, 13.29384994506836, 163.96409606933594, 67.6956558227539, 30.81147003173828, 15.232650756835938, 16.8159236907959, 29.048398971557617, 36.07622146606445, 88.48715209960938, 194.15892028808594, 96.45333862304688, 249.32147216796875, 21.323787689208984, 81.46588897705078, 54.012351989746094, 109.46672821044922, 241.88148498535156, 50.640159606933594, 26.27737045288086, 86.47706604003906, 31.585155487060547, 83.17896270751953, 58.66697692871094, 79.74668884277344, 34.29630661010742, 46.550537109375, 73.69445037841797, 90.14785766601562, 77.9609603881836, 60.4273567199707, 73.125244140625, 39.26886749267578, 66.0444564819336, 89.20945739746094, 42.78929901123047, 41.77848434448242, 41.03388595581055, 40.94793701171875, 40.988155364990234], \"Term\": [\"app\", \"screen\", \"phone\", \"case\", \"tap\", \"megapixel\", \"lens\", \"set\", \"home\", \"winner\", \"option\", \"setting\", \"use\", \"feature\", \"turn\", \"even\", \"want\", \"come\", \"photo\", \"battery\", \"could\", \"go\", \"back\", \"offer\", \"notification\", \"button\", \"good\", \"inch\", \"display\", \"leak\", \"phone\", \"megapixel\", \"winner\", \"come\", \"inch\", \"back\", \"storage\", \"available\", \"ram\", \"flagship\", \"expect\", \"also\", \"gb\", \"lens\", \"premium\", \"mean\", \"processor\", \"aperture\", \"slightly\", \"difference\", \"powerful\", \"mah_battery\", \"bezel\", \"deal\", \"spec\", \"well\", \"late\", \"extra\", \"boast\", \"expensive\", \"similar\", \"offer\", \"upgrade\", \"price\", \"support\", \"good\", \"feature\", \"camera\", \"get\", \"find\", \"dual\", \"design\", \"display\", \"edge\", \"update\", \"still\", \"buy\", \"play\", \"big\", \"new\", \"device\", \"screen\", \"leak\", \"rumor\", \"pic\", \"week\", \"hydrogen\", \"reportedly\", \"bug\", \"scooter\", \"patent\", \"source\", \"car\", \"bloomberg\", \"rzr\", \"render\", \"cause\", \"basically\", \"iso\", \"statement\", \"quarter\", \"there\", \"allege\", \"have\", \"report\", \"comment\", \"lawsuit\", \"potential\", \"xa\", \"previously\", \"beer\", \"makes_sense\", \"apparently\", \"s\", \"issue\", \"could\", \"accord\", \"development\", \"product\", \"post\", \"cam\", \"ai\", \"user\", \"photo\", \"even\", \"be\", \"seem\", \"say\", \"picture\", \"image\", \"sale\", \"show\", \"really\", \"people\", \"take\", \"thing\", \"try\", \"device\", \"year\", \"way\", \"feel\", \"would\", \"work\", \"camera\", \"shoot\", \"sell\", \"new\", \"look\", \"launch\", \"software\", \"toggle\", \"protector\", \"sleep\", \"office\", \"mouse\", \"disturb\", \"location\", \"siri\", \"bar\", \"repair\", \"scroll\", \"microsoft\", \"headset\", \"settings_gt\", \"timer\", \"disable\", \"screenshot\", \"block\", \"bumper\", \"default\", \"skype\", \"alarm\", \"icon\", \"luckily\", \"button_cover\", \"album\", \"select\", \"automate\", \"slider_next\", \"spigen\", \"application\", \"tap\", \"notification\", \"lock\", \"keyssa\", \"wallpaper\", \"laptop\", \"swipe\", \"setting\", \"case\", \"set\", \"app\", \"wake\", \"turn\", \"protection\", \"home\", \"screen\", \"open\", \"slider\", \"option\", \"protect\", \"go\", \"allow\", \"button\", \"keyboard\", \"choose\", \"time\", \"want\", \"use\", \"light\", \"mode\", \"easy\", \"battery\", \"display\", \"call\", \"work\", \"add\", \"photo\", \"feature\"], \"Total\": [345.0, 513.0, 552.0, 243.0, 180.0, 300.0, 303.0, 121.0, 166.0, 266.0, 153.0, 104.0, 179.0, 378.0, 109.0, 219.0, 213.0, 211.0, 263.0, 208.0, 123.0, 164.0, 195.0, 284.0, 75.0, 162.0, 416.0, 183.0, 487.0, 95.0, 552.4360961914062, 300.06781005859375, 266.0906066894531, 211.06573486328125, 183.96231079101562, 195.06552124023438, 161.77659606933594, 161.1776123046875, 154.28549194335938, 146.54322814941406, 133.3848876953125, 115.23750305175781, 119.04558563232422, 303.34814453125, 120.15498352050781, 109.15444946289062, 103.1725082397461, 103.2596435546875, 101.82494354248047, 94.65435791015625, 88.670654296875, 89.69476318359375, 99.45055389404297, 83.20484161376953, 83.73292541503906, 77.46505737304688, 78.82674407958984, 86.42557525634766, 66.20824432373047, 81.29668426513672, 110.93192291259766, 284.5558776855469, 86.73868560791016, 190.35313415527344, 169.95872497558594, 416.3318176269531, 378.34796142578125, 978.8126220703125, 260.57440185546875, 292.0763854980469, 172.08103942871094, 203.12713623046875, 487.20977783203125, 156.23484802246094, 246.3787078857422, 170.69052124023438, 136.36715698242188, 161.92562866210938, 215.1912841796875, 282.4783020019531, 385.41925048828125, 513.298828125, 95.0577392578125, 54.61885452270508, 51.869571685791016, 46.75959396362305, 41.212337493896484, 38.23447036743164, 31.97626495361328, 27.28532600402832, 26.14464569091797, 27.249492645263672, 26.126636505126953, 24.21248435974121, 21.787330627441406, 25.943763732910156, 20.923030853271484, 24.00710105895996, 24.014394760131836, 19.422801971435547, 18.27823257446289, 18.01981544494629, 17.23869514465332, 23.131175994873047, 85.75042724609375, 16.798364639282227, 17.326942443847656, 23.24689483642578, 18.171314239501953, 18.2391357421875, 15.967145919799805, 17.251256942749023, 38.54779815673828, 60.054691314697266, 110.45662689208984, 123.60951232910156, 81.43644714355469, 31.015625, 89.87863159179688, 38.74245834350586, 56.078155517578125, 47.831600189208984, 126.43052673339844, 263.60052490234375, 219.9014129638672, 51.51824188232422, 111.15428161621094, 155.09962463378906, 68.48988342285156, 91.63262939453125, 64.61519622802734, 114.72274017333984, 137.18026733398438, 126.39813232421875, 168.87428283691406, 158.76715087890625, 59.671356201171875, 385.41925048828125, 152.452392578125, 112.37252044677734, 121.62786865234375, 103.75566864013672, 131.0870361328125, 978.8126220703125, 108.88488006591797, 94.7480697631836, 282.4783020019531, 167.17303466796875, 165.67376708984375, 141.1739501953125, 53.05997085571289, 33.94852828979492, 23.20293617248535, 28.561100006103516, 27.820106506347656, 38.046085357666016, 19.496280670166016, 19.266695022583008, 23.408382415771484, 18.001405715942383, 17.753589630126953, 20.3398380279541, 16.152055740356445, 16.807287216186523, 18.236879348754883, 19.388092041015625, 14.06869125366211, 16.70840835571289, 13.566720008850098, 22.522411346435547, 11.869203567504883, 12.139091491699219, 59.31301498413086, 10.608428955078125, 10.128528594970703, 10.895129203796387, 64.57432556152344, 11.758695602416992, 9.643939018249512, 9.932339668273926, 14.23397445678711, 180.13479614257812, 75.33041381835938, 33.83000946044922, 16.41266632080078, 18.190549850463867, 32.11133575439453, 40.48982238769531, 104.22289276123047, 243.90345764160156, 121.03056335449219, 345.41754150390625, 23.578533172607422, 109.22593688964844, 70.9155044555664, 166.5096893310547, 513.298828125, 71.63421630859375, 31.171520233154297, 153.29583740234375, 40.61430358886719, 164.00259399414062, 99.479736328125, 162.60813903808594, 46.63064956665039, 74.30572509765625, 152.3941650390625, 213.4053192138672, 179.52438354492188, 123.64779663085938, 179.08172607421875, 60.441246032714844, 208.15524291992188, 487.20977783203125, 102.61893463134766, 131.0870361328125, 128.29278564453125, 263.60052490234375, 378.34796142578125], \"loglift\": [30.0, 29.0, 28.0, 27.0, 26.0, 25.0, 24.0, 23.0, 22.0, 21.0, 20.0, 19.0, 18.0, 17.0, 16.0, 15.0, 14.0, 13.0, 12.0, 11.0, 10.0, 9.0, 8.0, 7.0, 6.0, 5.0, 4.0, 3.0, 2.0, 1.0, 0.6481000185012817, 0.6470999717712402, 0.6470000147819519, 0.6463000178337097, 0.6456999778747559, 0.6455000042915344, 0.6453999876976013, 0.6452999711036682, 0.6450999975204468, 0.6449000239372253, 0.6445000171661377, 0.64410001039505, 0.6439999938011169, 0.6438999772071838, 0.6435999870300293, 0.6432999968528748, 0.6431999802589417, 0.6431000232696533, 0.6430000066757202, 0.6428999900817871, 0.6424999833106995, 0.6421999931335449, 0.641700029373169, 0.6416000127792358, 0.640999972820282, 0.6406999826431274, 0.6406000256538391, 0.640500009059906, 0.6402000188827515, 0.6401000022888184, 0.6373000144958496, 0.6050000190734863, 0.6384000182151794, 0.6000000238418579, 0.5956000089645386, 0.531000018119812, 0.5335000157356262, 0.4424999952316284, 0.54339998960495, 0.5313000082969666, 0.5697000026702881, 0.5318999886512756, 0.36489999294281006, 0.5685999989509583, 0.48510000109672546, 0.5121999979019165, 0.5723000168800354, 0.5170000195503235, 0.41019999980926514, 0.28999999165534973, 0.0949999988079071, -0.09229999780654907, 1.1778000593185425, 1.1729999780654907, 1.1729999780654907, 1.1710000038146973, 1.1704000234603882, 1.1685999631881714, 1.1648000478744507, 1.1627999544143677, 1.1612000465393066, 1.1598999500274658, 1.159600019454956, 1.1591999530792236, 1.1571999788284302, 1.1569000482559204, 1.1543999910354614, 1.154099941253662, 1.152899980545044, 1.1526999473571777, 1.1512999534606934, 1.148900032043457, 1.1485999822616577, 1.148300051689148, 1.1480000019073486, 1.1476999521255493, 1.1476000547409058, 1.1468000411987305, 1.1464999914169312, 1.1461000442504883, 1.1454999446868896, 1.1452000141143799, 1.13510000705719, 1.1253999471664429, 1.111299991607666, 1.1069999933242798, 1.0990999937057495, 1.1288000345230103, 1.0815000534057617, 1.11080002784729, 1.0812000036239624, 1.0801000595092773, 0.9739000201225281, 0.8485999703407288, 0.8669999837875366, 1.0470999479293823, 0.9243999719619751, 0.8424999713897705, 0.9779999852180481, 0.9222999811172485, 0.9861000180244446, 0.8686000108718872, 0.8294000029563904, 0.8302000164985657, 0.746999979019165, 0.6559000015258789, 0.9599000215530396, 0.25369998812675476, 0.5968999862670898, 0.7174000144004822, 0.6715999841690063, 0.7069000005722046, 0.5702000260353088, -0.6065000295639038, 0.6556000113487244, 0.7336999773979187, -0.01759999990463257, 0.2870999872684479, 0.15379999577999115, 0.2849999964237213, 1.7491999864578247, 1.7426999807357788, 1.7337000370025635, 1.7329000234603882, 1.7324999570846558, 1.7289999723434448, 1.7272000312805176, 1.7269999980926514, 1.7265000343322754, 1.7249000072479248, 1.7244000434875488, 1.7229000329971313, 1.7210999727249146, 1.7210999727249146, 1.7201999425888062, 1.718400001525879, 1.7156000137329102, 1.7141000032424927, 1.7121000289916992, 1.7075999975204468, 1.7066999673843384, 1.701300024986267, 1.6993999481201172, 1.6984000205993652, 1.6966999769210815, 1.695199966430664, 1.6950000524520874, 1.6949000358581543, 1.6938999891281128, 1.69350004196167, 1.6931999921798706, 1.6674000024795532, 1.6546000242233276, 1.6679999828338623, 1.686900019645691, 1.6828999519348145, 1.6612000465393066, 1.6461000442504883, 1.5978000164031982, 1.533400058746338, 1.534500002861023, 1.4355000257492065, 1.6610000133514404, 1.4682999849319458, 1.4891999959945679, 1.3421000242233276, 1.0090999603271484, 1.4147000312805176, 1.5907000303268433, 1.1890000104904175, 1.51010000705719, 1.0825999975204468, 1.2333999872207642, 1.0490000247955322, 1.454300045967102, 1.2937999963760376, 1.034999966621399, 0.8998000025749207, 0.9273999929428101, 1.0455000400543213, 0.8658000230789185, 1.330299973487854, 0.6134999990463257, 0.06379999965429306, 0.8867999911308289, 0.6179999709129333, 0.6215999722480774, -0.1005999967455864, -0.460999995470047], \"logprob\": [30.0, 29.0, 28.0, 27.0, 26.0, 25.0, 24.0, 23.0, 22.0, 21.0, 20.0, 19.0, 18.0, 17.0, 16.0, 15.0, 14.0, 13.0, 12.0, 11.0, 10.0, 9.0, 8.0, 7.0, 6.0, 5.0, 4.0, 3.0, 2.0, 1.0, -4.370999813079834, -4.9822998046875, -5.102700233459473, -5.335000038146973, -5.4730000495910645, -5.414599895477295, -5.601900100708008, -5.605599880218506, -5.649600028991699, -5.701300144195557, -5.79580020904541, -5.942299842834473, -5.909999847412109, -4.974699974060059, -5.901100158691406, -5.997499942779541, -6.053899765014648, -6.053100109100342, -6.067299842834473, -6.140399932861328, -6.206099987030029, -6.194900035858154, -6.092100143432617, -6.270599842071533, -6.264800071716309, -6.3429999351501465, -6.3256001472473145, -6.233699798583984, -6.500500202178955, -6.295199871063232, -5.987299919128418, -5.077600002288818, -6.2322001457214355, -5.484600067138672, -5.60230016708374, -4.770999908447266, -4.864200115203857, -4.0046000480651855, -5.227200031280518, -5.125199794769287, -5.615900039672852, -5.48769998550415, -4.779900074005127, -5.713500022888184, -5.3414998054504395, -5.681399822235107, -5.845799922943115, -5.729400157928467, -5.551700115203857, -5.399899959564209, -5.28410005569458, -5.184999942779541, -5.601200103759766, -6.160099983215332, -6.2118000984191895, -6.317399978637695, -6.444300174713135, -6.521100044250488, -6.703700065612793, -6.864299774169922, -6.908699989318848, -6.868500232696533, -6.910900115966797, -6.987400054931641, -7.09499979019165, -6.920599937438965, -7.138199806213379, -7.001100063323975, -7.001999855041504, -7.214399814605713, -7.276500225067139, -7.293099880218506, -7.337699890136719, -7.044000148773193, -5.734000205993652, -7.364500045776367, -7.333600044250488, -7.040500164031982, -7.287099838256836, -7.28380012512207, -7.417399883270264, -7.340400218963623, -6.546500205993652, -6.112800121307373, -5.517499923706055, -5.40939998626709, -5.83459997177124, -6.770199775695801, -5.753499984741211, -6.565700054168701, -6.225599765777588, -6.385700225830078, -5.519899845123291, -4.9105000495910645, -5.073299884796143, -6.3445000648498535, -5.6981000900268555, -5.446899890899658, -6.128699779510498, -5.893400192260742, -6.178899765014648, -5.722300052642822, -5.582799911499023, -5.66379976272583, -5.457399845123291, -5.610199928283691, -6.2846999168396, -5.125400066375732, -5.709700107574463, -5.894199848175049, -5.860899925231934, -5.984600067138672, -5.887400150299072, -5.053599834442139, -5.987599849700928, -6.048600196838379, -5.707499980926514, -5.927299976348877, -6.0696001052856445, -6.098499774932861, -5.612800121307373, -6.065899848937988, -6.45550012588501, -6.248499870300293, -6.275300025939941, -5.965700149536133, -6.636000156402588, -6.648099899291992, -6.45389986038208, -6.718100070953369, -6.732500076293945, -6.5980000495910645, -6.8302998542785645, -6.790599822998047, -6.70989990234375, -6.650400161743164, -6.973899841308594, -6.803500175476074, -7.013800144195557, -6.51140022277832, -7.1528000831604, -7.135799884796143, -5.551300048828125, -7.273399829864502, -7.321400165557861, -7.25, -5.470699787139893, -7.173900127410889, -7.373199939727783, -7.344200134277344, -6.9847002029418945, -4.472300052642822, -5.35699987411499, -6.144100189208984, -6.848499774932861, -6.74970006942749, -6.203000068664551, -5.986299991607666, -5.089099884033203, -4.303299903869629, -5.002900123596191, -4.053199768066406, -6.512199878692627, -5.171800136566162, -5.582799911499023, -4.876399993896484, -4.083499908447266, -5.647200107574463, -6.303299903869629, -5.112100124359131, -6.11929988861084, -5.151000022888184, -5.500100135803223, -5.1930999755859375, -6.036900043487549, -5.731400012969971, -5.27209997177124, -5.070499897003174, -5.215799808502197, -5.4704999923706055, -5.279799938201904, -5.901599884033203, -5.381700038909912, -5.080999851226807, -5.815700054168701, -5.839600086212158, -5.857600212097168, -5.8597002029418945, -5.858699798583984]}, \"token.table\": {\"Topic\": [1, 2, 1, 3, 1, 2, 3, 3, 2, 1, 3, 1, 1, 1, 2, 3, 1, 2, 2, 3, 3, 1, 1, 3, 2, 1, 3, 2, 3, 2, 1, 1, 2, 3, 2, 1, 2, 3, 1, 2, 3, 3, 1, 2, 1, 2, 3, 1, 2, 1, 2, 3, 2, 1, 2, 3, 2, 1, 3, 1, 2, 1, 2, 1, 2, 3, 1, 2, 3, 1, 2, 1, 2, 3, 1, 3, 1, 2, 3, 1, 3, 1, 2, 1, 3, 1, 3, 1, 2, 1, 1, 1, 1, 3, 1, 2, 1, 3, 1, 1, 1, 3, 1, 2, 3, 1, 2, 1, 2, 3, 1, 2, 3, 2, 1, 3, 1, 2, 3, 1, 2, 1, 2, 1, 2, 3, 2, 3, 1, 3, 1, 1, 2, 3, 2, 2, 1, 2, 1, 2, 3, 3, 1, 3, 1, 2, 3, 3, 1, 2, 1, 1, 3, 1, 2, 3, 3, 1, 2, 1, 2, 3, 1, 3, 3, 1, 3, 1, 3, 2, 1, 2, 3, 1, 1, 2, 3, 2, 1, 2, 1, 2, 3, 2, 3, 2, 3, 1, 1, 2, 1, 2, 1, 1, 2, 1, 2, 3, 1, 3, 3, 2, 1, 1, 2, 2, 3, 1, 2, 3, 2, 2, 2, 2, 3, 1, 2, 1, 2, 2, 1, 2, 3, 3, 3, 1, 2, 1, 3, 1, 2, 1, 3, 1, 2, 3, 3, 1, 2, 3, 1, 2, 3, 1, 2, 3, 3, 3, 1, 2, 3, 3, 1, 1, 2, 2, 1, 3, 2, 1, 2, 1, 1, 2, 1, 3, 1, 2, 1, 3, 2, 1, 2, 1, 2, 3, 3, 3, 1, 2, 3, 1, 2, 3, 1, 2, 3, 1, 2, 1, 3, 1, 2, 2, 3, 1, 3, 1, 2, 3, 1, 2, 3, 2, 1, 1, 1, 2, 3, 1, 2, 3, 2, 1, 2], \"Freq\": [0.07367708534002304, 0.9209635853767395, 0.6781363487243652, 0.3195814788341522, 0.08362672477960587, 0.8989872932434082, 0.9061633944511414, 0.9178413152694702, 0.9861535429954529, 0.40209195017814636, 0.5930855870246887, 0.9979389905929565, 0.9974855184555054, 0.23160375654697418, 0.046320751309394836, 0.7208666801452637, 0.05188363790512085, 0.9598472714424133, 0.07025444507598877, 0.913307785987854, 0.9354779124259949, 0.9988980293273926, 0.9945376515388489, 0.982554018497467, 0.9580498933792114, 0.6821831464767456, 0.3170710504055023, 0.873477041721344, 0.11646360158920288, 0.939428985118866, 0.9954695701599121, 0.7853478193283081, 0.20911628007888794, 0.9576016664505005, 0.9912241697311401, 0.9968547224998474, 0.9694690704345703, 0.9582272171974182, 0.3320867121219635, 0.17834284901618958, 0.49198028445243835, 0.8885791897773743, 0.9239761233329773, 0.07333143800497055, 0.3800468146800995, 0.20464059710502625, 0.4190259873867035, 0.08916127681732178, 0.90944504737854, 0.8132302165031433, 0.16652829945087433, 0.02043291926383972, 0.9568778872489929, 0.2008991539478302, 0.004099982790648937, 0.7953966856002808, 0.9558844566345215, 0.363363653421402, 0.63252192735672, 0.9949507117271423, 0.9524736404418945, 0.07280992716550827, 0.9222590923309326, 0.9975380897521973, 0.04440021887421608, 0.9324045777320862, 0.8910675644874573, 0.06892235577106476, 0.03938420116901398, 0.0322418138384819, 0.9350125789642334, 0.5734015703201294, 0.394375741481781, 0.03113492578268051, 0.9930868744850159, 0.9799829721450806, 0.7532689571380615, 0.06362762302160263, 0.18267285823822021, 0.026283912360668182, 0.9725047945976257, 0.9239832758903503, 0.07554580271244049, 0.3474448621273041, 0.6452547311782837, 0.9216893911361694, 0.07680744677782059, 0.27284952998161316, 0.7275987863540649, 0.9971144795417786, 0.9963505864143372, 0.9950758218765259, 0.8907144665718079, 0.10836585611104965, 0.4028681814670563, 0.6001914143562317, 0.8901780843734741, 0.10956037789583206, 0.9962930679321289, 0.9912169575691223, 0.898016095161438, 0.09977956116199493, 0.22560618817806244, 0.26828843355178833, 0.5060895681381226, 0.8887141942977905, 0.11048879474401474, 0.043231695890426636, 0.9510973691940308, 0.99058598279953, 0.1501414179801941, 0.19218100607395172, 0.6546165347099304, 0.9948477149009705, 0.050579119473695755, 0.944143533706665, 0.1964365690946579, 0.7639200091362, 0.03273943066596985, 0.9947689771652222, 0.957758903503418, 0.07242661714553833, 0.932492733001709, 0.17156098783016205, 0.10722561180591583, 0.7291341423988342, 0.060928553342819214, 0.9139282703399658, 0.093424953520298, 0.9031078815460205, 0.9895119071006775, 0.5734160542488098, 0.35612156987190247, 0.06639554351568222, 0.9811309576034546, 0.9888726472854614, 0.9955557584762573, 0.0032965424470603466, 0.2507120966911316, 0.25879958271980286, 0.48524925112724304, 0.974544882774353, 0.08867866545915604, 0.9163461923599243, 0.5383643507957458, 0.4067641794681549, 0.053836435079574585, 0.9426466226577759, 0.9922541379928589, 0.985435426235199, 0.998585045337677, 0.9964414238929749, 0.9832919836044312, 0.37413084506988525, 0.21777766942977905, 0.4076351225376129, 0.970521092414856, 0.6973987221717834, 0.30090805888175964, 0.05309940129518509, 0.05309940129518509, 0.9026898741722107, 0.9558755159378052, 0.04217097908258438, 0.980354368686676, 0.2931559979915619, 0.7119503021240234, 0.4305400550365448, 0.5610067248344421, 0.9944674968719482, 0.2927258312702179, 0.7041243314743042, 0.007911508902907372, 0.9992105960845947, 0.1289830505847931, 0.7132003903388977, 0.1555383801460266, 0.9832354187965393, 0.18980905413627625, 0.8176389932632446, 0.8769457936286926, 0.02470269799232483, 0.09881079196929932, 0.9292131066322327, 0.05162294954061508, 0.9463629722595215, 0.043016497045755386, 0.9924365878105164, 0.9903875589370728, 0.9868888854980469, 0.950864315032959, 0.04728054627776146, 0.9983279705047607, 0.10013503581285477, 0.9012153148651123, 0.19697493314743042, 0.024621866643428802, 0.7878997325897217, 0.23972190916538239, 0.7614696025848389, 0.9720597863197327, 0.9847779273986816, 0.998149573802948, 0.2988767921924591, 0.6998091340065002, 0.9636226892471313, 0.944370687007904, 0.02332349866628647, 0.9679251909255981, 0.011661749333143234, 0.9938675761222839, 0.9886695742607117, 0.9638628959655762, 0.9491348266601562, 0.04995446652173996, 0.17023858428001404, 0.8202404975891113, 0.29013609886169434, 0.709221601486206, 0.9895429015159607, 0.4773048162460327, 0.05260093882679939, 0.4714602530002594, 0.9240376353263855, 0.9575528502464294, 0.2249126136302948, 0.7736994028091431, 0.06194412335753441, 0.9291618466377258, 0.35884636640548706, 0.6332582831382751, 0.19829702377319336, 0.7931880950927734, 0.14392231404781342, 0.009594821371138096, 0.8443442583084106, 0.9519680142402649, 0.30307239294052124, 0.5877767205238342, 0.10102412849664688, 0.20048335194587708, 0.7322000861167908, 0.06973334401845932, 0.9915991425514221, 0.009014537557959557, 0.9861577153205872, 0.9267681837081909, 0.9912538528442383, 0.03208056464791298, 0.12832225859165192, 0.8340947031974792, 0.933228611946106, 0.9918984174728394, 0.5879271626472473, 0.4037572145462036, 0.9908441305160522, 0.9912468791007996, 0.9061309099197388, 0.97823166847229, 0.8729248642921448, 0.12888823449611664, 0.9951995611190796, 0.9472888112068176, 0.05295403301715851, 0.0987902581691742, 0.8891122937202454, 0.355293869972229, 0.6454505324363708, 0.0888223722577095, 0.9104292988777161, 0.9434058666229248, 0.40940457582473755, 0.5920619964599609, 0.34778234362602234, 0.1706102043390274, 0.4855828881263733, 0.9321770071983337, 0.9800231456756592, 0.1675845980644226, 0.8044060468673706, 0.03351691737771034, 0.20141735672950745, 0.05493200942873955, 0.7415820956230164, 0.8482875823974609, 0.09335222095251083, 0.05682309344410896, 0.9914838075637817, 0.011528881266713142, 0.5625976920127869, 0.4344813823699951, 0.1898275762796402, 0.8067671656608582, 0.08482291549444199, 0.8906406164169312, 0.05497359856963158, 0.9345511794090271, 0.49202147126197815, 0.08434654027223587, 0.42173269391059875, 0.14238356053829193, 0.6229280829429626, 0.23137329518795013, 0.983755350112915, 0.9939965605735779, 0.9996594786643982, 0.1373133510351181, 0.541624903678894, 0.32039782404899597, 0.34696900844573975, 0.6168337464332581, 0.03855210915207863, 0.935540497303009, 0.44604089856147766, 0.5575510859489441], \"Term\": [\"accord\", \"accord\", \"add\", \"add\", \"ai\", \"ai\", \"alarm\", \"album\", \"allege\", \"allow\", \"allow\", \"also\", \"aperture\", \"app\", \"app\", \"app\", \"apparently\", \"apparently\", \"application\", \"application\", \"automate\", \"available\", \"back\", \"bar\", \"basically\", \"battery\", \"battery\", \"be\", \"be\", \"beer\", \"bezel\", \"big\", \"big\", \"block\", \"bloomberg\", \"boast\", \"bug\", \"bumper\", \"button\", \"button\", \"button\", \"button_cover\", \"buy\", \"buy\", \"call\", \"call\", \"call\", \"cam\", \"cam\", \"camera\", \"camera\", \"camera\", \"car\", \"case\", \"case\", \"case\", \"cause\", \"choose\", \"choose\", \"come\", \"comment\", \"could\", \"could\", \"deal\", \"default\", \"default\", \"design\", \"design\", \"design\", \"development\", \"development\", \"device\", \"device\", \"device\", \"difference\", \"disable\", \"display\", \"display\", \"display\", \"disturb\", \"disturb\", \"dual\", \"dual\", \"easy\", \"easy\", \"edge\", \"edge\", \"even\", \"even\", \"expect\", \"expensive\", \"extra\", \"feature\", \"feature\", \"feel\", \"feel\", \"find\", \"find\", \"flagship\", \"gb\", \"get\", \"get\", \"go\", \"go\", \"go\", \"good\", \"good\", \"have\", \"have\", \"headset\", \"home\", \"home\", \"home\", \"hydrogen\", \"icon\", \"icon\", \"image\", \"image\", \"image\", \"inch\", \"iso\", \"issue\", \"issue\", \"keyboard\", \"keyboard\", \"keyboard\", \"keyssa\", \"keyssa\", \"laptop\", \"laptop\", \"late\", \"launch\", \"launch\", \"launch\", \"lawsuit\", \"leak\", \"lens\", \"lens\", \"light\", \"light\", \"light\", \"location\", \"lock\", \"lock\", \"look\", \"look\", \"look\", \"luckily\", \"mah_battery\", \"makes_sense\", \"mean\", \"megapixel\", \"microsoft\", \"mode\", \"mode\", \"mode\", \"mouse\", \"new\", \"new\", \"notification\", \"notification\", \"notification\", \"offer\", \"offer\", \"office\", \"open\", \"open\", \"option\", \"option\", \"patent\", \"people\", \"people\", \"people\", \"phone\", \"photo\", \"photo\", \"photo\", \"pic\", \"picture\", \"picture\", \"play\", \"play\", \"play\", \"post\", \"post\", \"potential\", \"potential\", \"powerful\", \"premium\", \"previously\", \"price\", \"price\", \"processor\", \"product\", \"product\", \"protect\", \"protect\", \"protect\", \"protection\", \"protection\", \"protector\", \"quarter\", \"ram\", \"really\", \"really\", \"render\", \"repair\", \"report\", \"report\", \"report\", \"reportedly\", \"rumor\", \"rzr\", \"s\", \"s\", \"sale\", \"sale\", \"say\", \"say\", \"scooter\", \"screen\", \"screen\", \"screen\", \"screenshot\", \"scroll\", \"seem\", \"seem\", \"select\", \"select\", \"sell\", \"sell\", \"set\", \"set\", \"setting\", \"setting\", \"setting\", \"settings_gt\", \"shoot\", \"shoot\", \"shoot\", \"show\", \"show\", \"show\", \"similar\", \"similar\", \"siri\", \"skype\", \"sleep\", \"slider\", \"slider\", \"slider\", \"slider_next\", \"slightly\", \"software\", \"software\", \"source\", \"spec\", \"spigen\", \"statement\", \"still\", \"still\", \"storage\", \"support\", \"support\", \"swipe\", \"swipe\", \"take\", \"take\", \"tap\", \"tap\", \"there\", \"thing\", \"thing\", \"time\", \"time\", \"time\", \"timer\", \"toggle\", \"try\", \"try\", \"try\", \"turn\", \"turn\", \"turn\", \"update\", \"update\", \"update\", \"upgrade\", \"upgrade\", \"use\", \"use\", \"user\", \"user\", \"wake\", \"wake\", \"wallpaper\", \"wallpaper\", \"want\", \"want\", \"want\", \"way\", \"way\", \"way\", \"week\", \"well\", \"winner\", \"work\", \"work\", \"work\", \"would\", \"would\", \"would\", \"xa\", \"year\", \"year\"]}, \"R\": 30, \"lambda.step\": 0.01, \"plot.opts\": {\"xlab\": \"PC1\", \"ylab\": \"PC2\"}, \"topic.order\": [1, 3, 2]};\n",
       "\n",
       "function LDAvis_load_lib(url, callback){\n",
       "  var s = document.createElement('script');\n",
       "  s.src = url;\n",
       "  s.async = true;\n",
       "  s.onreadystatechange = s.onload = callback;\n",
       "  s.onerror = function(){console.warn(\"failed to load library \" + url);};\n",
       "  document.getElementsByTagName(\"head\")[0].appendChild(s);\n",
       "}\n",
       "\n",
       "if(typeof(LDAvis) !== \"undefined\"){\n",
       "   // already loaded: just create the visualization\n",
       "   !function(LDAvis){\n",
       "       new LDAvis(\"#\" + \"ldavis_el5784149813763686325629695\", ldavis_el5784149813763686325629695_data);\n",
       "   }(LDAvis);\n",
       "}else if(typeof define === \"function\" && define.amd){\n",
       "   // require.js is available: use it to load d3/LDAvis\n",
       "   require.config({paths: {d3: \"https://cdnjs.cloudflare.com/ajax/libs/d3/3.5.5/d3.min\"}});\n",
       "   require([\"d3\"], function(d3){\n",
       "      window.d3 = d3;\n",
       "      LDAvis_load_lib(\"https://cdn.rawgit.com/bmabey/pyLDAvis/files/ldavis.v1.0.0.js\", function(){\n",
       "        new LDAvis(\"#\" + \"ldavis_el5784149813763686325629695\", ldavis_el5784149813763686325629695_data);\n",
       "      });\n",
       "    });\n",
       "}else{\n",
       "    // require.js not available: dynamically load d3 & LDAvis\n",
       "    LDAvis_load_lib(\"https://cdnjs.cloudflare.com/ajax/libs/d3/3.5.5/d3.min.js\", function(){\n",
       "         LDAvis_load_lib(\"https://cdn.rawgit.com/bmabey/pyLDAvis/files/ldavis.v1.0.0.js\", function(){\n",
       "                 new LDAvis(\"#\" + \"ldavis_el5784149813763686325629695\", ldavis_el5784149813763686325629695_data);\n",
       "            })\n",
       "         });\n",
       "}\n",
       "</script>"
      ],
      "text/plain": [
       "PreparedData(topic_coordinates=              x         y  topics  cluster       Freq\n",
       "topic                                                \n",
       "0     -0.073660  0.151508       1        1  52.247585\n",
       "2     -0.120846 -0.128838       2        1  30.573595\n",
       "1      0.194506 -0.022670       3        1  17.178818, topic_info=     Category        Freq          Term       Total  loglift  logprob\n",
       "term                                                                 \n",
       "9     Default  345.000000           app  345.000000  30.0000  30.0000\n",
       "102   Default  513.000000        screen  513.000000  29.0000  29.0000\n",
       "86    Default  552.000000         phone  552.000000  28.0000  28.0000\n",
       "145   Default  243.000000          case  243.000000  27.0000  27.0000\n",
       "658   Default  180.000000           tap  180.000000  26.0000  26.0000\n",
       "568   Default  300.000000     megapixel  300.000000  25.0000  25.0000\n",
       "337   Default  303.000000          lens  303.000000  24.0000  24.0000\n",
       "193   Default  121.000000           set  121.000000  23.0000  23.0000\n",
       "59    Default  166.000000          home  166.000000  22.0000  22.0000\n",
       "675   Default  266.000000        winner  266.000000  21.0000  21.0000\n",
       "362   Default  153.000000        option  153.000000  20.0000  20.0000\n",
       "981   Default  104.000000       setting  104.000000  19.0000  19.0000\n",
       "464   Default  179.000000           use  179.000000  18.0000  18.0000\n",
       "158   Default  378.000000       feature  378.000000  17.0000  17.0000\n",
       "127   Default  109.000000          turn  109.000000  16.0000  16.0000\n",
       "43    Default  219.000000          even  219.000000  15.0000  15.0000\n",
       "469   Default  213.000000          want  213.000000  14.0000  14.0000\n",
       "25    Default  211.000000          come  211.000000  13.0000  13.0000\n",
       "581   Default  263.000000         photo  263.000000  12.0000  12.0000\n",
       "488   Default  208.000000       battery  208.000000  11.0000  11.0000\n",
       "253   Default  123.000000         could  123.000000  10.0000  10.0000\n",
       "308   Default  164.000000            go  164.000000   9.0000   9.0000\n",
       "223   Default  195.000000          back  195.000000   8.0000   8.0000\n",
       "84    Default  284.000000         offer  284.000000   7.0000   7.0000\n",
       "949   Default   75.000000  notification   75.000000   6.0000   6.0000\n",
       "238   Default  162.000000        button  162.000000   5.0000   5.0000\n",
       "309   Default  416.000000          good  416.000000   4.0000   4.0000\n",
       "326   Default  183.000000          inch  183.000000   3.0000   3.0000\n",
       "36    Default  487.000000       display  487.000000   2.0000   2.0000\n",
       "67    Default   95.000000          leak   95.000000   1.0000   1.0000\n",
       "...       ...         ...           ...         ...      ...      ...\n",
       "145    Topic3  194.158920          case  243.903458   1.5334  -4.3033\n",
       "193    Topic3   96.453339           set  121.030563   1.5345  -5.0029\n",
       "9      Topic3  249.321472           app  345.417542   1.4355  -4.0532\n",
       "1227   Topic3   21.323788          wake   23.578533   1.6610  -6.5122\n",
       "127    Topic3   81.465889          turn  109.225937   1.4683  -5.1718\n",
       "388    Topic3   54.012352    protection   70.915504   1.4892  -5.5828\n",
       "59     Topic3  109.466728          home  166.509689   1.3421  -4.8764\n",
       "102    Topic3  241.881485        screen  513.298828   1.0091  -4.0835\n",
       "575    Topic3   50.640160          open   71.634216   1.4147  -5.6472\n",
       "989    Topic3   26.277370        slider   31.171520   1.5907  -6.3033\n",
       "362    Topic3   86.477066        option  153.295837   1.1890  -5.1121\n",
       "387    Topic3   31.585155       protect   40.614304   1.5101  -6.1193\n",
       "308    Topic3   83.178963            go  164.002594   1.0826  -5.1510\n",
       "480    Topic3   58.666977         allow   99.479736   1.2334  -5.5001\n",
       "238    Topic3   79.746689        button  162.608139   1.0490  -5.1931\n",
       "3218   Topic3   34.296307      keyboard   46.630650   1.4543  -6.0369\n",
       "505    Topic3   46.550537        choose   74.305725   1.2938  -5.7314\n",
       "199    Topic3   73.694450          time  152.394165   1.0350  -5.2721\n",
       "469    Topic3   90.147858          want  213.405319   0.8998  -5.0705\n",
       "464    Topic3   77.960960           use  179.524384   0.9274  -5.2158\n",
       "338    Topic3   60.427357         light  123.647797   1.0455  -5.4705\n",
       "763    Topic3   73.125244          mode  179.081726   0.8658  -5.2798\n",
       "267    Topic3   39.268867          easy   60.441246   1.3303  -5.9016\n",
       "488    Topic3   66.044456       battery  208.155243   0.6135  -5.3817\n",
       "36     Topic3   89.209457       display  487.209778   0.0638  -5.0810\n",
       "16     Topic3   42.789299          call  102.618935   0.8868  -5.8157\n",
       "476    Topic3   41.778484          work  131.087036   0.6180  -5.8396\n",
       "137    Topic3   41.033886           add  128.292786   0.6216  -5.8576\n",
       "581    Topic3   40.947937         photo  263.600525  -0.1006  -5.8597\n",
       "158    Topic3   40.988155       feature  378.347961  -0.4610  -5.8587\n",
       "\n",
       "[219 rows x 6 columns], token_table=      Topic      Freq         Term\n",
       "term                              \n",
       "847       1  0.073677       accord\n",
       "847       2  0.920964       accord\n",
       "137       1  0.678136          add\n",
       "137       3  0.319581          add\n",
       "1529      1  0.083627           ai\n",
       "1529      2  0.898987           ai\n",
       "853       3  0.906163        alarm\n",
       "854       3  0.917841        album\n",
       "1769      2  0.986154       allege\n",
       "480       1  0.402092        allow\n",
       "480       3  0.593086        allow\n",
       "4         1  0.997939         also\n",
       "1022      1  0.997486     aperture\n",
       "9         1  0.231604          app\n",
       "9         2  0.046321          app\n",
       "9         3  0.720867          app\n",
       "1463      1  0.051884   apparently\n",
       "1463      2  0.959847   apparently\n",
       "3233      2  0.070254  application\n",
       "3233      3  0.913308  application\n",
       "3285      3  0.935478     automate\n",
       "139       1  0.998898    available\n",
       "223       1  0.994538         back\n",
       "865       3  0.982554          bar\n",
       "1030      2  0.958050    basically\n",
       "488       1  0.682183      battery\n",
       "488       3  0.317071      battery\n",
       "3955      2  0.873477           be\n",
       "3955      3  0.116464           be\n",
       "4690      2  0.939429         beer\n",
       "...     ...       ...          ...\n",
       "205       2  0.093352       update\n",
       "205       3  0.056823       update\n",
       "667       1  0.991484      upgrade\n",
       "667       2  0.011529      upgrade\n",
       "464       1  0.562598          use\n",
       "464       3  0.434481          use\n",
       "1159      1  0.189828         user\n",
       "1159      2  0.806767         user\n",
       "1227      2  0.084823         wake\n",
       "1227      3  0.890641         wake\n",
       "1014      1  0.054974    wallpaper\n",
       "1014      3  0.934551    wallpaper\n",
       "469       1  0.492021         want\n",
       "469       2  0.084347         want\n",
       "469       3  0.421733         want\n",
       "471       1  0.142384          way\n",
       "471       2  0.622928          way\n",
       "471       3  0.231373          way\n",
       "1340      2  0.983755         week\n",
       "473       1  0.993997         well\n",
       "675       1  0.999659       winner\n",
       "476       1  0.137313         work\n",
       "476       2  0.541625         work\n",
       "476       3  0.320398         work\n",
       "212       1  0.346969        would\n",
       "212       2  0.616834        would\n",
       "212       3  0.038552        would\n",
       "7721      2  0.935540           xa\n",
       "677       1  0.446041         year\n",
       "677       2  0.557551         year\n",
       "\n",
       "[315 rows x 3 columns], R=30, lambda_step=0.01, plot_opts={'xlab': 'PC1', 'ylab': 'PC2'}, topic_order=[1, 3, 2])"
      ]
     },
     "execution_count": 28,
     "metadata": {},
     "output_type": "execute_result"
    }
   ],
   "source": [
    "# Visualize the topics\n",
    "pyLDAvis.enable_notebook()\n",
    "vis = pyLDAvis.gensim.prepare(lda, corpus, id2word)\n",
    "vis"
   ]
  },
  {
   "cell_type": "code",
   "execution_count": 29,
   "metadata": {},
   "outputs": [],
   "source": [
    "# Mallet LDA\n",
    "\n",
    "mallet_path = '/Users/ayankarim/mallet-2.0.8/bin/mallet'\n",
    "\n",
    "ldamallet = gensim.models.wrappers.LdaMallet(mallet_path, corpus=corpus, num_topics=3, id2word=id2word, iterations=1000, random_seed=100 )"
   ]
  },
  {
   "cell_type": "markdown",
   "metadata": {},
   "source": [
    "1. topic 0\n",
    "    - device, photo, year, issue, big, people, buy, price, user, mobile\n",
    "    \n",
    "    reliability\n",
    "    \n",
    "2. topic 1\n",
    "    - camera, feature, lens, megapixel, display, update, design, play\n",
    "    \n",
    "    design\n",
    "    \n",
    "3. topic 2\n",
    "    - screen, app, case, mode, tap, button, display, option, home, time, battery, setting, light\n",
    "    \n",
    "    functionality"
   ]
  },
  {
   "cell_type": "code",
   "execution_count": 30,
   "metadata": {
    "scrolled": false
   },
   "outputs": [
    {
     "name": "stdout",
     "output_type": "stream",
     "text": [
      "[(0,\n",
      "  [('device', 0.012748117727583847),\n",
      "   ('photo', 0.010438056125941135),\n",
      "   ('thing', 0.007486310746064339),\n",
      "   ('year', 0.006930184804928132),\n",
      "   ('good', 0.006160164271047228),\n",
      "   ('issue', 0.00607460643394935),\n",
      "   ('big', 0.006031827515400411),\n",
      "   ('people', 0.005946269678302533),\n",
      "   ('buy', 0.005775154004106776),\n",
      "   ('feel', 0.005775154004106776),\n",
      "   ('price', 0.0053901437371663245),\n",
      "   ('user', 0.0053901437371663245),\n",
      "   ('mobile', 0.005176249144421629),\n",
      "   ('rear', 0.005047912388774812),\n",
      "   ('handset', 0.004791238877481177)]),\n",
      " (1,\n",
      "  [('camera', 0.036118409528814156),\n",
      "   ('phone', 0.02161499386932913),\n",
      "   ('feature', 0.012401471361008934),\n",
      "   ('lens', 0.011770888071466106),\n",
      "   ('good', 0.010965142757050272),\n",
      "   ('megapixel', 0.010895077947101069),\n",
      "   ('display', 0.010825013137151866),\n",
      "   ('offer', 0.010509721492380452),\n",
      "   ('find', 0.010404624277456647),\n",
      "   ('winner', 0.009143457698370994),\n",
      "   ('update', 0.008302679978980557),\n",
      "   ('back', 0.007286740234717114),\n",
      "   ('inch', 0.007251707829742512),\n",
      "   ('design', 0.0071466106148187075),\n",
      "   ('play', 0.006936416184971098)]),\n",
      " (2,\n",
      "  [('screen', 0.03026481715006305),\n",
      "   ('app', 0.02041006959039746),\n",
      "   ('case', 0.0129372752323572),\n",
      "   ('mode', 0.010695436924945121),\n",
      "   ('tap', 0.0100415674186166),\n",
      "   ('button', 0.009527812806501331),\n",
      "   ('display', 0.00864041847648405),\n",
      "   ('option', 0.008266778758582038),\n",
      "   ('home', 0.0076596142169912665),\n",
      "   ('time', 0.00719256456961375),\n",
      "   ('set', 0.006678809957498482),\n",
      "   ('battery', 0.00663210499276073),\n",
      "   ('turn', 0.0062117603101209656),\n",
      "   ('setting', 0.005791415627481201),\n",
      "   ('light', 0.005651300733267946)])]\n",
      "\n",
      "Coherence Score:  0.38167892095428274\n"
     ]
    }
   ],
   "source": [
    "# Show topics\n",
    "pprint(ldamallet.show_topics(num_words=15, formatted=False))\n",
    "\n",
    "# Compute Coherence Score\n",
    "coherence_model_ldamallet = CoherenceModel(model=ldamallet, texts=data_lemmatized, dictionary=id2word, coherence='c_v')\n",
    "coherence_ldamallet = coherence_model_ldamallet.get_coherence()\n",
    "print('\\nCoherence Score: ', coherence_ldamallet)"
   ]
  },
  {
   "cell_type": "code",
   "execution_count": 31,
   "metadata": {},
   "outputs": [
    {
     "name": "stdout",
     "output_type": "stream",
     "text": [
      "0.3333333332180924\n"
     ]
    }
   ],
   "source": [
    "# Assigns the topics to the documents in corpus\n",
    "lda_corpus = lda[corpus]\n",
    "\n",
    "# Find the threshold, let's set the threshold to be 1/#clusters,\n",
    "# To prove that the threshold is sane, we average the sum of all probabilities:\n",
    "scores = list(chain(*[[score for topic_id,score in topic] \\\n",
    "                      for topic in [doc for doc in lda_corpus]]))\n",
    "threshold = sum(scores)/len(scores)\n",
    "print (threshold)\n",
    "\n",
    "reliability = [j for i,j in zip(lda_corpus,data) if i[0][1] > threshold]\n",
    "functionality = [j for i,j in zip(lda_corpus,data) if i[1][1] > threshold]\n",
    "design = [j for i,j in zip(lda_corpus,data) if i[2][1] > threshold]"
   ]
  },
  {
   "cell_type": "code",
   "execution_count": 32,
   "metadata": {},
   "outputs": [],
   "source": [
    "# Create dataframe of document groups for topics\n",
    "topics_df = pd.DataFrame(reliability, columns=['reliability'])\n",
    "topics_df['functionality'] = pd.DataFrame(functionality)\n",
    "topics_df['design'] = pd.DataFrame(design)"
   ]
  },
  {
   "cell_type": "code",
   "execution_count": 33,
   "metadata": {},
   "outputs": [
    {
     "data": {
      "text/html": [
       "<div>\n",
       "<style scoped>\n",
       "    .dataframe tbody tr th:only-of-type {\n",
       "        vertical-align: middle;\n",
       "    }\n",
       "\n",
       "    .dataframe tbody tr th {\n",
       "        vertical-align: top;\n",
       "    }\n",
       "\n",
       "    .dataframe thead th {\n",
       "        text-align: right;\n",
       "    }\n",
       "</style>\n",
       "<table border=\"1\" class=\"dataframe\">\n",
       "  <thead>\n",
       "    <tr style=\"text-align: right;\">\n",
       "      <th></th>\n",
       "      <th>reliability</th>\n",
       "      <th>functionality</th>\n",
       "      <th>design</th>\n",
       "    </tr>\n",
       "  </thead>\n",
       "  <tbody>\n",
       "    <tr>\n",
       "      <th>0</th>\n",
       "      <td>Google finally unveiled the new Google Pixel 3...</td>\n",
       "      <td>If you plan to buy one of Google’s Pixel 3 sma...</td>\n",
       "      <td>Google’s annual hardware launch event will tak...</td>\n",
       "    </tr>\n",
       "    <tr>\n",
       "      <th>1</th>\n",
       "      <td>As the developer of Android, Google turns out ...</td>\n",
       "      <td>Got your hands on a new Pixel 3 or Pixel 3 XL ...</td>\n",
       "      <td>The Google Pixel 3 and Pixel 3 XL are arguably...</td>\n",
       "    </tr>\n",
       "    <tr>\n",
       "      <th>2</th>\n",
       "      <td>There are plenty of contenders in the Android ...</td>\n",
       "      <td>The Google Pixel 3 and Pixel 3 XL may have sto...</td>\n",
       "      <td>The Google Pixel 2 and Pixel 2 XL may be the c...</td>\n",
       "    </tr>\n",
       "    <tr>\n",
       "      <th>3</th>\n",
       "      <td>Rarely has a flagship phone been so thoroughly...</td>\n",
       "      <td>The Google Pixel 3 and Pixel 3 XL are phones w...</td>\n",
       "      <td>The Google Pixel 3 and Pixel 3 XL may already ...</td>\n",
       "    </tr>\n",
       "    <tr>\n",
       "      <th>4</th>\n",
       "      <td>Mobile hardware is getting better and better, ...</td>\n",
       "      <td>After months of rumors and leaks, Google is fi...</td>\n",
       "      <td>After months of rumors and leaks, Google is fi...</td>\n",
       "    </tr>\n",
       "  </tbody>\n",
       "</table>\n",
       "</div>"
      ],
      "text/plain": [
       "                                         reliability  \\\n",
       "0  Google finally unveiled the new Google Pixel 3...   \n",
       "1  As the developer of Android, Google turns out ...   \n",
       "2  There are plenty of contenders in the Android ...   \n",
       "3  Rarely has a flagship phone been so thoroughly...   \n",
       "4  Mobile hardware is getting better and better, ...   \n",
       "\n",
       "                                       functionality  \\\n",
       "0  If you plan to buy one of Google’s Pixel 3 sma...   \n",
       "1  Got your hands on a new Pixel 3 or Pixel 3 XL ...   \n",
       "2  The Google Pixel 3 and Pixel 3 XL may have sto...   \n",
       "3  The Google Pixel 3 and Pixel 3 XL are phones w...   \n",
       "4  After months of rumors and leaks, Google is fi...   \n",
       "\n",
       "                                              design  \n",
       "0  Google’s annual hardware launch event will tak...  \n",
       "1  The Google Pixel 3 and Pixel 3 XL are arguably...  \n",
       "2  The Google Pixel 2 and Pixel 2 XL may be the c...  \n",
       "3  The Google Pixel 3 and Pixel 3 XL may already ...  \n",
       "4  After months of rumors and leaks, Google is fi...  "
      ]
     },
     "execution_count": 33,
     "metadata": {},
     "output_type": "execute_result"
    }
   ],
   "source": [
    "topics_df.head()"
   ]
  },
  {
   "cell_type": "code",
   "execution_count": 34,
   "metadata": {},
   "outputs": [],
   "source": [
    "labelled_df = json_data\n",
    "\n",
    "# Assign labels as binary topics\n",
    "labelled_df['reliability'] = \"\"\n",
    "labelled_df['functionality'] = \"\"\n",
    "labelled_df['design'] = \"\"\n",
    "\n",
    "labelled_df['reliability'] = np.where(labelled_df['text'].isin(reliability), 'reliability', None)\n",
    "labelled_df['functionality'] = np.where(labelled_df['text'].isin(functionality), 'functionality', None)\n",
    "labelled_df['design'] = np.where(labelled_df['text'].isin(design), 'design', None)"
   ]
  },
  {
   "cell_type": "code",
   "execution_count": 35,
   "metadata": {},
   "outputs": [
    {
     "data": {
      "text/html": [
       "<div>\n",
       "<style scoped>\n",
       "    .dataframe tbody tr th:only-of-type {\n",
       "        vertical-align: middle;\n",
       "    }\n",
       "\n",
       "    .dataframe tbody tr th {\n",
       "        vertical-align: top;\n",
       "    }\n",
       "\n",
       "    .dataframe thead th {\n",
       "        text-align: right;\n",
       "    }\n",
       "</style>\n",
       "<table border=\"1\" class=\"dataframe\">\n",
       "  <thead>\n",
       "    <tr style=\"text-align: right;\">\n",
       "      <th></th>\n",
       "      <th>author</th>\n",
       "      <th>text</th>\n",
       "      <th>title</th>\n",
       "      <th>reliability</th>\n",
       "      <th>functionality</th>\n",
       "      <th>design</th>\n",
       "    </tr>\n",
       "  </thead>\n",
       "  <tbody>\n",
       "    <tr>\n",
       "      <th>0</th>\n",
       "      <td>Julian Chokkattu</td>\n",
       "      <td>Google’s annual hardware launch event will tak...</td>\n",
       "      <td>Google will announce hardware on October 9, ne...</td>\n",
       "      <td>None</td>\n",
       "      <td>None</td>\n",
       "      <td>design</td>\n",
       "    </tr>\n",
       "    <tr>\n",
       "      <th>1</th>\n",
       "      <td>Christian de Looper</td>\n",
       "      <td>Google finally unveiled the new Google Pixel 3...</td>\n",
       "      <td>Here’s how to buy the new Google Pixel 3 and G...</td>\n",
       "      <td>reliability</td>\n",
       "      <td>None</td>\n",
       "      <td>None</td>\n",
       "    </tr>\n",
       "    <tr>\n",
       "      <th>2</th>\n",
       "      <td>Simon Hill</td>\n",
       "      <td>If you plan to buy one of Google’s Pixel 3 sma...</td>\n",
       "      <td>The best Pixel 3 cases and covers</td>\n",
       "      <td>None</td>\n",
       "      <td>functionality</td>\n",
       "      <td>None</td>\n",
       "    </tr>\n",
       "    <tr>\n",
       "      <th>3</th>\n",
       "      <td>Simon Hill</td>\n",
       "      <td>As the developer of Android, Google turns out ...</td>\n",
       "      <td>Google Pixel 3 vs. Pixel 2 vs. Pixel: Picking ...</td>\n",
       "      <td>reliability</td>\n",
       "      <td>None</td>\n",
       "      <td>None</td>\n",
       "    </tr>\n",
       "    <tr>\n",
       "      <th>4</th>\n",
       "      <td>Simon Hill</td>\n",
       "      <td>There are plenty of contenders in the Android ...</td>\n",
       "      <td>Google Pixel 3 vs. Samsung Galaxy S9: Which sm...</td>\n",
       "      <td>reliability</td>\n",
       "      <td>None</td>\n",
       "      <td>None</td>\n",
       "    </tr>\n",
       "  </tbody>\n",
       "</table>\n",
       "</div>"
      ],
      "text/plain": [
       "                author                                               text  \\\n",
       "0     Julian Chokkattu  Google’s annual hardware launch event will tak...   \n",
       "1  Christian de Looper  Google finally unveiled the new Google Pixel 3...   \n",
       "2           Simon Hill  If you plan to buy one of Google’s Pixel 3 sma...   \n",
       "3           Simon Hill  As the developer of Android, Google turns out ...   \n",
       "4           Simon Hill  There are plenty of contenders in the Android ...   \n",
       "\n",
       "                                               title  reliability  \\\n",
       "0  Google will announce hardware on October 9, ne...         None   \n",
       "1  Here’s how to buy the new Google Pixel 3 and G...  reliability   \n",
       "2                  The best Pixel 3 cases and covers         None   \n",
       "3  Google Pixel 3 vs. Pixel 2 vs. Pixel: Picking ...  reliability   \n",
       "4  Google Pixel 3 vs. Samsung Galaxy S9: Which sm...  reliability   \n",
       "\n",
       "   functionality  design  \n",
       "0           None  design  \n",
       "1           None    None  \n",
       "2  functionality    None  \n",
       "3           None    None  \n",
       "4           None    None  "
      ]
     },
     "execution_count": 35,
     "metadata": {},
     "output_type": "execute_result"
    }
   ],
   "source": [
    "labelled_df.head()"
   ]
  },
  {
   "cell_type": "code",
   "execution_count": 36,
   "metadata": {},
   "outputs": [],
   "source": [
    "labelled_df['labelled'] = labelled_df[['reliability', 'functionality', 'design']].values.tolist()\n",
    "labelled_df['labelled'] = labelled_df['labelled'].apply(lambda x: list(filter(lambda a: a != None, x)))\n",
    "labelled_df = labelled_df.drop(['reliability', 'functionality', 'design'], axis=1)"
   ]
  },
  {
   "cell_type": "code",
   "execution_count": 37,
   "metadata": {
    "scrolled": true
   },
   "outputs": [
    {
     "data": {
      "text/html": [
       "<div>\n",
       "<style scoped>\n",
       "    .dataframe tbody tr th:only-of-type {\n",
       "        vertical-align: middle;\n",
       "    }\n",
       "\n",
       "    .dataframe tbody tr th {\n",
       "        vertical-align: top;\n",
       "    }\n",
       "\n",
       "    .dataframe thead th {\n",
       "        text-align: right;\n",
       "    }\n",
       "</style>\n",
       "<table border=\"1\" class=\"dataframe\">\n",
       "  <thead>\n",
       "    <tr style=\"text-align: right;\">\n",
       "      <th></th>\n",
       "      <th>author</th>\n",
       "      <th>text</th>\n",
       "      <th>title</th>\n",
       "      <th>labelled</th>\n",
       "    </tr>\n",
       "  </thead>\n",
       "  <tbody>\n",
       "    <tr>\n",
       "      <th>0</th>\n",
       "      <td>Julian Chokkattu</td>\n",
       "      <td>Google’s annual hardware launch event will tak...</td>\n",
       "      <td>Google will announce hardware on October 9, ne...</td>\n",
       "      <td>[design]</td>\n",
       "    </tr>\n",
       "    <tr>\n",
       "      <th>1</th>\n",
       "      <td>Christian de Looper</td>\n",
       "      <td>Google finally unveiled the new Google Pixel 3...</td>\n",
       "      <td>Here’s how to buy the new Google Pixel 3 and G...</td>\n",
       "      <td>[reliability]</td>\n",
       "    </tr>\n",
       "    <tr>\n",
       "      <th>2</th>\n",
       "      <td>Simon Hill</td>\n",
       "      <td>If you plan to buy one of Google’s Pixel 3 sma...</td>\n",
       "      <td>The best Pixel 3 cases and covers</td>\n",
       "      <td>[functionality]</td>\n",
       "    </tr>\n",
       "    <tr>\n",
       "      <th>3</th>\n",
       "      <td>Simon Hill</td>\n",
       "      <td>As the developer of Android, Google turns out ...</td>\n",
       "      <td>Google Pixel 3 vs. Pixel 2 vs. Pixel: Picking ...</td>\n",
       "      <td>[reliability]</td>\n",
       "    </tr>\n",
       "    <tr>\n",
       "      <th>4</th>\n",
       "      <td>Simon Hill</td>\n",
       "      <td>There are plenty of contenders in the Android ...</td>\n",
       "      <td>Google Pixel 3 vs. Samsung Galaxy S9: Which sm...</td>\n",
       "      <td>[reliability]</td>\n",
       "    </tr>\n",
       "  </tbody>\n",
       "</table>\n",
       "</div>"
      ],
      "text/plain": [
       "                author                                               text  \\\n",
       "0     Julian Chokkattu  Google’s annual hardware launch event will tak...   \n",
       "1  Christian de Looper  Google finally unveiled the new Google Pixel 3...   \n",
       "2           Simon Hill  If you plan to buy one of Google’s Pixel 3 sma...   \n",
       "3           Simon Hill  As the developer of Android, Google turns out ...   \n",
       "4           Simon Hill  There are plenty of contenders in the Android ...   \n",
       "\n",
       "                                               title         labelled  \n",
       "0  Google will announce hardware on October 9, ne...         [design]  \n",
       "1  Here’s how to buy the new Google Pixel 3 and G...    [reliability]  \n",
       "2                  The best Pixel 3 cases and covers  [functionality]  \n",
       "3  Google Pixel 3 vs. Pixel 2 vs. Pixel: Picking ...    [reliability]  \n",
       "4  Google Pixel 3 vs. Samsung Galaxy S9: Which sm...    [reliability]  "
      ]
     },
     "execution_count": 37,
     "metadata": {},
     "output_type": "execute_result"
    }
   ],
   "source": [
    "labelled_df.head()"
   ]
  },
  {
   "cell_type": "code",
   "execution_count": 38,
   "metadata": {},
   "outputs": [],
   "source": [
    "# Convert the multi-labels into arrays\n",
    "mlb = MultiLabelBinarizer()\n",
    "y = mlb.fit_transform(labelled_df.labelled)\n",
    "X = labelled_df.text\n",
    "\n",
    "# Split data into train and test set\n",
    "X_train, X_test, y_train, y_test = train_test_split(X, y, test_size=0.25, random_state=0)\n",
    "\n",
    "# save the the fitted binarizer labels\n",
    "# This is important: it contains the how the multi-label was binarized, so you need to\n",
    "# load this in the next folder in order to undo the transformation for the correct labels.\n",
    "# filename = 'mlb.pkl'\n",
    "# pickle.dump(mlb, open(filename, 'wb'))"
   ]
  },
  {
   "cell_type": "code",
   "execution_count": 39,
   "metadata": {},
   "outputs": [],
   "source": [
    "# LabelPowerset allows for multi-label classification\n",
    "# Build a pipeline for multinomial naive bayes classification\n",
    "text_clf = Pipeline([('vect', CountVectorizer(stop_words = \"english\",ngram_range=(1, 1))),\n",
    "                     ('tfidf', TfidfTransformer(use_idf=False)),\n",
    "                     ('clf', LabelPowerset(MultinomialNB(alpha=1e-1))),])\n",
    "\n",
    "# 'vect', CountVectorizer(stop_words = \"english\",ngram_range=(1, 1))),"
   ]
  },
  {
   "cell_type": "code",
   "execution_count": 40,
   "metadata": {},
   "outputs": [
    {
     "data": {
      "text/plain": [
       "0.8148148148148148"
      ]
     },
     "execution_count": 40,
     "metadata": {},
     "output_type": "execute_result"
    }
   ],
   "source": [
    "text_clf = text_clf.fit(X_train, y_train)\n",
    "predicted = text_clf.predict(X_test)\n",
    "\n",
    "# Calculate accuracy\n",
    "np.mean(predicted == y_test)"
   ]
  },
  {
   "cell_type": "code",
   "execution_count": 41,
   "metadata": {},
   "outputs": [
    {
     "name": "stderr",
     "output_type": "stream",
     "text": [
      "/usr/local/lib/python3.6/site-packages/sklearn/linear_model/stochastic_gradient.py:183: FutureWarning: max_iter and tol parameters have been added in SGDClassifier in 0.19. If max_iter is set but tol is left unset, the default value for tol in 0.19 and 0.20 will be None (which is equivalent to -infinity, so it has no effect) but will change in 0.21 to 1e-3. Specify tol to silence this warning.\n",
      "  FutureWarning)\n"
     ]
    },
    {
     "data": {
      "text/plain": [
       "0.875"
      ]
     },
     "execution_count": 41,
     "metadata": {},
     "output_type": "execute_result"
    }
   ],
   "source": [
    "# Test if SVM performs better\n",
    "\n",
    "text_clf_svm = Pipeline([('vect', CountVectorizer()),\n",
    "                         ('tfidf', TfidfTransformer()),\n",
    "                         ('clf-svm', LabelPowerset(\n",
    "                             SGDClassifier(loss='hinge', penalty='l2',\n",
    "                                           alpha=1e-3, max_iter=6, random_state=42)))])\n",
    "_ = text_clf_svm.fit(X_train, y_train)\n",
    "predicted_svm = text_clf_svm.predict(X_test)\n",
    "\n",
    "#Calculate accuracy\n",
    "np.mean(predicted_svm == y_test)"
   ]
  },
  {
   "cell_type": "code",
   "execution_count": 42,
   "metadata": {},
   "outputs": [],
   "source": [
    "# Train naive bayes on full dataset and save model\n",
    "text_clf_svm = Pipeline([('vect', CountVectorizer(stop_words = \"english\",ngram_range=(1, 1))),\n",
    "                     ('tfidf', TfidfTransformer(use_idf=False)),\n",
    "                     ('clf', LabelPowerset(MultinomialNB(alpha=1e-1))),])\n",
    "text_clf_svm = text_clf.fit(X, y)\n",
    "\n",
    "# save the model to disk\n",
    "# filename = 'svm_model.pkl'\n",
    "# pickle.dump(text_clf_svm, open(filename, 'wb'))"
   ]
  },
  {
   "cell_type": "code",
   "execution_count": 43,
   "metadata": {},
   "outputs": [],
   "source": [
    "## Train new data and labels with multi-label naive bayes\n",
    "## Evaluate Model on test set\n",
    "\n",
    "\n",
    "## Save lda model to assign topics in Opinion Mining notebook\n",
    "## Save ML-NB model to assign aspect terms to topics in Opinion Mining notebook"
   ]
  },
  {
   "cell_type": "code",
   "execution_count": 44,
   "metadata": {},
   "outputs": [],
   "source": [
    "## Pickle dump the topic models\n",
    "## Call the models the in the opinion mining notebook and use them to classify the texts into topics\n",
    "## Use Multilabel Naive Bayes to get an output of aspect terms in a dataframe grouped into topic columns, ordered by score\n",
    "\n",
    "### HOW TO EVALUATE YOUR MODEL!!??\n",
    "\n",
    "## Clean the Notebook, write up a report\n",
    "## Create Presentation"
   ]
  },
  {
   "cell_type": "code",
   "execution_count": null,
   "metadata": {},
   "outputs": [],
   "source": []
  }
 ],
 "metadata": {
  "kernelspec": {
   "display_name": "Python 3",
   "language": "python",
   "name": "python3"
  },
  "language_info": {
   "codemirror_mode": {
    "name": "ipython",
    "version": 3
   },
   "file_extension": ".py",
   "mimetype": "text/x-python",
   "name": "python",
   "nbconvert_exporter": "python",
   "pygments_lexer": "ipython3",
   "version": "3.6.5"
  }
 },
 "nbformat": 4,
 "nbformat_minor": 2
}
