{
 "cells": [
  {
   "cell_type": "code",
   "execution_count": 1,
   "metadata": {},
   "outputs": [],
   "source": [
    "# Import Dependencies and modules\n",
    "import numpy as np\n",
    "import pandas as pd\n",
    "import scipy\n",
    "import sklearn\n",
    "import spacy\n",
    "from spacy.lang.en import English\n",
    "import matplotlib.pyplot as plt\n",
    "import seaborn as sns\n",
    "import re\n",
    "import string\n",
    "from string import punctuation\n",
    "from collections import Counter\n",
    "from io import StringIO\n",
    "from nltk.corpus import stopwords\n",
    "from nltk.corpus import wordnet as wn\n",
    "\n",
    "import nltk\n",
    "import glob\n",
    "import errno\n",
    "import os\n",
    "import json\n",
    "\n",
    "from pprint import pprint\n",
    "\n",
    "# Gensim\n",
    "import gensim\n",
    "import gensim.corpora as corpora\n",
    "from gensim.utils import simple_preprocess\n",
    "from gensim import models\n",
    "from gensim.models import CoherenceModel\n",
    "\n",
    "# spacy for lemmatization\n",
    "import spacy\n",
    "\n",
    "# Plotting tools\n",
    "import pyLDAvis\n",
    "import pyLDAvis.gensim  # don't skip this\n",
    "import matplotlib.pyplot as plt\n",
    "\n",
    "\n",
    "%matplotlib inline"
   ]
  },
  {
   "cell_type": "markdown",
   "metadata": {},
   "source": [
    "# Load Data"
   ]
  },
  {
   "cell_type": "code",
   "execution_count": 2,
   "metadata": {},
   "outputs": [],
   "source": [
    "json_data = pd.DataFrame(columns = ['author', 'text', 'title'])"
   ]
  },
  {
   "cell_type": "code",
   "execution_count": 3,
   "metadata": {},
   "outputs": [],
   "source": [
    "# Define path to text files that contain the novels\n",
    "path = '/Users/ayankarim/Documents/Thinkful/Bootcamp/Final Capstone Opinion Mining/opinion_mining/Notebook/Topic Modelling Working Set/files/*.json'\n",
    "files = glob.glob(path)\n",
    "\n",
    "all_jsons = []\n",
    "\n",
    "for filenames in files:\n",
    "    with open(filenames, 'r') as f:\n",
    "        file = json.load(f)\n",
    "        all_jsons.append(file)\n"
   ]
  },
  {
   "cell_type": "code",
   "execution_count": 4,
   "metadata": {},
   "outputs": [],
   "source": [
    "for dicts in all_jsons:\n",
    "    df = pd.DataFrame(dicts)\n",
    "    json_data = json_data.append(df)"
   ]
  },
  {
   "cell_type": "code",
   "execution_count": 5,
   "metadata": {},
   "outputs": [
    {
     "data": {
      "text/html": [
       "<div>\n",
       "<style scoped>\n",
       "    .dataframe tbody tr th:only-of-type {\n",
       "        vertical-align: middle;\n",
       "    }\n",
       "\n",
       "    .dataframe tbody tr th {\n",
       "        vertical-align: top;\n",
       "    }\n",
       "\n",
       "    .dataframe thead th {\n",
       "        text-align: right;\n",
       "    }\n",
       "</style>\n",
       "<table border=\"1\" class=\"dataframe\">\n",
       "  <thead>\n",
       "    <tr style=\"text-align: right;\">\n",
       "      <th></th>\n",
       "      <th>author</th>\n",
       "      <th>text</th>\n",
       "      <th>title</th>\n",
       "    </tr>\n",
       "  </thead>\n",
       "  <tbody>\n",
       "    <tr>\n",
       "      <th>0</th>\n",
       "      <td>[\\n\\t\\t\\t\\t\\t\\tJulian Chokkattu\\t\\t\\t\\t\\t]</td>\n",
       "      <td>[&lt;p&gt;Google’s &lt;a href=\"https://store.google.com...</td>\n",
       "      <td>\\n\\t\\tGoogle will announce hardware on October...</td>\n",
       "    </tr>\n",
       "    <tr>\n",
       "      <th>1</th>\n",
       "      <td>[\\n\\t\\t\\t\\t\\t\\tChristian de Looper\\t\\t\\t\\t\\t]</td>\n",
       "      <td>[&lt;p&gt;Google finally unveiled the new &lt;a href=\"h...</td>\n",
       "      <td>\\n\\t\\tHere’s how to buy the new Google Pixel 3...</td>\n",
       "    </tr>\n",
       "    <tr>\n",
       "      <th>2</th>\n",
       "      <td>[\\n\\t\\t\\t\\t\\t\\tSimon Hill\\t\\t\\t\\t\\t]</td>\n",
       "      <td>[&lt;p&gt;If you plan to buy one of Google’s &lt;a href...</td>\n",
       "      <td>\\n\\t\\tThe best Pixel 3 cases and covers\\t</td>\n",
       "    </tr>\n",
       "    <tr>\n",
       "      <th>3</th>\n",
       "      <td>[\\n\\t\\t\\t\\t\\t\\tSimon Hill\\t\\t\\t\\t\\t]</td>\n",
       "      <td>[&lt;p&gt;As the developer of Android, Google turns ...</td>\n",
       "      <td>\\n\\t\\tGoogle Pixel 3 vs. Pixel 2 vs. Pixel: Pi...</td>\n",
       "    </tr>\n",
       "    <tr>\n",
       "      <th>4</th>\n",
       "      <td>[\\n\\t\\t\\t\\t\\t\\tSimon Hill\\t\\t\\t\\t\\t]</td>\n",
       "      <td>[&lt;p&gt;There are plenty of contenders in the &lt;a h...</td>\n",
       "      <td>\\n\\t\\tGoogle Pixel 3 vs. Samsung Galaxy S9: Wh...</td>\n",
       "    </tr>\n",
       "  </tbody>\n",
       "</table>\n",
       "</div>"
      ],
      "text/plain": [
       "                                          author  \\\n",
       "0     [\\n\\t\\t\\t\\t\\t\\tJulian Chokkattu\\t\\t\\t\\t\\t]   \n",
       "1  [\\n\\t\\t\\t\\t\\t\\tChristian de Looper\\t\\t\\t\\t\\t]   \n",
       "2           [\\n\\t\\t\\t\\t\\t\\tSimon Hill\\t\\t\\t\\t\\t]   \n",
       "3           [\\n\\t\\t\\t\\t\\t\\tSimon Hill\\t\\t\\t\\t\\t]   \n",
       "4           [\\n\\t\\t\\t\\t\\t\\tSimon Hill\\t\\t\\t\\t\\t]   \n",
       "\n",
       "                                                text  \\\n",
       "0  [<p>Google’s <a href=\"https://store.google.com...   \n",
       "1  [<p>Google finally unveiled the new <a href=\"h...   \n",
       "2  [<p>If you plan to buy one of Google’s <a href...   \n",
       "3  [<p>As the developer of Android, Google turns ...   \n",
       "4  [<p>There are plenty of contenders in the <a h...   \n",
       "\n",
       "                                               title  \n",
       "0  \\n\\t\\tGoogle will announce hardware on October...  \n",
       "1  \\n\\t\\tHere’s how to buy the new Google Pixel 3...  \n",
       "2          \\n\\t\\tThe best Pixel 3 cases and covers\\t  \n",
       "3  \\n\\t\\tGoogle Pixel 3 vs. Pixel 2 vs. Pixel: Pi...  \n",
       "4  \\n\\t\\tGoogle Pixel 3 vs. Samsung Galaxy S9: Wh...  "
      ]
     },
     "execution_count": 5,
     "metadata": {},
     "output_type": "execute_result"
    }
   ],
   "source": [
    "json_data.head()"
   ]
  },
  {
   "cell_type": "markdown",
   "metadata": {},
   "source": [
    "# Clean Data"
   ]
  },
  {
   "cell_type": "code",
   "execution_count": 6,
   "metadata": {},
   "outputs": [],
   "source": [
    "# Utility function for standard text cleaning.\n",
    "def text_cleaner(text):\n",
    "    # Visual inspection identifies a form of punctuation spaCy does not\n",
    "    # recognize: the double dash '--'.  Better get rid of it now!\n",
    "\n",
    "    text = str(text).replace(\"\\n\", \"\")\n",
    "    text = str(text).replace(\"\\t\", \"\")\n",
    "    text = str(text).replace(\"\\\\n\", \"\")\n",
    "    text = str(text).replace(\"\\\\t\", \"\")\n",
    "    text = str(text).replace(\"\\\\\", \"\")\n",
    "    text = str(text).replace(\"xa0\", \" \")\n",
    "    text = str(text).replace(\"\\'\", \"\")\n",
    "    text = re.sub(\"<p>\", \"\", str(text))\n",
    "    text = re.sub(\"</p>\", \"\", str(text))\n",
    "    text = re.sub(\"</a>\", \"\", str(text))\n",
    "    text = re.sub('<[^>]+>', \"\", str(text)) \n",
    "    text = str(text).replace(\"\\\\u2019\", \"\")\n",
    "    text = str(text).replace(\"\\\\u2013\", \"\")\n",
    "    text = str(text).replace(\"\\\\u2018\", \"\")\n",
    "    text = str(text).replace(\"\\\\u00a0\", \"\")\n",
    "    text = str(text).replace(\"\\\\u00a3\", \"\")\n",
    "    text = str(text).replace(\"\\u2014\", \"\")\n",
    "    text = str(text).replace(\"\\u201d\", \"\")\n",
    "    text = str(text).replace(\"\\u201c\", \"\")\n",
    "    return text\n"
   ]
  },
  {
   "cell_type": "code",
   "execution_count": 7,
   "metadata": {},
   "outputs": [],
   "source": [
    "# Define function to clean text\n",
    "def clean_text(df):\n",
    "    # Convert lists to strings and remove brackets\n",
    "    df['text'] = df['text'].astype(str)\n",
    "    df['author'] = df['author'].astype(str)\n",
    "\n",
    "    df['text'] = df['text'].map(lambda x: x.strip('[]'))\n",
    "    df['author'] = df['author'].map(lambda x: x.strip('[]'))\n",
    "\n",
    "    # Clean text\n",
    "    df['text'] = df['text'].apply(lambda x: text_cleaner(x))\n",
    "    df['title'] = df['title'].apply(lambda x: text_cleaner(x))\n",
    "    df['author'] = df['author'].apply(lambda x: text_cleaner(x))"
   ]
  },
  {
   "cell_type": "code",
   "execution_count": 8,
   "metadata": {},
   "outputs": [],
   "source": [
    "# Clean Text\n",
    "clean_text(json_data)"
   ]
  },
  {
   "cell_type": "code",
   "execution_count": 9,
   "metadata": {},
   "outputs": [],
   "source": [
    "# Reset index\n",
    "json_data = json_data.reset_index()\n",
    "json_data = json_data.drop(['index'], axis=1)"
   ]
  },
  {
   "cell_type": "code",
   "execution_count": 10,
   "metadata": {},
   "outputs": [
    {
     "data": {
      "text/html": [
       "<div>\n",
       "<style scoped>\n",
       "    .dataframe tbody tr th:only-of-type {\n",
       "        vertical-align: middle;\n",
       "    }\n",
       "\n",
       "    .dataframe tbody tr th {\n",
       "        vertical-align: top;\n",
       "    }\n",
       "\n",
       "    .dataframe thead th {\n",
       "        text-align: right;\n",
       "    }\n",
       "</style>\n",
       "<table border=\"1\" class=\"dataframe\">\n",
       "  <thead>\n",
       "    <tr style=\"text-align: right;\">\n",
       "      <th></th>\n",
       "      <th>author</th>\n",
       "      <th>text</th>\n",
       "      <th>title</th>\n",
       "    </tr>\n",
       "  </thead>\n",
       "  <tbody>\n",
       "    <tr>\n",
       "      <th>0</th>\n",
       "      <td>Julian Chokkattu</td>\n",
       "      <td>Google’s annual hardware launch event will tak...</td>\n",
       "      <td>Google will announce hardware on October 9, ne...</td>\n",
       "    </tr>\n",
       "    <tr>\n",
       "      <th>1</th>\n",
       "      <td>Christian de Looper</td>\n",
       "      <td>Google finally unveiled the new Google Pixel 3...</td>\n",
       "      <td>Here’s how to buy the new Google Pixel 3 and G...</td>\n",
       "    </tr>\n",
       "    <tr>\n",
       "      <th>2</th>\n",
       "      <td>Simon Hill</td>\n",
       "      <td>If you plan to buy one of Google’s Pixel 3 sma...</td>\n",
       "      <td>The best Pixel 3 cases and covers</td>\n",
       "    </tr>\n",
       "    <tr>\n",
       "      <th>3</th>\n",
       "      <td>Simon Hill</td>\n",
       "      <td>As the developer of Android, Google turns out ...</td>\n",
       "      <td>Google Pixel 3 vs. Pixel 2 vs. Pixel: Picking ...</td>\n",
       "    </tr>\n",
       "    <tr>\n",
       "      <th>4</th>\n",
       "      <td>Simon Hill</td>\n",
       "      <td>There are plenty of contenders in the Android ...</td>\n",
       "      <td>Google Pixel 3 vs. Samsung Galaxy S9: Which sm...</td>\n",
       "    </tr>\n",
       "  </tbody>\n",
       "</table>\n",
       "</div>"
      ],
      "text/plain": [
       "                author                                               text  \\\n",
       "0     Julian Chokkattu  Google’s annual hardware launch event will tak...   \n",
       "1  Christian de Looper  Google finally unveiled the new Google Pixel 3...   \n",
       "2           Simon Hill  If you plan to buy one of Google’s Pixel 3 sma...   \n",
       "3           Simon Hill  As the developer of Android, Google turns out ...   \n",
       "4           Simon Hill  There are plenty of contenders in the Android ...   \n",
       "\n",
       "                                               title  \n",
       "0  Google will announce hardware on October 9, ne...  \n",
       "1  Here’s how to buy the new Google Pixel 3 and G...  \n",
       "2                  The best Pixel 3 cases and covers  \n",
       "3  Google Pixel 3 vs. Pixel 2 vs. Pixel: Picking ...  \n",
       "4  Google Pixel 3 vs. Samsung Galaxy S9: Which sm...  "
      ]
     },
     "execution_count": 10,
     "metadata": {},
     "output_type": "execute_result"
    }
   ],
   "source": [
    "# Visualize dataframe\n",
    "json_data.head()"
   ]
  },
  {
   "cell_type": "markdown",
   "metadata": {},
   "source": [
    "# Pre-Process Data for NLP"
   ]
  },
  {
   "cell_type": "code",
   "execution_count": 11,
   "metadata": {},
   "outputs": [],
   "source": [
    "# # Tokenize text\n",
    "# df['text'] = df.apply(lambda row: nltk.word_tokenize(row['text']), axis=1)\n",
    "# df['title'] = df.apply(lambda row: nltk.word_tokenize(row['title']), axis=1)\n",
    "\n",
    "# # Remove Stopwords, or keep it, might be important for aspect based semantics\n",
    "# stop = stopwords.words('english')\n",
    "# df['text'] = df['text'].apply(lambda x: [item for item in x if item not in stop])\n",
    "# df['title'] = df['title'].apply(lambda x: [item for item in x if item not in stop])\n",
    "\n",
    "# # Lowercase everything\n",
    "# df['text'] = df['text'].astype(str)\n",
    "# df['text'] = df['text'].apply(lambda x: x.lower())\n",
    "\n",
    "# df['title'] = df['title'].astype(str)\n",
    "# df['title'] = df['title'].apply(lambda x: x.lower())\n",
    "\n",
    "# # remove all punctuations\n",
    "# df['text'] = df['text'].apply(lambda x: ''.join(c for c in x if c not in punctuation))\n",
    "# df['title'] = df['title'].apply(lambda x: ''.join(c for c in x if c not in punctuation))"
   ]
  },
  {
   "cell_type": "code",
   "execution_count": 12,
   "metadata": {},
   "outputs": [],
   "source": [
    "\n",
    "spacy.load('en')\n",
    "parser = English()\n",
    "\n",
    "# Function to tokenize text\n",
    "def tokenize(text):\n",
    "    lda_tokens = []\n",
    "    tokens  = parser(text)\n",
    "    for token in tokens:\n",
    "        if token.orth_.isspace():\n",
    "            continue\n",
    "        elif token.like_url:\n",
    "            lda_tokens.append('URL')\n",
    "        elif token.orth_.startswith('@'):\n",
    "            lda_tokens.append('SCREEN_NAME')\n",
    "        else:\n",
    "            lda_tokens.append(token.lower_)\n",
    "    return lda_tokens\n",
    "\n",
    "def sent_to_words(sentences):\n",
    "    for sentence in sentences:\n",
    "        yield(gensim.utils.simple_preprocess(str(sentence), deacc = True))\n",
    "        \n"
   ]
  },
  {
   "cell_type": "code",
   "execution_count": 13,
   "metadata": {},
   "outputs": [],
   "source": [
    "data = list(json_data['text'])\n",
    "\n",
    "data_words = list(sent_to_words(data))"
   ]
  },
  {
   "cell_type": "code",
   "execution_count": 14,
   "metadata": {},
   "outputs": [
    {
     "name": "stdout",
     "output_type": "stream",
     "text": [
      "[['google', 'annual', 'hardware', 'launch', 'event', 'will', 'take', 'place', 'on', 'october', 'in', 'new', 'york', 'city', 'the', 'company', 'sent', 'out', 'invites', 'to', 'media', 'including', 'digital', 'trends', 'confirming', 'the', 'date', 'which', 'had', 'leaked', 'in', 'august', 'the', 'date', 'and', 'venue', 'are', 'change', 'of', 'pace', 'considering', 'the', 'past', 'two', 'google', 'october', 'events', 'have', 'taken', 'place', 'in', 'san', 'francisco', 'on', 'october', 'the', 'company', 'is', 'widely', 'expected', 'to', 'launch', 'slew', 'of', 'hardware', 'products', 'ranging', 'from', 'smartphones', 'to', 'smart', 'home', 'devices', 'the', 'highlights', 'will', 'be', 'the', 'pixel', 'and', 'pixel', 'xl', 'successors', 'to', 'last', 'year', 'critically', 'acclaimed', 'pixel', 'and', 'pixel', 'xl', 'smartphones', 'there', 'have', 'been', 'an', 'alarmingly', 'high', 'number', 'of', 'leaks', 'for', 'the', 'pixel', 'series', 'and', 'if', 'true', 'we', 'know', 'quite', 'lot', 'about', 'the', 'phones', 'it', 'may', 'be', 'due', 'to', 'carelessness', 'recently', 'someone', 'left', 'pixel', 'in', 'the', 'back', 'of', 'lyft', 'separately', 'group', 'in', 'russia', 'claims', 'to', 'have', 'gotten', 'its', 'hands', 'on', 'shipment', 'of', 'pixel', 'xl', 'smartphones', 'and', 'even', 'posted', 'an', 'unboxing', 'video', 'showing', 'everything', 'you', 'get', 'in', 'the', 'box', 'the', 'pixel', 'xl', 'is', 'expected', 'to', 'have', 'notch', 'design', 'where', 'cutout', 'at', 'the', 'top', 'of', 'the', 'screen', 'houses', 'the', 'front', 'facing', 'camera', 'this', 'has', 'garnered', 'some', 'criticism', 'as', 'the', 'notch', 'on', 'the', 'pixel', 'xl', 'looks', 'unusually', 'large', 'the', 'smaller', 'pixel', 'may', 'have', 'more', 'traditional', 'design', 'with', 'slimmer', 'bezels', 'on', 'the', 'top', 'and', 'bottom', 'you', 'can', 'learn', 'more', 'about', 'the', 'two', 'phones', 'in', 'our', 'pixel', 'roundup', 'as', 'the', 'new', 'pixel', 'devices', 'are', 'rumored', 'to', 'support', 'wireless', 'charging', 'leaks', 'suggest', 'google', 'will', 'also', 'announce', 'the', 'pixel', 'stand', 'wireless', 'charging', 'dock', 'that', 'also', 'turns', 'the', 'phone', 'screen', 'into', 'smart', 'display', 'for', 'google', 'assistant', 'similar', 'to', 'what', 'lenovo', 'offers', 'with', 'its', 'smart', 'display', 'google', 'is', 'also', 'rumored', 'to', 'be', 'launch', 'its', 'own', 'smart', 'display', 'to', 'compete', 'with', 'the', 'likes', 'of', 'amazon', 'echo', 'show', 'it', 'will', 'essentially', 'be', 'google', 'home', 'with', 'screen', 'you', 'll', 'be', 'able', 'to', 'access', 'youtube', 'videos', 'with', 'your', 'voice', 'thanks', 'to', 'google', 'assistant', 'and', 'make', 'video', 'calls', 'with', 'google', 'duo', 'app', 'other', 'products', 'rumored', 'to', 'be', 'on', 'the', 'docket', 'are', 'two', 'pixelbooks', 'which', 'are', 'chromebooks', 'from', 'google', 'running', 'chrome', 'os', 'and', 'potential', 'followup', 'to', 'the', 'google', 'pixel', 'buds', 'there', 'likely', 'more', 'google', 'will', 'announce', 'at', 'the', 'event', 'that', 'we', 'haven', 'heard', 'much', 'about', 'for', 'example', 'last', 'year', 'google', 'clips', 'announcement', 'came', 'as', 'surprise', 'digital', 'trends', 'will', 'be', 'on', 'the', 'scene', 'in', 'new', 'york', 'on', 'october', 'reporting', 'on', 'everything', 'google', 'will', 'announce', 'so', 'stay', 'tuned']]\n"
     ]
    }
   ],
   "source": [
    "print(data_words[:1])"
   ]
  },
  {
   "cell_type": "code",
   "execution_count": 15,
   "metadata": {},
   "outputs": [],
   "source": [
    "# Create Bigrams and Trigrams\n",
    "\n",
    "# Build the models\n",
    "bigram = gensim.models.Phrases(data_words, min_count=5, threshold=100)\n",
    "trigram = gensim.models.Phrases(bigram[data_words], threshold=100)\n",
    "\n",
    "# fast way to get a sentece clubbed as a bigram/trigram\n",
    "bigram_mod = gensim.models.phrases.Phraser(bigram)\n",
    "trigram_mod = gensim.models.phrases.Phraser(trigram)"
   ]
  },
  {
   "cell_type": "code",
   "execution_count": 16,
   "metadata": {},
   "outputs": [
    {
     "name": "stdout",
     "output_type": "stream",
     "text": [
      "['google', 'annual', 'hardware', 'launch', 'event', 'will', 'take', 'place', 'on', 'october', 'in', 'new', 'york', 'city', 'the', 'company', 'sent', 'out', 'invites', 'to', 'media', 'including', 'digital_trends', 'confirming', 'the', 'date', 'which', 'had', 'leaked', 'in', 'august', 'the', 'date', 'and', 'venue', 'are', 'change', 'of', 'pace', 'considering', 'the', 'past', 'two', 'google', 'october', 'events', 'have', 'taken', 'place', 'in', 'san', 'francisco', 'on', 'october', 'the', 'company', 'is', 'widely', 'expected', 'to', 'launch', 'slew', 'of', 'hardware', 'products', 'ranging', 'from', 'smartphones', 'to', 'smart', 'home', 'devices', 'the', 'highlights', 'will', 'be', 'the', 'pixel', 'and', 'pixel', 'xl', 'successors', 'to', 'last_year', 'critically', 'acclaimed', 'pixel', 'and', 'pixel', 'xl', 'smartphones', 'there', 'have', 'been', 'an', 'alarmingly', 'high', 'number', 'of', 'leaks', 'for', 'the', 'pixel', 'series', 'and', 'if', 'true', 'we', 'know', 'quite', 'lot', 'about', 'the', 'phones', 'it', 'may', 'be', 'due', 'to', 'carelessness', 'recently', 'someone', 'left', 'pixel', 'in', 'the', 'back', 'of', 'lyft', 'separately', 'group', 'in', 'russia', 'claims', 'to', 'have', 'gotten', 'its', 'hands', 'on', 'shipment', 'of', 'pixel', 'xl', 'smartphones', 'and', 'even', 'posted', 'an', 'unboxing', 'video', 'showing', 'everything', 'you', 'get', 'in', 'the', 'box', 'the', 'pixel', 'xl', 'is', 'expected', 'to', 'have', 'notch', 'design', 'where', 'cutout', 'at', 'the', 'top', 'of', 'the', 'screen', 'houses', 'the', 'front_facing', 'camera', 'this', 'has', 'garnered', 'some', 'criticism', 'as', 'the', 'notch', 'on', 'the', 'pixel', 'xl', 'looks', 'unusually', 'large', 'the', 'smaller', 'pixel', 'may', 'have', 'more', 'traditional', 'design', 'with', 'slimmer', 'bezels', 'on', 'the', 'top', 'and', 'bottom', 'you', 'can', 'learn', 'more', 'about', 'the', 'two', 'phones', 'in', 'our', 'pixel', 'roundup', 'as', 'the', 'new', 'pixel', 'devices', 'are', 'rumored', 'to', 'support', 'wireless_charging', 'leaks', 'suggest', 'google', 'will', 'also', 'announce', 'the', 'pixel', 'stand', 'wireless_charging', 'dock', 'that', 'also', 'turns', 'the', 'phone', 'screen', 'into', 'smart', 'display', 'for', 'google', 'assistant', 'similar', 'to', 'what', 'lenovo', 'offers', 'with', 'its', 'smart', 'display', 'google', 'is', 'also', 'rumored', 'to', 'be', 'launch', 'its', 'own', 'smart', 'display', 'to', 'compete', 'with', 'the', 'likes', 'of', 'amazon', 'echo', 'show', 'it', 'will', 'essentially', 'be', 'google', 'home', 'with', 'screen', 'you', 'll', 'be', 'able', 'to', 'access', 'youtube', 'videos', 'with', 'your', 'voice', 'thanks', 'to', 'google', 'assistant', 'and', 'make', 'video', 'calls', 'with', 'google', 'duo', 'app', 'other', 'products', 'rumored', 'to', 'be', 'on', 'the', 'docket', 'are', 'two', 'pixelbooks', 'which', 'are', 'chromebooks', 'from', 'google', 'running', 'chrome_os', 'and', 'potential', 'followup', 'to', 'the', 'google', 'pixel', 'buds', 'there', 'likely', 'more', 'google', 'will', 'announce', 'at', 'the', 'event', 'that', 'we', 'haven', 'heard', 'much', 'about', 'for', 'example', 'last_year', 'google', 'clips', 'announcement', 'came', 'as', 'surprise', 'digital_trends', 'will', 'be', 'on', 'the', 'scene', 'in', 'new', 'york', 'on', 'october', 'reporting', 'on', 'everything', 'google', 'will', 'announce', 'so', 'stay', 'tuned']\n"
     ]
    }
   ],
   "source": [
    "print(trigram_mod[bigram_mod[data_words[0]]])"
   ]
  },
  {
   "cell_type": "code",
   "execution_count": 17,
   "metadata": {},
   "outputs": [],
   "source": [
    "# Remove Stopwords, make bigrams and lemmatize\n",
    "stop_words = stopwords.words('english')\n",
    "#stop_words.extend(['from', 'subject', 're', 'edu', 'use'])\n",
    "\n",
    "\n",
    "# Define functions for stopwords, bigrams, trigrams and lemmatization\n",
    "def remove_stopwords(texts):\n",
    "    return [[word for word in simple_preprocess(str(doc)) if word not in stop_words] for doc in texts]\n",
    "\n",
    "def make_bigrams(texts):\n",
    "    return [bigram_mod[doc] for doc in texts]\n",
    "\n",
    "def make_trigrams(texts):\n",
    "    return [trigram_mod[bigram_mod[doc]] for doc in texts]\n",
    "\n",
    "def lemmatization(texts, allowed_postags=['NOUN', 'ADJ', 'VERB', 'ADV']):\n",
    "    \"\"\"https://spacy.io/api/annotation\"\"\"\n",
    "    texts_out = []\n",
    "    for sent in texts:\n",
    "        doc = nlp(\" \".join(sent)) \n",
    "        texts_out.append([token.lemma_ for token in doc if token.pos_ in allowed_postags])\n",
    "    return texts_out"
   ]
  },
  {
   "cell_type": "code",
   "execution_count": 18,
   "metadata": {},
   "outputs": [
    {
     "name": "stdout",
     "output_type": "stream",
     "text": [
      "[['google', 'annual', 'hardware', 'launch', 'event', 'take', 'place', 'october', 'new', 'york', 'city', 'company', 'send', 'invite', 'medium', 'include', 'digital_trend', 'confirm', 'date', 'leak', 'august', 'date', 'venue', 'change', 'pace', 'consider', 'october', 'event', 'take', 'place', 'san', 'francisco', 'october', 'company', 'widely', 'expect', 'launch', 'slay', 'hardware', 'product', 'range', 'smartphone', 'smart', 'home', 'device', 'highlight', 'pixel', 'pixel', 'successor', 'last_year', 'critically', 'acclaim', 'pixel', 'pixel', 'smartphone', 'alarmingly', 'high', 'number', 'leak', 'pixel', 'series', 'true', 'know', 'quite', 'lot', 'phone', 'may', 'due', 'carelessness', 'recently', 'someone', 'leave', 'pixel', 'lyft', 'separately', 'group', 'russia', 'claim', 'get', 'hand', 'shipment', 'pixel', 'smartphone', 'even', 'post', 'unbox', 'video', 'show', 'everything', 'get', 'box', 'pixel', 'expect', 'notch', 'design', 'cutout', 'top', 'screen', 'house', 'front_fac', 'camera', 'garner', 'criticism', 'notch', 'pixel', 'look', 'unusually', 'large', 'small', 'pixel', 'may', 'traditional', 'design', 'slim', 'bezel', 'top', 'bottom', 'learn', 'phone', 'pixel', 'roundup', 'new', 'pixel', 'device', 'rumor', 'support', 'wireless_charging', 'leak', 'suggest', 'also', 'announce', 'pixel', 'stand', 'wireless_charging', 'dock', 'also', 'turn', 'phone', 'screen', 'smart', 'display', 'assistant', 'similar', 'lenovo', 'offer', 'smart', 'display', 'also', 'rumor', 'launch', 'smart', 'display', 'compete', 'like', 'amazon', 'echo', 'show', 'essentially', 'home', 'screen', 'able', 'access', 'youtube', 'video', 'voice', 'thank', 'assistant', 'make', 'video', 'call', 'duo', 'app', 'product', 'rumor', 'docket', 'pixelbook', 'chromebook', 'run', 'chrome_os', 'potential', 'followup', 'pixel', 'bud', 'likely', 'announce', 'event', 'hear', 'much', 'example', 'last_year', 'clip', 'announcement', 'come', 'surprise', 'digital_trend', 'scene', 'new', 'york', 'october', 'report', 'everything', 'announce', 'stay', 'tune']]\n"
     ]
    }
   ],
   "source": [
    "# Remove Stop Words\n",
    "data_words_nostops = remove_stopwords(data_words)\n",
    "\n",
    "# Form Bigrams\n",
    "data_words_bigrams = make_bigrams(data_words_nostops)\n",
    "\n",
    "# Initialize spacy 'en' model, keeping only tagger component (for efficiency)\n",
    "# python3 -m spacy download en\n",
    "nlp = spacy.load('en', disable=['parser', 'ner'])\n",
    "\n",
    "# Do lemmatization keeping only noun, adj, vb, adv\n",
    "data_lemmatized = lemmatization(data_words_bigrams, allowed_postags=['NOUN', 'ADJ', 'VERB', 'ADV'])\n",
    "\n",
    "print(data_lemmatized[:1])"
   ]
  },
  {
   "cell_type": "code",
   "execution_count": 19,
   "metadata": {
    "scrolled": true
   },
   "outputs": [
    {
     "name": "stdout",
     "output_type": "stream",
     "text": [
      "[[(0, 1), (1, 1), (2, 1), (3, 1), (4, 3), (5, 1), (6, 3), (7, 1), (8, 1), (9, 1), (10, 2), (11, 1), (12, 1), (13, 1), (14, 1), (15, 1), (16, 1), (17, 1), (18, 1), (19, 1), (20, 1), (21, 1), (22, 1), (23, 1), (24, 1), (25, 1), (26, 2), (27, 1), (28, 1), (29, 1), (30, 1), (31, 1), (32, 1), (33, 2), (34, 2), (35, 2), (36, 2), (37, 3), (38, 1), (39, 1), (40, 1), (41, 1), (42, 1), (43, 1), (44, 1), (45, 3), (46, 2), (47, 1), (48, 2), (49, 1), (50, 1), (51, 1), (52, 1), (53, 2), (54, 1), (55, 1), (56, 1), (57, 2), (58, 1), (59, 1), (60, 1), (61, 2), (62, 1), (63, 1), (64, 1), (65, 1), (66, 1), (67, 2), (68, 3), (69, 3), (70, 1), (71, 1), (72, 1), (73, 1), (74, 1), (75, 1), (76, 1), (77, 1), (78, 1), (79, 2), (80, 1), (81, 1), (82, 3), (83, 2), (84, 1), (85, 4), (86, 1), (87, 1), (88, 3), (89, 14), (90, 1), (91, 2), (92, 1), (93, 1), (94, 2), (95, 1), (96, 1), (97, 1), (98, 1), (99, 1), (100, 3), (101, 1), (102, 1), (103, 1), (104, 1), (105, 3), (106, 1), (107, 1), (108, 1), (109, 1), (110, 2), (111, 1), (112, 1), (113, 1), (114, 1), (115, 4), (116, 3), (117, 1), (118, 1), (119, 1), (120, 1), (121, 1), (122, 1), (123, 1), (124, 2), (125, 1), (126, 2), (127, 1), (128, 1), (129, 1), (130, 1), (131, 1), (132, 1), (133, 1), (134, 3), (135, 1), (136, 1), (137, 2), (138, 2), (139, 1)]]\n"
     ]
    }
   ],
   "source": [
    "# Create Dictionary\n",
    "id2word = corpora.Dictionary(data_lemmatized)\n",
    "\n",
    "# Create Corpus\n",
    "texts = data_lemmatized\n",
    "\n",
    "# Term Document Frequency\n",
    "corpus = [id2word.doc2bow(text) for text in texts]\n",
    "\n",
    "# View\n",
    "print(corpus[:1])"
   ]
  },
  {
   "cell_type": "code",
   "execution_count": 20,
   "metadata": {},
   "outputs": [],
   "source": [
    "# Build the lda topic model\n",
    "\n",
    "lda = gensim.models.ldamodel.LdaModel(corpus=corpus,\n",
    "                                      id2word=id2word,\n",
    "                                      num_topics=4, \n",
    "                                      random_state=100,\n",
    "                                      update_every=1,\n",
    "                                      chunksize=100,\n",
    "                                      passes=50,\n",
    "                                      alpha='auto',\n",
    "                                      per_word_topics=True)"
   ]
  },
  {
   "cell_type": "code",
   "execution_count": 21,
   "metadata": {},
   "outputs": [
    {
     "name": "stdout",
     "output_type": "stream",
     "text": [
      "[(0,\n",
      "  '0.036*\"phone\" + 0.017*\"camera\" + 0.016*\"pixel\" + 0.011*\"huawei\" + '\n",
      "  '0.009*\"feature\" + 0.009*\"also\" + 0.008*\"good\" + 0.008*\"display\" + '\n",
      "  '0.007*\"come\" + 0.007*\"new\"'),\n",
      " (1,\n",
      "  '0.018*\"iphone\" + 0.018*\"essential\" + 0.015*\"phone\" + 0.012*\"apple\" + '\n",
      "  '0.010*\"device\" + 0.009*\"new\" + 0.008*\"company\" + 0.007*\"also\" + 0.007*\"may\" '\n",
      "  '+ 0.006*\"smartphone\"'),\n",
      " (2,\n",
      "  '0.017*\"phone\" + 0.016*\"pixel\" + 0.016*\"app\" + 0.015*\"screen\" + 0.011*\"tap\" '\n",
      "  '+ 0.010*\"use\" + 0.008*\"display\" + 0.008*\"feature\" + 0.008*\"new\" + '\n",
      "  '0.007*\"go\"'),\n",
      " (3,\n",
      "  '0.025*\"iphone\" + 0.015*\"phone\" + 0.012*\"samsung\" + 0.010*\"apple\" + '\n",
      "  '0.009*\"good\" + 0.008*\"screen\" + 0.008*\"case\" + 0.008*\"use\" + 0.008*\"get\" + '\n",
      "  '0.007*\"camera\"')]\n"
     ]
    }
   ],
   "source": [
    "# Print the key words in the 10 topics\n",
    "pprint(lda.print_topics())\n",
    "doc_lda = lda[corpus]"
   ]
  },
  {
   "cell_type": "code",
   "execution_count": 22,
   "metadata": {},
   "outputs": [
    {
     "name": "stdout",
     "output_type": "stream",
     "text": [
      "\n",
      "Perplexity:  -7.290033337042769\n",
      "\n",
      "Coherence Score:  0.32786932090544396\n"
     ]
    }
   ],
   "source": [
    "# Evaluate how good the model is\n",
    "\n",
    "# Compute perplexity\n",
    "print('\\nPerplexity: ', lda.log_perplexity(corpus)) # Lower the better\n",
    "\n",
    "# Compute Coherence\n",
    "coherenece_model_lda = CoherenceModel(model=lda, texts=data_lemmatized, dictionary=id2word, coherence='c_v' )\n",
    "coherence_lda = coherenece_model_lda.get_coherence()\n",
    "print('\\nCoherence Score: ', coherence_lda)"
   ]
  },
  {
   "cell_type": "code",
   "execution_count": 23,
   "metadata": {},
   "outputs": [
    {
     "name": "stderr",
     "output_type": "stream",
     "text": [
      "/usr/local/lib/python3.6/site-packages/pyLDAvis/_prepare.py:257: FutureWarning: Sorting because non-concatenation axis is not aligned. A future version\n",
      "of pandas will change to not sort by default.\n",
      "\n",
      "To accept the future behavior, pass 'sort=False'.\n",
      "\n",
      "To retain the current behavior and silence the warning, pass 'sort=True'.\n",
      "\n",
      "  return pd.concat([default_term_info] + list(topic_dfs))\n"
     ]
    },
    {
     "data": {
      "text/html": [
       "\n",
       "<link rel=\"stylesheet\" type=\"text/css\" href=\"https://cdn.rawgit.com/bmabey/pyLDAvis/files/ldavis.v1.0.0.css\">\n",
       "\n",
       "\n",
       "<div id=\"ldavis_el1939247765120324163836929\"></div>\n",
       "<script type=\"text/javascript\">\n",
       "\n",
       "var ldavis_el1939247765120324163836929_data = {\"mdsDat\": {\"x\": [0.016958869860576063, -0.014416570314708494, -0.14409233725361564, 0.14155003770774804], \"y\": [0.12386777462976091, 0.02167718595184246, -0.06586469485375866, -0.07968026572784472], \"topics\": [1, 2, 3, 4], \"cluster\": [1, 1, 1, 1], \"Freq\": [43.23831558227539, 28.344804763793945, 14.225886344909668, 14.190996170043945]}, \"tinfo\": {\"Category\": [\"Default\", \"Default\", \"Default\", \"Default\", \"Default\", \"Default\", \"Default\", \"Default\", \"Default\", \"Default\", \"Default\", \"Default\", \"Default\", \"Default\", \"Default\", \"Default\", \"Default\", \"Default\", \"Default\", \"Default\", \"Default\", \"Default\", \"Default\", \"Default\", \"Default\", \"Default\", \"Default\", \"Default\", \"Default\", \"Default\", \"Topic1\", \"Topic1\", \"Topic1\", \"Topic1\", \"Topic1\", \"Topic1\", \"Topic1\", \"Topic1\", \"Topic1\", \"Topic1\", \"Topic1\", \"Topic1\", \"Topic1\", \"Topic1\", \"Topic1\", \"Topic1\", \"Topic1\", \"Topic1\", \"Topic1\", \"Topic1\", \"Topic1\", \"Topic1\", \"Topic1\", \"Topic1\", \"Topic1\", \"Topic1\", \"Topic1\", \"Topic1\", \"Topic1\", \"Topic1\", \"Topic1\", \"Topic1\", \"Topic1\", \"Topic1\", \"Topic1\", \"Topic1\", \"Topic1\", \"Topic1\", \"Topic1\", \"Topic1\", \"Topic1\", \"Topic1\", \"Topic1\", \"Topic1\", \"Topic1\", \"Topic1\", \"Topic1\", \"Topic1\", \"Topic1\", \"Topic1\", \"Topic1\", \"Topic1\", \"Topic1\", \"Topic1\", \"Topic1\", \"Topic1\", \"Topic1\", \"Topic1\", \"Topic1\", \"Topic1\", \"Topic1\", \"Topic1\", \"Topic1\", \"Topic1\", \"Topic1\", \"Topic1\", \"Topic1\", \"Topic1\", \"Topic1\", \"Topic1\", \"Topic1\", \"Topic1\", \"Topic2\", \"Topic2\", \"Topic2\", \"Topic2\", \"Topic2\", \"Topic2\", \"Topic2\", \"Topic2\", \"Topic2\", \"Topic2\", \"Topic2\", \"Topic2\", \"Topic2\", \"Topic2\", \"Topic2\", \"Topic2\", \"Topic2\", \"Topic2\", \"Topic2\", \"Topic2\", \"Topic2\", \"Topic2\", \"Topic2\", \"Topic2\", \"Topic2\", \"Topic2\", \"Topic2\", \"Topic2\", \"Topic2\", \"Topic2\", \"Topic2\", \"Topic2\", \"Topic2\", \"Topic2\", \"Topic2\", \"Topic2\", \"Topic2\", \"Topic2\", \"Topic2\", \"Topic2\", \"Topic2\", \"Topic2\", \"Topic2\", \"Topic2\", \"Topic2\", \"Topic2\", \"Topic2\", \"Topic2\", \"Topic2\", \"Topic2\", \"Topic2\", \"Topic2\", \"Topic2\", \"Topic2\", \"Topic2\", \"Topic2\", \"Topic2\", \"Topic2\", \"Topic2\", \"Topic2\", \"Topic2\", \"Topic2\", \"Topic2\", \"Topic2\", \"Topic2\", \"Topic2\", \"Topic2\", \"Topic2\", \"Topic2\", \"Topic2\", \"Topic2\", \"Topic2\", \"Topic2\", \"Topic2\", \"Topic2\", \"Topic3\", \"Topic3\", \"Topic3\", \"Topic3\", \"Topic3\", \"Topic3\", \"Topic3\", \"Topic3\", \"Topic3\", \"Topic3\", \"Topic3\", \"Topic3\", \"Topic3\", \"Topic3\", \"Topic3\", \"Topic3\", \"Topic3\", \"Topic3\", \"Topic3\", \"Topic3\", \"Topic3\", \"Topic3\", \"Topic3\", \"Topic3\", \"Topic3\", \"Topic3\", \"Topic3\", \"Topic3\", \"Topic3\", \"Topic3\", \"Topic3\", \"Topic3\", \"Topic3\", \"Topic3\", \"Topic3\", \"Topic3\", \"Topic3\", \"Topic3\", \"Topic3\", \"Topic3\", \"Topic3\", \"Topic3\", \"Topic3\", \"Topic3\", \"Topic3\", \"Topic3\", \"Topic3\", \"Topic3\", \"Topic3\", \"Topic3\", \"Topic3\", \"Topic3\", \"Topic3\", \"Topic3\", \"Topic3\", \"Topic3\", \"Topic3\", \"Topic3\", \"Topic3\", \"Topic3\", \"Topic3\", \"Topic3\", \"Topic3\", \"Topic3\", \"Topic3\", \"Topic3\", \"Topic3\", \"Topic3\", \"Topic3\", \"Topic3\", \"Topic3\", \"Topic3\", \"Topic3\", \"Topic3\", \"Topic3\", \"Topic3\", \"Topic3\", \"Topic3\", \"Topic3\", \"Topic3\", \"Topic4\", \"Topic4\", \"Topic4\", \"Topic4\", \"Topic4\", \"Topic4\", \"Topic4\", \"Topic4\", \"Topic4\", \"Topic4\", \"Topic4\", \"Topic4\", \"Topic4\", \"Topic4\", \"Topic4\", \"Topic4\", \"Topic4\", \"Topic4\", \"Topic4\", \"Topic4\", \"Topic4\", \"Topic4\", \"Topic4\", \"Topic4\", \"Topic4\", \"Topic4\", \"Topic4\", \"Topic4\", \"Topic4\", \"Topic4\", \"Topic4\", \"Topic4\", \"Topic4\", \"Topic4\", \"Topic4\", \"Topic4\", \"Topic4\", \"Topic4\", \"Topic4\", \"Topic4\", \"Topic4\", \"Topic4\", \"Topic4\", \"Topic4\", \"Topic4\", \"Topic4\", \"Topic4\", \"Topic4\", \"Topic4\", \"Topic4\", \"Topic4\", \"Topic4\", \"Topic4\", \"Topic4\", \"Topic4\", \"Topic4\", \"Topic4\", \"Topic4\", \"Topic4\", \"Topic4\", \"Topic4\", \"Topic4\", \"Topic4\", \"Topic4\", \"Topic4\", \"Topic4\", \"Topic4\", \"Topic4\", \"Topic4\", \"Topic4\", \"Topic4\", \"Topic4\", \"Topic4\", \"Topic4\", \"Topic4\"], \"Freq\": [1231.0, 1106.0, 318.0, 583.0, 483.0, 571.0, 801.0, 201.0, 606.0, 362.0, 320.0, 317.0, 276.0, 309.0, 367.0, 258.0, 543.0, 699.0, 243.0, 493.0, 121.0, 184.0, 255.0, 190.0, 95.0, 267.0, 217.0, 771.0, 269.0, 691.0, 582.7804565429688, 319.5563049316406, 257.8251953125, 361.5415344238281, 75.8585433959961, 305.97589111328125, 56.475826263427734, 49.9316291809082, 44.72526931762695, 52.168556213378906, 39.44818878173828, 39.00527572631836, 40.60391616821289, 85.62979125976562, 40.72299575805664, 32.02706527709961, 30.915712356567383, 249.18145751953125, 28.456222534179688, 190.5931854248047, 27.355289459228516, 26.174177169799805, 26.144268035888672, 100.8670425415039, 25.922229766845703, 63.83855438232422, 23.539525985717773, 23.12559700012207, 23.80167579650879, 23.18505096435547, 352.9534912109375, 172.08482360839844, 125.6519775390625, 77.81285858154297, 79.25926208496094, 221.05691528320312, 65.14331817626953, 192.47019958496094, 147.2318115234375, 63.95928955078125, 109.7925033569336, 104.494384765625, 815.7371215820312, 103.3991470336914, 223.12823486328125, 873.969482421875, 123.41903686523438, 1867.686279296875, 179.50625610351562, 200.34861755371094, 190.02508544921875, 167.51071166992188, 245.8935089111328, 254.45289611816406, 141.83700561523438, 493.5159912109375, 389.9914245605469, 180.97247314453125, 304.5787658691406, 415.0478820800781, 252.22897338867188, 487.7986755371094, 436.630615234375, 266.4437561035156, 246.8914031982422, 388.4893493652344, 240.6806182861328, 340.13140869140625, 274.5293273925781, 250.26271057128906, 229.47952270507812, 213.4768829345703, 69.10741424560547, 61.402488708496094, 51.26848602294922, 46.747005462646484, 36.874263763427734, 34.20498275756836, 31.029705047607422, 27.01117706298828, 29.31602668762207, 25.314193725585938, 86.78316497802734, 19.982582092285156, 22.40049171447754, 21.10466957092285, 15.235559463500977, 14.657691955566406, 15.240818977355957, 12.989373207092285, 13.316774368286133, 12.644973754882812, 12.080540657043457, 12.020088195800781, 11.579694747924805, 12.258472442626953, 11.452604293823242, 10.262913703918457, 10.324679374694824, 10.216745376586914, 10.173580169677734, 9.983622550964355, 117.24908447265625, 51.457603454589844, 270.3663330078125, 65.52086639404297, 17.634946823120117, 871.890625, 43.05299758911133, 19.421274185180664, 39.90848159790039, 400.5708312988281, 339.2980651855469, 33.54642868041992, 29.532264709472656, 157.03611755371094, 112.34600067138672, 80.730224609375, 39.885040283203125, 223.75743103027344, 127.45071411132812, 228.69923400878906, 77.8990707397461, 315.30975341796875, 267.40325927734375, 79.2451171875, 241.03514099121094, 169.70632934570312, 225.18125915527344, 276.3905334472656, 258.40362548828125, 149.33267211914062, 98.97737121582031, 161.52610778808594, 509.35833740234375, 139.8159942626953, 140.7054901123047, 220.2210235595703, 257.8577575683594, 142.95114135742188, 144.31228637695312, 190.24957275390625, 111.6781234741211, 133.86984252929688, 124.19904327392578, 119.40232849121094, 114.62162017822266, 33.49715805053711, 26.228328704833984, 20.808063507080078, 17.032428741455078, 305.142822265625, 14.499865531921387, 16.512380599975586, 14.82363510131836, 13.206457138061523, 12.133583068847656, 12.11995792388916, 11.8854398727417, 11.840003967285156, 12.029894828796387, 11.045025825500488, 9.965611457824707, 10.089195251464844, 9.667529106140137, 9.849974632263184, 8.865915298461914, 8.712979316711426, 8.424525260925293, 8.436859130859375, 8.444233894348145, 7.9980950355529785, 7.797109127044678, 7.797109127044678, 7.796618461608887, 7.791884422302246, 7.786097526550293, 18.787841796875, 11.149581909179688, 20.022628784179688, 25.736963272094727, 8.22828197479248, 30.452600479125977, 17.588228225708008, 47.5158805847168, 30.26462173461914, 12.363077163696289, 60.310882568359375, 50.697898864746094, 51.707054138183594, 61.38060760498047, 60.15346908569336, 61.281341552734375, 145.98768615722656, 64.09796142578125, 210.47451782226562, 54.346946716308594, 317.1307067871094, 52.26045227050781, 166.61691284179688, 29.09065055847168, 75.1286392211914, 49.257232666015625, 44.086299896240234, 54.44424057006836, 91.32872009277344, 72.953857421875, 110.69284057617188, 72.47245025634766, 50.319580078125, 113.30655670166016, 156.31260681152344, 67.12600708007812, 109.86692810058594, 70.7313232421875, 252.07139587402344, 81.85127258300781, 65.74668884277344, 113.90918731689453, 109.35905456542969, 97.44014739990234, 72.51558685302734, 72.82351684570312, 78.12775421142578, 63.244632720947266, 76.15758514404297, 61.418548583984375, 64.14766693115234, 37.93233871459961, 37.17620849609375, 22.781396865844727, 23.63036346435547, 20.69675064086914, 19.260597229003906, 15.680164337158203, 73.93399810791016, 13.507669448852539, 13.464908599853516, 14.588035583496094, 190.1529998779297, 11.89040756225586, 11.168862342834473, 10.493853569030762, 10.412620544433594, 10.13204288482666, 9.727646827697754, 10.205897331237793, 9.248211860656738, 9.065424919128418, 9.033591270446777, 21.263702392578125, 8.247416496276855, 8.477032661437988, 7.8077850341796875, 7.922236442565918, 7.936026096343994, 8.105347633361816, 22.259733200073242, 43.75887680053711, 63.27587890625, 83.66670227050781, 25.143932342529297, 19.715007781982422, 39.44866943359375, 92.2239761352539, 36.27975082397461, 275.4155578613281, 32.52117156982422, 23.87249755859375, 31.39764404296875, 40.425628662109375, 102.3388671875, 103.36072540283203, 48.188453674316406, 58.546348571777344, 40.7943229675293, 58.219913482666016, 88.49263763427734, 261.37286376953125, 277.16058349609375, 101.16801452636719, 47.6398811340332, 88.16808319091797, 174.7428741455078, 91.45499420166016, 69.7458724975586, 107.45256805419922, 119.17613983154297, 143.30735778808594, 288.601318359375, 139.82981872558594, 101.16631317138672, 132.46681213378906, 94.94252014160156, 113.88146209716797, 63.582908630371094, 79.90658569335938, 103.05360412597656, 82.61970520019531, 83.6230239868164, 72.63806915283203, 69.94300842285156], \"Term\": [\"iphone\", \"pixel\", \"essential\", \"huawei\", \"app\", \"apple\", \"screen\", \"tap\", \"samsung\", \"moto\", \"mate_pro\", \"case\", \"company\", \"megapixel\", \"lens\", \"winner\", \"device\", \"use\", \"mode\", \"galaxy\", \"setting\", \"set\", \"ram\", \"turn\", \"notification\", \"razer\", \"button\", \"feature\", \"price\", \"display\", \"huawei\", \"mate_pro\", \"winner\", \"moto\", \"lite\", \"megapixel\", \"monochrome\", \"aspect_ratio\", \"stock_android\", \"modern\", \"emui\", \"winner_tie\", \"len\", \"thinq\", \"fast_charg\", \"frames_per\", \"density\", \"ram\", \"kirin\", \"mate\", \"super_slow\", \"amol\", \"optical_image\", \"honor\", \"snapdragon_processor\", \"android_oreo\", \"xz_premium\", \"kirin_processor\", \"gorilla_glass\", \"secondary\", \"lens\", \"xz\", \"sony\", \"microsd_card\", \"motorola\", \"htc\", \"win\", \"pro\", \"resolution\", \"snapdragon\", \"aperture\", \"xperia_xz\", \"pixel\", \"mah_battery\", \"razer\", \"camera\", \"spec\", \"phone\", \"dual\", \"flagship\", \"storage\", \"play\", \"inch\", \"oneplus\", \"gb\", \"feature\", \"come\", \"notch\", \"find\", \"display\", \"android\", \"also\", \"good\", \"back\", \"offer\", \"new\", \"design\", \"get\", \"look\", \"screen\", \"make\", \"still\", \"s\", \"be\", \"pic\", \"will\", \"protector\", \"that\", \"scratch\", \"have\", \"car\", \"hydrogen\", \"not\", \"there\", \"raise\", \"protective\", \"texture\", \"stylus\", \"food\", \"avatar\", \"iris\", \"bumper\", \"headset\", \"truedepth\", \"loom_ai\", \"optical\", \"zenfone_max\", \"button_cover\", \"beer\", \"damn\", \"suck\", \"bulk\", \"xs_max\", \"face_id\", \"case\", \"protection\", \"bionic\", \"iphone\", \"protect\", \"mouse\", \"xr\", \"samsung\", \"apple\", \"bixby\", \"pocket\", \"thing\", \"feel\", \"actually\", \"ai\", \"even\", \"really\", \"galaxy\", \"test\", \"good\", \"use\", \"let\", \"make\", \"big\", \"look\", \"screen\", \"get\", \"photo\", \"people\", \"take\", \"phone\", \"note\", \"want\", \"new\", \"camera\", \"time\", \"go\", \"also\", \"way\", \"still\", \"much\", \"feature\", \"see\", \"ph\", \"scooter\", \"rzr\", \"quarter\", \"essential\", \"lawsuit\", \"team\", \"allege\", \"andy_rubin\", \"vehicle\", \"applecare\", \"revenue\", \"electric\", \"ghz\", \"bloomberg\", \"keyssa\", \"ice_universe\", \"desert\", \"prototype\", \"throttle\", \"lease\", \"analyst\", \"leaker\", \"fee\", \"nikkei\", \"polaris\", \"suspension\", \"mph\", \"court\", \"rubin\", \"repair\", \"friday\", \"patent\", \"reportedly\", \"ceramic\", \"customer\", \"render\", \"rumor\", \"consumer\", \"government\", \"product\", \"plan\", \"sale\", \"accord\", \"report\", \"leak\", \"company\", \"sell\", \"apple\", \"deal\", \"iphone\", \"carrier\", \"device\", \"accessory\", \"release\", \"store\", \"network\", \"month\", \"price\", \"mobile\", \"smartphone\", \"buy\", \"verizon\", \"may\", \"new\", \"model\", \"galaxy\", \"could\", \"phone\", \"year\", \"launch\", \"also\", \"get\", \"samsung\", \"say\", \"first\", \"make\", \"would\", \"come\", \"use\", \"toggle\", \"disturb\", \"slider\", \"wallpaper\", \"gt\", \"mclaren_edition\", \"settings_gt\", \"scroll\", \"select\", \"reddit\", \"shutter_button\", \"earbud\", \"tap\", \"app_drawer\", \"slider_next\", \"screenshot\", \"percentage\", \"register\", \"uninstall\", \"album\", \"spam\", \"xda_developer\", \"imessage\", \"disable\", \"mclaren\", \"song\", \"gear_icon\", \"automate\", \"verge\", \"click\", \"sleep\", \"swipe\", \"icon\", \"notification\", \"wake\", \"forum\", \"lock\", \"setting\", \"fix\", \"app\", \"music\", \"default\", \"schedule\", \"gesture\", \"set\", \"turn\", \"automatically\", \"appear\", \"event\", \"open\", \"home\", \"screen\", \"pixel\", \"mode\", \"stand\", \"button\", \"use\", \"option\", \"call\", \"want\", \"go\", \"display\", \"phone\", \"feature\", \"time\", \"new\", \"see\", \"get\", \"light\", \"photo\", \"also\", \"make\", \"camera\", \"may\", \"find\"], \"Total\": [1231.0, 1106.0, 318.0, 583.0, 483.0, 571.0, 801.0, 201.0, 606.0, 362.0, 320.0, 317.0, 276.0, 309.0, 367.0, 258.0, 543.0, 699.0, 243.0, 493.0, 121.0, 184.0, 255.0, 190.0, 95.0, 267.0, 217.0, 771.0, 269.0, 691.0, 583.5863037109375, 320.2427673339844, 258.4976501464844, 362.88055419921875, 76.53633117675781, 309.4796142578125, 57.166160583496094, 50.61271286010742, 45.410709381103516, 53.06075668334961, 40.12368392944336, 39.674888610839844, 41.308074951171875, 87.13198852539062, 41.46412658691406, 32.72489929199219, 31.616064071655273, 255.05616760253906, 29.13194465637207, 195.4850311279297, 28.061668395996094, 26.855606079101562, 26.83405876159668, 103.55044555664062, 26.61663246154785, 65.59397888183594, 24.207876205444336, 23.802654266357422, 24.505935668945312, 23.880844116210938, 367.4160461425781, 178.86898803710938, 131.41404724121094, 81.02491760253906, 82.61669921875, 240.4994659423828, 68.49730682373047, 210.3267059326172, 160.00701904296875, 67.80664825439453, 120.14949798583984, 114.3633041381836, 1106.433837890625, 114.84026336669922, 267.46868896484375, 1224.6629638671875, 140.0686492919922, 2917.71728515625, 212.59120178222656, 246.14852905273438, 233.71688842773438, 203.31927490234375, 322.1190185546875, 338.8165588378906, 167.53138732910156, 771.914794921875, 582.838623046875, 228.1046142578125, 445.81103515625, 691.3997802734375, 364.1898193359375, 895.010986328125, 842.383544921875, 412.7862548828125, 378.3507080078125, 897.4898071289062, 386.9537353515625, 821.7755737304688, 594.3139038085938, 801.0203857421875, 631.2620849609375, 419.18505859375, 69.80945587158203, 62.097251892089844, 51.96995544433594, 47.4455680847168, 37.56644058227539, 34.914581298828125, 31.738845825195312, 27.711984634399414, 30.080692291259766, 26.004526138305664, 89.5076904296875, 20.679737091064453, 23.21979522705078, 21.903972625732422, 15.967536926269531, 15.365399360656738, 15.982388496398926, 13.679945945739746, 14.029643058776855, 13.339573860168457, 12.770873069763184, 12.723015785217285, 12.268105506896973, 12.99193000793457, 12.144881248474121, 10.951488494873047, 11.021702766418457, 10.91690731048584, 10.884029388427734, 10.68593978881836, 130.32568359375, 56.86936950683594, 317.2977600097656, 76.1350326538086, 19.273334503173828, 1231.328857421875, 50.40510177612305, 21.425962448120117, 47.000003814697266, 606.0633544921875, 571.4929809570312, 40.75284957885742, 36.389251708984375, 284.068115234375, 188.79112243652344, 125.82950592041016, 53.0065803527832, 461.9879455566406, 227.54629516601562, 493.0494384765625, 125.68359375, 842.383544921875, 699.2007446289062, 133.8983154296875, 631.2620849609375, 389.7680969238281, 594.3139038085938, 801.0203857421875, 821.7755737304688, 355.5494384765625, 189.6017303466797, 426.14642333984375, 2917.71728515625, 349.7839660644531, 377.8377990722656, 897.4898071289062, 1224.6629638671875, 447.1777038574219, 464.41937255859375, 895.010986328125, 259.09674072265625, 419.18505859375, 352.62451171875, 771.914794921875, 469.68316650390625, 34.231903076171875, 26.93731117248535, 21.516239166259766, 17.740942001342773, 318.24908447265625, 15.219399452209473, 17.363975524902344, 15.599509239196777, 13.92494010925293, 12.842208862304688, 12.840609550476074, 12.595250129699707, 12.550374031066895, 12.758267402648926, 11.757356643676758, 10.673788070678711, 10.81463623046875, 10.381331443786621, 10.589835166931152, 9.58793830871582, 9.424575805664062, 9.13339614868164, 9.160141944885254, 9.183934211730957, 8.713995933532715, 8.50528621673584, 8.50528621673584, 8.505213737487793, 8.504836082458496, 8.503902435302734, 20.801116943359375, 12.244298934936523, 22.481321334838867, 30.122528076171875, 9.006176948547363, 37.1386833190918, 20.599897384643555, 61.5266227722168, 38.24894714355469, 14.025464057922363, 83.4640884399414, 72.48172760009766, 74.72744750976562, 93.2187728881836, 91.49563598632812, 94.6479721069336, 276.4242858886719, 104.13794708251953, 571.4929809570312, 97.92991638183594, 1231.328857421875, 101.7148208618164, 543.221435546875, 45.30384063720703, 184.1640167236328, 98.83820343017578, 85.22964477539062, 119.65081024169922, 269.1084289550781, 189.39215087890625, 385.5915832519531, 196.7994842529297, 108.85472106933594, 459.418701171875, 897.4898071289062, 189.1217498779297, 493.0494384765625, 210.3148651123047, 2917.71728515625, 338.7769470214844, 203.98574829101562, 895.010986328125, 821.7755737304688, 606.0633544921875, 298.61578369140625, 323.54693603515625, 631.2620849609375, 209.2858123779297, 582.838623046875, 699.2007446289062, 64.84442138671875, 38.62952423095703, 38.08929443359375, 23.479703903198242, 24.399694442749023, 21.407588958740234, 19.95668601989746, 16.380435943603516, 77.25858306884766, 14.228255271911621, 14.187742233276367, 15.371916770935059, 201.3579864501953, 12.617420196533203, 11.861517906188965, 11.187010765075684, 11.113936424255371, 10.843138694763184, 10.426712036132812, 10.972773551940918, 9.961007118225098, 9.768633842468262, 9.73776912689209, 22.92724609375, 8.96347713470459, 9.21376895904541, 8.50103759765625, 8.629876136779785, 8.646811485290527, 8.836899757385254, 24.295623779296875, 48.682430267333984, 71.00776672363281, 95.72183227539062, 28.64860725402832, 22.81855010986328, 48.232154846191406, 121.43521118164062, 44.306488037109375, 483.34722900390625, 42.10862350463867, 29.431821823120117, 41.95990753173828, 58.184391021728516, 184.37477111816406, 190.0655975341797, 72.93746185302734, 94.32342529296875, 59.33526611328125, 97.37977600097656, 177.0963134765625, 801.0203857421875, 1106.433837890625, 243.2393341064453, 80.04701232910156, 217.13796997070312, 699.2007446289062, 268.3195495605469, 167.5929412841797, 377.8377990722656, 464.41937255859375, 691.3997802734375, 2917.71728515625, 771.914794921875, 447.1777038574219, 897.4898071289062, 469.68316650390625, 821.7755737304688, 168.55508422851562, 355.5494384765625, 895.010986328125, 631.2620849609375, 1224.6629638671875, 459.418701171875, 445.81103515625], \"loglift\": [30.0, 29.0, 28.0, 27.0, 26.0, 25.0, 24.0, 23.0, 22.0, 21.0, 20.0, 19.0, 18.0, 17.0, 16.0, 15.0, 14.0, 13.0, 12.0, 11.0, 10.0, 9.0, 8.0, 7.0, 6.0, 5.0, 4.0, 3.0, 2.0, 1.0, 0.8371000289916992, 0.8363000154495239, 0.8357999920845032, 0.8346999883651733, 0.8295000195503235, 0.8270999789237976, 0.8263000249862671, 0.8248999714851379, 0.823199987411499, 0.8215000033378601, 0.8215000033378601, 0.821399986743927, 0.8212000131607056, 0.8210999965667725, 0.8203999996185303, 0.8169000148773193, 0.8159999847412109, 0.8151000142097473, 0.8149999976158142, 0.8130999803543091, 0.8129000067710876, 0.8126999735832214, 0.8123999834060669, 0.8122000098228455, 0.8119999766349792, 0.8112999796867371, 0.8104000091552734, 0.8095999956130981, 0.8093000054359436, 0.808899998664856, 0.79830002784729, 0.7997999787330627, 0.7936000227928162, 0.7979999780654907, 0.796999990940094, 0.7541000247001648, 0.7882000207901001, 0.7497000098228455, 0.7552000284194946, 0.7799999713897705, 0.7483000159263611, 0.748199999332428, 0.5335999727249146, 0.7335000038146973, 0.6571999788284302, 0.5011000037193298, 0.711899995803833, 0.392300009727478, 0.6693000197410583, 0.6326000094413757, 0.6315000057220459, 0.6446999907493591, 0.5684000253677368, 0.5521000027656555, 0.671999990940094, 0.3910999894142151, 0.4366999864578247, 0.6069999933242798, 0.45750001072883606, 0.3280999958515167, 0.47110000252723694, 0.23149999976158142, 0.18129999935626984, 0.40070000290870667, 0.4115999937057495, 0.0010999999940395355, 0.3635999858379364, -0.043699998408555984, 0.06610000133514404, -0.3249000012874603, -0.17350000143051147, 0.16369999945163727, 1.250599980354309, 1.249500036239624, 1.2470999956130981, 1.24590003490448, 1.2421000003814697, 1.2402000427246094, 1.2381000518798828, 1.2351000308990479, 1.2350000143051147, 1.2338000535964966, 1.2297999858856201, 1.2264000177383423, 1.2247999906539917, 1.2236000299453735, 1.2137999534606934, 1.2136000394821167, 1.2131999731063843, 1.208899974822998, 1.2086000442504883, 1.2072999477386475, 1.205199956893921, 1.2038999795913696, 1.2029999494552612, 1.2026000022888184, 1.2020000219345093, 1.1957999467849731, 1.1953999996185303, 1.1943999528884888, 1.1931999921798706, 1.1927000284194946, 1.1549999713897705, 1.1606999635696411, 1.1007000207901, 1.1105999946594238, 1.1719000339508057, 0.9154999852180481, 1.1030999422073364, 1.162500023841858, 1.0972000360488892, 0.8465999960899353, 0.7394000291824341, 1.066100001335144, 1.051900029182434, 0.6679999828338623, 0.7416999936103821, 0.8169000148773193, 0.9763000011444092, 0.5357999801635742, 0.6811000108718872, 0.4925000071525574, 0.7824000120162964, 0.27799999713897705, 0.2994999885559082, 0.7361999750137329, 0.29789999127388, 0.4291999936103821, 0.29019999504089355, 0.19670000672340393, 0.10379999876022339, 0.39320001006126404, 0.6107000112533569, 0.2906000018119812, -0.4846999943256378, 0.34369999170303345, 0.2728999853134155, -0.14419999718666077, -0.2973000109195709, 0.12030000239610672, 0.09189999848604202, -0.28780001401901245, 0.41909998655319214, 0.1193000003695488, 0.21719999611377716, -0.6055999994277954, -0.14970000088214874, 1.9284000396728516, 1.9234000444412231, 1.916599988937378, 1.9093999862670898, 1.9081000089645386, 1.9017000198364258, 1.8997999429702759, 1.8990999460220337, 1.8970999717712402, 1.8933000564575195, 1.892300009727478, 1.8920999765396118, 1.891800045967102, 1.8912999629974365, 1.8875999450683594, 1.881500005722046, 1.8806999921798706, 1.8789000511169434, 1.8776999711990356, 1.8717999458312988, 1.8716000318527222, 1.8693000078201294, 1.867900013923645, 1.8660999536514282, 1.864400029182434, 1.8631999492645264, 1.8631999492645264, 1.8631000518798828, 1.8625999689102173, 1.861899971961975, 1.8482999801635742, 1.8564000129699707, 1.8343000411987305, 1.792799949645996, 1.8597999811172485, 1.7516000270843506, 1.792099952697754, 1.6916999816894531, 1.715999960899353, 1.8238999843597412, 1.6252000331878662, 1.5927000045776367, 1.5819000005722046, 1.5322999954223633, 1.5306999683380127, 1.5154000520706177, 1.3116999864578247, 1.4648000001907349, 0.951200008392334, 1.361199975013733, 0.5935999751091003, 1.2841999530792236, 0.7682999968528748, 1.507099986076355, 1.0535000562667847, 1.2537000179290771, 1.2908999919891357, 1.1627000570297241, 0.8694999814033508, 0.9961000084877014, 0.7020999789237976, 0.9510999917984009, 1.1785000562667847, 0.5501999855041504, 0.20239999890327454, 0.9143000245094299, 0.4487999975681305, 0.8604000210762024, -0.49869999289512634, 0.529699981212616, 0.8179000020027161, -0.11129999905824661, -0.06669999659061432, 0.12240000069141388, 0.5347999930381775, 0.45879998803138733, -0.13930000364780426, 0.7534000277519226, -0.08500000089406967, -0.4821000099182129, 1.9417999982833862, 1.9342999458312988, 1.9283000230789185, 1.9223999977111816, 1.9205000400543213, 1.9187999963760376, 1.917099952697754, 1.9089000225067139, 1.9085999727249146, 1.9005999565124512, 1.9003000259399414, 1.9002000093460083, 1.895300030708313, 1.8932000398635864, 1.8924000263214111, 1.8885999917984009, 1.8874000310897827, 1.8846999406814575, 1.8832000494003296, 1.8801000118255615, 1.8782999515533447, 1.8779000043869019, 1.877500057220459, 1.8772000074386597, 1.8693000078201294, 1.8691999912261963, 1.8674999475479126, 1.8669999837875366, 1.8667999505996704, 1.8661999702453613, 1.8650000095367432, 1.845900058746338, 1.8372999429702759, 1.8179999589920044, 1.822100043296814, 1.806399941444397, 1.7515000104904175, 1.67739999294281, 1.7526999711990356, 1.3901000022888184, 1.694200038909912, 1.7431999444961548, 1.662600040435791, 1.5884000062942505, 1.3638999462127686, 1.343400001525879, 1.538100004196167, 1.4757000207901, 1.5779000520706177, 1.4381999969482422, 1.2588000297546387, 0.8325999975204468, 0.5683000087738037, 1.0752999782562256, 1.4335999488830566, 1.051300048828125, 0.5659000277519226, 0.8762000203132629, 1.0758999586105347, 0.6951000094413757, 0.5924000144004822, 0.37880000472068787, -0.36090001463890076, 0.24410000443458557, 0.46639999747276306, 0.03929999843239784, 0.3537999987602234, -0.02370000071823597, 0.9775999784469604, 0.45980000495910645, -0.20900000631809235, -0.08089999854564667, -0.7315000295639038, 0.10809999704360962, 0.10029999911785126], \"logprob\": [30.0, 29.0, 28.0, 27.0, 26.0, 25.0, 24.0, 23.0, 22.0, 21.0, 20.0, 19.0, 18.0, 17.0, 16.0, 15.0, 14.0, 13.0, 12.0, 11.0, 10.0, 9.0, 8.0, 7.0, 6.0, 5.0, 4.0, 3.0, 2.0, 1.0, -4.500400066375732, -5.101200103759766, -5.315899848937988, -4.977799892425537, -6.539299964904785, -5.144700050354004, -6.834400177001953, -6.957499980926514, -7.067599773406982, -6.913700103759766, -7.19320011138916, -7.204500198364258, -7.164299964904785, -6.418099880218506, -7.161399841308594, -7.401599884033203, -7.4369001388549805, -5.349999904632568, -7.519800186157227, -5.618000030517578, -7.559299945831299, -7.603400230407715, -7.604599952697754, -6.25439977645874, -7.613100051879883, -6.7118000984191895, -7.709499835968018, -7.727200031280518, -7.698400020599365, -7.724699974060059, -5.001800060272217, -5.720200061798096, -6.0346999168396, -6.513899803161621, -6.495500087738037, -5.469799995422363, -6.6915998458862305, -5.6082000732421875, -5.876200199127197, -6.70989990234375, -6.169600009918213, -6.218999862670898, -4.164100170135498, -6.229599952697754, -5.460400104522705, -4.095099925994873, -6.052599906921387, -3.335700035095215, -5.677999973297119, -5.5680999755859375, -5.620999813079834, -5.747099876403809, -5.36329984664917, -5.329100131988525, -5.91349983215332, -4.666600227355957, -4.902100086212158, -5.6697998046875, -5.1493000984191895, -4.839799880981445, -5.337800025939941, -4.678299903869629, -4.789100170135498, -5.2829999923706055, -5.3592000007629395, -4.905900001525879, -5.384699821472168, -5.03879976272583, -5.2530999183654785, -5.345699787139893, -5.432400226593018, -5.504700183868408, -6.21019983291626, -6.328400135040283, -6.508800029754639, -6.601099967956543, -6.838399887084961, -6.91349983215332, -7.011000156402588, -7.149600028991699, -7.067800045013428, -7.2144999504089355, -5.982500076293945, -7.451000213623047, -7.3368000984191895, -7.396399974822998, -7.722300052642822, -7.760900020599365, -7.72189998626709, -7.881800174713135, -7.856900215148926, -7.908599853515625, -7.9542999267578125, -7.9593000411987305, -7.996600151062012, -7.939700126647949, -8.007699966430664, -8.117400169372559, -8.11139965057373, -8.121899604797363, -8.126099586486816, -8.145000457763672, -5.681600093841553, -6.505099773406982, -4.846099853515625, -6.263500213623047, -7.576000213623047, -3.6751999855041504, -6.683499813079834, -7.479499816894531, -6.759300231933594, -4.453000068664551, -4.61899995803833, -6.933000087738037, -7.060400009155273, -5.389400005340576, -5.724299907684326, -6.054800033569336, -6.759900093078613, -5.035299777984619, -5.598199844360352, -5.013500213623047, -6.0904998779296875, -4.692299842834473, -4.857100009918213, -6.073400020599365, -4.960999965667725, -5.311800003051758, -5.0289998054504395, -4.824100017547607, -4.89139986038208, -5.439700126647949, -5.85099983215332, -5.361199855804443, -4.212699890136719, -5.5055999755859375, -5.499199867248535, -5.051300048828125, -4.893499851226807, -5.483399868011475, -5.473899841308594, -5.1975998878479, -5.730299949645996, -5.548999786376953, -5.624000072479248, -5.663400173187256, -5.7042999267578125, -6.245100021362305, -6.489699840545654, -6.721199989318848, -6.92140007019043, -4.035699844360352, -7.082399845123291, -6.952400207519531, -7.060299873352051, -7.17579984664917, -7.260499954223633, -7.26170015335083, -7.281199932098389, -7.284999847412109, -7.269100189208984, -7.354499816894531, -7.457399845123291, -7.445099830627441, -7.48769998550415, -7.468999862670898, -7.5742998123168945, -7.591700077056885, -7.625400066375732, -7.623899936676025, -7.623000144958496, -7.677299976348877, -7.7027997970581055, -7.7027997970581055, -7.7027997970581055, -7.703400135040283, -7.70419979095459, -6.823299884796143, -7.345099925994873, -6.759699821472168, -6.508600234985352, -7.648900032043457, -6.3403000831604, -6.8892998695373535, -5.895500183105469, -6.346499919891357, -7.241799831390381, -5.6570000648498535, -5.830599784851074, -5.8109002113342285, -5.639400005340576, -5.659599781036377, -5.640999794006348, -4.7729997634887695, -5.596099853515625, -4.407199859619141, -5.761099815368652, -3.9972000122070312, -5.800300121307373, -4.6407999992370605, -6.386099815368652, -5.437300205230713, -5.859499931335449, -5.970399856567383, -5.759300231933594, -5.242099761962891, -5.466700077056885, -5.049799919128418, -5.473299980163574, -5.838099956512451, -5.026400089263916, -4.704699993133545, -5.549900054931641, -5.057199954986572, -5.497600078582764, -4.226799964904785, -5.351600170135498, -5.570700168609619, -5.021100044250488, -5.0619001388549805, -5.177299976348877, -5.472700119018555, -5.468500137329102, -5.398200035095215, -5.609499931335449, -5.423699855804443, -5.638800144195557, -5.592899799346924, -6.118299961090088, -6.138400077819824, -6.6280999183654785, -6.5914998054504395, -6.724100112915039, -6.796000003814697, -7.001699924468994, -5.450900077819824, -7.1508002281188965, -7.1539998054504395, -7.07390022277832, -4.506199836730957, -7.278299808502197, -7.34089994430542, -7.403299808502197, -7.410999774932861, -7.438399791717529, -7.479100227355957, -7.431099891662598, -7.529600143432617, -7.549600124359131, -7.553100109100342, -6.6971001625061035, -7.644199848175049, -7.616700172424316, -7.69890022277832, -7.6844000816345215, -7.682600021362305, -7.661499977111816, -6.651299953460693, -5.975399971008301, -5.606599807739258, -5.327199935913086, -6.529399871826172, -6.77269983291626, -6.079100131988525, -5.229800224304199, -6.162799835205078, -4.135799884796143, -6.272200107574463, -6.581299781799316, -6.307300090789795, -6.054599761962891, -5.125800132751465, -5.115799903869629, -5.878900051116943, -5.684199810028076, -6.045499801635742, -5.689799785614014, -5.271100044250488, -4.1880998611450195, -4.129499912261963, -5.13730001449585, -5.890399932861328, -5.274799823760986, -4.590700149536133, -5.2382001876831055, -5.509200096130371, -5.077000141143799, -4.973499774932861, -4.789100170135498, -4.089000225067139, -4.813600063323975, -5.13730001449585, -4.867700099945068, -5.200799942016602, -5.018899917602539, -5.6016998291015625, -5.373199939727783, -5.118800163269043, -5.339799880981445, -5.327700138092041, -5.468599796295166, -5.506400108337402]}, \"token.table\": {\"Topic\": [2, 3, 4, 1, 2, 3, 4, 1, 2, 3, 4, 1, 2, 4, 4, 3, 1, 2, 3, 4, 1, 3, 1, 2, 3, 4, 1, 4, 3, 1, 2, 1, 2, 3, 4, 4, 1, 2, 3, 4, 1, 2, 3, 4, 3, 1, 4, 1, 2, 4, 2, 1, 2, 3, 4, 2, 2, 1, 2, 3, 4, 2, 3, 1, 2, 3, 2, 2, 1, 2, 4, 2, 1, 2, 3, 1, 2, 3, 4, 1, 2, 3, 4, 2, 1, 2, 3, 1, 2, 4, 3, 4, 1, 2, 3, 4, 1, 2, 3, 4, 1, 2, 3, 4, 1, 2, 3, 4, 3, 1, 3, 2, 1, 2, 3, 4, 2, 4, 1, 3, 1, 2, 3, 4, 1, 2, 3, 4, 2, 4, 1, 2, 3, 4, 4, 1, 2, 4, 3, 1, 1, 2, 3, 4, 1, 2, 3, 4, 1, 3, 4, 1, 2, 4, 1, 1, 2, 3, 4, 3, 1, 2, 3, 4, 1, 2, 3, 4, 1, 2, 3, 4, 1, 2, 4, 1, 2, 3, 4, 2, 3, 4, 1, 2, 3, 1, 2, 3, 4, 1, 2, 3, 4, 4, 1, 3, 4, 1, 2, 3, 4, 3, 1, 2, 3, 4, 1, 2, 3, 4, 1, 1, 3, 4, 2, 2, 1, 2, 3, 4, 1, 2, 1, 4, 1, 2, 3, 1, 2, 4, 4, 1, 2, 3, 4, 1, 2, 3, 4, 2, 3, 1, 1, 1, 2, 3, 4, 3, 1, 3, 4, 3, 3, 1, 1, 2, 4, 1, 2, 3, 4, 1, 2, 3, 4, 1, 1, 2, 4, 1, 2, 3, 4, 2, 1, 2, 4, 1, 2, 3, 4, 1, 2, 1, 1, 2, 3, 4, 4, 4, 1, 2, 3, 1, 2, 1, 2, 3, 4, 1, 2, 4, 1, 2, 3, 1, 1, 1, 2, 3, 4, 1, 3, 1, 3, 1, 2, 3, 1, 2, 3, 4, 2, 3, 4, 1, 3, 4, 1, 2, 3, 4, 3, 2, 4, 1, 3, 4, 1, 2, 3, 4, 1, 2, 4, 1, 2, 3, 4, 1, 3, 4, 1, 2, 3, 4, 2, 1, 1, 2, 3, 4, 2, 3, 1, 2, 3, 4, 4, 3, 1, 2, 3, 4, 1, 2, 4, 2, 1, 2, 4, 2, 3, 4, 1, 2, 4, 1, 2, 4, 3, 1, 2, 3, 1, 2, 3, 1, 2, 3, 4, 1, 2, 4, 1, 2, 3, 4, 2, 2, 3, 3, 2, 1, 3, 1, 4, 1, 2, 3, 4, 4, 4, 1, 2, 3, 4, 2, 3, 2, 3, 1, 2, 3, 4, 3, 4, 1, 2, 4, 3, 3, 1, 2, 3, 4, 3, 2, 1, 2, 3, 1, 2, 3, 4, 1, 2, 3, 4, 2, 3, 4, 3, 2, 1, 2, 3, 4, 4, 4, 1, 1, 2, 3, 4, 3, 4, 1, 2, 3, 1, 2, 3, 4, 1, 2, 3, 4, 4, 4, 2, 4, 4, 4, 1, 2, 3, 4, 1, 2, 3, 1, 4, 1, 4, 4, 1, 2, 3, 4, 1, 2, 3, 4, 1, 2, 3, 4, 1, 1, 2, 3, 4, 1, 2, 3, 4, 2, 2, 1, 3, 2, 4, 1, 2, 3, 4, 1, 4, 3, 1, 2, 3, 4, 2, 2, 2, 1, 2, 3, 4, 1, 4, 3, 1, 2, 3, 4, 4, 2, 1, 2, 3, 4, 4, 1, 2, 3, 4, 3, 4, 1, 3, 4, 2, 4, 4, 1, 2, 3, 4, 1, 2, 3, 4, 2, 1, 3, 1, 1, 1, 2, 3, 4, 4, 1, 4, 2, 3, 2, 3, 1, 4, 1, 1, 2, 3, 4, 2], \"Freq\": [0.22073183953762054, 0.6401223540306091, 0.13243910670280457, 0.1287294328212738, 0.1287294328212738, 0.6543746590614319, 0.08581962436437607, 0.1986815333366394, 0.6437281966209412, 0.079472616314888, 0.07152535766363144, 0.20752140879631042, 0.754623293876648, 0.03773116320371628, 0.9113466143608093, 0.9615687131881714, 0.5452446937561035, 0.21228790283203125, 0.12737274169921875, 0.11508238315582275, 0.9681404829025269, 0.8759064078330994, 0.6919468641281128, 0.09061209112405777, 0.09884954988956451, 0.1153244748711586, 0.9756993055343628, 0.015245301648974419, 0.9335767030715942, 0.9155260920524597, 0.08322964608669281, 0.2461998164653778, 0.16551248729228973, 0.01862015388906002, 0.5689491629600525, 0.9510660767555237, 0.12722183763980865, 0.10601820051670074, 0.14842548966407776, 0.6255074143409729, 0.015748225152492523, 0.593183159828186, 0.3674585819244385, 0.02274743653833866, 0.9345350861549377, 0.9878941178321838, 0.9270121455192566, 0.09597262740135193, 0.24678675830364227, 0.658098042011261, 0.95029616355896, 0.6444013118743896, 0.23983356356620789, 0.053296349942684174, 0.0629865899682045, 0.9823300838470459, 0.9073008298873901, 0.5156912803649902, 0.4361567795276642, 0.038484420627355576, 0.010262512601912022, 0.9339328408241272, 0.05188515782356262, 0.17176713049411774, 0.8342974781990051, 0.9355844259262085, 0.9358091354370117, 0.9745438694953918, 0.2809273898601532, 0.31316494941711426, 0.4052722752094269, 0.9131178855895996, 0.3506106734275818, 0.279472291469574, 0.3658546209335327, 0.352043479681015, 0.11933676898479462, 0.11336992681026459, 0.41767868399620056, 0.7136657238006592, 0.21067020297050476, 0.007348960731178522, 0.06859029829502106, 0.9640735387802124, 0.4817390441894531, 0.009831408970057964, 0.5112332701683044, 0.12606455385684967, 0.850935697555542, 0.022061295807361603, 0.8882792592048645, 0.9052948951721191, 0.6691389083862305, 0.16127963364124298, 0.13039630651474, 0.03946203738451004, 0.30026304721832275, 0.15555796027183533, 0.528173565864563, 0.01808813586831093, 0.07843352854251862, 0.07843352854251862, 0.7843353152275085, 0.02614451013505459, 0.23773878812789917, 0.37087249755859375, 0.3375890851020813, 0.05705730617046356, 0.9406412839889526, 0.16155661642551422, 0.8077830672264099, 0.916010320186615, 0.2552846074104309, 0.17359353601932526, 0.5514147281646729, 0.020422767847776413, 0.16988414525985718, 0.8154439330101013, 0.9805142283439636, 0.9632675647735596, 0.6228134632110596, 0.2894402742385864, 0.07494436204433441, 0.015505729243159294, 0.37001484632492065, 0.19513221085071564, 0.30742529034614563, 0.12886089086532593, 0.04361622780561447, 0.9159408211708069, 0.6002315878868103, 0.13450972735881805, 0.05929999053478241, 0.20682679116725922, 0.9837035536766052, 0.8466954231262207, 0.15522749722003937, 0.9758054614067078, 0.956146776676178, 0.9719945192337036, 0.01885315775871277, 0.015710964798927307, 0.9583688378334045, 0.006284385919570923, 0.35931673645973206, 0.4848611354827881, 0.08225322514772415, 0.07359499484300613, 0.1685338318347931, 0.13482706248760223, 0.6909887194633484, 0.07033663243055344, 0.8967920541763306, 0.01758415810763836, 0.9888065457344055, 0.6399670243263245, 0.15416209399700165, 0.024614116176962852, 0.1813671737909317, 0.8710863590240479, 0.3178115487098694, 0.5932482481002808, 0.031781155616045, 0.05826545134186745, 0.6841463446617126, 0.13009996712207794, 0.03140344098210335, 0.15701720118522644, 0.43888533115386963, 0.25653156638145447, 0.22562414407730103, 0.07726854085922241, 0.06771017611026764, 0.09028023481369019, 0.8125221133232117, 0.812517523765564, 0.06500140577554703, 0.1015646904706955, 0.02031293883919716, 0.9385330677032471, 0.13147197663784027, 0.8764798641204834, 0.9778487086296082, 0.08167066425085068, 0.8983772993087769, 0.30625730752944946, 0.4644564688205719, 0.22310136258602142, 0.006084582302719355, 0.847602367401123, 0.023876123130321503, 0.11341158300638199, 0.011938061565160751, 0.9410616159439087, 0.2749878466129303, 0.03437348082661629, 0.6874696016311646, 0.4137382507324219, 0.31395432353019714, 0.13263961672782898, 0.13872399926185608, 0.9405665993690491, 0.3229839503765106, 0.3100645840167999, 0.10981453955173492, 0.25623393058776855, 0.5187660455703735, 0.3739389181137085, 0.0486714169383049, 0.05816827714443207, 0.9793545603752136, 0.07129888981580734, 0.8555866479873657, 0.9836188554763794, 0.9743077158927917, 0.9396381974220276, 0.07340638339519501, 0.3275054097175598, 0.10163960605859756, 0.49690476059913635, 0.9753699898719788, 0.01931425742805004, 0.9189209342002869, 0.0790022537112236, 0.9989953637123108, 0.961371123790741, 0.9246727824211121, 0.05633186548948288, 0.05633186548948288, 0.8872268795967102, 0.9242363572120667, 0.7636928558349609, 0.19247543811798096, 0.031044425442814827, 0.015522212721407413, 0.030048836022615433, 0.7081779837608337, 0.25744545459747314, 0.004060653503984213, 0.926609456539154, 0.936874508857727, 0.961144208908081, 0.9662787914276123, 0.47062110900878906, 0.11765527725219727, 0.3235520124435425, 0.08824145793914795, 0.9198786020278931, 0.21130932867527008, 0.6444934606552124, 0.13735106587409973, 0.8733488917350769, 0.9549501538276672, 0.992542028427124, 0.960763692855835, 0.02993881143629551, 0.008165130391716957, 0.23898732662200928, 0.5899999737739563, 0.05227847769856453, 0.11949366331100464, 0.23137836158275604, 0.3737650513648987, 0.011865557171404362, 0.3796978294849396, 0.9929924607276917, 0.062199171632528305, 0.12439834326505661, 0.8085892200469971, 0.4627184271812439, 0.3785878121852875, 0.0858132392168045, 0.072352334856987, 0.9781461358070374, 0.8968979716300964, 0.07836972922086716, 0.017415495589375496, 0.3627653419971466, 0.3817748725414276, 0.12356199324131012, 0.13148263096809387, 0.9770569205284119, 0.020461924374103546, 0.9992419481277466, 0.3939761221408844, 0.20242972671985626, 0.245962992310524, 0.15889644622802734, 0.8925107717514038, 0.9809605479240417, 0.988756537437439, 0.006462461315095425, 0.006462461315095425, 0.9626668095588684, 0.03702564537525177, 0.4752044975757599, 0.12144114822149277, 0.38544362783432007, 0.01584015041589737, 0.4686742126941681, 0.11511296033859253, 0.4152289032936096, 0.48117151856422424, 0.16391557455062866, 0.3542691469192505, 0.9800086617469788, 0.9796004891395569, 0.3510214388370514, 0.11700714379549026, 0.4513132870197296, 0.08357653021812439, 0.9975734353065491, 0.002755727618932724, 0.9562231302261353, 0.036312270909547806, 0.09334469586610794, 0.8867746591567993, 0.9405995011329651, 0.5189656019210815, 0.35164883732795715, 0.07373282313346863, 0.053881678730249405, 0.18998484313488007, 0.047496210783720016, 0.7836874723434448, 0.38718920946121216, 0.5162522792816162, 0.09386405348777771, 0.4323168992996216, 0.24512812495231628, 0.17381812632083893, 0.14707687497138977, 0.9180633425712585, 0.9719834923744202, 0.022344449535012245, 0.7934955954551697, 0.008767906576395035, 0.19289395213127136, 0.5260390043258667, 0.4002470374107361, 0.07147268950939178, 0.005717814899981022, 0.08357550203800201, 0.04178775101900101, 0.8775427341461182, 0.6528334617614746, 0.1506538689136505, 0.14536777138710022, 0.05021795630455017, 0.7496681809425354, 0.15052393078804016, 0.0973978340625763, 0.15403608977794647, 0.20538145303726196, 0.04107629135251045, 0.5956062078475952, 0.923650324344635, 0.9689179062843323, 0.30560576915740967, 0.23106777667999268, 0.12298768758773804, 0.3391478657722473, 0.08896274119615555, 0.8896273970603943, 0.1793232560157776, 0.5221471190452576, 0.20569433271884918, 0.094935841858387, 0.8997712135314941, 0.9640130400657654, 0.6402265429496765, 0.17445144057273865, 0.08636888861656189, 0.09905003756284714, 0.35438108444213867, 0.41906970739364624, 0.22500386834144592, 0.981336236000061, 0.7375045418739319, 0.01174945943057537, 0.2503538727760315, 0.20694871246814728, 0.7036256194114685, 0.09657606482505798, 0.8262866139411926, 0.059020474553108215, 0.11312257498502731, 0.10992256551980972, 0.8244192600250244, 0.05496128275990486, 0.9405915141105652, 0.4124731421470642, 0.2452543079853058, 0.3381536602973938, 0.9128655195236206, 0.06180860474705696, 0.019018031656742096, 0.1198120042681694, 0.08386840671300888, 0.7188720703125, 0.07188720256090164, 0.09919630736112595, 0.8530882596969604, 0.05951778590679169, 0.07880734652280807, 0.8668808341026306, 0.03940367326140404, 0.02626911550760269, 0.9587302207946777, 0.9849216341972351, 0.9443017840385437, 0.958235502243042, 0.9474674463272095, 0.9762555360794067, 0.01960352435708046, 0.8337424397468567, 0.1645052433013916, 0.3339979648590088, 0.5581281781196594, 0.07910478115081787, 0.026368260383605957, 0.9839575886726379, 0.9222421646118164, 0.5267044305801392, 0.05429942533373833, 0.4072456657886505, 0.01628982648253441, 0.1456317901611328, 0.8737907409667969, 0.09614868462085724, 0.9134125113487244, 0.04371793195605278, 0.05464741587638855, 0.6557689905166626, 0.2513781189918518, 0.8631413578987122, 0.13279098272323608, 0.9187096953392029, 0.0187491774559021, 0.06249725818634033, 0.9527401328086853, 0.9407445788383484, 0.14627814292907715, 0.06501250714063644, 0.7801500558853149, 0.01625312678515911, 0.9760069847106934, 0.9884048104286194, 0.13381963968276978, 0.17396552860736847, 0.6958621144294739, 0.17159922420978546, 0.6616470217704773, 0.16004927456378937, 0.0065999701619148254, 0.3214833438396454, 0.3549712002277374, 0.2444612979888916, 0.08037083595991135, 0.023832274600863457, 0.21449045836925507, 0.7388004660606384, 0.9652040004730225, 0.9767211079597473, 0.31210193037986755, 0.34456053376197815, 0.01622929982841015, 0.32583439350128174, 0.893893837928772, 0.9767749905586243, 0.9631150364875793, 0.44072261452674866, 0.244845911860466, 0.11284202337265015, 0.20226401090621948, 0.03883063793182373, 0.9578223824501038, 0.24006618559360504, 0.14403972029685974, 0.6145694255828857, 0.2494918406009674, 0.1572883278131485, 0.03796614706516266, 0.5532210469245911, 0.14822718501091003, 0.08234843611717224, 0.008234843611717224, 0.7576056122779846, 0.9520618915557861, 0.916283905506134, 0.08231934905052185, 0.9055128693580627, 0.971401572227478, 0.9273686408996582, 0.42532047629356384, 0.17375898361206055, 0.2878693640232086, 0.11411037296056747, 0.9438602328300476, 0.029495632275938988, 0.029495632275938988, 0.9768328070640564, 0.8682657480239868, 0.9588016271591187, 0.038047682493925095, 0.9035230875015259, 0.8781408071517944, 0.02855742536485195, 0.04997549578547478, 0.04283613711595535, 0.2123751938343048, 0.16240456700325012, 0.024985317140817642, 0.5996476411819458, 0.508128821849823, 0.31966787576675415, 0.12882138788700104, 0.04294046014547348, 0.990955650806427, 0.8129493594169617, 0.03850812837481499, 0.1198030635714531, 0.029950765892863274, 0.303526371717453, 0.0809403657913208, 0.4957597255706787, 0.1214105412364006, 0.9762193560600281, 0.9187774062156677, 0.9621666073799133, 0.9405915141105652, 0.08216516673564911, 0.903816819190979, 0.4505493640899658, 0.38015103340148926, 0.042239002883434296, 0.1267170011997223, 0.05462907254695892, 0.9435930848121643, 0.9790384769439697, 0.30234652757644653, 0.6206060647964478, 0.031825952231884, 0.047738928347826004, 0.9394059777259827, 0.9738051891326904, 0.9671303033828735, 0.2886631488800049, 0.5526843667030334, 0.0739259347319603, 0.08448677510023117, 0.9870083332061768, 0.011476840823888779, 0.9386793971061707, 0.31978338956832886, 0.31978338956832886, 0.13417485356330872, 0.22586099803447723, 0.986977756023407, 0.9431726336479187, 0.1894082874059677, 0.17888560891151428, 0.08944280445575714, 0.541918158531189, 0.9590750932693481, 0.28032007813453674, 0.3818645775318146, 0.08724246919155121, 0.2502857744693756, 0.9344186782836914, 0.9251965284347534, 0.5236337184906006, 0.4593278169631958, 0.00918655563145876, 0.10471713542938232, 0.8726427555084229, 0.9795694351196289, 0.2593705654144287, 0.3731760084629059, 0.08469242602586746, 0.2831903100013733, 0.262450248003006, 0.43227097392082214, 0.10034862160682678, 0.20841635763645172, 0.9906088709831238, 0.9489424228668213, 0.04379734396934509, 0.9980748295783997, 0.9829895496368408, 0.3583616018295288, 0.2580203711986542, 0.3010237514972687, 0.08122862875461578, 0.9213161468505859, 0.9093825817108154, 0.07869657129049301, 0.8510637879371643, 0.14893615245819092, 0.8977509140968323, 0.0997501015663147, 0.9615976810455322, 0.03354410454630852, 0.991412878036499, 0.4486728012561798, 0.2804205119609833, 0.24204716086387634, 0.029517946764826775, 0.9057313799858093], \"Term\": [\"accessory\", \"accessory\", \"accessory\", \"accord\", \"accord\", \"accord\", \"accord\", \"actually\", \"actually\", \"actually\", \"actually\", \"ai\", \"ai\", \"ai\", \"album\", \"allege\", \"also\", \"also\", \"also\", \"also\", \"amol\", \"analyst\", \"android\", \"android\", \"android\", \"android\", \"android_oreo\", \"android_oreo\", \"andy_rubin\", \"aperture\", \"aperture\", \"app\", \"app\", \"app\", \"app\", \"app_drawer\", \"appear\", \"appear\", \"appear\", \"appear\", \"apple\", \"apple\", \"apple\", \"apple\", \"applecare\", \"aspect_ratio\", \"automate\", \"automatically\", \"automatically\", \"automatically\", \"avatar\", \"back\", \"back\", \"back\", \"back\", \"be\", \"beer\", \"big\", \"big\", \"big\", \"big\", \"bionic\", \"bionic\", \"bixby\", \"bixby\", \"bloomberg\", \"bulk\", \"bumper\", \"button\", \"button\", \"button\", \"button_cover\", \"buy\", \"buy\", \"buy\", \"call\", \"call\", \"call\", \"call\", \"camera\", \"camera\", \"camera\", \"camera\", \"car\", \"carrier\", \"carrier\", \"carrier\", \"case\", \"case\", \"case\", \"ceramic\", \"click\", \"come\", \"come\", \"come\", \"come\", \"company\", \"company\", \"company\", \"company\", \"consumer\", \"consumer\", \"consumer\", \"consumer\", \"could\", \"could\", \"could\", \"could\", \"court\", \"customer\", \"customer\", \"damn\", \"deal\", \"deal\", \"deal\", \"deal\", \"default\", \"default\", \"density\", \"desert\", \"design\", \"design\", \"design\", \"design\", \"device\", \"device\", \"device\", \"device\", \"disable\", \"disable\", \"display\", \"display\", \"display\", \"display\", \"disturb\", \"dual\", \"dual\", \"earbud\", \"electric\", \"emui\", \"essential\", \"essential\", \"essential\", \"essential\", \"even\", \"even\", \"even\", \"even\", \"event\", \"event\", \"event\", \"face_id\", \"face_id\", \"face_id\", \"fast_charg\", \"feature\", \"feature\", \"feature\", \"feature\", \"fee\", \"feel\", \"feel\", \"feel\", \"feel\", \"find\", \"find\", \"find\", \"find\", \"first\", \"first\", \"first\", \"first\", \"fix\", \"fix\", \"fix\", \"flagship\", \"flagship\", \"flagship\", \"flagship\", \"food\", \"forum\", \"forum\", \"frames_per\", \"friday\", \"friday\", \"galaxy\", \"galaxy\", \"galaxy\", \"galaxy\", \"gb\", \"gb\", \"gb\", \"gb\", \"gear_icon\", \"gesture\", \"gesture\", \"gesture\", \"get\", \"get\", \"get\", \"get\", \"ghz\", \"go\", \"go\", \"go\", \"go\", \"good\", \"good\", \"good\", \"good\", \"gorilla_glass\", \"government\", \"government\", \"gt\", \"have\", \"headset\", \"home\", \"home\", \"home\", \"home\", \"honor\", \"honor\", \"htc\", \"htc\", \"huawei\", \"hydrogen\", \"ice_universe\", \"icon\", \"icon\", \"icon\", \"imessage\", \"inch\", \"inch\", \"inch\", \"inch\", \"iphone\", \"iphone\", \"iphone\", \"iphone\", \"iris\", \"keyssa\", \"kirin\", \"kirin_processor\", \"launch\", \"launch\", \"launch\", \"launch\", \"lawsuit\", \"leak\", \"leak\", \"leak\", \"leaker\", \"lease\", \"len\", \"lens\", \"lens\", \"lens\", \"let\", \"let\", \"let\", \"let\", \"light\", \"light\", \"light\", \"light\", \"lite\", \"lock\", \"lock\", \"lock\", \"look\", \"look\", \"look\", \"look\", \"loom_ai\", \"mah_battery\", \"mah_battery\", \"mah_battery\", \"make\", \"make\", \"make\", \"make\", \"mate\", \"mate\", \"mate_pro\", \"may\", \"may\", \"may\", \"may\", \"mclaren\", \"mclaren_edition\", \"megapixel\", \"megapixel\", \"megapixel\", \"microsd_card\", \"microsd_card\", \"mobile\", \"mobile\", \"mobile\", \"mobile\", \"mode\", \"mode\", \"mode\", \"model\", \"model\", \"model\", \"modern\", \"monochrome\", \"month\", \"month\", \"month\", \"month\", \"moto\", \"moto\", \"motorola\", \"motorola\", \"mouse\", \"mouse\", \"mph\", \"much\", \"much\", \"much\", \"much\", \"music\", \"music\", \"music\", \"network\", \"network\", \"network\", \"new\", \"new\", \"new\", \"new\", \"nikkei\", \"not\", \"not\", \"notch\", \"notch\", \"notch\", \"note\", \"note\", \"note\", \"note\", \"notification\", \"notification\", \"notification\", \"offer\", \"offer\", \"offer\", \"offer\", \"oneplus\", \"oneplus\", \"oneplus\", \"open\", \"open\", \"open\", \"open\", \"optical\", \"optical_image\", \"option\", \"option\", \"option\", \"option\", \"patent\", \"patent\", \"people\", \"people\", \"people\", \"people\", \"percentage\", \"ph\", \"phone\", \"phone\", \"phone\", \"phone\", \"photo\", \"photo\", \"photo\", \"pic\", \"pixel\", \"pixel\", \"pixel\", \"plan\", \"plan\", \"plan\", \"play\", \"play\", \"play\", \"pocket\", \"pocket\", \"pocket\", \"polaris\", \"price\", \"price\", \"price\", \"pro\", \"pro\", \"pro\", \"product\", \"product\", \"product\", \"product\", \"protect\", \"protect\", \"protect\", \"protection\", \"protection\", \"protection\", \"protection\", \"protective\", \"protector\", \"prototype\", \"quarter\", \"raise\", \"ram\", \"ram\", \"razer\", \"razer\", \"really\", \"really\", \"really\", \"really\", \"reddit\", \"register\", \"release\", \"release\", \"release\", \"release\", \"render\", \"render\", \"repair\", \"repair\", \"report\", \"report\", \"report\", \"report\", \"reportedly\", \"reportedly\", \"resolution\", \"resolution\", \"resolution\", \"revenue\", \"rubin\", \"rumor\", \"rumor\", \"rumor\", \"rumor\", \"rzr\", \"s\", \"sale\", \"sale\", \"sale\", \"samsung\", \"samsung\", \"samsung\", \"samsung\", \"say\", \"say\", \"say\", \"say\", \"schedule\", \"schedule\", \"schedule\", \"scooter\", \"scratch\", \"screen\", \"screen\", \"screen\", \"screen\", \"screenshot\", \"scroll\", \"secondary\", \"see\", \"see\", \"see\", \"see\", \"select\", \"select\", \"sell\", \"sell\", \"sell\", \"set\", \"set\", \"set\", \"set\", \"setting\", \"setting\", \"setting\", \"setting\", \"settings_gt\", \"shutter_button\", \"sleep\", \"sleep\", \"slider\", \"slider_next\", \"smartphone\", \"smartphone\", \"smartphone\", \"smartphone\", \"snapdragon\", \"snapdragon\", \"snapdragon\", \"snapdragon_processor\", \"song\", \"sony\", \"sony\", \"spam\", \"spec\", \"spec\", \"spec\", \"spec\", \"stand\", \"stand\", \"stand\", \"stand\", \"still\", \"still\", \"still\", \"still\", \"stock_android\", \"storage\", \"storage\", \"storage\", \"storage\", \"store\", \"store\", \"store\", \"store\", \"stylus\", \"suck\", \"super_slow\", \"suspension\", \"swipe\", \"swipe\", \"take\", \"take\", \"take\", \"take\", \"tap\", \"tap\", \"team\", \"test\", \"test\", \"test\", \"test\", \"texture\", \"that\", \"there\", \"thing\", \"thing\", \"thing\", \"thing\", \"thinq\", \"thinq\", \"throttle\", \"time\", \"time\", \"time\", \"time\", \"toggle\", \"truedepth\", \"turn\", \"turn\", \"turn\", \"turn\", \"uninstall\", \"use\", \"use\", \"use\", \"use\", \"vehicle\", \"verge\", \"verizon\", \"verizon\", \"verizon\", \"wake\", \"wake\", \"wallpaper\", \"want\", \"want\", \"want\", \"want\", \"way\", \"way\", \"way\", \"way\", \"will\", \"win\", \"win\", \"winner\", \"winner_tie\", \"would\", \"would\", \"would\", \"would\", \"xda_developer\", \"xperia_xz\", \"xperia_xz\", \"xr\", \"xr\", \"xs_max\", \"xs_max\", \"xz\", \"xz\", \"xz_premium\", \"year\", \"year\", \"year\", \"year\", \"zenfone_max\"]}, \"R\": 30, \"lambda.step\": 0.01, \"plot.opts\": {\"xlab\": \"PC1\", \"ylab\": \"PC2\"}, \"topic.order\": [1, 4, 2, 3]};\n",
       "\n",
       "function LDAvis_load_lib(url, callback){\n",
       "  var s = document.createElement('script');\n",
       "  s.src = url;\n",
       "  s.async = true;\n",
       "  s.onreadystatechange = s.onload = callback;\n",
       "  s.onerror = function(){console.warn(\"failed to load library \" + url);};\n",
       "  document.getElementsByTagName(\"head\")[0].appendChild(s);\n",
       "}\n",
       "\n",
       "if(typeof(LDAvis) !== \"undefined\"){\n",
       "   // already loaded: just create the visualization\n",
       "   !function(LDAvis){\n",
       "       new LDAvis(\"#\" + \"ldavis_el1939247765120324163836929\", ldavis_el1939247765120324163836929_data);\n",
       "   }(LDAvis);\n",
       "}else if(typeof define === \"function\" && define.amd){\n",
       "   // require.js is available: use it to load d3/LDAvis\n",
       "   require.config({paths: {d3: \"https://cdnjs.cloudflare.com/ajax/libs/d3/3.5.5/d3.min\"}});\n",
       "   require([\"d3\"], function(d3){\n",
       "      window.d3 = d3;\n",
       "      LDAvis_load_lib(\"https://cdn.rawgit.com/bmabey/pyLDAvis/files/ldavis.v1.0.0.js\", function(){\n",
       "        new LDAvis(\"#\" + \"ldavis_el1939247765120324163836929\", ldavis_el1939247765120324163836929_data);\n",
       "      });\n",
       "    });\n",
       "}else{\n",
       "    // require.js not available: dynamically load d3 & LDAvis\n",
       "    LDAvis_load_lib(\"https://cdnjs.cloudflare.com/ajax/libs/d3/3.5.5/d3.min.js\", function(){\n",
       "         LDAvis_load_lib(\"https://cdn.rawgit.com/bmabey/pyLDAvis/files/ldavis.v1.0.0.js\", function(){\n",
       "                 new LDAvis(\"#\" + \"ldavis_el1939247765120324163836929\", ldavis_el1939247765120324163836929_data);\n",
       "            })\n",
       "         });\n",
       "}\n",
       "</script>"
      ],
      "text/plain": [
       "PreparedData(topic_coordinates=              x         y  topics  cluster       Freq\n",
       "topic                                                \n",
       "0      0.016959  0.123868       1        1  43.238316\n",
       "3     -0.014417  0.021677       2        1  28.344805\n",
       "1     -0.144092 -0.065865       3        1  14.225886\n",
       "2      0.141550 -0.079680       4        1  14.190996, topic_info=     Category         Freq           Term        Total  loglift  logprob\n",
       "term                                                                    \n",
       "1196  Default  1231.000000         iphone  1231.000000  30.0000  30.0000\n",
       "89    Default  1106.000000          pixel  1106.000000  29.0000  29.0000\n",
       "4874  Default   318.000000      essential   318.000000  28.0000  28.0000\n",
       "1571  Default   583.000000         huawei   583.000000  27.0000  27.0000\n",
       "9     Default   483.000000            app   483.000000  26.0000  26.0000\n",
       "1176  Default   571.000000          apple   571.000000  25.0000  25.0000\n",
       "105   Default   801.000000         screen   801.000000  24.0000  24.0000\n",
       "665   Default   201.000000            tap   201.000000  23.0000  23.0000\n",
       "616   Default   606.000000        samsung   606.000000  22.0000  22.0000\n",
       "1580  Default   362.000000           moto   362.000000  21.0000  21.0000\n",
       "2334  Default   320.000000       mate_pro   320.000000  20.0000  20.0000\n",
       "148   Default   317.000000           case   317.000000  19.0000  19.0000\n",
       "26    Default   276.000000        company   276.000000  18.0000  18.0000\n",
       "572   Default   309.000000      megapixel   309.000000  17.0000  17.0000\n",
       "340   Default   367.000000           lens   367.000000  16.0000  16.0000\n",
       "682   Default   258.000000         winner   258.000000  15.0000  15.0000\n",
       "35    Default   543.000000         device   543.000000  14.0000  14.0000\n",
       "466   Default   699.000000            use   699.000000  13.0000  13.0000\n",
       "771   Default   243.000000           mode   243.000000  12.0000  12.0000\n",
       "543   Default   493.000000         galaxy   493.000000  11.0000  11.0000\n",
       "988   Default   121.000000        setting   121.000000  10.0000  10.0000\n",
       "196   Default   184.000000            set   184.000000   9.0000   9.0000\n",
       "596   Default   255.000000            ram   255.000000   8.0000   8.0000\n",
       "130   Default   190.000000           turn   190.000000   7.0000   7.0000\n",
       "956   Default    95.000000   notification    95.000000   6.0000   6.0000\n",
       "4353  Default   267.000000          razer   267.000000   5.0000   5.0000\n",
       "241   Default   217.000000         button   217.000000   4.0000   4.0000\n",
       "161   Default   771.000000        feature   771.000000   3.0000   3.0000\n",
       "184   Default   269.000000          price   269.000000   2.0000   2.0000\n",
       "37    Default   691.000000        display   691.000000   1.0000   1.0000\n",
       "...       ...          ...            ...          ...      ...      ...\n",
       "130    Topic4   103.360725           turn   190.065598   1.3434  -5.1158\n",
       "871    Topic4    48.188454  automatically    72.937462   1.5381  -5.8789\n",
       "486    Topic4    58.546349         appear    94.323425   1.4757  -5.6842\n",
       "45     Topic4    40.794323          event    59.335266   1.5779  -6.0455\n",
       "580    Topic4    58.219913           open    97.379776   1.4382  -5.6898\n",
       "61     Topic4    88.492638           home   177.096313   1.2588  -5.2711\n",
       "105    Topic4   261.372864         screen   801.020386   0.8326  -4.1881\n",
       "89     Topic4   277.160583          pixel  1106.433838   0.5683  -4.1295\n",
       "771    Topic4   101.168015           mode   243.239334   1.0753  -5.1373\n",
       "118    Topic4    47.639881          stand    80.047012   1.4336  -5.8904\n",
       "241    Topic4    88.168083         button   217.137970   1.0513  -5.2748\n",
       "466    Topic4   174.742874            use   699.200745   0.5659  -4.5907\n",
       "365    Topic4    91.454994         option   268.319550   0.8762  -5.2382\n",
       "16     Topic4    69.745872           call   167.592941   1.0759  -5.5092\n",
       "471    Topic4   107.452568           want   377.837799   0.6951  -5.0770\n",
       "311    Topic4   119.176140             go   464.419373   0.5924  -4.9735\n",
       "37     Topic4   143.307358        display   691.399780   0.3788  -4.7891\n",
       "88     Topic4   288.601318          phone  2917.717285  -0.3609  -4.0890\n",
       "161    Topic4   139.829819        feature   771.914795   0.2441  -4.8136\n",
       "202    Topic4   101.166313           time   447.177704   0.4664  -5.1373\n",
       "82     Topic4   132.466812            new   897.489807   0.0393  -4.8677\n",
       "620    Topic4    94.942520            see   469.683167   0.3538  -5.2008\n",
       "53     Topic4   113.881462            get   821.775574  -0.0237  -5.0189\n",
       "341    Topic4    63.582909          light   168.555084   0.9776  -5.6017\n",
       "586    Topic4    79.906586          photo   355.549438   0.4598  -5.3732\n",
       "4      Topic4   103.053604           also   895.010986  -0.2090  -5.1188\n",
       "78     Topic4    82.619705           make   631.262085  -0.0809  -5.3398\n",
       "17     Topic4    83.623024         camera  1224.662964  -0.7315  -5.3277\n",
       "79     Topic4    72.638069            may   459.418701   0.1081  -5.4686\n",
       "289    Topic4    69.943008           find   445.811035   0.1003  -5.5064\n",
       "\n",
       "[332 rows x 6 columns], token_table=      Topic      Freq           Term\n",
       "term                                \n",
       "1440      2  0.220732      accessory\n",
       "1440      3  0.640122      accessory\n",
       "1440      4  0.132439      accessory\n",
       "854       1  0.128729         accord\n",
       "854       2  0.128729         accord\n",
       "854       3  0.654375         accord\n",
       "854       4  0.085820         accord\n",
       "218       1  0.198682       actually\n",
       "218       2  0.643728       actually\n",
       "218       3  0.079473       actually\n",
       "218       4  0.071525       actually\n",
       "1540      1  0.207521             ai\n",
       "1540      2  0.754623             ai\n",
       "1540      4  0.037731             ai\n",
       "861       4  0.911347          album\n",
       "1780      3  0.961569         allege\n",
       "4         1  0.545245           also\n",
       "4         2  0.212288           also\n",
       "4         3  0.127373           also\n",
       "4         4  0.115082           also\n",
       "2266      1  0.968140           amol\n",
       "4924      3  0.875906        analyst\n",
       "484       1  0.691947        android\n",
       "484       2  0.090612        android\n",
       "484       3  0.098850        android\n",
       "484       4  0.115324        android\n",
       "693       1  0.975699   android_oreo\n",
       "693       4  0.015245   android_oreo\n",
       "6998      3  0.933577     andy_rubin\n",
       "1029      1  0.915526       aperture\n",
       "...     ...       ...            ...\n",
       "471       3  0.084692           want\n",
       "471       4  0.283190           want\n",
       "473       1  0.262450            way\n",
       "473       2  0.432271            way\n",
       "473       3  0.100349            way\n",
       "473       4  0.208416            way\n",
       "4032      2  0.990609           will\n",
       "681       1  0.948942            win\n",
       "681       3  0.043797            win\n",
       "682       1  0.998075         winner\n",
       "849       1  0.982990     winner_tie\n",
       "215       1  0.358362          would\n",
       "215       2  0.258020          would\n",
       "215       3  0.301024          would\n",
       "215       4  0.081229          would\n",
       "2971      4  0.921316  xda_developer\n",
       "3753      1  0.909383      xperia_xz\n",
       "3753      4  0.078697      xperia_xz\n",
       "2620      2  0.851064             xr\n",
       "2620      3  0.148936             xr\n",
       "2621      2  0.897751         xs_max\n",
       "2621      3  0.099750         xs_max\n",
       "684       1  0.961598             xz\n",
       "684       4  0.033544             xz\n",
       "7741      1  0.991413     xz_premium\n",
       "685       1  0.448673           year\n",
       "685       2  0.280421           year\n",
       "685       3  0.242047           year\n",
       "685       4  0.029518           year\n",
       "3561      2  0.905731    zenfone_max\n",
       "\n",
       "[609 rows x 3 columns], R=30, lambda_step=0.01, plot_opts={'xlab': 'PC1', 'ylab': 'PC2'}, topic_order=[1, 4, 2, 3])"
      ]
     },
     "execution_count": 23,
     "metadata": {},
     "output_type": "execute_result"
    }
   ],
   "source": [
    "# Visualize the topics\n",
    "pyLDAvis.enable_notebook()\n",
    "vis = pyLDAvis.gensim.prepare(lda, corpus, id2word)\n",
    "vis"
   ]
  },
  {
   "cell_type": "code",
   "execution_count": 24,
   "metadata": {},
   "outputs": [],
   "source": [
    "# # Download wordnet to find meaning of words, synonyms and antonyms\n",
    "# nltk.download('wordnet')\n",
    "\n",
    "# # Function to lemmatize and more words to their root\n",
    "# def get_lemma(word):\n",
    "#     lemma = wn.morphy(word)\n",
    "#     if lemma is None:\n",
    "#         return word\n",
    "#     else:\n",
    "#         return lemma\n",
    "    \n",
    "# # Compile set of stopwords\n",
    "# nltk.download('stopwords')\n",
    "# en_stop = set(nltk.corpus.stopwords.words('english'))\n",
    "\n",
    "# def prepare_text_for_lda(text):\n",
    "#     tokens = tokenize(text)\n",
    "#     tokens = [token for token in tokens if len(token) > 4]\n",
    "#     tokens = [token for token in tokens if token not in en_stop]\n",
    "#     tokens = [get_lemma(token) for token in tokens]\n",
    "#     return tokens\n",
    "\n",
    "# text_data = []\n",
    "\n",
    "# # Prepare training set for LDA\n",
    "# tokens = json_data['text'].apply(lambda x: prepare_text_for_lda(x))\n",
    "\n",
    "# # Prepare Dataframe for later\n",
    "# json_data['text'] = json_data['text'].apply(lambda x: prepare_text_for_lda(x))\n",
    "\n",
    "# # Append tokenized text to list of tokenized data\n",
    "# null = tokens.apply(lambda x: text_data.append(x))\n",
    "\n",
    "# # Assemble tokenized text data into a dictionary\n",
    "# dictionary = corpora.Dictionary(text_data)\n",
    "\n",
    "# # Create Bag of Words corpus from text data\n",
    "# corpus = [dictionary.doc2bow(text) for text in text_data]\n",
    "\n",
    "# # Create TF-IDF vectors from our bag of words\n",
    "# tfidf = models.TfidfModel(corpus)\n",
    "# corpus_tfidf = tfidf[corpus]\n",
    "\n",
    "\n",
    "# for doc in corpus_tfidf:\n",
    "#     pprint(doc)\n",
    "#     break\n",
    "    \n",
    "    \n",
    "# pickle.dump(corpus_tfidf, open('corpus_tfidf.pkl', 'wb'))\n",
    "# dictionary.save('dictionary.gensim')"
   ]
  },
  {
   "cell_type": "code",
   "execution_count": 25,
   "metadata": {},
   "outputs": [],
   "source": [
    "    # IPhone X\n",
    "    # S9\n",
    "    # Pixel 3\n",
    "    # Huawei Mate 20 Pro \n",
    "    # OnePlus 6T\n",
    "    # Huawei P2 Pro\n",
    "    # LG V4 Thinq\n",
    "    # Sony Xperia XZ3\n",
    "    # Essential Phone\n",
    "    # Razor Phone 2\n",
    "    # HTC U12+\n",
    "    # Moto G6 plus"
   ]
  },
  {
   "cell_type": "code",
   "execution_count": 26,
   "metadata": {},
   "outputs": [],
   "source": [
    "####\n",
    "\n",
    "## Was able to extract more distinct topics but the coherence and perplexity needs to imporve at least above 0.5-0.6\n",
    "## Try Mallet Model\n",
    "## Return and optimize models using what you learned, frequency terms, batchwise, etc.\n",
    "## Consider removing the name of the phones so that the model specifically looks for smarpthone topics, not which smartphone it is"
   ]
  }
 ],
 "metadata": {
  "kernelspec": {
   "display_name": "Python 3",
   "language": "python",
   "name": "python3"
  },
  "language_info": {
   "codemirror_mode": {
    "name": "ipython",
    "version": 3
   },
   "file_extension": ".py",
   "mimetype": "text/x-python",
   "name": "python",
   "nbconvert_exporter": "python",
   "pygments_lexer": "ipython3",
   "version": "3.6.5"
  }
 },
 "nbformat": 4,
 "nbformat_minor": 2
}
