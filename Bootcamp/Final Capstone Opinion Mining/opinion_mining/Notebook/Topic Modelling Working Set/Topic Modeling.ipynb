{
 "cells": [
  {
   "cell_type": "code",
   "execution_count": 1,
   "metadata": {},
   "outputs": [],
   "source": [
    "# Import Dependencies and modules\n",
    "import numpy as np\n",
    "import pandas as pd\n",
    "import scipy\n",
    "import sklearn\n",
    "import spacy\n",
    "from spacy.lang.en import English\n",
    "import matplotlib.pyplot as plt\n",
    "import seaborn as sns\n",
    "import re\n",
    "import string\n",
    "from string import punctuation\n",
    "from collections import Counter\n",
    "from io import StringIO\n",
    "from nltk.corpus import stopwords\n",
    "from nltk.corpus import wordnet as wn\n",
    "\n",
    "import nltk\n",
    "import glob\n",
    "import errno\n",
    "import os\n",
    "import json\n",
    "\n",
    "from pprint import pprint\n",
    "\n",
    "# Gensim\n",
    "import gensim\n",
    "import gensim.corpora as corpora\n",
    "from gensim.utils import simple_preprocess\n",
    "from gensim import models\n",
    "from gensim.models import CoherenceModel, TfidfModel\n",
    "\n",
    "# spacy for lemmatization\n",
    "import spacy\n",
    "\n",
    "# Plotting tools\n",
    "import pyLDAvis\n",
    "import pyLDAvis.gensim  # don't skip this\n",
    "import matplotlib.pyplot as plt\n",
    "\n",
    "\n",
    "%matplotlib inline"
   ]
  },
  {
   "cell_type": "markdown",
   "metadata": {},
   "source": [
    "# Load Data"
   ]
  },
  {
   "cell_type": "code",
   "execution_count": 2,
   "metadata": {},
   "outputs": [],
   "source": [
    "json_data = pd.DataFrame(columns = ['author', 'text', 'title'])"
   ]
  },
  {
   "cell_type": "code",
   "execution_count": 3,
   "metadata": {},
   "outputs": [],
   "source": [
    "# Define path to text files that contain the novels\n",
    "path = '/Users/ayankarim/Documents/Thinkful/Bootcamp/Final Capstone Opinion Mining/opinion_mining/Notebook/Topic Modelling Working Set/files/*.json'\n",
    "files = glob.glob(path)\n",
    "\n",
    "all_jsons = []\n",
    "\n",
    "for filenames in files:\n",
    "    with open(filenames, 'r') as f:\n",
    "        file = json.load(f)\n",
    "        all_jsons.append(file)\n"
   ]
  },
  {
   "cell_type": "code",
   "execution_count": 4,
   "metadata": {},
   "outputs": [],
   "source": [
    "for dicts in all_jsons:\n",
    "    df = pd.DataFrame(dicts)\n",
    "    json_data = json_data.append(df)"
   ]
  },
  {
   "cell_type": "code",
   "execution_count": 5,
   "metadata": {},
   "outputs": [
    {
     "data": {
      "text/html": [
       "<div>\n",
       "<style scoped>\n",
       "    .dataframe tbody tr th:only-of-type {\n",
       "        vertical-align: middle;\n",
       "    }\n",
       "\n",
       "    .dataframe tbody tr th {\n",
       "        vertical-align: top;\n",
       "    }\n",
       "\n",
       "    .dataframe thead th {\n",
       "        text-align: right;\n",
       "    }\n",
       "</style>\n",
       "<table border=\"1\" class=\"dataframe\">\n",
       "  <thead>\n",
       "    <tr style=\"text-align: right;\">\n",
       "      <th></th>\n",
       "      <th>author</th>\n",
       "      <th>text</th>\n",
       "      <th>title</th>\n",
       "    </tr>\n",
       "  </thead>\n",
       "  <tbody>\n",
       "    <tr>\n",
       "      <th>0</th>\n",
       "      <td>[\\n\\t\\t\\t\\t\\t\\tJulian Chokkattu\\t\\t\\t\\t\\t]</td>\n",
       "      <td>[&lt;p&gt;Google’s &lt;a href=\"https://store.google.com...</td>\n",
       "      <td>\\n\\t\\tGoogle will announce hardware on October...</td>\n",
       "    </tr>\n",
       "    <tr>\n",
       "      <th>1</th>\n",
       "      <td>[\\n\\t\\t\\t\\t\\t\\tChristian de Looper\\t\\t\\t\\t\\t]</td>\n",
       "      <td>[&lt;p&gt;Google finally unveiled the new &lt;a href=\"h...</td>\n",
       "      <td>\\n\\t\\tHere’s how to buy the new Google Pixel 3...</td>\n",
       "    </tr>\n",
       "    <tr>\n",
       "      <th>2</th>\n",
       "      <td>[\\n\\t\\t\\t\\t\\t\\tSimon Hill\\t\\t\\t\\t\\t]</td>\n",
       "      <td>[&lt;p&gt;If you plan to buy one of Google’s &lt;a href...</td>\n",
       "      <td>\\n\\t\\tThe best Pixel 3 cases and covers\\t</td>\n",
       "    </tr>\n",
       "    <tr>\n",
       "      <th>3</th>\n",
       "      <td>[\\n\\t\\t\\t\\t\\t\\tSimon Hill\\t\\t\\t\\t\\t]</td>\n",
       "      <td>[&lt;p&gt;As the developer of Android, Google turns ...</td>\n",
       "      <td>\\n\\t\\tGoogle Pixel 3 vs. Pixel 2 vs. Pixel: Pi...</td>\n",
       "    </tr>\n",
       "    <tr>\n",
       "      <th>4</th>\n",
       "      <td>[\\n\\t\\t\\t\\t\\t\\tSimon Hill\\t\\t\\t\\t\\t]</td>\n",
       "      <td>[&lt;p&gt;There are plenty of contenders in the &lt;a h...</td>\n",
       "      <td>\\n\\t\\tGoogle Pixel 3 vs. Samsung Galaxy S9: Wh...</td>\n",
       "    </tr>\n",
       "  </tbody>\n",
       "</table>\n",
       "</div>"
      ],
      "text/plain": [
       "                                          author  \\\n",
       "0     [\\n\\t\\t\\t\\t\\t\\tJulian Chokkattu\\t\\t\\t\\t\\t]   \n",
       "1  [\\n\\t\\t\\t\\t\\t\\tChristian de Looper\\t\\t\\t\\t\\t]   \n",
       "2           [\\n\\t\\t\\t\\t\\t\\tSimon Hill\\t\\t\\t\\t\\t]   \n",
       "3           [\\n\\t\\t\\t\\t\\t\\tSimon Hill\\t\\t\\t\\t\\t]   \n",
       "4           [\\n\\t\\t\\t\\t\\t\\tSimon Hill\\t\\t\\t\\t\\t]   \n",
       "\n",
       "                                                text  \\\n",
       "0  [<p>Google’s <a href=\"https://store.google.com...   \n",
       "1  [<p>Google finally unveiled the new <a href=\"h...   \n",
       "2  [<p>If you plan to buy one of Google’s <a href...   \n",
       "3  [<p>As the developer of Android, Google turns ...   \n",
       "4  [<p>There are plenty of contenders in the <a h...   \n",
       "\n",
       "                                               title  \n",
       "0  \\n\\t\\tGoogle will announce hardware on October...  \n",
       "1  \\n\\t\\tHere’s how to buy the new Google Pixel 3...  \n",
       "2          \\n\\t\\tThe best Pixel 3 cases and covers\\t  \n",
       "3  \\n\\t\\tGoogle Pixel 3 vs. Pixel 2 vs. Pixel: Pi...  \n",
       "4  \\n\\t\\tGoogle Pixel 3 vs. Samsung Galaxy S9: Wh...  "
      ]
     },
     "execution_count": 5,
     "metadata": {},
     "output_type": "execute_result"
    }
   ],
   "source": [
    "json_data.head()"
   ]
  },
  {
   "cell_type": "markdown",
   "metadata": {},
   "source": [
    "# Clean Data"
   ]
  },
  {
   "cell_type": "code",
   "execution_count": 6,
   "metadata": {},
   "outputs": [],
   "source": [
    "# Utility function for standard text cleaning.\n",
    "def text_cleaner(text):\n",
    "    # Visual inspection identifies a form of punctuation spaCy does not\n",
    "    # recognize: the double dash '--'.  Better get rid of it now!\n",
    "\n",
    "    text = str(text).replace(\"\\n\", \"\")\n",
    "    text = str(text).replace(\"\\t\", \"\")\n",
    "    text = str(text).replace(\"\\\\n\", \"\")\n",
    "    text = str(text).replace(\"\\\\t\", \"\")\n",
    "    text = str(text).replace(\"\\\\\", \"\")\n",
    "    text = str(text).replace(\"xa0\", \" \")\n",
    "    text = str(text).replace(\"\\'\", \"\")\n",
    "    text = re.sub(\"<p>\", \"\", str(text))\n",
    "    text = re.sub(\"</p>\", \"\", str(text))\n",
    "    text = re.sub(\"</a>\", \"\", str(text))\n",
    "    text = re.sub('<[^>]+>', \"\", str(text)) \n",
    "    text = str(text).replace(\"\\\\u2019\", \"\")\n",
    "    text = str(text).replace(\"\\\\u2013\", \"\")\n",
    "    text = str(text).replace(\"\\\\u2018\", \"\")\n",
    "    text = str(text).replace(\"\\\\u00a0\", \"\")\n",
    "    text = str(text).replace(\"\\\\u00a3\", \"\")\n",
    "    text = str(text).replace(\"\\u2014\", \"\")\n",
    "    text = str(text).replace(\"\\u201d\", \"\")\n",
    "    text = str(text).replace(\"\\u201c\", \"\")\n",
    "    return text\n"
   ]
  },
  {
   "cell_type": "code",
   "execution_count": 7,
   "metadata": {},
   "outputs": [],
   "source": [
    "# Define function to clean text\n",
    "def clean_text(df):\n",
    "    # Convert lists to strings and remove brackets\n",
    "    df['text'] = df['text'].astype(str)\n",
    "    df['author'] = df['author'].astype(str)\n",
    "\n",
    "    df['text'] = df['text'].map(lambda x: x.strip('[]'))\n",
    "    df['author'] = df['author'].map(lambda x: x.strip('[]'))\n",
    "\n",
    "    # Clean text\n",
    "    df['text'] = df['text'].apply(lambda x: text_cleaner(x))\n",
    "    df['title'] = df['title'].apply(lambda x: text_cleaner(x))\n",
    "    df['author'] = df['author'].apply(lambda x: text_cleaner(x))"
   ]
  },
  {
   "cell_type": "code",
   "execution_count": 8,
   "metadata": {},
   "outputs": [],
   "source": [
    "# Clean Text\n",
    "clean_text(json_data)"
   ]
  },
  {
   "cell_type": "code",
   "execution_count": 9,
   "metadata": {},
   "outputs": [],
   "source": [
    "# Reset index\n",
    "json_data = json_data.reset_index()\n",
    "json_data = json_data.drop(['index'], axis=1)"
   ]
  },
  {
   "cell_type": "code",
   "execution_count": 10,
   "metadata": {},
   "outputs": [
    {
     "data": {
      "text/html": [
       "<div>\n",
       "<style scoped>\n",
       "    .dataframe tbody tr th:only-of-type {\n",
       "        vertical-align: middle;\n",
       "    }\n",
       "\n",
       "    .dataframe tbody tr th {\n",
       "        vertical-align: top;\n",
       "    }\n",
       "\n",
       "    .dataframe thead th {\n",
       "        text-align: right;\n",
       "    }\n",
       "</style>\n",
       "<table border=\"1\" class=\"dataframe\">\n",
       "  <thead>\n",
       "    <tr style=\"text-align: right;\">\n",
       "      <th></th>\n",
       "      <th>author</th>\n",
       "      <th>text</th>\n",
       "      <th>title</th>\n",
       "    </tr>\n",
       "  </thead>\n",
       "  <tbody>\n",
       "    <tr>\n",
       "      <th>0</th>\n",
       "      <td>Julian Chokkattu</td>\n",
       "      <td>Google’s annual hardware launch event will tak...</td>\n",
       "      <td>Google will announce hardware on October 9, ne...</td>\n",
       "    </tr>\n",
       "    <tr>\n",
       "      <th>1</th>\n",
       "      <td>Christian de Looper</td>\n",
       "      <td>Google finally unveiled the new Google Pixel 3...</td>\n",
       "      <td>Here’s how to buy the new Google Pixel 3 and G...</td>\n",
       "    </tr>\n",
       "    <tr>\n",
       "      <th>2</th>\n",
       "      <td>Simon Hill</td>\n",
       "      <td>If you plan to buy one of Google’s Pixel 3 sma...</td>\n",
       "      <td>The best Pixel 3 cases and covers</td>\n",
       "    </tr>\n",
       "    <tr>\n",
       "      <th>3</th>\n",
       "      <td>Simon Hill</td>\n",
       "      <td>As the developer of Android, Google turns out ...</td>\n",
       "      <td>Google Pixel 3 vs. Pixel 2 vs. Pixel: Picking ...</td>\n",
       "    </tr>\n",
       "    <tr>\n",
       "      <th>4</th>\n",
       "      <td>Simon Hill</td>\n",
       "      <td>There are plenty of contenders in the Android ...</td>\n",
       "      <td>Google Pixel 3 vs. Samsung Galaxy S9: Which sm...</td>\n",
       "    </tr>\n",
       "  </tbody>\n",
       "</table>\n",
       "</div>"
      ],
      "text/plain": [
       "                author                                               text  \\\n",
       "0     Julian Chokkattu  Google’s annual hardware launch event will tak...   \n",
       "1  Christian de Looper  Google finally unveiled the new Google Pixel 3...   \n",
       "2           Simon Hill  If you plan to buy one of Google’s Pixel 3 sma...   \n",
       "3           Simon Hill  As the developer of Android, Google turns out ...   \n",
       "4           Simon Hill  There are plenty of contenders in the Android ...   \n",
       "\n",
       "                                               title  \n",
       "0  Google will announce hardware on October 9, ne...  \n",
       "1  Here’s how to buy the new Google Pixel 3 and G...  \n",
       "2                  The best Pixel 3 cases and covers  \n",
       "3  Google Pixel 3 vs. Pixel 2 vs. Pixel: Picking ...  \n",
       "4  Google Pixel 3 vs. Samsung Galaxy S9: Which sm...  "
      ]
     },
     "execution_count": 10,
     "metadata": {},
     "output_type": "execute_result"
    }
   ],
   "source": [
    "# Visualize dataframe\n",
    "json_data.head()"
   ]
  },
  {
   "cell_type": "markdown",
   "metadata": {},
   "source": [
    "# Pre-Process Data for NLP"
   ]
  },
  {
   "cell_type": "code",
   "execution_count": 11,
   "metadata": {},
   "outputs": [],
   "source": [
    "# # Tokenize text\n",
    "# df['text'] = df.apply(lambda row: nltk.word_tokenize(row['text']), axis=1)\n",
    "# df['title'] = df.apply(lambda row: nltk.word_tokenize(row['title']), axis=1)\n",
    "\n",
    "# # Remove Stopwords, or keep it, might be important for aspect based semantics\n",
    "# stop = stopwords.words('english')\n",
    "# df['text'] = df['text'].apply(lambda x: [item for item in x if item not in stop])\n",
    "# df['title'] = df['title'].apply(lambda x: [item for item in x if item not in stop])\n",
    "\n",
    "# # Lowercase everything\n",
    "# df['text'] = df['text'].astype(str)\n",
    "# df['text'] = df['text'].apply(lambda x: x.lower())\n",
    "\n",
    "# df['title'] = df['title'].astype(str)\n",
    "# df['title'] = df['title'].apply(lambda x: x.lower())\n",
    "\n",
    "# # remove all punctuations\n",
    "# df['text'] = df['text'].apply(lambda x: ''.join(c for c in x if c not in punctuation))\n",
    "# df['title'] = df['title'].apply(lambda x: ''.join(c for c in x if c not in punctuation))"
   ]
  },
  {
   "cell_type": "code",
   "execution_count": 12,
   "metadata": {},
   "outputs": [],
   "source": [
    "\n",
    "spacy.load('en')\n",
    "parser = English()\n",
    "\n",
    "# Function to tokenize text\n",
    "def tokenize(text):\n",
    "    lda_tokens = []\n",
    "    tokens  = parser(text)\n",
    "    for token in tokens:\n",
    "        if token.orth_.isspace():\n",
    "            continue\n",
    "        elif token.like_url:\n",
    "            lda_tokens.append('URL')\n",
    "        elif token.orth_.startswith('@'):\n",
    "            lda_tokens.append('SCREEN_NAME')\n",
    "        else:\n",
    "            lda_tokens.append(token.lower_)\n",
    "    return lda_tokens\n",
    "\n",
    "def sent_to_words(sentences):\n",
    "    for sentence in sentences:\n",
    "        yield(gensim.utils.simple_preprocess(str(sentence), deacc = True))\n",
    "        \n"
   ]
  },
  {
   "cell_type": "code",
   "execution_count": 13,
   "metadata": {},
   "outputs": [],
   "source": [
    "data = list(json_data['text'])\n",
    "\n",
    "data_words = list(sent_to_words(data))"
   ]
  },
  {
   "cell_type": "code",
   "execution_count": 14,
   "metadata": {},
   "outputs": [
    {
     "name": "stdout",
     "output_type": "stream",
     "text": [
      "[['google', 'annual', 'hardware', 'launch', 'event', 'will', 'take', 'place', 'on', 'october', 'in', 'new', 'york', 'city', 'the', 'company', 'sent', 'out', 'invites', 'to', 'media', 'including', 'digital', 'trends', 'confirming', 'the', 'date', 'which', 'had', 'leaked', 'in', 'august', 'the', 'date', 'and', 'venue', 'are', 'change', 'of', 'pace', 'considering', 'the', 'past', 'two', 'google', 'october', 'events', 'have', 'taken', 'place', 'in', 'san', 'francisco', 'on', 'october', 'the', 'company', 'is', 'widely', 'expected', 'to', 'launch', 'slew', 'of', 'hardware', 'products', 'ranging', 'from', 'smartphones', 'to', 'smart', 'home', 'devices', 'the', 'highlights', 'will', 'be', 'the', 'pixel', 'and', 'pixel', 'xl', 'successors', 'to', 'last', 'year', 'critically', 'acclaimed', 'pixel', 'and', 'pixel', 'xl', 'smartphones', 'there', 'have', 'been', 'an', 'alarmingly', 'high', 'number', 'of', 'leaks', 'for', 'the', 'pixel', 'series', 'and', 'if', 'true', 'we', 'know', 'quite', 'lot', 'about', 'the', 'phones', 'it', 'may', 'be', 'due', 'to', 'carelessness', 'recently', 'someone', 'left', 'pixel', 'in', 'the', 'back', 'of', 'lyft', 'separately', 'group', 'in', 'russia', 'claims', 'to', 'have', 'gotten', 'its', 'hands', 'on', 'shipment', 'of', 'pixel', 'xl', 'smartphones', 'and', 'even', 'posted', 'an', 'unboxing', 'video', 'showing', 'everything', 'you', 'get', 'in', 'the', 'box', 'the', 'pixel', 'xl', 'is', 'expected', 'to', 'have', 'notch', 'design', 'where', 'cutout', 'at', 'the', 'top', 'of', 'the', 'screen', 'houses', 'the', 'front', 'facing', 'camera', 'this', 'has', 'garnered', 'some', 'criticism', 'as', 'the', 'notch', 'on', 'the', 'pixel', 'xl', 'looks', 'unusually', 'large', 'the', 'smaller', 'pixel', 'may', 'have', 'more', 'traditional', 'design', 'with', 'slimmer', 'bezels', 'on', 'the', 'top', 'and', 'bottom', 'you', 'can', 'learn', 'more', 'about', 'the', 'two', 'phones', 'in', 'our', 'pixel', 'roundup', 'as', 'the', 'new', 'pixel', 'devices', 'are', 'rumored', 'to', 'support', 'wireless', 'charging', 'leaks', 'suggest', 'google', 'will', 'also', 'announce', 'the', 'pixel', 'stand', 'wireless', 'charging', 'dock', 'that', 'also', 'turns', 'the', 'phone', 'screen', 'into', 'smart', 'display', 'for', 'google', 'assistant', 'similar', 'to', 'what', 'lenovo', 'offers', 'with', 'its', 'smart', 'display', 'google', 'is', 'also', 'rumored', 'to', 'be', 'launch', 'its', 'own', 'smart', 'display', 'to', 'compete', 'with', 'the', 'likes', 'of', 'amazon', 'echo', 'show', 'it', 'will', 'essentially', 'be', 'google', 'home', 'with', 'screen', 'you', 'll', 'be', 'able', 'to', 'access', 'youtube', 'videos', 'with', 'your', 'voice', 'thanks', 'to', 'google', 'assistant', 'and', 'make', 'video', 'calls', 'with', 'google', 'duo', 'app', 'other', 'products', 'rumored', 'to', 'be', 'on', 'the', 'docket', 'are', 'two', 'pixelbooks', 'which', 'are', 'chromebooks', 'from', 'google', 'running', 'chrome', 'os', 'and', 'potential', 'followup', 'to', 'the', 'google', 'pixel', 'buds', 'there', 'likely', 'more', 'google', 'will', 'announce', 'at', 'the', 'event', 'that', 'we', 'haven', 'heard', 'much', 'about', 'for', 'example', 'last', 'year', 'google', 'clips', 'announcement', 'came', 'as', 'surprise', 'digital', 'trends', 'will', 'be', 'on', 'the', 'scene', 'in', 'new', 'york', 'on', 'october', 'reporting', 'on', 'everything', 'google', 'will', 'announce', 'so', 'stay', 'tuned']]\n"
     ]
    }
   ],
   "source": [
    "print(data_words[:1])"
   ]
  },
  {
   "cell_type": "code",
   "execution_count": 15,
   "metadata": {},
   "outputs": [],
   "source": [
    "# Create Bigrams and Trigrams\n",
    "\n",
    "# Build the models\n",
    "bigram = gensim.models.Phrases(data_words, min_count=5, threshold=100)\n",
    "trigram = gensim.models.Phrases(bigram[data_words], threshold=100)\n",
    "\n",
    "# fast way to get a sentece clubbed as a bigram/trigram\n",
    "bigram_mod = gensim.models.phrases.Phraser(bigram)\n",
    "trigram_mod = gensim.models.phrases.Phraser(trigram)"
   ]
  },
  {
   "cell_type": "code",
   "execution_count": 16,
   "metadata": {},
   "outputs": [
    {
     "name": "stdout",
     "output_type": "stream",
     "text": [
      "['google', 'annual', 'hardware', 'launch', 'event', 'will', 'take', 'place', 'on', 'october', 'in', 'new', 'york', 'city', 'the', 'company', 'sent', 'out', 'invites', 'to', 'media', 'including', 'digital_trends', 'confirming', 'the', 'date', 'which', 'had', 'leaked', 'in', 'august', 'the', 'date', 'and', 'venue', 'are', 'change', 'of', 'pace', 'considering', 'the', 'past', 'two', 'google', 'october', 'events', 'have', 'taken', 'place', 'in', 'san', 'francisco', 'on', 'october', 'the', 'company', 'is', 'widely', 'expected', 'to', 'launch', 'slew', 'of', 'hardware', 'products', 'ranging', 'from', 'smartphones', 'to', 'smart', 'home', 'devices', 'the', 'highlights', 'will', 'be', 'the', 'pixel', 'and', 'pixel', 'xl', 'successors', 'to', 'last_year', 'critically', 'acclaimed', 'pixel', 'and', 'pixel', 'xl', 'smartphones', 'there', 'have', 'been', 'an', 'alarmingly', 'high', 'number', 'of', 'leaks', 'for', 'the', 'pixel', 'series', 'and', 'if', 'true', 'we', 'know', 'quite', 'lot', 'about', 'the', 'phones', 'it', 'may', 'be', 'due', 'to', 'carelessness', 'recently', 'someone', 'left', 'pixel', 'in', 'the', 'back', 'of', 'lyft', 'separately', 'group', 'in', 'russia', 'claims', 'to', 'have', 'gotten', 'its', 'hands', 'on', 'shipment', 'of', 'pixel', 'xl', 'smartphones', 'and', 'even', 'posted', 'an', 'unboxing', 'video', 'showing', 'everything', 'you', 'get', 'in', 'the', 'box', 'the', 'pixel', 'xl', 'is', 'expected', 'to', 'have', 'notch', 'design', 'where', 'cutout', 'at', 'the', 'top', 'of', 'the', 'screen', 'houses', 'the', 'front_facing', 'camera', 'this', 'has', 'garnered', 'some', 'criticism', 'as', 'the', 'notch', 'on', 'the', 'pixel', 'xl', 'looks', 'unusually', 'large', 'the', 'smaller', 'pixel', 'may', 'have', 'more', 'traditional', 'design', 'with', 'slimmer', 'bezels', 'on', 'the', 'top', 'and', 'bottom', 'you', 'can', 'learn', 'more', 'about', 'the', 'two', 'phones', 'in', 'our', 'pixel', 'roundup', 'as', 'the', 'new', 'pixel', 'devices', 'are', 'rumored', 'to', 'support', 'wireless_charging', 'leaks', 'suggest', 'google', 'will', 'also', 'announce', 'the', 'pixel', 'stand', 'wireless_charging', 'dock', 'that', 'also', 'turns', 'the', 'phone', 'screen', 'into', 'smart', 'display', 'for', 'google', 'assistant', 'similar', 'to', 'what', 'lenovo', 'offers', 'with', 'its', 'smart', 'display', 'google', 'is', 'also', 'rumored', 'to', 'be', 'launch', 'its', 'own', 'smart', 'display', 'to', 'compete', 'with', 'the', 'likes', 'of', 'amazon', 'echo', 'show', 'it', 'will', 'essentially', 'be', 'google', 'home', 'with', 'screen', 'you', 'll', 'be', 'able', 'to', 'access', 'youtube', 'videos', 'with', 'your', 'voice', 'thanks', 'to', 'google', 'assistant', 'and', 'make', 'video', 'calls', 'with', 'google', 'duo', 'app', 'other', 'products', 'rumored', 'to', 'be', 'on', 'the', 'docket', 'are', 'two', 'pixelbooks', 'which', 'are', 'chromebooks', 'from', 'google', 'running', 'chrome_os', 'and', 'potential', 'followup', 'to', 'the', 'google', 'pixel', 'buds', 'there', 'likely', 'more', 'google', 'will', 'announce', 'at', 'the', 'event', 'that', 'we', 'haven', 'heard', 'much', 'about', 'for', 'example', 'last_year', 'google', 'clips', 'announcement', 'came', 'as', 'surprise', 'digital_trends', 'will', 'be', 'on', 'the', 'scene', 'in', 'new', 'york', 'on', 'october', 'reporting', 'on', 'everything', 'google', 'will', 'announce', 'so', 'stay', 'tuned']\n"
     ]
    }
   ],
   "source": [
    "print(trigram_mod[bigram_mod[data_words[0]]])"
   ]
  },
  {
   "cell_type": "code",
   "execution_count": 17,
   "metadata": {},
   "outputs": [],
   "source": [
    "# Remove Stopwords, make bigrams and lemmatize\n",
    "stop_words = stopwords.words('english')\n",
    "#stop_words.extend(['from', 'subject', 're', 'edu', 'use'])\n",
    "\n",
    "\n",
    "# Define functions for stopwords, bigrams, trigrams and lemmatization\n",
    "def remove_stopwords(texts):\n",
    "    return [[word for word in simple_preprocess(str(doc)) if word not in stop_words] for doc in texts]\n",
    "\n",
    "def make_bigrams(texts):\n",
    "    return [bigram_mod[doc] for doc in texts]\n",
    "\n",
    "def make_trigrams(texts):\n",
    "    return [trigram_mod[bigram_mod[doc]] for doc in texts]\n",
    "\n",
    "def lemmatization(texts, allowed_postags=['NOUN', 'ADJ', 'VERB', 'ADV']):\n",
    "    \"\"\"https://spacy.io/api/annotation\"\"\"\n",
    "    texts_out = []\n",
    "    for sent in texts:\n",
    "        doc = nlp(\" \".join(sent)) \n",
    "        texts_out.append([token.lemma_ for token in doc if token.pos_ in allowed_postags])\n",
    "    return texts_out"
   ]
  },
  {
   "cell_type": "code",
   "execution_count": 18,
   "metadata": {
    "scrolled": true
   },
   "outputs": [
    {
     "name": "stdout",
     "output_type": "stream",
     "text": [
      "[['google', 'annual', 'hardware', 'launch', 'event', 'take', 'place', 'october', 'new', 'york', 'city', 'company', 'send', 'invite', 'medium', 'include', 'digital_trend', 'confirm', 'date', 'leak', 'august', 'date', 'venue', 'change', 'pace', 'consider', 'october', 'event', 'take', 'place', 'san', 'francisco', 'october', 'company', 'widely', 'expect', 'launch', 'slay', 'hardware', 'product', 'range', 'smartphone', 'smart', 'home', 'device', 'highlight', 'pixel', 'pixel', 'successor', 'last_year', 'critically', 'acclaim', 'pixel', 'pixel', 'smartphone', 'alarmingly', 'high', 'number', 'leak', 'pixel', 'series', 'true', 'know', 'quite', 'lot', 'phone', 'may', 'due', 'carelessness', 'recently', 'someone', 'leave', 'pixel', 'lyft', 'separately', 'group', 'russia', 'claim', 'get', 'hand', 'shipment', 'pixel', 'smartphone', 'even', 'post', 'unbox', 'video', 'show', 'everything', 'get', 'box', 'pixel', 'expect', 'notch', 'design', 'cutout', 'top', 'screen', 'house', 'front_fac', 'camera', 'garner', 'criticism', 'notch', 'pixel', 'look', 'unusually', 'large', 'small', 'pixel', 'may', 'traditional', 'design', 'slim', 'bezel', 'top', 'bottom', 'learn', 'phone', 'pixel', 'roundup', 'new', 'pixel', 'device', 'rumor', 'support', 'wireless_charging', 'leak', 'suggest', 'also', 'announce', 'pixel', 'stand', 'wireless_charging', 'dock', 'also', 'turn', 'phone', 'screen', 'smart', 'display', 'assistant', 'similar', 'lenovo', 'offer', 'smart', 'display', 'also', 'rumor', 'launch', 'smart', 'display', 'compete', 'like', 'amazon', 'echo', 'show', 'essentially', 'home', 'screen', 'able', 'access', 'youtube', 'video', 'voice', 'thank', 'assistant', 'make', 'video', 'call', 'duo', 'app', 'product', 'rumor', 'docket', 'pixelbook', 'chromebook', 'run', 'chrome_os', 'potential', 'followup', 'pixel', 'bud', 'likely', 'announce', 'event', 'hear', 'much', 'example', 'last_year', 'clip', 'announcement', 'come', 'surprise', 'digital_trend', 'scene', 'new', 'york', 'october', 'report', 'everything', 'announce', 'stay', 'tune']]\n"
     ]
    }
   ],
   "source": [
    "# Remove Stop Words\n",
    "data_words_nostops = remove_stopwords(data_words)\n",
    "\n",
    "# Form Bigrams\n",
    "data_words_bigrams = make_bigrams(data_words_nostops)\n",
    "\n",
    "# Initialize spacy 'en' model, keeping only tagger component (for efficiency)\n",
    "# python3 -m spacy download en\n",
    "nlp = spacy.load('en', disable=['parser', 'ner'])\n",
    "\n",
    "# Do lemmatization keeping only noun, adj, vb, adv\n",
    "data_lemmatized = lemmatization(data_words_bigrams, allowed_postags=['NOUN', 'ADJ', 'VERB', 'ADV'])\n",
    "\n",
    "print(data_lemmatized[:1])"
   ]
  },
  {
   "cell_type": "code",
   "execution_count": null,
   "metadata": {},
   "outputs": [],
   "source": [
    "# Create Dictionary\n",
    "id2word = corpora.Dictionary(data_lemmatized)\n",
    "\n",
    "# Create Corpus\n",
    "texts = data_lemmatized\n",
    "\n",
    "# Term Document Frequency\n",
    "corpus = [id2word.doc2bow(text) for text in texts]"
   ]
  },
  {
   "cell_type": "code",
   "execution_count": 36,
   "metadata": {
    "scrolled": true
   },
   "outputs": [],
   "source": [
    "gensim.corpora.MmCorpus.serialize('MmCorpusTest.mm', corpus)"
   ]
  },
  {
   "cell_type": "code",
   "execution_count": 56,
   "metadata": {},
   "outputs": [],
   "source": [
    "# pixel, iphone, samsung, apple, essential, xs_max, huawei, galaxy, note, moto, oneplus, android, mate_pro, lg, sony, razor, htc\n",
    "\n",
    "stop_words_lst = ['pixel', 'iphone', 'samsung', 'apple', 'essential', 'xs_max', \n",
    "                  'huawei', 'galaxy', 'note', 'moto', 'oneplus', 'android', 'mate_pro', 'lg', 'sony', 'razor', 'razor']\n"
   ]
  },
  {
   "cell_type": "code",
   "execution_count": 69,
   "metadata": {},
   "outputs": [
    {
     "ename": "TypeError",
     "evalue": "unhashable type: 'list'",
     "output_type": "error",
     "traceback": [
      "\u001b[0;31m---------------------------------------------------------------------------\u001b[0m",
      "\u001b[0;31mTypeError\u001b[0m                                 Traceback (most recent call last)",
      "\u001b[0;32m<ipython-input-69-d311a5f33677>\u001b[0m in \u001b[0;36m<module>\u001b[0;34m\u001b[0m\n\u001b[1;32m      1\u001b[0m \u001b[0mremove\u001b[0m \u001b[0;34m=\u001b[0m \u001b[0;34m'|'\u001b[0m\u001b[0;34m.\u001b[0m\u001b[0mjoin\u001b[0m\u001b[0;34m(\u001b[0m\u001b[0mstop_words_lst\u001b[0m\u001b[0;34m)\u001b[0m\u001b[0;34m\u001b[0m\u001b[0m\n\u001b[1;32m      2\u001b[0m \u001b[0;34m\u001b[0m\u001b[0m\n\u001b[0;32m----> 3\u001b[0;31m \u001b[0mregex\u001b[0m \u001b[0;34m=\u001b[0m \u001b[0mre\u001b[0m\u001b[0;34m.\u001b[0m\u001b[0mcompile\u001b[0m\u001b[0;34m(\u001b[0m\u001b[0;34mr'\\b('\u001b[0m\u001b[0;34m+\u001b[0m\u001b[0mremove\u001b[0m\u001b[0;34m+\u001b[0m\u001b[0;34mr')\\b'\u001b[0m\u001b[0;34m,\u001b[0m \u001b[0mtexts\u001b[0m\u001b[0;34m)\u001b[0m\u001b[0;34m\u001b[0m\u001b[0m\n\u001b[0m",
      "\u001b[0;32m/usr/local/Cellar/python/3.6.5_1/Frameworks/Python.framework/Versions/3.6/lib/python3.6/re.py\u001b[0m in \u001b[0;36mcompile\u001b[0;34m(pattern, flags)\u001b[0m\n\u001b[1;32m    231\u001b[0m \u001b[0;32mdef\u001b[0m \u001b[0mcompile\u001b[0m\u001b[0;34m(\u001b[0m\u001b[0mpattern\u001b[0m\u001b[0;34m,\u001b[0m \u001b[0mflags\u001b[0m\u001b[0;34m=\u001b[0m\u001b[0;36m0\u001b[0m\u001b[0;34m)\u001b[0m\u001b[0;34m:\u001b[0m\u001b[0;34m\u001b[0m\u001b[0m\n\u001b[1;32m    232\u001b[0m     \u001b[0;34m\"Compile a regular expression pattern, returning a pattern object.\"\u001b[0m\u001b[0;34m\u001b[0m\u001b[0m\n\u001b[0;32m--> 233\u001b[0;31m     \u001b[0;32mreturn\u001b[0m \u001b[0m_compile\u001b[0m\u001b[0;34m(\u001b[0m\u001b[0mpattern\u001b[0m\u001b[0;34m,\u001b[0m \u001b[0mflags\u001b[0m\u001b[0;34m)\u001b[0m\u001b[0;34m\u001b[0m\u001b[0m\n\u001b[0m\u001b[1;32m    234\u001b[0m \u001b[0;34m\u001b[0m\u001b[0m\n\u001b[1;32m    235\u001b[0m \u001b[0;32mdef\u001b[0m \u001b[0mpurge\u001b[0m\u001b[0;34m(\u001b[0m\u001b[0;34m)\u001b[0m\u001b[0;34m:\u001b[0m\u001b[0;34m\u001b[0m\u001b[0m\n",
      "\u001b[0;32m/usr/local/Cellar/python/3.6.5_1/Frameworks/Python.framework/Versions/3.6/lib/python3.6/re.py\u001b[0m in \u001b[0;36m_compile\u001b[0;34m(pattern, flags)\u001b[0m\n\u001b[1;32m    287\u001b[0m     \u001b[0;31m# internal: compile pattern\u001b[0m\u001b[0;34m\u001b[0m\u001b[0;34m\u001b[0m\u001b[0m\n\u001b[1;32m    288\u001b[0m     \u001b[0;32mtry\u001b[0m\u001b[0;34m:\u001b[0m\u001b[0;34m\u001b[0m\u001b[0m\n\u001b[0;32m--> 289\u001b[0;31m         \u001b[0mp\u001b[0m\u001b[0;34m,\u001b[0m \u001b[0mloc\u001b[0m \u001b[0;34m=\u001b[0m \u001b[0m_cache\u001b[0m\u001b[0;34m[\u001b[0m\u001b[0mtype\u001b[0m\u001b[0;34m(\u001b[0m\u001b[0mpattern\u001b[0m\u001b[0;34m)\u001b[0m\u001b[0;34m,\u001b[0m \u001b[0mpattern\u001b[0m\u001b[0;34m,\u001b[0m \u001b[0mflags\u001b[0m\u001b[0;34m]\u001b[0m\u001b[0;34m\u001b[0m\u001b[0m\n\u001b[0m\u001b[1;32m    290\u001b[0m         \u001b[0;32mif\u001b[0m \u001b[0mloc\u001b[0m \u001b[0;32mis\u001b[0m \u001b[0;32mNone\u001b[0m \u001b[0;32mor\u001b[0m \u001b[0mloc\u001b[0m \u001b[0;34m==\u001b[0m \u001b[0m_locale\u001b[0m\u001b[0;34m.\u001b[0m\u001b[0msetlocale\u001b[0m\u001b[0;34m(\u001b[0m\u001b[0m_locale\u001b[0m\u001b[0;34m.\u001b[0m\u001b[0mLC_CTYPE\u001b[0m\u001b[0;34m)\u001b[0m\u001b[0;34m:\u001b[0m\u001b[0;34m\u001b[0m\u001b[0m\n\u001b[1;32m    291\u001b[0m             \u001b[0;32mreturn\u001b[0m \u001b[0mp\u001b[0m\u001b[0;34m\u001b[0m\u001b[0m\n",
      "\u001b[0;31mTypeError\u001b[0m: unhashable type: 'list'"
     ]
    }
   ],
   "source": [
    "remove = '|'.join(stop_words_lst)\n",
    "\n",
    "regex = re.compile(r'\\b('+remove+r')\\b', texts)"
   ]
  },
  {
   "cell_type": "code",
   "execution_count": null,
   "metadata": {},
   "outputs": [],
   "source": [
    "import re\n",
    "for w in stop_words_lst:\n",
    "    pattern = r'\\b'+w+r'\\b'\n",
    "    for doc in texts:\n",
    "        texts = re.sub(pattern, '', doc)"
   ]
  },
  {
   "cell_type": "code",
   "execution_count": 45,
   "metadata": {},
   "outputs": [
    {
     "data": {
      "text/plain": [
       "str"
      ]
     },
     "execution_count": 45,
     "metadata": {},
     "output_type": "execute_result"
    }
   ],
   "source": [
    "type(data_lemmatized[:1][0][0])"
   ]
  },
  {
   "cell_type": "code",
   "execution_count": 20,
   "metadata": {},
   "outputs": [
    {
     "name": "stdout",
     "output_type": "stream",
     "text": [
      "[[(0, 1), (1, 1), (2, 1), (3, 1), (4, 3), (5, 1), (6, 3), (7, 1), (8, 1), (9, 1), (10, 2), (11, 1), (12, 1), (13, 1), (14, 1), (15, 1), (16, 1), (17, 1), (18, 1), (19, 1), (20, 1), (21, 1), (22, 1), (23, 1), (24, 1), (25, 1), (26, 2), (27, 1), (28, 1), (29, 1), (30, 1), (31, 1), (32, 1), (33, 2), (34, 2), (35, 2), (36, 2), (37, 3), (38, 1), (39, 1), (40, 1), (41, 1), (42, 1), (43, 1), (44, 1), (45, 3), (46, 2), (47, 1), (48, 2), (49, 1), (50, 1), (51, 1), (52, 1), (53, 2), (54, 1), (55, 1), (56, 1), (57, 2), (58, 1), (59, 1), (60, 1), (61, 2), (62, 1), (63, 1), (64, 1), (65, 1), (66, 1), (67, 2), (68, 3), (69, 3), (70, 1), (71, 1), (72, 1), (73, 1), (74, 1), (75, 1), (76, 1), (77, 1), (78, 1), (79, 2), (80, 1), (81, 1), (82, 3), (83, 2), (84, 1), (85, 4), (86, 1), (87, 1), (88, 3), (89, 14), (90, 1), (91, 2), (92, 1), (93, 1), (94, 2), (95, 1), (96, 1), (97, 1), (98, 1), (99, 1), (100, 3), (101, 1), (102, 1), (103, 1), (104, 1), (105, 3), (106, 1), (107, 1), (108, 1), (109, 1), (110, 2), (111, 1), (112, 1), (113, 1), (114, 1), (115, 4), (116, 3), (117, 1), (118, 1), (119, 1), (120, 1), (121, 1), (122, 1), (123, 1), (124, 2), (125, 1), (126, 2), (127, 1), (128, 1), (129, 1), (130, 1), (131, 1), (132, 1), (133, 1), (134, 3), (135, 1), (136, 1), (137, 2), (138, 2), (139, 1)]]\n"
     ]
    }
   ],
   "source": [
    "# View\n",
    "print(corpus[:1])"
   ]
  },
  {
   "cell_type": "code",
   "execution_count": 21,
   "metadata": {},
   "outputs": [],
   "source": [
    "# Build the lda topic model\n",
    "\n",
    "lda = gensim.models.ldamodel.LdaModel(corpus=corpus,\n",
    "                                      id2word=id2word,\n",
    "                                      num_topics=3, \n",
    "                                      random_state=100,\n",
    "                                      update_every=1,\n",
    "                                      chunksize=50,\n",
    "                                      passes=100,\n",
    "                                      alpha='auto',\n",
    "                                      per_word_topics=True)"
   ]
  },
  {
   "cell_type": "code",
   "execution_count": 22,
   "metadata": {},
   "outputs": [
    {
     "name": "stdout",
     "output_type": "stream",
     "text": [
      "[(0,\n",
      "  '0.034*\"phone\" + 0.014*\"camera\" + 0.009*\"also\" + 0.008*\"good\" + '\n",
      "  '0.008*\"feature\" + 0.008*\"display\" + 0.008*\"new\" + 0.007*\"get\" + '\n",
      "  '0.007*\"come\" + 0.007*\"samsung\"'),\n",
      " (1,\n",
      "  '0.036*\"iphone\" + 0.016*\"apple\" + 0.010*\"phone\" + 0.010*\"case\" + '\n",
      "  '0.009*\"essential\" + 0.007*\"new\" + 0.006*\"company\" + 0.006*\"device\" + '\n",
      "  '0.006*\"make\" + 0.005*\"use\"'),\n",
      " (2,\n",
      "  '0.021*\"pixel\" + 0.014*\"phone\" + 0.012*\"screen\" + 0.012*\"app\" + 0.010*\"use\" '\n",
      "  '+ 0.008*\"camera\" + 0.008*\"photo\" + 0.007*\"feature\" + 0.007*\"get\" + '\n",
      "  '0.007*\"new\"')]\n"
     ]
    }
   ],
   "source": [
    "# Print the key words in the 10 topics\n",
    "pprint(lda.print_topics())\n",
    "doc_lda = lda[corpus]"
   ]
  },
  {
   "cell_type": "code",
   "execution_count": 23,
   "metadata": {},
   "outputs": [
    {
     "name": "stdout",
     "output_type": "stream",
     "text": [
      "\n",
      "Perplexity:  -7.299478807097001\n",
      "\n",
      "Coherence Score:  0.2804162950425502\n"
     ]
    }
   ],
   "source": [
    "# Evaluate how good the model is\n",
    "\n",
    "# Compute perplexity\n",
    "print('\\nPerplexity: ', lda.log_perplexity(corpus)) # Lower the better\n",
    "\n",
    "# Compute Coherence\n",
    "coherenece_model_lda = CoherenceModel(model=lda, texts=data_lemmatized, dictionary=id2word, coherence='c_v' )\n",
    "coherence_lda = coherenece_model_lda.get_coherence()\n",
    "print('\\nCoherence Score: ', coherence_lda)"
   ]
  },
  {
   "cell_type": "code",
   "execution_count": 24,
   "metadata": {},
   "outputs": [
    {
     "name": "stderr",
     "output_type": "stream",
     "text": [
      "/usr/local/lib/python3.6/site-packages/pyLDAvis/_prepare.py:257: FutureWarning: Sorting because non-concatenation axis is not aligned. A future version\n",
      "of pandas will change to not sort by default.\n",
      "\n",
      "To accept the future behavior, pass 'sort=False'.\n",
      "\n",
      "To retain the current behavior and silence the warning, pass 'sort=True'.\n",
      "\n",
      "  return pd.concat([default_term_info] + list(topic_dfs))\n"
     ]
    },
    {
     "data": {
      "text/html": [
       "\n",
       "<link rel=\"stylesheet\" type=\"text/css\" href=\"https://cdn.rawgit.com/bmabey/pyLDAvis/files/ldavis.v1.0.0.css\">\n",
       "\n",
       "\n",
       "<div id=\"ldavis_el3231948666854725238164050\"></div>\n",
       "<script type=\"text/javascript\">\n",
       "\n",
       "var ldavis_el3231948666854725238164050_data = {\"mdsDat\": {\"x\": [-0.03898897205439026, -0.0963811633177038, 0.13537013537209405], \"y\": [-0.11278518744717855, 0.08485443113111009, 0.02793075631606846], \"topics\": [1, 2, 3], \"cluster\": [1, 1, 1], \"Freq\": [56.60369873046875, 26.281482696533203, 17.11481475830078]}, \"tinfo\": {\"Category\": [\"Default\", \"Default\", \"Default\", \"Default\", \"Default\", \"Default\", \"Default\", \"Default\", \"Default\", \"Default\", \"Default\", \"Default\", \"Default\", \"Default\", \"Default\", \"Default\", \"Default\", \"Default\", \"Default\", \"Default\", \"Default\", \"Default\", \"Default\", \"Default\", \"Default\", \"Default\", \"Default\", \"Default\", \"Default\", \"Default\", \"Topic1\", \"Topic1\", \"Topic1\", \"Topic1\", \"Topic1\", \"Topic1\", \"Topic1\", \"Topic1\", \"Topic1\", \"Topic1\", \"Topic1\", \"Topic1\", \"Topic1\", \"Topic1\", \"Topic1\", \"Topic1\", \"Topic1\", \"Topic1\", \"Topic1\", \"Topic1\", \"Topic1\", \"Topic1\", \"Topic1\", \"Topic1\", \"Topic1\", \"Topic1\", \"Topic1\", \"Topic1\", \"Topic1\", \"Topic1\", \"Topic1\", \"Topic1\", \"Topic1\", \"Topic1\", \"Topic1\", \"Topic1\", \"Topic1\", \"Topic1\", \"Topic1\", \"Topic1\", \"Topic1\", \"Topic1\", \"Topic1\", \"Topic1\", \"Topic1\", \"Topic1\", \"Topic1\", \"Topic1\", \"Topic1\", \"Topic1\", \"Topic1\", \"Topic1\", \"Topic1\", \"Topic1\", \"Topic1\", \"Topic1\", \"Topic1\", \"Topic1\", \"Topic1\", \"Topic1\", \"Topic1\", \"Topic1\", \"Topic1\", \"Topic1\", \"Topic1\", \"Topic1\", \"Topic1\", \"Topic1\", \"Topic1\", \"Topic1\", \"Topic1\", \"Topic2\", \"Topic2\", \"Topic2\", \"Topic2\", \"Topic2\", \"Topic2\", \"Topic2\", \"Topic2\", \"Topic2\", \"Topic2\", \"Topic2\", \"Topic2\", \"Topic2\", \"Topic2\", \"Topic2\", \"Topic2\", \"Topic2\", \"Topic2\", \"Topic2\", \"Topic2\", \"Topic2\", \"Topic2\", \"Topic2\", \"Topic2\", \"Topic2\", \"Topic2\", \"Topic2\", \"Topic2\", \"Topic2\", \"Topic2\", \"Topic2\", \"Topic2\", \"Topic2\", \"Topic2\", \"Topic2\", \"Topic2\", \"Topic2\", \"Topic2\", \"Topic2\", \"Topic2\", \"Topic2\", \"Topic2\", \"Topic2\", \"Topic2\", \"Topic2\", \"Topic2\", \"Topic2\", \"Topic2\", \"Topic2\", \"Topic2\", \"Topic2\", \"Topic2\", \"Topic2\", \"Topic2\", \"Topic2\", \"Topic2\", \"Topic2\", \"Topic2\", \"Topic2\", \"Topic2\", \"Topic2\", \"Topic2\", \"Topic2\", \"Topic2\", \"Topic2\", \"Topic2\", \"Topic2\", \"Topic2\", \"Topic2\", \"Topic2\", \"Topic2\", \"Topic2\", \"Topic2\", \"Topic2\", \"Topic2\", \"Topic2\", \"Topic3\", \"Topic3\", \"Topic3\", \"Topic3\", \"Topic3\", \"Topic3\", \"Topic3\", \"Topic3\", \"Topic3\", \"Topic3\", \"Topic3\", \"Topic3\", \"Topic3\", \"Topic3\", \"Topic3\", \"Topic3\", \"Topic3\", \"Topic3\", \"Topic3\", \"Topic3\", \"Topic3\", \"Topic3\", \"Topic3\", \"Topic3\", \"Topic3\", \"Topic3\", \"Topic3\", \"Topic3\", \"Topic3\", \"Topic3\", \"Topic3\", \"Topic3\", \"Topic3\", \"Topic3\", \"Topic3\", \"Topic3\", \"Topic3\", \"Topic3\", \"Topic3\", \"Topic3\", \"Topic3\", \"Topic3\", \"Topic3\", \"Topic3\", \"Topic3\", \"Topic3\", \"Topic3\", \"Topic3\", \"Topic3\", \"Topic3\", \"Topic3\", \"Topic3\", \"Topic3\", \"Topic3\", \"Topic3\", \"Topic3\", \"Topic3\", \"Topic3\", \"Topic3\", \"Topic3\", \"Topic3\", \"Topic3\", \"Topic3\", \"Topic3\", \"Topic3\", \"Topic3\", \"Topic3\", \"Topic3\", \"Topic3\", \"Topic3\", \"Topic3\", \"Topic3\", \"Topic3\", \"Topic3\", \"Topic3\", \"Topic3\", \"Topic3\", \"Topic3\", \"Topic3\", \"Topic3\"], \"Freq\": [1088.0, 1048.0, 527.0, 497.0, 447.0, 282.0, 350.0, 216.0, 1240.0, 796.0, 703.0, 284.0, 243.0, 319.0, 769.0, 311.0, 536.0, 292.0, 130.0, 264.0, 252.0, 280.0, 98.0, 222.0, 197.0, 358.0, 189.0, 219.0, 193.0, 360.0, 318.6052551269531, 311.344970703125, 263.9039611816406, 291.6036071777344, 252.11973571777344, 218.32742309570312, 181.55613708496094, 145.71530151367188, 117.99842071533203, 104.3274917602539, 114.9946060180664, 125.60649108886719, 85.8555908203125, 103.68870544433594, 81.17962646484375, 73.97068786621094, 71.51434326171875, 79.76289367675781, 68.56442260742188, 67.59764099121094, 69.05552673339844, 84.83050537109375, 50.807254791259766, 52.451622009277344, 51.86122131347656, 58.383060455322266, 51.799659729003906, 45.62680435180664, 48.345001220703125, 38.54698181152344, 133.64981079101562, 349.4615478515625, 81.51648712158203, 343.1929016113281, 161.40838623046875, 234.68531799316406, 314.52227783203125, 216.5741424560547, 291.1787414550781, 221.63246154785156, 158.88328552246094, 188.98780822753906, 481.0371398925781, 171.5267333984375, 2306.9462890625, 456.897705078125, 205.67626953125, 981.205322265625, 482.83587646484375, 222.43577575683594, 328.7723693847656, 326.2611999511719, 263.5962829589844, 482.3717956542969, 520.4281005859375, 601.0828857421875, 536.244384765625, 564.7948608398438, 307.42266845703125, 299.9328308105469, 317.2441711425781, 499.6346740722656, 516.9741821289062, 398.56256103515625, 325.8242492675781, 314.34796142578125, 335.8254089355469, 393.63397216796875, 311.9747314453125, 310.1937561035156, 298.23046875, 67.498291015625, 66.02610778808594, 60.50871276855469, 38.04568862915039, 37.21895217895508, 28.822450637817383, 29.54136085510254, 26.336271286010742, 32.30698013305664, 24.063383102416992, 22.856168746948242, 21.829940795898438, 25.214391708374023, 41.271873474121094, 20.268970489501953, 18.28568458557129, 20.162452697753906, 18.927658081054688, 19.068262100219727, 32.266849517822266, 76.013427734375, 23.56797218322754, 71.26132202148438, 48.13565444946289, 13.921430587768555, 14.245708465576172, 13.937732696533203, 15.720877647399902, 24.996784210205078, 13.489471435546875, 205.5474395751953, 94.14286804199219, 31.230531692504883, 118.4859848022461, 58.4516716003418, 55.21442794799805, 378.6990966796875, 68.80535888671875, 42.31376647949219, 258.54034423828125, 46.981163024902344, 654.763671875, 42.70178985595703, 67.72111511230469, 112.89264678955078, 57.64358901977539, 163.85549926757812, 136.3480987548828, 78.28853607177734, 131.51185607910156, 386.4447937011719, 140.77944946289062, 331.6710510253906, 120.93859100341797, 111.0173568725586, 181.17906188964844, 72.3062973022461, 201.5272216796875, 191.43629455566406, 133.01268005371094, 231.84095764160156, 127.5650634765625, 160.01600646972656, 461.0975646972656, 224.4408416748047, 164.5709686279297, 259.19580078125, 215.30221557617188, 181.27989196777344, 170.54336547851562, 117.357421875, 174.22994995117188, 176.32528686523438, 141.16221618652344, 139.41371154785156, 128.8521728515625, 33.35136032104492, 21.753372192382812, 17.627225875854492, 17.280080795288086, 16.592105865478516, 14.997919082641602, 13.577662467956543, 13.89892292022705, 13.026923179626465, 12.39929485321045, 11.80087947845459, 13.340323448181152, 11.988272666931152, 11.430920600891113, 11.674798011779785, 10.117558479309082, 10.027764320373535, 10.177932739257812, 10.070747375488281, 10.102081298828125, 10.156208992004395, 9.563675880432129, 9.254976272583008, 9.335342407226562, 9.461610794067383, 8.67285442352295, 9.106451988220215, 8.23908519744873, 8.19508171081543, 7.747654438018799, 18.10175323486328, 24.569290161132812, 19.525943756103516, 748.8529052734375, 204.5545196533203, 56.21757507324219, 28.7563419342041, 20.798568725585938, 332.22943115234375, 30.362852096557617, 17.713289260864258, 17.776763916015625, 54.67458724975586, 32.144832611083984, 24.0750732421875, 186.55715942382812, 129.34835815429688, 44.02138137817383, 31.35446548461914, 51.356712341308594, 50.61780548095703, 59.13674545288086, 51.445980072021484, 46.36363983154297, 39.720829010009766, 126.81439208984375, 46.60681915283203, 119.68082427978516, 139.32115173339844, 61.33701705932617, 111.54930877685547, 47.6666374206543, 69.98967742919922, 204.9053192138672, 83.94217681884766, 78.00797271728516, 109.29393768310547, 67.07300567626953, 99.64787292480469, 96.34434509277344, 61.79282760620117, 88.47230529785156, 65.62969970703125, 66.10514831542969, 69.21859741210938, 60.83492660522461, 60.505096435546875, 60.43376922607422, 55.15303421020508, 55.35626983642578], \"Term\": [\"iphone\", \"pixel\", \"apple\", \"app\", \"essential\", \"case\", \"photo\", \"tap\", \"camera\", \"screen\", \"use\", \"company\", \"mode\", \"moto\", \"feature\", \"megapixel\", \"huawei\", \"mate_pro\", \"setting\", \"winner\", \"ram\", \"price\", \"notification\", \"button\", \"turn\", \"lens\", \"home\", \"dual\", \"set\", \"note\", \"moto\", \"megapixel\", \"winner\", \"mate_pro\", \"ram\", \"dual\", \"mate\", \"processor\", \"aperture\", \"honor\", \"mah_battery\", \"bezel\", \"nokia\", \"leak\", \"microsd_card\", \"motorola\", \"lite\", \"headphone_jack\", \"snapdragon\", \"qualcomm_snapdragon\", \"mah\", \"boast\", \"aspect_ratio\", \"water_resistance\", \"modern\", \"curve\", \"ph\", \"stock_android\", \"capacity\", \"winner_tie\", \"difference\", \"note\", \"thinq\", \"lens\", \"gb\", \"flagship\", \"oneplus\", \"xz\", \"inch\", \"storage\", \"sony\", \"pro\", \"huawei\", \"sensor\", \"phone\", \"galaxy\", \"expect\", \"camera\", \"come\", \"htc\", \"big\", \"offer\", \"available\", \"samsung\", \"display\", \"also\", \"feature\", \"good\", \"android\", \"design\", \"back\", \"get\", \"new\", \"look\", \"find\", \"still\", \"make\", \"pixel\", \"device\", \"screen\", \"even\", \"toggle\", \"s\", \"be\", \"slider\", \"auto\", \"wake\", \"default\", \"sleep\", \"bug\", \"disable\", \"suggestion\", \"siri\", \"drag\", \"disturb\", \"settings_gt\", \"scroll\", \"tone\", \"timer\", \"there\", \"that\", \"select\", \"machine_learn\", \"icon\", \"swipe\", \"screenshot\", \"gif\", \"shutter_button\", \"reddit\", \"have\", \"avatar\", \"tap\", \"notification\", \"bar\", \"setting\", \"night\", \"google\", \"app\", \"automatically\", \"night_sight\", \"photo\", \"text\", \"pixel\", \"lock\", \"not\", \"issue\", \"unlock\", \"mode\", \"turn\", \"open\", \"set\", \"screen\", \"button\", \"use\", \"home\", \"light\", \"want\", \"appear\", \"go\", \"time\", \"way\", \"feature\", \"option\", \"take\", \"phone\", \"get\", \"see\", \"camera\", \"new\", \"display\", \"make\", \"need\", \"good\", \"also\", \"samsung\", \"iphone\", \"look\", \"protector\", \"scooter\", \"repair\", \"rzr\", \"quarter\", \"bionic\", \"lawsuit\", \"bloomberg\", \"keyssa\", \"bumper\", \"reuter\", \"headset\", \"lightning\", \"revenue\", \"ghz\", \"vehicle\", \"electric\", \"rubin\", \"matebook_pro\", \"applecare\", \"intel\", \"button_cover\", \"spigen\", \"macbook\", \"skype\", \"military\", \"desk\", \"desert\", \"analyst\", \"threat\", \"cell\", \"scratch\", \"patent\", \"iphone\", \"case\", \"protection\", \"laptop\", \"mouse\", \"apple\", \"consumer\", \"raise\", \"protective\", \"product\", \"protect\", \"reportedly\", \"essential\", \"company\", \"plan\", \"cover\", \"amazon\", \"report\", \"xs_max\", \"drop\", \"accord\", \"sale\", \"device\", \"sell\", \"make\", \"new\", \"could\", \"use\", \"tech\", \"say\", \"phone\", \"may\", \"smartphone\", \"also\", \"work\", \"screen\", \"get\", \"price\", \"good\", \"design\", \"time\", \"look\", \"year\", \"even\", \"go\", \"charge\", \"first\"], \"Total\": [1088.0, 1048.0, 527.0, 497.0, 447.0, 282.0, 350.0, 216.0, 1240.0, 796.0, 703.0, 284.0, 243.0, 319.0, 769.0, 311.0, 536.0, 292.0, 130.0, 264.0, 252.0, 280.0, 98.0, 222.0, 197.0, 358.0, 189.0, 219.0, 193.0, 360.0, 319.2624206542969, 311.990234375, 264.5137023925781, 292.308349609375, 252.79612731933594, 219.0149688720703, 182.2013702392578, 146.3933868408203, 118.64567565917969, 105.01476287841797, 115.7619857788086, 126.47296905517578, 86.48143768310547, 104.46794891357422, 81.80120849609375, 74.58475494384766, 72.11785125732422, 80.45061492919922, 69.20928955078125, 68.2502212524414, 69.74365997314453, 85.69844055175781, 51.423255920410156, 53.10392379760742, 52.509910583496094, 59.167762756347656, 52.510292053222656, 46.254798889160156, 49.026268005371094, 39.14691162109375, 136.13291931152344, 360.9497985839844, 83.08009338378906, 358.8710632324219, 166.4446563720703, 245.5896453857422, 332.73046875, 227.94244384765625, 310.427001953125, 235.1862335205078, 166.8104705810547, 200.4051971435547, 536.3985595703125, 181.6456298828125, 2972.94921875, 522.9749755859375, 223.3902587890625, 1240.794921875, 573.241943359375, 244.4666748046875, 380.6498107910156, 388.08013916015625, 305.7716064453125, 637.7869873046875, 710.2333984375, 886.7021484375, 769.8194580078125, 827.4970703125, 382.4302673339844, 379.6715393066406, 411.6073913574219, 820.4198608398438, 871.5975341796875, 596.63330078125, 449.7950439453125, 426.5364990234375, 626.0496215820312, 1048.723876953125, 557.5637817382812, 796.2864379882812, 463.5069885253906, 68.10049438476562, 66.75965118408203, 61.26956558227539, 38.67453384399414, 37.99635314941406, 29.493244171142578, 30.249805450439453, 26.98662567138672, 33.128265380859375, 24.68406867980957, 23.4753360748291, 22.43914794921875, 25.924129486083984, 42.584228515625, 20.92071533203125, 18.88962745666504, 20.829357147216797, 19.580745697021484, 19.73378562927246, 33.460575103759766, 78.86236572265625, 24.453222274780273, 73.94938659667969, 50.154117584228516, 14.52124309539795, 14.884501457214355, 14.564720153808594, 16.472068786621094, 26.193763732910156, 14.151185989379883, 216.13131713867188, 98.84635925292969, 32.86087417602539, 130.0182647705078, 63.96157455444336, 61.83473587036133, 497.16534423828125, 79.81510925292969, 47.02558898925781, 350.50335693359375, 53.0341682434082, 1048.723876953125, 48.32577896118164, 83.29733276367188, 153.90711975097656, 69.33554077148438, 243.6001434326172, 197.81788635253906, 100.67052459716797, 193.49337768554688, 796.2864379882812, 222.86521911621094, 703.5595703125, 189.41651916503906, 181.68446350097656, 372.8699645996094, 99.87906646728516, 467.34234619140625, 454.40118408203125, 257.4494934082031, 769.8194580078125, 273.5530700683594, 413.0530700683594, 2972.94921875, 820.4198608398438, 472.7638854980469, 1240.794921875, 871.5975341796875, 710.2333984375, 626.0496215820312, 254.0225372314453, 827.4970703125, 886.7021484375, 637.7869873046875, 1088.6175537109375, 596.63330078125, 34.0040168762207, 22.405311584472656, 18.283435821533203, 17.928770065307617, 17.249467849731445, 15.719858169555664, 14.23549747467041, 14.572697639465332, 13.676424026489258, 13.054336547851562, 12.45309829711914, 14.081120491027832, 12.666271209716797, 12.086398124694824, 12.358768463134766, 10.76655101776123, 10.679327964782715, 10.842025756835938, 10.731046676635742, 10.76679801940918, 10.844815254211426, 10.21932601928711, 9.906009674072266, 9.993756294250488, 10.154539108276367, 9.323745727539062, 9.801443099975586, 8.88871955871582, 8.846946716308594, 8.401565551757812, 19.892335891723633, 27.483510971069336, 21.97446632385254, 1088.6175537109375, 282.6695861816406, 69.75405883789062, 34.34600067138672, 24.204845428466797, 527.9339599609375, 37.23027801513672, 20.359264373779297, 20.71982192993164, 86.16860961914062, 45.03650665283203, 31.930749893188477, 447.37030029296875, 284.444091796875, 74.26148986816406, 46.689212799072266, 93.34169006347656, 92.24259185791016, 114.88389587402344, 106.86976623535156, 96.35537719726562, 75.76820373535156, 557.5637817382812, 107.36360931396484, 626.0496215820312, 871.5975341796875, 214.9046173095703, 703.5595703125, 133.7080535888672, 299.5343017578125, 2972.94921875, 461.3268127441406, 396.5814514160156, 886.7021484375, 289.1808166503906, 796.2864379882812, 820.4198608398438, 280.6863708496094, 827.4970703125, 379.6715393066406, 454.40118408203125, 596.63330078125, 332.9190979003906, 463.5069885253906, 467.34234619140625, 230.16880798339844, 321.4324951171875], \"loglift\": [30.0, 29.0, 28.0, 27.0, 26.0, 25.0, 24.0, 23.0, 22.0, 21.0, 20.0, 19.0, 18.0, 17.0, 16.0, 15.0, 14.0, 13.0, 12.0, 11.0, 10.0, 9.0, 8.0, 7.0, 6.0, 5.0, 4.0, 3.0, 2.0, 1.0, 0.5669999718666077, 0.5669999718666077, 0.5667999982833862, 0.5666999816894531, 0.5663999915122986, 0.5659999847412109, 0.565500020980835, 0.5644999742507935, 0.5636000037193298, 0.5625, 0.5623999834060669, 0.5622000098228455, 0.5618000030517578, 0.5616000294685364, 0.5615000128746033, 0.5608000159263611, 0.560699999332428, 0.5605000257492065, 0.5597000122070312, 0.559499979019165, 0.5591999888420105, 0.558899998664856, 0.5569999814033508, 0.5566999912261963, 0.5566999912261963, 0.5557000041007996, 0.5554999709129333, 0.555400013923645, 0.5551000237464905, 0.5536999702453613, 0.5507000088691711, 0.5368000268936157, 0.5501000285148621, 0.524399995803833, 0.5383999943733215, 0.5236999988555908, 0.5127999782562256, 0.5178999900817871, 0.5051000118255615, 0.5097000002861023, 0.5203999876976013, 0.5103999972343445, 0.4602000117301941, 0.5117999911308289, 0.3154999911785126, 0.4339999854564667, 0.48649999499320984, 0.3343999981880188, 0.39750000834465027, 0.474700003862381, 0.42260000109672546, 0.39559999108314514, 0.4207000136375427, 0.2897999882698059, 0.2581999897956848, 0.18029999732971191, 0.20749999582767487, 0.18719999492168427, 0.3508000075817108, 0.33329999446868896, 0.30869999527931213, 0.07320000231266022, 0.046799998730421066, 0.1657000035047531, 0.2467000037431717, 0.2639000117778778, -0.053700000047683716, -0.4108000099658966, -0.011599999852478504, -0.37369999289512634, 0.12809999287128448, 1.3273999691009521, 1.3252999782562256, 1.323799967765808, 1.3199000358581543, 1.315600037574768, 1.3133000135421753, 1.312600016593933, 1.311900019645691, 1.3112000226974487, 1.3107999563217163, 1.3095999956130981, 1.3087999820709229, 1.308500051498413, 1.3049999475479126, 1.3047000169754028, 1.3037999868392944, 1.3037999868392944, 1.30239999294281, 1.3020000457763672, 1.2999999523162842, 1.2994999885559082, 1.299399971961975, 1.299299955368042, 1.295199990272522, 1.294100046157837, 1.2924000024795532, 1.2922999858856201, 1.2896000146865845, 1.2894999980926514, 1.2884000539779663, 1.2861000299453735, 1.287600040435791, 1.2854000329971313, 1.243399977684021, 1.2461999654769897, 1.223099946975708, 1.0641000270843506, 1.1878999471664429, 1.2307000160217285, 1.031999945640564, 1.2151000499725342, 0.8652999997138977, 1.2125999927520752, 1.1292999982833862, 1.0263999700546265, 1.1516000032424927, 0.9398000240325928, 0.9642000198364258, 1.0849000215530396, 0.9502000212669373, 0.6133000254631042, 0.8769000172615051, 0.5842999815940857, 0.8876000046730042, 0.8436999917030334, 0.6146000027656555, 1.0132999420166016, 0.4952000081539154, 0.47189998626708984, 0.6758999824523926, 0.13619999587535858, 0.5734000205993652, 0.3880000114440918, -0.527400016784668, 0.04010000079870224, 0.28110000491142273, -0.2295999974012375, -0.06199999898672104, -0.029200000688433647, 0.03590000048279762, 0.5641000270843506, -0.22169999778270721, -0.27889999747276306, -0.17180000245571136, -0.7189000248908997, -0.19629999995231628, 1.7458000183105469, 1.735700011253357, 1.728700041770935, 1.7283999919891357, 1.7264000177383423, 1.7181999683380127, 1.717900037765503, 1.717900037765503, 1.716599941253662, 1.7137000560760498, 1.711400032043457, 1.7111999988555908, 1.7101999521255493, 1.7094999551773071, 1.708299994468689, 1.7030999660491943, 1.702299952507019, 1.7020000219345093, 1.70169997215271, 1.7015000581741333, 1.6995999813079834, 1.6988999843597412, 1.6971999406814575, 1.697100043296814, 1.6944999694824219, 1.6928999423980713, 1.6916999816894531, 1.6892999410629272, 1.6886999607086182, 1.6842000484466553, 1.6708999872207642, 1.6531000137329102, 1.6470999717712402, 1.3911000490188599, 1.4417999982833862, 1.5494999885559082, 1.5875999927520752, 1.6136000156402588, 1.3020999431610107, 1.5613000392913818, 1.6260000467300415, 1.6119999885559082, 1.3102999925613403, 1.4279999732971191, 1.482800006866455, 0.8906000256538391, 0.9771999716758728, 1.242300033569336, 1.3671000003814697, 1.167799949645996, 1.1650999784469604, 1.101199984550476, 1.03410005569458, 1.0336999893188477, 1.1194000244140625, 0.28439998626708984, 0.9308000206947327, 0.11060000211000443, -0.06830000132322311, 0.5113999843597412, -0.07649999856948853, 0.7337999939918518, 0.31130000948905945, -0.909500002861023, 0.06120000034570694, 0.13920000195503235, -0.32820001244544983, 0.30399999022483826, -0.31310001015663147, -0.3767000138759613, 0.251800000667572, -0.47049999237060547, 0.00989999994635582, -0.16249999403953552, -0.3887999951839447, 0.06549999862909317, -0.27090001106262207, -0.28029999136924744, 0.33649998903274536, 0.006200000178068876], \"logprob\": [30.0, 29.0, 28.0, 27.0, 26.0, 25.0, 24.0, 23.0, 22.0, 21.0, 20.0, 19.0, 18.0, 17.0, 16.0, 15.0, 14.0, 13.0, 12.0, 11.0, 10.0, 9.0, 8.0, 7.0, 6.0, 5.0, 4.0, 3.0, 2.0, 1.0, -5.373600006103516, -5.396599769592285, -5.5619001388549805, -5.462100028991699, -5.607600212097168, -5.751500129699707, -5.935999870300293, -6.155900001525879, -6.3668999671936035, -6.489999771118164, -6.392600059509277, -6.3043999671936035, -6.684899806976318, -6.496099948883057, -6.740900039672852, -6.833899974822998, -6.867599964141846, -6.758500099182129, -6.909800052642822, -6.923999786376953, -6.902599811553955, -6.696899890899658, -7.209499835968018, -7.177599906921387, -7.189000129699707, -7.070499897003174, -7.190100193023682, -7.316999912261963, -7.259200096130371, -7.4857001304626465, -6.242300033569336, -5.281099796295166, -6.736700057983398, -5.299200057983398, -6.053599834442139, -5.679299831390381, -5.386499881744385, -5.7596001625061035, -5.463600158691406, -5.736499786376953, -6.069399833679199, -5.8958001136779785, -4.961599826812744, -5.992800235748291, -3.3938000202178955, -5.0131001472473145, -5.811200141906738, -4.248700141906738, -4.957900047302246, -5.732900142669678, -5.342199802398682, -5.349800109863281, -5.5630998611450195, -4.958799839019775, -4.882900238037109, -4.738800048828125, -4.85290002822876, -4.80109977722168, -5.409299850463867, -5.434000015258789, -5.377900123596191, -4.923699855804443, -4.889500141143799, -5.149700164794922, -5.351200103759766, -5.38700008392334, -5.320899963378906, -5.162099838256836, -5.394599914550781, -5.400300025939941, -5.439700126647949, -6.158199787139893, -6.180300235748291, -6.267499923706055, -6.731500148773193, -6.753499984741211, -7.009200096130371, -6.984499931335449, -7.099400043487549, -6.894999980926514, -7.189599990844727, -7.241099834442139, -7.2870001792907715, -7.142899990081787, -6.650100231170654, -7.361199855804443, -7.464200019836426, -7.366499900817871, -7.429699897766113, -7.422299861907959, -6.896299839019775, -6.039400100708008, -7.210400104522705, -6.104000091552734, -6.496300220489502, -7.7368998527526855, -7.713900089263916, -7.7357001304626465, -7.615300178527832, -7.151599884033203, -7.768400192260742, -5.044600009918213, -5.825500011444092, -6.928899765014648, -5.5954999923706055, -6.30210018157959, -6.359099864959717, -4.433599948883057, -6.138999938964844, -6.625199794769287, -4.815299987792969, -6.520599842071533, -3.885999917984009, -6.616099834442139, -6.154900074005127, -5.643899917602539, -6.315999984741211, -5.271299839019775, -5.455100059509277, -6.009900093078613, -5.491199970245361, -4.413300037384033, -5.423099994659424, -4.566199779510498, -5.574999809265137, -5.660600185394287, -5.17080020904541, -6.089399814605713, -5.0644001960754395, -5.115799903869629, -5.479899883270264, -4.924300193786621, -5.521699905395508, -5.295000076293945, -4.236700057983398, -4.956699848175049, -5.267000198364258, -4.812699794769287, -4.998300075531006, -5.170300006866455, -5.231299877166748, -5.605100154876709, -5.20989990234375, -5.197999954223633, -5.420400142669678, -5.4328999519348145, -5.51170015335083, -6.434299945831299, -6.861599922180176, -7.072000026702881, -7.091800212860107, -7.132500171661377, -7.233500003814697, -7.333000183105469, -7.309599876403809, -7.3744001388549805, -7.423799991607666, -7.473199844360352, -7.350599765777588, -7.457499980926514, -7.505099773406982, -7.484000205993652, -7.627099990844727, -7.636000156402588, -7.621200084686279, -7.631800174713135, -7.628699779510498, -7.623300075531006, -7.6834001541137695, -7.71619987487793, -7.707600116729736, -7.694200038909912, -7.781199932098389, -7.732399940490723, -7.832499980926514, -7.837900161743164, -7.894000053405762, -7.045400142669678, -6.7399001121521, -6.969699859619141, -3.3229000568389893, -4.62060022354126, -5.912199974060059, -6.582499980926514, -6.906499862670898, -4.1356000900268555, -6.528200149536133, -7.0671000480651855, -7.063499927520752, -5.940000057220459, -6.471099853515625, -6.760200023651123, -4.712699890136719, -5.07889986038208, -6.156700134277344, -6.495999813079834, -6.002600193023682, -6.017099857330322, -5.861499786376953, -6.000899791717529, -6.104899883270264, -6.259500026702881, -5.098700046539307, -6.099699974060059, -5.156599998474121, -5.0046000480651855, -5.824999809265137, -5.226900100708008, -6.077199935913086, -5.6930999755859375, -4.618899822235107, -5.511300086975098, -5.58459997177124, -5.247399806976318, -5.735599994659424, -5.339799880981445, -5.373499870300293, -5.817599773406982, -5.458700180053711, -5.757400035858154, -5.750199794769287, -5.704100131988525, -5.833199977874756, -5.838699817657471, -5.839900016784668, -5.931300163269043, -5.927599906921387]}, \"token.table\": {\"Topic\": [1, 2, 3, 1, 2, 3, 1, 3, 3, 1, 2, 3, 1, 1, 2, 1, 2, 3, 1, 2, 3, 3, 1, 2, 1, 2, 3, 1, 2, 3, 2, 1, 2, 3, 2, 3, 2, 1, 3, 1, 2, 3, 3, 3, 1, 2, 3, 1, 2, 3, 3, 1, 2, 1, 1, 2, 3, 2, 3, 1, 2, 3, 1, 2, 3, 1, 2, 3, 1, 3, 1, 2, 3, 1, 2, 3, 1, 2, 3, 1, 2, 3, 3, 1, 2, 3, 1, 3, 2, 1, 2, 3, 1, 2, 2, 1, 2, 3, 1, 3, 1, 2, 3, 1, 2, 3, 1, 3, 1, 2, 3, 1, 2, 3, 1, 2, 3, 1, 2, 1, 2, 1, 2, 1, 2, 3, 3, 2, 1, 2, 3, 1, 2, 3, 1, 2, 2, 3, 1, 3, 1, 2, 3, 1, 1, 2, 1, 3, 1, 2, 1, 2, 3, 3, 1, 2, 3, 1, 2, 3, 3, 2, 3, 3, 1, 1, 2, 1, 2, 3, 3, 1, 1, 2, 3, 1, 2, 3, 3, 1, 2, 1, 1, 1, 2, 3, 1, 1, 3, 1, 2, 3, 1, 1, 3, 1, 2, 1, 1, 1, 1, 3, 1, 2, 3, 1, 2, 3, 1, 2, 3, 1, 2, 1, 2, 3, 1, 2, 3, 1, 2, 1, 2, 3, 1, 2, 1, 2, 3, 1, 2, 3, 1, 3, 1, 1, 2, 3, 1, 2, 1, 2, 1, 2, 3, 1, 3, 1, 2, 1, 1, 2, 3, 1, 2, 3, 1, 2, 3, 1, 3, 3, 1, 3, 2, 3, 1, 2, 3, 1, 2, 3, 1, 2, 3, 3, 3, 3, 3, 2, 1, 3, 1, 2, 3, 1, 2, 3, 3, 1, 3, 1, 2, 3, 2, 2, 1, 2, 3, 1, 2, 1, 3, 1, 2, 1, 2, 3, 1, 2, 2, 2, 2, 3, 2, 2, 1, 2, 3, 1, 1, 2, 3, 1, 2, 3, 1, 1, 2, 3, 2, 1, 2, 1, 2, 3, 1, 2, 1, 2, 3, 2, 3, 2, 3, 2, 1, 2, 3, 1, 2, 3, 2, 2, 2, 1, 2, 3, 1, 2, 1, 2, 3, 3, 2, 1, 2, 3, 1, 1, 2, 3, 1, 1, 1, 2, 3, 1, 2, 3, 1, 2, 1, 2, 3], \"Freq\": [0.42550817131996155, 0.09340423345565796, 0.47739940881729126, 0.6777924299240112, 0.1984882950782776, 0.12292741239070892, 0.44995972514152527, 0.5463796257972717, 0.9042667746543884, 0.8027607202529907, 0.1568913459777832, 0.0392228364944458, 0.9945579767227173, 0.2373455911874771, 0.7623218297958374, 0.22026637196540833, 0.7208717465400696, 0.050060540437698364, 0.172370046377182, 0.1969943344593048, 0.6288665533065796, 0.9287812113761902, 0.9917691946029663, 0.9737776517868042, 0.0877026915550232, 0.8644979596138, 0.05011582374572754, 0.8633894920349121, 0.08830120414495468, 0.049056220799684525, 0.9186509251594543, 0.7701513767242432, 0.11904548108577728, 0.10932748019695282, 0.9433711171150208, 0.03043132647871971, 0.9956003427505493, 0.9962602853775024, 0.007906828075647354, 0.8643114566802979, 0.09457511454820633, 0.04203338548541069, 0.9542070627212524, 0.9607006311416626, 0.9918500185012817, 0.9659425020217896, 0.9192347526550293, 0.3365262746810913, 0.6326693892478943, 0.031409118324518204, 0.9785380959510803, 0.7906221747398376, 0.20873714983463287, 0.9790669679641724, 0.19457346200942993, 0.08136708289384842, 0.7252283692359924, 0.05027061700820923, 0.9048711061477661, 0.6299723982810974, 0.130339115858078, 0.2389550507068634, 0.8425761461257935, 0.06280070543289185, 0.09420106559991837, 0.4675787091255188, 0.07734384387731552, 0.4535161852836609, 0.16115915775299072, 0.8057957291603088, 0.5072017312049866, 0.20474199950695038, 0.2838468551635742, 0.25701868534088135, 0.06425467133522034, 0.6639649271965027, 0.9802635312080383, 0.9917418956756592, 0.9000171422958374, 0.7901566624641418, 0.03687397763133049, 0.17383447289466858, 0.9182321429252625, 0.559577226638794, 0.21342849731445312, 0.2277766317129135, 0.9843320846557617, 0.014691523276269436, 0.9722870588302612, 0.7321537137031555, 0.2548457980155945, 0.012671890668570995, 0.023482872173190117, 0.9627977609634399, 0.964352548122406, 0.43043044209480286, 0.09357183426618576, 0.47721636295318604, 0.9953657388687134, 0.9363884925842285, 0.5767034888267517, 0.004470569547265768, 0.4179982542991638, 0.6429244875907898, 0.22653380036354065, 0.1316053569316864, 0.9221529960632324, 0.07610000669956207, 0.6962671279907227, 0.3013693690299988, 0.002598011866211891, 0.7247745394706726, 0.23566289246082306, 0.0400182269513607, 0.6751028895378113, 0.1524425894021988, 0.17110902070999146, 0.9568807482719421, 0.04479016363620758, 0.8738467693328857, 0.1262010633945465, 0.9672884941101074, 0.030040014535188675, 0.6094440221786499, 0.27303093671798706, 0.11701325327157974, 0.9709705114364624, 0.9405756592750549, 0.43865060806274414, 0.4322313070297241, 0.1283855438232422, 0.6827818751335144, 0.2102726548910141, 0.1063447892665863, 0.09703283756971359, 0.889467716217041, 0.9544256329536438, 0.03817702457308769, 0.9943988919258118, 0.923222005367279, 0.12142552435398102, 0.6388038396835327, 0.23757167160511017, 0.9903369545936584, 0.9080992341041565, 0.08999181538820267, 0.8967213034629822, 0.10253569483757019, 0.02704552561044693, 0.9601161479949951, 0.9374184608459473, 0.04187779873609543, 0.0225495845079422, 0.9220995903015137, 0.18371924757957458, 0.12768487632274628, 0.6880285739898682, 0.18842533230781555, 0.7342090606689453, 0.07796910405158997, 0.9505409002304077, 0.1455773562192917, 0.844348669052124, 0.9834570288658142, 0.9955206513404846, 0.9557750225067139, 0.04179774224758148, 0.3412509858608246, 0.6109493374824524, 0.049536433070898056, 0.9473980069160461, 0.9983658790588379, 0.06207866966724396, 0.8897942304611206, 0.06207866966724396, 0.6687524914741516, 0.21621321141719818, 0.11564892530441284, 0.9005622863769531, 0.04089440777897835, 0.981465756893158, 0.9893372654914856, 0.9934176802635193, 0.5366986989974976, 0.2731412947177887, 0.19167809188365936, 0.9988948106765747, 0.9989451169967651, 0.9318755269050598, 0.6134479641914368, 0.2059277594089508, 0.18208350241184235, 0.9968260526657104, 0.9902054071426392, 0.9652773141860962, 0.32430195808410645, 0.6732344031333923, 0.9902892708778381, 0.9991780519485474, 0.9921598434448242, 0.12394212931394577, 0.8675948977470398, 0.3936658501625061, 0.46058905124664307, 0.14565636217594147, 0.5931636691093445, 0.24667347967624664, 0.15947727859020233, 0.0625375509262085, 0.9067944288253784, 0.03126877546310425, 0.08506007492542267, 0.8931307792663574, 0.9944330453872681, 0.8163526654243469, 0.18007779121398926, 0.9668934345245361, 0.016622809693217278, 0.013852342031896114, 0.04046684131026268, 0.9509707689285278, 0.840032696723938, 0.07988040894269943, 0.07988040894269943, 0.9467121958732605, 0.054097842425107956, 0.1887344866991043, 0.7748047709465027, 0.029800182208418846, 0.4094269573688507, 0.4679165184497833, 0.12429032474756241, 0.09101472795009613, 0.9101472496986389, 0.9902820587158203, 0.7759971022605896, 0.1550648808479309, 0.06895509362220764, 0.26247966289520264, 0.738937258720398, 0.3756946921348572, 0.6245685815811157, 0.28278452157974243, 0.12119336426258087, 0.5925009250640869, 0.7802302837371826, 0.22088710963726044, 0.9430893063545227, 0.05488879606127739, 0.9973127841949463, 0.24370823800563812, 0.11605153977870941, 0.6382834911346436, 0.15542946755886078, 0.1332252472639084, 0.7105346918106079, 0.17203299701213837, 0.028672166168689728, 0.8028206825256348, 0.14478889107704163, 0.8687333464622498, 0.97047358751297, 0.9963337779045105, 0.9855376482009888, 0.09823537617921829, 0.884118378162384, 0.9968507289886475, 0.9713412523269653, 0.9844976663589478, 0.13009174168109894, 0.32522937655448914, 0.5528899431228638, 0.12527109682559967, 0.12527109682559967, 0.7516265511512756, 0.9636155962944031, 0.9101139903068542, 0.9223368763923645, 0.9481966495513916, 0.9886211156845093, 0.47513332962989807, 0.5279259085655212, 0.7557381987571716, 0.22107695043087006, 0.02195090241730213, 0.5174699425697327, 0.2503886818885803, 0.2336961030960083, 0.9819100499153137, 0.10915636271238327, 0.9096363186836243, 0.3893071413040161, 0.4847501814365387, 0.12558294832706451, 0.9641047716140747, 0.9529039263725281, 0.5626487135887146, 0.3490114212036133, 0.08883927017450333, 0.03804095834493637, 0.9637042880058289, 0.5588485598564148, 0.4377647042274475, 0.9468986392021179, 0.055052246898412704, 0.2842474579811096, 0.6821938753128052, 0.03617694973945618, 0.08460349589586258, 0.9075648188591003, 0.9559902548789978, 0.9612268209457397, 0.9804294109344482, 0.8863031268119812, 0.9634401798248291, 0.9825587272644043, 0.6026504635810852, 0.19920246303081512, 0.19668090343475342, 0.9969760179519653, 0.9531775712966919, 0.0479586198925972, 0.9085394144058228, 0.7361620664596558, 0.14066791534423828, 0.12191219627857208, 0.9944913983345032, 0.9439327716827393, 0.046771444380283356, 0.012755848467350006, 0.979751706123352, 0.03987708315253258, 0.9570500254631042, 0.5350401997566223, 0.3873594403266907, 0.07747188210487366, 0.046268168836832047, 0.9531242251396179, 0.5908395051956177, 0.052352868020534515, 0.3589910864830017, 0.8862211108207703, 0.11313460767269135, 0.9563493728637695, 0.029885917901992798, 0.9628157615661621, 0.9869993925094604, 0.012036577798426151, 0.9522035121917725, 0.4335376024246216, 0.4203334152698517, 0.14524610340595245, 0.9703409671783447, 0.9838401675224304, 0.9601832628250122, 0.2628680467605591, 0.6875010132789612, 0.05055154487490654, 0.1586487889289856, 0.8365118503570557, 0.36954936385154724, 0.47188612818717957, 0.15919050574302673, 0.9288025498390198, 0.9832760095596313, 0.3701022267341614, 0.4854239225387573, 0.1421407014131546, 0.9792119860649109, 0.3340460956096649, 0.5166062116622925, 0.14760176837444305, 0.9980579614639282, 0.9962471723556519, 0.3665526807308197, 0.40113312005996704, 0.2316889464855194, 0.39169982075691223, 0.08704440295696259, 0.5135619640350342, 0.9519947171211243, 0.048257797956466675, 0.7329108119010925, 0.0841045156121254, 0.18322770297527313], \"Term\": [\"accord\", \"accord\", \"accord\", \"also\", \"also\", \"also\", \"amazon\", \"amazon\", \"analyst\", \"android\", \"android\", \"android\", \"aperture\", \"app\", \"app\", \"appear\", \"appear\", \"appear\", \"apple\", \"apple\", \"apple\", \"applecare\", \"aspect_ratio\", \"auto\", \"automatically\", \"automatically\", \"automatically\", \"available\", \"available\", \"available\", \"avatar\", \"back\", \"back\", \"back\", \"bar\", \"bar\", \"be\", \"bezel\", \"bezel\", \"big\", \"big\", \"big\", \"bionic\", \"bloomberg\", \"boast\", \"bug\", \"bumper\", \"button\", \"button\", \"button\", \"button_cover\", \"camera\", \"camera\", \"capacity\", \"case\", \"case\", \"case\", \"cell\", \"cell\", \"charge\", \"charge\", \"charge\", \"come\", \"come\", \"come\", \"company\", \"company\", \"company\", \"consumer\", \"consumer\", \"could\", \"could\", \"could\", \"cover\", \"cover\", \"cover\", \"curve\", \"default\", \"desert\", \"design\", \"design\", \"design\", \"desk\", \"device\", \"device\", \"device\", \"difference\", \"difference\", \"disable\", \"display\", \"display\", \"display\", \"disturb\", \"disturb\", \"drag\", \"drop\", \"drop\", \"drop\", \"dual\", \"electric\", \"essential\", \"essential\", \"essential\", \"even\", \"even\", \"even\", \"expect\", \"expect\", \"feature\", \"feature\", \"feature\", \"find\", \"find\", \"find\", \"first\", \"first\", \"first\", \"flagship\", \"flagship\", \"galaxy\", \"galaxy\", \"gb\", \"gb\", \"get\", \"get\", \"get\", \"ghz\", \"gif\", \"go\", \"go\", \"go\", \"good\", \"good\", \"good\", \"google\", \"google\", \"have\", \"have\", \"headphone_jack\", \"headset\", \"home\", \"home\", \"home\", \"honor\", \"htc\", \"htc\", \"huawei\", \"huawei\", \"icon\", \"icon\", \"inch\", \"inch\", \"inch\", \"intel\", \"iphone\", \"iphone\", \"iphone\", \"issue\", \"issue\", \"issue\", \"keyssa\", \"laptop\", \"laptop\", \"lawsuit\", \"leak\", \"lens\", \"lens\", \"light\", \"light\", \"light\", \"lightning\", \"lite\", \"lock\", \"lock\", \"lock\", \"look\", \"look\", \"look\", \"macbook\", \"machine_learn\", \"machine_learn\", \"mah\", \"mah_battery\", \"make\", \"make\", \"make\", \"mate\", \"mate_pro\", \"matebook_pro\", \"may\", \"may\", \"may\", \"megapixel\", \"microsd_card\", \"military\", \"mode\", \"mode\", \"modern\", \"moto\", \"motorola\", \"mouse\", \"mouse\", \"need\", \"need\", \"need\", \"new\", \"new\", \"new\", \"night\", \"night\", \"night\", \"night_sight\", \"night_sight\", \"nokia\", \"not\", \"not\", \"note\", \"note\", \"note\", \"notification\", \"notification\", \"offer\", \"offer\", \"offer\", \"oneplus\", \"oneplus\", \"open\", \"open\", \"open\", \"option\", \"option\", \"option\", \"patent\", \"patent\", \"ph\", \"phone\", \"phone\", \"phone\", \"photo\", \"photo\", \"pixel\", \"pixel\", \"plan\", \"plan\", \"plan\", \"price\", \"price\", \"pro\", \"pro\", \"processor\", \"product\", \"product\", \"product\", \"protect\", \"protect\", \"protect\", \"protection\", \"protection\", \"protection\", \"protective\", \"protective\", \"protector\", \"qualcomm_snapdragon\", \"quarter\", \"raise\", \"raise\", \"ram\", \"reddit\", \"repair\", \"report\", \"report\", \"report\", \"reportedly\", \"reportedly\", \"reportedly\", \"reuter\", \"revenue\", \"rubin\", \"rzr\", \"s\", \"sale\", \"sale\", \"samsung\", \"samsung\", \"samsung\", \"say\", \"say\", \"say\", \"scooter\", \"scratch\", \"scratch\", \"screen\", \"screen\", \"screen\", \"screenshot\", \"scroll\", \"see\", \"see\", \"see\", \"select\", \"select\", \"sell\", \"sell\", \"sensor\", \"sensor\", \"set\", \"set\", \"set\", \"setting\", \"setting\", \"settings_gt\", \"shutter_button\", \"siri\", \"skype\", \"sleep\", \"slider\", \"smartphone\", \"smartphone\", \"smartphone\", \"snapdragon\", \"sony\", \"sony\", \"spigen\", \"still\", \"still\", \"still\", \"stock_android\", \"storage\", \"storage\", \"storage\", \"suggestion\", \"swipe\", \"swipe\", \"take\", \"take\", \"take\", \"tap\", \"tap\", \"tech\", \"tech\", \"tech\", \"text\", \"text\", \"that\", \"that\", \"there\", \"thinq\", \"thinq\", \"threat\", \"time\", \"time\", \"time\", \"timer\", \"toggle\", \"tone\", \"turn\", \"turn\", \"turn\", \"unlock\", \"unlock\", \"use\", \"use\", \"use\", \"vehicle\", \"wake\", \"want\", \"want\", \"want\", \"water_resistance\", \"way\", \"way\", \"way\", \"winner\", \"winner_tie\", \"work\", \"work\", \"work\", \"xs_max\", \"xs_max\", \"xs_max\", \"xz\", \"xz\", \"year\", \"year\", \"year\"]}, \"R\": 30, \"lambda.step\": 0.01, \"plot.opts\": {\"xlab\": \"PC1\", \"ylab\": \"PC2\"}, \"topic.order\": [1, 3, 2]};\n",
       "\n",
       "function LDAvis_load_lib(url, callback){\n",
       "  var s = document.createElement('script');\n",
       "  s.src = url;\n",
       "  s.async = true;\n",
       "  s.onreadystatechange = s.onload = callback;\n",
       "  s.onerror = function(){console.warn(\"failed to load library \" + url);};\n",
       "  document.getElementsByTagName(\"head\")[0].appendChild(s);\n",
       "}\n",
       "\n",
       "if(typeof(LDAvis) !== \"undefined\"){\n",
       "   // already loaded: just create the visualization\n",
       "   !function(LDAvis){\n",
       "       new LDAvis(\"#\" + \"ldavis_el3231948666854725238164050\", ldavis_el3231948666854725238164050_data);\n",
       "   }(LDAvis);\n",
       "}else if(typeof define === \"function\" && define.amd){\n",
       "   // require.js is available: use it to load d3/LDAvis\n",
       "   require.config({paths: {d3: \"https://cdnjs.cloudflare.com/ajax/libs/d3/3.5.5/d3.min\"}});\n",
       "   require([\"d3\"], function(d3){\n",
       "      window.d3 = d3;\n",
       "      LDAvis_load_lib(\"https://cdn.rawgit.com/bmabey/pyLDAvis/files/ldavis.v1.0.0.js\", function(){\n",
       "        new LDAvis(\"#\" + \"ldavis_el3231948666854725238164050\", ldavis_el3231948666854725238164050_data);\n",
       "      });\n",
       "    });\n",
       "}else{\n",
       "    // require.js not available: dynamically load d3 & LDAvis\n",
       "    LDAvis_load_lib(\"https://cdnjs.cloudflare.com/ajax/libs/d3/3.5.5/d3.min.js\", function(){\n",
       "         LDAvis_load_lib(\"https://cdn.rawgit.com/bmabey/pyLDAvis/files/ldavis.v1.0.0.js\", function(){\n",
       "                 new LDAvis(\"#\" + \"ldavis_el3231948666854725238164050\", ldavis_el3231948666854725238164050_data);\n",
       "            })\n",
       "         });\n",
       "}\n",
       "</script>"
      ],
      "text/plain": [
       "PreparedData(topic_coordinates=              x         y  topics  cluster       Freq\n",
       "topic                                                \n",
       "0     -0.038989 -0.112785       1        1  56.603699\n",
       "2     -0.096381  0.084854       2        1  26.281483\n",
       "1      0.135370  0.027931       3        1  17.114815, topic_info=     Category         Freq          Term        Total  loglift  logprob\n",
       "term                                                                   \n",
       "1196  Default  1088.000000        iphone  1088.000000  30.0000  30.0000\n",
       "89    Default  1048.000000         pixel  1048.000000  29.0000  29.0000\n",
       "1176  Default   527.000000         apple   527.000000  28.0000  28.0000\n",
       "9     Default   497.000000           app   497.000000  27.0000  27.0000\n",
       "4874  Default   447.000000     essential   447.000000  26.0000  26.0000\n",
       "148   Default   282.000000          case   282.000000  25.0000  25.0000\n",
       "586   Default   350.000000         photo   350.000000  24.0000  24.0000\n",
       "665   Default   216.000000           tap   216.000000  23.0000  23.0000\n",
       "17    Default  1240.000000        camera  1240.000000  22.0000  22.0000\n",
       "105   Default   796.000000        screen   796.000000  21.0000  21.0000\n",
       "466   Default   703.000000           use   703.000000  20.0000  20.0000\n",
       "26    Default   284.000000       company   284.000000  19.0000  19.0000\n",
       "771   Default   243.000000          mode   243.000000  18.0000  18.0000\n",
       "1580  Default   319.000000          moto   319.000000  17.0000  17.0000\n",
       "161   Default   769.000000       feature   769.000000  16.0000  16.0000\n",
       "572   Default   311.000000     megapixel   311.000000  15.0000  15.0000\n",
       "1571  Default   536.000000        huawei   536.000000  14.0000  14.0000\n",
       "2334  Default   292.000000      mate_pro   292.000000  13.0000  13.0000\n",
       "988   Default   130.000000       setting   130.000000  12.0000  12.0000\n",
       "682   Default   264.000000        winner   264.000000  11.0000  11.0000\n",
       "596   Default   252.000000           ram   252.000000  10.0000  10.0000\n",
       "184   Default   280.000000         price   280.000000   9.0000   9.0000\n",
       "956   Default    98.000000  notification    98.000000   8.0000   8.0000\n",
       "241   Default   222.000000        button   222.000000   7.0000   7.0000\n",
       "130   Default   197.000000          turn   197.000000   6.0000   6.0000\n",
       "340   Default   358.000000          lens   358.000000   5.0000   5.0000\n",
       "61    Default   189.000000          home   189.000000   4.0000   4.0000\n",
       "268   Default   219.000000          dual   219.000000   3.0000   3.0000\n",
       "196   Default   193.000000           set   193.000000   2.0000   2.0000\n",
       "578   Default   360.000000          note   360.000000   1.0000   1.0000\n",
       "...       ...          ...           ...          ...      ...      ...\n",
       "98     Topic3    50.617805        report    92.242592   1.1651  -6.0171\n",
       "2621   Topic3    59.136745        xs_max   114.883896   1.1012  -5.8615\n",
       "267    Topic3    51.445980          drop   106.869766   1.0341  -6.0009\n",
       "854    Topic3    46.363640        accord    96.355377   1.0337  -6.1049\n",
       "805    Topic3    39.720829          sale    75.768204   1.1194  -6.2595\n",
       "35     Topic3   126.814392        device   557.563782   0.2844  -5.0987\n",
       "808    Topic3    46.606819          sell   107.363609   0.9308  -6.0997\n",
       "78     Topic3   119.680824          make   626.049622   0.1106  -5.1566\n",
       "82     Topic3   139.321152           new   871.597534  -0.0683  -5.0046\n",
       "256    Topic3    61.337017         could   214.904617   0.5114  -5.8250\n",
       "466    Topic3   111.549309           use   703.559570  -0.0765  -5.2269\n",
       "447    Topic3    47.666637          tech   133.708054   0.7338  -6.0772\n",
       "1233   Topic3    69.989677           say   299.534302   0.3113  -5.6931\n",
       "88     Topic3   204.905319         phone  2972.949219  -0.9095  -4.6189\n",
       "79     Topic3    83.942177           may   461.326813   0.0612  -5.5113\n",
       "116    Topic3    78.007973    smartphone   396.581451   0.1392  -5.5846\n",
       "4      Topic3   109.293938          also   886.702148  -0.3282  -5.2474\n",
       "478    Topic3    67.073006          work   289.180817   0.3040  -5.7356\n",
       "105    Topic3    99.647873        screen   796.286438  -0.3131  -5.3398\n",
       "53     Topic3    96.344345           get   820.419861  -0.3767  -5.3735\n",
       "184    Topic3    61.792828         price   280.686371   0.2518  -5.8176\n",
       "312    Topic3    88.472305          good   827.497070  -0.4705  -5.4587\n",
       "34     Topic3    65.629700        design   379.671539   0.0099  -5.7574\n",
       "202    Topic3    66.105148          time   454.401184  -0.1625  -5.7502\n",
       "75     Topic3    69.218597          look   596.633301  -0.3888  -5.7041\n",
       "685    Topic3    60.834927          year   332.919098   0.0655  -5.8332\n",
       "44     Topic3    60.505096          even   463.506989  -0.2709  -5.8387\n",
       "311    Topic3    60.433769            go   467.342346  -0.2803  -5.8399\n",
       "246    Topic3    55.153034        charge   230.168808   0.3365  -5.9313\n",
       "537    Topic3    55.356270         first   321.432495   0.0062  -5.9276\n",
       "\n",
       "[257 rows x 6 columns], token_table=      Topic      Freq              Term\n",
       "term                                   \n",
       "854       1  0.425508            accord\n",
       "854       2  0.093404            accord\n",
       "854       3  0.477399            accord\n",
       "4         1  0.677792              also\n",
       "4         2  0.198488              also\n",
       "4         3  0.122927              also\n",
       "5         1  0.449960            amazon\n",
       "5         3  0.546380            amazon\n",
       "4924      3  0.904267           analyst\n",
       "484       1  0.802761           android\n",
       "484       2  0.156891           android\n",
       "484       3  0.039223           android\n",
       "1029      1  0.994558          aperture\n",
       "9         1  0.237346               app\n",
       "9         2  0.762322               app\n",
       "486       1  0.220266            appear\n",
       "486       2  0.720872            appear\n",
       "486       3  0.050061            appear\n",
       "1176      1  0.172370             apple\n",
       "1176      2  0.196994             apple\n",
       "1176      3  0.628867             apple\n",
       "6454      3  0.928781         applecare\n",
       "488       1  0.991769      aspect_ratio\n",
       "870       2  0.973778              auto\n",
       "871       1  0.087703     automatically\n",
       "871       2  0.864498     automatically\n",
       "871       3  0.050116     automatically\n",
       "142       1  0.863389         available\n",
       "142       2  0.088301         available\n",
       "142       3  0.049056         available\n",
       "...     ...       ...               ...\n",
       "130       1  0.262868              turn\n",
       "130       2  0.687501              turn\n",
       "130       3  0.050552              turn\n",
       "1016      1  0.158649            unlock\n",
       "1016      2  0.836512            unlock\n",
       "466       1  0.369549               use\n",
       "466       2  0.471886               use\n",
       "466       3  0.159191               use\n",
       "7086      3  0.928803           vehicle\n",
       "1238      2  0.983276              wake\n",
       "471       1  0.370102              want\n",
       "471       2  0.485424              want\n",
       "471       3  0.142141              want\n",
       "1707      1  0.979212  water_resistance\n",
       "473       1  0.334046               way\n",
       "473       2  0.516606               way\n",
       "473       3  0.147602               way\n",
       "682       1  0.998058            winner\n",
       "849       1  0.996247        winner_tie\n",
       "478       1  0.366553              work\n",
       "478       2  0.401133              work\n",
       "478       3  0.231689              work\n",
       "2621      1  0.391700            xs_max\n",
       "2621      2  0.087044            xs_max\n",
       "2621      3  0.513562            xs_max\n",
       "684       1  0.951995                xz\n",
       "684       2  0.048258                xz\n",
       "685       1  0.732911              year\n",
       "685       2  0.084105              year\n",
       "685       3  0.183228              year\n",
       "\n",
       "[385 rows x 3 columns], R=30, lambda_step=0.01, plot_opts={'xlab': 'PC1', 'ylab': 'PC2'}, topic_order=[1, 3, 2])"
      ]
     },
     "execution_count": 24,
     "metadata": {},
     "output_type": "execute_result"
    }
   ],
   "source": [
    "# Visualize the topics\n",
    "pyLDAvis.enable_notebook()\n",
    "vis = pyLDAvis.gensim.prepare(lda, corpus, id2word)\n",
    "vis"
   ]
  },
  {
   "cell_type": "code",
   "execution_count": 33,
   "metadata": {},
   "outputs": [],
   "source": [
    "# Mallet LDA\n",
    "\n",
    "mallet_path = '/Users/ayankarim/mallet-2.0.8/bin/mallet'\n",
    "\n",
    "ldamallet = gensim.models.wrappers.LdaMallet(mallet_path, corpus=corpus, num_topics=3, id2word=id2word, iterations=1000, random_seed=100 )"
   ]
  },
  {
   "cell_type": "code",
   "execution_count": 34,
   "metadata": {
    "scrolled": true
   },
   "outputs": [
    {
     "name": "stdout",
     "output_type": "stream",
     "text": [
      "[(0,\n",
      "  [('phone', 0.04289988378705833),\n",
      "   ('camera', 0.03160002967138936),\n",
      "   ('pixel', 0.030240090992260712),\n",
      "   ('huawei', 0.014365897683159014),\n",
      "   ('feature', 0.013821922211507553),\n",
      "   ('good', 0.011596568009297035),\n",
      "   ('display', 0.01092896174863388),\n",
      "   ('moto', 0.010879509433029202),\n",
      "   ('lens', 0.009470118438295873),\n",
      "   ('mate_pro', 0.0087283337042257)]),\n",
      " (1,\n",
      "  [('iphone', 0.03962426407355957),\n",
      "   ('samsung', 0.024012700932724746),\n",
      "   ('phone', 0.019448303234768802),\n",
      "   ('galaxy', 0.018952173050208375),\n",
      "   ('apple', 0.01885294701329629),\n",
      "   ('device', 0.013031686181120593),\n",
      "   ('make', 0.010650261295230536),\n",
      "   ('company', 0.00988952834557121),\n",
      "   ('essential', 0.009724151617384401),\n",
      "   ('note', 0.009029569358999802)]),\n",
      " (2,\n",
      "  [('screen', 0.028379924799738433),\n",
      "   ('phone', 0.021383030897498774),\n",
      "   ('app', 0.017361451692005887),\n",
      "   ('case', 0.010593428151054438),\n",
      "   ('time', 0.00938368481281674),\n",
      "   ('display', 0.009024031387935262),\n",
      "   ('feature', 0.008697073728952101),\n",
      "   ('option', 0.008043158410985777),\n",
      "   ('make', 0.007912375347392513),\n",
      "   ('button', 0.00784698381559588)])]\n",
      "\n",
      "Coherence Score:  0.3668826536489755\n"
     ]
    }
   ],
   "source": [
    "# Show topics\n",
    "pprint(ldamallet.show_topics(formatted=False))\n",
    "\n",
    "# Compute Coherence Score\n",
    "coherence_model_ldamallet = CoherenceModel(model=ldamallet, texts=data_lemmatized, dictionary=id2word, coherence='c_v')\n",
    "coherence_ldamallet = coherence_model_ldamallet.get_coherence()\n",
    "print('\\nCoherence Score: ', coherence_ldamallet)"
   ]
  },
  {
   "cell_type": "code",
   "execution_count": 27,
   "metadata": {},
   "outputs": [],
   "source": [
    "def compute_coherence_values(dictionary, corpus, texts, limit, start=2, step=3):\n",
    "    \"\"\"\n",
    "    Compute c_v coherence for various number of topics\n",
    "\n",
    "    Parameters:\n",
    "    ----------\n",
    "    dictionary : Gensim dictionary\n",
    "    corpus : Gensim corpus\n",
    "    texts : List of input texts\n",
    "    limit : Max num of topics\n",
    "\n",
    "    Returns:\n",
    "    -------\n",
    "    model_list : List of LDA topic models\n",
    "    coherence_values : Coherence values corresponding to the LDA model with respective number of topics\n",
    "    \"\"\"\n",
    "    coherence_values = []\n",
    "    model_list = []\n",
    "    for num_topics in range(start, limit, step):\n",
    "        model = gensim.models.wrappers.LdaMallet(mallet_path, corpus=corpus, num_topics=num_topics, id2word=id2word)\n",
    "        model_list.append(model)\n",
    "        coherencemodel = CoherenceModel(model=model, texts=texts, dictionary=dictionary, coherence='c_v')\n",
    "        coherence_values.append(coherencemodel.get_coherence())\n",
    "\n",
    "    return model_list, coherence_values"
   ]
  },
  {
   "cell_type": "code",
   "execution_count": 28,
   "metadata": {},
   "outputs": [],
   "source": [
    "# # Can take a long time to run.\n",
    "# model_list, coherence_values = compute_coherence_values(dictionary=id2word, corpus=corpus, texts=data_lemmatized, start=2, limit=20, step=1)"
   ]
  },
  {
   "cell_type": "code",
   "execution_count": 29,
   "metadata": {},
   "outputs": [],
   "source": [
    "# # Show graph\n",
    "# limit=20; start=2; step=1;\n",
    "# x = range(start, limit, step)\n",
    "# plt.plot(x, coherence_values)\n",
    "# plt.xlabel(\"Num Topics\")\n",
    "# plt.ylabel(\"Coherence score\")\n",
    "# plt.legend((\"coherence_values\"), loc='best')\n",
    "# plt.show()"
   ]
  },
  {
   "cell_type": "code",
   "execution_count": 30,
   "metadata": {},
   "outputs": [],
   "source": [
    "# # Download wordnet to find meaning of words, synonyms and antonyms\n",
    "# nltk.download('wordnet')\n",
    "\n",
    "# # Function to lemmatize and more words to their root\n",
    "# def get_lemma(word):\n",
    "#     lemma = wn.morphy(word)\n",
    "#     if lemma is None:\n",
    "#         return word\n",
    "#     else:\n",
    "#         return lemma\n",
    "    \n",
    "# # Compile set of stopwords\n",
    "# nltk.download('stopwords')\n",
    "# en_stop = set(nltk.corpus.stopwords.words('english'))\n",
    "\n",
    "# def prepare_text_for_lda(text):\n",
    "#     tokens = tokenize(text)\n",
    "#     tokens = [token for token in tokens if len(token) > 4]\n",
    "#     tokens = [token for token in tokens if token not in en_stop]\n",
    "#     tokens = [get_lemma(token) for token in tokens]\n",
    "#     return tokens\n",
    "\n",
    "# text_data = []\n",
    "\n",
    "# # Prepare training set for LDA\n",
    "# tokens = json_data['text'].apply(lambda x: prepare_text_for_lda(x))\n",
    "\n",
    "# # Prepare Dataframe for later\n",
    "# json_data['text'] = json_data['text'].apply(lambda x: prepare_text_for_lda(x))\n",
    "\n",
    "# # Append tokenized text to list of tokenized data\n",
    "# null = tokens.apply(lambda x: text_data.append(x))\n",
    "\n",
    "# # Assemble tokenized text data into a dictionary\n",
    "# dictionary = corpora.Dictionary(text_data)\n",
    "\n",
    "# # Create Bag of Words corpus from text data\n",
    "# corpus = [dictionary.doc2bow(text) for text in text_data]\n",
    "\n",
    "# # Create TF-IDF vectors from our bag of words\n",
    "# tfidf = models.TfidfModel(corpus)\n",
    "# corpus_tfidf = tfidf[corpus]\n",
    "\n",
    "\n",
    "# for doc in corpus_tfidf:\n",
    "#     pprint(doc)\n",
    "#     break\n",
    "    \n",
    "    \n",
    "# pickle.dump(corpus_tfidf, open('corpus_tfidf.pkl', 'wb'))\n",
    "# dictionary.save('dictionary.gensim')"
   ]
  },
  {
   "cell_type": "code",
   "execution_count": 31,
   "metadata": {},
   "outputs": [],
   "source": [
    "    # IPhone X\n",
    "    # S9\n",
    "    # Pixel 3\n",
    "    # Huawei Mate 20 Pro \n",
    "    # OnePlus 6T\n",
    "    # Huawei P2 Pro\n",
    "    # LG V4 Thinq\n",
    "    # Sony Xperia XZ3\n",
    "    # Essential Phone\n",
    "    # Razor Phone 2\n",
    "    # HTC U12+\n",
    "    # Moto G6 plus"
   ]
  },
  {
   "cell_type": "code",
   "execution_count": 32,
   "metadata": {},
   "outputs": [],
   "source": [
    "####\n",
    "\n",
    "## Remove custom stop words\n",
    "\n",
    "## Assign the topics to the texts\n",
    "## Pickle dump the topic models\n",
    "## Call the models the in the opinion mining notebook and use them to classify the texts into topics\n",
    "## Use Multilabel Naive Bayes to get an output of aspect terms in a dataframe grouped into topic columns, ordered by score\n",
    "\n",
    "### HOW TO EVALUATE YOUR MODEL!!??\n",
    "\n",
    "## Clean the Notebook, write up a report\n",
    "## Create Presentation"
   ]
  }
 ],
 "metadata": {
  "kernelspec": {
   "display_name": "Python 3",
   "language": "python",
   "name": "python3"
  },
  "language_info": {
   "codemirror_mode": {
    "name": "ipython",
    "version": 3
   },
   "file_extension": ".py",
   "mimetype": "text/x-python",
   "name": "python",
   "nbconvert_exporter": "python",
   "pygments_lexer": "ipython3",
   "version": "3.6.5"
  }
 },
 "nbformat": 4,
 "nbformat_minor": 2
}
