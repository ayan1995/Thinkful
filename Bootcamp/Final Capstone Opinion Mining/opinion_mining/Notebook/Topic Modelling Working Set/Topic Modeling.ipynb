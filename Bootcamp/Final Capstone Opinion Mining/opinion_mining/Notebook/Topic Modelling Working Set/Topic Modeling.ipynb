{
 "cells": [
  {
   "cell_type": "code",
   "execution_count": 1,
   "metadata": {},
   "outputs": [],
   "source": [
    "# Import Dependencies and modules\n",
    "import numpy as np\n",
    "import pandas as pd\n",
    "import scipy\n",
    "import sklearn\n",
    "import spacy\n",
    "from spacy.lang.en import English\n",
    "import matplotlib.pyplot as plt\n",
    "import seaborn as sns\n",
    "import re\n",
    "import string\n",
    "from string import punctuation\n",
    "from collections import Counter\n",
    "from io import StringIO\n",
    "from nltk.corpus import stopwords\n",
    "from nltk.corpus import wordnet as wn\n",
    "\n",
    "import nltk\n",
    "import glob\n",
    "import errno\n",
    "import os\n",
    "import json\n",
    "\n",
    "from pprint import pprint\n",
    "\n",
    "# Gensim\n",
    "import gensim\n",
    "import gensim.corpora as corpora\n",
    "from gensim.utils import simple_preprocess\n",
    "from gensim import models\n",
    "from gensim.models import CoherenceModel, TfidfModel\n",
    "\n",
    "# spacy for lemmatization\n",
    "import spacy\n",
    "\n",
    "# Plotting tools\n",
    "import pyLDAvis\n",
    "import pyLDAvis.gensim  # don't skip this\n",
    "import matplotlib.pyplot as plt\n",
    "\n",
    "\n",
    "%matplotlib inline"
   ]
  },
  {
   "cell_type": "markdown",
   "metadata": {},
   "source": [
    "# Load Data"
   ]
  },
  {
   "cell_type": "code",
   "execution_count": 2,
   "metadata": {},
   "outputs": [],
   "source": [
    "json_data = pd.DataFrame(columns = ['author', 'text', 'title'])"
   ]
  },
  {
   "cell_type": "code",
   "execution_count": 3,
   "metadata": {},
   "outputs": [],
   "source": [
    "# Define path to text files that contain the novels\n",
    "path = '/Users/ayankarim/Documents/Thinkful/Bootcamp/Final Capstone Opinion Mining/opinion_mining/Notebook/Topic Modelling Working Set/files/*.json'\n",
    "files = glob.glob(path)\n",
    "\n",
    "all_jsons = []\n",
    "\n",
    "for filenames in files:\n",
    "    with open(filenames, 'r') as f:\n",
    "        file = json.load(f)\n",
    "        all_jsons.append(file)\n"
   ]
  },
  {
   "cell_type": "code",
   "execution_count": 4,
   "metadata": {},
   "outputs": [],
   "source": [
    "for dicts in all_jsons:\n",
    "    df = pd.DataFrame(dicts)\n",
    "    json_data = json_data.append(df)"
   ]
  },
  {
   "cell_type": "code",
   "execution_count": 5,
   "metadata": {},
   "outputs": [
    {
     "data": {
      "text/html": [
       "<div>\n",
       "<style scoped>\n",
       "    .dataframe tbody tr th:only-of-type {\n",
       "        vertical-align: middle;\n",
       "    }\n",
       "\n",
       "    .dataframe tbody tr th {\n",
       "        vertical-align: top;\n",
       "    }\n",
       "\n",
       "    .dataframe thead th {\n",
       "        text-align: right;\n",
       "    }\n",
       "</style>\n",
       "<table border=\"1\" class=\"dataframe\">\n",
       "  <thead>\n",
       "    <tr style=\"text-align: right;\">\n",
       "      <th></th>\n",
       "      <th>author</th>\n",
       "      <th>text</th>\n",
       "      <th>title</th>\n",
       "    </tr>\n",
       "  </thead>\n",
       "  <tbody>\n",
       "    <tr>\n",
       "      <th>0</th>\n",
       "      <td>[\\n\\t\\t\\t\\t\\t\\tJulian Chokkattu\\t\\t\\t\\t\\t]</td>\n",
       "      <td>[&lt;p&gt;Google’s &lt;a href=\"https://store.google.com...</td>\n",
       "      <td>\\n\\t\\tGoogle will announce hardware on October...</td>\n",
       "    </tr>\n",
       "    <tr>\n",
       "      <th>1</th>\n",
       "      <td>[\\n\\t\\t\\t\\t\\t\\tChristian de Looper\\t\\t\\t\\t\\t]</td>\n",
       "      <td>[&lt;p&gt;Google finally unveiled the new &lt;a href=\"h...</td>\n",
       "      <td>\\n\\t\\tHere’s how to buy the new Google Pixel 3...</td>\n",
       "    </tr>\n",
       "    <tr>\n",
       "      <th>2</th>\n",
       "      <td>[\\n\\t\\t\\t\\t\\t\\tSimon Hill\\t\\t\\t\\t\\t]</td>\n",
       "      <td>[&lt;p&gt;If you plan to buy one of Google’s &lt;a href...</td>\n",
       "      <td>\\n\\t\\tThe best Pixel 3 cases and covers\\t</td>\n",
       "    </tr>\n",
       "    <tr>\n",
       "      <th>3</th>\n",
       "      <td>[\\n\\t\\t\\t\\t\\t\\tSimon Hill\\t\\t\\t\\t\\t]</td>\n",
       "      <td>[&lt;p&gt;As the developer of Android, Google turns ...</td>\n",
       "      <td>\\n\\t\\tGoogle Pixel 3 vs. Pixel 2 vs. Pixel: Pi...</td>\n",
       "    </tr>\n",
       "    <tr>\n",
       "      <th>4</th>\n",
       "      <td>[\\n\\t\\t\\t\\t\\t\\tSimon Hill\\t\\t\\t\\t\\t]</td>\n",
       "      <td>[&lt;p&gt;There are plenty of contenders in the &lt;a h...</td>\n",
       "      <td>\\n\\t\\tGoogle Pixel 3 vs. Samsung Galaxy S9: Wh...</td>\n",
       "    </tr>\n",
       "  </tbody>\n",
       "</table>\n",
       "</div>"
      ],
      "text/plain": [
       "                                          author  \\\n",
       "0     [\\n\\t\\t\\t\\t\\t\\tJulian Chokkattu\\t\\t\\t\\t\\t]   \n",
       "1  [\\n\\t\\t\\t\\t\\t\\tChristian de Looper\\t\\t\\t\\t\\t]   \n",
       "2           [\\n\\t\\t\\t\\t\\t\\tSimon Hill\\t\\t\\t\\t\\t]   \n",
       "3           [\\n\\t\\t\\t\\t\\t\\tSimon Hill\\t\\t\\t\\t\\t]   \n",
       "4           [\\n\\t\\t\\t\\t\\t\\tSimon Hill\\t\\t\\t\\t\\t]   \n",
       "\n",
       "                                                text  \\\n",
       "0  [<p>Google’s <a href=\"https://store.google.com...   \n",
       "1  [<p>Google finally unveiled the new <a href=\"h...   \n",
       "2  [<p>If you plan to buy one of Google’s <a href...   \n",
       "3  [<p>As the developer of Android, Google turns ...   \n",
       "4  [<p>There are plenty of contenders in the <a h...   \n",
       "\n",
       "                                               title  \n",
       "0  \\n\\t\\tGoogle will announce hardware on October...  \n",
       "1  \\n\\t\\tHere’s how to buy the new Google Pixel 3...  \n",
       "2          \\n\\t\\tThe best Pixel 3 cases and covers\\t  \n",
       "3  \\n\\t\\tGoogle Pixel 3 vs. Pixel 2 vs. Pixel: Pi...  \n",
       "4  \\n\\t\\tGoogle Pixel 3 vs. Samsung Galaxy S9: Wh...  "
      ]
     },
     "execution_count": 5,
     "metadata": {},
     "output_type": "execute_result"
    }
   ],
   "source": [
    "json_data.head()"
   ]
  },
  {
   "cell_type": "markdown",
   "metadata": {},
   "source": [
    "# Clean Data"
   ]
  },
  {
   "cell_type": "code",
   "execution_count": 6,
   "metadata": {},
   "outputs": [],
   "source": [
    "# Utility function for standard text cleaning.\n",
    "def text_cleaner(text):\n",
    "    # Visual inspection identifies a form of punctuation spaCy does not\n",
    "    # recognize: the double dash '--'.  Better get rid of it now!\n",
    "\n",
    "    text = str(text).replace(\"\\n\", \"\")\n",
    "    text = str(text).replace(\"\\t\", \"\")\n",
    "    text = str(text).replace(\"\\\\n\", \"\")\n",
    "    text = str(text).replace(\"\\\\t\", \"\")\n",
    "    text = str(text).replace(\"\\\\\", \"\")\n",
    "    text = str(text).replace(\"xa0\", \" \")\n",
    "    text = str(text).replace(\"\\'\", \"\")\n",
    "    text = re.sub(\"<p>\", \"\", str(text))\n",
    "    text = re.sub(\"</p>\", \"\", str(text))\n",
    "    text = re.sub(\"</a>\", \"\", str(text))\n",
    "    text = re.sub('<[^>]+>', \"\", str(text)) \n",
    "    text = str(text).replace(\"\\\\u2019\", \"\")\n",
    "    text = str(text).replace(\"\\\\u2013\", \"\")\n",
    "    text = str(text).replace(\"\\\\u2018\", \"\")\n",
    "    text = str(text).replace(\"\\\\u00a0\", \"\")\n",
    "    text = str(text).replace(\"\\\\u00a3\", \"\")\n",
    "    text = str(text).replace(\"\\u2014\", \"\")\n",
    "    text = str(text).replace(\"\\u201d\", \"\")\n",
    "    text = str(text).replace(\"\\u201c\", \"\")\n",
    "    return text\n"
   ]
  },
  {
   "cell_type": "code",
   "execution_count": 7,
   "metadata": {},
   "outputs": [],
   "source": [
    "# Define function to clean text\n",
    "def clean_text(df):\n",
    "    # Convert lists to strings and remove brackets\n",
    "    df['text'] = df['text'].astype(str)\n",
    "    df['author'] = df['author'].astype(str)\n",
    "\n",
    "    df['text'] = df['text'].map(lambda x: x.strip('[]'))\n",
    "    df['author'] = df['author'].map(lambda x: x.strip('[]'))\n",
    "\n",
    "    # Clean text\n",
    "    df['text'] = df['text'].apply(lambda x: text_cleaner(x))\n",
    "    df['title'] = df['title'].apply(lambda x: text_cleaner(x))\n",
    "    df['author'] = df['author'].apply(lambda x: text_cleaner(x))"
   ]
  },
  {
   "cell_type": "code",
   "execution_count": 8,
   "metadata": {},
   "outputs": [],
   "source": [
    "# Clean Text\n",
    "clean_text(json_data)"
   ]
  },
  {
   "cell_type": "code",
   "execution_count": 9,
   "metadata": {},
   "outputs": [],
   "source": [
    "# Reset index\n",
    "json_data = json_data.reset_index()\n",
    "json_data = json_data.drop(['index'], axis=1)"
   ]
  },
  {
   "cell_type": "code",
   "execution_count": 10,
   "metadata": {},
   "outputs": [
    {
     "data": {
      "text/html": [
       "<div>\n",
       "<style scoped>\n",
       "    .dataframe tbody tr th:only-of-type {\n",
       "        vertical-align: middle;\n",
       "    }\n",
       "\n",
       "    .dataframe tbody tr th {\n",
       "        vertical-align: top;\n",
       "    }\n",
       "\n",
       "    .dataframe thead th {\n",
       "        text-align: right;\n",
       "    }\n",
       "</style>\n",
       "<table border=\"1\" class=\"dataframe\">\n",
       "  <thead>\n",
       "    <tr style=\"text-align: right;\">\n",
       "      <th></th>\n",
       "      <th>author</th>\n",
       "      <th>text</th>\n",
       "      <th>title</th>\n",
       "    </tr>\n",
       "  </thead>\n",
       "  <tbody>\n",
       "    <tr>\n",
       "      <th>0</th>\n",
       "      <td>Julian Chokkattu</td>\n",
       "      <td>Google’s annual hardware launch event will tak...</td>\n",
       "      <td>Google will announce hardware on October 9, ne...</td>\n",
       "    </tr>\n",
       "    <tr>\n",
       "      <th>1</th>\n",
       "      <td>Christian de Looper</td>\n",
       "      <td>Google finally unveiled the new Google Pixel 3...</td>\n",
       "      <td>Here’s how to buy the new Google Pixel 3 and G...</td>\n",
       "    </tr>\n",
       "    <tr>\n",
       "      <th>2</th>\n",
       "      <td>Simon Hill</td>\n",
       "      <td>If you plan to buy one of Google’s Pixel 3 sma...</td>\n",
       "      <td>The best Pixel 3 cases and covers</td>\n",
       "    </tr>\n",
       "    <tr>\n",
       "      <th>3</th>\n",
       "      <td>Simon Hill</td>\n",
       "      <td>As the developer of Android, Google turns out ...</td>\n",
       "      <td>Google Pixel 3 vs. Pixel 2 vs. Pixel: Picking ...</td>\n",
       "    </tr>\n",
       "    <tr>\n",
       "      <th>4</th>\n",
       "      <td>Simon Hill</td>\n",
       "      <td>There are plenty of contenders in the Android ...</td>\n",
       "      <td>Google Pixel 3 vs. Samsung Galaxy S9: Which sm...</td>\n",
       "    </tr>\n",
       "  </tbody>\n",
       "</table>\n",
       "</div>"
      ],
      "text/plain": [
       "                author                                               text  \\\n",
       "0     Julian Chokkattu  Google’s annual hardware launch event will tak...   \n",
       "1  Christian de Looper  Google finally unveiled the new Google Pixel 3...   \n",
       "2           Simon Hill  If you plan to buy one of Google’s Pixel 3 sma...   \n",
       "3           Simon Hill  As the developer of Android, Google turns out ...   \n",
       "4           Simon Hill  There are plenty of contenders in the Android ...   \n",
       "\n",
       "                                               title  \n",
       "0  Google will announce hardware on October 9, ne...  \n",
       "1  Here’s how to buy the new Google Pixel 3 and G...  \n",
       "2                  The best Pixel 3 cases and covers  \n",
       "3  Google Pixel 3 vs. Pixel 2 vs. Pixel: Picking ...  \n",
       "4  Google Pixel 3 vs. Samsung Galaxy S9: Which sm...  "
      ]
     },
     "execution_count": 10,
     "metadata": {},
     "output_type": "execute_result"
    }
   ],
   "source": [
    "# Visualize dataframe\n",
    "json_data.head()"
   ]
  },
  {
   "cell_type": "markdown",
   "metadata": {},
   "source": [
    "# Pre-Process Data for NLP"
   ]
  },
  {
   "cell_type": "code",
   "execution_count": 11,
   "metadata": {},
   "outputs": [],
   "source": [
    "# # Tokenize text\n",
    "# df['text'] = df.apply(lambda row: nltk.word_tokenize(row['text']), axis=1)\n",
    "# df['title'] = df.apply(lambda row: nltk.word_tokenize(row['title']), axis=1)\n",
    "\n",
    "# # Remove Stopwords, or keep it, might be important for aspect based semantics\n",
    "# stop = stopwords.words('english')\n",
    "# df['text'] = df['text'].apply(lambda x: [item for item in x if item not in stop])\n",
    "# df['title'] = df['title'].apply(lambda x: [item for item in x if item not in stop])\n",
    "\n",
    "# # Lowercase everything\n",
    "# df['text'] = df['text'].astype(str)\n",
    "# df['text'] = df['text'].apply(lambda x: x.lower())\n",
    "\n",
    "# df['title'] = df['title'].astype(str)\n",
    "# df['title'] = df['title'].apply(lambda x: x.lower())\n",
    "\n",
    "# # remove all punctuations\n",
    "# df['text'] = df['text'].apply(lambda x: ''.join(c for c in x if c not in punctuation))\n",
    "# df['title'] = df['title'].apply(lambda x: ''.join(c for c in x if c not in punctuation))"
   ]
  },
  {
   "cell_type": "code",
   "execution_count": 12,
   "metadata": {},
   "outputs": [],
   "source": [
    "\n",
    "spacy.load('en')\n",
    "parser = English()\n",
    "\n",
    "# Function to tokenize text\n",
    "def tokenize(text):\n",
    "    lda_tokens = []\n",
    "    tokens  = parser(text)\n",
    "    for token in tokens:\n",
    "        if token.orth_.isspace():\n",
    "            continue\n",
    "        elif token.like_url:\n",
    "            lda_tokens.append('URL')\n",
    "        elif token.orth_.startswith('@'):\n",
    "            lda_tokens.append('SCREEN_NAME')\n",
    "        else:\n",
    "            lda_tokens.append(token.lower_)\n",
    "    return lda_tokens\n",
    "\n",
    "def sent_to_words(sentences):\n",
    "    for sentence in sentences:\n",
    "        yield(gensim.utils.simple_preprocess(str(sentence), deacc = True))\n",
    "        \n"
   ]
  },
  {
   "cell_type": "code",
   "execution_count": 13,
   "metadata": {},
   "outputs": [],
   "source": [
    "data = list(json_data['text'])\n",
    "\n",
    "data_words = list(sent_to_words(data))"
   ]
  },
  {
   "cell_type": "code",
   "execution_count": 14,
   "metadata": {},
   "outputs": [
    {
     "name": "stdout",
     "output_type": "stream",
     "text": [
      "[['google', 'annual', 'hardware', 'launch', 'event', 'will', 'take', 'place', 'on', 'october', 'in', 'new', 'york', 'city', 'the', 'company', 'sent', 'out', 'invites', 'to', 'media', 'including', 'digital', 'trends', 'confirming', 'the', 'date', 'which', 'had', 'leaked', 'in', 'august', 'the', 'date', 'and', 'venue', 'are', 'change', 'of', 'pace', 'considering', 'the', 'past', 'two', 'google', 'october', 'events', 'have', 'taken', 'place', 'in', 'san', 'francisco', 'on', 'october', 'the', 'company', 'is', 'widely', 'expected', 'to', 'launch', 'slew', 'of', 'hardware', 'products', 'ranging', 'from', 'smartphones', 'to', 'smart', 'home', 'devices', 'the', 'highlights', 'will', 'be', 'the', 'pixel', 'and', 'pixel', 'xl', 'successors', 'to', 'last', 'year', 'critically', 'acclaimed', 'pixel', 'and', 'pixel', 'xl', 'smartphones', 'there', 'have', 'been', 'an', 'alarmingly', 'high', 'number', 'of', 'leaks', 'for', 'the', 'pixel', 'series', 'and', 'if', 'true', 'we', 'know', 'quite', 'lot', 'about', 'the', 'phones', 'it', 'may', 'be', 'due', 'to', 'carelessness', 'recently', 'someone', 'left', 'pixel', 'in', 'the', 'back', 'of', 'lyft', 'separately', 'group', 'in', 'russia', 'claims', 'to', 'have', 'gotten', 'its', 'hands', 'on', 'shipment', 'of', 'pixel', 'xl', 'smartphones', 'and', 'even', 'posted', 'an', 'unboxing', 'video', 'showing', 'everything', 'you', 'get', 'in', 'the', 'box', 'the', 'pixel', 'xl', 'is', 'expected', 'to', 'have', 'notch', 'design', 'where', 'cutout', 'at', 'the', 'top', 'of', 'the', 'screen', 'houses', 'the', 'front', 'facing', 'camera', 'this', 'has', 'garnered', 'some', 'criticism', 'as', 'the', 'notch', 'on', 'the', 'pixel', 'xl', 'looks', 'unusually', 'large', 'the', 'smaller', 'pixel', 'may', 'have', 'more', 'traditional', 'design', 'with', 'slimmer', 'bezels', 'on', 'the', 'top', 'and', 'bottom', 'you', 'can', 'learn', 'more', 'about', 'the', 'two', 'phones', 'in', 'our', 'pixel', 'roundup', 'as', 'the', 'new', 'pixel', 'devices', 'are', 'rumored', 'to', 'support', 'wireless', 'charging', 'leaks', 'suggest', 'google', 'will', 'also', 'announce', 'the', 'pixel', 'stand', 'wireless', 'charging', 'dock', 'that', 'also', 'turns', 'the', 'phone', 'screen', 'into', 'smart', 'display', 'for', 'google', 'assistant', 'similar', 'to', 'what', 'lenovo', 'offers', 'with', 'its', 'smart', 'display', 'google', 'is', 'also', 'rumored', 'to', 'be', 'launch', 'its', 'own', 'smart', 'display', 'to', 'compete', 'with', 'the', 'likes', 'of', 'amazon', 'echo', 'show', 'it', 'will', 'essentially', 'be', 'google', 'home', 'with', 'screen', 'you', 'll', 'be', 'able', 'to', 'access', 'youtube', 'videos', 'with', 'your', 'voice', 'thanks', 'to', 'google', 'assistant', 'and', 'make', 'video', 'calls', 'with', 'google', 'duo', 'app', 'other', 'products', 'rumored', 'to', 'be', 'on', 'the', 'docket', 'are', 'two', 'pixelbooks', 'which', 'are', 'chromebooks', 'from', 'google', 'running', 'chrome', 'os', 'and', 'potential', 'followup', 'to', 'the', 'google', 'pixel', 'buds', 'there', 'likely', 'more', 'google', 'will', 'announce', 'at', 'the', 'event', 'that', 'we', 'haven', 'heard', 'much', 'about', 'for', 'example', 'last', 'year', 'google', 'clips', 'announcement', 'came', 'as', 'surprise', 'digital', 'trends', 'will', 'be', 'on', 'the', 'scene', 'in', 'new', 'york', 'on', 'october', 'reporting', 'on', 'everything', 'google', 'will', 'announce', 'so', 'stay', 'tuned']]\n"
     ]
    }
   ],
   "source": [
    "print(data_words[:1])"
   ]
  },
  {
   "cell_type": "code",
   "execution_count": 15,
   "metadata": {},
   "outputs": [],
   "source": [
    "# Create Bigrams and Trigrams\n",
    "\n",
    "# Build the models\n",
    "bigram = gensim.models.Phrases(data_words, min_count=5, threshold=100)\n",
    "trigram = gensim.models.Phrases(bigram[data_words], threshold=100)\n",
    "\n",
    "# fast way to get a sentece clubbed as a bigram/trigram\n",
    "bigram_mod = gensim.models.phrases.Phraser(bigram)\n",
    "trigram_mod = gensim.models.phrases.Phraser(trigram)"
   ]
  },
  {
   "cell_type": "code",
   "execution_count": 16,
   "metadata": {},
   "outputs": [
    {
     "name": "stdout",
     "output_type": "stream",
     "text": [
      "['google', 'annual', 'hardware', 'launch', 'event', 'will', 'take', 'place', 'on', 'october', 'in', 'new', 'york', 'city', 'the', 'company', 'sent', 'out', 'invites', 'to', 'media', 'including', 'digital_trends', 'confirming', 'the', 'date', 'which', 'had', 'leaked', 'in', 'august', 'the', 'date', 'and', 'venue', 'are', 'change', 'of', 'pace', 'considering', 'the', 'past', 'two', 'google', 'october', 'events', 'have', 'taken', 'place', 'in', 'san', 'francisco', 'on', 'october', 'the', 'company', 'is', 'widely', 'expected', 'to', 'launch', 'slew', 'of', 'hardware', 'products', 'ranging', 'from', 'smartphones', 'to', 'smart', 'home', 'devices', 'the', 'highlights', 'will', 'be', 'the', 'pixel', 'and', 'pixel', 'xl', 'successors', 'to', 'last_year', 'critically', 'acclaimed', 'pixel', 'and', 'pixel', 'xl', 'smartphones', 'there', 'have', 'been', 'an', 'alarmingly', 'high', 'number', 'of', 'leaks', 'for', 'the', 'pixel', 'series', 'and', 'if', 'true', 'we', 'know', 'quite', 'lot', 'about', 'the', 'phones', 'it', 'may', 'be', 'due', 'to', 'carelessness', 'recently', 'someone', 'left', 'pixel', 'in', 'the', 'back', 'of', 'lyft', 'separately', 'group', 'in', 'russia', 'claims', 'to', 'have', 'gotten', 'its', 'hands', 'on', 'shipment', 'of', 'pixel', 'xl', 'smartphones', 'and', 'even', 'posted', 'an', 'unboxing', 'video', 'showing', 'everything', 'you', 'get', 'in', 'the', 'box', 'the', 'pixel', 'xl', 'is', 'expected', 'to', 'have', 'notch', 'design', 'where', 'cutout', 'at', 'the', 'top', 'of', 'the', 'screen', 'houses', 'the', 'front_facing', 'camera', 'this', 'has', 'garnered', 'some', 'criticism', 'as', 'the', 'notch', 'on', 'the', 'pixel', 'xl', 'looks', 'unusually', 'large', 'the', 'smaller', 'pixel', 'may', 'have', 'more', 'traditional', 'design', 'with', 'slimmer', 'bezels', 'on', 'the', 'top', 'and', 'bottom', 'you', 'can', 'learn', 'more', 'about', 'the', 'two', 'phones', 'in', 'our', 'pixel', 'roundup', 'as', 'the', 'new', 'pixel', 'devices', 'are', 'rumored', 'to', 'support', 'wireless_charging', 'leaks', 'suggest', 'google', 'will', 'also', 'announce', 'the', 'pixel', 'stand', 'wireless_charging', 'dock', 'that', 'also', 'turns', 'the', 'phone', 'screen', 'into', 'smart', 'display', 'for', 'google', 'assistant', 'similar', 'to', 'what', 'lenovo', 'offers', 'with', 'its', 'smart', 'display', 'google', 'is', 'also', 'rumored', 'to', 'be', 'launch', 'its', 'own', 'smart', 'display', 'to', 'compete', 'with', 'the', 'likes', 'of', 'amazon', 'echo', 'show', 'it', 'will', 'essentially', 'be', 'google', 'home', 'with', 'screen', 'you', 'll', 'be', 'able', 'to', 'access', 'youtube', 'videos', 'with', 'your', 'voice', 'thanks', 'to', 'google', 'assistant', 'and', 'make', 'video', 'calls', 'with', 'google', 'duo', 'app', 'other', 'products', 'rumored', 'to', 'be', 'on', 'the', 'docket', 'are', 'two', 'pixelbooks', 'which', 'are', 'chromebooks', 'from', 'google', 'running', 'chrome_os', 'and', 'potential', 'followup', 'to', 'the', 'google', 'pixel', 'buds', 'there', 'likely', 'more', 'google', 'will', 'announce', 'at', 'the', 'event', 'that', 'we', 'haven', 'heard', 'much', 'about', 'for', 'example', 'last_year', 'google', 'clips', 'announcement', 'came', 'as', 'surprise', 'digital_trends', 'will', 'be', 'on', 'the', 'scene', 'in', 'new', 'york', 'on', 'october', 'reporting', 'on', 'everything', 'google', 'will', 'announce', 'so', 'stay', 'tuned']\n"
     ]
    }
   ],
   "source": [
    "print(trigram_mod[bigram_mod[data_words[0]]])"
   ]
  },
  {
   "cell_type": "code",
   "execution_count": 17,
   "metadata": {},
   "outputs": [],
   "source": [
    "# Remove Stopwords, make bigrams and lemmatize\n",
    "stop_words = stopwords.words('english')\n",
    "stop_words.extend(['pixel', 'iphone', 'samsung', 'apple', 'essential', 'xs', 'max', \n",
    "                  'huawei', 'galaxy', 'note', 'moto', 'oneplus', 'android', 'mate', 'pro', 'lg', 'sony', 'razer', 'phone', 'company', \n",
    "                  'smartphone', 'google', 'thinq', 'nokia', 'htc', 'xperia', 'xz'])\n",
    "\n",
    "# Define functions for stopwords, bigrams, trigrams and lemmatization\n",
    "def remove_stopwords(texts):\n",
    "    return [[word for word in simple_preprocess(str(doc)) if word not in stop_words] for doc in texts]\n",
    "\n",
    "def make_bigrams(texts):\n",
    "    return [bigram_mod[doc] for doc in texts]\n",
    "\n",
    "def make_trigrams(texts):\n",
    "    return [trigram_mod[bigram_mod[doc]] for doc in texts]\n",
    "\n",
    "def lemmatization(texts, allowed_postags=['NOUN', 'ADJ', 'VERB', 'ADV']):\n",
    "    \"\"\"https://spacy.io/api/annotation\"\"\"\n",
    "    texts_out = []\n",
    "    for sent in texts:\n",
    "        doc = nlp(\" \".join(sent)) \n",
    "        texts_out.append([token.lemma_ for token in doc if token.pos_ in allowed_postags])\n",
    "    return texts_out"
   ]
  },
  {
   "cell_type": "code",
   "execution_count": 18,
   "metadata": {
    "scrolled": true
   },
   "outputs": [
    {
     "name": "stdout",
     "output_type": "stream",
     "text": [
      "[['annual', 'hardware', 'launch', 'event', 'take', 'place', 'october', 'new', 'york', 'city', 'send', 'invite', 'medium', 'include', 'digital_trend', 'confirm', 'date', 'leak', 'august', 'date', 'venue', 'change', 'pace', 'consider', 'october', 'event', 'take', 'place', 'san', 'francisco', 'october', 'widely', 'expect', 'launch', 'slay', 'hardware', 'product', 'range', 'smartphone', 'smart', 'home', 'device', 'highlight', 'successor', 'last_year', 'critically', 'acclaim', 'smartphone', 'alarmingly', 'high', 'number', 'leak', 'series', 'true', 'know', 'quite', 'lot', 'phone', 'may', 'due', 'carelessness', 'recently', 'someone', 'leave', 'lyft', 'separately', 'group', 'russia', 'claim', 'get', 'hand', 'shipment', 'smartphone', 'even', 'post', 'unbox', 'video', 'show', 'everything', 'get', 'box', 'expect', 'notch', 'design', 'cutout', 'top', 'screen', 'house', 'front_fac', 'camera', 'garner', 'criticism', 'notch', 'look', 'unusually', 'large', 'small', 'may', 'traditional', 'design', 'slim', 'bezel', 'top', 'bottom', 'learn', 'phone', 'roundup', 'new', 'device', 'rumor', 'support', 'wireless_charging', 'leak', 'suggest', 'also', 'announce', 'stand', 'wireless_charging', 'dock', 'also', 'turn', 'screen', 'smart', 'display', 'assistant', 'similar', 'lenovo', 'offer', 'smart', 'display', 'also', 'rumor', 'launch', 'smart', 'display', 'compete', 'like', 'amazon', 'echo', 'show', 'essentially', 'home', 'screen', 'able', 'access', 'youtube', 'video', 'voice', 'thank', 'assistant', 'make', 'video', 'call', 'duo', 'app', 'product', 'rumor', 'docket', 'pixelbook', 'chromebook', 'run', 'chrome_os', 'potential', 'followup', 'bud', 'likely', 'announce', 'event', 'hear', 'much', 'example', 'last_year', 'clip', 'announcement', 'come', 'surprise', 'digital_trend', 'scene', 'new', 'york', 'october', 'report', 'everything', 'announce', 'stay', 'tune']]\n"
     ]
    }
   ],
   "source": [
    "# Remove Stop Words\n",
    "data_words_nostops = remove_stopwords(data_words)\n",
    "\n",
    "# Form Bigrams\n",
    "data_words_bigrams = make_bigrams(data_words_nostops)\n",
    "\n",
    "# Initialize spacy 'en' model, keeping only tagger component (for efficiency)\n",
    "# python3 -m spacy download en\n",
    "nlp = spacy.load('en', disable=['parser', 'ner'])\n",
    "\n",
    "# Do lemmatization keeping only noun, adj, vb, adv\n",
    "data_lemmatized = lemmatization(data_words_bigrams, allowed_postags=['NOUN', 'ADJ', 'VERB', 'ADV'])\n",
    "\n",
    "print(data_lemmatized[:1])"
   ]
  },
  {
   "cell_type": "code",
   "execution_count": 19,
   "metadata": {},
   "outputs": [],
   "source": [
    "# Create Dictionary\n",
    "id2word = corpora.Dictionary(data_lemmatized)\n",
    "\n",
    "# Create Corpus\n",
    "texts = data_lemmatized\n",
    "\n",
    "# Term Document Frequency\n",
    "corpus = [id2word.doc2bow(text) for text in texts]"
   ]
  },
  {
   "cell_type": "code",
   "execution_count": 20,
   "metadata": {},
   "outputs": [
    {
     "data": {
      "text/plain": [
       "316"
      ]
     },
     "execution_count": 20,
     "metadata": {},
     "output_type": "execute_result"
    }
   ],
   "source": [
    "len(corpus[2])"
   ]
  },
  {
   "cell_type": "code",
   "execution_count": 21,
   "metadata": {},
   "outputs": [],
   "source": [
    "# gather tfidf scores\n",
    "tfidf = models.TfidfModel(corpus, id2word = id2word)\n",
    "\n",
    "# filter low value words\n",
    "low_value = 0.025\n",
    "\n",
    "for i in range(0, len(corpus)):\n",
    "    bow = corpus[i]\n",
    "    low_value_words = [] #reinitialize to be safe. You can skip this.\n",
    "    low_value_words = [id for id, value in tfidf[bow] if value < low_value]\n",
    "    new_bow = [b for b in bow if b[0] not in low_value_words]\n",
    "\n",
    "    #reassign        \n",
    "    corpus[i] = new_bow"
   ]
  },
  {
   "cell_type": "code",
   "execution_count": 22,
   "metadata": {},
   "outputs": [
    {
     "data": {
      "text/plain": [
       "198"
      ]
     },
     "execution_count": 22,
     "metadata": {},
     "output_type": "execute_result"
    }
   ],
   "source": [
    "len(corpus[2])"
   ]
  },
  {
   "cell_type": "code",
   "execution_count": 23,
   "metadata": {},
   "outputs": [
    {
     "name": "stdout",
     "output_type": "stream",
     "text": [
      "[[(0, 1), (1, 1), (2, 1), (3, 1), (5, 1), (6, 3), (7, 1), (8, 1), (10, 2), (11, 1), (12, 1), (13, 1), (14, 1), (15, 1), (16, 1), (18, 1), (19, 1), (20, 1), (21, 1), (22, 1), (23, 1), (24, 1), (26, 1), (27, 1), (28, 1), (29, 1), (30, 1), (31, 1), (32, 2), (33, 2), (34, 2), (35, 2), (36, 3), (37, 1), (38, 1), (39, 1), (40, 1), (41, 1), (42, 1), (44, 3), (45, 2), (46, 1), (47, 2), (48, 1), (49, 1), (50, 1), (51, 1), (53, 1), (54, 1), (55, 2), (56, 1), (57, 1), (58, 1), (59, 2), (60, 1), (62, 1), (65, 2), (66, 3), (67, 3), (68, 1), (69, 1), (70, 1), (71, 1), (72, 1), (75, 1), (78, 1), (81, 2), (82, 1), (83, 4), (85, 1), (87, 1), (88, 2), (89, 1), (90, 1), (91, 2), (92, 1), (93, 1), (94, 1), (95, 1), (96, 1), (97, 3), (98, 1), (99, 1), (100, 1), (101, 1), (102, 3), (103, 1), (104, 1), (105, 1), (106, 1), (107, 2), (108, 1), (109, 1), (110, 1), (112, 4), (113, 3), (114, 1), (115, 1), (116, 1), (117, 1), (118, 1), (119, 1), (120, 1), (122, 1), (123, 2), (124, 1), (125, 1), (126, 1), (127, 1), (128, 1), (129, 1), (130, 1), (131, 3), (132, 1), (133, 1), (134, 2), (135, 2), (136, 1)]]\n"
     ]
    }
   ],
   "source": [
    "# View\n",
    "print(corpus[:1])"
   ]
  },
  {
   "cell_type": "code",
   "execution_count": 24,
   "metadata": {},
   "outputs": [],
   "source": [
    "# Build the lda topic model\n",
    "\n",
    "lda = gensim.models.ldamodel.LdaModel(corpus=corpus,\n",
    "                                      id2word=id2word,\n",
    "                                      num_topics=3, \n",
    "                                      random_state=100,\n",
    "                                      update_every=1,\n",
    "                                      chunksize=50,\n",
    "                                      passes=25,\n",
    "                                      alpha='auto',\n",
    "                                      per_word_topics=True)"
   ]
  },
  {
   "cell_type": "markdown",
   "metadata": {},
   "source": [
    "1. topic 0\n",
    "    - camera, display, feature, megapixel, lens, screen, big, device\n",
    "    \n",
    "    reliability\n",
    "    \n",
    "2. topic 1\n",
    "    - screen, app, case, tap, go, option, display, setting, button, notification, select\n",
    "    \n",
    "    functionality\n",
    "    \n",
    "3. topic 2\n",
    "    - camera, photo, device, work, user, issue, leak, show, app, really, update\n",
    "    \n",
    "    design"
   ]
  },
  {
   "cell_type": "code",
   "execution_count": 25,
   "metadata": {},
   "outputs": [
    {
     "name": "stdout",
     "output_type": "stream",
     "text": [
      "[(0,\n",
      "  '0.018*\"camera\" + 0.013*\"phone\" + 0.010*\"good\" + 0.009*\"display\" + '\n",
      "  '0.008*\"feature\" + 0.007*\"megapixel\" + 0.007*\"offer\" + 0.007*\"find\" + '\n",
      "  '0.006*\"lens\" + 0.006*\"winner\" + 0.006*\"screen\" + 0.005*\"get\" + 0.005*\"come\" '\n",
      "  '+ 0.005*\"big\" + 0.005*\"device\"'),\n",
      " (1,\n",
      "  '0.015*\"screen\" + 0.015*\"app\" + 0.015*\"case\" + 0.012*\"tap\" + 0.007*\"go\" + '\n",
      "  '0.007*\"want\" + 0.007*\"set\" + 0.006*\"home\" + 0.006*\"option\" + '\n",
      "  '0.006*\"display\" + 0.006*\"setting\" + 0.005*\"button\" + 0.005*\"turn\" + '\n",
      "  '0.005*\"notification\" + 0.005*\"select\"'),\n",
      " (2,\n",
      "  '0.008*\"camera\" + 0.008*\"photo\" + 0.006*\"device\" + 0.005*\"even\" + '\n",
      "  '0.004*\"take\" + 0.004*\"say\" + 0.004*\"work\" + 0.004*\"could\" + 0.004*\"user\" + '\n",
      "  '0.003*\"issue\" + 0.003*\"leak\" + 0.003*\"show\" + 0.003*\"app\" + 0.003*\"really\" '\n",
      "  '+ 0.003*\"update\"')]\n"
     ]
    }
   ],
   "source": [
    "# Print the key words in the 10 topics\n",
    "pprint(lda.print_topics(num_words=15))\n",
    "doc_lda = lda[corpus]"
   ]
  },
  {
   "cell_type": "code",
   "execution_count": 26,
   "metadata": {},
   "outputs": [
    {
     "name": "stdout",
     "output_type": "stream",
     "text": [
      "\n",
      "Perplexity:  -7.761362401661696\n",
      "\n",
      "Coherence Score:  0.37494692931064205\n"
     ]
    }
   ],
   "source": [
    "# Evaluate how good the model is\n",
    "\n",
    "# Compute perplexity\n",
    "print('\\nPerplexity: ', lda.log_perplexity(corpus)) # Lower the better\n",
    "\n",
    "# Compute Coherence\n",
    "coherenece_model_lda = CoherenceModel(model=lda, texts=data_lemmatized, dictionary=id2word, coherence='c_v' )\n",
    "coherence_lda = coherenece_model_lda.get_coherence()\n",
    "print('\\nCoherence Score: ', coherence_lda)"
   ]
  },
  {
   "cell_type": "code",
   "execution_count": 27,
   "metadata": {},
   "outputs": [
    {
     "name": "stderr",
     "output_type": "stream",
     "text": [
      "/usr/local/lib/python3.6/site-packages/pyLDAvis/_prepare.py:257: FutureWarning: Sorting because non-concatenation axis is not aligned. A future version\n",
      "of pandas will change to not sort by default.\n",
      "\n",
      "To accept the future behavior, pass 'sort=False'.\n",
      "\n",
      "To retain the current behavior and silence the warning, pass 'sort=True'.\n",
      "\n",
      "  return pd.concat([default_term_info] + list(topic_dfs))\n"
     ]
    },
    {
     "data": {
      "text/html": [
       "\n",
       "<link rel=\"stylesheet\" type=\"text/css\" href=\"https://cdn.rawgit.com/bmabey/pyLDAvis/files/ldavis.v1.0.0.css\">\n",
       "\n",
       "\n",
       "<div id=\"ldavis_el3620449267970483228877645\"></div>\n",
       "<script type=\"text/javascript\">\n",
       "\n",
       "var ldavis_el3620449267970483228877645_data = {\"mdsDat\": {\"x\": [-0.12579607830192463, -0.07407142946487771, 0.19986750776680232], \"y\": [0.11829653731369029, -0.1406330730140326, 0.022336535700342306], \"topics\": [1, 2, 3], \"cluster\": [1, 1, 1], \"Freq\": [49.61703872680664, 35.69866180419922, 14.684300422668457]}, \"tinfo\": {\"Category\": [\"Default\", \"Default\", \"Default\", \"Default\", \"Default\", \"Default\", \"Default\", \"Default\", \"Default\", \"Default\", \"Default\", \"Default\", \"Default\", \"Default\", \"Default\", \"Default\", \"Default\", \"Default\", \"Default\", \"Default\", \"Default\", \"Default\", \"Default\", \"Default\", \"Default\", \"Default\", \"Default\", \"Default\", \"Default\", \"Default\", \"Topic1\", \"Topic1\", \"Topic1\", \"Topic1\", \"Topic1\", \"Topic1\", \"Topic1\", \"Topic1\", \"Topic1\", \"Topic1\", \"Topic1\", \"Topic1\", \"Topic1\", \"Topic1\", \"Topic1\", \"Topic1\", \"Topic1\", \"Topic1\", \"Topic1\", \"Topic1\", \"Topic1\", \"Topic1\", \"Topic1\", \"Topic1\", \"Topic1\", \"Topic1\", \"Topic1\", \"Topic1\", \"Topic1\", \"Topic1\", \"Topic1\", \"Topic1\", \"Topic1\", \"Topic1\", \"Topic1\", \"Topic1\", \"Topic1\", \"Topic1\", \"Topic1\", \"Topic1\", \"Topic1\", \"Topic1\", \"Topic1\", \"Topic1\", \"Topic1\", \"Topic1\", \"Topic1\", \"Topic1\", \"Topic1\", \"Topic1\", \"Topic1\", \"Topic1\", \"Topic2\", \"Topic2\", \"Topic2\", \"Topic2\", \"Topic2\", \"Topic2\", \"Topic2\", \"Topic2\", \"Topic2\", \"Topic2\", \"Topic2\", \"Topic2\", \"Topic2\", \"Topic2\", \"Topic2\", \"Topic2\", \"Topic2\", \"Topic2\", \"Topic2\", \"Topic2\", \"Topic2\", \"Topic2\", \"Topic2\", \"Topic2\", \"Topic2\", \"Topic2\", \"Topic2\", \"Topic2\", \"Topic2\", \"Topic2\", \"Topic2\", \"Topic2\", \"Topic2\", \"Topic2\", \"Topic2\", \"Topic2\", \"Topic2\", \"Topic2\", \"Topic2\", \"Topic2\", \"Topic2\", \"Topic2\", \"Topic2\", \"Topic2\", \"Topic2\", \"Topic2\", \"Topic2\", \"Topic2\", \"Topic2\", \"Topic2\", \"Topic2\", \"Topic2\", \"Topic2\", \"Topic2\", \"Topic2\", \"Topic2\", \"Topic2\", \"Topic2\", \"Topic2\", \"Topic2\", \"Topic2\", \"Topic2\", \"Topic2\", \"Topic2\", \"Topic2\", \"Topic2\", \"Topic2\", \"Topic2\", \"Topic2\", \"Topic2\", \"Topic3\", \"Topic3\", \"Topic3\", \"Topic3\", \"Topic3\", \"Topic3\", \"Topic3\", \"Topic3\", \"Topic3\", \"Topic3\", \"Topic3\", \"Topic3\", \"Topic3\", \"Topic3\", \"Topic3\", \"Topic3\", \"Topic3\", \"Topic3\", \"Topic3\", \"Topic3\", \"Topic3\", \"Topic3\", \"Topic3\", \"Topic3\", \"Topic3\", \"Topic3\", \"Topic3\", \"Topic3\", \"Topic3\", \"Topic3\", \"Topic3\", \"Topic3\", \"Topic3\", \"Topic3\", \"Topic3\", \"Topic3\", \"Topic3\", \"Topic3\", \"Topic3\", \"Topic3\", \"Topic3\", \"Topic3\", \"Topic3\", \"Topic3\", \"Topic3\", \"Topic3\", \"Topic3\", \"Topic3\", \"Topic3\", \"Topic3\", \"Topic3\", \"Topic3\", \"Topic3\", \"Topic3\", \"Topic3\", \"Topic3\", \"Topic3\", \"Topic3\", \"Topic3\", \"Topic3\", \"Topic3\", \"Topic3\", \"Topic3\", \"Topic3\", \"Topic3\", \"Topic3\", \"Topic3\", \"Topic3\", \"Topic3\", \"Topic3\"], \"Freq\": [549.0, 238.0, 346.0, 512.0, 176.0, 417.0, 298.0, 162.0, 211.0, 264.0, 977.0, 151.0, 376.0, 119.0, 167.0, 283.0, 209.0, 102.0, 270.0, 485.0, 292.0, 190.0, 183.0, 109.0, 172.0, 74.0, 173.0, 193.0, 62.0, 171.0, 548.9971313476562, 417.2432861328125, 297.91314697265625, 264.1369934082031, 209.37351989746094, 182.3698272705078, 171.5647430419922, 160.32264709472656, 159.71339416503906, 145.186767578125, 189.17129516601562, 132.05197143554688, 114.06475830078125, 117.81790161132812, 118.006591796875, 135.61776733398438, 100.6583480834961, 102.07096862792969, 93.56365966796875, 172.37643432617188, 87.62152862548828, 109.19773864746094, 82.15081024169922, 82.6462173461914, 76.4194564819336, 65.65937805175781, 60.74284744262695, 61.388710021972656, 62.081382751464844, 64.02350616455078, 169.71209716796875, 80.0838394165039, 69.28502655029297, 275.3656921386719, 189.47515869140625, 89.920654296875, 271.4349670410156, 203.92660522460938, 342.1860656738281, 146.49737548828125, 265.1608581542969, 726.5626831054688, 180.19969177246094, 221.61859130859375, 370.1471862792969, 140.00076293945312, 142.80328369140625, 196.63832092285156, 144.4013214111328, 242.0027618408203, 202.02163696289062, 153.81553649902344, 96.37044525146484, 81.9926528930664, 55.09404754638672, 52.307769775390625, 47.07479476928711, 41.44742965698242, 38.39213180541992, 38.60824203491211, 86.07801818847656, 32.003875732421875, 30.335678100585938, 27.179872512817383, 25.83831214904785, 25.97608757019043, 24.078174591064453, 26.322153091430664, 23.090133666992188, 23.803104400634766, 19.679412841796875, 20.70564079284668, 22.729703903198242, 22.72536277770996, 28.285367965698242, 21.066862106323242, 22.825096130371094, 19.17815399169922, 22.29108428955078, 18.031572341918945, 18.31543731689453, 17.78319549560547, 58.16688919067383, 104.16838836669922, 84.68521118164062, 114.54573059082031, 123.6126480102539, 227.85321044921875, 112.14920043945312, 37.02712631225586, 81.17961883544922, 51.722023010253906, 29.953441619873047, 47.39552307128906, 125.04302978515625, 95.63011169433594, 59.17729568481445, 161.1142120361328, 127.4764175415039, 89.44585418701172, 43.549644470214844, 83.40326690673828, 54.88236618041992, 51.33277893066406, 53.020931243896484, 82.11588287353516, 92.8679428100586, 185.78787231445312, 73.53247833251953, 67.8915786743164, 80.1905746459961, 250.46322631835938, 75.25695037841797, 76.1681137084961, 73.74381256103516, 82.2144775390625, 81.70426940917969, 79.14231872558594, 90.83592987060547, 95.3851547241211, 86.2387466430664, 83.16271209716797, 32.189395904541016, 23.0845890045166, 21.783096313476562, 18.330312728881836, 49.50672149658203, 16.74890899658203, 35.4129524230957, 14.97323226928711, 14.433381080627441, 15.116133689880371, 12.976861000061035, 12.492508888244629, 12.562318801879883, 10.719650268554688, 10.834680557250977, 9.966611862182617, 9.594664573669434, 10.409250259399414, 9.171666145324707, 8.708861351013184, 9.299985885620117, 8.545451164245605, 8.545451164245605, 8.545451164245605, 15.155848503112793, 9.38657283782959, 7.842842102050781, 8.171419143676758, 8.290634155273438, 7.4692277908325195, 8.872456550598145, 56.656742095947266, 151.172119140625, 24.947769165039062, 17.0736141204834, 181.82542419433594, 16.83544158935547, 58.306766510009766, 32.58038330078125, 46.125736236572266, 17.752037048339844, 15.30660629272461, 51.3058967590332, 72.13855743408203, 82.06822967529297, 24.97622299194336, 182.85614013671875, 25.743688583374023, 87.16175079345703, 29.27948760986328, 61.73942184448242, 187.4875946044922, 75.90284729003906, 79.70028686523438, 43.60478210449219, 22.060985565185547, 83.15106964111328, 25.177640914916992, 47.925262451171875, 62.410640716552734, 37.995445251464844, 51.881595611572266, 55.39683532714844, 73.85396575927734, 37.320831298828125, 48.88424301147461, 46.29732131958008, 36.01859664916992, 33.467159271240234, 34.04476547241211], \"Term\": [\"phone\", \"case\", \"app\", \"screen\", \"tap\", \"good\", \"megapixel\", \"go\", \"want\", \"winner\", \"camera\", \"option\", \"feature\", \"set\", \"home\", \"offer\", \"come\", \"setting\", \"photo\", \"display\", \"find\", \"price\", \"inch\", \"turn\", \"dual\", \"notification\", \"look\", \"back\", \"select\", \"still\", \"phone\", \"good\", \"megapixel\", \"winner\", \"come\", \"inch\", \"dual\", \"storage\", \"available\", \"flagship\", \"price\", \"expect\", \"also\", \"gb\", \"large\", \"buy\", \"slightly\", \"aperture\", \"difference\", \"look\", \"powerful\", \"resolution\", \"deal\", \"spec\", \"well\", \"special\", \"oreo\", \"microsd_card\", \"term\", \"win\", \"still\", \"expensive\", \"xr\", \"offer\", \"back\", \"verizon\", \"find\", \"big\", \"feature\", \"edge\", \"lens\", \"camera\", \"design\", \"get\", \"display\", \"ram\", \"play\", \"new\", \"support\", \"screen\", \"device\", \"update\", \"leak\", \"accord\", \"rumor\", \"pic\", \"week\", \"hydrogen\", \"reportedly\", \"apparently\", \"report\", \"bug\", \"component\", \"source\", \"render\", \"car\", \"bloomberg\", \"attempt\", \"potential\", \"iso\", \"forum\", \"cause\", \"january\", \"process\", \"friend\", \"machine_learn\", \"andy_rubin\", \"statement\", \"microsoft\", \"quarter\", \"solution\", \"graphic\", \"s\", \"issue\", \"product\", \"could\", \"work\", \"photo\", \"user\", \"post\", \"image\", \"cam\", \"development\", \"be\", \"say\", \"show\", \"picture\", \"even\", \"take\", \"seem\", \"ai\", \"shoot\", \"stand\", \"try\", \"problem\", \"way\", \"really\", \"device\", \"would\", \"sell\", \"people\", \"camera\", \"percent\", \"light\", \"feel\", \"video\", \"launch\", \"thing\", \"update\", \"app\", \"new\", \"screen\", \"protector\", \"scooter\", \"sleep\", \"rzr\", \"toggle\", \"repair\", \"disturb\", \"headset\", \"lawsuit\", \"keyssa\", \"screenshot\", \"bumper\", \"reuter\", \"vehicle\", \"skype\", \"resize\", \"electric\", \"desk\", \"button_cover\", \"slider_next\", \"vacation\", \"fax\", \"voip\", \"usd\", \"settings_gt\", \"meeting\", \"gel\", \"imessage\", \"uninstall\", \"gear_icon\", \"spigen\", \"select\", \"tap\", \"office\", \"disable\", \"case\", \"location\", \"notification\", \"swipe\", \"icon\", \"gt\", \"scroll\", \"protection\", \"setting\", \"set\", \"slider\", \"app\", \"lock\", \"go\", \"protect\", \"turn\", \"screen\", \"option\", \"home\", \"choose\", \"mouse\", \"want\", \"shortcut\", \"allow\", \"button\", \"open\", \"time\", \"mode\", \"display\", \"system\", \"battery\", \"use\", \"amazon\", \"drop\", \"feature\"], \"Total\": [549.0, 238.0, 346.0, 512.0, 176.0, 417.0, 298.0, 162.0, 211.0, 264.0, 977.0, 151.0, 376.0, 119.0, 167.0, 283.0, 209.0, 102.0, 270.0, 485.0, 292.0, 190.0, 183.0, 109.0, 172.0, 74.0, 173.0, 193.0, 62.0, 171.0, 549.5845336914062, 417.8861999511719, 298.5193176269531, 264.7167053222656, 209.97576904296875, 183.01243591308594, 172.20558166503906, 160.9412078857422, 160.34507751464844, 145.78976440429688, 190.02442932128906, 132.6958465576172, 114.64242553710938, 118.43242645263672, 118.68689727783203, 136.40402221679688, 101.3003921508789, 102.7254867553711, 94.16545104980469, 173.5316925048828, 88.21316528320312, 109.97908020019531, 82.77741241455078, 83.30397033691406, 77.06867218017578, 66.29302978515625, 61.32975769042969, 61.9892463684082, 62.694496154785156, 64.65685272216797, 171.4658660888672, 80.87702941894531, 69.99590301513672, 283.63616943359375, 193.8597412109375, 91.13558197021484, 292.23876953125, 217.053955078125, 376.58135986328125, 155.7115478515625, 300.00543212890625, 977.3761596679688, 202.33544921875, 259.2554931640625, 485.4375305175781, 152.83023071289062, 160.92385864257812, 283.2178649902344, 168.473876953125, 512.653076171875, 388.10137939453125, 244.9390106201172, 96.98568725585938, 82.62358856201172, 55.7162971496582, 52.91189193725586, 47.69664001464844, 42.03471755981445, 38.996700286865234, 39.22957992553711, 87.52840423583984, 32.61360168457031, 30.991119384765625, 27.790695190429688, 26.456905364990234, 26.630970001220703, 24.685327529907227, 26.98872184753418, 23.72544288635254, 24.479726791381836, 20.268875122070312, 21.327770233154297, 23.421741485595703, 23.42337989807129, 29.157432556152344, 21.74146842956543, 23.55718421936035, 19.795570373535156, 23.019418716430664, 18.62976837158203, 18.937610626220703, 18.396217346191406, 61.26741409301758, 112.54888153076172, 91.37347412109375, 126.01435089111328, 137.9722442626953, 270.5035095214844, 128.01034545898438, 39.44583511352539, 93.03564453125, 57.07363510131836, 31.604522705078125, 52.54497528076172, 156.43856811523438, 116.19969940185547, 69.43531799316406, 222.99139404296875, 169.919677734375, 112.66706085205078, 48.70749282836914, 109.87542724609375, 66.13711547851562, 60.77093505859375, 63.67814636230469, 115.209716796875, 139.21910095214844, 388.10137939453125, 104.58051300048828, 95.46038055419922, 128.7672119140625, 977.3761596679688, 121.25260162353516, 127.33150482177734, 122.89532470703125, 159.9381561279297, 167.4507293701172, 161.22793579101562, 244.9390106201172, 346.7335510253906, 283.2178649902344, 512.653076171875, 32.826202392578125, 23.720478057861328, 22.44649887084961, 18.96468162536621, 51.48871612548828, 17.421098709106445, 36.838539123535156, 15.633670806884766, 15.114888191223145, 15.848112106323242, 13.619499206542969, 13.133309364318848, 13.244035720825195, 11.355701446533203, 11.49614429473877, 10.615204811096191, 10.232264518737793, 11.105224609375, 9.812156677246094, 9.343772888183594, 9.978854179382324, 9.197089195251465, 9.197089195251465, 9.197089195251465, 16.341506958007812, 10.129508972167969, 8.488039016723633, 8.853611946105957, 8.994799613952637, 8.107640266418457, 9.635111808776855, 62.78770065307617, 176.03489685058594, 27.967723846435547, 18.924057006835938, 238.33619689941406, 19.106006622314453, 74.3807144165039, 39.670719146728516, 58.813629150390625, 20.42291259765625, 17.395946502685547, 69.2228012084961, 102.82901763916016, 119.46451568603516, 30.440645217895508, 346.7335510253906, 33.51953887939453, 162.64158630371094, 39.8306884765625, 109.37530517578125, 512.653076171875, 151.89138793945312, 167.8699493408203, 72.92727661132812, 27.635639190673828, 211.93109130859375, 34.88037109375, 98.77775573730469, 163.13551330566406, 71.54371643066406, 153.23641967773438, 179.14791870117188, 485.4375305175781, 92.81995391845703, 207.35626220703125, 180.01052856445312, 95.99687194824219, 79.92874145507812, 376.58135986328125], \"loglift\": [30.0, 29.0, 28.0, 27.0, 26.0, 25.0, 24.0, 23.0, 22.0, 21.0, 20.0, 19.0, 18.0, 17.0, 16.0, 15.0, 14.0, 13.0, 12.0, 11.0, 10.0, 9.0, 8.0, 7.0, 6.0, 5.0, 4.0, 3.0, 2.0, 1.0, 0.6998000144958496, 0.6992999911308289, 0.6988000273704529, 0.6985999941825867, 0.6980000138282776, 0.6973000168800354, 0.6970999836921692, 0.6970000267028809, 0.6969000101089478, 0.6966999769210815, 0.6963000297546387, 0.6959999799728394, 0.6958000063896179, 0.6955999732017517, 0.6951000094413757, 0.6951000094413757, 0.6945000290870667, 0.6944000124931335, 0.6944000124931335, 0.6941999793052673, 0.694100022315979, 0.6937000155448914, 0.6931999921798706, 0.6929000020027161, 0.6923999786376953, 0.6912000179290771, 0.6912000179290771, 0.691100001335144, 0.6909999847412109, 0.6909999847412109, 0.6905999779701233, 0.6909999847412109, 0.6905999779701233, 0.6711999773979187, 0.6779999732971191, 0.6873999834060669, 0.6269999742507935, 0.6384999752044678, 0.6050999760627747, 0.6398000121116638, 0.5774000287055969, 0.4043000042438507, 0.5849999785423279, 0.5440000295639038, 0.42969998717308044, 0.6132000088691711, 0.5813999772071838, 0.335999995470047, 0.5467000007629395, -0.049800001084804535, 0.0478999987244606, 0.23559999465942383, 1.0236999988555908, 1.0224000215530396, 1.0188000202178955, 1.0185999870300293, 1.0168999433517456, 1.0160000324249268, 1.0144000053405762, 1.0140999555587769, 1.0132999420166016, 1.011199951171875, 1.0087000131607056, 1.0077999830245972, 1.0063999891281128, 1.0052000284194946, 1.0052000284194946, 1.0049999952316284, 1.0029000043869019, 1.0019999742507935, 1.000499963760376, 1.000499963760376, 1.000100016593933, 0.9998000264167786, 0.9997000098228455, 0.9984999895095825, 0.9984999895095825, 0.9983999729156494, 0.9979000091552734, 0.9973999857902527, 0.9966999888420105, 0.9962000250816345, 0.9781000018119812, 0.9527000188827515, 0.9539999961853027, 0.9345999956130981, 0.920199990272522, 0.8585000038146973, 0.8978000283241272, 0.9667999744415283, 0.8937000036239624, 0.9315999746322632, 0.9764000177383423, 0.9269000291824341, 0.8061000108718872, 0.8352000117301941, 0.870199978351593, 0.7049999833106995, 0.7426999807357788, 0.7993000149726868, 0.9180999994277954, 0.7544000148773193, 0.843500018119812, 0.861299991607666, 0.8468999862670898, 0.6913999915122986, 0.6251999735832214, 0.29339998960494995, 0.6777999997138977, 0.689300000667572, 0.5565000176429749, -0.33149999380111694, 0.5530999898910522, 0.5162000060081482, 0.5192999839782715, 0.3646000027656555, 0.3125, 0.31850001215934753, 0.038100000470876694, -0.2606000006198883, -0.1589999943971634, -0.7886999845504761, 1.898800015449524, 1.8911999464035034, 1.8883999586105347, 1.8844000101089478, 1.87909996509552, 1.878999948501587, 1.8789000511169434, 1.8752000331878662, 1.8723000288009644, 1.8710999488830566, 1.8701000213623047, 1.868399977684021, 1.8654999732971191, 1.86080002784729, 1.8590999841690063, 1.855299949645996, 1.854099988937378, 1.853700041770935, 1.8509000539779663, 1.8480000495910645, 1.8479000329971313, 1.8449000120162964, 1.8449000120162964, 1.8449000120162964, 1.8430999517440796, 1.8422000408172607, 1.8393000364303589, 1.8381999731063843, 1.836899995803833, 1.836400032043457, 1.8358999490737915, 1.815600037574768, 1.7661000490188599, 1.8041000366210938, 1.815500020980835, 1.6477999687194824, 1.7919000387191772, 1.6749000549316406, 1.721500039100647, 1.6754000186920166, 1.7782000303268433, 1.7904000282287598, 1.618899941444397, 1.5638999938964844, 1.5428999662399292, 1.7204999923706055, 1.278499960899353, 1.6545000076293945, 1.294600009918213, 1.6105999946594238, 1.346500039100647, 0.9125000238418579, 1.2246999740600586, 1.1734999418258667, 1.404099941253662, 1.6930999755859375, 0.9828000068664551, 1.5923999547958374, 1.195199966430664, 0.9574999809265137, 1.2855000495910645, 0.8353999853134155, 0.744700014591217, 0.03539999946951866, 1.0073000192642212, 0.4733999967575073, 0.5605000257492065, 0.9380999803543091, 1.0477999448776245, -0.48510000109672546], \"logprob\": [30.0, 29.0, 28.0, 27.0, 26.0, 25.0, 24.0, 23.0, 22.0, 21.0, 20.0, 19.0, 18.0, 17.0, 16.0, 15.0, 14.0, 13.0, 12.0, 11.0, 10.0, 9.0, 8.0, 7.0, 6.0, 5.0, 4.0, 3.0, 2.0, 1.0, -4.32450008392334, -4.598999977111816, -4.935800075531006, -5.05620002746582, -5.28849983215332, -5.426599979400635, -5.48769998550415, -5.555500030517578, -5.559299945831299, -5.654600143432617, -5.389999866485596, -5.7494001388549805, -5.895899772644043, -5.863500118255615, -5.8618998527526855, -5.722799777984619, -6.020899772644043, -6.006999969482422, -6.093999862670898, -5.482999801635742, -6.159599781036377, -5.939499855041504, -6.224100112915039, -6.218100070953369, -6.29640007019043, -6.448200225830078, -6.526000022888184, -6.515399932861328, -6.504199981689453, -6.473400115966797, -5.498499870300293, -6.249599933624268, -6.394400119781494, -5.014500141143799, -5.388400077819824, -6.133699893951416, -5.028900146484375, -5.314899921417236, -4.797299861907959, -5.645599842071533, -5.052299976348877, -4.044300079345703, -5.438600063323975, -5.2316999435424805, -4.718699932098389, -5.690999984741211, -5.671199798583984, -5.35129976272583, -5.659999847412109, -5.143700122833252, -5.3242998123168945, -5.59689998626709, -5.735199928283691, -5.8968000411987305, -6.294400215148926, -6.34630012512207, -6.451700210571289, -6.578999996185303, -6.655600070953369, -6.650000095367432, -5.848199844360352, -6.837600231170654, -6.89109992980957, -7.000899791717529, -7.051599979400635, -7.046199798583984, -7.122099876403809, -7.0329999923706055, -7.164000034332275, -7.133600234985352, -7.323800086975098, -7.2729997634887695, -7.179699897766113, -7.179900169372559, -6.961100101470947, -7.25570011138916, -7.175600051879883, -7.349599838256836, -7.19920015335083, -7.411300182342529, -7.395699977874756, -7.42519998550415, -6.240099906921387, -5.657400131225586, -5.864500045776367, -5.562399864196777, -5.486299991607666, -4.87470006942749, -5.583600044250488, -6.691800117492676, -5.906799793243408, -6.357500076293945, -6.903800010681152, -6.444900035858154, -5.474800109863281, -5.7428998947143555, -6.222899913787842, -5.22130012512207, -5.45550012588501, -5.809800148010254, -6.5295000076293945, -5.879700183868408, -6.2982001304626465, -6.365099906921387, -6.332699775695801, -5.895299911499023, -5.772200107574463, -5.078800201416016, -6.00570011138916, -6.0854997634887695, -5.919000148773193, -4.780099868774414, -5.982500076293945, -5.9704999923706055, -6.002799987792969, -5.894100189208984, -5.900300025939941, -5.932199954986572, -5.794400215148926, -5.745500087738037, -5.84630012512207, -5.882599830627441, -5.943399906158447, -6.275899887084961, -6.334000110626221, -6.506499767303467, -5.513000011444092, -6.596799850463867, -5.8480000495910645, -6.708799839019775, -6.745500087738037, -6.6992998123168945, -6.851900100708008, -6.889999866485596, -6.884399890899658, -7.043000221252441, -7.032299995422363, -7.115799903869629, -7.153900146484375, -7.072400093078613, -7.198999881744385, -7.250699996948242, -7.185100078582764, -7.269700050354004, -7.269700050354004, -7.269700050354004, -6.696700096130371, -7.17579984664917, -7.355500221252441, -7.3144001960754395, -7.300000190734863, -7.404300212860107, -7.232100009918213, -5.3780999183654785, -4.396699905395508, -6.198299884796143, -6.577600002288818, -4.211999893188477, -6.591599941253662, -5.349400043487549, -5.931399822235107, -5.583700180053711, -6.538599967956543, -6.686800003051758, -5.47730016708374, -5.136499881744385, -5.007500171661377, -6.197199821472168, -4.206399917602539, -6.166900157928467, -4.947299957275391, -6.0381999015808105, -5.292200088500977, -4.181399822235107, -5.085599899291992, -5.036799907684326, -5.639900207519531, -6.321300029754639, -4.9944000244140625, -6.1890997886657715, -5.545400142669678, -5.281300067901611, -5.777599811553955, -5.466100215911865, -5.400599956512451, -5.11299991607666, -5.795499801635742, -5.525599956512451, -5.579999923706055, -5.830999851226807, -5.9045000076293945, -5.887400150299072]}, \"token.table\": {\"Topic\": [2, 1, 2, 1, 2, 3, 1, 1, 2, 3, 2, 1, 1, 2, 3, 2, 2, 1, 1, 2, 1, 2, 3, 1, 2, 3, 1, 2, 2, 2, 3, 1, 2, 3, 3, 1, 1, 2, 1, 2, 2, 1, 2, 3, 2, 1, 3, 1, 2, 1, 2, 1, 1, 2, 3, 3, 1, 2, 1, 2, 1, 2, 3, 1, 2, 3, 1, 3, 1, 2, 3, 1, 1, 3, 3, 1, 2, 1, 1, 3, 1, 3, 1, 2, 1, 3, 1, 2, 1, 2, 1, 3, 3, 1, 2, 3, 1, 3, 1, 2, 1, 2, 3, 3, 1, 2, 3, 2, 1, 2, 3, 1, 2, 3, 1, 2, 1, 2, 2, 3, 1, 1, 2, 3, 2, 1, 2, 1, 2, 3, 2, 3, 1, 2, 3, 1, 2, 3, 2, 3, 1, 1, 2, 1, 2, 3, 2, 3, 1, 2, 1, 2, 3, 1, 3, 2, 3, 1, 2, 3, 1, 3, 1, 1, 2, 1, 2, 1, 1, 2, 3, 2, 1, 2, 1, 2, 3, 2, 3, 2, 1, 1, 1, 2, 3, 2, 1, 2, 1, 3, 1, 3, 3, 2, 1, 2, 1, 2, 2, 3, 1, 2, 2, 3, 1, 3, 2, 3, 1, 2, 3, 1, 2, 3, 1, 2, 3, 3, 2, 3, 1, 2, 1, 2, 3, 1, 2, 1, 2, 3, 1, 2, 3, 2, 3, 1, 2, 3, 1, 3, 1, 2, 3, 3, 3, 2, 3, 3, 1, 2, 2, 1, 1, 3, 1, 2, 3, 2, 1, 2, 1, 1, 2, 1, 2, 3, 1, 2, 3, 1, 2, 1, 2, 3, 1, 1, 2, 1, 2, 3, 2, 3, 1, 2, 1, 2, 3, 3, 1, 2, 3, 1, 2, 3, 1, 2, 3, 3, 1, 2, 1, 2, 3, 3, 1, 2, 3, 1, 2, 3, 2, 1, 1, 1, 1, 2, 3, 1, 2, 3, 1], \"Freq\": [0.9924526810646057, 0.1026536077260971, 0.9033517837524414, 0.38470199704170227, 0.12148483842611313, 0.4859393537044525, 0.9943962693214417, 0.5312672853469849, 0.09375305473804474, 0.37501221895217896, 0.9763475656509399, 0.9929376244544983, 0.19611601531505585, 0.2739855945110321, 0.5277827978134155, 0.994147777557373, 0.963365375995636, 0.9978479146957397, 0.9749316573143005, 0.020633473992347717, 0.6317629218101501, 0.13503329455852509, 0.2363082766532898, 0.01903131604194641, 0.8944718241691589, 0.07612526416778564, 0.9398584961891174, 0.059892941266298294, 0.9722374677658081, 0.9811857342720032, 0.9137072563171387, 0.36779239773750305, 0.2513248026371002, 0.3800521194934845, 0.9172295331954956, 0.9970380663871765, 0.08760612457990646, 0.9111037254333496, 0.7438282370567322, 0.2557868957519531, 0.9763069152832031, 0.22237494587898254, 0.012587261386215687, 0.7636271715164185, 0.9846317768096924, 0.3976564109325409, 0.6033408045768738, 0.9953529238700867, 0.9680192470550537, 0.0872916430234909, 0.9125944972038269, 0.9906083941459656, 0.8896117806434631, 0.07413431257009506, 0.03459601476788521, 0.9004770517349243, 0.03164103999733925, 0.9492312073707581, 0.5204825401306152, 0.47925621271133423, 0.998242974281311, 0.05284279212355614, 0.8983274698257446, 0.7621989846229553, 0.08445988595485687, 0.15243980288505554, 0.02714548446238041, 0.9500919580459595, 0.5129569172859192, 0.07506686449050903, 0.4128677546977997, 0.9988061785697937, 0.9376311898231506, 0.05779918283224106, 0.977300763130188, 0.2780376374721527, 0.7220009565353394, 0.9947561025619507, 0.9891560077667236, 0.9785704612731934, 0.9081702828407288, 0.09028593450784683, 0.39871329069137573, 0.6021384596824646, 0.9273239374160767, 0.06843718886375427, 0.9945828318595886, 0.9867345690727234, 0.03429657220840454, 0.9603040218353271, 0.9963487386703491, 0.8633831739425659, 0.9425027370452881, 0.8562981486320496, 0.07714397460222244, 0.06557238101959229, 0.46113666892051697, 0.5349185466766357, 0.9978793263435364, 0.9784620404243469, 0.04896461218595505, 0.0979292243719101, 0.881363034248352, 0.9594675898551941, 0.1310538351535797, 0.39911848306655884, 0.4765594005584717, 0.9753842353820801, 0.05100858584046364, 0.1530257612466812, 0.7821316123008728, 0.12898282706737518, 0.8706340789794922, 0.9035860300064087, 0.9944679141044617, 0.9804031252861023, 0.07108023017644882, 0.9240429401397705, 0.9819936156272888, 0.9464849829673767, 0.9942125082015991, 0.5076119899749756, 0.48969629406929016, 0.9262390732765198, 0.9898367524147034, 0.8833173513412476, 0.11666455119848251, 0.18848438560962677, 0.5968672037124634, 0.21204492449760437, 0.10467912256717682, 0.8897725343704224, 0.08950003981590271, 0.14916673302650452, 0.7756670117378235, 0.9911733865737915, 0.005762636195868254, 0.005762636195868254, 0.9658961296081543, 0.8884932398796082, 0.9982603788375854, 0.9840416312217712, 0.9557148218154907, 0.30142688751220703, 0.3907385468482971, 0.30700886249542236, 0.18092580139636993, 0.7960734963417053, 0.6955775618553162, 0.30365315079689026, 0.05377738177776337, 0.1613321453332901, 0.7797720432281494, 0.9695519208908081, 0.0282051470130682, 0.10726650804281235, 0.8938875198364258, 0.22363948822021484, 0.2515944242477417, 0.5311437845230103, 0.5003575086593628, 0.5003575086593628, 0.9946231842041016, 0.3727656900882721, 0.6212761402130127, 0.37937331199645996, 0.6185434460639954, 0.9989364147186279, 0.11090429127216339, 0.8428726196289062, 0.04805852472782135, 0.9827658534049988, 0.14401893317699432, 0.8497116565704346, 0.8886190056800842, 0.018642356619238853, 0.09321178495883942, 0.9379950761795044, 0.05070243775844574, 0.9694234132766724, 0.9975835084915161, 0.9946089386940002, 0.12563179433345795, 0.832310676574707, 0.03140794858336449, 0.9819248914718628, 0.06566457450389862, 0.9302480816841125, 0.25106269121170044, 0.7280818223953247, 0.26002994179725647, 0.7367514371871948, 0.9748309850692749, 0.9661955833435059, 0.9160491228103638, 0.0850617066025734, 0.33041444420814514, 0.6680117845535278, 0.9827302098274231, 0.975828230381012, 0.011424862779676914, 0.9825381636619568, 0.974441409111023, 0.9420449137687683, 0.9910975694656372, 0.9815739393234253, 0.987143874168396, 0.9491327404975891, 0.01632189005613327, 0.9466696381568909, 0.03264378011226654, 0.19816085696220398, 0.7990356683731079, 0.9696263074874878, 0.472054123878479, 0.16190285980701447, 0.3647691011428833, 0.9545137882232666, 0.11496931314468384, 0.8622698187828064, 0.204141303896904, 0.7899380922317505, 0.04778005927801132, 0.04778005927801132, 0.9078211188316345, 0.2828398644924164, 0.7123374342918396, 0.1757844090461731, 0.14230166375637054, 0.6863963007926941, 0.009724881500005722, 0.29174643754959106, 0.7001914381980896, 0.06119386851787567, 0.9179080128669739, 0.18202431499958038, 0.7554009556770325, 0.054607294499874115, 0.25802478194236755, 0.7167354822158813, 0.13769398629665375, 0.8261639475822449, 0.04302937164902687, 0.9568425416946411, 0.9801083207130432, 0.1642540693283081, 0.8212703466415405, 0.9632083177566528, 0.9970346689224243, 0.9504895210266113, 0.9715481996536255, 0.9963510632514954, 0.9955797791481018, 0.9340835809707642, 0.13608092069625854, 0.8316056728363037, 0.03024020604789257, 0.9598106741905212, 0.9914509654045105, 0.005832064431160688, 0.9941518306732178, 0.8547319173812866, 0.1424553245306015, 0.10083003342151642, 0.07562252879142761, 0.8318477869033813, 0.29088571667671204, 0.3016592860221863, 0.39862117171287537, 0.24717560410499573, 0.7474119663238525, 0.11361383646726608, 0.02840345911681652, 0.8577844500541687, 0.9889225363731384, 0.5085967183113098, 0.4899895191192627, 0.2936638593673706, 0.36544838547706604, 0.33934491872787476, 0.038843460381031036, 0.9710865616798401, 0.14809711277484894, 0.839216947555542, 0.1737138032913208, 0.2651421129703522, 0.5668555498123169, 0.8894028067588806, 0.628727912902832, 0.3715210556983948, 0.9785704612731934, 0.3888661563396454, 0.35553476214408875, 0.2555406093597412, 0.12498989701271057, 0.8749293088912964, 0.9019071459770203, 0.9686763882637024, 0.9875396490097046, 0.010972662828862667, 0.3939022421836853, 0.5126981735229492, 0.08753383159637451, 0.9785704612731934, 0.5850958228111267, 0.023592574521899223, 0.3916367292404175, 0.17359647154808044, 0.7117455005645752, 0.11283770203590393, 0.9853943586349487, 0.9861335158348083, 0.9898409247398376, 0.9972925782203674, 0.10146968066692352, 0.8987314701080322, 0.007247834466397762, 0.2677363157272339, 0.707588791847229, 0.028686031699180603, 0.9857719540596008], \"Term\": [\"accord\", \"ai\", \"ai\", \"allow\", \"allow\", \"allow\", \"also\", \"amazon\", \"amazon\", \"amazon\", \"andy_rubin\", \"aperture\", \"app\", \"app\", \"app\", \"apparently\", \"attempt\", \"available\", \"back\", \"back\", \"battery\", \"battery\", \"battery\", \"be\", \"be\", \"be\", \"big\", \"big\", \"bloomberg\", \"bug\", \"bumper\", \"button\", \"button\", \"button\", \"button_cover\", \"buy\", \"cam\", \"cam\", \"camera\", \"camera\", \"car\", \"case\", \"case\", \"case\", \"cause\", \"choose\", \"choose\", \"come\", \"component\", \"could\", \"could\", \"deal\", \"design\", \"design\", \"design\", \"desk\", \"development\", \"development\", \"device\", \"device\", \"difference\", \"disable\", \"disable\", \"display\", \"display\", \"display\", \"disturb\", \"disturb\", \"drop\", \"drop\", \"drop\", \"dual\", \"edge\", \"edge\", \"electric\", \"even\", \"even\", \"expect\", \"expensive\", \"fax\", \"feature\", \"feature\", \"feel\", \"feel\", \"find\", \"find\", \"flagship\", \"forum\", \"friend\", \"friend\", \"gb\", \"gear_icon\", \"gel\", \"get\", \"get\", \"get\", \"go\", \"go\", \"good\", \"graphic\", \"gt\", \"gt\", \"gt\", \"headset\", \"home\", \"home\", \"home\", \"hydrogen\", \"icon\", \"icon\", \"icon\", \"image\", \"image\", \"imessage\", \"inch\", \"iso\", \"issue\", \"issue\", \"january\", \"keyssa\", \"large\", \"launch\", \"launch\", \"lawsuit\", \"leak\", \"lens\", \"lens\", \"light\", \"light\", \"light\", \"location\", \"location\", \"lock\", \"lock\", \"lock\", \"look\", \"look\", \"look\", \"machine_learn\", \"meeting\", \"megapixel\", \"microsd_card\", \"microsoft\", \"mode\", \"mode\", \"mode\", \"mouse\", \"mouse\", \"new\", \"new\", \"notification\", \"notification\", \"notification\", \"offer\", \"offer\", \"office\", \"office\", \"open\", \"open\", \"open\", \"option\", \"option\", \"oreo\", \"people\", \"people\", \"percent\", \"percent\", \"phone\", \"photo\", \"photo\", \"photo\", \"pic\", \"picture\", \"picture\", \"play\", \"play\", \"play\", \"post\", \"post\", \"potential\", \"powerful\", \"price\", \"problem\", \"problem\", \"problem\", \"process\", \"product\", \"product\", \"protect\", \"protect\", \"protection\", \"protection\", \"protector\", \"quarter\", \"ram\", \"ram\", \"really\", \"really\", \"render\", \"repair\", \"report\", \"report\", \"reportedly\", \"resize\", \"resolution\", \"reuter\", \"rumor\", \"rzr\", \"s\", \"s\", \"s\", \"say\", \"say\", \"scooter\", \"screen\", \"screen\", \"screen\", \"screenshot\", \"scroll\", \"scroll\", \"seem\", \"seem\", \"select\", \"select\", \"select\", \"sell\", \"sell\", \"set\", \"set\", \"set\", \"setting\", \"setting\", \"setting\", \"settings_gt\", \"settings_gt\", \"shoot\", \"shoot\", \"shoot\", \"shortcut\", \"shortcut\", \"show\", \"show\", \"show\", \"skype\", \"sleep\", \"slider\", \"slider\", \"slider_next\", \"slightly\", \"solution\", \"source\", \"spec\", \"special\", \"spigen\", \"stand\", \"stand\", \"stand\", \"statement\", \"still\", \"still\", \"storage\", \"support\", \"support\", \"swipe\", \"swipe\", \"swipe\", \"system\", \"system\", \"system\", \"take\", \"take\", \"tap\", \"tap\", \"tap\", \"term\", \"thing\", \"thing\", \"time\", \"time\", \"time\", \"toggle\", \"toggle\", \"try\", \"try\", \"turn\", \"turn\", \"turn\", \"uninstall\", \"update\", \"update\", \"usd\", \"use\", \"use\", \"use\", \"user\", \"user\", \"vacation\", \"vehicle\", \"verizon\", \"verizon\", \"video\", \"video\", \"video\", \"voip\", \"want\", \"want\", \"want\", \"way\", \"way\", \"way\", \"week\", \"well\", \"win\", \"winner\", \"work\", \"work\", \"work\", \"would\", \"would\", \"would\", \"xr\"]}, \"R\": 30, \"lambda.step\": 0.01, \"plot.opts\": {\"xlab\": \"PC1\", \"ylab\": \"PC2\"}, \"topic.order\": [1, 3, 2]};\n",
       "\n",
       "function LDAvis_load_lib(url, callback){\n",
       "  var s = document.createElement('script');\n",
       "  s.src = url;\n",
       "  s.async = true;\n",
       "  s.onreadystatechange = s.onload = callback;\n",
       "  s.onerror = function(){console.warn(\"failed to load library \" + url);};\n",
       "  document.getElementsByTagName(\"head\")[0].appendChild(s);\n",
       "}\n",
       "\n",
       "if(typeof(LDAvis) !== \"undefined\"){\n",
       "   // already loaded: just create the visualization\n",
       "   !function(LDAvis){\n",
       "       new LDAvis(\"#\" + \"ldavis_el3620449267970483228877645\", ldavis_el3620449267970483228877645_data);\n",
       "   }(LDAvis);\n",
       "}else if(typeof define === \"function\" && define.amd){\n",
       "   // require.js is available: use it to load d3/LDAvis\n",
       "   require.config({paths: {d3: \"https://cdnjs.cloudflare.com/ajax/libs/d3/3.5.5/d3.min\"}});\n",
       "   require([\"d3\"], function(d3){\n",
       "      window.d3 = d3;\n",
       "      LDAvis_load_lib(\"https://cdn.rawgit.com/bmabey/pyLDAvis/files/ldavis.v1.0.0.js\", function(){\n",
       "        new LDAvis(\"#\" + \"ldavis_el3620449267970483228877645\", ldavis_el3620449267970483228877645_data);\n",
       "      });\n",
       "    });\n",
       "}else{\n",
       "    // require.js not available: dynamically load d3 & LDAvis\n",
       "    LDAvis_load_lib(\"https://cdnjs.cloudflare.com/ajax/libs/d3/3.5.5/d3.min.js\", function(){\n",
       "         LDAvis_load_lib(\"https://cdn.rawgit.com/bmabey/pyLDAvis/files/ldavis.v1.0.0.js\", function(){\n",
       "                 new LDAvis(\"#\" + \"ldavis_el3620449267970483228877645\", ldavis_el3620449267970483228877645_data);\n",
       "            })\n",
       "         });\n",
       "}\n",
       "</script>"
      ],
      "text/plain": [
       "PreparedData(topic_coordinates=              x         y  topics  cluster       Freq\n",
       "topic                                                \n",
       "0     -0.125796  0.118297       1        1  49.617039\n",
       "2     -0.074071 -0.140633       2        1  35.698662\n",
       "1      0.199868  0.022337       3        1  14.684300, topic_info=     Category        Freq          Term       Total  loglift  logprob\n",
       "term                                                                 \n",
       "86    Default  549.000000         phone  549.000000  30.0000  30.0000\n",
       "145   Default  238.000000          case  238.000000  29.0000  29.0000\n",
       "9     Default  346.000000           app  346.000000  28.0000  28.0000\n",
       "102   Default  512.000000        screen  512.000000  27.0000  27.0000\n",
       "658   Default  176.000000           tap  176.000000  26.0000  26.0000\n",
       "309   Default  417.000000          good  417.000000  25.0000  25.0000\n",
       "568   Default  298.000000     megapixel  298.000000  24.0000  24.0000\n",
       "308   Default  162.000000            go  162.000000  23.0000  23.0000\n",
       "469   Default  211.000000          want  211.000000  22.0000  22.0000\n",
       "675   Default  264.000000        winner  264.000000  21.0000  21.0000\n",
       "17    Default  977.000000        camera  977.000000  20.0000  20.0000\n",
       "362   Default  151.000000        option  151.000000  19.0000  19.0000\n",
       "158   Default  376.000000       feature  376.000000  18.0000  18.0000\n",
       "193   Default  119.000000           set  119.000000  17.0000  17.0000\n",
       "59    Default  167.000000          home  167.000000  16.0000  16.0000\n",
       "84    Default  283.000000         offer  283.000000  15.0000  15.0000\n",
       "25    Default  209.000000          come  209.000000  14.0000  14.0000\n",
       "981   Default  102.000000       setting  102.000000  13.0000  13.0000\n",
       "581   Default  270.000000         photo  270.000000  12.0000  12.0000\n",
       "36    Default  485.000000       display  485.000000  11.0000  11.0000\n",
       "286   Default  292.000000          find  292.000000  10.0000  10.0000\n",
       "181   Default  190.000000         price  190.000000   9.0000   9.0000\n",
       "326   Default  183.000000          inch  183.000000   8.0000   8.0000\n",
       "127   Default  109.000000          turn  109.000000   7.0000   7.0000\n",
       "265   Default  172.000000          dual  172.000000   6.0000   6.0000\n",
       "949   Default   74.000000  notification   74.000000   5.0000   5.0000\n",
       "73    Default  173.000000          look  173.000000   4.0000   4.0000\n",
       "223   Default  193.000000          back  193.000000   3.0000   3.0000\n",
       "1260  Default   62.000000        select   62.000000   2.0000   2.0000\n",
       "426   Default  171.000000         still  171.000000   1.0000   1.0000\n",
       "...       ...         ...           ...         ...      ...      ...\n",
       "909    Topic3   17.752037            gt   20.422913   1.7782  -6.5386\n",
       "2948   Topic3   15.306606        scroll   17.395947   1.7904  -6.6868\n",
       "388    Topic3   51.305897    protection   69.222801   1.6189  -5.4773\n",
       "981    Topic3   72.138557       setting  102.829018   1.5639  -5.1365\n",
       "193    Topic3   82.068230           set  119.464516   1.5429  -5.0075\n",
       "989    Topic3   24.976223        slider   30.440645   1.7205  -6.1972\n",
       "9      Topic3  182.856140           app  346.733551   1.2785  -4.2064\n",
       "932    Topic3   25.743689          lock   33.519539   1.6545  -6.1669\n",
       "308    Topic3   87.161751            go  162.641586   1.2946  -4.9473\n",
       "387    Topic3   29.279488       protect   39.830688   1.6106  -6.0382\n",
       "127    Topic3   61.739422          turn  109.375305   1.3465  -5.2922\n",
       "102    Topic3  187.487595        screen  512.653076   0.9125  -4.1814\n",
       "362    Topic3   75.902847        option  151.891388   1.2247  -5.0856\n",
       "59     Topic3   79.700287          home  167.869949   1.1735  -5.0368\n",
       "505    Topic3   43.604782        choose   72.927277   1.4041  -5.6399\n",
       "3493   Topic3   22.060986         mouse   27.635639   1.6931  -6.3213\n",
       "469    Topic3   83.151070          want  211.931091   0.9828  -4.9944\n",
       "410    Topic3   25.177641      shortcut   34.880371   1.5924  -6.1891\n",
       "480    Topic3   47.925262         allow   98.777756   1.1952  -5.5454\n",
       "238    Topic3   62.410641        button  163.135513   0.9575  -5.2813\n",
       "575    Topic3   37.995445          open   71.543716   1.2855  -5.7776\n",
       "199    Topic3   51.881596          time  153.236420   0.8354  -5.4661\n",
       "763    Topic3   55.396835          mode  179.147919   0.7447  -5.4006\n",
       "36     Topic3   73.853966       display  485.437531   0.0354  -5.1130\n",
       "440    Topic3   37.320831        system   92.819954   1.0073  -5.7955\n",
       "488    Topic3   48.884243       battery  207.356262   0.4734  -5.5256\n",
       "464    Topic3   46.297321           use  180.010529   0.5605  -5.5800\n",
       "5      Topic3   36.018597        amazon   95.996872   0.9381  -5.8310\n",
       "264    Topic3   33.467159          drop   79.928741   1.0478  -5.9045\n",
       "158    Topic3   34.044765       feature  376.581360  -0.4851  -5.8874\n",
       "\n",
       "[222 rows x 6 columns], token_table=      Topic      Freq        Term\n",
       "term                             \n",
       "847       2  0.992453      accord\n",
       "1529      1  0.102654          ai\n",
       "1529      2  0.903352          ai\n",
       "480       1  0.384702       allow\n",
       "480       2  0.121485       allow\n",
       "480       3  0.485939       allow\n",
       "4         1  0.994396        also\n",
       "5         1  0.531267      amazon\n",
       "5         2  0.093753      amazon\n",
       "5         3  0.375012      amazon\n",
       "6983      2  0.976348  andy_rubin\n",
       "1022      1  0.992938    aperture\n",
       "9         1  0.196116         app\n",
       "9         2  0.273986         app\n",
       "9         3  0.527783         app\n",
       "1463      2  0.994148  apparently\n",
       "3284      2  0.963365     attempt\n",
       "139       1  0.997848   available\n",
       "223       1  0.974932        back\n",
       "223       2  0.020633        back\n",
       "488       1  0.631763     battery\n",
       "488       2  0.135033     battery\n",
       "488       3  0.236308     battery\n",
       "3955      1  0.019031          be\n",
       "3955      2  0.894472          be\n",
       "3955      3  0.076125          be\n",
       "230       1  0.939858         big\n",
       "230       2  0.059893         big\n",
       "6984      2  0.972237   bloomberg\n",
       "1285      2  0.981186         bug\n",
       "...     ...       ...         ...\n",
       "464       1  0.388866         use\n",
       "464       2  0.355535         use\n",
       "464       3  0.255541         use\n",
       "1159      1  0.124990        user\n",
       "1159      2  0.874929        user\n",
       "6066      3  0.901907    vacation\n",
       "7071      3  0.968676     vehicle\n",
       "207       1  0.987540     verizon\n",
       "207       2  0.010973     verizon\n",
       "131       1  0.393902       video\n",
       "131       2  0.512698       video\n",
       "131       3  0.087534       video\n",
       "7382      3  0.978570        voip\n",
       "469       1  0.585096        want\n",
       "469       2  0.023593        want\n",
       "469       3  0.391637        want\n",
       "471       1  0.173596         way\n",
       "471       2  0.711746         way\n",
       "471       3  0.112838         way\n",
       "1340      2  0.985394        week\n",
       "473       1  0.986134        well\n",
       "674       1  0.989841         win\n",
       "675       1  0.997293      winner\n",
       "476       1  0.101470        work\n",
       "476       2  0.898731        work\n",
       "476       3  0.007248        work\n",
       "212       1  0.267736       would\n",
       "212       2  0.707589       would\n",
       "212       3  0.028686       would\n",
       "2607      1  0.985772          xr\n",
       "\n",
       "[321 rows x 3 columns], R=30, lambda_step=0.01, plot_opts={'xlab': 'PC1', 'ylab': 'PC2'}, topic_order=[1, 3, 2])"
      ]
     },
     "execution_count": 27,
     "metadata": {},
     "output_type": "execute_result"
    }
   ],
   "source": [
    "# Visualize the topics\n",
    "pyLDAvis.enable_notebook()\n",
    "vis = pyLDAvis.gensim.prepare(lda, corpus, id2word)\n",
    "vis"
   ]
  },
  {
   "cell_type": "code",
   "execution_count": 28,
   "metadata": {},
   "outputs": [],
   "source": [
    "# Mallet LDA\n",
    "\n",
    "mallet_path = '/Users/ayankarim/mallet-2.0.8/bin/mallet'\n",
    "\n",
    "ldamallet = gensim.models.wrappers.LdaMallet(mallet_path, corpus=corpus, num_topics=3, id2word=id2word, iterations=1000, random_seed=100 )"
   ]
  },
  {
   "cell_type": "markdown",
   "metadata": {},
   "source": [
    "1. topic 0\n",
    "    - device, photo, year, issue, big, people, buy, price, user, mobile\n",
    "    \n",
    "    reliability\n",
    "    \n",
    "2. topic 1\n",
    "    - camera, feature, lens, megapixel, display, update, design, play\n",
    "    \n",
    "    design\n",
    "    \n",
    "3. topic 2\n",
    "    - screen, app, case, mode, tap, button, display, option, home, time, battery, setting, light\n",
    "    \n",
    "    functionality"
   ]
  },
  {
   "cell_type": "code",
   "execution_count": 29,
   "metadata": {
    "scrolled": true
   },
   "outputs": [
    {
     "name": "stdout",
     "output_type": "stream",
     "text": [
      "[(0,\n",
      "  [('device', 0.012748117727583847),\n",
      "   ('photo', 0.010438056125941135),\n",
      "   ('thing', 0.007486310746064339),\n",
      "   ('year', 0.006930184804928132),\n",
      "   ('good', 0.006160164271047228),\n",
      "   ('issue', 0.00607460643394935),\n",
      "   ('big', 0.006031827515400411),\n",
      "   ('people', 0.005946269678302533),\n",
      "   ('buy', 0.005775154004106776),\n",
      "   ('feel', 0.005775154004106776),\n",
      "   ('price', 0.0053901437371663245),\n",
      "   ('user', 0.0053901437371663245),\n",
      "   ('mobile', 0.005176249144421629),\n",
      "   ('rear', 0.005047912388774812),\n",
      "   ('handset', 0.004791238877481177)]),\n",
      " (1,\n",
      "  [('camera', 0.036118409528814156),\n",
      "   ('phone', 0.02161499386932913),\n",
      "   ('feature', 0.012401471361008934),\n",
      "   ('lens', 0.011770888071466106),\n",
      "   ('good', 0.010965142757050272),\n",
      "   ('megapixel', 0.010895077947101069),\n",
      "   ('display', 0.010825013137151866),\n",
      "   ('offer', 0.010509721492380452),\n",
      "   ('find', 0.010404624277456647),\n",
      "   ('winner', 0.009143457698370994),\n",
      "   ('update', 0.008302679978980557),\n",
      "   ('back', 0.007286740234717114),\n",
      "   ('inch', 0.007251707829742512),\n",
      "   ('design', 0.0071466106148187075),\n",
      "   ('play', 0.006936416184971098)]),\n",
      " (2,\n",
      "  [('screen', 0.03026481715006305),\n",
      "   ('app', 0.02041006959039746),\n",
      "   ('case', 0.0129372752323572),\n",
      "   ('mode', 0.010695436924945121),\n",
      "   ('tap', 0.0100415674186166),\n",
      "   ('button', 0.009527812806501331),\n",
      "   ('display', 0.00864041847648405),\n",
      "   ('option', 0.008266778758582038),\n",
      "   ('home', 0.0076596142169912665),\n",
      "   ('time', 0.00719256456961375),\n",
      "   ('set', 0.006678809957498482),\n",
      "   ('battery', 0.00663210499276073),\n",
      "   ('turn', 0.0062117603101209656),\n",
      "   ('setting', 0.005791415627481201),\n",
      "   ('light', 0.005651300733267946)])]\n",
      "\n",
      "Coherence Score:  0.38167892095428274\n"
     ]
    }
   ],
   "source": [
    "# Show topics\n",
    "pprint(ldamallet.show_topics(num_words=15, formatted=False))\n",
    "\n",
    "# Compute Coherence Score\n",
    "coherence_model_ldamallet = CoherenceModel(model=ldamallet, texts=data_lemmatized, dictionary=id2word, coherence='c_v')\n",
    "coherence_ldamallet = coherence_model_ldamallet.get_coherence()\n",
    "print('\\nCoherence Score: ', coherence_ldamallet)"
   ]
  },
  {
   "cell_type": "code",
   "execution_count": 30,
   "metadata": {},
   "outputs": [],
   "source": [
    "    # IPhone X\n",
    "    # S9\n",
    "    # Pixel 3\n",
    "    # Huawei Mate 20 Pro \n",
    "    # OnePlus 6T\n",
    "    # Huawei P2 Pro\n",
    "    # LG V4 Thinq\n",
    "    # Sony Xperia XZ3\n",
    "    # Essential Phone\n",
    "    # Razer Phone 2\n",
    "    # HTC U12+\n",
    "    # Moto G6 plus"
   ]
  },
  {
   "cell_type": "code",
   "execution_count": 31,
   "metadata": {},
   "outputs": [],
   "source": [
    "## Assign the topics to the texts\n",
    "\n",
    "## Pickle dump the topic models\n",
    "## Call the models the in the opinion mining notebook and use them to classify the texts into topics\n",
    "## Use Multilabel Naive Bayes to get an output of aspect terms in a dataframe grouped into topic columns, ordered by score\n",
    "\n",
    "### HOW TO EVALUATE YOUR MODEL!!??\n",
    "\n",
    "## Clean the Notebook, write up a report\n",
    "## Create Presentation"
   ]
  },
  {
   "cell_type": "code",
   "execution_count": null,
   "metadata": {},
   "outputs": [],
   "source": []
  }
 ],
 "metadata": {
  "kernelspec": {
   "display_name": "Python 3",
   "language": "python",
   "name": "python3"
  },
  "language_info": {
   "codemirror_mode": {
    "name": "ipython",
    "version": 3
   },
   "file_extension": ".py",
   "mimetype": "text/x-python",
   "name": "python",
   "nbconvert_exporter": "python",
   "pygments_lexer": "ipython3",
   "version": "3.6.5"
  }
 },
 "nbformat": 4,
 "nbformat_minor": 2
}
