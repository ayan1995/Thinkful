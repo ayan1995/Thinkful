{
 "cells": [
  {
   "cell_type": "code",
   "execution_count": 1,
   "metadata": {},
   "outputs": [],
   "source": [
    "# Import Dependencies and modules\n",
    "%matplotlib inline\n",
    "import numpy as np\n",
    "import pandas as pd\n",
    "import scipy\n",
    "import sklearn\n",
    "import spacy\n",
    "import matplotlib.pyplot as plt\n",
    "import seaborn as sns\n",
    "import re\n",
    "import string\n",
    "from string import punctuation\n",
    "from collections import Counter\n",
    "from io import StringIO\n",
    "from nltk.corpus import stopwords\n",
    "import nltk\n",
    "import glob\n",
    "import errno\n",
    "import os\n",
    "import json"
   ]
  },
  {
   "cell_type": "markdown",
   "metadata": {},
   "source": [
    "# Load Data"
   ]
  },
  {
   "cell_type": "code",
   "execution_count": 2,
   "metadata": {},
   "outputs": [],
   "source": [
    "# Load each json file\n",
    "with open('iphonex_digtrends.json') as f:\n",
    "    iphonex_digtrends = json.load(f)\n",
    "\n",
    "with open('iphonex_gizmodo.json') as f:\n",
    "    iphonex_gizmodo = json.load(f)\n",
    "\n",
    "with open('iphonex_techradar.json') as f:\n",
    "    iphonex_techradar = json.load(f)\n",
    "\n",
    "with open('S9_digtrends.json') as f:\n",
    "    S9_digtrends = json.load(f)\n",
    "\n",
    "with open('S9_gizmodo.json') as f:\n",
    "    S9_gizmodo = json.load(f)\n",
    "\n",
    "with open('S9_techradar.json') as f:\n",
    "    S9_techradar = json.load(f)"
   ]
  },
  {
   "cell_type": "markdown",
   "metadata": {},
   "source": [
    "# Clean Data"
   ]
  },
  {
   "cell_type": "code",
   "execution_count": 3,
   "metadata": {},
   "outputs": [],
   "source": [
    "# Utility function for standard text cleaning.\n",
    "def text_cleaner(text):\n",
    "    # Visual inspection identifies a form of punctuation spaCy does not\n",
    "    # recognize: the double dash '--'.  Better get rid of it now!\n",
    "\n",
    "    text = str(text).replace(\"\\n\", \"\")\n",
    "    text = str(text).replace(\"\\t\", \"\")\n",
    "    text = str(text).replace(\"\\\\n\", \"\")\n",
    "    text = str(text).replace(\"\\\\t\", \"\")\n",
    "    text = str(text).replace(\"\\\\\", \"\")\n",
    "    text = str(text).replace(\"xa0\", \" \")\n",
    "    text = str(text).replace(\"\\'\", \"\")\n",
    "    text = re.sub(\"<p>\", \"\", str(text))\n",
    "    text = re.sub(\"</p>\", \"\", str(text))\n",
    "    text = re.sub(\"</a>\", \"\", str(text))\n",
    "    text = re.sub('<[^>]+>', \"\", str(text))\n",
    "    text = str(text).replace(\"\\\\u2019\", \"\")\n",
    "    text = str(text).replace(\"\\\\u2013\", \"\")\n",
    "    text = str(text).replace(\"\\\\u2018\", \"\")\n",
    "    text = str(text).replace(\"\\\\u00a0\", \"\")\n",
    "    text = str(text).replace(\"\\\\u00a3\", \"\")\n",
    "    text = str(text).replace(\"\\u2014\", \"\")\n",
    "    text = str(text).replace(\"\\u201d\", \"\")\n",
    "    text = str(text).replace(\"\\u201c\", \"\")\n",
    "    return text\n"
   ]
  },
  {
   "cell_type": "code",
   "execution_count": 4,
   "metadata": {},
   "outputs": [],
   "source": [
    "# Populate each JSON file into a data frame\n",
    "\n",
    "iphonex_digtrends = pd.DataFrame.from_dict(iphonex_digtrends, orient='columns')\n",
    "iphonex_gizmodo = pd.DataFrame.from_dict(iphonex_gizmodo, orient='columns')\n",
    "iphonex_techradar = pd.DataFrame.from_dict(iphonex_techradar, orient='columns')\n",
    "S9_digtrends = pd.DataFrame.from_dict(S9_digtrends, orient='columns')\n",
    "S9_gizmodo = pd.DataFrame.from_dict(S9_gizmodo, orient='columns')\n",
    "S9_techradar = pd.DataFrame.from_dict(S9_techradar, orient='columns')"
   ]
  },
  {
   "cell_type": "code",
   "execution_count": 5,
   "metadata": {},
   "outputs": [],
   "source": [
    "# Define function to clean text\n",
    "def clean_text(df):\n",
    "    # Convert lists to strings and remove brackets\n",
    "    df['text'] = df['text'].astype(str)\n",
    "    df['author'] = df['author'].astype(str)\n",
    "\n",
    "    df['text'] = df['text'].map(lambda x: x.strip('[]'))\n",
    "    df['author'] = df['author'].map(lambda x: x.strip('[]'))\n",
    "\n",
    "    # Clean text\n",
    "    df['text'] = df['text'].apply(lambda x: text_cleaner(x))\n",
    "    df['title'] = df['title'].apply(lambda x: text_cleaner(x))\n",
    "    df['author'] = df['author'].apply(lambda x: text_cleaner(x))\n",
    "\n",
    "    \n",
    "# Put dataframes into a list to iterate through\n",
    "dataframes = [iphonex_digtrends, iphonex_gizmodo, iphonex_techradar, S9_digtrends, S9_gizmodo, S9_techradar]\n",
    "\n",
    "# Clean each Data Frame\n",
    "for dataframe in dataframes:\n",
    "    clean_text(dataframe)"
   ]
  },
  {
   "cell_type": "code",
   "execution_count": 6,
   "metadata": {},
   "outputs": [],
   "source": [
    "# Label all the rows in the dataframe for the phone that the article is talking about\n",
    "\n",
    "iphones = [iphonex_digtrends, iphonex_gizmodo, iphonex_techradar]\n",
    "s9s = [S9_digtrends, S9_gizmodo, S9_techradar]\n",
    "\n",
    "for dataframe in iphones:\n",
    "    dataframe['phone'] = 'IPhone X'\n",
    "    \n",
    "for dataframe in s9s:\n",
    "    dataframe['phone'] = 'Samsung Galaxy S9'\n"
   ]
  },
  {
   "cell_type": "code",
   "execution_count": 7,
   "metadata": {},
   "outputs": [],
   "source": [
    "# Concat all the dataframes into one dataframe\n",
    "all_frames = [iphonex_digtrends, iphonex_gizmodo, iphonex_techradar, S9_digtrends, S9_gizmodo, S9_techradar]\n",
    "df = pd.concat(all_frames)\n"
   ]
  },
  {
   "cell_type": "code",
   "execution_count": 8,
   "metadata": {},
   "outputs": [
    {
     "data": {
      "text/html": [
       "<div>\n",
       "<style scoped>\n",
       "    .dataframe tbody tr th:only-of-type {\n",
       "        vertical-align: middle;\n",
       "    }\n",
       "\n",
       "    .dataframe tbody tr th {\n",
       "        vertical-align: top;\n",
       "    }\n",
       "\n",
       "    .dataframe thead th {\n",
       "        text-align: right;\n",
       "    }\n",
       "</style>\n",
       "<table border=\"1\" class=\"dataframe\">\n",
       "  <thead>\n",
       "    <tr style=\"text-align: right;\">\n",
       "      <th></th>\n",
       "      <th>author</th>\n",
       "      <th>text</th>\n",
       "      <th>title</th>\n",
       "      <th>phone</th>\n",
       "    </tr>\n",
       "  </thead>\n",
       "  <tbody>\n",
       "    <tr>\n",
       "      <th>0</th>\n",
       "      <td>Eric Brackett</td>\n",
       "      <td>The iPhone X launched to stellar reviews and e...</td>\n",
       "      <td>Shrinking demand forces Apple to slow down iPh...</td>\n",
       "      <td>IPhone X</td>\n",
       "    </tr>\n",
       "    <tr>\n",
       "      <th>1</th>\n",
       "      <td>Lucas Coll</td>\n",
       "      <td>When it comes to high-quality devices, like th...</td>\n",
       "      <td>Looking to upgrade? These are the best iPhone ...</td>\n",
       "      <td>IPhone X</td>\n",
       "    </tr>\n",
       "    <tr>\n",
       "      <th>2</th>\n",
       "      <td>Simon Hill</td>\n",
       "      <td>The iPhone X is completely different from any ...</td>\n",
       "      <td>The most common iPhone X problems, and how to ...</td>\n",
       "      <td>IPhone X</td>\n",
       "    </tr>\n",
       "    <tr>\n",
       "      <th>3</th>\n",
       "      <td>Trevor Mogg</td>\n",
       "      <td>If you’re in the market for an iPhone X, and p...</td>\n",
       "      <td>This $4,600 solar charger comes with an iPhone...</td>\n",
       "      <td>IPhone X</td>\n",
       "    </tr>\n",
       "    <tr>\n",
       "      <th>4</th>\n",
       "      <td>Mark Jansen</td>\n",
       "      <td>, The initial estimates, set during the Novemb...</td>\n",
       "      <td>Apple will halve iPhone X production after lim...</td>\n",
       "      <td>IPhone X</td>\n",
       "    </tr>\n",
       "  </tbody>\n",
       "</table>\n",
       "</div>"
      ],
      "text/plain": [
       "          author                                               text  \\\n",
       "0  Eric Brackett  The iPhone X launched to stellar reviews and e...   \n",
       "1     Lucas Coll  When it comes to high-quality devices, like th...   \n",
       "2     Simon Hill  The iPhone X is completely different from any ...   \n",
       "3    Trevor Mogg  If you’re in the market for an iPhone X, and p...   \n",
       "4    Mark Jansen  , The initial estimates, set during the Novemb...   \n",
       "\n",
       "                                               title     phone  \n",
       "0  Shrinking demand forces Apple to slow down iPh...  IPhone X  \n",
       "1  Looking to upgrade? These are the best iPhone ...  IPhone X  \n",
       "2  The most common iPhone X problems, and how to ...  IPhone X  \n",
       "3  This $4,600 solar charger comes with an iPhone...  IPhone X  \n",
       "4  Apple will halve iPhone X production after lim...  IPhone X  "
      ]
     },
     "execution_count": 8,
     "metadata": {},
     "output_type": "execute_result"
    }
   ],
   "source": [
    "# Visualize dataframe\n",
    "df.head()"
   ]
  },
  {
   "cell_type": "markdown",
   "metadata": {},
   "source": [
    "# Pre-Process Data for NLP"
   ]
  },
  {
   "cell_type": "code",
   "execution_count": 9,
   "metadata": {},
   "outputs": [],
   "source": [
    "# # Tokenize text\n",
    "# df['text'] = df.apply(lambda row: nltk.word_tokenize(row['text']), axis=1)\n",
    "# df['title'] = df.apply(lambda row: nltk.word_tokenize(row['title']), axis=1)\n",
    "\n",
    "# # Remove Stopwords, or keep it, might be important for aspect based semantics\n",
    "# stop = stopwords.words('english')\n",
    "# df['text'] = df['text'].apply(lambda x: [item for item in x if item not in stop])\n",
    "# df['title'] = df['title'].apply(lambda x: [item for item in x if item not in stop])\n",
    "\n",
    "# # Lowercase everything\n",
    "# df['text'] = df['text'].astype(str)\n",
    "# df['text'] = df['text'].apply(lambda x: x.lower())\n",
    "\n",
    "# df['title'] = df['title'].astype(str)\n",
    "# df['title'] = df['title'].apply(lambda x: x.lower())\n",
    "\n",
    "# # remove all punctuations\n",
    "# df['text'] = df['text'].apply(lambda x: ''.join(c for c in x if c not in punctuation))\n",
    "# df['title'] = df['title'].apply(lambda x: ''.join(c for c in x if c not in punctuation))"
   ]
  },
  {
   "cell_type": "code",
   "execution_count": 10,
   "metadata": {},
   "outputs": [],
   "source": [
    "from spacy.lang.en import English\n",
    "\n",
    "spacy.load('en')\n",
    "parser = English()\n",
    "\n",
    "# Function to tokenize text\n",
    "def tokenize(text):\n",
    "    lda_tokens = []\n",
    "    tokens  = parser(text)\n",
    "    for token in tokens:\n",
    "        if token.orth_.isspace():\n",
    "            continue\n",
    "        elif token.like_url:\n",
    "            lda_tokens.append('URL')\n",
    "        elif token.orth_.startswith('@'):\n",
    "            lda_tokens.append('SCREEN_NAME')\n",
    "        else:\n",
    "            lda_tokens.append(token.lower_)\n",
    "    return lda_tokens"
   ]
  },
  {
   "cell_type": "code",
   "execution_count": 11,
   "metadata": {},
   "outputs": [
    {
     "name": "stderr",
     "output_type": "stream",
     "text": [
      "[nltk_data] Downloading package wordnet to\n",
      "[nltk_data]     /Users/ayankarim/nltk_data...\n",
      "[nltk_data]   Package wordnet is already up-to-date!\n"
     ]
    },
    {
     "data": {
      "text/plain": [
       "True"
      ]
     },
     "execution_count": 11,
     "metadata": {},
     "output_type": "execute_result"
    }
   ],
   "source": [
    "# Download wordnet to find meaning of words, synonyms and antonyms\n",
    "nltk.download('wordnet')"
   ]
  },
  {
   "cell_type": "code",
   "execution_count": 12,
   "metadata": {},
   "outputs": [
    {
     "name": "stderr",
     "output_type": "stream",
     "text": [
      "[nltk_data] Downloading package stopwords to\n",
      "[nltk_data]     /Users/ayankarim/nltk_data...\n",
      "[nltk_data]   Package stopwords is already up-to-date!\n"
     ]
    }
   ],
   "source": [
    "from nltk.corpus import wordnet as wn\n",
    "\n",
    "# Function to lemmatize and more words to their root\n",
    "def get_lemma(word):\n",
    "    lemma = wn.morphy(word)\n",
    "    if lemma is None:\n",
    "        return word\n",
    "    else:\n",
    "        return lemma\n",
    "    \n",
    "# Compile set of stopwords\n",
    "nltk.download('stopwords')\n",
    "en_stop = set(nltk.corpus.stopwords.words('english'))\n",
    "\n",
    "def prepare_text_for_lda(text):\n",
    "    tokens = tokenize(text)\n",
    "    tokens = [token for token in tokens if len(token) > 4]\n",
    "    tokens = [token for token in tokens if token not in en_stop]\n",
    "    tokens = [get_lemma(token) for token in tokens]\n",
    "    return tokens"
   ]
  },
  {
   "cell_type": "code",
   "execution_count": 13,
   "metadata": {},
   "outputs": [],
   "source": [
    "text_data = []\n",
    "\n",
    "# Prepare training set for LDA\n",
    "tokens = df['text'].apply(lambda x: prepare_text_for_lda(x))\n",
    "\n",
    "# Prepare Dataframe for later\n",
    "df['text'] = df['text'].apply(lambda x: prepare_text_for_lda(x))\n",
    "\n",
    "# Append tokenized text to list of tokenized data\n",
    "null = tokens.apply(lambda x: text_data.append(x))"
   ]
  },
  {
   "cell_type": "code",
   "execution_count": 14,
   "metadata": {},
   "outputs": [],
   "source": [
    "### Clean Title Column\n",
    "\n",
    "# Tokenize text\n",
    "df['title'] = df.apply(lambda row: nltk.word_tokenize(row['title']), axis=1)\n",
    "\n",
    "# Remove Stopwords, or keep it, might be important for aspect based semantics\n",
    "stop = stopwords.words('english')\n",
    "df['title'] = df['title'].apply(lambda x: [item for item in x if item not in stop])\n",
    "\n",
    "# Lowercase everything\n",
    "df['title'] = df['title'].astype(str)\n",
    "df['title'] = df['title'].apply(lambda x: x.lower())"
   ]
  },
  {
   "cell_type": "code",
   "execution_count": 15,
   "metadata": {},
   "outputs": [
    {
     "data": {
      "text/html": [
       "<div>\n",
       "<style scoped>\n",
       "    .dataframe tbody tr th:only-of-type {\n",
       "        vertical-align: middle;\n",
       "    }\n",
       "\n",
       "    .dataframe tbody tr th {\n",
       "        vertical-align: top;\n",
       "    }\n",
       "\n",
       "    .dataframe thead th {\n",
       "        text-align: right;\n",
       "    }\n",
       "</style>\n",
       "<table border=\"1\" class=\"dataframe\">\n",
       "  <thead>\n",
       "    <tr style=\"text-align: right;\">\n",
       "      <th></th>\n",
       "      <th>author</th>\n",
       "      <th>text</th>\n",
       "      <th>title</th>\n",
       "      <th>phone</th>\n",
       "    </tr>\n",
       "  </thead>\n",
       "  <tbody>\n",
       "    <tr>\n",
       "      <th>0</th>\n",
       "      <td>Eric Brackett</td>\n",
       "      <td>[iphone, launch, stellar, review, equally, str...</td>\n",
       "      <td>['shrinking', 'demand', 'forces', 'apple', 'sl...</td>\n",
       "      <td>IPhone X</td>\n",
       "    </tr>\n",
       "    <tr>\n",
       "      <th>1</th>\n",
       "      <td>Lucas Coll</td>\n",
       "      <td>[come, quality, devices, macbook, homepod, app...</td>\n",
       "      <td>['looking', 'upgrade', '?', 'these', 'best', '...</td>\n",
       "      <td>IPhone X</td>\n",
       "    </tr>\n",
       "    <tr>\n",
       "      <th>2</th>\n",
       "      <td>Simon Hill</td>\n",
       "      <td>[iphone, completely, different, predecessor, f...</td>\n",
       "      <td>['the', 'common', 'iphone', 'x', 'problems', '...</td>\n",
       "      <td>IPhone X</td>\n",
       "    </tr>\n",
       "    <tr>\n",
       "      <th>3</th>\n",
       "      <td>Trevor Mogg</td>\n",
       "      <td>[market, iphone, pricey, battery, pack, happen...</td>\n",
       "      <td>['this', '$', '4,600', 'solar', 'charger', 'co...</td>\n",
       "      <td>IPhone X</td>\n",
       "    </tr>\n",
       "    <tr>\n",
       "      <th>4</th>\n",
       "      <td>Mark Jansen</td>\n",
       "      <td>[initial, estimate, november, launch, window, ...</td>\n",
       "      <td>['apple', 'halve', 'iphone', 'x', 'production'...</td>\n",
       "      <td>IPhone X</td>\n",
       "    </tr>\n",
       "  </tbody>\n",
       "</table>\n",
       "</div>"
      ],
      "text/plain": [
       "          author                                               text  \\\n",
       "0  Eric Brackett  [iphone, launch, stellar, review, equally, str...   \n",
       "1     Lucas Coll  [come, quality, devices, macbook, homepod, app...   \n",
       "2     Simon Hill  [iphone, completely, different, predecessor, f...   \n",
       "3    Trevor Mogg  [market, iphone, pricey, battery, pack, happen...   \n",
       "4    Mark Jansen  [initial, estimate, november, launch, window, ...   \n",
       "\n",
       "                                               title     phone  \n",
       "0  ['shrinking', 'demand', 'forces', 'apple', 'sl...  IPhone X  \n",
       "1  ['looking', 'upgrade', '?', 'these', 'best', '...  IPhone X  \n",
       "2  ['the', 'common', 'iphone', 'x', 'problems', '...  IPhone X  \n",
       "3  ['this', '$', '4,600', 'solar', 'charger', 'co...  IPhone X  \n",
       "4  ['apple', 'halve', 'iphone', 'x', 'production'...  IPhone X  "
      ]
     },
     "execution_count": 15,
     "metadata": {},
     "output_type": "execute_result"
    }
   ],
   "source": [
    "# Visualize dataframe\n",
    "df.head()"
   ]
  },
  {
   "cell_type": "code",
   "execution_count": 16,
   "metadata": {},
   "outputs": [],
   "source": [
    "from gensim import corpora\n",
    "\n",
    "# Assemble tokenized text data into a dictionary\n",
    "dictionary = corpora.Dictionary(text_data)"
   ]
  },
  {
   "cell_type": "code",
   "execution_count": 17,
   "metadata": {},
   "outputs": [],
   "source": [
    "# Create Bag of Words corpus from text data\n",
    "corpus = [dictionary.doc2bow(text) for text in text_data]"
   ]
  },
  {
   "cell_type": "code",
   "execution_count": 18,
   "metadata": {},
   "outputs": [
    {
     "name": "stdout",
     "output_type": "stream",
     "text": [
      "[(0, 0.03679786889970594),\n",
      " (1, 0.07617342592283681),\n",
      " (2, 0.1325071123169123),\n",
      " (3, 0.05375599827065056),\n",
      " (4, 0.14142825528319036),\n",
      " (5, 0.08927882787942588),\n",
      " (6, 0.08321168552940078),\n",
      " (7, 0.11008968466472606),\n",
      " (8, 0.031338570618464304),\n",
      " (9, 0.18744659011894513),\n",
      " (10, 0.11008968466472606),\n",
      " (11, 0.08321168552940078),\n",
      " (12, 0.1249643934126301),\n",
      " (13, 0.04552406733537042),\n",
      " (14, 0.11903843717256786),\n",
      " (15, 0.05375599827065056),\n",
      " (16, 0.16642337105880156),\n",
      " (17, 0.06248219670631505),\n",
      " (18, 0.016420406425483286),\n",
      " (19, 0.22017936932945212),\n",
      " (20, 0.16900105918222652),\n",
      " (21, 0.09313155529378143),\n",
      " (22, 0.016958129370944625),\n",
      " (23, 0.0563336863940755),\n",
      " (24, 0.11008968466472606),\n",
      " (25, 0.11008968466472606),\n",
      " (26, 0.08321168552940078),\n",
      " (27, 0.08321168552940078),\n",
      " (28, 0.15234685184567362),\n",
      " (29, 0.031338570618464304),\n",
      " (30, 0.10430313081651559),\n",
      " (31, 0.0563336863940755),\n",
      " (32, 0.09313155529378143),\n",
      " (33, 0.08321168552940078),\n",
      " (34, 0.02321561718696235),\n",
      " (35, 0.09313155529378143),\n",
      " (36, 0.21214238292478552),\n",
      " (37, 0.014874708747904032),\n",
      " (38, 0.016958129370944625),\n",
      " (39, 0.11008968466472606),\n",
      " (40, 0.08321168552940078),\n",
      " (41, 0.07165432954779012),\n",
      " (42, 0.08836706177625066),\n",
      " (43, 0.08063399740597585),\n",
      " (44, 0.04733714919510756),\n",
      " (45, 0.026075782704128896),\n",
      " (46, 0.026075782704128896),\n",
      " (47, 0.16900105918222652),\n",
      " (48, 0.11008968466472606),\n",
      " (49, 0.03729213640009028),\n",
      " (50, 0.03233729741656691),\n",
      " (51, 0.026075782704128896),\n",
      " (52, 0.09313155529378143),\n",
      " (53, 0.07359573779941188),\n",
      " (54, 0.0022774952879042612),\n",
      " (55, 0.04733714919510756),\n",
      " (56, 0.05375599827065056),\n",
      " (57, 0.01923562465884888),\n",
      " (58, 0.043836128506269896),\n",
      " (59, 0.09104813467074084),\n",
      " (60, 0.24963505658820231),\n",
      " (61, 0.09313155529378143),\n",
      " (62, 0.04929542678751153),\n",
      " (63, 0.05921529655189219),\n",
      " (64, 0.04552406733537042),\n",
      " (65, 0.09313155529378143),\n",
      " (66, 0.06725228295655875),\n",
      " (67, 0.06893213270998756),\n",
      " (68, 0.08321168552940078),\n",
      " (69, 0.14142825528319036),\n",
      " (70, 0.02687799913532528),\n",
      " (71, 0.24647713393755766),\n",
      " (72, 0.1325071123169123),\n",
      " (73, 0.05215156540825779),\n",
      " (74, 0.03446606635499378),\n",
      " (75, 0.0571318759288516),\n",
      " (76, 0.1325071123169123),\n",
      " (77, 0.03075833609124456),\n",
      " (78, 0.16642337105880156),\n",
      " (79, 0.11008968466472606),\n",
      " (80, 0.09313155529378143),\n",
      " (81, 0.04225716718094756),\n",
      " (82, 0.22852027776851044),\n",
      " (83, 0.031338570618464304),\n",
      " (84, 0.031338570618464304),\n",
      " (85, 0.05921529655189219),\n",
      " (86, 0.06625355615845616),\n",
      " (87, 0.21214238292478552),\n",
      " (88, 0.16642337105880156),\n",
      " (89, 0.11008968466472606),\n",
      " (90, 0.1612679948119517),\n",
      " (91, 0.017507936984049156)]\n"
     ]
    }
   ],
   "source": [
    "from gensim import models\n",
    "\n",
    "# Create TF-IDF vectors from our bag of words\n",
    "tfidf = models.TfidfModel(corpus)\n",
    "corpus_tfidf = tfidf[corpus]\n",
    "\n",
    "from pprint import pprint\n",
    "\n",
    "for doc in corpus_tfidf:\n",
    "    pprint(doc)\n",
    "    break"
   ]
  },
  {
   "cell_type": "code",
   "execution_count": 19,
   "metadata": {},
   "outputs": [],
   "source": [
    "import pickle\n",
    "\n",
    "pickle.dump(corpus_tfidf, open('corpus_tfidf.pkl', 'wb'))\n",
    "dictionary.save('dictionary.gensim')"
   ]
  },
  {
   "cell_type": "markdown",
   "metadata": {},
   "source": [
    "# 3 Topics"
   ]
  },
  {
   "cell_type": "code",
   "execution_count": 20,
   "metadata": {},
   "outputs": [
    {
     "name": "stdout",
     "output_type": "stream",
     "text": [
      "(0, '0.001*\"tesla\" + 0.000*\"caviar\" + 0.000*\"solar\" + 0.000*\"4,600\" + 0.000*\"ruble\" + 0.000*\"knocking\" + 0.000*\"299,000\"')\n",
      "(1, '0.000*\"reuters\" + 0.000*\"hack\" + 0.000*\"employer\" + 0.000*\"conference\" + 0.000*\"researcher\" + 0.000*\"withdraw\" + 0.000*\"corephotonics\"')\n",
      "(2, '0.002*\"iphone\" + 0.002*\"galaxy\" + 0.002*\"samsung\" + 0.002*\"apple\" + 0.001*\"battery\" + 0.001*\"camera\" + 0.001*\"screen\"')\n"
     ]
    }
   ],
   "source": [
    "import gensim\n",
    "\n",
    "NUM_TOPICS = 3\n",
    "\n",
    "# Extract Topics\n",
    "ldamodel = gensim.models.ldamodel.LdaModel(corpus_tfidf, num_topics = NUM_TOPICS, id2word = dictionary, passes=50)\n",
    "ldamodel.save('model3.gensim')\n",
    "\n",
    "# Print terms for topics\n",
    "topics = ldamodel.print_topics(num_words=7)\n",
    "for topic in topics:\n",
    "    print(topic)"
   ]
  },
  {
   "cell_type": "markdown",
   "metadata": {},
   "source": [
    "# 4 Topics"
   ]
  },
  {
   "cell_type": "code",
   "execution_count": 21,
   "metadata": {},
   "outputs": [
    {
     "name": "stdout",
     "output_type": "stream",
     "text": [
      "(0, '0.000*\"court\" + 0.000*\"injunction\" + 0.000*\"legal\" + 0.000*\"license\" + 0.000*\"illegal\" + 0.000*\"ossia\" + 0.000*\"infringe\"')\n",
      "(1, '0.001*\"woman\" + 0.001*\"pocket\" + 0.001*\"hillard\" + 0.001*\"pants\" + 0.000*\"idrop\" + 0.000*\"explode\" + 0.000*\"quarter\"')\n",
      "(2, '0.003*\"iphone\" + 0.002*\"galaxy\" + 0.002*\"samsung\" + 0.002*\"apple\" + 0.002*\"battery\" + 0.001*\"camera\" + 0.001*\"screen\"')\n",
      "(3, '0.000*\"microsoft\" + 0.000*\"ubreakifix\" + 0.000*\"warranty\" + 0.000*\"cursor\" + 0.000*\"impair\" + 0.000*\"repair\" + 0.000*\"accessibility\"')\n"
     ]
    }
   ],
   "source": [
    "import gensim\n",
    "\n",
    "NUM_TOPICS = 4\n",
    "\n",
    "# Extract Topics\n",
    "ldamodel = gensim.models.ldamodel.LdaModel(corpus_tfidf, num_topics = NUM_TOPICS, id2word = dictionary, passes=50)\n",
    "ldamodel.save('model4.gensim')\n",
    "\n",
    "# Print terms for topics\n",
    "topics = ldamodel.print_topics(num_words=7)\n",
    "for topic in topics:\n",
    "    print(topic)"
   ]
  },
  {
   "cell_type": "markdown",
   "metadata": {},
   "source": [
    "# 5 Topics"
   ]
  },
  {
   "cell_type": "code",
   "execution_count": 22,
   "metadata": {},
   "outputs": [
    {
     "name": "stdout",
     "output_type": "stream",
     "text": [
      "(0, '0.000*\"protector\" + 0.000*\"leather\" + 0.000*\"armor\" + 0.000*\"protection\" + 0.000*\"disable\" + 0.000*\"protect\" + 0.000*\"scratch\"')\n",
      "(1, '0.001*\"woman\" + 0.001*\"ossia\" + 0.001*\"pocket\" + 0.001*\"pants\" + 0.001*\"hillard\" + 0.001*\"idrop\" + 0.000*\"explode\"')\n",
      "(2, '0.001*\"microsoft\" + 0.001*\"reuters\" + 0.000*\"hack\" + 0.000*\"employer\" + 0.000*\"researcher\" + 0.000*\"withdraw\" + 0.000*\"impair\"')\n",
      "(3, '0.001*\"browser\" + 0.001*\"reboot\" + 0.001*\"driver\" + 0.001*\"shader\" + 0.000*\"graphicsfuzz\" + 0.000*\"deploy\" + 0.000*\"reproducible\"')\n",
      "(4, '0.003*\"iphone\" + 0.002*\"galaxy\" + 0.002*\"samsung\" + 0.002*\"apple\" + 0.002*\"battery\" + 0.002*\"camera\" + 0.001*\"screen\"')\n"
     ]
    }
   ],
   "source": [
    "import gensim\n",
    "\n",
    "NUM_TOPICS = 5\n",
    "\n",
    "# Extract Topics\n",
    "ldamodel = gensim.models.ldamodel.LdaModel(corpus_tfidf, num_topics = NUM_TOPICS, id2word = dictionary, passes=50)\n",
    "ldamodel.save('model5.gensim')\n",
    "\n",
    "# Print terms for topics\n",
    "topics = ldamodel.print_topics(num_words=7)\n",
    "for topic in topics:\n",
    "    print(topic)"
   ]
  },
  {
   "cell_type": "markdown",
   "metadata": {},
   "source": [
    "# 7 Topics"
   ]
  },
  {
   "cell_type": "code",
   "execution_count": 23,
   "metadata": {},
   "outputs": [
    {
     "name": "stdout",
     "output_type": "stream",
     "text": [
      "(0, '0.001*\"apparent\" + 0.001*\"tier\" + 0.001*\"brother\" + 0.001*\"bragging\" + 0.001*\"blimp\" + 0.001*\"dusty\" + 0.001*\"lucky\"')\n",
      "(1, '0.002*\"quarter\" + 0.001*\"repair\" + 0.001*\"analytics\" + 0.001*\"corephotonics\" + 0.001*\"disable\" + 0.001*\"13-inch\" + 0.001*\"profit\"')\n",
      "(2, '0.002*\"microsoft\" + 0.001*\"reboot\" + 0.001*\"browser\" + 0.001*\"woman\" + 0.001*\"pocket\" + 0.001*\"hillard\" + 0.001*\"pants\"')\n",
      "(3, '0.004*\"iphone\" + 0.003*\"galaxy\" + 0.003*\"samsung\" + 0.002*\"apple\" + 0.002*\"battery\" + 0.002*\"camera\" + 0.002*\"screen\"')\n",
      "(4, '0.001*\"tesla\" + 0.001*\"caviar\" + 0.001*\"solar\" + 0.001*\"commendable\" + 0.001*\"positive\" + 0.001*\"swift\" + 0.001*\"unveiling\"')\n",
      "(5, '0.001*\"repair\" + 0.001*\"ubreakifix\" + 0.001*\"warranty\" + 0.001*\"authorize\" + 0.000*\"lawder\" + 0.000*\"location\" + 0.000*\"partner\"')\n",
      "(6, '0.001*\"protector\" + 0.001*\"reuters\" + 0.001*\"leather\" + 0.001*\"armor\" + 0.001*\"employer\" + 0.001*\"hack\" + 0.000*\"beneath\"')\n"
     ]
    }
   ],
   "source": [
    "import gensim\n",
    "\n",
    "NUM_TOPICS = 7\n",
    "\n",
    "# Extract Topics\n",
    "ldamodel = gensim.models.ldamodel.LdaModel(corpus_tfidf, num_topics = NUM_TOPICS, id2word = dictionary, passes=50)\n",
    "ldamodel.save('model7.gensim')\n",
    "\n",
    "# Print terms for topics\n",
    "topics = ldamodel.print_topics(num_words=7)\n",
    "for topic in topics:\n",
    "    print(topic)"
   ]
  },
  {
   "cell_type": "markdown",
   "metadata": {},
   "source": [
    "# 10 Topics"
   ]
  },
  {
   "cell_type": "code",
   "execution_count": 24,
   "metadata": {
    "scrolled": true
   },
   "outputs": [
    {
     "name": "stdout",
     "output_type": "stream",
     "text": [
      "(0, '0.002*\"repair\" + 0.002*\"ossia\" + 0.001*\"beyond\" + 0.001*\"protector\" + 0.001*\"gaming\" + 0.001*\"provider\" + 0.001*\"lease\"')\n",
      "(1, '0.001*\"repair\" + 0.001*\"study\" + 0.001*\"ubreakifix\" + 0.001*\"update\" + 0.001*\"strategy\" + 0.001*\"analytics\" + 0.001*\"warranty\"')\n",
      "(2, '0.001*\"update\" + 0.001*\"august\" + 0.001*\"tweet\" + 0.001*\"suggestion\" + 0.001*\"vanilla\" + 0.001*\"lockscreen\" + 0.001*\"phablet\"')\n",
      "(3, '0.001*\"deadspots\" + 0.001*\"etnews\" + 0.001*\"input\" + 0.001*\"disable\" + 0.001*\"brother\" + 0.001*\"tier\" + 0.001*\"management\"')\n",
      "(4, '0.005*\"iphone\" + 0.004*\"galaxy\" + 0.004*\"samsung\" + 0.003*\"apple\" + 0.003*\"battery\" + 0.003*\"camera\" + 0.002*\"screen\"')\n",
      "(5, '0.001*\"lense\" + 0.001*\"journal\" + 0.001*\"monstrous\" + 0.001*\"nokia\" + 0.001*\"cram\" + 0.001*\"beyond\" + 0.001*\"biometric\"')\n",
      "(6, '0.002*\"microsoft\" + 0.002*\"nokia\" + 0.001*\"policy\" + 0.001*\"interface\" + 0.001*\"14-day\" + 0.001*\"stereo\" + 0.001*\"conference\"')\n",
      "(7, '0.002*\"quarter\" + 0.001*\"lawsuit\" + 0.001*\"movement\" + 0.001*\"refurbish\" + 0.001*\"chips\" + 0.001*\"source\" + 0.001*\"ramasubramanian\"')\n",
      "(8, '0.001*\"reuters\" + 0.001*\"settle\" + 0.001*\"conference\" + 0.001*\"deciding\" + 0.001*\"resale\" + 0.001*\"hack\" + 0.001*\"employer\"')\n",
      "(9, '0.002*\"patent\" + 0.002*\"tesla\" + 0.001*\"court\" + 0.001*\"caviar\" + 0.001*\"corephotonics\" + 0.001*\"grant\" + 0.001*\"legal\"')\n"
     ]
    }
   ],
   "source": [
    "import gensim\n",
    "\n",
    "NUM_TOPICS = 10\n",
    "\n",
    "# Extract Topics\n",
    "ldamodel = gensim.models.ldamodel.LdaModel(corpus_tfidf, num_topics = NUM_TOPICS, id2word = dictionary, passes=50)\n",
    "ldamodel.save('model10.gensim')\n",
    "\n",
    "# Print terms for topics\n",
    "topics = ldamodel.print_topics(num_words=7)\n",
    "for topic in topics:\n",
    "    print(topic)"
   ]
  },
  {
   "cell_type": "markdown",
   "metadata": {},
   "source": [
    "# pyLDAvis"
   ]
  },
  {
   "cell_type": "code",
   "execution_count": 25,
   "metadata": {},
   "outputs": [],
   "source": [
    "# Create Visualizations of topic clusters using pyLDAvis\n",
    "\n",
    "dictionary = gensim.corpora.Dictionary.load('dictionary.gensim')\n",
    "corpus = pickle.load(open('/Users/ayankarim/Documents/Thinkful/Bootcamp/Final Capstone Opinion Mining/opinion_mining/Notebook/corpus_tfidf.pkl', 'rb'))\n"
   ]
  },
  {
   "cell_type": "code",
   "execution_count": 26,
   "metadata": {},
   "outputs": [
    {
     "name": "stderr",
     "output_type": "stream",
     "text": [
      "/usr/local/lib/python3.6/site-packages/pyLDAvis/_prepare.py:257: FutureWarning: Sorting because non-concatenation axis is not aligned. A future version\n",
      "of pandas will change to not sort by default.\n",
      "\n",
      "To accept the future behavior, pass 'sort=False'.\n",
      "\n",
      "To retain the current behavior and silence the warning, pass 'sort=True'.\n",
      "\n",
      "  return pd.concat([default_term_info] + list(topic_dfs))\n"
     ]
    },
    {
     "data": {
      "text/html": [
       "\n",
       "<link rel=\"stylesheet\" type=\"text/css\" href=\"https://cdn.rawgit.com/bmabey/pyLDAvis/files/ldavis.v1.0.0.css\">\n",
       "\n",
       "\n",
       "<div id=\"ldavis_el60384831909352787049923\"></div>\n",
       "<script type=\"text/javascript\">\n",
       "\n",
       "var ldavis_el60384831909352787049923_data = {\"mdsDat\": {\"x\": [0.006649067276248239, 0.006431777953180297, -0.013080845229428536], \"y\": [-0.0, -0.0, -0.0], \"topics\": [1, 2, 3], \"cluster\": [1, 1, 1], \"Freq\": [3.2532923221588135, 2.942805051803589, 93.80390167236328]}, \"tinfo\": {\"Category\": [\"Default\", \"Default\", \"Default\", \"Default\", \"Default\", \"Default\", \"Default\", \"Default\", \"Default\", \"Default\", \"Default\", \"Default\", \"Default\", \"Default\", \"Default\", \"Default\", \"Default\", \"Default\", \"Default\", \"Default\", \"Default\", \"Default\", \"Default\", \"Default\", \"Default\", \"Default\", \"Default\", \"Default\", \"Default\", \"Default\", \"Topic1\", \"Topic1\", \"Topic1\", \"Topic1\", \"Topic1\", \"Topic1\", \"Topic1\", \"Topic1\", \"Topic1\", \"Topic1\", \"Topic1\", \"Topic1\", \"Topic1\", \"Topic1\", \"Topic1\", \"Topic1\", \"Topic1\", \"Topic1\", \"Topic1\", \"Topic1\", \"Topic1\", \"Topic1\", \"Topic1\", \"Topic1\", \"Topic1\", \"Topic1\", \"Topic1\", \"Topic1\", \"Topic1\", \"Topic1\", \"Topic1\", \"Topic2\", \"Topic2\", \"Topic2\", \"Topic2\", \"Topic2\", \"Topic2\", \"Topic2\", \"Topic2\", \"Topic2\", \"Topic2\", \"Topic2\", \"Topic2\", \"Topic2\", \"Topic2\", \"Topic2\", \"Topic2\", \"Topic2\", \"Topic2\", \"Topic2\", \"Topic2\", \"Topic2\", \"Topic2\", \"Topic2\", \"Topic2\", \"Topic2\", \"Topic2\", \"Topic2\", \"Topic2\", \"Topic2\", \"Topic2\", \"Topic2\", \"Topic2\", \"Topic2\", \"Topic2\", \"Topic2\", \"Topic2\", \"Topic2\", \"Topic2\", \"Topic2\", \"Topic2\", \"Topic2\", \"Topic2\", \"Topic2\", \"Topic2\", \"Topic2\", \"Topic2\", \"Topic2\", \"Topic2\", \"Topic2\", \"Topic2\", \"Topic2\", \"Topic2\", \"Topic2\", \"Topic2\", \"Topic2\", \"Topic2\", \"Topic2\", \"Topic2\", \"Topic2\", \"Topic2\", \"Topic2\", \"Topic2\", \"Topic2\", \"Topic2\", \"Topic2\", \"Topic2\", \"Topic2\", \"Topic2\", \"Topic2\", \"Topic2\", \"Topic2\", \"Topic2\", \"Topic2\", \"Topic2\", \"Topic2\", \"Topic2\", \"Topic2\", \"Topic2\", \"Topic2\", \"Topic2\", \"Topic2\", \"Topic2\", \"Topic2\", \"Topic2\", \"Topic2\", \"Topic2\", \"Topic2\", \"Topic2\", \"Topic2\", \"Topic2\", \"Topic2\", \"Topic2\", \"Topic2\", \"Topic2\", \"Topic2\", \"Topic2\", \"Topic2\", \"Topic2\", \"Topic2\", \"Topic2\", \"Topic2\", \"Topic2\", \"Topic2\", \"Topic2\", \"Topic2\", \"Topic2\", \"Topic2\", \"Topic2\", \"Topic2\", \"Topic2\", \"Topic2\", \"Topic2\", \"Topic2\", \"Topic2\", \"Topic2\", \"Topic2\", \"Topic2\", \"Topic2\", \"Topic2\", \"Topic2\", \"Topic2\", \"Topic2\", \"Topic2\", \"Topic2\", \"Topic2\", \"Topic2\", \"Topic2\", \"Topic2\", \"Topic3\", \"Topic3\", \"Topic3\", \"Topic3\", \"Topic3\", \"Topic3\", \"Topic3\", \"Topic3\", \"Topic3\", \"Topic3\", \"Topic3\", \"Topic3\", \"Topic3\", \"Topic3\", \"Topic3\", \"Topic3\", \"Topic3\", \"Topic3\", \"Topic3\", \"Topic3\", \"Topic3\", \"Topic3\", \"Topic3\", \"Topic3\", \"Topic3\", \"Topic3\", \"Topic3\", \"Topic3\", \"Topic3\", \"Topic3\"], \"Freq\": [0.0, 0.0, 0.0, 0.0, 0.0, 0.0, 0.0, 0.0, 0.0, 0.0, 0.0, 0.0, 0.0, 0.0, 0.0, 0.0, 0.0, 0.0, 0.0, 0.0, 0.0, 0.0, 0.0, 0.0, 0.0, 0.0, 0.0, 0.0, 0.0, 0.0, 0.02005820721387863, 0.014785870909690857, 0.011370954103767872, 0.009805528447031975, 0.009805528447031975, 0.008441266603767872, 0.008441266603767872, 0.008441266603767872, 0.008441266603767872, 0.008441266603767872, 0.008441266603767872, 0.008441266603767872, 0.008441266603767872, 0.008441266603767872, 0.008441266603767872, 0.008441266603767872, 0.008441266603767872, 0.008441266603767872, 0.008441266603767872, 0.008441266603767872, 0.008441266603767872, 0.008441266603767872, 0.008441265672445297, 0.008441265672445297, 0.008441265672445297, 0.008441265672445297, 0.008441265672445297, 0.008441265672445297, 0.008441265672445297, 0.008441265672445297, 0.008441265672445297, 0.006626071408390999, 0.006626071408390999, 0.006626071408390999, 0.006626071408390999, 0.006626071408390999, 0.006626071408390999, 0.006626071408390999, 0.006626071408390999, 0.006626071408390999, 0.006626071408390999, 0.006626071408390999, 0.006626071408390999, 0.006626071408390999, 0.006626071408390999, 0.006626071408390999, 0.006626071408390999, 0.006626071408390999, 0.006626071408390999, 0.006626071408390999, 0.006626071408390999, 0.006626071408390999, 0.006626071408390999, 0.006626071408390999, 0.006626071408390999, 0.006626071408390999, 0.006626071408390999, 0.006626071408390999, 0.006626071408390999, 0.006626071408390999, 0.006626071408390999, 0.006626071408390999, 0.006626071408390999, 0.006626071408390999, 0.006626071408390999, 0.006626071408390999, 0.006626071408390999, 0.006626071408390999, 0.006626071408390999, 0.006626071408390999, 0.006626071408390999, 0.006626071408390999, 0.006626071408390999, 0.006626071408390999, 0.006626071408390999, 0.006626071408390999, 0.006626071408390999, 0.006626071408390999, 0.006626071408390999, 0.006626071408390999, 0.006626071408390999, 0.006626071408390999, 0.006626071408390999, 0.006626071408390999, 0.006626071408390999, 0.006626071408390999, 0.006626071408390999, 0.006626071408390999, 0.006626071408390999, 0.006626071408390999, 0.006633641663938761, 0.006633641663938761, 0.006633641663938761, 0.006633641663938761, 0.006633641663938761, 0.006633641663938761, 0.006633641663938761, 0.006633641663938761, 0.006633641663938761, 0.006633641663938761, 0.006633641663938761, 0.006633641663938761, 0.006633641663938761, 0.006633641663938761, 0.006633641663938761, 0.006633641663938761, 0.006633641663938761, 0.006633641663938761, 0.006633641663938761, 0.006633641663938761, 0.006633641663938761, 0.006633641663938761, 0.006633641663938761, 0.006633641663938761, 0.006633641663938761, 0.006633641663938761, 0.007131330668926239, 0.006677339319139719, 0.006677339784801006, 0.006677339319139719, 0.006810690741986036, 0.006810690276324749, 0.006739233620464802, 0.006739233620464802, 0.006677339319139719, 0.006677339319139719, 0.006677339319139719, 0.006677339319139719, 0.006677339319139719, 0.006677339319139719, 0.006677339319139719, 0.006677339319139719, 0.006677339319139719, 0.006677339319139719, 0.006677339319139719, 0.006677338853478432, 0.006677339319139719, 0.006677339319139719, 0.006677339319139719, 0.006677339784801006, 0.006677339319139719, 0.006677339319139719, 0.006677339319139719, 0.006677339319139719, 0.006677339319139719, 0.006677339319139719, 0.006677339319139719, 0.006677339319139719, 0.006677339319139719, 0.006677339319139719, 0.006677339784801006, 0.006677339319139719, 0.006745985709130764, 0.006702421698719263, 0.006696352269500494, 0.006708595901727676, 0.006689045112580061, 0.006698164623230696, 0.006688970141112804, 2.079256772994995, 1.6269863843917847, 1.6042746305465698, 1.3632915019989014, 1.2747753858566284, 1.1450740098953247, 0.955871045589447, 0.8817641735076904, 0.8658136129379272, 0.8362665176391602, 0.8149414658546448, 0.811499834060669, 0.8078773021697998, 0.7817623019218445, 0.750022828578949, 0.7379357218742371, 0.7315230965614319, 0.7052072882652283, 0.7049511075019836, 0.7027122974395752, 0.6915773153305054, 0.689803957939148, 0.6756138801574707, 0.6682368516921997, 0.6665077209472656, 0.6666393876075745, 0.6558680534362793, 0.6544581651687622, 0.6533902883529663, 0.6434274911880493], \"Term\": [\"tesla\", \"reuters\", \"patent\", \"create\", \"selling\", \"start\", \"test\", \"three\", \"number\", \"build\", \"unit\", \"look\", \"details\", \"rather\", \"include\", \"lawsuit\", \"microsoft\", \"million\", \"order\", \"payment\", \"record\", \"appear\", \"allow\", \"huawei\", \"hardware\", \"since\", \"reason\", \"black\", \"protection\", \"make\", \"tesla\", \"caviar\", \"solar\", \"ruble\", \"4,600\", \"recall\", \"nikola\", \"princely\", \"putin\", \"4,850\", \"knocking\", \"engrave\", \"specification\", \"spelling\", \"formal\", \"284,000\", \"299,000\", \"closely\", \"electric\", \"effectiveness\", \"customs\", \"heaven\", \"plate\", \"inventor\", \"steve\", \"safety\", \"russian\", \"vladimir\", \"trends\\u2019\", \"bet\", \"decorative\", \"likelihood\", \"guard\", \"grease\", \"stray\", \"glassguard\", \"glas.tr\", \"generic\", \"strengthening\", \"fracture\", \"formerly\", \"expertise\", \"dull\", \"doubledefence\", \"deflect\", \"curing\", \"countless\", \"supershieldz\", \"tailor\", \"collection\", \"stopping\", \"harden\", \"pedigree\", \"healing\", \"polymer\", \"mission\", \"precious\", \"maxboost\", \"rainbow\", \"matrix\", \"reinforce\", \"trutouch\", \"shattering\", \"99.99-percent\", \"40-percent\", \"1,000-times\", \"particle\", \"safely\", \"shatter\", \"shoulder\", \"whitestone\", \"silicone\", \"thorough\", \"unaffected\", \"unprotected\", \"validate\", \"view\", \"watcher\", \"aluminosilicate\", \"asahi\", \"bulletshield\", \"barrier\", \"banking\", \"atomically\", \"imperfection\", \"inspection\", \"hydrophobic\", \"lifetime\", \"interfere\", \"weeds\", \"4,850\", \"closely\", \"customs\", \"299,000\", \"decorative\", \"effectiveness\", \"vladimir\", \"284,000\", \"electric\", \"engrave\", \"formal\", \"trends\\u2019\", \"heaven\", \"inventor\", \"knocking\", \"bet\", \"safety\", \"nikola\", \"steve\", \"spelling\", \"specification\", \"russian\", \"recall\", \"putin\", \"plate\", \"princely\", \"reuters\", \"cybersecurity\", \"iphonex\", \"investigator\", \"hack\", \"employer\", \"withdraw\", \"researcher\", \"spokesperson\", \"credibility\", \"incomplete\", \"in-50,000\", \"guest\", \"authentication\", \"believing\", \"attendee\", \"approximately\", \"amendment\", \"abstract\", \"creepy\", \"kimberly\", \"probability\", \"lecture\", \"speech\", \"slate\", \"singapore\", \"samra\", \"rack\", \"prompting\", \"requirement\", \"mechanism\", \"organization\", \"presenter\", \"print\", \"printer\", \"maturity\", \"conference\", \"ask\", \"request\", \"corephotonics\", \"raising\", \"financial\", \"research\", \"iphone\", \"galaxy\", \"samsung\", \"apple\", \"battery\", \"camera\", \"screen\", \"android\", \"display\", \"update\", \"issue\", \"charge\", \"price\", \"photo\", \"pixel\", \"power\", \"google\", \"better\", \"storage\", \"nokia\", \"deal\", \"sensor\", \"month\", \"light\", \"launch\", \"market\", \"fingerprint\", \"unlock\", \"sales\", \"mobile\"], \"Total\": [0.0, 0.0, 0.0, 0.0, 0.0, 0.0, 0.0, 0.0, 0.0, 0.0, 0.0, 0.0, 0.0, 0.0, 0.0, 0.0, 0.0, 0.0, 0.0, 0.0, 0.0, 0.0, 0.0, 0.0, 0.0, 0.0, 0.0, 0.0, 0.0, 0.0, 0.17282341420650482, 0.16847975552082062, 0.1639804095029831, 0.15945599973201752, 0.15945599973201752, 0.1517316848039627, 0.1517316997051239, 0.1517316997051239, 0.1517316997051239, 0.1517316997051239, 0.1517316997051239, 0.1517316997051239, 0.1517316997051239, 0.1517316997051239, 0.1517316997051239, 0.1517316997051239, 0.1517316997051239, 0.1517316997051239, 0.1517316997051239, 0.1517316997051239, 0.1517316997051239, 0.1517316997051239, 0.1517316997051239, 0.1517316997051239, 0.1517316997051239, 0.1517316997051239, 0.1517316997051239, 0.1517316997051239, 0.1517316997051239, 0.1517316997051239, 0.1517316997051239, 0.15088191628456116, 0.15088191628456116, 0.15088191628456116, 0.15088191628456116, 0.15088191628456116, 0.15088191628456116, 0.15088191628456116, 0.15088191628456116, 0.15088191628456116, 0.15088191628456116, 0.15088191628456116, 0.15088191628456116, 0.15088191628456116, 0.15088191628456116, 0.15088191628456116, 0.15088191628456116, 0.15088191628456116, 0.15088191628456116, 0.15088191628456116, 0.15088191628456116, 0.15088191628456116, 0.15088191628456116, 0.15088191628456116, 0.15088191628456116, 0.15088191628456116, 0.15088191628456116, 0.15088191628456116, 0.15088191628456116, 0.15088191628456116, 0.15088191628456116, 0.15088191628456116, 0.15088191628456116, 0.15088191628456116, 0.15088191628456116, 0.15088191628456116, 0.15088191628456116, 0.15088191628456116, 0.15088191628456116, 0.15088191628456116, 0.15088191628456116, 0.15088191628456116, 0.15088191628456116, 0.15088191628456116, 0.15088191628456116, 0.15088191628456116, 0.15088191628456116, 0.15088191628456116, 0.15088191628456116, 0.15088191628456116, 0.15088191628456116, 0.15088191628456116, 0.15088191628456116, 0.15088191628456116, 0.15088191628456116, 0.15088191628456116, 0.15088191628456116, 0.15088191628456116, 0.15088191628456116, 0.15088191628456116, 0.1517316997051239, 0.1517316997051239, 0.1517316997051239, 0.1517316997051239, 0.1517316997051239, 0.1517316997051239, 0.1517316997051239, 0.1517316997051239, 0.1517316997051239, 0.1517316997051239, 0.1517316997051239, 0.1517316997051239, 0.1517316997051239, 0.1517316997051239, 0.1517316997051239, 0.1517316997051239, 0.1517316997051239, 0.1517316997051239, 0.1517316997051239, 0.1517316997051239, 0.1517316997051239, 0.1517316997051239, 0.1517316848039627, 0.1517316997051239, 0.1517316997051239, 0.1517316997051239, 0.36196404695510864, 0.16801060736179352, 0.16801060736179352, 0.16801060736179352, 0.22308087348937988, 0.22308087348937988, 0.1956048309803009, 0.1956048309803009, 0.16801060736179352, 0.16801060736179352, 0.16801060736179352, 0.16801060736179352, 0.16801060736179352, 0.16801060736179352, 0.16801060736179352, 0.16801060736179352, 0.16801060736179352, 0.16801060736179352, 0.16801060736179352, 0.1680106222629547, 0.16801060736179352, 0.16801060736179352, 0.16801060736179352, 0.16801060736179352, 0.16801060736179352, 0.16801060736179352, 0.16801060736179352, 0.16801060736179352, 0.16801060736179352, 0.16801060736179352, 0.16801060736179352, 0.16801060736179352, 0.16801060736179352, 0.16801060736179352, 0.16801060736179352, 0.16801060736179352, 0.31055280566215515, 0.2054634392261505, 0.21704934537410736, 0.2667750120162964, 0.19943954050540924, 0.26559561491012573, 0.26764172315597534, 2.093214273452759, 1.6409343481063843, 1.6182217597961426, 1.377238154411316, 1.2887372970581055, 1.1590187549591064, 0.9698134064674377, 0.8957099914550781, 0.8797574043273926, 0.850213885307312, 0.8288863897323608, 0.8254802227020264, 0.8218459486961365, 0.7957022786140442, 0.7639651894569397, 0.7519175410270691, 0.7454652786254883, 0.7191480398178101, 0.718900740146637, 0.7166709899902344, 0.7055251002311707, 0.703746497631073, 0.6895604729652405, 0.6821773052215576, 0.6804531812667847, 0.6806398630142212, 0.6698110699653625, 0.6684063076972961, 0.6673375964164734, 0.6573729515075684], \"loglift\": [30.0, 29.0, 28.0, 27.0, 26.0, 25.0, 24.0, 23.0, 22.0, 21.0, 20.0, 19.0, 18.0, 17.0, 16.0, 15.0, 14.0, 13.0, 12.0, 11.0, 10.0, 9.0, 8.0, 7.0, 6.0, 5.0, 4.0, 3.0, 2.0, 1.0, 1.2719000577926636, 0.9923999905586243, 0.7567999958992004, 0.6366999745368958, 0.6366999745368958, 0.5364999771118164, 0.5364999771118164, 0.5364999771118164, 0.5364999771118164, 0.5364999771118164, 0.5364999771118164, 0.5364999771118164, 0.5364999771118164, 0.5364999771118164, 0.5364999771118164, 0.5364999771118164, 0.5364999771118164, 0.5364999771118164, 0.5364999771118164, 0.5364999771118164, 0.5364999771118164, 0.5364999771118164, 0.5364999771118164, 0.5364999771118164, 0.5364999771118164, 0.5364999771118164, 0.5364999771118164, 0.5364999771118164, 0.5364999771118164, 0.5364999771118164, 0.5364999771118164, 0.400299996137619, 0.400299996137619, 0.400299996137619, 0.400299996137619, 0.400299996137619, 0.400299996137619, 0.400299996137619, 0.400299996137619, 0.400299996137619, 0.400299996137619, 0.400299996137619, 0.400299996137619, 0.400299996137619, 0.400299996137619, 0.400299996137619, 0.400299996137619, 0.400299996137619, 0.400299996137619, 0.400299996137619, 0.400299996137619, 0.400299996137619, 0.400299996137619, 0.400299996137619, 0.400299996137619, 0.400299996137619, 0.400299996137619, 0.400299996137619, 0.400299996137619, 0.400299996137619, 0.400299996137619, 0.400299996137619, 0.400299996137619, 0.400299996137619, 0.400299996137619, 0.400299996137619, 0.400299996137619, 0.400299996137619, 0.400299996137619, 0.400299996137619, 0.400299996137619, 0.400299996137619, 0.400299996137619, 0.400299996137619, 0.400299996137619, 0.400299996137619, 0.400299996137619, 0.400299996137619, 0.400299996137619, 0.400299996137619, 0.400299996137619, 0.400299996137619, 0.400299996137619, 0.400299996137619, 0.400299996137619, 0.400299996137619, 0.400299996137619, 0.400299996137619, 0.400299996137619, 0.400299996137619, 0.39579999446868896, 0.39579999446868896, 0.39579999446868896, 0.39579999446868896, 0.39579999446868896, 0.39579999446868896, 0.39579999446868896, 0.39579999446868896, 0.39579999446868896, 0.39579999446868896, 0.39579999446868896, 0.39579999446868896, 0.39579999446868896, 0.39579999446868896, 0.39579999446868896, 0.39579999446868896, 0.39579999446868896, 0.39579999446868896, 0.39579999446868896, 0.39579999446868896, 0.39579999446868896, 0.39579999446868896, 0.39579999446868896, 0.39579999446868896, 0.39579999446868896, 0.39579999446868896, -0.40119999647140503, 0.3005000054836273, 0.3005000054836273, 0.3005000054836273, 0.03680000081658363, 0.03680000081658363, 0.15770000219345093, 0.15770000219345093, 0.3005000054836273, 0.3005000054836273, 0.3005000054836273, 0.3005000054836273, 0.3005000054836273, 0.3005000054836273, 0.3005000054836273, 0.3005000054836273, 0.3005000054836273, 0.3005000054836273, 0.3005000054836273, 0.3005000054836273, 0.3005000054836273, 0.3005000054836273, 0.3005000054836273, 0.3005000054836273, 0.3005000054836273, 0.3005000054836273, 0.3005000054836273, 0.3005000054836273, 0.3005000054836273, 0.3005000054836273, 0.3005000054836273, 0.3005000054836273, 0.3005000054836273, 0.3005000054836273, 0.3005000054836273, 0.3005000054836273, -0.303600013256073, 0.10300000011920929, 0.047200001776218414, -0.15719999372959137, 0.13079999387264252, -0.1543000042438507, -0.16339999437332153, 0.05730000138282776, 0.055399999022483826, 0.05530000105500221, 0.05380000174045563, 0.05310000106692314, 0.051899999380111694, 0.0494999997317791, 0.04830000177025795, 0.04800000041723251, 0.04740000143647194, 0.04699999839067459, 0.04690000042319298, 0.046799998730421066, 0.046300001442432404, 0.045499999076128006, 0.04520000144839287, 0.045099999755620956, 0.04439999908208847, 0.04439999908208847, 0.04430000111460686, 0.04399999976158142, 0.04399999976158142, 0.04349999874830246, 0.043299999088048935, 0.043299999088048935, 0.04320000112056732, 0.042899999767541885, 0.042899999767541885, 0.04280000180006027, 0.042500000447034836], \"logprob\": [30.0, 29.0, 28.0, 27.0, 26.0, 25.0, 24.0, 23.0, 22.0, 21.0, 20.0, 19.0, 18.0, 17.0, 16.0, 15.0, 14.0, 13.0, 12.0, 11.0, 10.0, 9.0, 8.0, 7.0, 6.0, 5.0, 4.0, 3.0, 2.0, 1.0, -7.344799995422363, -7.649700164794922, -7.912300109863281, -8.060400009155273, -8.060400009155273, -8.21030044555664, -8.21030044555664, -8.21030044555664, -8.21030044555664, -8.21030044555664, -8.21030044555664, -8.21030044555664, -8.21030044555664, -8.21030044555664, -8.21030044555664, -8.21030044555664, -8.21030044555664, -8.21030044555664, -8.21030044555664, -8.21030044555664, -8.21030044555664, -8.21030044555664, -8.21030044555664, -8.21030044555664, -8.21030044555664, -8.21030044555664, -8.21030044555664, -8.21030044555664, -8.21030044555664, -8.21030044555664, -8.21030044555664, -8.352100372314453, -8.352100372314453, -8.352100372314453, -8.352100372314453, -8.352100372314453, -8.352100372314453, -8.352100372314453, -8.352100372314453, -8.352100372314453, -8.352100372314453, -8.352100372314453, -8.352100372314453, -8.352100372314453, -8.352100372314453, -8.352100372314453, -8.352100372314453, -8.352100372314453, -8.352100372314453, -8.352100372314453, -8.352100372314453, -8.352100372314453, -8.352100372314453, -8.352100372314453, -8.352100372314453, -8.352100372314453, -8.352100372314453, -8.352100372314453, -8.352100372314453, -8.352100372314453, -8.352100372314453, -8.352100372314453, -8.352100372314453, -8.352100372314453, -8.352100372314453, -8.352100372314453, -8.352100372314453, -8.352100372314453, -8.352100372314453, -8.352100372314453, -8.352100372314453, -8.352100372314453, -8.352100372314453, -8.352100372314453, -8.352100372314453, -8.352100372314453, -8.352100372314453, -8.352100372314453, -8.352100372314453, -8.352100372314453, -8.352100372314453, -8.352100372314453, -8.352100372314453, -8.352100372314453, -8.352100372314453, -8.352100372314453, -8.352100372314453, -8.352100372314453, -8.352100372314453, -8.352100372314453, -8.350899696350098, -8.350899696350098, -8.350899696350098, -8.350899696350098, -8.350899696350098, -8.350899696350098, -8.350899696350098, -8.350899696350098, -8.350899696350098, -8.350899696350098, -8.350899696350098, -8.350899696350098, -8.350899696350098, -8.350899696350098, -8.350899696350098, -8.350899696350098, -8.350899696350098, -8.350899696350098, -8.350899696350098, -8.350899696350098, -8.350899696350098, -8.350899696350098, -8.350899696350098, -8.350899696350098, -8.350899696350098, -8.350899696350098, -8.278599739074707, -8.344400405883789, -8.344400405883789, -8.344400405883789, -8.324600219726562, -8.324600219726562, -8.335100173950195, -8.335100173950195, -8.344400405883789, -8.344400405883789, -8.344400405883789, -8.344400405883789, -8.344400405883789, -8.344400405883789, -8.344400405883789, -8.344400405883789, -8.344400405883789, -8.344400405883789, -8.344400405883789, -8.344400405883789, -8.344400405883789, -8.344400405883789, -8.344400405883789, -8.344400405883789, -8.344400405883789, -8.344400405883789, -8.344400405883789, -8.344400405883789, -8.344400405883789, -8.344400405883789, -8.344400405883789, -8.344400405883789, -8.344400405883789, -8.344400405883789, -8.344400405883789, -8.344400405883789, -8.334099769592285, -8.34060001373291, -8.341500282287598, -8.339699745178223, -8.342599868774414, -8.341300010681152, -8.342599868774414, -6.065199851989746, -6.310500144958496, -6.32450008392334, -6.487299919128418, -6.5543999671936035, -6.6616997718811035, -6.842299938201904, -6.922999858856201, -6.941299915313721, -6.97599983215332, -7.001800060272217, -7.006100177764893, -7.010499954223633, -7.043399810791016, -7.084799766540527, -7.101099967956543, -7.109799861907959, -7.146399974822998, -7.1468000411987305, -7.150000095367432, -7.165999889373779, -7.168499946594238, -7.189300060272217, -7.200300216674805, -7.202899932861328, -7.202700138092041, -7.218999862670898, -7.221099853515625, -7.222799777984619, -7.238100051879883]}, \"token.table\": {\"Topic\": [3, 3, 3, 3, 3, 3, 3, 3, 3, 3, 3, 3, 3, 3, 3, 3, 3, 3, 3, 3, 3, 3, 3, 3, 3, 3, 3, 3, 3, 3], \"Freq\": [1.116432785987854, 0.7260908484458923, 0.7759533524513245, 1.3905342817306519, 0.862798810005188, 1.2114160060882568, 1.4173840284347534, 1.1366770267486572, 1.4929583072662354, 1.2188178300857544, 1.3414441347122192, 0.9554683566093445, 1.2064379453659058, 1.4696087837219238, 1.4658945798873901, 1.4692057371139526, 1.5212064981460571, 1.4501991271972656, 1.3953404426574707, 1.2567514181137085, 1.308960199356079, 1.3299330472946167, 1.2167730331420898, 1.498491883277893, 1.2359246015548706, 1.0311261415481567, 1.4209662675857544, 1.3910126686096191, 1.4960960149765015, 1.1761746406555176], \"Term\": [\"android\", \"apple\", \"battery\", \"better\", \"camera\", \"charge\", \"deal\", \"display\", \"fingerprint\", \"galaxy\", \"google\", \"iphone\", \"issue\", \"launch\", \"light\", \"market\", \"mobile\", \"month\", \"nokia\", \"photo\", \"pixel\", \"power\", \"price\", \"sales\", \"samsung\", \"screen\", \"sensor\", \"storage\", \"unlock\", \"update\"]}, \"R\": 30, \"lambda.step\": 0.01, \"plot.opts\": {\"xlab\": \"PC1\", \"ylab\": \"PC2\"}, \"topic.order\": [1, 2, 3]};\n",
       "\n",
       "function LDAvis_load_lib(url, callback){\n",
       "  var s = document.createElement('script');\n",
       "  s.src = url;\n",
       "  s.async = true;\n",
       "  s.onreadystatechange = s.onload = callback;\n",
       "  s.onerror = function(){console.warn(\"failed to load library \" + url);};\n",
       "  document.getElementsByTagName(\"head\")[0].appendChild(s);\n",
       "}\n",
       "\n",
       "if(typeof(LDAvis) !== \"undefined\"){\n",
       "   // already loaded: just create the visualization\n",
       "   !function(LDAvis){\n",
       "       new LDAvis(\"#\" + \"ldavis_el60384831909352787049923\", ldavis_el60384831909352787049923_data);\n",
       "   }(LDAvis);\n",
       "}else if(typeof define === \"function\" && define.amd){\n",
       "   // require.js is available: use it to load d3/LDAvis\n",
       "   require.config({paths: {d3: \"https://cdnjs.cloudflare.com/ajax/libs/d3/3.5.5/d3.min\"}});\n",
       "   require([\"d3\"], function(d3){\n",
       "      window.d3 = d3;\n",
       "      LDAvis_load_lib(\"https://cdn.rawgit.com/bmabey/pyLDAvis/files/ldavis.v1.0.0.js\", function(){\n",
       "        new LDAvis(\"#\" + \"ldavis_el60384831909352787049923\", ldavis_el60384831909352787049923_data);\n",
       "      });\n",
       "    });\n",
       "}else{\n",
       "    // require.js not available: dynamically load d3 & LDAvis\n",
       "    LDAvis_load_lib(\"https://cdnjs.cloudflare.com/ajax/libs/d3/3.5.5/d3.min.js\", function(){\n",
       "         LDAvis_load_lib(\"https://cdn.rawgit.com/bmabey/pyLDAvis/files/ldavis.v1.0.0.js\", function(){\n",
       "                 new LDAvis(\"#\" + \"ldavis_el60384831909352787049923\", ldavis_el60384831909352787049923_data);\n",
       "            })\n",
       "         });\n",
       "}\n",
       "</script>"
      ],
      "text/plain": [
       "<IPython.core.display.HTML object>"
      ]
     },
     "execution_count": 26,
     "metadata": {},
     "output_type": "execute_result"
    }
   ],
   "source": [
    "import pyLDAvis.gensim\n",
    "\n",
    "# Display 3 topics\n",
    "lda3 = gensim.models.ldamodel.LdaModel.load('model3.gensim')\n",
    "lda_display3 = pyLDAvis.gensim.prepare(lda3, corpus, dictionary, sort_topics=False)\n",
    "pyLDAvis.display(lda_display3)"
   ]
  },
  {
   "cell_type": "code",
   "execution_count": 27,
   "metadata": {},
   "outputs": [
    {
     "name": "stderr",
     "output_type": "stream",
     "text": [
      "/usr/local/lib/python3.6/site-packages/pyLDAvis/_prepare.py:257: FutureWarning: Sorting because non-concatenation axis is not aligned. A future version\n",
      "of pandas will change to not sort by default.\n",
      "\n",
      "To accept the future behavior, pass 'sort=False'.\n",
      "\n",
      "To retain the current behavior and silence the warning, pass 'sort=True'.\n",
      "\n",
      "  return pd.concat([default_term_info] + list(topic_dfs))\n"
     ]
    },
    {
     "data": {
      "text/html": [
       "\n",
       "<link rel=\"stylesheet\" type=\"text/css\" href=\"https://cdn.rawgit.com/bmabey/pyLDAvis/files/ldavis.v1.0.0.css\">\n",
       "\n",
       "\n",
       "<div id=\"ldavis_el603848332384965509057427\"></div>\n",
       "<script type=\"text/javascript\">\n",
       "\n",
       "var ldavis_el603848332384965509057427_data = {\"mdsDat\": {\"x\": [0.006426725124072615, 0.006854835144895817, -0.019690494622799377, 0.006408934353830944], \"y\": [-0.0, 0.0, 0.0, 0.0], \"topics\": [1, 2, 3, 4], \"cluster\": [1, 1, 1, 1], \"Freq\": [2.1256041526794434, 2.5875790119171143, 93.1612548828125, 2.125559091567993]}, \"tinfo\": {\"Category\": [\"Default\", \"Default\", \"Default\", \"Default\", \"Default\", \"Default\", \"Default\", \"Default\", \"Default\", \"Default\", \"Default\", \"Default\", \"Default\", \"Default\", \"Default\", \"Default\", \"Default\", \"Default\", \"Default\", \"Default\", \"Default\", \"Default\", \"Default\", \"Default\", \"Default\", \"Default\", \"Default\", \"Default\", \"Default\", \"Default\", \"Topic1\", \"Topic1\", \"Topic1\", \"Topic1\", \"Topic1\", \"Topic1\", \"Topic1\", \"Topic1\", \"Topic1\", \"Topic1\", \"Topic1\", \"Topic1\", \"Topic1\", \"Topic1\", \"Topic1\", \"Topic1\", \"Topic1\", \"Topic1\", \"Topic1\", \"Topic1\", \"Topic1\", \"Topic1\", \"Topic1\", \"Topic1\", \"Topic1\", \"Topic1\", \"Topic1\", \"Topic1\", \"Topic1\", \"Topic1\", \"Topic1\", \"Topic1\", \"Topic1\", \"Topic1\", \"Topic1\", \"Topic1\", \"Topic1\", \"Topic1\", \"Topic1\", \"Topic1\", \"Topic1\", \"Topic1\", \"Topic1\", \"Topic1\", \"Topic1\", \"Topic1\", \"Topic1\", \"Topic1\", \"Topic1\", \"Topic1\", \"Topic1\", \"Topic1\", \"Topic1\", \"Topic1\", \"Topic1\", \"Topic1\", \"Topic1\", \"Topic1\", \"Topic1\", \"Topic1\", \"Topic1\", \"Topic1\", \"Topic2\", \"Topic2\", \"Topic2\", \"Topic2\", \"Topic2\", \"Topic2\", \"Topic2\", \"Topic2\", \"Topic2\", \"Topic2\", \"Topic2\", \"Topic2\", \"Topic2\", \"Topic2\", \"Topic2\", \"Topic2\", \"Topic2\", \"Topic2\", \"Topic2\", \"Topic2\", \"Topic2\", \"Topic2\", \"Topic2\", \"Topic2\", \"Topic2\", \"Topic2\", \"Topic2\", \"Topic2\", \"Topic2\", \"Topic2\", \"Topic2\", \"Topic2\", \"Topic2\", \"Topic2\", \"Topic2\", \"Topic2\", \"Topic2\", \"Topic2\", \"Topic3\", \"Topic3\", \"Topic3\", \"Topic3\", \"Topic3\", \"Topic3\", \"Topic3\", \"Topic3\", \"Topic3\", \"Topic3\", \"Topic3\", \"Topic3\", \"Topic3\", \"Topic3\", \"Topic3\", \"Topic3\", \"Topic3\", \"Topic3\", \"Topic3\", \"Topic3\", \"Topic3\", \"Topic3\", \"Topic3\", \"Topic3\", \"Topic3\", \"Topic3\", \"Topic3\", \"Topic3\", \"Topic3\", \"Topic3\", \"Topic3\", \"Topic4\", \"Topic4\", \"Topic4\", \"Topic4\", \"Topic4\", \"Topic4\", \"Topic4\", \"Topic4\", \"Topic4\", \"Topic4\", \"Topic4\", \"Topic4\", \"Topic4\", \"Topic4\", \"Topic4\", \"Topic4\", \"Topic4\", \"Topic4\", \"Topic4\", \"Topic4\", \"Topic4\", \"Topic4\", \"Topic4\", \"Topic4\", \"Topic4\", \"Topic4\", \"Topic4\", \"Topic4\", \"Topic4\", \"Topic4\", \"Topic4\", \"Topic4\", \"Topic4\", \"Topic4\", \"Topic4\", \"Topic4\", \"Topic4\", \"Topic4\", \"Topic4\", \"Topic4\", \"Topic4\", \"Topic4\", \"Topic4\", \"Topic4\", \"Topic4\", \"Topic4\", \"Topic4\", \"Topic4\", \"Topic4\", \"Topic4\", \"Topic4\", \"Topic4\", \"Topic4\", \"Topic4\", \"Topic4\", \"Topic4\", \"Topic4\", \"Topic4\", \"Topic4\", \"Topic4\", \"Topic4\", \"Topic4\"], \"Freq\": [0.0, 0.0, 0.0, 0.0, 0.0, 0.0, 0.0, 0.0, 0.0, 0.0, 0.0, 0.0, 0.0, 0.0, 0.0, 0.0, 0.0, 0.0, 0.0, 0.0, 0.0, 0.0, 0.0, 0.0, 0.0, 0.0, 0.0, 0.0, 0.0, 0.0, 0.004787546116858721, 0.004787546116858721, 0.004787546116858721, 0.004787546116858721, 0.004787546116858721, 0.004787546116858721, 0.004787546116858721, 0.004787546116858721, 0.004787546116858721, 0.004787546116858721, 0.004787546116858721, 0.004787546116858721, 0.004787546116858721, 0.004787546116858721, 0.004787546116858721, 0.004787546116858721, 0.004787546116858721, 0.004787546116858721, 0.004787546116858721, 0.004787546116858721, 0.004787546116858721, 0.004787546116858721, 0.004787546116858721, 0.004787546116858721, 0.004787546116858721, 0.004787546116858721, 0.0047876122407615185, 0.0047874972224235535, 0.004787384066730738, 0.004787384066730738, 0.006011797580868006, 0.005410221870988607, 0.005136930849403143, 0.00523668946698308, 0.005236682947725058, 0.004922871477901936, 0.004922871477901936, 0.004922871477901936, 0.004922871477901936, 0.004922871477901936, 0.004922871477901936, 0.004922871477901936, 0.004922871477901936, 0.004922871477901936, 0.004922871477901936, 0.004922871477901936, 0.004922871477901936, 0.004922871477901936, 0.004922871477901936, 0.004922871477901936, 0.004922871477901936, 0.004922871477901936, 0.004922871477901936, 0.004922871477901936, 0.004896373022347689, 0.005035235546529293, 0.004870071075856686, 0.0048605166375637054, 0.005055394023656845, 0.004857136867940426, 0.004897257313132286, 0.004977057222276926, 0.014915105886757374, 0.013060360215604305, 0.013060357421636581, 0.011203795671463013, 0.009346994571387768, 0.010209007188677788, 0.007504638750106096, 0.007504638750106096, 0.007504638750106096, 0.007504638750106096, 0.007504638750106096, 0.007504638750106096, 0.007504638750106096, 0.007504638750106096, 0.007504638750106096, 0.007504638750106096, 0.007504638750106096, 0.007504638750106096, 0.007504637818783522, 0.007504637818783522, 0.007504637818783522, 0.007504637818783522, 0.007504637818783522, 0.007504637818783522, 0.007504637818783522, 0.007504637818783522, 0.007504637818783522, 0.007504637818783522, 0.007504637818783522, 0.007504637818783522, 0.007504637818783522, 0.007504637818783522, 0.014216224662959576, 0.009032209403812885, 0.009712910279631615, 0.007921459153294563, 0.008158868178725243, 0.007511254865676165, 2.395240545272827, 1.8661078214645386, 1.839561939239502, 1.5565667152404785, 1.454390287399292, 1.3027839660644531, 1.0814521312713623, 0.994989275932312, 0.9760375022888184, 0.94167160987854, 0.9161229133605957, 0.9134621024131775, 0.9085107445716858, 0.8780241012573242, 0.8400550484657288, 0.8273270130157471, 0.818423330783844, 0.7883887887001038, 0.787699282169342, 0.7854779362678528, 0.7719574570655823, 0.770424485206604, 0.753711462020874, 0.74519282579422, 0.7439485788345337, 0.742743968963623, 0.7305777072906494, 0.7290923595428467, 0.7161006331443787, 0.7157965302467346, 0.7172384858131409, 0.0047881207428872585, 0.0047881207428872585, 0.0047881207428872585, 0.0047881207428872585, 0.0047881207428872585, 0.0047881207428872585, 0.0047881207428872585, 0.0047881207428872585, 0.0047881207428872585, 0.0047881207428872585, 0.0047881207428872585, 0.0047881207428872585, 0.0047881207428872585, 0.0047881207428872585, 0.0047881207428872585, 0.0047881207428872585, 0.0047881207428872585, 0.0047881207428872585, 0.0047881207428872585, 0.0047881207428872585, 0.0047881207428872585, 0.0047881207428872585, 0.0047881207428872585, 0.0047881207428872585, 0.0047881207428872585, 0.0047881207428872585, 0.004788186866790056, 0.004788071848452091, 0.0047879586927592754, 0.0047879586927592754, 0.00500025087967515, 0.00500025087967515, 0.005239835008978844, 0.005093257408589125, 0.005009028594940901, 0.0049126362428069115, 0.0049126362428069115, 0.0049126362428069115, 0.0049126362428069115, 0.0049251071177423, 0.004837885499000549, 0.004837885499000549, 0.004837885499000549, 0.004837885499000549, 0.004837885499000549, 0.004837885499000549, 0.004837885499000549, 0.004837885499000549, 0.004837885499000549, 0.004837885499000549, 0.004837885499000549, 0.004837885499000549, 0.004837885499000549, 0.004837885499000549, 0.004837885499000549, 0.004829321522265673, 0.004858505446463823, 0.004896031692624092, 0.004957216791808605, 0.004866648931056261, 0.0048619224689900875, 0.004839617758989334], \"Term\": [\"quarter\", \"pocket\", \"lawsuit\", \"billion\", \"percent\", \"sales\", \"repair\", \"front\", \"patent\", \"company\", \"revenue\", \"report\", \"microsoft\", \"accord\", \"smartphone\", \"release\", \"technology\", \"option\", \"iphones\", \"expensive\", \"really\", \"panel\", \"offer\", \"problem\", \"model\", \"flagship\", \"performance\", \"bixby\", \"cheap\", \"handset\", \"smell\", \"realization\", \"boardroom\", \"burning\", \"overheating\", \"clatter\", \"denim\", \"exert\", \"extinguish\", \"extinguisher\", \"female\", \"mitten\", \"flaming\", \"ginormous\", \"knuckle\", \"glorify\", \"holster\", \"ablaze\", \"pudding\", \"sensation\", \"seattle\", \"wish\", \"shallow\", \"roomy\", \"situate\", \"shoes\", \"jean\", \"idrop\", \"hillard\", \"pants\", \"court\", \"injunction\", \"illegal\", \"legal\", \"license\", \"ticky\", \"tacky\", \"desperate\", \"companies\\u2019\", \"temporary\", \"assert\", \"accusation\", \"resize\", \"immediate\", \"violate\", \"perspective\", \"stop\", \"monopoly\", \"pursue\", \"abusive\", \"invalidate\", \"damages\", \"regulator\", \"royalty\", \"whose\", \"infringe\", \"restriction\", \"numerous\", \"ossia\", \"monday\", \"belief\", \"patent\", \"woman\", \"hillard\", \"pants\", \"idrop\", \"jean\", \"explode\", \"boardroom\", \"seattle\", \"holster\", \"clatter\", \"denim\", \"realization\", \"exert\", \"sensation\", \"shoes\", \"extinguisher\", \"ablaze\", \"wish\", \"extinguish\", \"female\", \"flaming\", \"ginormous\", \"glorify\", \"knuckle\", \"overheating\", \"mitten\", \"burning\", \"situate\", \"smell\", \"pudding\", \"shallow\", \"roomy\", \"pocket\", \"corephotonics\", \"quarter\", \"sitting\", \"lawsuit\", \"grant\", \"iphone\", \"galaxy\", \"samsung\", \"apple\", \"battery\", \"camera\", \"screen\", \"android\", \"display\", \"update\", \"issue\", \"charge\", \"price\", \"photo\", \"pixel\", \"power\", \"google\", \"better\", \"storage\", \"nokia\", \"deal\", \"sensor\", \"month\", \"light\", \"market\", \"launch\", \"fingerprint\", \"unlock\", \"people\", \"mobile\", \"sales\", \"female\", \"burning\", \"situate\", \"shoes\", \"smell\", \"shallow\", \"extinguisher\", \"wish\", \"sensation\", \"ablaze\", \"seattle\", \"realization\", \"pudding\", \"boardroom\", \"overheating\", \"mitten\", \"roomy\", \"clatter\", \"exert\", \"knuckle\", \"extinguish\", \"flaming\", \"holster\", \"ginormous\", \"glorify\", \"denim\", \"jean\", \"idrop\", \"hillard\", \"pants\", \"cursor\", \"impair\", \"microsoft\", \"ubreakifix\", \"warranty\", \"cicek\", \"headgaze\", \"headset\", \"lingering\", \"accessibility\", \"glove\", \"recipe\", \"nowhere\", \"messy\", \"keypress\", \"intern\", \"github\", \"greasy\", \"venturebeat\", \"everyday\", \"candidate\", \"auction\", \"altruistic\", \"tinker\", \"muratcan\", \"lawder\", \"scroll\", \"authorize\", \"repair\", \"physically\", \"movement\", \"location\"], \"Total\": [0.0, 0.0, 0.0, 0.0, 0.0, 0.0, 0.0, 0.0, 0.0, 0.0, 0.0, 0.0, 0.0, 0.0, 0.0, 0.0, 0.0, 0.0, 0.0, 0.0, 0.0, 0.0, 0.0, 0.0, 0.0, 0.0, 0.0, 0.0, 0.0, 0.0, 0.13033197820186615, 0.13033197820186615, 0.13033197820186615, 0.13033197820186615, 0.13033197820186615, 0.13033197820186615, 0.13033197820186615, 0.13033197820186615, 0.13033197820186615, 0.13033197820186615, 0.13033197820186615, 0.13033197820186615, 0.13033197820186615, 0.13033197820186615, 0.13033197820186615, 0.13033197820186615, 0.13033197820186615, 0.13033197820186615, 0.13033197820186615, 0.13033197820186615, 0.13033197820186615, 0.13033197820186615, 0.13033197820186615, 0.13033197820186615, 0.13033197820186615, 0.13033197820186615, 0.1322670876979828, 0.13396432995796204, 0.13566561043262482, 0.1356656402349472, 0.29053616523742676, 0.22718538343906403, 0.19491374492645264, 0.24839496612548828, 0.24839521944522858, 0.16136929392814636, 0.16136929392814636, 0.16136929392814636, 0.16136929392814636, 0.16136929392814636, 0.16136929392814636, 0.16136929392814636, 0.16136929392814636, 0.16136929392814636, 0.16136929392814636, 0.16136929392814636, 0.16136929392814636, 0.16136929392814636, 0.16136929392814636, 0.16136929392814636, 0.16136929392814636, 0.16136929392814636, 0.16136929392814636, 0.16136929392814636, 0.16184596717357635, 0.21989847719669342, 0.1688803881406784, 0.1739809215068817, 0.3869625926017761, 0.1768186092376709, 0.2281443476676941, 0.4770938754081726, 0.13739687204360962, 0.13566561043262482, 0.1356656402349472, 0.13396432995796204, 0.1322670876979828, 0.1602219194173813, 0.13033197820186615, 0.13033197820186615, 0.13033197820186615, 0.13033197820186615, 0.13033197820186615, 0.13033197820186615, 0.13033197820186615, 0.13033197820186615, 0.13033197820186615, 0.13033197820186615, 0.13033197820186615, 0.13033197820186615, 0.13033197820186615, 0.13033197820186615, 0.13033197820186615, 0.13033197820186615, 0.13033197820186615, 0.13033197820186615, 0.13033197820186615, 0.13033197820186615, 0.13033197820186615, 0.13033197820186615, 0.13033197820186615, 0.13033197820186615, 0.13033197820186615, 0.13033197820186615, 0.3153723478317261, 0.2165980339050293, 0.5216278433799744, 0.20748209953308105, 0.4594862163066864, 0.24636754393577576, 2.4106783866882324, 1.8815277814865112, 1.854980230331421, 1.5720362663269043, 1.469801664352417, 1.3181703090667725, 1.0968306064605713, 1.0103586912155151, 0.9914188981056213, 0.9570460915565491, 0.9315253496170044, 0.9288304448127747, 0.9239042401313782, 0.8933842778205872, 0.8554604053497314, 0.8426997065544128, 0.833827555179596, 0.8037519454956055, 0.8030920028686523, 0.8008612990379333, 0.7873498797416687, 0.7857867479324341, 0.7690824270248413, 0.7605524063110352, 0.7593386769294739, 0.7581303715705872, 0.7459473013877869, 0.7444590330123901, 0.7314676642417908, 0.7311794757843018, 0.7331542372703552, 0.13033197820186615, 0.13033197820186615, 0.13033197820186615, 0.13033197820186615, 0.13033197820186615, 0.13033197820186615, 0.13033197820186615, 0.13033197820186615, 0.13033197820186615, 0.13033197820186615, 0.13033197820186615, 0.13033197820186615, 0.13033197820186615, 0.13033197820186615, 0.13033197820186615, 0.13033197820186615, 0.13033197820186615, 0.13033197820186615, 0.13033197820186615, 0.13033197820186615, 0.13033197820186615, 0.13033197820186615, 0.13033197820186615, 0.13033197820186615, 0.13033197820186615, 0.13033197820186615, 0.1322670876979828, 0.13396432995796204, 0.13566561043262482, 0.1356656402349472, 0.2442765235900879, 0.2442765235900879, 0.5090022683143616, 0.3274131119251251, 0.2830106019973755, 0.20522907376289368, 0.20522907376289368, 0.20522907376289368, 0.20522907376289368, 0.24413830041885376, 0.16592632234096527, 0.16592632234096527, 0.16592632234096527, 0.16592632234096527, 0.16592632234096527, 0.16592632234096527, 0.16592632234096527, 0.16592632234096527, 0.16592632234096527, 0.16592632234096527, 0.16592632234096527, 0.16592632234096527, 0.16592632234096527, 0.16592632234096527, 0.16592632234096527, 0.17133468389511108, 0.21829533576965332, 0.349276065826416, 0.6576610803604126, 0.26719170808792114, 0.40244773030281067, 0.2616230249404907], \"loglift\": [30.0, 29.0, 28.0, 27.0, 26.0, 25.0, 24.0, 23.0, 22.0, 21.0, 20.0, 19.0, 18.0, 17.0, 16.0, 15.0, 14.0, 13.0, 12.0, 11.0, 10.0, 9.0, 8.0, 7.0, 6.0, 5.0, 4.0, 3.0, 2.0, 1.0, 0.546999990940094, 0.546999990940094, 0.546999990940094, 0.546999990940094, 0.546999990940094, 0.546999990940094, 0.546999990940094, 0.546999990940094, 0.546999990940094, 0.546999990940094, 0.546999990940094, 0.546999990940094, 0.546999990940094, 0.546999990940094, 0.546999990940094, 0.546999990940094, 0.546999990940094, 0.546999990940094, 0.546999990940094, 0.546999990940094, 0.546999990940094, 0.546999990940094, 0.546999990940094, 0.546999990940094, 0.546999990940094, 0.546999990940094, 0.5322999954223633, 0.5195000171661377, 0.5069000124931335, 0.5069000124931335, -0.026900000870227814, 0.1136000007390976, 0.2150000035762787, -0.008200000040233135, -0.008200000040233135, 0.361299991607666, 0.361299991607666, 0.361299991607666, 0.361299991607666, 0.361299991607666, 0.361299991607666, 0.361299991607666, 0.361299991607666, 0.361299991607666, 0.361299991607666, 0.361299991607666, 0.361299991607666, 0.361299991607666, 0.361299991607666, 0.361299991607666, 0.361299991607666, 0.361299991607666, 0.361299991607666, 0.361299991607666, 0.3529999852180481, 0.07440000027418137, 0.3050000071525574, 0.2732999920845032, -0.4867999851703644, 0.2563999891281128, 0.009800000116229057, -0.7117999792098999, 1.433899998664856, 1.3137999773025513, 1.3137999773025513, 1.1730999946594238, 1.004699945449829, 0.901199996471405, 0.7998999953269958, 0.7998999953269958, 0.7998999953269958, 0.7998999953269958, 0.7998999953269958, 0.7998999953269958, 0.7998999953269958, 0.7998999953269958, 0.7998999953269958, 0.7998999953269958, 0.7998999953269958, 0.7998999953269958, 0.7998999953269958, 0.7998999953269958, 0.7998999953269958, 0.7998999953269958, 0.7998999953269958, 0.7998999953269958, 0.7998999953269958, 0.7998999953269958, 0.7998999953269958, 0.7998999953269958, 0.7998999953269958, 0.7998999953269958, 0.7998999953269958, 0.7998999953269958, 0.5551000237464905, 0.4772000014781952, -0.32910001277923584, 0.3889999985694885, -0.3765999972820282, 0.164000004529953, 0.06440000236034393, 0.06260000169277191, 0.0625, 0.0608999989926815, 0.06030000001192093, 0.05909999832510948, 0.056699998676776886, 0.05550000071525574, 0.0551999993622303, 0.05460000038146973, 0.05420000106096268, 0.05420000106096268, 0.05400000140070915, 0.05350000038743019, 0.05270000174641609, 0.052400000393390656, 0.05220000073313713, 0.051500000059604645, 0.051500000059604645, 0.05139999836683273, 0.051100000739097595, 0.051100000739097595, 0.050599999725818634, 0.05040000006556511, 0.05040000006556511, 0.0502999983727932, 0.05000000074505806, 0.05000000074505806, 0.04960000142455101, 0.04960000142455101, 0.048900000751018524, 0.5472000241279602, 0.5472000241279602, 0.5472000241279602, 0.5472000241279602, 0.5472000241279602, 0.5472000241279602, 0.5472000241279602, 0.5472000241279602, 0.5472000241279602, 0.5472000241279602, 0.5472000241279602, 0.5472000241279602, 0.5472000241279602, 0.5472000241279602, 0.5472000241279602, 0.5472000241279602, 0.5472000241279602, 0.5472000241279602, 0.5472000241279602, 0.5472000241279602, 0.5472000241279602, 0.5472000241279602, 0.5472000241279602, 0.5472000241279602, 0.5472000241279602, 0.5472000241279602, 0.5325000286102295, 0.5196999907493591, 0.5070000290870667, 0.5070000290870667, -0.037700001150369644, -0.037700001150369644, -0.7250000238418579, -0.31220000982284546, -0.18310000002384186, 0.11879999935626984, 0.11879999935626984, 0.11879999935626984, 0.11879999935626984, -0.052299998700618744, 0.31610000133514404, 0.31610000133514404, 0.31610000133514404, 0.31610000133514404, 0.31610000133514404, 0.31610000133514404, 0.31610000133514404, 0.31610000133514404, 0.31610000133514404, 0.31610000133514404, 0.31610000133514404, 0.31610000133514404, 0.31610000133514404, 0.31610000133514404, 0.31610000133514404, 0.28220000863075256, 0.04600000008940697, -0.4162999987602234, -1.0367000102996826, -0.15440000593662262, -0.5649999976158142, -0.1388999968767166], \"logprob\": [30.0, 29.0, 28.0, 27.0, 26.0, 25.0, 24.0, 23.0, 22.0, 21.0, 20.0, 19.0, 18.0, 17.0, 16.0, 15.0, 14.0, 13.0, 12.0, 11.0, 10.0, 9.0, 8.0, 7.0, 6.0, 5.0, 4.0, 3.0, 2.0, 1.0, -8.351799964904785, -8.351799964904785, -8.351799964904785, -8.351799964904785, -8.351799964904785, -8.351799964904785, -8.351799964904785, -8.351799964904785, -8.351799964904785, -8.351799964904785, -8.351799964904785, -8.351799964904785, -8.351799964904785, -8.351799964904785, -8.351799964904785, -8.351799964904785, -8.351799964904785, -8.351799964904785, -8.351799964904785, -8.351799964904785, -8.351799964904785, -8.351799964904785, -8.351799964904785, -8.351799964904785, -8.351799964904785, -8.351799964904785, -8.351799964904785, -8.351799964904785, -8.351799964904785, -8.351799964904785, -8.124099731445312, -8.229499816894531, -8.281299591064453, -8.262100219726562, -8.262100219726562, -8.32390022277832, -8.32390022277832, -8.32390022277832, -8.32390022277832, -8.32390022277832, -8.32390022277832, -8.32390022277832, -8.32390022277832, -8.32390022277832, -8.32390022277832, -8.32390022277832, -8.32390022277832, -8.32390022277832, -8.32390022277832, -8.32390022277832, -8.32390022277832, -8.32390022277832, -8.32390022277832, -8.32390022277832, -8.329299926757812, -8.301300048828125, -8.334699630737305, -8.336600303649902, -8.297300338745117, -8.337300300598145, -8.329099655151367, -8.312899589538574, -7.412099838256836, -7.544899940490723, -7.544899940490723, -7.698200225830078, -7.87939977645874, -7.791200160980225, -8.098899841308594, -8.098899841308594, -8.098899841308594, -8.098899841308594, -8.098899841308594, -8.098899841308594, -8.098899841308594, -8.098899841308594, -8.098899841308594, -8.098899841308594, -8.098899841308594, -8.098899841308594, -8.098899841308594, -8.098899841308594, -8.098899841308594, -8.098899841308594, -8.098899841308594, -8.098899841308594, -8.098899841308594, -8.098899841308594, -8.098899841308594, -8.098899841308594, -8.098899841308594, -8.098899841308594, -8.098899841308594, -8.098899841308594, -7.460100173950195, -7.913700103759766, -7.841000080108643, -8.044899940490723, -8.015299797058105, -8.097999572753906, -5.916800022125244, -6.166500091552734, -6.180799961090088, -6.347799777984619, -6.4156999588012695, -6.5258002281188965, -6.711999893188477, -6.795300006866455, -6.814599990844727, -6.850399971008301, -6.877900123596191, -6.880799770355225, -6.886300086975098, -6.920400142669678, -6.964600086212158, -6.979899883270264, -6.990699768066406, -7.02810001373291, -7.028900146484375, -7.031799793243408, -7.049099922180176, -7.05109977722168, -7.0731000900268555, -7.084400177001953, -7.086100101470947, -7.087699890136719, -7.1041998863220215, -7.106299877166748, -7.124199867248535, -7.12470006942749, -7.122700214385986, -8.35159969329834, -8.35159969329834, -8.35159969329834, -8.35159969329834, -8.35159969329834, -8.35159969329834, -8.35159969329834, -8.35159969329834, -8.35159969329834, -8.35159969329834, -8.35159969329834, -8.35159969329834, -8.35159969329834, -8.35159969329834, -8.35159969329834, -8.35159969329834, -8.35159969329834, -8.35159969329834, -8.35159969329834, -8.35159969329834, -8.35159969329834, -8.35159969329834, -8.35159969329834, -8.35159969329834, -8.35159969329834, -8.35159969329834, -8.35159969329834, -8.35159969329834, -8.351699829101562, -8.351699829101562, -8.308300018310547, -8.308300018310547, -8.261500358581543, -8.289799690246582, -8.306500434875488, -8.326000213623047, -8.326000213623047, -8.326000213623047, -8.326000213623047, -8.323399543762207, -8.341300010681152, -8.341300010681152, -8.341300010681152, -8.341300010681152, -8.341300010681152, -8.341300010681152, -8.341300010681152, -8.341300010681152, -8.341300010681152, -8.341300010681152, -8.341300010681152, -8.341300010681152, -8.341300010681152, -8.341300010681152, -8.341300010681152, -8.343099594116211, -8.336999893188477, -8.329299926757812, -8.316900253295898, -8.335399627685547, -8.336299896240234, -8.340900421142578]}, \"token.table\": {\"Topic\": [3, 3, 3, 3, 3, 3, 3, 3, 3, 3, 3, 3, 3, 3, 3, 3, 3, 3, 3, 3, 3, 3, 3, 3, 3, 3, 3, 3, 3, 3, 3, 3, 3, 3, 3, 3, 3, 3, 3, 3, 3, 3, 3, 3, 3, 3, 3, 3, 3, 3, 3, 3, 3, 3, 3], \"Freq\": [1.5525569915771484, 0.9897475242614746, 1.2722352743148804, 0.6803638935089111, 1.2441649436950684, 1.88025963306427, 1.5264781713485718, 0.7586272954940796, 1.076622724533081, 1.477976679801941, 1.4212656021118164, 1.2700834274291992, 1.0086554288864136, 1.5883690118789673, 1.340577244758606, 1.549384355545044, 1.7209045886993408, 1.062965989112854, 1.1992887258529663, 1.4624888896942139, 0.8296419978141785, 1.561450719833374, 1.0735081434249878, 1.3190343379974365, 1.3148337602615356, 1.316935420036316, 1.367653250694275, 1.3937745094299316, 1.300250768661499, 1.2486556768417358, 1.4437377452850342, 1.5389068126678467, 1.50365149974823, 1.3671144247055054, 1.429040551185608, 1.4891760349273682, 1.119339108467102, 1.1689611673355103, 1.1866623163223267, 1.082363247871399, 1.4527950286865234, 1.9170756340026855, 1.4757589101791382, 1.5451716184616089, 1.5205399990081787, 1.4079443216323853, 1.3639694452285767, 1.0781786441802979, 0.9117178320884705, 1.2726099491119385, 1.5534555912017822, 1.2451874017715454, 1.5108286142349243, 1.3432573080062866, 1.0448817014694214], \"Term\": [\"accord\", \"android\", \"apple\", \"battery\", \"better\", \"billion\", \"bixby\", \"camera\", \"charge\", \"cheap\", \"company\", \"deal\", \"display\", \"expensive\", \"fingerprint\", \"flagship\", \"front\", \"galaxy\", \"google\", \"handset\", \"iphone\", \"iphones\", \"issue\", \"launch\", \"light\", \"market\", \"mobile\", \"model\", \"month\", \"nokia\", \"offer\", \"option\", \"panel\", \"people\", \"percent\", \"performance\", \"photo\", \"pixel\", \"power\", \"price\", \"problem\", \"quarter\", \"really\", \"release\", \"repair\", \"report\", \"sales\", \"samsung\", \"screen\", \"sensor\", \"smartphone\", \"storage\", \"technology\", \"unlock\", \"update\"]}, \"R\": 30, \"lambda.step\": 0.01, \"plot.opts\": {\"xlab\": \"PC1\", \"ylab\": \"PC2\"}, \"topic.order\": [1, 2, 3, 4]};\n",
       "\n",
       "function LDAvis_load_lib(url, callback){\n",
       "  var s = document.createElement('script');\n",
       "  s.src = url;\n",
       "  s.async = true;\n",
       "  s.onreadystatechange = s.onload = callback;\n",
       "  s.onerror = function(){console.warn(\"failed to load library \" + url);};\n",
       "  document.getElementsByTagName(\"head\")[0].appendChild(s);\n",
       "}\n",
       "\n",
       "if(typeof(LDAvis) !== \"undefined\"){\n",
       "   // already loaded: just create the visualization\n",
       "   !function(LDAvis){\n",
       "       new LDAvis(\"#\" + \"ldavis_el603848332384965509057427\", ldavis_el603848332384965509057427_data);\n",
       "   }(LDAvis);\n",
       "}else if(typeof define === \"function\" && define.amd){\n",
       "   // require.js is available: use it to load d3/LDAvis\n",
       "   require.config({paths: {d3: \"https://cdnjs.cloudflare.com/ajax/libs/d3/3.5.5/d3.min\"}});\n",
       "   require([\"d3\"], function(d3){\n",
       "      window.d3 = d3;\n",
       "      LDAvis_load_lib(\"https://cdn.rawgit.com/bmabey/pyLDAvis/files/ldavis.v1.0.0.js\", function(){\n",
       "        new LDAvis(\"#\" + \"ldavis_el603848332384965509057427\", ldavis_el603848332384965509057427_data);\n",
       "      });\n",
       "    });\n",
       "}else{\n",
       "    // require.js not available: dynamically load d3 & LDAvis\n",
       "    LDAvis_load_lib(\"https://cdnjs.cloudflare.com/ajax/libs/d3/3.5.5/d3.min.js\", function(){\n",
       "         LDAvis_load_lib(\"https://cdn.rawgit.com/bmabey/pyLDAvis/files/ldavis.v1.0.0.js\", function(){\n",
       "                 new LDAvis(\"#\" + \"ldavis_el603848332384965509057427\", ldavis_el603848332384965509057427_data);\n",
       "            })\n",
       "         });\n",
       "}\n",
       "</script>"
      ],
      "text/plain": [
       "<IPython.core.display.HTML object>"
      ]
     },
     "execution_count": 27,
     "metadata": {},
     "output_type": "execute_result"
    }
   ],
   "source": [
    "# Display 4 topics\n",
    "lda4 = gensim.models.ldamodel.LdaModel.load('model4.gensim')\n",
    "lda_display4 = pyLDAvis.gensim.prepare(lda4, corpus, dictionary, sort_topics=False)\n",
    "pyLDAvis.display(lda_display4)"
   ]
  },
  {
   "cell_type": "code",
   "execution_count": 28,
   "metadata": {},
   "outputs": [
    {
     "name": "stderr",
     "output_type": "stream",
     "text": [
      "/usr/local/lib/python3.6/site-packages/pyLDAvis/_prepare.py:257: FutureWarning: Sorting because non-concatenation axis is not aligned. A future version\n",
      "of pandas will change to not sort by default.\n",
      "\n",
      "To accept the future behavior, pass 'sort=False'.\n",
      "\n",
      "To retain the current behavior and silence the warning, pass 'sort=True'.\n",
      "\n",
      "  return pd.concat([default_term_info] + list(topic_dfs))\n"
     ]
    },
    {
     "data": {
      "text/html": [
       "\n",
       "<link rel=\"stylesheet\" type=\"text/css\" href=\"https://cdn.rawgit.com/bmabey/pyLDAvis/files/ldavis.v1.0.0.css\">\n",
       "\n",
       "\n",
       "<div id=\"ldavis_el603848350152006280304653\"></div>\n",
       "<script type=\"text/javascript\">\n",
       "\n",
       "var ldavis_el603848350152006280304653_data = {\"mdsDat\": {\"x\": [-0.0060546816301994865, -0.006856005265484804, -0.006628657865389975, -0.006628359897429813, 0.02616770465850408], \"y\": [-6.64164235871161e-05, -0.0003789308565597798, 0.00032221811950045997, 0.0001245947079760233, -1.4655473297071144e-06], \"topics\": [1, 2, 3, 4, 5], \"cluster\": [1, 1, 1, 1, 1], \"Freq\": [1.6851812601089478, 2.109184741973877, 1.8933616876602173, 1.9627803564071655, 92.34949493408203]}, \"tinfo\": {\"Category\": [\"Default\", \"Default\", \"Default\", \"Default\", \"Default\", \"Default\", \"Default\", \"Default\", \"Default\", \"Default\", \"Default\", \"Default\", \"Default\", \"Default\", \"Default\", \"Default\", \"Default\", \"Default\", \"Default\", \"Default\", \"Default\", \"Default\", \"Default\", \"Default\", \"Default\", \"Default\", \"Default\", \"Default\", \"Default\", \"Default\", \"Topic1\", \"Topic1\", \"Topic1\", \"Topic1\", \"Topic1\", \"Topic1\", \"Topic1\", \"Topic1\", \"Topic1\", \"Topic1\", \"Topic1\", \"Topic1\", \"Topic1\", \"Topic1\", \"Topic1\", \"Topic1\", \"Topic1\", \"Topic1\", \"Topic1\", \"Topic1\", \"Topic1\", \"Topic1\", \"Topic1\", \"Topic1\", \"Topic1\", \"Topic1\", \"Topic1\", \"Topic1\", \"Topic1\", \"Topic1\", \"Topic1\", \"Topic1\", \"Topic1\", \"Topic1\", \"Topic1\", \"Topic1\", \"Topic1\", \"Topic1\", \"Topic1\", \"Topic1\", \"Topic1\", \"Topic1\", \"Topic1\", \"Topic1\", \"Topic1\", \"Topic1\", \"Topic1\", \"Topic1\", \"Topic1\", \"Topic1\", \"Topic1\", \"Topic1\", \"Topic1\", \"Topic1\", \"Topic1\", \"Topic1\", \"Topic1\", \"Topic1\", \"Topic1\", \"Topic1\", \"Topic1\", \"Topic1\", \"Topic1\", \"Topic1\", \"Topic1\", \"Topic1\", \"Topic1\", \"Topic1\", \"Topic1\", \"Topic2\", \"Topic2\", \"Topic2\", \"Topic2\", \"Topic2\", \"Topic2\", \"Topic2\", \"Topic2\", \"Topic2\", \"Topic2\", \"Topic2\", \"Topic2\", \"Topic2\", \"Topic2\", \"Topic2\", \"Topic2\", \"Topic2\", \"Topic2\", \"Topic2\", \"Topic2\", \"Topic2\", \"Topic2\", \"Topic2\", \"Topic2\", \"Topic2\", \"Topic2\", \"Topic2\", \"Topic2\", \"Topic2\", \"Topic2\", \"Topic2\", \"Topic2\", \"Topic2\", \"Topic2\", \"Topic2\", \"Topic2\", \"Topic3\", \"Topic3\", \"Topic3\", \"Topic3\", \"Topic3\", \"Topic3\", \"Topic3\", \"Topic3\", \"Topic3\", \"Topic3\", \"Topic3\", \"Topic3\", \"Topic3\", \"Topic3\", \"Topic3\", \"Topic3\", \"Topic3\", \"Topic3\", \"Topic3\", \"Topic3\", \"Topic3\", \"Topic3\", \"Topic3\", \"Topic3\", \"Topic3\", \"Topic3\", \"Topic3\", \"Topic3\", \"Topic3\", \"Topic3\", \"Topic3\", \"Topic3\", \"Topic3\", \"Topic3\", \"Topic3\", \"Topic3\", \"Topic3\", \"Topic3\", \"Topic3\", \"Topic4\", \"Topic4\", \"Topic4\", \"Topic4\", \"Topic4\", \"Topic4\", \"Topic4\", \"Topic4\", \"Topic4\", \"Topic4\", \"Topic4\", \"Topic4\", \"Topic4\", \"Topic4\", \"Topic4\", \"Topic4\", \"Topic4\", \"Topic4\", \"Topic4\", \"Topic4\", \"Topic4\", \"Topic4\", \"Topic4\", \"Topic4\", \"Topic4\", \"Topic4\", \"Topic4\", \"Topic4\", \"Topic4\", \"Topic4\", \"Topic4\", \"Topic4\", \"Topic4\", \"Topic4\", \"Topic4\", \"Topic4\", \"Topic4\", \"Topic4\", \"Topic4\", \"Topic4\", \"Topic4\", \"Topic4\", \"Topic4\", \"Topic4\", \"Topic4\", \"Topic4\", \"Topic4\", \"Topic4\", \"Topic4\", \"Topic4\", \"Topic4\", \"Topic4\", \"Topic4\", \"Topic4\", \"Topic4\", \"Topic4\", \"Topic4\", \"Topic5\", \"Topic5\", \"Topic5\", \"Topic5\", \"Topic5\", \"Topic5\", \"Topic5\", \"Topic5\", \"Topic5\", \"Topic5\", \"Topic5\", \"Topic5\", \"Topic5\", \"Topic5\", \"Topic5\", \"Topic5\", \"Topic5\", \"Topic5\", \"Topic5\", \"Topic5\", \"Topic5\", \"Topic5\", \"Topic5\", \"Topic5\", \"Topic5\", \"Topic5\", \"Topic5\", \"Topic5\", \"Topic5\", \"Topic5\"], \"Freq\": [0.0, 0.0, 0.0, 0.0, 0.0, 0.0, 0.0, 0.0, 0.0, 0.0, 0.0, 0.0, 0.0, 0.0, 0.0, 0.0, 0.0, 0.0, 0.0, 0.0, 0.0, 0.0, 0.0, 0.0, 0.0, 0.0, 0.0, 0.0, 0.0, 0.0, 0.0037969474215060472, 0.0037969474215060472, 0.0037969474215060472, 0.0037969474215060472, 0.0037969474215060472, 0.0037969474215060472, 0.0037969474215060472, 0.0037969474215060472, 0.0037969474215060472, 0.0037969474215060472, 0.0037969474215060472, 0.0037969474215060472, 0.0037969474215060472, 0.0037969474215060472, 0.0037969474215060472, 0.0037969474215060472, 0.0037969474215060472, 0.0037969474215060472, 0.0037969474215060472, 0.0037969474215060472, 0.0037969474215060472, 0.0037969474215060472, 0.0037969474215060472, 0.0037969474215060472, 0.0037969474215060472, 0.0037969474215060472, 0.0037968805991113186, 0.0037968249525874853, 0.0037971537094563246, 0.0037971537094563246, 0.0037971537094563246, 0.0037971537094563246, 0.0037971537094563246, 0.0037971537094563246, 0.0037971537094563246, 0.0037971537094563246, 0.0037971537094563246, 0.0037971537094563246, 0.0037971537094563246, 0.003849814645946026, 0.0038156909868121147, 0.003814408555626869, 0.0038137317169457674, 0.0038112052716314793, 0.003810557769611478, 0.0038102995604276657, 0.0038070306181907654, 0.003806136781349778, 0.0038056224584579468, 0.003804388688877225, 0.003803931875154376, 0.0038038447964936495, 0.0038036988116800785, 0.0038036988116800785, 0.0038036988116800785, 0.003803633851930499, 0.0038033626042306423, 0.00380329554900527, 0.0038032277952879667, 0.0038032270967960358, 0.003803226398304105, 0.003803226398304105, 0.003803226863965392, 0.003802749328315258, 0.003802749328315258, 0.003802749328315258, 0.003802749328315258, 0.003802749328315258, 0.003802749328315258, 0.014091121032834053, 0.012198132462799549, 0.012198132462799549, 0.010301419533789158, 0.00839837547391653, 0.009244308806955814, 0.006491366773843765, 0.006491366773843765, 0.006491366773843765, 0.006491366773843765, 0.006491366773843765, 0.006491366773843765, 0.006491366773843765, 0.006491366773843765, 0.006491366773843765, 0.006491366773843765, 0.006491366773843765, 0.006491366773843765, 0.006491366773843765, 0.006491366773843765, 0.006491366773843765, 0.006491366773843765, 0.006491366773843765, 0.006491366773843765, 0.006491366773843765, 0.006491366773843765, 0.006491366773843765, 0.006491366773843765, 0.006491366773843765, 0.006491366773843765, 0.006491366773843765, 0.006491366773843765, 0.012502695433795452, 0.012327330186963081, 0.006559920031577349, 0.006559920497238636, 0.02227715216577053, 0.008488576859235764, 0.008488576859235764, 0.006714547984302044, 0.006714547984302044, 0.011751311831176281, 0.005116352345794439, 0.005116352345794439, 0.005116352345794439, 0.005116352345794439, 0.005116352345794439, 0.005116352345794439, 0.005116352345794439, 0.005116352345794439, 0.005116352345794439, 0.005116352345794439, 0.005116352345794439, 0.005116352345794439, 0.005116351414471865, 0.005116352345794439, 0.005116352345794439, 0.005116352345794439, 0.005116352345794439, 0.005116352345794439, 0.005116352345794439, 0.005116352345794439, 0.005116352345794439, 0.005116352345794439, 0.005116352345794439, 0.005116352345794439, 0.005116352345794439, 0.005116352345794439, 0.005116352345794439, 0.005116352345794439, 0.005116352345794439, 0.005116352345794439, 0.005116352345794439, 0.005116356536746025, 0.0051163556054234505, 0.013674501329660416, 0.013674499467015266, 0.01049649715423584, 0.01049649715423584, 0.008891028352081776, 0.007264452986419201, 0.007264452986419201, 0.007264452986419201, 0.005650019738823175, 0.005650019738823175, 0.005650019738823175, 0.005650019738823175, 0.005650019738823175, 0.005650019738823175, 0.005650019738823175, 0.005650019738823175, 0.005650019738823175, 0.005650019738823175, 0.005650019738823175, 0.005650019738823175, 0.004406562075018883, 0.004406562075018883, 0.004406562075018883, 0.004406562075018883, 0.004406562075018883, 0.004406562075018883, 0.004406562075018883, 0.004406562075018883, 0.004406562075018883, 0.004406562075018883, 0.005145189817994833, 0.004406562075018883, 0.004406562075018883, 0.005530855618417263, 0.004406562075018883, 0.004406562075018883, 0.004406562075018883, 0.004406562075018883, 0.004406562075018883, 0.004406562075018883, 0.004406562075018883, 0.004406562075018883, 0.004406562075018883, 0.004406562075018883, 0.004406562075018883, 0.004406562075018883, 0.005292545072734356, 0.004905078560113907, 0.004406562075018883, 0.004406562075018883, 0.004894556012004614, 0.004792672116309404, 0.004770008381456137, 0.004875895567238331, 0.004726211074739695, 0.004708189982920885, 0.005105618387460709, 2.6374151706695557, 2.049372673034668, 2.0198047161102295, 1.7065746784210205, 1.5917967557907104, 1.4230082035064697, 1.1769832372665405, 1.0807198286056519, 1.0599430799484253, 1.0215815305709839, 0.9936968088150024, 0.990198016166687, 0.9852235913276672, 0.950670063495636, 0.9092243313789368, 0.8945626020431519, 0.8851529955863953, 0.8511460423469543, 0.8510344624519348, 0.8483620882034302, 0.8336262106895447, 0.8311934471130371, 0.8127954602241516, 0.8031232357025146, 0.802363932132721, 0.8009198307991028, 0.7870905995368958, 0.7852302193641663, 0.7837406992912292, 0.7709500789642334], \"Term\": [\"pocket\", \"percent\", \"month\", \"sensor\", \"launch\", \"deal\", \"sales\", \"market\", \"light\", \"unlock\", \"nokia\", \"better\", \"storage\", \"fingerprint\", \"google\", \"mobile\", \"people\", \"model\", \"company\", \"report\", \"power\", \"pixel\", \"problem\", \"speaker\", \"fast\", \"offer\", \"video\", \"devices\", \"button\", \"handset\", \"mitten\", \"realization\", \"overheating\", \"wish\", \"smell\", \"situate\", \"shallow\", \"sensation\", \"seattle\", \"roomy\", \"ablaze\", \"boardroom\", \"burning\", \"clatter\", \"denim\", \"shoes\", \"exert\", \"female\", \"flaming\", \"ginormous\", \"glorify\", \"holster\", \"knuckle\", \"pudding\", \"extinguish\", \"extinguisher\", \"jean\", \"idrop\", \"discovery\", \"allocate\", \"disclosure\", \"terminate\", \"rendering\", \"malicious\", \"crawl\", \"lengthy\", \"pairing\", \"attack\", \"panic\", \"protector\", \"leather\", \"armor\", \"protection\", \"disable\", \"protect\", \"scratch\", \"tech21\", \"throttling\", \"analytics\", \"apparent\", \"lining\", \"transparent\", \"moshi\", \"airfoil\", \"bodyguardz\", \"layer\", \"precisely\", \"profile\", \"strada\", \"defense\", \"scrape\", \"presidio\", \"military\", \"shutdown\", \"prematurely\", \"fine\", \"facetime\", \"shutting\", \"controversial\", \"woman\", \"pants\", \"hillard\", \"idrop\", \"jean\", \"explode\", \"seattle\", \"sensation\", \"extinguisher\", \"female\", \"flaming\", \"ginormous\", \"glorify\", \"pudding\", \"mitten\", \"holster\", \"realization\", \"roomy\", \"knuckle\", \"exert\", \"wish\", \"smell\", \"situate\", \"shoes\", \"shallow\", \"extinguish\", \"overheating\", \"boardroom\", \"denim\", \"ablaze\", \"burning\", \"clatter\", \"ossia\", \"pocket\", \"sleeve\", \"transmitter\", \"microsoft\", \"hack\", \"employer\", \"researcher\", \"withdraw\", \"reuters\", \"credibility\", \"amendment\", \"guest\", \"maturity\", \"presenter\", \"approximately\", \"probability\", \"samra\", \"slate\", \"speech\", \"incomplete\", \"attendee\", \"authentication\", \"believing\", \"abstract\", \"creepy\", \"cybersecurity\", \"in-50,000\", \"spokesperson\", \"rack\", \"lecture\", \"printer\", \"print\", \"organization\", \"kimberly\", \"iphonex\", \"singapore\", \"investigator\", \"prompting\", \"requirement\", \"mechanism\", \"impair\", \"cursor\", \"browser\", \"reboot\", \"shader\", \"driver\", \"graphicsfuzz\", \"reproducible\", \"adreno\", \"deploy\", \"lengthy\", \"rendering\", \"rectify\", \"panic\", \"pairing\", \"malicious\", \"terminate\", \"attack\", \"discovery\", \"crawl\", \"disclosure\", \"allocate\", \"overheating\", \"denim\", \"roomy\", \"realization\", \"pudding\", \"exert\", \"extinguish\", \"mitten\", \"extinguisher\", \"clatter\", \"assign\", \"knuckle\", \"burning\", \"complex\", \"flaming\", \"ginormous\", \"ablaze\", \"female\", \"holster\", \"glorify\", \"boardroom\", \"situate\", \"shallow\", \"sensation\", \"seattle\", \"shoes\", \"freeze\", \"resource\", \"smell\", \"wish\", \"timeline\", \"remotely\", \"investigation\", \"equip\", \"reproduce\", \"steps\", \"force\", \"iphone\", \"galaxy\", \"samsung\", \"apple\", \"battery\", \"camera\", \"screen\", \"android\", \"display\", \"update\", \"issue\", \"charge\", \"price\", \"photo\", \"pixel\", \"power\", \"google\", \"better\", \"storage\", \"nokia\", \"deal\", \"sensor\", \"month\", \"light\", \"market\", \"launch\", \"fingerprint\", \"unlock\", \"sales\", \"people\"], \"Total\": [0.0, 0.0, 0.0, 0.0, 0.0, 0.0, 0.0, 0.0, 0.0, 0.0, 0.0, 0.0, 0.0, 0.0, 0.0, 0.0, 0.0, 0.0, 0.0, 0.0, 0.0, 0.0, 0.0, 0.0, 0.0, 0.0, 0.0, 0.0, 0.0, 0.0, 0.11974573135375977, 0.11974573135375977, 0.11974573135375977, 0.11974573135375977, 0.11974573135375977, 0.11974573135375977, 0.11974573135375977, 0.11974573135375977, 0.11974573135375977, 0.11974573135375977, 0.11974573135375977, 0.11974573135375977, 0.11974573135375977, 0.11974573135375977, 0.11974573135375977, 0.11974573135375977, 0.11974573135375977, 0.11974573135375977, 0.11974573135375977, 0.11974573135375977, 0.11974573135375977, 0.11974573135375977, 0.11974573135375977, 0.11974573135375977, 0.11974573135375977, 0.11974573135375977, 0.12126592546701431, 0.12285614758729935, 0.12391459196805954, 0.12391459196805954, 0.12391459196805954, 0.12391459196805954, 0.12391459196805954, 0.12391459196805954, 0.12391459196805954, 0.12391459196805954, 0.12391459196805954, 0.12391459196805954, 0.12391459196805954, 0.5099770426750183, 0.25644630193710327, 0.23086857795715332, 0.530479371547699, 0.2536311149597168, 0.42536208033561707, 0.34634748101234436, 0.19060122966766357, 0.26771438121795654, 0.2971096932888031, 0.27146369218826294, 0.19094112515449524, 0.17820122838020325, 0.17039857804775238, 0.17039857804775238, 0.17039857804775238, 0.24336421489715576, 0.18551841378211975, 0.22516684234142303, 0.175888791680336, 0.1758888065814972, 0.1758888065814972, 0.1758888065814972, 0.1758888065814972, 0.1845352053642273, 0.1845352053642273, 0.1845352053642273, 0.1845352053642273, 0.1845352053642273, 0.1845352053642273, 0.1263202577829361, 0.12455609440803528, 0.12455609440803528, 0.12285614758729935, 0.12126592546701431, 0.1528480499982834, 0.11974573135375977, 0.11974573135375977, 0.11974573135375977, 0.11974573135375977, 0.11974573135375977, 0.11974573135375977, 0.11974573135375977, 0.11974573135375977, 0.11974573135375977, 0.11974573135375977, 0.11974573135375977, 0.11974573135375977, 0.11974573135375977, 0.11974573135375977, 0.11974573135375977, 0.11974573135375977, 0.11974573135375977, 0.11974573135375977, 0.11974573135375977, 0.11974573135375977, 0.11974573135375977, 0.11974573135375977, 0.11974573135375977, 0.11974573135375977, 0.11974573135375977, 0.11974573135375977, 0.25617894530296326, 0.34498926997184753, 0.20550858974456787, 0.20550855994224548, 0.150721475481987, 0.13327161967754364, 0.13327161967754364, 0.13519760966300964, 0.13519760966300964, 0.24884766340255737, 0.1333220899105072, 0.1333220899105072, 0.1333220899105072, 0.1333220899105072, 0.1333220899105072, 0.1333220899105072, 0.1333220899105072, 0.1333220899105072, 0.1333220899105072, 0.1333220899105072, 0.1333221197128296, 0.1333221197128296, 0.1333221048116684, 0.1333221197128296, 0.1333221197128296, 0.1333221197128296, 0.1333221197128296, 0.1333221197128296, 0.1333221197128296, 0.1333221197128296, 0.1333221197128296, 0.1333221197128296, 0.1333221197128296, 0.1333221197128296, 0.1333221197128296, 0.1333221197128296, 0.1333221197128296, 0.1333221197128296, 0.1333221197128296, 0.1333221197128296, 0.1333221197128296, 0.23243585228919983, 0.23243585228919983, 0.1282208263874054, 0.1282208263874054, 0.12585246562957764, 0.12585246562957764, 0.12500008940696716, 0.1245768666267395, 0.1245768666267395, 0.1245768666267395, 0.12391459196805954, 0.12391459196805954, 0.12391459196805954, 0.12391459196805954, 0.12391459196805954, 0.12391459196805954, 0.12391459196805954, 0.12391459196805954, 0.12391459196805954, 0.12391459196805954, 0.12391459196805954, 0.12391459196805954, 0.11974573135375977, 0.11974573135375977, 0.11974573135375977, 0.11974573135375977, 0.11974573135375977, 0.11974573135375977, 0.11974573135375977, 0.11974573135375977, 0.11974573135375977, 0.11974573135375977, 0.14272534847259521, 0.11974573135375977, 0.11974573135375977, 0.17167708277702332, 0.11974573135375977, 0.11974573135375977, 0.11974573135375977, 0.11974573135375977, 0.11974573135375977, 0.11974573135375977, 0.11974573135375977, 0.11974573135375977, 0.11974573135375977, 0.11974573135375977, 0.11974573135375977, 0.11974573135375977, 0.194916769862175, 0.16040216386318207, 0.11974573135375977, 0.11974573135375977, 0.16838884353637695, 0.1720433384180069, 0.17331773042678833, 0.20707888901233673, 0.17718717455863953, 0.17418597638607025, 0.2958482801914215, 2.654594659805298, 2.0665504932403564, 2.0369837284088135, 1.7237528562545776, 1.6089781522750854, 1.4401812553405762, 1.1941577196121216, 1.0978952646255493, 1.077118158340454, 1.0387587547302246, 1.0108784437179565, 1.0073721408843994, 1.0023975372314453, 0.967842161655426, 0.9264076352119446, 0.911738932132721, 0.902337372303009, 0.8683195114135742, 0.868207573890686, 0.8655346632003784, 0.8507984280586243, 0.848365843296051, 0.8299700021743774, 0.8202950358390808, 0.8195376992225647, 0.8180949091911316, 0.8042631149291992, 0.8024092316627502, 0.8009230494499207, 0.788123369216919], \"loglift\": [30.0, 29.0, 28.0, 27.0, 26.0, 25.0, 24.0, 23.0, 22.0, 21.0, 20.0, 19.0, 18.0, 17.0, 16.0, 15.0, 14.0, 13.0, 12.0, 11.0, 10.0, 9.0, 8.0, 7.0, 6.0, 5.0, 4.0, 3.0, 2.0, 1.0, 0.632099986076355, 0.632099986076355, 0.632099986076355, 0.632099986076355, 0.632099986076355, 0.632099986076355, 0.632099986076355, 0.632099986076355, 0.632099986076355, 0.632099986076355, 0.632099986076355, 0.632099986076355, 0.632099986076355, 0.632099986076355, 0.632099986076355, 0.632099986076355, 0.632099986076355, 0.632099986076355, 0.632099986076355, 0.632099986076355, 0.632099986076355, 0.632099986076355, 0.632099986076355, 0.632099986076355, 0.632099986076355, 0.632099986076355, 0.6194999814033508, 0.6064000129699707, 0.5979999899864197, 0.5979999899864197, 0.5979999899864197, 0.5979999899864197, 0.5979999899864197, 0.5979999899864197, 0.5979999899864197, 0.5979999899864197, 0.5979999899864197, 0.5979999899864197, 0.5979999899864197, -0.8029999732971191, -0.12449999898672104, -0.01979999989271164, -0.8518999814987183, -0.11460000276565552, -0.6319000124931335, -0.42640000581741333, 0.17000000178813934, -0.17000000178813934, -0.2743000090122223, -0.18440000712871552, 0.16740000247955322, 0.23639999330043793, 0.28110000491142273, 0.28110000491142273, 0.28110000491142273, -0.07530000060796738, 0.19599999487400055, 0.002300000051036477, 0.2493000030517578, 0.2493000030517578, 0.2493000030517578, 0.2493000030517578, 0.2493000030517578, 0.2011999934911728, 0.2011999934911728, 0.2011999934911728, 0.2011999934911728, 0.2011999934911728, 0.2011999934911728, 1.6655999422073364, 1.5354000329971313, 1.5354000329971313, 1.3801000118255615, 1.1888999938964844, 1.0534000396728516, 0.9440000057220459, 0.9440000057220459, 0.9440000057220459, 0.9440000057220459, 0.9440000057220459, 0.9440000057220459, 0.9440000057220459, 0.9440000057220459, 0.9440000057220459, 0.9440000057220459, 0.9440000057220459, 0.9440000057220459, 0.9440000057220459, 0.9440000057220459, 0.9440000057220459, 0.9440000057220459, 0.9440000057220459, 0.9440000057220459, 0.9440000057220459, 0.9440000057220459, 0.9440000057220459, 0.9440000057220459, 0.9440000057220459, 0.9440000057220459, 0.9440000057220459, 0.9440000057220459, 0.8389000296592712, 0.5271999835968018, 0.41440001130104065, 0.41440001130104065, 2.0548999309539795, 1.2130999565124512, 1.2130999565124512, 0.9643999934196472, 0.9643999934196472, 0.9139000177383423, 0.7064999938011169, 0.7064999938011169, 0.7064999938011169, 0.7064999938011169, 0.7064999938011169, 0.7064999938011169, 0.7064999938011169, 0.7064999938011169, 0.7064999938011169, 0.7064999938011169, 0.7064999938011169, 0.7064999938011169, 0.7064999938011169, 0.7064999938011169, 0.7064999938011169, 0.7064999938011169, 0.7064999938011169, 0.7064999938011169, 0.7064999938011169, 0.7064999938011169, 0.7064999938011169, 0.7064999938011169, 0.7064999938011169, 0.7064999938011169, 0.7064999938011169, 0.7064999938011169, 0.7064999938011169, 0.7064999938011169, 0.7064999938011169, 0.7064999938011169, 0.7064999938011169, 0.15060000121593475, 0.15060000121593475, 1.6926000118255615, 1.6926000118255615, 1.4466999769210815, 1.4466999769210815, 1.287500023841858, 1.0888999700546265, 1.0888999700546265, 1.0888999700546265, 0.8428999781608582, 0.8428999781608582, 0.8428999781608582, 0.8428999781608582, 0.8428999781608582, 0.8428999781608582, 0.8428999781608582, 0.8428999781608582, 0.8428999781608582, 0.8428999781608582, 0.8428999781608582, 0.8428999781608582, 0.6284999847412109, 0.6284999847412109, 0.6284999847412109, 0.6284999847412109, 0.6284999847412109, 0.6284999847412109, 0.6284999847412109, 0.6284999847412109, 0.6284999847412109, 0.6284999847412109, 0.6079000234603882, 0.6284999847412109, 0.6284999847412109, 0.49549999833106995, 0.6284999847412109, 0.6284999847412109, 0.6284999847412109, 0.6284999847412109, 0.6284999847412109, 0.6284999847412109, 0.6284999847412109, 0.6284999847412109, 0.6284999847412109, 0.6284999847412109, 0.6284999847412109, 0.6284999847412109, 0.3244999945163727, 0.44339999556541443, 0.6284999847412109, 0.6284999847412109, 0.3926999866962433, 0.35010001063346863, 0.33799999952316284, 0.18199999630451202, 0.3066999912261963, 0.3199999928474426, -0.12870000302791595, 0.0731000006198883, 0.07119999825954437, 0.07109999656677246, 0.06960000097751617, 0.06889999657869339, 0.06759999692440033, 0.06509999930858612, 0.06379999965429306, 0.06350000202655792, 0.06289999932050705, 0.06239999830722809, 0.06239999830722809, 0.062300000339746475, 0.0617000013589859, 0.0608999989926815, 0.060600001364946365, 0.06040000170469284, 0.05959999933838844, 0.05959999933838844, 0.05950000137090683, 0.05920000001788139, 0.05909999832510948, 0.05869999900460243, 0.058400001376867294, 0.058400001376867294, 0.058400001376867294, 0.057999998331069946, 0.05790000036358833, 0.05790000036358833, 0.0575999990105629], \"logprob\": [30.0, 29.0, 28.0, 27.0, 26.0, 25.0, 24.0, 23.0, 22.0, 21.0, 20.0, 19.0, 18.0, 17.0, 16.0, 15.0, 14.0, 13.0, 12.0, 11.0, 10.0, 9.0, 8.0, 7.0, 6.0, 5.0, 4.0, 3.0, 2.0, 1.0, -8.351400375366211, -8.351400375366211, -8.351400375366211, -8.351400375366211, -8.351400375366211, -8.351400375366211, -8.351400375366211, -8.351400375366211, -8.351400375366211, -8.351400375366211, -8.351400375366211, -8.351400375366211, -8.351400375366211, -8.351400375366211, -8.351400375366211, -8.351400375366211, -8.351400375366211, -8.351400375366211, -8.351400375366211, -8.351400375366211, -8.351400375366211, -8.351400375366211, -8.351400375366211, -8.351400375366211, -8.351400375366211, -8.351400375366211, -8.351400375366211, -8.351400375366211, -8.351400375366211, -8.351400375366211, -8.351400375366211, -8.351400375366211, -8.351400375366211, -8.351400375366211, -8.351400375366211, -8.351400375366211, -8.351400375366211, -8.351400375366211, -8.351400375366211, -8.337599754333496, -8.346500396728516, -8.346799850463867, -8.347000122070312, -8.347700119018555, -8.347800254821777, -8.347900390625, -8.348799705505371, -8.348999977111816, -8.349100112915039, -8.34939956665039, -8.349599838256836, -8.349599838256836, -8.349599838256836, -8.349599838256836, -8.349599838256836, -8.349599838256836, -8.349699974060059, -8.349699974060059, -8.349800109863281, -8.349800109863281, -8.349800109863281, -8.349800109863281, -8.349800109863281, -8.349900245666504, -8.349900245666504, -8.349900245666504, -8.349900245666504, -8.349900245666504, -8.349900245666504, -7.264500141143799, -7.408699989318848, -7.408699989318848, -7.577700138092041, -7.7820000648498535, -7.685999870300293, -8.039600372314453, -8.039600372314453, -8.039600372314453, -8.039600372314453, -8.039600372314453, -8.039600372314453, -8.039600372314453, -8.039600372314453, -8.039600372314453, -8.039600372314453, -8.039600372314453, -8.039600372314453, -8.039600372314453, -8.039600372314453, -8.039600372314453, -8.039600372314453, -8.039600372314453, -8.039600372314453, -8.039600372314453, -8.039600372314453, -8.039600372314453, -8.039600372314453, -8.039600372314453, -8.039600372314453, -8.039600372314453, -8.039600372314453, -7.384099960327148, -7.398200035095215, -8.02910041809082, -8.02910041809082, -6.698500156402588, -7.663400173187256, -7.663400173187256, -7.897799968719482, -7.897799968719482, -7.338099956512451, -8.169599533081055, -8.169599533081055, -8.169599533081055, -8.169599533081055, -8.169599533081055, -8.169599533081055, -8.169599533081055, -8.169599533081055, -8.169599533081055, -8.169599533081055, -8.169599533081055, -8.169599533081055, -8.169599533081055, -8.169599533081055, -8.169599533081055, -8.169599533081055, -8.169599533081055, -8.169599533081055, -8.169599533081055, -8.169599533081055, -8.169599533081055, -8.169599533081055, -8.169599533081055, -8.169599533081055, -8.169599533081055, -8.169599533081055, -8.169599533081055, -8.169599533081055, -8.169599533081055, -8.169599533081055, -8.169599533081055, -8.169599533081055, -8.169599533081055, -7.222599983215332, -7.222599983215332, -7.486999988555908, -7.486999988555908, -7.6529998779296875, -7.855100154876709, -7.855100154876709, -7.855100154876709, -8.106399536132812, -8.106399536132812, -8.106399536132812, -8.106399536132812, -8.106399536132812, -8.106399536132812, -8.106399536132812, -8.106399536132812, -8.106399536132812, -8.106399536132812, -8.106399536132812, -8.106399536132812, -8.354999542236328, -8.354999542236328, -8.354999542236328, -8.354999542236328, -8.354999542236328, -8.354999542236328, -8.354999542236328, -8.354999542236328, -8.354999542236328, -8.354999542236328, -8.199999809265137, -8.354999542236328, -8.354999542236328, -8.127699851989746, -8.354999542236328, -8.354999542236328, -8.354999542236328, -8.354999542236328, -8.354999542236328, -8.354999542236328, -8.354999542236328, -8.354999542236328, -8.354999542236328, -8.354999542236328, -8.354999542236328, -8.354999542236328, -8.171799659729004, -8.24779987335205, -8.354999542236328, -8.354999542236328, -8.25, -8.270999908447266, -8.275699615478516, -8.253800392150879, -8.28499984741211, -8.288800239562988, -8.2076997756958, -5.811800003051758, -6.064000129699707, -6.07859992980957, -6.247099876403809, -6.316699981689453, -6.428800106048584, -6.618599891662598, -6.70389986038208, -6.723299980163574, -6.760200023651123, -6.787899971008301, -6.791399955749512, -6.79640007019043, -6.832099914550781, -6.876699924468994, -6.89300012588501, -6.903500080108643, -6.942699909210205, -6.94290018081665, -6.946000099182129, -6.963500022888184, -6.966400146484375, -6.988800048828125, -7.000800132751465, -7.001699924468994, -7.003499984741211, -7.020999908447266, -7.0233001708984375, -7.025199890136719, -7.0416998863220215]}, \"token.table\": {\"Topic\": [5, 5, 5, 5, 5, 5, 5, 5, 5, 5, 5, 5, 5, 5, 5, 5, 5, 5, 5, 5, 5, 5, 5, 5, 5, 5, 5, 5, 5, 5, 5, 5, 5, 5, 5, 5, 5, 5, 5, 5, 5, 5, 5, 5], \"Freq\": [0.9108337163925171, 1.1602591276168823, 1.2430249452590942, 1.151649832725525, 1.3602590560913086, 0.6943570375442505, 0.9926818013191223, 1.3149491548538208, 1.1753665208816528, 1.355263590812683, 0.9284032583236694, 1.3173446655273438, 1.243374228477478, 0.9677963256835938, 1.1082329750061035, 1.3600345849990845, 1.1301159858703613, 0.9892386198043823, 1.2223520278930664, 1.2190735340118408, 1.2202000617980957, 1.2689390182495117, 1.293596625328064, 1.2048628330230713, 1.1553552150726318, 1.3417993783950806, 1.2688368558883667, 1.306459903717041, 1.0332263708114624, 1.0794384479522705, 1.096805214881897, 0.9976081848144531, 1.3519829511642456, 1.885087490081787, 1.3023642301559448, 1.2485593557357788, 0.981843888759613, 0.8374103307723999, 1.1787368059158325, 1.3119620084762573, 1.1517982482910156, 1.2462469339370728, 0.9626874327659607, 1.352449655532837], \"Term\": [\"android\", \"apple\", \"battery\", \"better\", \"button\", \"camera\", \"charge\", \"company\", \"deal\", \"devices\", \"display\", \"fast\", \"fingerprint\", \"galaxy\", \"google\", \"handset\", \"iphone\", \"issue\", \"launch\", \"light\", \"market\", \"mobile\", \"model\", \"month\", \"nokia\", \"offer\", \"people\", \"percent\", \"photo\", \"pixel\", \"power\", \"price\", \"problem\", \"protection\", \"report\", \"sales\", \"samsung\", \"screen\", \"sensor\", \"speaker\", \"storage\", \"unlock\", \"update\", \"video\"]}, \"R\": 30, \"lambda.step\": 0.01, \"plot.opts\": {\"xlab\": \"PC1\", \"ylab\": \"PC2\"}, \"topic.order\": [1, 2, 3, 4, 5]};\n",
       "\n",
       "function LDAvis_load_lib(url, callback){\n",
       "  var s = document.createElement('script');\n",
       "  s.src = url;\n",
       "  s.async = true;\n",
       "  s.onreadystatechange = s.onload = callback;\n",
       "  s.onerror = function(){console.warn(\"failed to load library \" + url);};\n",
       "  document.getElementsByTagName(\"head\")[0].appendChild(s);\n",
       "}\n",
       "\n",
       "if(typeof(LDAvis) !== \"undefined\"){\n",
       "   // already loaded: just create the visualization\n",
       "   !function(LDAvis){\n",
       "       new LDAvis(\"#\" + \"ldavis_el603848350152006280304653\", ldavis_el603848350152006280304653_data);\n",
       "   }(LDAvis);\n",
       "}else if(typeof define === \"function\" && define.amd){\n",
       "   // require.js is available: use it to load d3/LDAvis\n",
       "   require.config({paths: {d3: \"https://cdnjs.cloudflare.com/ajax/libs/d3/3.5.5/d3.min\"}});\n",
       "   require([\"d3\"], function(d3){\n",
       "      window.d3 = d3;\n",
       "      LDAvis_load_lib(\"https://cdn.rawgit.com/bmabey/pyLDAvis/files/ldavis.v1.0.0.js\", function(){\n",
       "        new LDAvis(\"#\" + \"ldavis_el603848350152006280304653\", ldavis_el603848350152006280304653_data);\n",
       "      });\n",
       "    });\n",
       "}else{\n",
       "    // require.js not available: dynamically load d3 & LDAvis\n",
       "    LDAvis_load_lib(\"https://cdnjs.cloudflare.com/ajax/libs/d3/3.5.5/d3.min.js\", function(){\n",
       "         LDAvis_load_lib(\"https://cdn.rawgit.com/bmabey/pyLDAvis/files/ldavis.v1.0.0.js\", function(){\n",
       "                 new LDAvis(\"#\" + \"ldavis_el603848350152006280304653\", ldavis_el603848350152006280304653_data);\n",
       "            })\n",
       "         });\n",
       "}\n",
       "</script>"
      ],
      "text/plain": [
       "<IPython.core.display.HTML object>"
      ]
     },
     "execution_count": 28,
     "metadata": {},
     "output_type": "execute_result"
    }
   ],
   "source": [
    "# Display 5 topics\n",
    "lda5 = gensim.models.ldamodel.LdaModel.load('model5.gensim')\n",
    "lda_display5 = pyLDAvis.gensim.prepare(lda5, corpus, dictionary, sort_topics=False)\n",
    "pyLDAvis.display(lda_display5)"
   ]
  },
  {
   "cell_type": "code",
   "execution_count": null,
   "metadata": {},
   "outputs": [],
   "source": [
    "### SEEMS LIKE TOPIC MODELLING WONT WORK\n",
    "### GO STRAIGHT TO ASPECT BASED SEMANTIC ANALYS\n",
    "\n",
    "### TOPIC MODELLING MIGHT WORK WITH MUCH LARGER CORPUS OF DATA\n",
    "\n",
    "### CREATE NEW JUPYTER NOTEBOOK FOR THIS TOPIC MODELLING CODE\n",
    "### COPY JUST WHATS NEEDED FOR ABSA\n",
    "\n",
    "### BRAINSTORM WHAT YOU WANT YOUR OUTPUT TO BE NOW, SHOULD BE EASIER TECHNICALLY\n",
    "### RESEARCH HOW TO DO ABSA WITHOUT TOPICS\n",
    "\n",
    "# MAY NEED TO SCRAPE TEST DATA. PERHAPS TWO DIFFERENT PHONES!!!!! TEST MODEL ON TEST DATA TO SEE HOW IT ANALYSES SENTIMENT AND OUTPUTS OUR RESULT."
   ]
  }
 ],
 "metadata": {
  "kernelspec": {
   "display_name": "Python 3",
   "language": "python",
   "name": "python3"
  },
  "language_info": {
   "codemirror_mode": {
    "name": "ipython",
    "version": 3
   },
   "file_extension": ".py",
   "mimetype": "text/x-python",
   "name": "python",
   "nbconvert_exporter": "python",
   "pygments_lexer": "ipython3",
   "version": "3.6.5"
  }
 },
 "nbformat": 4,
 "nbformat_minor": 2
}
