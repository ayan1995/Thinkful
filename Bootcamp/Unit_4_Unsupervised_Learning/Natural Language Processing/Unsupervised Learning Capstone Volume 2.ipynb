{
 "cells": [
  {
   "cell_type": "code",
   "execution_count": 1,
   "metadata": {},
   "outputs": [],
   "source": [
    "import numpy as np\n",
    "import pandas as pd\n",
    "import matplotlib.pyplot as plt\n",
    "import seaborn as sns\n",
    "import spacy\n",
    "import nltk\n",
    "import string\n",
    "from nltk.tokenize import word_tokenize\n",
    "import re\n",
    "%matplotlib inline"
   ]
  },
  {
   "cell_type": "code",
   "execution_count": 2,
   "metadata": {},
   "outputs": [],
   "source": [
    "from nltk.corpus import inaugural"
   ]
  },
  {
   "cell_type": "code",
   "execution_count": 3,
   "metadata": {},
   "outputs": [],
   "source": [
    "eisenhower = inaugural.raw('1953-Eisenhower.txt')\n",
    "kennedy = inaugural.raw('1961-Kennedy.txt')\n",
    "johnson = inaugural.raw('1965-Johnson.txt')\n",
    "nixon = inaugural.raw('1969-Nixon.txt')\n",
    "carter = inaugural.raw('1977-Carter.txt')\n",
    "reagan = inaugural.raw('1981-Reagan.txt')\n",
    "bush = inaugural.raw('1989-Bush.txt')\n",
    "clinton = inaugural.raw('1993-Clinton.txt')\n",
    "w_bush = inaugural.raw('2001-Bush.txt')\n",
    "obama = inaugural.raw('2009-Obama.txt')\n",
    "\n",
    "texts = [eisenhower, kennedy, johnson, nixon, carter, reagan, bush, clinton, w_bush, obama]\n",
    "presidents = ['Eisenhower', 'Kennedy', 'Johnson', 'Nixon', 'Carter', 'Reagan', 'Bush', 'Clinton', 'W_Bush', 'Obama']\n",
    "inaugural_speeches = ['1953-Eisenhower.txt', '1961-Kennedy.txt', '1965-Johnson.txt', '1969-Nixon.txt', '1977-Carter.txt', '1981-Reagan.txt', '1989-Bush.txt', '1993-Clinton.txt', '2001-Bush.txt', '2009-Obama.txt']\n"
   ]
  },
  {
   "cell_type": "code",
   "execution_count": 4,
   "metadata": {},
   "outputs": [],
   "source": [
    "# Utility function for standard text cleaning.\n",
    "def text_cleaner(text):\n",
    "    # Visual inspection identifies a form of punctuation spaCy does not\n",
    "    # recognize: the double dash '--'.  Better get rid of it now!\n",
    "    text = re.sub(r'--',' ',text)\n",
    "    text = re.sub(\"[\\[].*?[\\]]\", \"\", text)\n",
    "    text = ' '.join(text.split())\n",
    "    return text"
   ]
  },
  {
   "cell_type": "code",
   "execution_count": 5,
   "metadata": {},
   "outputs": [],
   "source": [
    "d={}\n",
    "i = 0\n",
    "for x in presidents:\n",
    "    d['{}'.format(x)] = text_cleaner(texts[i])\n",
    "    i += 1"
   ]
  },
  {
   "cell_type": "code",
   "execution_count": 6,
   "metadata": {},
   "outputs": [],
   "source": [
    "nlp = spacy.load('en')\n",
    "\n",
    "for k, v in d.items():\n",
    "    d[k] = nlp(v)"
   ]
  },
  {
   "cell_type": "code",
   "execution_count": 7,
   "metadata": {},
   "outputs": [
    {
     "name": "stdout",
     "output_type": "stream",
     "text": [
      "dict_keys(['Eisenhower', 'Kennedy', 'Johnson', 'Nixon', 'Carter', 'Reagan', 'Bush', 'Clinton', 'W_Bush', 'Obama'])\n"
     ]
    }
   ],
   "source": [
    "print(d.keys())"
   ]
  },
  {
   "cell_type": "code",
   "execution_count": 8,
   "metadata": {},
   "outputs": [],
   "source": [
    "for k, v in d.items():\n",
    "    d[k] = [[sent, k] for sent in v.sents]"
   ]
  },
  {
   "cell_type": "code",
   "execution_count": 9,
   "metadata": {},
   "outputs": [],
   "source": [
    "eisenhower = d['Eisenhower']\n",
    "kennedy = d['Kennedy']\n",
    "johnson = d['Johnson']\n",
    "nixon = d['Nixon']\n",
    "carter = d['Carter']\n",
    "reagan = d['Reagan']\n",
    "bush = d['Bush']\n",
    "clinton = d['Clinton']\n",
    "w_bush = d['W_Bush']\n",
    "obama = d['Obama']"
   ]
  },
  {
   "cell_type": "code",
   "execution_count": 10,
   "metadata": {},
   "outputs": [],
   "source": [
    "sentences = pd.DataFrame(eisenhower+kennedy+johnson+nixon+carter+reagan+bush+clinton+w_bush+obama)"
   ]
  },
  {
   "cell_type": "code",
   "execution_count": 11,
   "metadata": {},
   "outputs": [],
   "source": [
    "# Convert sentences tuples to string\n",
    "sentences[0] = sentences[0].astype(str)\n",
    "\n",
    "# Tokenize sentences\n",
    "sentences[0] = sentences.apply(lambda row: nltk.word_tokenize(row[0]), axis=1)\n",
    "\n",
    "# Remove all stop words\n",
    "from nltk.corpus import stopwords\n",
    "stop = stopwords.words('english')\n",
    "sentences[0] = sentences[0].apply(lambda x: [item for item in x if item not in stop])\n",
    "\n",
    "# Lower Case everything\n",
    "sentences[0] = sentences[0].astype(str)\n",
    "sentences[0] = sentences[0].apply(lambda x: x.lower())\n",
    "\n",
    "# remove all punctuations\n",
    "from string import punctuation\n",
    "sentences[0] = sentences[0].apply(lambda x: ''.join(c for c in x if c not in punctuation))"
   ]
  },
  {
   "cell_type": "code",
   "execution_count": 12,
   "metadata": {},
   "outputs": [],
   "source": [
    "sentences = sentences.rename(index=str, columns={0:'Sentence', 1:'President'})"
   ]
  },
  {
   "cell_type": "code",
   "execution_count": 13,
   "metadata": {
    "scrolled": true
   },
   "outputs": [
    {
     "data": {
      "text/html": [
       "<div>\n",
       "<style scoped>\n",
       "    .dataframe tbody tr th:only-of-type {\n",
       "        vertical-align: middle;\n",
       "    }\n",
       "\n",
       "    .dataframe tbody tr th {\n",
       "        vertical-align: top;\n",
       "    }\n",
       "\n",
       "    .dataframe thead th {\n",
       "        text-align: right;\n",
       "    }\n",
       "</style>\n",
       "<table border=\"1\" class=\"dataframe\">\n",
       "  <thead>\n",
       "    <tr style=\"text-align: right;\">\n",
       "      <th></th>\n",
       "      <th>Sentence</th>\n",
       "      <th>President</th>\n",
       "    </tr>\n",
       "  </thead>\n",
       "  <tbody>\n",
       "    <tr>\n",
       "      <th>0</th>\n",
       "      <td>my friends  i begin expression thoughts i deem...</td>\n",
       "      <td>Eisenhower</td>\n",
       "    </tr>\n",
       "    <tr>\n",
       "      <th>1</th>\n",
       "      <td>and i ask bow heads</td>\n",
       "      <td>Eisenhower</td>\n",
       "    </tr>\n",
       "    <tr>\n",
       "      <th>2</th>\n",
       "      <td>almighty god  stand moment future associates e...</td>\n",
       "      <td>Eisenhower</td>\n",
       "    </tr>\n",
       "    <tr>\n",
       "      <th>3</th>\n",
       "      <td>give us  pray  power discern clearly right wro...</td>\n",
       "      <td>Eisenhower</td>\n",
       "    </tr>\n",
       "    <tr>\n",
       "      <th>4</th>\n",
       "      <td>especially pray concern shall people regardles...</td>\n",
       "      <td>Eisenhower</td>\n",
       "    </tr>\n",
       "  </tbody>\n",
       "</table>\n",
       "</div>"
      ],
      "text/plain": [
       "                                            Sentence   President\n",
       "0  my friends  i begin expression thoughts i deem...  Eisenhower\n",
       "1                               and i ask bow heads   Eisenhower\n",
       "2  almighty god  stand moment future associates e...  Eisenhower\n",
       "3  give us  pray  power discern clearly right wro...  Eisenhower\n",
       "4  especially pray concern shall people regardles...  Eisenhower"
      ]
     },
     "execution_count": 13,
     "metadata": {},
     "output_type": "execute_result"
    }
   ],
   "source": [
    "sentences.head()"
   ]
  },
  {
   "cell_type": "code",
   "execution_count": 14,
   "metadata": {
    "scrolled": true
   },
   "outputs": [
    {
     "data": {
      "image/png": "[encoded data removed]",
      "text/plain": [
       "<Figure size 792x432 with 1 Axes>"
      ]
     },
     "metadata": {},
     "output_type": "display_data"
    }
   ],
   "source": [
    "sentence_count = sentences.groupby('President').count()\n",
    "\n",
    "plt.figure(figsize=(11,6))\n",
    "plt.bar(sentence_count.index, sentence_count['Sentence'])\n",
    "plt.show()"
   ]
  },
  {
   "cell_type": "code",
   "execution_count": 15,
   "metadata": {},
   "outputs": [
    {
     "data": {
      "text/plain": [
       "dict_keys(['Eisenhower', 'Kennedy', 'Johnson', 'Nixon', 'Carter', 'Reagan', 'Bush', 'Clinton', 'W_Bush', 'Obama'])"
      ]
     },
     "execution_count": 15,
     "metadata": {},
     "output_type": "execute_result"
    }
   ],
   "source": [
    "d.keys()"
   ]
  },
  {
   "cell_type": "code",
   "execution_count": 20,
   "metadata": {},
   "outputs": [],
   "source": [
    "from sklearn.preprocessing import LabelEncoder\n",
    "le = LabelEncoder()\n",
    "sentences['president_number'] = sentences['President']\n",
    "sentences['president_number'] = le.fit_transform(sentences['president_number'])"
   ]
  },
  {
   "cell_type": "code",
   "execution_count": 24,
   "metadata": {},
   "outputs": [
    {
     "data": {
      "text/html": [
       "<div>\n",
       "<style scoped>\n",
       "    .dataframe tbody tr th:only-of-type {\n",
       "        vertical-align: middle;\n",
       "    }\n",
       "\n",
       "    .dataframe tbody tr th {\n",
       "        vertical-align: top;\n",
       "    }\n",
       "\n",
       "    .dataframe thead th {\n",
       "        text-align: right;\n",
       "    }\n",
       "</style>\n",
       "<table border=\"1\" class=\"dataframe\">\n",
       "  <thead>\n",
       "    <tr style=\"text-align: right;\">\n",
       "      <th></th>\n",
       "      <th>Sentence</th>\n",
       "      <th>President</th>\n",
       "      <th>president_number</th>\n",
       "    </tr>\n",
       "  </thead>\n",
       "  <tbody>\n",
       "    <tr>\n",
       "      <th>0</th>\n",
       "      <td>my friends  i begin expression thoughts i deem...</td>\n",
       "      <td>Eisenhower</td>\n",
       "      <td>3</td>\n",
       "    </tr>\n",
       "    <tr>\n",
       "      <th>1</th>\n",
       "      <td>and i ask bow heads</td>\n",
       "      <td>Eisenhower</td>\n",
       "      <td>3</td>\n",
       "    </tr>\n",
       "    <tr>\n",
       "      <th>2</th>\n",
       "      <td>almighty god  stand moment future associates e...</td>\n",
       "      <td>Eisenhower</td>\n",
       "      <td>3</td>\n",
       "    </tr>\n",
       "    <tr>\n",
       "      <th>3</th>\n",
       "      <td>give us  pray  power discern clearly right wro...</td>\n",
       "      <td>Eisenhower</td>\n",
       "      <td>3</td>\n",
       "    </tr>\n",
       "    <tr>\n",
       "      <th>4</th>\n",
       "      <td>especially pray concern shall people regardles...</td>\n",
       "      <td>Eisenhower</td>\n",
       "      <td>3</td>\n",
       "    </tr>\n",
       "  </tbody>\n",
       "</table>\n",
       "</div>"
      ],
      "text/plain": [
       "                                            Sentence   President  \\\n",
       "0  my friends  i begin expression thoughts i deem...  Eisenhower   \n",
       "1                               and i ask bow heads   Eisenhower   \n",
       "2  almighty god  stand moment future associates e...  Eisenhower   \n",
       "3  give us  pray  power discern clearly right wro...  Eisenhower   \n",
       "4  especially pray concern shall people regardles...  Eisenhower   \n",
       "\n",
       "   president_number  \n",
       "0                 3  \n",
       "1                 3  \n",
       "2                 3  \n",
       "3                 3  \n",
       "4                 3  "
      ]
     },
     "execution_count": 24,
     "metadata": {},
     "output_type": "execute_result"
    }
   ],
   "source": [
    "sentences.head()"
   ]
  },
  {
   "cell_type": "code",
   "execution_count": 26,
   "metadata": {},
   "outputs": [
    {
     "data": {
      "text/plain": [
       "(995, 352)"
      ]
     },
     "execution_count": 26,
     "metadata": {},
     "output_type": "execute_result"
    }
   ],
   "source": [
    "from sklearn.feature_extraction.text import TfidfVectorizer\n",
    "\n",
    "tfidf = TfidfVectorizer(sublinear_tf=True, min_df=5, norm='l2', encoding='latin-1', ngram_range=(1, 2), stop_words='english')\n",
    "\n",
    "features = tfidf.fit_transform(sentences['Sentence']).toarray()\n",
    "labels = sentences.president_number\n",
    "features.shape"
   ]
  },
  {
   "cell_type": "code",
   "execution_count": 30,
   "metadata": {},
   "outputs": [
    {
     "data": {
      "image/png": "[encoded data removed]",
      "text/plain": [
       "<Figure size 432x288 with 1 Axes>"
      ]
     },
     "metadata": {},
     "output_type": "display_data"
    }
   ],
   "source": [
    "from sklearn.cluster import KMeans, MiniBatchKMeans, MeanShift, estimate_bandwidth, SpectralClustering\n",
    "\n",
    "y_pred = KMeans(n_clusters=9, random_state=42).fit_predict(features)\n",
    "\n",
    "# Plot the solution.\n",
    "plt.scatter(features[:, 0], features[:, 1], c=y_pred)\n",
    "plt.show()"
   ]
  },
  {
   "cell_type": "code",
   "execution_count": null,
   "metadata": {},
   "outputs": [],
   "source": []
  }
 ],
 "metadata": {
  "kernelspec": {
   "display_name": "Python 3",
   "language": "python",
   "name": "python3"
  },
  "language_info": {
   "codemirror_mode": {
    "name": "ipython",
    "version": 3
   },
   "file_extension": ".py",
   "mimetype": "text/x-python",
   "name": "python",
   "nbconvert_exporter": "python",
   "pygments_lexer": "ipython3",
   "version": "3.7.0"
  }
 },
 "nbformat": 4,
 "nbformat_minor": 2
}
