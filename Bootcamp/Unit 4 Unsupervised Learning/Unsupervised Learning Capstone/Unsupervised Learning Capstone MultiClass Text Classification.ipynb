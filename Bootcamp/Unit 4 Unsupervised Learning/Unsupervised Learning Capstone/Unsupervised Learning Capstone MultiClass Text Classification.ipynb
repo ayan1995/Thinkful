{
 "cells": [
  {
   "cell_type": "markdown",
   "metadata": {},
   "source": [
    "# Multi-text Classification: A Comparison of Modelling vs. Clustering\n",
    "### Ayan Karim"
   ]
  },
  {
   "cell_type": "markdown",
   "metadata": {},
   "source": [
    "## Description of Data\n",
    "\n",
    "The data set used for this NLP investigation was collected from the Gutenberg Project and can be found at http://www.gutenberg.org/wiki/Main_Page. The Gutenberg Project offers a corpus of over 57,000 free books that are globablly renowned as great literature. The corpus of varying genres and types, including memoirs, plays and short stories. These books can be found in multiple forms such as kindle ebooks, epub books and raw text files. \n",
    "\n",
    "My data set consists of 100 different extracts from fictional novels which were chosen evenly by 10 different authors including: Jane Austen, William Shakespeare, Leo Tolstoy, G. K. Chesterton, Charles Dickens, Herman Melville, Mark Twain, Oscar Wilde, Anthony Burgess and H.G. Wells. The data used for analysis was extracted from the middle of the text, so to avoid the inclusions of formal headings, and/or meta information on the book.\n",
    "\n",
    "## Problem Statement\n",
    "\n",
    "My objective is to compare clustering algorithms and supervised learning models in their ability to classify multiple texts by assigning them to the correct author.\n",
    "\n",
    "## Implication of Data\n",
    "\n",
    "The outcome of this investigation shows us how we can use NLP models to classify texts. This type of modelling has multiple applications for classifying texts on social media, product reviews, identifying plagiarism, etc. "
   ]
  },
  {
   "cell_type": "code",
   "execution_count": 1,
   "metadata": {},
   "outputs": [],
   "source": [
    "# Import Dependencies and modules\n",
    "%matplotlib inline\n",
    "import numpy as np\n",
    "import pandas as pd\n",
    "import scipy\n",
    "from scipy import spatial\n",
    "import sklearn\n",
    "import spacy\n",
    "import matplotlib.pyplot as plt\n",
    "import seaborn as sns\n",
    "import re\n",
    "from nltk.corpus import gutenberg, stopwords\n",
    "from nltk.corpus import stopwords\n",
    "from string import punctuation\n",
    "from collections import Counter\n",
    "from sklearn.model_selection import train_test_split, cross_val_score\n",
    "from sklearn import model_selection, preprocessing, linear_model, naive_bayes, metrics, svm\n",
    "from sklearn.feature_extraction.text import TfidfVectorizer, CountVectorizer\n",
    "from sklearn.cluster import SpectralClustering\n",
    "from sklearn import decomposition, ensemble\n",
    "from sklearn.cluster import KMeans\n",
    "from sklearn.feature_selection import chi2\n",
    "from sklearn import metrics\n",
    "from sklearn.metrics import confusion_matrix\n",
    "from sklearn.linear_model import LogisticRegression\n",
    "from sklearn.ensemble import RandomForestClassifier\n",
    "from sklearn.svm import LinearSVC\n",
    "from sklearn.model_selection import cross_val_score\n",
    "from sklearn.ensemble import GradientBoostingClassifier\n",
    "from sklearn.naive_bayes import MultinomialNB\n",
    "from io import StringIO\n",
    "import nltk\n",
    "import glob\n",
    "import errno\n",
    "import os"
   ]
  },
  {
   "cell_type": "markdown",
   "metadata": {},
   "source": [
    "## Load Data\n",
    "\n",
    "Our data set is stored as raw text files in a separate file. While importing the data, I want to extract three different types of information and append them to a list; the author, the title and the content of the text itself. some of our texts for our data set can be accessed from the nltk corpus, so we'll access the same information from those texts and append them to our lists."
   ]
  },
  {
   "cell_type": "code",
   "execution_count": 2,
   "metadata": {},
   "outputs": [],
   "source": [
    "# Define path to text files that contain the novels\n",
    "path = '/Users/ayankarim/desktop/Texts/*.txt'\n",
    "files = glob.glob(path)\n",
    "\n",
    "# Create empty lists to store information on author, title, and content of the text\n",
    "author = []\n",
    "title = []\n",
    "text = []\n",
    "\n",
    "# assign author, title and content of texts to lists\n",
    "for filename in files:\n",
    "    try:\n",
    "        with open(filename, 'r') as f:\n",
    "            author.append(filename.split('-')[0])\n",
    "            title.append(filename.split('-')[1])\n",
    "            text.append(f.read())\n",
    "    except IOError as exc:\n",
    "        if exc.errno != errno.EISDIR:\n",
    "            raise"
   ]
  },
  {
   "cell_type": "code",
   "execution_count": 3,
   "metadata": {},
   "outputs": [],
   "source": [
    "# Remove unwanted characters from author and title information\n",
    "author = [x.split('ts/')[1] for x in author]\n",
    "title = [y.split('.')[0] for y in title]"
   ]
  },
  {
   "cell_type": "code",
   "execution_count": 4,
   "metadata": {},
   "outputs": [],
   "source": [
    "# Assign texts from nltk gutenberg corpus to variables\n",
    "austen_emma = gutenberg.raw('austen-emma.txt')\n",
    "austen_persuasion = gutenberg.raw('austen-persuasion.txt')\n",
    "austen_sense = gutenberg.raw('austen-sense.txt')\n",
    "burgess_busterbrown = gutenberg.raw('burgess-busterbrown.txt')\n",
    "chesterton_ball= gutenberg.raw('chesterton-ball.txt')\n",
    "chesterton_brown = gutenberg.raw('chesterton-brown.txt')\n",
    "chesterton_thursday = gutenberg.raw('chesterton-thursday.txt')\n",
    "shakespeare_hamlet = gutenberg.raw('shakespeare-hamlet.txt')\n",
    "shakespeare_macbeth = gutenberg.raw('shakespeare-macbeth.txt')\n",
    "melville_mobydick = gutenberg.raw('melville-moby_dick.txt')\n",
    "\n",
    "# Create list of variables containing texts from gutenberg corpus\n",
    "gutenberg_texts = [austen_emma,austen_persuasion,austen_sense,\n",
    "            burgess_busterbrown,chesterton_ball,chesterton_brown,chesterton_thursday,\n",
    "           shakespeare_hamlet,shakespeare_macbeth,melville_mobydick]\n",
    "\n",
    "# Create list of strings with author and title information on texts from gutenberg corpus\n",
    "gutenberg_titles_authors = ['austen_emma','austen_persuasion','austen_sense',\n",
    "            'burgess_busterbrown','chesterton_ball','chesterton_brown','chesterton_thursday',\n",
    "           'shakespeare_hamlet','shakespeare_macbeth','melville_mobydick']\n",
    "\n",
    "# Create list of authors\n",
    "gutenberg_authors = [x.split('_')[0] for x in gutenberg_titles_authors]\n",
    "\n",
    "# Create list of titles\n",
    "gutenberg_titles = [x.split('_')[1] for x in gutenberg_titles_authors]"
   ]
  },
  {
   "cell_type": "code",
   "execution_count": 5,
   "metadata": {},
   "outputs": [],
   "source": [
    "# Add gutenberg text data to lists containing information on the entire data\n",
    "author.extend(gutenberg_authors)\n",
    "title.extend(gutenberg_titles)\n",
    "text.extend(gutenberg_texts)"
   ]
  },
  {
   "cell_type": "code",
   "execution_count": 6,
   "metadata": {},
   "outputs": [
    {
     "data": {
      "text/plain": [
       "100"
      ]
     },
     "execution_count": 6,
     "metadata": {},
     "output_type": "execute_result"
    }
   ],
   "source": [
    "# View length of entries\n",
    "len(text)"
   ]
  },
  {
   "cell_type": "markdown",
   "metadata": {},
   "source": [
    "# Preprocess Data\n",
    "\n",
    "As we can see in the cell, we have exactly 100 texts that make up our data set. To clean our data, we're going to define a function named \"text_cleaner\" which iteratively reviews each text for unwanted symbols, chapter headings and extra blank space, and removes them. We then use the spacy to parse the texts, and take a sample of each text from the 6000th character to the 24000th character for training our models.\n",
    "\n",
    "Next, we create dictionary where the keys are author, title and text and the values are their respective information. From this dictionary, we create a dataframe to hold our data, so we can visualize it and use it to create features and train our models. \n",
    "\n",
    "Our dataframe contains all the information mentioned above. The text will be cleaned so that all the words are tokenized, lower-cased and all the stop words are removed. Finally we'll assign labels for the authors so that we have a target variable that we can compare against our predictions from our clusters and our models."
   ]
  },
  {
   "cell_type": "code",
   "execution_count": 7,
   "metadata": {},
   "outputs": [],
   "source": [
    "# Utility function for standard text cleaning.\n",
    "def text_cleaner(text):\n",
    "    # Visual inspection identifies a form of punctuation spaCy does not\n",
    "    # recognize: the double dash '--'.  Better get rid of it now!\n",
    "    text = re.sub(r'--',' ',text)\n",
    "    text = re.sub(\"[\\[].*?[\\]]\", \"\", text)\n",
    "    text = re.sub(\"\\n\", \" \", text)\n",
    "    text = re.sub(\"\\'\", \"\", text)\n",
    "    text = re.sub(r'Chapter \\d+','', text)\n",
    "    text = re.sub(r'CHAPTER \\d+','', text)\n",
    "    text = re.sub(r'chapter \\d+','', text)\n",
    "    text = ' '.join(text.split())\n",
    "    return text"
   ]
  },
  {
   "cell_type": "code",
   "execution_count": 8,
   "metadata": {},
   "outputs": [],
   "source": [
    "# Clean text\n",
    "text = [text_cleaner(x) for x in text]\n",
    "\n",
    "# Truncate and parse the cleaned texts\n",
    "nlp = spacy.load('en')\n",
    "text = [texts[6000:18000] for texts in text]\n",
    "text = [nlp(texts) for texts in text]"
   ]
  },
  {
   "cell_type": "code",
   "execution_count": 9,
   "metadata": {},
   "outputs": [],
   "source": [
    "# Use numpy to sample texts instead to truncating it like above"
   ]
  },
  {
   "cell_type": "code",
   "execution_count": 10,
   "metadata": {},
   "outputs": [
    {
     "data": {
      "text/plain": [
       "dict_keys(['title', 'author', 'text'])"
      ]
     },
     "execution_count": 10,
     "metadata": {},
     "output_type": "execute_result"
    }
   ],
   "source": [
    "# Create dictionary containing information on data set for title, author and text\n",
    "text_dict = {}\n",
    "text_dict['title'] = title\n",
    "text_dict['author'] = author\n",
    "text_dict['text'] = text\n",
    "text_dict.keys()"
   ]
  },
  {
   "cell_type": "code",
   "execution_count": 38,
   "metadata": {},
   "outputs": [
    {
     "data": {
      "text/plain": [
       "rn part of Berkshire, Massachusetts, will find ample food for poetic reflection in the singular scenery of a country, which, owing to the ruggedness of the soil and its lying out of the track of all public conveyances, remains almost as unknown to the general tourist as the interior of Bohemia. Travelling northward from the township of Otis, the road leads for twenty or thirty miles towards Windsor, lengthwise upon that long broken spur of heights which the Green Mountains of Vermont send into Massachusetts. For nearly the whole of the distance, you have the continual sensation of being upon some terrace in the moon. The feeling of the plain or the valley is never yours; scarcely the feeling of the earth. Unless by a sudden precipitation of the road you find yourself plunging into some gorge, you pass on, and on, and on, upon the crests or slopes of pastoral mountains, while far below, mapped out in its beauty, the valley of the Housatonie lies endlessly along at your feet. Often, as your horse gaining some lofty"
      ]
     },
     "execution_count": 38,
     "metadata": {},
     "output_type": "execute_result"
    }
   ],
   "source": [
    "# Visualize a text to see how it looks\n",
    "text_dict['text'][5][:200]"
   ]
  },
  {
   "cell_type": "code",
   "execution_count": 12,
   "metadata": {},
   "outputs": [],
   "source": [
    "# Create a data frame from dictionary containing the data set\n",
    "df = pd.DataFrame({'title':text_dict['title'], 'author':text_dict['author'], 'text':text_dict['text']})\n",
    "\n",
    "# Slight text cleaning, making sure shakespeare is spelled consistantly throughout\n",
    "df['author'] = np.where(df['author']=='shakespear', 'shakespeare', df['author'])\n",
    "\n",
    "# Convert tuples to string\n",
    "df['text'] = df['text'].astype(str)\n",
    "\n",
    "# Tokenize sentences\n",
    "df['text'] = df.apply(lambda row: nltk.word_tokenize(row['text']), axis=1)\n",
    "\n",
    "# Remove first and last words from texts as they are usually incomplete\n",
    "df['text'] = df['text'].str[1:]\n",
    "df['text'] = df['text'].str[:-1]\n",
    "\n",
    "# Remove all stop words\n",
    "stop = stopwords.words('english')\n",
    "df['text'] = df['text'].apply(lambda x: [item for item in x if item not in stop])\n",
    "\n",
    "# Lower Case everything\n",
    "df['text'] = df['text'].astype(str)\n",
    "df['text'] = df['text'].apply(lambda x: x.lower())\n",
    "\n",
    "# remove all punctuations\n",
    "df['text'] = df['text'].apply(lambda x: ''.join(c for c in x if c not in punctuation))\n",
    "\n",
    "# Create labels for author\n",
    "df['category_id'] = df['author'].factorize()[0]\n",
    "category_id_df = df[['author', 'category_id']].drop_duplicates().sort_values('category_id')\n",
    "\n",
    "# Create dictionary assigning author to label\n",
    "category_to_id = dict(category_id_df.values)\n",
    "id_to_category = dict(category_id_df[['category_id', 'author']].values)"
   ]
  },
  {
   "cell_type": "markdown",
   "metadata": {},
   "source": [
    "## Explore Data"
   ]
  },
  {
   "cell_type": "code",
   "execution_count": 13,
   "metadata": {},
   "outputs": [
    {
     "data": {
      "text/html": [
       "<div>\n",
       "<style scoped>\n",
       "    .dataframe tbody tr th:only-of-type {\n",
       "        vertical-align: middle;\n",
       "    }\n",
       "\n",
       "    .dataframe tbody tr th {\n",
       "        vertical-align: top;\n",
       "    }\n",
       "\n",
       "    .dataframe thead th {\n",
       "        text-align: right;\n",
       "    }\n",
       "</style>\n",
       "<table border=\"1\" class=\"dataframe\">\n",
       "  <thead>\n",
       "    <tr style=\"text-align: right;\">\n",
       "      <th></th>\n",
       "      <th>title</th>\n",
       "      <th>author</th>\n",
       "      <th>text</th>\n",
       "      <th>category_id</th>\n",
       "    </tr>\n",
       "  </thead>\n",
       "  <tbody>\n",
       "    <tr>\n",
       "      <th>0</th>\n",
       "      <td>mansfield</td>\n",
       "      <td>austen</td>\n",
       "      <td>nine years old  age require attention poor mot...</td>\n",
       "      <td>0</td>\n",
       "    </tr>\n",
       "    <tr>\n",
       "      <th>1</th>\n",
       "      <td>romeo</td>\n",
       "      <td>shakespeare</td>\n",
       "      <td>and makes artificial night  black portentous m...</td>\n",
       "      <td>1</td>\n",
       "    </tr>\n",
       "    <tr>\n",
       "      <th>2</th>\n",
       "      <td>darkness</td>\n",
       "      <td>tolstoy</td>\n",
       "      <td>idiot  akoulína i know youre swearing  youre ...</td>\n",
       "      <td>2</td>\n",
       "    </tr>\n",
       "    <tr>\n",
       "      <th>3</th>\n",
       "      <td>america</td>\n",
       "      <td>chesterton</td>\n",
       "      <td>like forms i filled passport offices  but real...</td>\n",
       "      <td>3</td>\n",
       "    </tr>\n",
       "    <tr>\n",
       "      <th>4</th>\n",
       "      <td>nickleby</td>\n",
       "      <td>dickens</td>\n",
       "      <td>became uncomfortable  at last  passed couple h...</td>\n",
       "      <td>4</td>\n",
       "    </tr>\n",
       "  </tbody>\n",
       "</table>\n",
       "</div>"
      ],
      "text/plain": [
       "       title       author                                               text  \\\n",
       "0  mansfield       austen  nine years old  age require attention poor mot...   \n",
       "1      romeo  shakespeare  and makes artificial night  black portentous m...   \n",
       "2   darkness      tolstoy   idiot  akoulína i know youre swearing  youre ...   \n",
       "3    america   chesterton  like forms i filled passport offices  but real...   \n",
       "4   nickleby      dickens  became uncomfortable  at last  passed couple h...   \n",
       "\n",
       "   category_id  \n",
       "0            0  \n",
       "1            1  \n",
       "2            2  \n",
       "3            3  \n",
       "4            4  "
      ]
     },
     "execution_count": 13,
     "metadata": {},
     "output_type": "execute_result"
    }
   ],
   "source": [
    "# View our dataframe\n",
    "df.head()"
   ]
  },
  {
   "cell_type": "code",
   "execution_count": 41,
   "metadata": {
    "scrolled": true
   },
   "outputs": [
    {
     "data": {
      "image/png": "[encoded data removed]",
      "text/plain": [
       "<Figure size 576x576 with 1 Axes>"
      ]
     },
     "metadata": {},
     "output_type": "display_data"
    }
   ],
   "source": [
    "# Visualize Class imbalance\n",
    "fig = plt.figure(figsize=(8,8))\n",
    "df.groupby('author').text.count().plot.bar(ylim=0)\n",
    "plt.title('Class Balance of Texts')\n",
    "plt.xlabel('Authors')\n",
    "plt.ylabel('Number of Documents')\n",
    "plt.show()"
   ]
  },
  {
   "cell_type": "markdown",
   "metadata": {},
   "source": [
    "## Feature Engineering: Tf-Idf Vectorizer\n",
    "\n",
    "To create our features, we're going to use the TF-IDF vectorizer from sklearn. Our \"documents\" here are each of the texts. Since each of the novelists have unique and renowned styles of writing, the terms they use should differ significantly, expecially shakespeare."
   ]
  },
  {
   "cell_type": "code",
   "execution_count": 15,
   "metadata": {},
   "outputs": [
    {
     "data": {
      "text/plain": [
       "(100, 2994)"
      ]
     },
     "execution_count": 15,
     "metadata": {},
     "output_type": "execute_result"
    }
   ],
   "source": [
    "# Create features\n",
    "tfidf = TfidfVectorizer(sublinear_tf=True, min_df=5, norm='l2', encoding='latin-1', \n",
    "                        ngram_range=(1, 2), stop_words='english')\n",
    "\n",
    "features = tfidf.fit_transform(df['text'])\n",
    "features_array = features.toarray()\n",
    "labels = df['category_id']\n",
    "features_array.shape"
   ]
  },
  {
   "cell_type": "markdown",
   "metadata": {},
   "source": [
    "### Unigrams and Bigrams\n",
    "\n",
    "Once we've created our features using tf-idf, we can calculate the chi-squared values for each feature and use that to determine the words, or set of two words (bigrams), that are most significant for identifying each author. Of course the two most common words for Melville are \"captain\" and \"whale\", and for Shakespeare are \"hath\" and haue\". One can intuitively see how the algorithm can differentiate between the authors."
   ]
  },
  {
   "cell_type": "code",
   "execution_count": 16,
   "metadata": {
    "scrolled": true
   },
   "outputs": [
    {
     "name": "stdout",
     "output_type": "stream",
     "text": [
      "# 'austen':\n",
      "  . Most correlated unigrams:\n",
      ". edward\n",
      ". elizabeth\n",
      "  . Most correlated bigrams:\n",
      ". dear mr\n",
      ". dare say\n",
      "# 'burgess':\n",
      "  . Most correlated unigrams:\n",
      ". frog\n",
      ". reddy\n",
      "  . Most correlated bigrams:\n",
      ". reddy fox\n",
      ". peter rabbit\n",
      "# 'chesterton':\n",
      "  . Most correlated unigrams:\n",
      ". ultimate\n",
      ". philosophy\n",
      "  . Most correlated bigrams:\n",
      ". thing world\n",
      ". looked like\n",
      "# 'dickens':\n",
      "  . Most correlated unigrams:\n",
      ". accounts\n",
      ". authorities\n",
      "  . Most correlated bigrams:\n",
      ". eyes like\n",
      ". little man\n",
      "# 'melville':\n",
      "  . Most correlated unigrams:\n",
      ". captain\n",
      ". whale\n",
      "  . Most correlated bigrams:\n",
      ". day long\n",
      ". round round\n",
      "# 'shakespeare':\n",
      "  . Most correlated unigrams:\n",
      ". haue\n",
      ". hath\n",
      "  . Most correlated bigrams:\n",
      ". thou art\n",
      ". thou hast\n",
      "# 'tolstoy':\n",
      "  . Most correlated unigrams:\n",
      ". soldiers\n",
      ". christianity\n",
      "  . Most correlated bigrams:\n",
      ". went away\n",
      ". tall man\n",
      "# 'twain':\n",
      "  . Most correlated unigrams:\n",
      ". hotel\n",
      ". dog\n",
      "  . Most correlated bigrams:\n",
      ". thousand miles\n",
      ". new york\n",
      "# 'wells':\n",
      "  . Most correlated unigrams:\n",
      ". coal\n",
      ". machine\n",
      "  . Most correlated bigrams:\n",
      ". sir said\n",
      ". thousand years\n",
      "# 'wilde':\n",
      "  . Most correlated unigrams:\n",
      ". moon\n",
      ". marvellous\n",
      "  . Most correlated bigrams:\n",
      ". quite true\n",
      ". important thing\n"
     ]
    }
   ],
   "source": [
    "# Pring the unigrams and bigrams for each label showing the most correlated words for each author\n",
    "N = 2\n",
    "for text, category_id in sorted(category_to_id.items()):\n",
    "    features_chi2 = chi2(features_array, labels == category_id)\n",
    "    indices =np.argsort(features_chi2[0])\n",
    "    feature_names = np.array(tfidf.get_feature_names())[indices]\n",
    "    unigrams = [v for v in feature_names if len(v.split(' '))==1]\n",
    "    bigrams = [v for v in feature_names if len(v.split(' '))==2]\n",
    "    print(\"# '{}':\".format(text))\n",
    "    print(\"  . Most correlated unigrams:\\n. {}\".format('\\n. '.join(unigrams[-N:])))\n",
    "    print(\"  . Most correlated bigrams:\\n. {}\".format('\\n. '.join(bigrams[-N:]))) \n"
   ]
  },
  {
   "cell_type": "code",
   "execution_count": 17,
   "metadata": {},
   "outputs": [
    {
     "data": {
      "text/html": [
       "<div>\n",
       "<style scoped>\n",
       "    .dataframe tbody tr th:only-of-type {\n",
       "        vertical-align: middle;\n",
       "    }\n",
       "\n",
       "    .dataframe tbody tr th {\n",
       "        vertical-align: top;\n",
       "    }\n",
       "\n",
       "    .dataframe thead th {\n",
       "        text-align: right;\n",
       "    }\n",
       "</style>\n",
       "<table border=\"1\" class=\"dataframe\">\n",
       "  <thead>\n",
       "    <tr style=\"text-align: right;\">\n",
       "      <th></th>\n",
       "      <th>0</th>\n",
       "      <th>1</th>\n",
       "      <th>2</th>\n",
       "      <th>3</th>\n",
       "      <th>4</th>\n",
       "      <th>5</th>\n",
       "      <th>6</th>\n",
       "      <th>7</th>\n",
       "      <th>8</th>\n",
       "      <th>9</th>\n",
       "      <th>...</th>\n",
       "      <th>90</th>\n",
       "      <th>91</th>\n",
       "      <th>92</th>\n",
       "      <th>93</th>\n",
       "      <th>94</th>\n",
       "      <th>95</th>\n",
       "      <th>96</th>\n",
       "      <th>97</th>\n",
       "      <th>98</th>\n",
       "      <th>99</th>\n",
       "    </tr>\n",
       "  </thead>\n",
       "  <tbody>\n",
       "    <tr>\n",
       "      <th>0</th>\n",
       "      <td>1.000000</td>\n",
       "      <td>0.174756</td>\n",
       "      <td>0.163797</td>\n",
       "      <td>0.149543</td>\n",
       "      <td>0.228071</td>\n",
       "      <td>0.124736</td>\n",
       "      <td>0.227913</td>\n",
       "      <td>0.294190</td>\n",
       "      <td>0.129529</td>\n",
       "      <td>0.186244</td>\n",
       "      <td>...</td>\n",
       "      <td>0.288862</td>\n",
       "      <td>0.258044</td>\n",
       "      <td>0.335944</td>\n",
       "      <td>0.123132</td>\n",
       "      <td>0.131128</td>\n",
       "      <td>0.172851</td>\n",
       "      <td>0.140736</td>\n",
       "      <td>0.111098</td>\n",
       "      <td>0.129556</td>\n",
       "      <td>0.112961</td>\n",
       "    </tr>\n",
       "    <tr>\n",
       "      <th>1</th>\n",
       "      <td>0.174756</td>\n",
       "      <td>1.000000</td>\n",
       "      <td>0.188997</td>\n",
       "      <td>0.105708</td>\n",
       "      <td>0.152530</td>\n",
       "      <td>0.127569</td>\n",
       "      <td>0.152198</td>\n",
       "      <td>0.165047</td>\n",
       "      <td>0.093593</td>\n",
       "      <td>0.198898</td>\n",
       "      <td>...</td>\n",
       "      <td>0.188977</td>\n",
       "      <td>0.139189</td>\n",
       "      <td>0.163194</td>\n",
       "      <td>0.090882</td>\n",
       "      <td>0.125112</td>\n",
       "      <td>0.116469</td>\n",
       "      <td>0.150251</td>\n",
       "      <td>0.296830</td>\n",
       "      <td>0.282389</td>\n",
       "      <td>0.113797</td>\n",
       "    </tr>\n",
       "    <tr>\n",
       "      <th>2</th>\n",
       "      <td>0.163797</td>\n",
       "      <td>0.188997</td>\n",
       "      <td>1.000000</td>\n",
       "      <td>0.130079</td>\n",
       "      <td>0.146052</td>\n",
       "      <td>0.105186</td>\n",
       "      <td>0.160221</td>\n",
       "      <td>0.158874</td>\n",
       "      <td>0.086626</td>\n",
       "      <td>0.176914</td>\n",
       "      <td>...</td>\n",
       "      <td>0.230821</td>\n",
       "      <td>0.125053</td>\n",
       "      <td>0.205018</td>\n",
       "      <td>0.199841</td>\n",
       "      <td>0.137519</td>\n",
       "      <td>0.158702</td>\n",
       "      <td>0.159837</td>\n",
       "      <td>0.142361</td>\n",
       "      <td>0.117324</td>\n",
       "      <td>0.093289</td>\n",
       "    </tr>\n",
       "    <tr>\n",
       "      <th>3</th>\n",
       "      <td>0.149543</td>\n",
       "      <td>0.105708</td>\n",
       "      <td>0.130079</td>\n",
       "      <td>1.000000</td>\n",
       "      <td>0.145430</td>\n",
       "      <td>0.092813</td>\n",
       "      <td>0.100203</td>\n",
       "      <td>0.147916</td>\n",
       "      <td>0.148366</td>\n",
       "      <td>0.182259</td>\n",
       "      <td>...</td>\n",
       "      <td>0.118211</td>\n",
       "      <td>0.123425</td>\n",
       "      <td>0.103094</td>\n",
       "      <td>0.077123</td>\n",
       "      <td>0.135589</td>\n",
       "      <td>0.119579</td>\n",
       "      <td>0.139948</td>\n",
       "      <td>0.066348</td>\n",
       "      <td>0.060946</td>\n",
       "      <td>0.112341</td>\n",
       "    </tr>\n",
       "    <tr>\n",
       "      <th>4</th>\n",
       "      <td>0.228071</td>\n",
       "      <td>0.152530</td>\n",
       "      <td>0.146052</td>\n",
       "      <td>0.145430</td>\n",
       "      <td>1.000000</td>\n",
       "      <td>0.159713</td>\n",
       "      <td>0.204553</td>\n",
       "      <td>0.219112</td>\n",
       "      <td>0.135916</td>\n",
       "      <td>0.160683</td>\n",
       "      <td>...</td>\n",
       "      <td>0.192315</td>\n",
       "      <td>0.207057</td>\n",
       "      <td>0.246321</td>\n",
       "      <td>0.086723</td>\n",
       "      <td>0.121146</td>\n",
       "      <td>0.178339</td>\n",
       "      <td>0.143317</td>\n",
       "      <td>0.139100</td>\n",
       "      <td>0.133655</td>\n",
       "      <td>0.146286</td>\n",
       "    </tr>\n",
       "  </tbody>\n",
       "</table>\n",
       "<p>5 rows × 100 columns</p>\n",
       "</div>"
      ],
      "text/plain": [
       "         0         1         2         3         4         5         6   \\\n",
       "0  1.000000  0.174756  0.163797  0.149543  0.228071  0.124736  0.227913   \n",
       "1  0.174756  1.000000  0.188997  0.105708  0.152530  0.127569  0.152198   \n",
       "2  0.163797  0.188997  1.000000  0.130079  0.146052  0.105186  0.160221   \n",
       "3  0.149543  0.105708  0.130079  1.000000  0.145430  0.092813  0.100203   \n",
       "4  0.228071  0.152530  0.146052  0.145430  1.000000  0.159713  0.204553   \n",
       "\n",
       "         7         8         9     ...           90        91        92  \\\n",
       "0  0.294190  0.129529  0.186244    ...     0.288862  0.258044  0.335944   \n",
       "1  0.165047  0.093593  0.198898    ...     0.188977  0.139189  0.163194   \n",
       "2  0.158874  0.086626  0.176914    ...     0.230821  0.125053  0.205018   \n",
       "3  0.147916  0.148366  0.182259    ...     0.118211  0.123425  0.103094   \n",
       "4  0.219112  0.135916  0.160683    ...     0.192315  0.207057  0.246321   \n",
       "\n",
       "         93        94        95        96        97        98        99  \n",
       "0  0.123132  0.131128  0.172851  0.140736  0.111098  0.129556  0.112961  \n",
       "1  0.090882  0.125112  0.116469  0.150251  0.296830  0.282389  0.113797  \n",
       "2  0.199841  0.137519  0.158702  0.159837  0.142361  0.117324  0.093289  \n",
       "3  0.077123  0.135589  0.119579  0.139948  0.066348  0.060946  0.112341  \n",
       "4  0.086723  0.121146  0.178339  0.143317  0.139100  0.133655  0.146286  \n",
       "\n",
       "[5 rows x 100 columns]"
      ]
     },
     "execution_count": 17,
     "metadata": {},
     "output_type": "execute_result"
    }
   ],
   "source": [
    "# Convert to Compressed Sparse Row (CSR) format\n",
    "features_csr = features.tocsr()\n",
    "\n",
    "# Create an empty similarity table for the texts\n",
    "sim_table = pd.DataFrame(columns=np.arange(100), index = np.arange(100))\n",
    "\n",
    "# Popularte the similarity table with the cosine similarity values\n",
    "# Indices and columns correspond to the original list indices of the 105 texts\n",
    "for i in range(len(sim_table.columns)):\n",
    "    sim_table[i] = [(1 - spatial.distance.cosine(features_csr[i].toarray(), features_csr[j].toarray()))\n",
    "                     for j in range(0,100)]\n",
    "    \n",
    "# Visualize similarity table containing cosine values\n",
    "sim_table.head()"
   ]
  },
  {
   "cell_type": "markdown",
   "metadata": {},
   "source": [
    "### Visualize Similarity Between Texts\n",
    "\n",
    "Let's visualize how similar the texts are by calculating the cosine values of the angle between each of the vectors. Below, we populated a dataframe with the cosine values between each text, and used that information to generate a heatmap that can give us a sense of how similar each text is to another."
   ]
  },
  {
   "cell_type": "code",
   "execution_count": 18,
   "metadata": {},
   "outputs": [
    {
     "name": "stdout",
     "output_type": "stream",
     "text": [
      "vmax: 0.5562970560304841\n",
      "vmin: 0.059977065120693784\n"
     ]
    }
   ],
   "source": [
    "# Calculate vmax and vmin\n",
    "col_maxes = [sim_table[i].sort_values(ascending=False).reset_index()[i][1] \n",
    "             for i in range(0, len(sim_table))]\n",
    "v_max = np.max(col_maxes)\n",
    "\n",
    "col_mins = [sim_table[i].sort_values(ascending=True)[0] for i in range(0, len(sim_table))]\n",
    "v_min = np.min(col_mins)\n",
    "\n",
    "print('vmax: {}'.format(v_max))\n",
    "print('vmin: {}'.format(v_min))"
   ]
  },
  {
   "cell_type": "code",
   "execution_count": 19,
   "metadata": {
    "scrolled": true
   },
   "outputs": [
    {
     "data": {
      "image/png": "[encoded data removed]",
      "text/plain": [
       "<Figure size 720x720 with 2 Axes>"
      ]
     },
     "metadata": {},
     "output_type": "display_data"
    }
   ],
   "source": [
    "# Show heatmap for the correlation\n",
    "fig = plt.figure(figsize=(10,10))\n",
    "ax = sns.heatmap(sim_table, cmap=\"tab20b\", vmin=0, vmax=1)\n",
    "plt.show()"
   ]
  },
  {
   "cell_type": "markdown",
   "metadata": {},
   "source": [
    "We can see from the heatmap that, in general, most texts do not correlate with one another. However, there are some \"orange\" squares representing the highest amount of similiraties that are scattered around the map. Hopefully these squares represent the similarities between texts from the same author, especially those of shakespeare."
   ]
  },
  {
   "cell_type": "markdown",
   "metadata": {},
   "source": [
    "# Multi-Class Text Classification: KMeans vs. Spectral Clustering\n",
    "\n",
    "First, we're going to impliment two clustering algorithms, k-means and spectral clustering, and evaluate their performance agaisnt each other. Then we'll choose the algorithm that performs the best and compare that to our supervised learning algorithms for classifying the texts."
   ]
  },
  {
   "cell_type": "code",
   "execution_count": 20,
   "metadata": {},
   "outputs": [
    {
     "data": {
      "image/png": "[encoded data removed]",
      "text/plain": [
       "<Figure size 432x288 with 1 Axes>"
      ]
     },
     "metadata": {},
     "output_type": "display_data"
    }
   ],
   "source": [
    "# Split into training and test set and create features using tfidf\n",
    "tfidf = TfidfVectorizer(sublinear_tf=True, min_df=5, norm='l2', encoding='latin-1', \n",
    "                        ngram_range=(1, 2), stop_words='english')\n",
    "\n",
    "features = tfidf.fit_transform(df['text'])\n",
    "features_array = features.toarray()\n",
    "features_df = pd.DataFrame(features_array)\n",
    "labels = df['category_id']\n",
    "\n",
    "x_train, x_test, y_train, y_test = train_test_split(features_df, labels, test_size=0.25, random_state=42)\n",
    "\n",
    "# Impliment Kmeans algorithm on full data set\n",
    "y_pred = KMeans(n_clusters=10, random_state=43).fit_predict(x_train)\n",
    "\n",
    "# Plot the solution.\n",
    "plt.scatter(x_train.values[:, 0], x_train.values[:, 1], c=y_pred)\n",
    "plt.show()"
   ]
  },
  {
   "cell_type": "code",
   "execution_count": 21,
   "metadata": {},
   "outputs": [
    {
     "name": "stdout",
     "output_type": "stream",
     "text": [
      "Comparing k-means clusters against the data:\n",
      "category_id  0  1  2  3  4  5  6  7  8  9\n",
      "row_0                                    \n",
      "0            0  0  0  0  0  6  0  0  0  1\n",
      "1            0  0  1  0  5  0  1  1  0  1\n",
      "2            0  0  2  0  0  0  1  0  0  1\n",
      "3            0  8  0  0  0  0  0  0  0  0\n",
      "4            7  0  0  0  1  0  1  3  0  0\n",
      "5            0  0  1  3  2  0  1  3  0  0\n",
      "6            0  0  0  0  0  3  1  0  0  1\n",
      "7            0  0  1  0  0  0  3  0  0  2\n",
      "8            0  0  2  3  0  0  0  1  0  1\n",
      "9            0  0  0  0  0  0  0  0  7  0\n"
     ]
    }
   ],
   "source": [
    "# Check the solution against the data.\n",
    "print('Comparing k-means clusters against the data:')\n",
    "print(pd.crosstab(y_pred, y_train))"
   ]
  },
  {
   "cell_type": "code",
   "execution_count": 22,
   "metadata": {},
   "outputs": [
    {
     "data": {
      "text/plain": [
       "0.3975815503143153"
      ]
     },
     "execution_count": 22,
     "metadata": {},
     "output_type": "execute_result"
    }
   ],
   "source": [
    "# Compute Adjusted Rand Score (ARI) for kmeans on train set (to compare to Spectral Clustering)\n",
    "metrics.adjusted_rand_score(y_pred, y_train)"
   ]
  },
  {
   "cell_type": "code",
   "execution_count": 23,
   "metadata": {},
   "outputs": [
    {
     "data": {
      "image/png": "[encoded data removed]",
      "text/plain": [
       "<Figure size 432x288 with 1 Axes>"
      ]
     },
     "metadata": {},
     "output_type": "display_data"
    }
   ],
   "source": [
    "# Predict on hold-out group using kmeans\n",
    "kmeans = KMeans(n_clusters=10, random_state=43).fit(x_train, y_train)\n",
    "y_pred = kmeans.predict(x_test)\n",
    "\n",
    "# Plot the solution.\n",
    "plt.scatter(x_test.values[:, 0], x_test.values[:, 1], c=y_pred)\n",
    "plt.show()"
   ]
  },
  {
   "cell_type": "code",
   "execution_count": 24,
   "metadata": {},
   "outputs": [
    {
     "name": "stdout",
     "output_type": "stream",
     "text": [
      "Comparing k-means clusters against the data:\n",
      "category_id  0  1  2  3  4  5  6  7  8  9\n",
      "row_0                                    \n",
      "1            0  0  2  0  0  0  0  0  0  2\n",
      "3            0  2  0  0  0  0  0  0  0  0\n",
      "4            3  0  0  0  1  0  0  0  0  0\n",
      "5            0  0  0  2  1  1  2  1  0  1\n",
      "8            0  0  1  2  0  0  0  1  0  0\n",
      "9            0  0  0  0  0  0  0  0  3  0\n"
     ]
    }
   ],
   "source": [
    "# Check the solution against the data.\n",
    "print('Comparing k-means clusters against the data:')\n",
    "print(pd.crosstab(y_pred, y_test))"
   ]
  },
  {
   "cell_type": "code",
   "execution_count": 25,
   "metadata": {},
   "outputs": [
    {
     "data": {
      "text/plain": [
       "0.25773195876288657"
      ]
     },
     "execution_count": 25,
     "metadata": {},
     "output_type": "execute_result"
    }
   ],
   "source": [
    "# Compute Adjusted Rand Score (ARI) for Kmeans on test set\n",
    "metrics.adjusted_rand_score(y_pred, y_test)"
   ]
  },
  {
   "cell_type": "code",
   "execution_count": 26,
   "metadata": {},
   "outputs": [
    {
     "data": {
      "image/png": "[encoded data removed]",
      "text/plain": [
       "<Figure size 432x288 with 1 Axes>"
      ]
     },
     "metadata": {},
     "output_type": "display_data"
    }
   ],
   "source": [
    "# Impliment Spectral Clustering\n",
    "# define number of clusters to 10 clusters (number of authors/ labels)\n",
    "n_clusters=10\n",
    "\n",
    "# Declare and fit the model.\n",
    "y_pred = SpectralClustering(n_clusters=n_clusters).fit_predict(x_test)\n",
    "\n",
    "# Plot the solution.\n",
    "plt.scatter(x_test.values[:, 0], x_test.values[:, 1], c=y_pred)\n",
    "plt.show()"
   ]
  },
  {
   "cell_type": "code",
   "execution_count": 27,
   "metadata": {
    "scrolled": false
   },
   "outputs": [
    {
     "name": "stdout",
     "output_type": "stream",
     "text": [
      "Comparing k-means clusters against the data:\n",
      "category_id  0  1  2  3  4  5  6  7  8  9\n",
      "row_0                                    \n",
      "0            1  0  0  0  1  1  0  0  0  0\n",
      "1            2  0  0  0  0  0  0  1  0  0\n",
      "2            0  0  0  0  0  0  0  0  3  0\n",
      "3            0  2  0  0  0  0  0  0  0  0\n",
      "4            0  0  2  0  0  0  0  0  0  0\n",
      "5            0  0  0  2  0  0  0  0  0  0\n",
      "6            0  0  0  0  0  0  2  0  0  0\n",
      "7            0  0  1  1  0  0  0  1  0  0\n",
      "8            0  0  0  0  1  0  0  0  0  2\n",
      "9            0  0  0  1  0  0  0  0  0  1\n"
     ]
    }
   ],
   "source": [
    "# Check the solution against the data.\n",
    "print('Comparing k-means clusters against the data:')\n",
    "print(pd.crosstab(y_pred, y_test))"
   ]
  },
  {
   "cell_type": "code",
   "execution_count": 28,
   "metadata": {},
   "outputs": [
    {
     "data": {
      "text/plain": [
       "0.38566552901023887"
      ]
     },
     "execution_count": 28,
     "metadata": {},
     "output_type": "execute_result"
    }
   ],
   "source": [
    "# Compute Adjusted Rand Score (ARI) for Spectral Clustering on train set (can't predict on test set)\n",
    "metrics.adjusted_rand_score(y_pred, y_test)"
   ]
  },
  {
   "cell_type": "markdown",
   "metadata": {},
   "source": [
    "### Conclusions from Clustering Algorithms\n",
    "\n",
    "In general, the clustering algorithms preformed poorly. If we look at the scatter plots, which show the centroids of the data points, we don't really gain too much information on the grouping of the features. Further more, the Adjusted Rand Indexes of both the kmeans algorithm and spectral clustering algorithm are less than 0.5, indicating more randomness than their ability to find a similarities between the features. That being said, the the spectral clustering algorithm performs better on the 25% test set, as its ARI is 0.386, than the kmeans who's ARI is merely 0.258."
   ]
  },
  {
   "cell_type": "markdown",
   "metadata": {},
   "source": [
    "# Multi-Class Text Classification: Supervised Learning Models\n",
    "\n",
    "We're now going to train 5 different supervised learning models on our data and compare their cros-validation scores to choose which algorithm classifies the text with the highest accuracy."
   ]
  },
  {
   "cell_type": "code",
   "execution_count": 29,
   "metadata": {},
   "outputs": [
    {
     "name": "stdout",
     "output_type": "stream",
     "text": [
      "Crosstab matrix of predicted vs. Actual values:\n",
      "category_id  0  1  2  3  4  5  6  7  8  9\n",
      "row_0                                    \n",
      "0            3  0  0  0  0  0  0  0  0  0\n",
      "1            0  2  0  0  0  0  0  0  0  0\n",
      "2            0  0  1  0  0  0  0  0  0  0\n",
      "4            0  0  2  0  2  0  0  0  0  2\n",
      "5            0  0  0  2  0  1  2  0  0  1\n",
      "7            0  0  0  2  0  0  0  2  0  0\n",
      "8            0  0  0  0  0  0  0  0  3  0\n"
     ]
    }
   ],
   "source": [
    "# Implimiment Multinomial Naive Bayes Classifier\n",
    "clf = MultinomialNB().fit(x_train, y_train)\n",
    "y_pred = clf.predict(x_test)\n",
    "\n",
    "# Check the solution against the data\n",
    "print('Crosstab matrix of predicted vs. Actual values:')\n",
    "print(pd.crosstab(y_pred, y_test))"
   ]
  },
  {
   "cell_type": "code",
   "execution_count": 30,
   "metadata": {},
   "outputs": [
    {
     "name": "stderr",
     "output_type": "stream",
     "text": [
      "/usr/local/lib/python3.7/site-packages/sklearn/linear_model/logistic.py:432: FutureWarning: Default solver will be changed to 'lbfgs' in 0.22. Specify a solver to silence this warning.\n",
      "  FutureWarning)\n",
      "/usr/local/lib/python3.7/site-packages/sklearn/linear_model/logistic.py:459: FutureWarning: Default multi_class will be changed to 'auto' in 0.22. Specify the multi_class option to silence this warning.\n",
      "  \"this warning.\", FutureWarning)\n",
      "/usr/local/lib/python3.7/site-packages/sklearn/linear_model/logistic.py:432: FutureWarning: Default solver will be changed to 'lbfgs' in 0.22. Specify a solver to silence this warning.\n",
      "  FutureWarning)\n",
      "/usr/local/lib/python3.7/site-packages/sklearn/linear_model/logistic.py:459: FutureWarning: Default multi_class will be changed to 'auto' in 0.22. Specify the multi_class option to silence this warning.\n",
      "  \"this warning.\", FutureWarning)\n",
      "/usr/local/lib/python3.7/site-packages/sklearn/linear_model/logistic.py:432: FutureWarning: Default solver will be changed to 'lbfgs' in 0.22. Specify a solver to silence this warning.\n",
      "  FutureWarning)\n",
      "/usr/local/lib/python3.7/site-packages/sklearn/linear_model/logistic.py:459: FutureWarning: Default multi_class will be changed to 'auto' in 0.22. Specify the multi_class option to silence this warning.\n",
      "  \"this warning.\", FutureWarning)\n",
      "/usr/local/lib/python3.7/site-packages/sklearn/linear_model/logistic.py:432: FutureWarning: Default solver will be changed to 'lbfgs' in 0.22. Specify a solver to silence this warning.\n",
      "  FutureWarning)\n",
      "/usr/local/lib/python3.7/site-packages/sklearn/linear_model/logistic.py:459: FutureWarning: Default multi_class will be changed to 'auto' in 0.22. Specify the multi_class option to silence this warning.\n",
      "  \"this warning.\", FutureWarning)\n",
      "/usr/local/lib/python3.7/site-packages/sklearn/linear_model/logistic.py:432: FutureWarning: Default solver will be changed to 'lbfgs' in 0.22. Specify a solver to silence this warning.\n",
      "  FutureWarning)\n",
      "/usr/local/lib/python3.7/site-packages/sklearn/linear_model/logistic.py:459: FutureWarning: Default multi_class will be changed to 'auto' in 0.22. Specify the multi_class option to silence this warning.\n",
      "  \"this warning.\", FutureWarning)\n"
     ]
    }
   ],
   "source": [
    "# Instantiate multiple Classifier models to compare\n",
    "models = [RandomForestClassifier(n_estimators=200, max_depth=3, random_state=42), LinearSVC(), \n",
    "          MultinomialNB(), LogisticRegression(random_state=42), GradientBoostingClassifier(n_estimators=500, random_state=42)]\n",
    "\n",
    "# Define holdout groups and dataframe to compare their accuracy scores\n",
    "CV = 5\n",
    "cv_df = pd.DataFrame(index=range(CV*len(models)))\n",
    "entries = []\n",
    "\n",
    "# Train and test each model on data for comparison\n",
    "for model in models:\n",
    "    model_name = model.__class__.__name__\n",
    "    accuracies = cross_val_score(model, features_array, labels, scoring='accuracy', cv=CV)\n",
    "    for fold_idx, accuracy in enumerate(accuracies):\n",
    "        entries.append((model_name, fold_idx, accuracy))\n",
    "\n",
    "# Populate the cross validation data frame to visualize comparison\n",
    "cv_df = pd.DataFrame(entries, columns = ['model_name', 'fold_idx', 'accuracy'])"
   ]
  },
  {
   "cell_type": "code",
   "execution_count": 31,
   "metadata": {},
   "outputs": [
    {
     "data": {
      "text/html": [
       "<div>\n",
       "<style scoped>\n",
       "    .dataframe tbody tr th:only-of-type {\n",
       "        vertical-align: middle;\n",
       "    }\n",
       "\n",
       "    .dataframe tbody tr th {\n",
       "        vertical-align: top;\n",
       "    }\n",
       "\n",
       "    .dataframe thead th {\n",
       "        text-align: right;\n",
       "    }\n",
       "</style>\n",
       "<table border=\"1\" class=\"dataframe\">\n",
       "  <thead>\n",
       "    <tr style=\"text-align: right;\">\n",
       "      <th></th>\n",
       "      <th>model_name</th>\n",
       "      <th>fold_idx</th>\n",
       "      <th>accuracy</th>\n",
       "    </tr>\n",
       "  </thead>\n",
       "  <tbody>\n",
       "    <tr>\n",
       "      <th>0</th>\n",
       "      <td>RandomForestClassifier</td>\n",
       "      <td>0</td>\n",
       "      <td>0.60</td>\n",
       "    </tr>\n",
       "    <tr>\n",
       "      <th>1</th>\n",
       "      <td>RandomForestClassifier</td>\n",
       "      <td>1</td>\n",
       "      <td>0.65</td>\n",
       "    </tr>\n",
       "    <tr>\n",
       "      <th>2</th>\n",
       "      <td>RandomForestClassifier</td>\n",
       "      <td>2</td>\n",
       "      <td>0.60</td>\n",
       "    </tr>\n",
       "    <tr>\n",
       "      <th>3</th>\n",
       "      <td>RandomForestClassifier</td>\n",
       "      <td>3</td>\n",
       "      <td>0.90</td>\n",
       "    </tr>\n",
       "    <tr>\n",
       "      <th>4</th>\n",
       "      <td>RandomForestClassifier</td>\n",
       "      <td>4</td>\n",
       "      <td>0.65</td>\n",
       "    </tr>\n",
       "    <tr>\n",
       "      <th>5</th>\n",
       "      <td>LinearSVC</td>\n",
       "      <td>0</td>\n",
       "      <td>0.80</td>\n",
       "    </tr>\n",
       "    <tr>\n",
       "      <th>6</th>\n",
       "      <td>LinearSVC</td>\n",
       "      <td>1</td>\n",
       "      <td>0.90</td>\n",
       "    </tr>\n",
       "    <tr>\n",
       "      <th>7</th>\n",
       "      <td>LinearSVC</td>\n",
       "      <td>2</td>\n",
       "      <td>0.95</td>\n",
       "    </tr>\n",
       "    <tr>\n",
       "      <th>8</th>\n",
       "      <td>LinearSVC</td>\n",
       "      <td>3</td>\n",
       "      <td>0.95</td>\n",
       "    </tr>\n",
       "    <tr>\n",
       "      <th>9</th>\n",
       "      <td>LinearSVC</td>\n",
       "      <td>4</td>\n",
       "      <td>0.90</td>\n",
       "    </tr>\n",
       "    <tr>\n",
       "      <th>10</th>\n",
       "      <td>MultinomialNB</td>\n",
       "      <td>0</td>\n",
       "      <td>0.75</td>\n",
       "    </tr>\n",
       "    <tr>\n",
       "      <th>11</th>\n",
       "      <td>MultinomialNB</td>\n",
       "      <td>1</td>\n",
       "      <td>0.85</td>\n",
       "    </tr>\n",
       "    <tr>\n",
       "      <th>12</th>\n",
       "      <td>MultinomialNB</td>\n",
       "      <td>2</td>\n",
       "      <td>0.85</td>\n",
       "    </tr>\n",
       "    <tr>\n",
       "      <th>13</th>\n",
       "      <td>MultinomialNB</td>\n",
       "      <td>3</td>\n",
       "      <td>0.95</td>\n",
       "    </tr>\n",
       "    <tr>\n",
       "      <th>14</th>\n",
       "      <td>MultinomialNB</td>\n",
       "      <td>4</td>\n",
       "      <td>0.85</td>\n",
       "    </tr>\n",
       "    <tr>\n",
       "      <th>15</th>\n",
       "      <td>LogisticRegression</td>\n",
       "      <td>0</td>\n",
       "      <td>0.80</td>\n",
       "    </tr>\n",
       "    <tr>\n",
       "      <th>16</th>\n",
       "      <td>LogisticRegression</td>\n",
       "      <td>1</td>\n",
       "      <td>0.90</td>\n",
       "    </tr>\n",
       "    <tr>\n",
       "      <th>17</th>\n",
       "      <td>LogisticRegression</td>\n",
       "      <td>2</td>\n",
       "      <td>0.90</td>\n",
       "    </tr>\n",
       "    <tr>\n",
       "      <th>18</th>\n",
       "      <td>LogisticRegression</td>\n",
       "      <td>3</td>\n",
       "      <td>0.95</td>\n",
       "    </tr>\n",
       "    <tr>\n",
       "      <th>19</th>\n",
       "      <td>LogisticRegression</td>\n",
       "      <td>4</td>\n",
       "      <td>0.85</td>\n",
       "    </tr>\n",
       "    <tr>\n",
       "      <th>20</th>\n",
       "      <td>GradientBoostingClassifier</td>\n",
       "      <td>0</td>\n",
       "      <td>0.60</td>\n",
       "    </tr>\n",
       "    <tr>\n",
       "      <th>21</th>\n",
       "      <td>GradientBoostingClassifier</td>\n",
       "      <td>1</td>\n",
       "      <td>0.40</td>\n",
       "    </tr>\n",
       "    <tr>\n",
       "      <th>22</th>\n",
       "      <td>GradientBoostingClassifier</td>\n",
       "      <td>2</td>\n",
       "      <td>0.30</td>\n",
       "    </tr>\n",
       "    <tr>\n",
       "      <th>23</th>\n",
       "      <td>GradientBoostingClassifier</td>\n",
       "      <td>3</td>\n",
       "      <td>0.35</td>\n",
       "    </tr>\n",
       "    <tr>\n",
       "      <th>24</th>\n",
       "      <td>GradientBoostingClassifier</td>\n",
       "      <td>4</td>\n",
       "      <td>0.60</td>\n",
       "    </tr>\n",
       "  </tbody>\n",
       "</table>\n",
       "</div>"
      ],
      "text/plain": [
       "                    model_name  fold_idx  accuracy\n",
       "0       RandomForestClassifier         0      0.60\n",
       "1       RandomForestClassifier         1      0.65\n",
       "2       RandomForestClassifier         2      0.60\n",
       "3       RandomForestClassifier         3      0.90\n",
       "4       RandomForestClassifier         4      0.65\n",
       "5                    LinearSVC         0      0.80\n",
       "6                    LinearSVC         1      0.90\n",
       "7                    LinearSVC         2      0.95\n",
       "8                    LinearSVC         3      0.95\n",
       "9                    LinearSVC         4      0.90\n",
       "10               MultinomialNB         0      0.75\n",
       "11               MultinomialNB         1      0.85\n",
       "12               MultinomialNB         2      0.85\n",
       "13               MultinomialNB         3      0.95\n",
       "14               MultinomialNB         4      0.85\n",
       "15          LogisticRegression         0      0.80\n",
       "16          LogisticRegression         1      0.90\n",
       "17          LogisticRegression         2      0.90\n",
       "18          LogisticRegression         3      0.95\n",
       "19          LogisticRegression         4      0.85\n",
       "20  GradientBoostingClassifier         0      0.60\n",
       "21  GradientBoostingClassifier         1      0.40\n",
       "22  GradientBoostingClassifier         2      0.30\n",
       "23  GradientBoostingClassifier         3      0.35\n",
       "24  GradientBoostingClassifier         4      0.60"
      ]
     },
     "execution_count": 31,
     "metadata": {},
     "output_type": "execute_result"
    }
   ],
   "source": [
    "# View mean accuracy scores of each model\n",
    "cv_df"
   ]
  },
  {
   "cell_type": "code",
   "execution_count": 32,
   "metadata": {},
   "outputs": [
    {
     "data": {
      "text/plain": [
       "model_name\n",
       "GradientBoostingClassifier    0.45\n",
       "LinearSVC                     0.90\n",
       "LogisticRegression            0.88\n",
       "MultinomialNB                 0.85\n",
       "RandomForestClassifier        0.68\n",
       "Name: accuracy, dtype: float64"
      ]
     },
     "execution_count": 32,
     "metadata": {},
     "output_type": "execute_result"
    }
   ],
   "source": [
    "# View mean accuracy scores of each model\n",
    "cv_df.groupby('model_name').accuracy.mean()"
   ]
  },
  {
   "cell_type": "markdown",
   "metadata": {},
   "source": [
    "From all the models we've implimented, the Linear Support Vector Classifer performs with the highest accuracy on average across all hold-out groups at 90%. And although the model performs well consistently, our CV data frame shows one low out-lying accuracy score at 80%.\n",
    "\n",
    "That being said, we're going to continue withe the Linear SVC model and test it on our 25% hold-out group to see how it performs."
   ]
  },
  {
   "cell_type": "code",
   "execution_count": 33,
   "metadata": {},
   "outputs": [
    {
     "name": "stdout",
     "output_type": "stream",
     "text": [
      "Accuracy: 0.88\n"
     ]
    },
    {
     "data": {
      "image/png": "[encoded data removed]",
      "text/plain": [
       "<Figure size 720x720 with 2 Axes>"
      ]
     },
     "metadata": {},
     "output_type": "display_data"
    }
   ],
   "source": [
    "# Since Linear Support Vector Machine showed the best results, train and test the model on a 25% holdout group\n",
    "model = LinearSVC()\n",
    "\n",
    "x_train, x_test, y_train, y_test, indices_train, indices_test = train_test_split(features_array, labels, df.index, test_size=0.25, random_state=42)\n",
    "model.fit(x_train, y_train)\n",
    "y_pred = model.predict(x_test)\n",
    "\n",
    "# Accuracy\n",
    "print('Accuracy: ' + str(model.score(x_test, y_test)))\n",
    "\n",
    "# Visualize Confusion matrix on heatmap to see how well we classified the texts compared to the actual\n",
    "conf_mat = confusion_matrix(y_test, y_pred)\n",
    "fig, ax = plt.subplots(figsize=(10,10))\n",
    "sns.heatmap(conf_mat, annot=True, fmt='d',\n",
    "            xticklabels=category_id_df.author.values, yticklabels=category_id_df.author.values)\n",
    "plt.ylabel('Actual')\n",
    "plt.xlabel('Predicted')\n",
    "plt.show()"
   ]
  },
  {
   "cell_type": "markdown",
   "metadata": {},
   "source": [
    "Above, we've generated a heatmap that represents a confusion matrix to visualize how often our model correctly classifies the the text, with the prediction on the x-axis and the actual on the y-axis. As we can see, our model actually performs quite well since most of our predictions are on the diagonal. However, we wrongly predicted \"Melville\" once and \"Dickens\" twice as \"Chesterton\" and \"Tolstoy\" respectively. It's worth taking another look at these texts to see why that might be."
   ]
  },
  {
   "cell_type": "code",
   "execution_count": 34,
   "metadata": {},
   "outputs": [
    {
     "name": "stdout",
     "output_type": "stream",
     "text": [
      "'tolstoy' predicted as 'dickens' : 2 examples.\n"
     ]
    },
    {
     "data": {
      "text/html": [
       "<div>\n",
       "<style scoped>\n",
       "    .dataframe tbody tr th:only-of-type {\n",
       "        vertical-align: middle;\n",
       "    }\n",
       "\n",
       "    .dataframe tbody tr th {\n",
       "        vertical-align: top;\n",
       "    }\n",
       "\n",
       "    .dataframe thead th {\n",
       "        text-align: right;\n",
       "    }\n",
       "</style>\n",
       "<table border=\"1\" class=\"dataframe\">\n",
       "  <thead>\n",
       "    <tr style=\"text-align: right;\">\n",
       "      <th></th>\n",
       "      <th>author</th>\n",
       "      <th>text</th>\n",
       "    </tr>\n",
       "  </thead>\n",
       "  <tbody>\n",
       "    <tr>\n",
       "      <th>44</th>\n",
       "      <td>tolstoy</td>\n",
       "      <td>warden pressed door head woman  disappeared  i...</td>\n",
       "    </tr>\n",
       "    <tr>\n",
       "      <th>18</th>\n",
       "      <td>tolstoy</td>\n",
       "      <td>jailer  ready comply order  the jailer lock do...</td>\n",
       "    </tr>\n",
       "  </tbody>\n",
       "</table>\n",
       "</div>"
      ],
      "text/plain": [
       "     author                                               text\n",
       "44  tolstoy  warden pressed door head woman  disappeared  i...\n",
       "18  tolstoy  jailer  ready comply order  the jailer lock do..."
      ]
     },
     "metadata": {},
     "output_type": "display_data"
    },
    {
     "name": "stdout",
     "output_type": "stream",
     "text": [
      "\n",
      "'chesterton' predicted as 'melville' : 1 examples.\n"
     ]
    },
    {
     "data": {
      "text/html": [
       "<div>\n",
       "<style scoped>\n",
       "    .dataframe tbody tr th:only-of-type {\n",
       "        vertical-align: middle;\n",
       "    }\n",
       "\n",
       "    .dataframe tbody tr th {\n",
       "        vertical-align: top;\n",
       "    }\n",
       "\n",
       "    .dataframe thead th {\n",
       "        text-align: right;\n",
       "    }\n",
       "</style>\n",
       "<table border=\"1\" class=\"dataframe\">\n",
       "  <thead>\n",
       "    <tr style=\"text-align: right;\">\n",
       "      <th></th>\n",
       "      <th>author</th>\n",
       "      <th>text</th>\n",
       "    </tr>\n",
       "  </thead>\n",
       "  <tbody>\n",
       "    <tr>\n",
       "      <th>69</th>\n",
       "      <td>chesterton</td>\n",
       "      <td>walked fought unknown fight and saw black tree...</td>\n",
       "    </tr>\n",
       "  </tbody>\n",
       "</table>\n",
       "</div>"
      ],
      "text/plain": [
       "        author                                               text\n",
       "69  chesterton  walked fought unknown fight and saw black tree..."
      ]
     },
     "metadata": {},
     "output_type": "display_data"
    },
    {
     "name": "stdout",
     "output_type": "stream",
     "text": [
      "\n"
     ]
    }
   ],
   "source": [
    "from IPython.display import display\n",
    "for predicted in category_id_df.category_id:\n",
    "    for actual in category_id_df.category_id:\n",
    "        if predicted != actual and conf_mat[actual, predicted] >= 1:\n",
    "            print(\"'{}' predicted as '{}' : {} examples.\".format(id_to_category[actual], id_to_category[predicted], conf_mat[actual, predicted]))\n",
    "            display(df.loc[indices_test[(y_test == actual) & (y_pred == predicted)]][['author', 'text']])\n",
    "            print('')"
   ]
  },
  {
   "cell_type": "code",
   "execution_count": 35,
   "metadata": {},
   "outputs": [
    {
     "name": "stdout",
     "output_type": "stream",
     "text": [
      "              precision    recall  f1-score   support\n",
      "\n",
      "      austen       1.00      1.00      1.00         3\n",
      " shakespeare       1.00      1.00      1.00         2\n",
      "     tolstoy       1.00      0.33      0.50         3\n",
      "  chesterton       1.00      0.75      0.86         4\n",
      "     dickens       0.50      1.00      0.67         2\n",
      "    melville       0.50      1.00      0.67         1\n",
      "       twain       1.00      1.00      1.00         2\n",
      "       wilde       1.00      1.00      1.00         2\n",
      "     burgess       1.00      1.00      1.00         3\n",
      "       wells       1.00      1.00      1.00         3\n",
      "\n",
      "   micro avg       0.88      0.88      0.88        25\n",
      "   macro avg       0.90      0.91      0.87        25\n",
      "weighted avg       0.94      0.88      0.88        25\n",
      "\n"
     ]
    }
   ],
   "source": [
    "# View accuracy scores on classifying each author (precission, recall, f1-score and support)\n",
    "print(metrics.classification_report(y_test, y_pred, target_names=df['author'].unique()))"
   ]
  },
  {
   "cell_type": "markdown",
   "metadata": {},
   "source": [
    "To further evaluate our models performance, the above table shows us the precision, recall, f1-score and support values for predicting the text to each author. We can see that our model performs well over-all, however certain classes are predicted poorly. For example, predicting \"Tolstoy\" has an especially poor recall value at 33%, meaning that it only correctly predicted 33% of the \"Tolstoy\" texts present in the model. \"Dickens\" and \"Melville\" also show poor precision values at 50%, meaning that our model predicted \"False Positives\" about half the time."
   ]
  },
  {
   "cell_type": "markdown",
   "metadata": {},
   "source": [
    "# Conclusions\n",
    "\n",
    "From our investigation I can conclude that the clustering algorithms performed far worse than any of the supervised learning models in classifying our texts to correct authors. The Adjusted Rand Index for both Spectral Clustering and the KMeans algorithm were both below 0.5, indicating more randomness in their prediction than agreement between predicted and actual.\n",
    "\n",
    "To improve the performance of the clustering algorithms, it may require a larger and more diverse dataset that we can train the models on so that the algorithm can decide on more distinct centroids to group the features around. If we had less classes or authors and more texts, for example 5 authors with 100 texts, then the algorithm has more data to for each centroid to group the data points around and differentiate the groups more distictly. However at only 10 texts per author with 100 authors, it's likely not enough information for the clusters to define their boundaries.\n",
    "\n",
    "Our Linear Support Vector Classifier, on the other hand, performed extremely well on our test group. It classifies our texts with 88% accuracy. Our cross-validation average score is 90%. Our precision is 94% and both recall and f1-scores on average at 88% as well. So this model is also consistent in its predictions, and reliable for use in identifying new texts written by the same authors. \n",
    "\n",
    "One limitation of this model is it's tendency to over-fit, however, we've seen from our accuracy on our cross-validation and 25% hold-out group, the model seems to handle well when provided with new information. Another limiation is the size and diversity of our dataset. Although 100 documents is quite a large corpus for training modelling. We only have 10 documents per author. Futhermore, all of the texts are novels, so there isn't much diversity in the texts. If we want to more accurately determine whether an author wrote a piece of text or not, we should different types of inputs by the same authors so that the model can make predictions on different types of texts, such as short-stories, memoirs. If implimimented the model on modern authors, we can train the model on social media posts and blogs as well. Finally, the 6,000 to the 18,000 character was used as a representative sample, instead of the whole text. If we had more computing power, we should train our model on the text."
   ]
  },
  {
   "cell_type": "code",
   "execution_count": null,
   "metadata": {},
   "outputs": [],
   "source": []
  }
 ],
 "metadata": {
  "kernelspec": {
   "display_name": "Python 3",
   "language": "python",
   "name": "python3"
  },
  "language_info": {
   "codemirror_mode": {
    "name": "ipython",
    "version": 3
   },
   "file_extension": ".py",
   "mimetype": "text/x-python",
   "name": "python",
   "nbconvert_exporter": "python",
   "pygments_lexer": "ipython3",
   "version": "3.7.0"
  }
 },
 "nbformat": 4,
 "nbformat_minor": 2
}
