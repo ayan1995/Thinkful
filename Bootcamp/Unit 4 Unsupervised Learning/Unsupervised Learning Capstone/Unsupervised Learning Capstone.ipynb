{
 "cells": [
  {
   "cell_type": "code",
   "execution_count": 1,
   "metadata": {},
   "outputs": [],
   "source": [
    "import numpy as np\n",
    "import pandas as pd\n",
    "import matplotlib.pyplot as plt\n",
    "import seaborn as sns\n",
    "import spacy\n",
    "import nltk\n",
    "import string\n",
    "from nltk.tokenize import word_tokenize\n",
    "import re\n",
    "%matplotlib inline"
   ]
  },
  {
   "cell_type": "code",
   "execution_count": 2,
   "metadata": {},
   "outputs": [],
   "source": [
    "from nltk.corpus import inaugural"
   ]
  },
  {
   "cell_type": "code",
   "execution_count": 3,
   "metadata": {},
   "outputs": [],
   "source": [
    "eisenhower = inaugural.raw('1953-Eisenhower.txt')\n",
    "kennedy = inaugural.raw('1961-Kennedy.txt')\n",
    "johnson = inaugural.raw('1965-Johnson.txt')\n",
    "nixon = inaugural.raw('1969-Nixon.txt')\n",
    "carter = inaugural.raw('1977-Carter.txt')\n",
    "reagan = inaugural.raw('1981-Reagan.txt')\n",
    "bush = inaugural.raw('1989-Bush.txt')\n",
    "clinton = inaugural.raw('1993-Clinton.txt')\n",
    "w_bush = inaugural.raw('2001-Bush.txt')\n",
    "obama = inaugural.raw('2009-Obama.txt')\n",
    "\n",
    "texts = [eisenhower, kennedy, johnson, nixon, carter, reagan, bush, clinton, w_bush, obama]\n",
    "presidents = ['Eisenhower', 'Kennedy', 'Johnson', 'Nixon', 'Carter', 'Reagan', 'Bush', 'Clinton', 'W_Bush', 'Obama']\n",
    "inaugural_speeches = ['1953-Eisenhower.txt', '1961-Kennedy.txt', '1965-Johnson.txt', '1969-Nixon.txt', '1977-Carter.txt', '1981-Reagan.txt', '1989-Bush.txt', '1993-Clinton.txt', '2001-Bush.txt', '2009-Obama.txt']\n"
   ]
  },
  {
   "cell_type": "code",
   "execution_count": 4,
   "metadata": {},
   "outputs": [],
   "source": [
    "# Utility function for standard text cleaning.\n",
    "def text_cleaner(text):\n",
    "    # Visual inspection identifies a form of punctuation spaCy does not\n",
    "    # recognize: the double dash '--'.  Better get rid of it now!\n",
    "    text = re.sub(r'--',' ',text)\n",
    "    text = re.sub(\"[\\[].*?[\\]]\", \"\", text)\n",
    "    text = ' '.join(text.split())\n",
    "    return text"
   ]
  },
  {
   "cell_type": "code",
   "execution_count": 5,
   "metadata": {},
   "outputs": [],
   "source": [
    "d={}\n",
    "i = 0\n",
    "for x in presidents:\n",
    "    d['{}'.format(x)] = text_cleaner(texts[i])\n",
    "    i += 1\n",
    "    "
   ]
  },
  {
   "cell_type": "code",
   "execution_count": 6,
   "metadata": {},
   "outputs": [
    {
     "name": "stdout",
     "output_type": "stream",
     "text": [
      "dict_keys(['Eisenhower', 'Kennedy', 'Johnson', 'Nixon', 'Carter', 'Reagan', 'Bush', 'Clinton', 'W_Bush', 'Obama'])\n"
     ]
    }
   ],
   "source": [
    "print(d.keys())"
   ]
  },
  {
   "cell_type": "code",
   "execution_count": 7,
   "metadata": {},
   "outputs": [],
   "source": [
    "nlp = spacy.load('en')\n",
    "\n",
    "for k, v in d.items():\n",
    "    d[k] = nlp(v)"
   ]
  },
  {
   "cell_type": "code",
   "execution_count": 10,
   "metadata": {},
   "outputs": [],
   "source": [
    "from collections import Counter\n",
    "\n",
    "# Utility function to calculate how frequently words appear in the text.\n",
    "def word_frequencies(text, include_stop=False):\n",
    "    \n",
    "    # Build a list of words.\n",
    "    # Strip out punctuation and, optionally, stop words.\n",
    "    words = []\n",
    "    for token in text:\n",
    "        if not token.is_punct and (not token.is_stop or include_stop):\n",
    "            words.append(token.text)\n",
    "            \n",
    "    # Build and return a Counter object containing word counts.\n",
    "    return Counter(words)"
   ]
  },
  {
   "cell_type": "code",
   "execution_count": 11,
   "metadata": {},
   "outputs": [],
   "source": [
    "for k, v in d.items():\n",
    "    d[k] = word_frequencies(v).most_common(4000)"
   ]
  },
  {
   "cell_type": "code",
   "execution_count": 12,
   "metadata": {},
   "outputs": [],
   "source": [
    "def get_tokens(txt):\n",
    "    text = (txt)\n",
    "    lowers = text.lower()\n",
    "    #remove the punctuation using the character deletion step of translate\n",
    "    no_punctuation = lowers.translate(str.maketrans('','',string.punctuation))\n",
    "    tokens = word_tokenize(no_punctuation)\n",
    "    return tokens"
   ]
  },
  {
   "cell_type": "code",
   "execution_count": 13,
   "metadata": {},
   "outputs": [
    {
     "name": "stdout",
     "output_type": "stream",
     "text": [
      "[('world', 20), ('America', 19), ('people', 12), (\"'s\", 10), ('change', 9), ('new', 9), ('Americans', 9), ('We', 8), ('today', 7), ('time', 7), ('I', 7), ('work', 6), ('fellow', 5), ('American', 5), ('nation', 5), ('Let', 5), ('idea', 5), ('renewal', 4), ('democracy', 4), ('generation', 4), ('service', 4), ('millions', 4), ('season', 4), ('To', 4), ('government', 4), ('let', 4), ('The', 4), ('celebrate', 3), ('This', 3), ('spring', 3), ('When', 3), ('sake', 3), ('sacrifice', 3), ('Today', 3), ('freedom', 3), ('economy', 3), ('better', 3), ('children', 3), ('challenges', 3), ('need', 3), ('Our', 3), ('There', 3), ('And', 3), ('renew', 3), ('It', 3), ('way', 3), ('capitol', 3), ('resolve', 3), ('congress', 3), ('My', 2), ('citizens', 2), ('ceremony', 2), ('force', 2), ('forth', 2), ('vision', 2), ('founders', 2), ('Not', 2), ('preserve', 2), ('ideals', 2), ('life', 2), ('Though', 2), ('mission', 2), ('raised', 2), ('War', 2), ('responsibilities', 2), ('Now', 2), ('peaceful', 2), ('powerful', 2), ('friend', 2), ('lives', 2), ('compete', 2), ('care', 2), ('families', 2), ('lead', 2), ('face', 2), ('From', 2), ('Civil', 2), ('bold', 2), ('opportunity', 2), ('posterity', 2), ('responsibility', 2), ('communities', 2), ('place', 2), ('power', 2), ('longer', 2), ('called', 2), ('home', 2), ('old', 2), ('act', 2), ('serving', 2), ('stand', 2), ('cause', 2), ('changed', 2), ('challenge', 2), ('faith', 2), ('journey', 2), ('God', 2), ('mystery', 1), ('held', 1), ('depth', 1), ('winter', 1), ('words', 1), ('speak', 1), ('faces', 1), ('A', 1), ('reborn', 1), ('oldest', 1), ('brings', 1), ('courage', 1), ('reinvent', 1), ('boldly', 1), ('declared', 1), ('independence', 1), ('purposes', 1), ('Almighty', 1), ('knew', 1), ('endure', 1), ('liberty', 1), ('pursuit', 1), ('happiness', 1), ('march', 1), ('music', 1), ('timeless', 1), ('Each', 1), ('define', 1), ('means', 1), ('On', 1), ('behalf', 1), ('salute', 1), ('predecessor', 1), ('President', 1), ('Bush', 1), ('half', 1), ('century', 1), ('thank', 1), ('men', 1), ('women', 1), ('steadfastness', 1), ('triumphed', 1), ('depression', 1), ('fascism', 1), ('communism', 1), ('shadows', 1), ('Cold', 1), ('assumes', 1), ('warmed', 1), ('sunshine', 1), ('threatened', 1), ('ancient', 1), ('hatreds', 1), ('plagues', 1), ('Raised', 1), ('unrivalled', 1), ('prosperity', 1), ('inherit', 1), ('strongest', 1), ('weakened', 1), ('business', 1), ('failures', 1), ('stagnant', 1), ('wages', 1), ('increasing', 1), ('inequality', 1), ('deep', 1), ('divisions', 1), ('George', 1), ('Washington', 1), ('took', 1), ('oath', 1), ('sworn', 1), ('uphold', 1), ('news', 1), ('travelled', 1), ('slowly', 1), ('land', 1), ('horseback', 1), ('ocean', 1), ('boat', 1), ('sights', 1), ('sounds', 1), ('broadcast', 1), ('instantaneously', 1), ('tobillions', 1), ('Communications', 1), ('commerce', 1), ('global', 1), ('Investment', 1), ('mobile', 1), ('Technology', 1), ('magical', 1), ('ambition', 1), ('universal', 1), ('earn', 1), ('livelihood', 1), ('competition', 1), ('Earth', 1), ('Profound', 1), ('forces', 1), ('shaking', 1), ('remaking', 1), ('urgent', 1), ('question', 1), ('enemy', 1), ('enriched', 1), ('able', 1), ('win', 1), ('But', 1), ('working', 1), ('harder', 1), ('cost', 1), ('health', 1), ('devastates', 1), ('threatens', 1), ('bankrupt', 1), ('enterprises', 1), ('great', 1), ('small', 1), ('fear', 1), ('crime', 1), ('robs', 1), ('law', 1), ('abiding', 1), ('poor', 1), ('imagine', 1), ('calling', 1), ('know', 1), ('hard', 1), ('truths', 1), ('strong', 1), ('steps', 1), ('Instead', 1), ('drifted', 1), ('drifting', 1), ('eroded', 1), ('resources', 1), ('fractured', 1), ('shaken', 1), ('confidence', 1), ('fearsome', 1), ('strengths', 1), ('restless', 1), ('questing', 1), ('hopeful', 1), ('bring', 1), ('task', 1), ('came', 1), ('Revolution', 1), ('Great', 1), ('Depression', 1), ('Rights', 1), ('movement', 1), ('mustered', 1), ('determination', 1), ('construct', 1), ('crises', 1), ('pillars', 1), ('history', 1), ('Thomas', 1), ('Jefferson', 1), ('believed', 1), ('foundations', 1), ('dramatic', 1), ('Well', 1), ('embrace', 1), ('envy', 1), ('engine', 1), ('wrong', 1), ('cured', 1), ('right', 1), ('pledge', 1), ('end', 1), ('era', 1), ('deadlock', 1), ('drift', 1), ('begun', 1), ('invest', 1), ('jobs', 1), ('future', 1), ('cut', 1), ('massive', 1), ('debt', 1), ('easy', 1), ('require', 1), ('fairly', 1), ('choosing', 1), ('provide', 1), ('family', 1), ('provides', 1), ('saw', 1), ('light', 1), ('Anyone', 1), ('watched', 1), ('child', 1), ('eyes', 1), ('wander', 1), ('sleep', 1), ('knows', 1), ('Posterity', 1), ('come', 1), ('hold', 1), ('borrowed', 1), ('planet', 1), ('bear', 1), ('sacred', 1), ('best', 1), ('offer', 1), ('demand', 1), ('break', 1), ('bad', 1), ('habit', 1), ('expecting', 1), ('country', 1), ('revitalize', 1), ('beautiful', 1), ('like', 1), ('dawn', 1), ('civilization', 1), ('intrigue', 1), ('calculation', 1), ('Powerful', 1), ('maneuver', 1), ('position', 1), ('worry', 1), ('endlessly', 1), ('forgetting', 1), ('toil', 1), ('sweat', 1), ('sends', 1), ('paves', 1), ('deserve', 1), ('city', 1), ('want', 1), ('reform', 1), ('politics', 1), ('privilege', 1), ('shout', 1), ('voice', 1), ('aside', 1), ('personal', 1), ('advantage', 1), ('feel', 1), ('pain', 1), ('promise', 1), ('Franklin', 1), ('Roosevelt', 1), ('persistent', 1), ('experimentation', 1), ('tomorrows', 1), ('yesterdays', 1), ('belongs', 1), ('meet', 1), ('abroad', 1), ('clear', 1), ('division', 1), ('foreign', 1), ('domestic', 1), ('environment', 1), ('AIDS', 1), ('crisis', 1), ('arms', 1), ('race', 1), ('affect', 1), ('order', 1), ('passes', 1), ('free', 1), ('stable', 1), ('Communism', 1), ('collapse', 1), ('animosities', 1), ('dangers', 1), ('Clearly', 1), ('continue', 1), ('While', 1), ('rebuilds', 1), ('shrink', 1), ('fail', 1), ('seize', 1), ('opportunities', 1), ('Together', 1), ('friends', 1), ('allies', 1), ('shape', 1), ('lest', 1), ('engulf', 1), ('vital', 1), ('interests', 1), ('challenged', 1), ('conscience', 1), ('international', 1), ('community', 1), ('defied', 1), ('diplomacy', 1), ('possible', 1), ('necessary', 1), ('brave', 1), ('Persian', 1), ('Gulf', 1), ('Somalia', 1), ('testament', 1), ('greatest', 1), ('strength', 1), ('ideas', 1), ('lands', 1), ('Across', 1), ('embraced', 1), ('rejoice', 1), ('hopes', 1), ('hearts', 1), ('hands', 1), ('continent', 1), ('building', 1), ('Their', 1), ('summoned', 1), ('You', 1), ('voices', 1), ('unmistakable', 1), ('chorus', 1), ('cast', 1), ('votes', 1), ('historic', 1), ('numbers', 1), ('presidency', 1), ('political', 1), ('process', 1), ('Yes', 1), ('forced', 1), ('WE', 1), ('demands', 1), ('turn', 1), ('ALL', 1), ('authority', 1), ('office', 1), ('ask', 1), ('join', 1), ('president', 1), ('undertake', 1), ('THIS', 1), ('play', 1), ('YOUNG', 1), ('idealism', 1), ('helping', 1), ('troubled', 1), ('keeping', 1), ('company', 1), ('reconnecting', 1), ('torn', 1), ('Enough', 1), ('young', 1), ('spirit', 1), ('In', 1), ('recognize', 1), ('simple', 1), ('truth', 1), ('rededicate', 1), ('born', 1), ('revolution', 1), ('renewed', 1), ('centuries', 1), ('tempered', 1), ('knowledge', 1), ('fate', 1), ('fortunate', 1), ('unfortunate', 1), ('ennobled', 1), ('summon', 1), ('myriad', 1), ('diversity', 1), ('deepest', 1), ('measure', 1), ('unity', 1), ('infused', 1), ('conviction', 1), ('long', 1), ('heroic', 1), ('forever', 1), ('upward', 1), ('edge', 1), ('21st', 1), ('Century', 1), ('begin', 1), ('anew', 1), ('energy', 1), ('hope', 1), ('discipline', 1), ('Scripture', 1), ('says', 1), ('weary', 1), ('shall', 1), ('reap', 1), ('faint', 1), ('joyful', 1), ('mountaintop', 1), ('celebration', 1), ('hear', 1), ('valley', 1), ('heard', 1), ('trumpets', 1), ('guard', 1), ('help', 1), ('answer', 1), ('Thank', 1), ('bless', 1)]\n"
     ]
    }
   ],
   "source": [
    "print(d['Clinton'])"
   ]
  },
  {
   "cell_type": "code",
   "execution_count": null,
   "metadata": {},
   "outputs": [],
   "source": []
  }
 ],
 "metadata": {
  "kernelspec": {
   "display_name": "Python 3",
   "language": "python",
   "name": "python3"
  },
  "language_info": {
   "codemirror_mode": {
    "name": "ipython",
    "version": 3
   },
   "file_extension": ".py",
   "mimetype": "text/x-python",
   "name": "python",
   "nbconvert_exporter": "python",
   "pygments_lexer": "ipython3",
   "version": "3.7.0"
  }
 },
 "nbformat": 4,
 "nbformat_minor": 2
}
