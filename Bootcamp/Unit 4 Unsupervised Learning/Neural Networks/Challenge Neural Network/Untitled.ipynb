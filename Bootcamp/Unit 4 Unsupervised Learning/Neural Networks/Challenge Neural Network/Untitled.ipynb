{
 "cells": [
  {
   "cell_type": "code",
   "execution_count": 1,
   "metadata": {},
   "outputs": [],
   "source": [
    "import numpy as np\n",
    "import pandas as pd\n",
    "import matplotlib.pyplot as plt\n",
    "import scipy as sp\n",
    "import seaborn as sns\n",
    "%matplotlib inline"
   ]
  },
  {
   "cell_type": "code",
   "execution_count": 2,
   "metadata": {},
   "outputs": [],
   "source": [
    "df = pd.read_csv('HR-Employee-Attrition.csv')"
   ]
  },
  {
   "cell_type": "code",
   "execution_count": 3,
   "metadata": {},
   "outputs": [
    {
     "data": {
      "text/plain": [
       "['Age',\n",
       " 'Attrition',\n",
       " 'BusinessTravel',\n",
       " 'DailyRate',\n",
       " 'Department',\n",
       " 'DistanceFromHome',\n",
       " 'Education',\n",
       " 'EducationField',\n",
       " 'EmployeeCount',\n",
       " 'EmployeeNumber',\n",
       " 'EnvironmentSatisfaction',\n",
       " 'Gender',\n",
       " 'HourlyRate',\n",
       " 'JobInvolvement',\n",
       " 'JobLevel',\n",
       " 'JobRole',\n",
       " 'JobSatisfaction',\n",
       " 'MaritalStatus',\n",
       " 'MonthlyIncome',\n",
       " 'MonthlyRate',\n",
       " 'NumCompaniesWorked',\n",
       " 'Over18',\n",
       " 'OverTime',\n",
       " 'PercentSalaryHike',\n",
       " 'PerformanceRating',\n",
       " 'RelationshipSatisfaction',\n",
       " 'StandardHours',\n",
       " 'StockOptionLevel',\n",
       " 'TotalWorkingYears',\n",
       " 'TrainingTimesLastYear',\n",
       " 'WorkLifeBalance',\n",
       " 'YearsAtCompany',\n",
       " 'YearsInCurrentRole',\n",
       " 'YearsSinceLastPromotion',\n",
       " 'YearsWithCurrManager']"
      ]
     },
     "execution_count": 3,
     "metadata": {},
     "output_type": "execute_result"
    }
   ],
   "source": [
    "df.columns.tolist()"
   ]
  },
  {
   "cell_type": "code",
   "execution_count": 4,
   "metadata": {},
   "outputs": [
    {
     "name": "stdout",
     "output_type": "stream",
     "text": [
      "<class 'pandas.core.frame.DataFrame'>\n",
      "RangeIndex: 1470 entries, 0 to 1469\n",
      "Data columns (total 35 columns):\n",
      "Age                         1470 non-null int64\n",
      "Attrition                   1470 non-null object\n",
      "BusinessTravel              1470 non-null object\n",
      "DailyRate                   1470 non-null int64\n",
      "Department                  1470 non-null object\n",
      "DistanceFromHome            1470 non-null int64\n",
      "Education                   1470 non-null int64\n",
      "EducationField              1470 non-null object\n",
      "EmployeeCount               1470 non-null int64\n",
      "EmployeeNumber              1470 non-null int64\n",
      "EnvironmentSatisfaction     1470 non-null int64\n",
      "Gender                      1470 non-null object\n",
      "HourlyRate                  1470 non-null int64\n",
      "JobInvolvement              1470 non-null int64\n",
      "JobLevel                    1470 non-null int64\n",
      "JobRole                     1470 non-null object\n",
      "JobSatisfaction             1470 non-null int64\n",
      "MaritalStatus               1470 non-null object\n",
      "MonthlyIncome               1470 non-null int64\n",
      "MonthlyRate                 1470 non-null int64\n",
      "NumCompaniesWorked          1470 non-null int64\n",
      "Over18                      1470 non-null object\n",
      "OverTime                    1470 non-null object\n",
      "PercentSalaryHike           1470 non-null int64\n",
      "PerformanceRating           1470 non-null int64\n",
      "RelationshipSatisfaction    1470 non-null int64\n",
      "StandardHours               1470 non-null int64\n",
      "StockOptionLevel            1470 non-null int64\n",
      "TotalWorkingYears           1470 non-null int64\n",
      "TrainingTimesLastYear       1470 non-null int64\n",
      "WorkLifeBalance             1470 non-null int64\n",
      "YearsAtCompany              1470 non-null int64\n",
      "YearsInCurrentRole          1470 non-null int64\n",
      "YearsSinceLastPromotion     1470 non-null int64\n",
      "YearsWithCurrManager        1470 non-null int64\n",
      "dtypes: int64(26), object(9)\n",
      "memory usage: 402.0+ KB\n"
     ]
    }
   ],
   "source": [
    "df.info()"
   ]
  },
  {
   "cell_type": "code",
   "execution_count": 5,
   "metadata": {},
   "outputs": [],
   "source": [
    "# Tranform categorical variables into numeric\n",
    "# Run baseline model to predict attrition\n",
    "# Create, extract features and then reduce dimensionality\n",
    "# Tune Paramters\n",
    "# Use weak learners models and random forest to predict the same variable\n",
    "# Compare"
   ]
  },
  {
   "cell_type": "code",
   "execution_count": 8,
   "metadata": {},
   "outputs": [
    {
     "name": "stdout",
     "output_type": "stream",
     "text": [
      "<class 'pandas.core.frame.DataFrame'>\n",
      "RangeIndex: 1470 entries, 0 to 1469\n",
      "Data columns (total 35 columns):\n",
      "Age                         1470 non-null int64\n",
      "Attrition                   1470 non-null object\n",
      "BusinessTravel              1470 non-null object\n",
      "DailyRate                   1470 non-null int64\n",
      "Department                  1470 non-null object\n",
      "DistanceFromHome            1470 non-null int64\n",
      "Education                   1470 non-null int64\n",
      "EducationField              1470 non-null object\n",
      "EmployeeCount               1470 non-null int64\n",
      "EmployeeNumber              1470 non-null int64\n",
      "EnvironmentSatisfaction     1470 non-null int64\n",
      "Gender                      1470 non-null object\n",
      "HourlyRate                  1470 non-null int64\n",
      "JobInvolvement              1470 non-null int64\n",
      "JobLevel                    1470 non-null int64\n",
      "JobRole                     1470 non-null object\n",
      "JobSatisfaction             1470 non-null int64\n",
      "MaritalStatus               1470 non-null object\n",
      "MonthlyIncome               1470 non-null int64\n",
      "MonthlyRate                 1470 non-null int64\n",
      "NumCompaniesWorked          1470 non-null int64\n",
      "Over18                      1470 non-null object\n",
      "OverTime                    1470 non-null object\n",
      "PercentSalaryHike           1470 non-null int64\n",
      "PerformanceRating           1470 non-null int64\n",
      "RelationshipSatisfaction    1470 non-null int64\n",
      "StandardHours               1470 non-null int64\n",
      "StockOptionLevel            1470 non-null int64\n",
      "TotalWorkingYears           1470 non-null int64\n",
      "TrainingTimesLastYear       1470 non-null int64\n",
      "WorkLifeBalance             1470 non-null int64\n",
      "YearsAtCompany              1470 non-null int64\n",
      "YearsInCurrentRole          1470 non-null int64\n",
      "YearsSinceLastPromotion     1470 non-null int64\n",
      "YearsWithCurrManager        1470 non-null int64\n",
      "dtypes: int64(26), object(9)\n",
      "memory usage: 402.0+ KB\n"
     ]
    }
   ],
   "source": [
    "df.info()"
   ]
  },
  {
   "cell_type": "code",
   "execution_count": 9,
   "metadata": {},
   "outputs": [
    {
     "name": "stdout",
     "output_type": "stream",
     "text": [
      "<class 'pandas.core.frame.DataFrame'>\n",
      "RangeIndex: 1470 entries, 0 to 1469\n",
      "Data columns (total 66 columns):\n",
      "Age                                  1470 non-null int64\n",
      "DailyRate                            1470 non-null int64\n",
      "DistanceFromHome                     1470 non-null int64\n",
      "Education                            1470 non-null int64\n",
      "EmployeeCount                        1470 non-null int64\n",
      "EmployeeNumber                       1470 non-null int64\n",
      "EnvironmentSatisfaction              1470 non-null int64\n",
      "HourlyRate                           1470 non-null int64\n",
      "JobInvolvement                       1470 non-null int64\n",
      "JobLevel                             1470 non-null int64\n",
      "JobSatisfaction                      1470 non-null int64\n",
      "MonthlyIncome                        1470 non-null int64\n",
      "MonthlyRate                          1470 non-null int64\n",
      "NumCompaniesWorked                   1470 non-null int64\n",
      "PercentSalaryHike                    1470 non-null int64\n",
      "PerformanceRating                    1470 non-null int64\n",
      "RelationshipSatisfaction             1470 non-null int64\n",
      "StandardHours                        1470 non-null int64\n",
      "StockOptionLevel                     1470 non-null int64\n",
      "TotalWorkingYears                    1470 non-null int64\n",
      "TrainingTimesLastYear                1470 non-null int64\n",
      "WorkLifeBalance                      1470 non-null int64\n",
      "YearsAtCompany                       1470 non-null int64\n",
      "YearsInCurrentRole                   1470 non-null int64\n",
      "YearsSinceLastPromotion              1470 non-null int64\n",
      "YearsWithCurrManager                 1470 non-null int64\n",
      "Attrition_No                         1470 non-null uint8\n",
      "Attrition_Yes                        1470 non-null uint8\n",
      "BusinessTravel_Non-Travel            1470 non-null uint8\n",
      "BusinessTravel_Travel_Frequently     1470 non-null uint8\n",
      "BusinessTravel_Travel_Rarely         1470 non-null uint8\n",
      "Department_Human Resources           1470 non-null uint8\n",
      "Department_Research & Development    1470 non-null uint8\n",
      "Department_Sales                     1470 non-null uint8\n",
      "EducationField_Human Resources       1470 non-null uint8\n",
      "EducationField_Life Sciences         1470 non-null uint8\n",
      "EducationField_Marketing             1470 non-null uint8\n",
      "EducationField_Medical               1470 non-null uint8\n",
      "EducationField_Other                 1470 non-null uint8\n",
      "EducationField_Technical Degree      1470 non-null uint8\n",
      "Gender_Female                        1470 non-null uint8\n",
      "Gender_Male                          1470 non-null uint8\n",
      "JobRole_Healthcare Representative    1470 non-null uint8\n",
      "JobRole_Human Resources              1470 non-null uint8\n",
      "JobRole_Laboratory Technician        1470 non-null uint8\n",
      "JobRole_Manager                      1470 non-null uint8\n",
      "JobRole_Manufacturing Director       1470 non-null uint8\n",
      "JobRole_Research Director            1470 non-null uint8\n",
      "JobRole_Research Scientist           1470 non-null uint8\n",
      "JobRole_Sales Executive              1470 non-null uint8\n",
      "JobRole_Sales Representative         1470 non-null uint8\n",
      "JobRole_Healthcare Representative    1470 non-null uint8\n",
      "JobRole_Human Resources              1470 non-null uint8\n",
      "JobRole_Laboratory Technician        1470 non-null uint8\n",
      "JobRole_Manager                      1470 non-null uint8\n",
      "JobRole_Manufacturing Director       1470 non-null uint8\n",
      "JobRole_Research Director            1470 non-null uint8\n",
      "JobRole_Research Scientist           1470 non-null uint8\n",
      "JobRole_Sales Executive              1470 non-null uint8\n",
      "JobRole_Sales Representative         1470 non-null uint8\n",
      "MaritalStatus_Divorced               1470 non-null uint8\n",
      "MaritalStatus_Married                1470 non-null uint8\n",
      "MaritalStatus_Single                 1470 non-null uint8\n",
      "Over18_Y                             1470 non-null uint8\n",
      "OverTime_No                          1470 non-null uint8\n",
      "OverTime_Yes                         1470 non-null uint8\n",
      "dtypes: int64(26), uint8(40)\n",
      "memory usage: 356.1 KB\n"
     ]
    }
   ],
   "source": [
    "# Tranform categorical variables into numeric\n",
    "df = pd.get_dummies(df, columns = ['Attrition', 'BusinessTravel', 'Department', 'EducationField', 'Gender', 'JobRole', 'JobRole', 'MaritalStatus', 'Over18', 'OverTime'])\n",
    "df.info()"
   ]
  },
  {
   "cell_type": "code",
   "execution_count": 10,
   "metadata": {},
   "outputs": [
    {
     "name": "stdout",
     "output_type": "stream",
     "text": [
      "<class 'pandas.core.frame.DataFrame'>\n",
      "RangeIndex: 1470 entries, 0 to 1469\n",
      "Data columns (total 63 columns):\n",
      "Age                                  1470 non-null int64\n",
      "DailyRate                            1470 non-null int64\n",
      "DistanceFromHome                     1470 non-null int64\n",
      "Education                            1470 non-null int64\n",
      "EmployeeCount                        1470 non-null int64\n",
      "EmployeeNumber                       1470 non-null int64\n",
      "EnvironmentSatisfaction              1470 non-null int64\n",
      "HourlyRate                           1470 non-null int64\n",
      "JobInvolvement                       1470 non-null int64\n",
      "JobLevel                             1470 non-null int64\n",
      "JobSatisfaction                      1470 non-null int64\n",
      "MonthlyIncome                        1470 non-null int64\n",
      "MonthlyRate                          1470 non-null int64\n",
      "NumCompaniesWorked                   1470 non-null int64\n",
      "PercentSalaryHike                    1470 non-null int64\n",
      "PerformanceRating                    1470 non-null int64\n",
      "RelationshipSatisfaction             1470 non-null int64\n",
      "StandardHours                        1470 non-null int64\n",
      "StockOptionLevel                     1470 non-null int64\n",
      "TotalWorkingYears                    1470 non-null int64\n",
      "TrainingTimesLastYear                1470 non-null int64\n",
      "WorkLifeBalance                      1470 non-null int64\n",
      "YearsAtCompany                       1470 non-null int64\n",
      "YearsInCurrentRole                   1470 non-null int64\n",
      "YearsSinceLastPromotion              1470 non-null int64\n",
      "YearsWithCurrManager                 1470 non-null int64\n",
      "Attrition_Yes                        1470 non-null uint8\n",
      "BusinessTravel_Non-Travel            1470 non-null uint8\n",
      "BusinessTravel_Travel_Frequently     1470 non-null uint8\n",
      "BusinessTravel_Travel_Rarely         1470 non-null uint8\n",
      "Department_Human Resources           1470 non-null uint8\n",
      "Department_Research & Development    1470 non-null uint8\n",
      "Department_Sales                     1470 non-null uint8\n",
      "EducationField_Human Resources       1470 non-null uint8\n",
      "EducationField_Life Sciences         1470 non-null uint8\n",
      "EducationField_Marketing             1470 non-null uint8\n",
      "EducationField_Medical               1470 non-null uint8\n",
      "EducationField_Other                 1470 non-null uint8\n",
      "EducationField_Technical Degree      1470 non-null uint8\n",
      "Gender_Male                          1470 non-null uint8\n",
      "JobRole_Healthcare Representative    1470 non-null uint8\n",
      "JobRole_Human Resources              1470 non-null uint8\n",
      "JobRole_Laboratory Technician        1470 non-null uint8\n",
      "JobRole_Manager                      1470 non-null uint8\n",
      "JobRole_Manufacturing Director       1470 non-null uint8\n",
      "JobRole_Research Director            1470 non-null uint8\n",
      "JobRole_Research Scientist           1470 non-null uint8\n",
      "JobRole_Sales Executive              1470 non-null uint8\n",
      "JobRole_Sales Representative         1470 non-null uint8\n",
      "JobRole_Healthcare Representative    1470 non-null uint8\n",
      "JobRole_Human Resources              1470 non-null uint8\n",
      "JobRole_Laboratory Technician        1470 non-null uint8\n",
      "JobRole_Manager                      1470 non-null uint8\n",
      "JobRole_Manufacturing Director       1470 non-null uint8\n",
      "JobRole_Research Director            1470 non-null uint8\n",
      "JobRole_Research Scientist           1470 non-null uint8\n",
      "JobRole_Sales Executive              1470 non-null uint8\n",
      "JobRole_Sales Representative         1470 non-null uint8\n",
      "MaritalStatus_Divorced               1470 non-null uint8\n",
      "MaritalStatus_Married                1470 non-null uint8\n",
      "MaritalStatus_Single                 1470 non-null uint8\n",
      "Over18_Y                             1470 non-null uint8\n",
      "OverTime_Yes                         1470 non-null uint8\n",
      "dtypes: int64(26), uint8(37)\n",
      "memory usage: 351.8 KB\n"
     ]
    }
   ],
   "source": [
    "df = df.drop(columns = ['Attrition_No', 'Gender_Female', 'OverTime_No'])\n",
    "df.info()"
   ]
  },
  {
   "cell_type": "code",
   "execution_count": 18,
   "metadata": {},
   "outputs": [
    {
     "name": "stdout",
     "output_type": "stream",
     "text": [
      "0.8387755102040816\n",
      "[0.83728814 0.83728814 0.52040816 0.84300341 0.83276451]\n"
     ]
    }
   ],
   "source": [
    "# Run baseline model to predict attrition\n",
    "X = df.drop(columns=['Attrition_Yes'])\n",
    "Y = df['Attrition_Yes']\n",
    "\n",
    "from sklearn.neural_network import MLPClassifier\n",
    "from sklearn.model_selection import cross_val_score\n",
    "\n",
    "# Instantiate neural network classifier\n",
    "mlp = MLPClassifier(hidden_layer_sizes=(1000,500,))\n",
    "\n",
    "# Train model on data\n",
    "mlp.fit(X,Y)\n",
    "\n",
    "# Score Accuracy of model\n",
    "print(mlp.score(X, Y))\n",
    "\n",
    "# Cross Validation of model\n",
    "print(cross_val_score(mlp, X, Y, cv=5))"
   ]
  },
  {
   "cell_type": "code",
   "execution_count": 19,
   "metadata": {},
   "outputs": [],
   "source": [
    "# Create, extract features and then reduce dimensionality\n",
    "\n",
    "# Try ranking features of importance\n",
    "# Assigning p values and scoring significance of features\n",
    "# Run PCA's to reduce dimensionality of some continuous variables\n",
    "\n",
    "# Rerun Model\n",
    "\n",
    "# tune Hyper paramaters"
   ]
  },
  {
   "cell_type": "code",
   "execution_count": 20,
   "metadata": {},
   "outputs": [
    {
     "data": {
      "text/plain": [
       "(1470, 63)"
      ]
     },
     "execution_count": 20,
     "metadata": {},
     "output_type": "execute_result"
    }
   ],
   "source": [
    "df.shape"
   ]
  },
  {
   "cell_type": "code",
   "execution_count": null,
   "metadata": {},
   "outputs": [],
   "source": []
  }
 ],
 "metadata": {
  "kernelspec": {
   "display_name": "Python 3",
   "language": "python",
   "name": "python3"
  },
  "language_info": {
   "codemirror_mode": {
    "name": "ipython",
    "version": 3
   },
   "file_extension": ".py",
   "mimetype": "text/x-python",
   "name": "python",
   "nbconvert_exporter": "python",
   "pygments_lexer": "ipython3",
   "version": "3.7.0"
  }
 },
 "nbformat": 4,
 "nbformat_minor": 2
}
