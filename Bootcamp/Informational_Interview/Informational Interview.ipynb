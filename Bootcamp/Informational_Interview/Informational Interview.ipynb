{
 "cells": [
  {
   "cell_type": "markdown",
   "metadata": {},
   "source": [
    "# Informational Interview with Autumn Toney\n",
    "### Ayan Karim\n",
    "\n",
    "I conducted an my informational interview with Autumn Toney, a Data Scientist who works for the Naval Research Labs. She describes her work pleasantly with a sense of freedom, as she's allowed to pursue whatever avenue of research she wants every day, as long as it's in line with their long term project. Her day consists of laying out a few shorterm goals and following through with them. There are no \"end-of-the-day\" deadlines per-se and because of that, she says there's lots of relief from stress. She likes working in R and she has some certifications in AWS. \n",
    "\n",
    "Her least favorite part of work is that there are a lot of politics between the management. However, the work environment is flat, so she feels very comfortable asking co-workers in senior positions for help.\n",
    "\n",
    "Autumn also has her own non-profit program where she helps get Native-Americans involved in more STEM programs, and she's a part-time data science instructor after work.\n",
    "\n",
    "Her goals for the future include pursuing a Ph.D in Computer Science."
   ]
  },
  {
   "cell_type": "code",
   "execution_count": null,
   "metadata": {},
   "outputs": [],
   "source": []
  }
 ],
 "metadata": {
  "kernelspec": {
   "display_name": "Python 3",
   "language": "python",
   "name": "python3"
  },
  "language_info": {
   "codemirror_mode": {
    "name": "ipython",
    "version": 3
   },
   "file_extension": ".py",
   "mimetype": "text/x-python",
   "name": "python",
   "nbconvert_exporter": "python",
   "pygments_lexer": "ipython3",
   "version": "3.6.5"
  }
 },
 "nbformat": 4,
 "nbformat_minor": 2
}
