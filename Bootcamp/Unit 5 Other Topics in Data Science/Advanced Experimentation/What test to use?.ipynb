{
 "cells": [
  {
   "cell_type": "code",
   "execution_count": 1,
   "metadata": {},
   "outputs": [],
   "source": [
    "import numpy as np\n",
    "import pandas as pd\n",
    "import scipy as sp\n",
    "import scipy.stats as stats\n",
    "import matplotlib.pyplot as plt\n",
    "import seaborn as sns\n",
    "import pylab\n",
    "%matplotlib inline"
   ]
  },
  {
   "cell_type": "code",
   "execution_count": 2,
   "metadata": {},
   "outputs": [],
   "source": [
    "df = pd.read_csv('ESSdata_Thinkful.csv')"
   ]
  },
  {
   "cell_type": "markdown",
   "metadata": {},
   "source": [
    "# Did people become less trusting from 2012 to 2014? Compute results for each country in the sample."
   ]
  },
  {
   "cell_type": "code",
   "execution_count": 3,
   "metadata": {},
   "outputs": [],
   "source": [
    "df = df.dropna()"
   ]
  },
  {
   "cell_type": "code",
   "execution_count": 4,
   "metadata": {},
   "outputs": [
    {
     "data": {
      "image/png": "[encoded data removed]",
      "text/plain": [
       "<Figure size 576x576 with 1 Axes>"
      ]
     },
     "metadata": {},
     "output_type": "display_data"
    }
   ],
   "source": [
    "plt.figure(figsize=(8,8))\n",
    "plt.hist(df['pplfair'])\n",
    "plt.show()"
   ]
  },
  {
   "cell_type": "code",
   "execution_count": 5,
   "metadata": {},
   "outputs": [
    {
     "data": {
      "text/plain": [
       "Ttest_indResult(statistic=0.1443685081969842, pvalue=0.8852130548889106)"
      ]
     },
     "execution_count": 5,
     "metadata": {},
     "output_type": "execute_result"
    }
   ],
   "source": [
    "sp.stats.ttest_ind(df[df.year==6].ppltrst,df[df.year==7].ppltrst)"
   ]
  },
  {
   "cell_type": "code",
   "execution_count": 6,
   "metadata": {
    "scrolled": true
   },
   "outputs": [
    {
     "data": {
      "text/html": [
       "<div>\n",
       "<style scoped>\n",
       "    .dataframe tbody tr th:only-of-type {\n",
       "        vertical-align: middle;\n",
       "    }\n",
       "\n",
       "    .dataframe tbody tr th {\n",
       "        vertical-align: top;\n",
       "    }\n",
       "\n",
       "    .dataframe thead th {\n",
       "        text-align: right;\n",
       "    }\n",
       "</style>\n",
       "<table border=\"1\" class=\"dataframe\">\n",
       "  <thead>\n",
       "    <tr style=\"text-align: right;\">\n",
       "      <th></th>\n",
       "      <th>idno</th>\n",
       "      <th>year</th>\n",
       "      <th>tvtot</th>\n",
       "      <th>ppltrst</th>\n",
       "      <th>pplfair</th>\n",
       "      <th>pplhlp</th>\n",
       "      <th>happy</th>\n",
       "      <th>sclmeet</th>\n",
       "      <th>sclact</th>\n",
       "      <th>gndr</th>\n",
       "      <th>agea</th>\n",
       "      <th>partner</th>\n",
       "    </tr>\n",
       "    <tr>\n",
       "      <th>cntry</th>\n",
       "      <th></th>\n",
       "      <th></th>\n",
       "      <th></th>\n",
       "      <th></th>\n",
       "      <th></th>\n",
       "      <th></th>\n",
       "      <th></th>\n",
       "      <th></th>\n",
       "      <th></th>\n",
       "      <th></th>\n",
       "      <th></th>\n",
       "      <th></th>\n",
       "    </tr>\n",
       "  </thead>\n",
       "  <tbody>\n",
       "    <tr>\n",
       "      <th>CH</th>\n",
       "      <td>1.469243e+03</td>\n",
       "      <td>6.503729</td>\n",
       "      <td>3.075932</td>\n",
       "      <td>5.725424</td>\n",
       "      <td>6.267797</td>\n",
       "      <td>5.685424</td>\n",
       "      <td>8.113220</td>\n",
       "      <td>5.149831</td>\n",
       "      <td>2.747797</td>\n",
       "      <td>1.511186</td>\n",
       "      <td>46.667797</td>\n",
       "      <td>1.364746</td>\n",
       "    </tr>\n",
       "    <tr>\n",
       "      <th>CZ</th>\n",
       "      <td>1.449925e+03</td>\n",
       "      <td>6.502071</td>\n",
       "      <td>4.871582</td>\n",
       "      <td>4.379453</td>\n",
       "      <td>4.909693</td>\n",
       "      <td>4.457332</td>\n",
       "      <td>6.856669</td>\n",
       "      <td>4.613090</td>\n",
       "      <td>2.673571</td>\n",
       "      <td>1.526098</td>\n",
       "      <td>45.812759</td>\n",
       "      <td>1.423364</td>\n",
       "    </tr>\n",
       "    <tr>\n",
       "      <th>DE</th>\n",
       "      <td>1.100049e+07</td>\n",
       "      <td>6.518519</td>\n",
       "      <td>3.962963</td>\n",
       "      <td>5.222222</td>\n",
       "      <td>6.222222</td>\n",
       "      <td>5.444444</td>\n",
       "      <td>7.592593</td>\n",
       "      <td>4.666667</td>\n",
       "      <td>2.814815</td>\n",
       "      <td>1.592593</td>\n",
       "      <td>56.962963</td>\n",
       "      <td>1.259259</td>\n",
       "    </tr>\n",
       "    <tr>\n",
       "      <th>ES</th>\n",
       "      <td>1.471413e+03</td>\n",
       "      <td>6.494764</td>\n",
       "      <td>3.934119</td>\n",
       "      <td>5.034904</td>\n",
       "      <td>5.365620</td>\n",
       "      <td>4.546248</td>\n",
       "      <td>7.504799</td>\n",
       "      <td>5.242583</td>\n",
       "      <td>2.601222</td>\n",
       "      <td>1.502618</td>\n",
       "      <td>47.571990</td>\n",
       "      <td>1.384380</td>\n",
       "    </tr>\n",
       "    <tr>\n",
       "      <th>NO</th>\n",
       "      <td>1.429086e+04</td>\n",
       "      <td>6.501408</td>\n",
       "      <td>3.741549</td>\n",
       "      <td>6.623944</td>\n",
       "      <td>6.888732</td>\n",
       "      <td>6.043662</td>\n",
       "      <td>8.085915</td>\n",
       "      <td>5.436620</td>\n",
       "      <td>2.914085</td>\n",
       "      <td>1.466197</td>\n",
       "      <td>46.334507</td>\n",
       "      <td>1.369718</td>\n",
       "    </tr>\n",
       "    <tr>\n",
       "      <th>SE</th>\n",
       "      <td>1.811748e+03</td>\n",
       "      <td>6.502317</td>\n",
       "      <td>3.624565</td>\n",
       "      <td>6.141947</td>\n",
       "      <td>6.665701</td>\n",
       "      <td>6.048088</td>\n",
       "      <td>7.920046</td>\n",
       "      <td>5.485516</td>\n",
       "      <td>2.895133</td>\n",
       "      <td>1.477984</td>\n",
       "      <td>48.983778</td>\n",
       "      <td>1.389340</td>\n",
       "    </tr>\n",
       "  </tbody>\n",
       "</table>\n",
       "</div>"
      ],
      "text/plain": [
       "               idno      year     tvtot   ppltrst   pplfair    pplhlp  \\\n",
       "cntry                                                                   \n",
       "CH     1.469243e+03  6.503729  3.075932  5.725424  6.267797  5.685424   \n",
       "CZ     1.449925e+03  6.502071  4.871582  4.379453  4.909693  4.457332   \n",
       "DE     1.100049e+07  6.518519  3.962963  5.222222  6.222222  5.444444   \n",
       "ES     1.471413e+03  6.494764  3.934119  5.034904  5.365620  4.546248   \n",
       "NO     1.429086e+04  6.501408  3.741549  6.623944  6.888732  6.043662   \n",
       "SE     1.811748e+03  6.502317  3.624565  6.141947  6.665701  6.048088   \n",
       "\n",
       "          happy   sclmeet    sclact      gndr       agea   partner  \n",
       "cntry                                                               \n",
       "CH     8.113220  5.149831  2.747797  1.511186  46.667797  1.364746  \n",
       "CZ     6.856669  4.613090  2.673571  1.526098  45.812759  1.423364  \n",
       "DE     7.592593  4.666667  2.814815  1.592593  56.962963  1.259259  \n",
       "ES     7.504799  5.242583  2.601222  1.502618  47.571990  1.384380  \n",
       "NO     8.085915  5.436620  2.914085  1.466197  46.334507  1.369718  \n",
       "SE     7.920046  5.485516  2.895133  1.477984  48.983778  1.389340  "
      ]
     },
     "execution_count": 6,
     "metadata": {},
     "output_type": "execute_result"
    }
   ],
   "source": [
    "df.groupby('cntry').mean()"
   ]
  },
  {
   "cell_type": "code",
   "execution_count": 7,
   "metadata": {},
   "outputs": [],
   "source": [
    "CH = df[df['cntry']=='CH']\n",
    "CZ = df[df['cntry']=='CZ']\n",
    "DE = df[df['cntry']=='DE']\n",
    "ES = df[df['cntry']=='ES']\n",
    "NO = df[df['cntry']=='NO']\n",
    "SE = df[df['cntry']=='SE']\n",
    "countries = [CH, CZ, DE, ES, NO, SE]"
   ]
  },
  {
   "cell_type": "code",
   "execution_count": 8,
   "metadata": {},
   "outputs": [
    {
     "name": "stdout",
     "output_type": "stream",
     "text": [
      "CH: Ttest_indResult(statistic=-0.7156974792217816, pvalue=0.4742916002909491)\n",
      "CZ: Ttest_indResult(statistic=0.34075433231518504, pvalue=0.7333479315909976)\n",
      "DE: Ttest_indResult(statistic=-0.3466213170125284, pvalue=0.7317764273785732)\n",
      "ES: Ttest_indResult(statistic=2.1000674443244907, pvalue=0.03583204193521363)\n",
      "NO: Ttest_indResult(statistic=0.5119224181145228, pvalue=0.6087850218131978)\n",
      "SE: Ttest_indResult(statistic=-2.0268698056063146, pvalue=0.0428293634522298)\n"
     ]
    }
   ],
   "source": [
    "country_names = ['CH', 'CZ', 'DE', 'ES', 'NO', 'SE']\n",
    "i = 0\n",
    "for x in countries:\n",
    "    print(str(country_names[i]) + ': ' + str(sp.stats.ttest_ind(x[x.year==6].ppltrst,x[x.year==7].ppltrst)))\n",
    "    i += 1"
   ]
  },
  {
   "cell_type": "markdown",
   "metadata": {},
   "source": [
    "# Did people become happier from 2012 to 2014? Compute results for each country in the sample."
   ]
  },
  {
   "cell_type": "code",
   "execution_count": 9,
   "metadata": {},
   "outputs": [
    {
     "data": {
      "image/png": "[encoded data removed]",
      "text/plain": [
       "<Figure size 576x576 with 1 Axes>"
      ]
     },
     "metadata": {},
     "output_type": "display_data"
    }
   ],
   "source": [
    "plt.figure(figsize=(8,8))\n",
    "plt.hist(df['happy'])\n",
    "plt.show()"
   ]
  },
  {
   "cell_type": "code",
   "execution_count": 10,
   "metadata": {},
   "outputs": [
    {
     "name": "stdout",
     "output_type": "stream",
     "text": [
      "CH: Ttest_indResult(statistic=-0.812142488327401, pvalue=0.4168411011770018)\n",
      "CZ: Ttest_indResult(statistic=-1.1592536826704618, pvalue=0.24658245820500238)\n",
      "DE: Ttest_indResult(statistic=-0.966317541228559, pvalue=0.3431409128727073)\n",
      "ES: Ttest_indResult(statistic=1.3750588408504656, pvalue=0.16924771370417369)\n",
      "NO: Ttest_indResult(statistic=4.152957205997266, pvalue=3.4778681704487346e-05)\n",
      "SE: Ttest_indResult(statistic=-0.5372790210326394, pvalue=0.5911442306272388)\n"
     ]
    }
   ],
   "source": [
    "country_names = ['CH', 'CZ', 'DE', 'ES', 'NO', 'SE']\n",
    "i = 0\n",
    "for x in countries:\n",
    "    print(str(country_names[i]) + ': ' + str(sp.stats.ttest_ind(x[x.year==6].happy,x[x.year==7].happy)))\n",
    "    i += 1"
   ]
  },
  {
   "cell_type": "markdown",
   "metadata": {},
   "source": [
    "# Who reported watching more TV in 2012, men or women?"
   ]
  },
  {
   "cell_type": "code",
   "execution_count": 11,
   "metadata": {},
   "outputs": [
    {
     "data": {
      "image/png": "[encoded data removed]",
      "text/plain": [
       "<Figure size 576x576 with 1 Axes>"
      ]
     },
     "metadata": {},
     "output_type": "display_data"
    }
   ],
   "source": [
    "plt.figure(figsize=(8,8))\n",
    "plt.hist(df[df.year==6].tvtot)\n",
    "plt.show()"
   ]
  },
  {
   "cell_type": "code",
   "execution_count": 12,
   "metadata": {},
   "outputs": [
    {
     "data": {
      "text/html": [
       "<div>\n",
       "<style scoped>\n",
       "    .dataframe tbody tr th:only-of-type {\n",
       "        vertical-align: middle;\n",
       "    }\n",
       "\n",
       "    .dataframe tbody tr th {\n",
       "        vertical-align: top;\n",
       "    }\n",
       "\n",
       "    .dataframe thead th {\n",
       "        text-align: right;\n",
       "    }\n",
       "</style>\n",
       "<table border=\"1\" class=\"dataframe\">\n",
       "  <thead>\n",
       "    <tr style=\"text-align: right;\">\n",
       "      <th></th>\n",
       "      <th>idno</th>\n",
       "      <th>year</th>\n",
       "      <th>tvtot</th>\n",
       "      <th>ppltrst</th>\n",
       "      <th>pplfair</th>\n",
       "      <th>pplhlp</th>\n",
       "      <th>happy</th>\n",
       "      <th>sclmeet</th>\n",
       "      <th>sclact</th>\n",
       "      <th>agea</th>\n",
       "      <th>partner</th>\n",
       "    </tr>\n",
       "    <tr>\n",
       "      <th>gndr</th>\n",
       "      <th></th>\n",
       "      <th></th>\n",
       "      <th></th>\n",
       "      <th></th>\n",
       "      <th></th>\n",
       "      <th></th>\n",
       "      <th></th>\n",
       "      <th></th>\n",
       "      <th></th>\n",
       "      <th></th>\n",
       "      <th></th>\n",
       "    </tr>\n",
       "  </thead>\n",
       "  <tbody>\n",
       "    <tr>\n",
       "      <th>1.0</th>\n",
       "      <td>30648.933268</td>\n",
       "      <td>6</td>\n",
       "      <td>3.859230</td>\n",
       "      <td>5.631271</td>\n",
       "      <td>5.935704</td>\n",
       "      <td>5.28300</td>\n",
       "      <td>7.751096</td>\n",
       "      <td>5.257185</td>\n",
       "      <td>2.776912</td>\n",
       "      <td>46.858256</td>\n",
       "      <td>1.356551</td>\n",
       "    </tr>\n",
       "    <tr>\n",
       "      <th>2.0</th>\n",
       "      <td>47288.428147</td>\n",
       "      <td>6</td>\n",
       "      <td>3.905352</td>\n",
       "      <td>5.524777</td>\n",
       "      <td>6.057483</td>\n",
       "      <td>5.50446</td>\n",
       "      <td>7.711596</td>\n",
       "      <td>5.256690</td>\n",
       "      <td>2.712587</td>\n",
       "      <td>47.803271</td>\n",
       "      <td>1.394945</td>\n",
       "    </tr>\n",
       "  </tbody>\n",
       "</table>\n",
       "</div>"
      ],
      "text/plain": [
       "              idno  year     tvtot   ppltrst   pplfair   pplhlp     happy  \\\n",
       "gndr                                                                        \n",
       "1.0   30648.933268     6  3.859230  5.631271  5.935704  5.28300  7.751096   \n",
       "2.0   47288.428147     6  3.905352  5.524777  6.057483  5.50446  7.711596   \n",
       "\n",
       "       sclmeet    sclact       agea   partner  \n",
       "gndr                                           \n",
       "1.0   5.257185  2.776912  46.858256  1.356551  \n",
       "2.0   5.256690  2.712587  47.803271  1.394945  "
      ]
     },
     "execution_count": 12,
     "metadata": {},
     "output_type": "execute_result"
    }
   ],
   "source": [
    "df[df.year==6].groupby('gndr').mean()"
   ]
  },
  {
   "cell_type": "code",
   "execution_count": 13,
   "metadata": {},
   "outputs": [],
   "source": [
    "year_2012 = df[df.year==6]"
   ]
  },
  {
   "cell_type": "code",
   "execution_count": 14,
   "metadata": {},
   "outputs": [
    {
     "data": {
      "text/plain": [
       "Ttest_indResult(statistic=-0.7323552192640558, pvalue=0.4639939646110154)"
      ]
     },
     "execution_count": 14,
     "metadata": {},
     "output_type": "execute_result"
    }
   ],
   "source": [
    "sp.stats.ttest_ind(year_2012[year_2012.gndr==1.0].tvtot,year_2012[year_2012.gndr==2.0].tvtot)"
   ]
  },
  {
   "cell_type": "markdown",
   "metadata": {},
   "source": [
    "## Neither watched significantly more TV according to their gender"
   ]
  },
  {
   "cell_type": "markdown",
   "metadata": {},
   "source": [
    "# Who was more likely to believe people were fair in 2012, people living with a partner or people living alone?"
   ]
  },
  {
   "cell_type": "code",
   "execution_count": 15,
   "metadata": {},
   "outputs": [
    {
     "data": {
      "text/plain": [
       "Ttest_indResult(statistic=0.9715565858386009, pvalue=0.3313368257437276)"
      ]
     },
     "execution_count": 15,
     "metadata": {},
     "output_type": "execute_result"
    }
   ],
   "source": [
    "sp.stats.ttest_ind(year_2012[year_2012.gndr==1.0].pplfair, year_2012[year_2012.partner==2.0].pplfair)"
   ]
  },
  {
   "cell_type": "markdown",
   "metadata": {},
   "source": [
    "## Neither"
   ]
  },
  {
   "cell_type": "markdown",
   "metadata": {},
   "source": [
    "# Pick three or four of the countries in the sample and compare how often people met socially in 2014. Are there differences, and if so, which countries stand out?"
   ]
  },
  {
   "cell_type": "code",
   "execution_count": 16,
   "metadata": {},
   "outputs": [
    {
     "data": {
      "image/png": "[encoded data removed]",
      "text/plain": [
       "<Figure size 576x576 with 1 Axes>"
      ]
     },
     "metadata": {},
     "output_type": "display_data"
    }
   ],
   "source": [
    "plt.figure(figsize=(8,8))\n",
    "plt.hist(df['sclmeet'])\n",
    "plt.show()"
   ]
  },
  {
   "cell_type": "code",
   "execution_count": 17,
   "metadata": {},
   "outputs": [
    {
     "data": {
      "text/html": [
       "<div>\n",
       "<style scoped>\n",
       "    .dataframe tbody tr th:only-of-type {\n",
       "        vertical-align: middle;\n",
       "    }\n",
       "\n",
       "    .dataframe tbody tr th {\n",
       "        vertical-align: top;\n",
       "    }\n",
       "\n",
       "    .dataframe thead th {\n",
       "        text-align: right;\n",
       "    }\n",
       "</style>\n",
       "<table border=\"1\" class=\"dataframe\">\n",
       "  <thead>\n",
       "    <tr style=\"text-align: right;\">\n",
       "      <th></th>\n",
       "      <th>idno</th>\n",
       "      <th>year</th>\n",
       "      <th>tvtot</th>\n",
       "      <th>ppltrst</th>\n",
       "      <th>pplfair</th>\n",
       "      <th>pplhlp</th>\n",
       "      <th>happy</th>\n",
       "      <th>sclmeet</th>\n",
       "      <th>sclact</th>\n",
       "      <th>gndr</th>\n",
       "      <th>agea</th>\n",
       "      <th>partner</th>\n",
       "    </tr>\n",
       "    <tr>\n",
       "      <th>cntry</th>\n",
       "      <th></th>\n",
       "      <th></th>\n",
       "      <th></th>\n",
       "      <th></th>\n",
       "      <th></th>\n",
       "      <th></th>\n",
       "      <th></th>\n",
       "      <th></th>\n",
       "      <th></th>\n",
       "      <th></th>\n",
       "      <th></th>\n",
       "      <th></th>\n",
       "    </tr>\n",
       "  </thead>\n",
       "  <tbody>\n",
       "    <tr>\n",
       "      <th>CH</th>\n",
       "      <td>1.469243e+03</td>\n",
       "      <td>6.503729</td>\n",
       "      <td>3.075932</td>\n",
       "      <td>5.725424</td>\n",
       "      <td>6.267797</td>\n",
       "      <td>5.685424</td>\n",
       "      <td>8.113220</td>\n",
       "      <td>5.149831</td>\n",
       "      <td>2.747797</td>\n",
       "      <td>1.511186</td>\n",
       "      <td>46.667797</td>\n",
       "      <td>1.364746</td>\n",
       "    </tr>\n",
       "    <tr>\n",
       "      <th>CZ</th>\n",
       "      <td>1.449925e+03</td>\n",
       "      <td>6.502071</td>\n",
       "      <td>4.871582</td>\n",
       "      <td>4.379453</td>\n",
       "      <td>4.909693</td>\n",
       "      <td>4.457332</td>\n",
       "      <td>6.856669</td>\n",
       "      <td>4.613090</td>\n",
       "      <td>2.673571</td>\n",
       "      <td>1.526098</td>\n",
       "      <td>45.812759</td>\n",
       "      <td>1.423364</td>\n",
       "    </tr>\n",
       "    <tr>\n",
       "      <th>DE</th>\n",
       "      <td>1.100049e+07</td>\n",
       "      <td>6.518519</td>\n",
       "      <td>3.962963</td>\n",
       "      <td>5.222222</td>\n",
       "      <td>6.222222</td>\n",
       "      <td>5.444444</td>\n",
       "      <td>7.592593</td>\n",
       "      <td>4.666667</td>\n",
       "      <td>2.814815</td>\n",
       "      <td>1.592593</td>\n",
       "      <td>56.962963</td>\n",
       "      <td>1.259259</td>\n",
       "    </tr>\n",
       "    <tr>\n",
       "      <th>ES</th>\n",
       "      <td>1.471413e+03</td>\n",
       "      <td>6.494764</td>\n",
       "      <td>3.934119</td>\n",
       "      <td>5.034904</td>\n",
       "      <td>5.365620</td>\n",
       "      <td>4.546248</td>\n",
       "      <td>7.504799</td>\n",
       "      <td>5.242583</td>\n",
       "      <td>2.601222</td>\n",
       "      <td>1.502618</td>\n",
       "      <td>47.571990</td>\n",
       "      <td>1.384380</td>\n",
       "    </tr>\n",
       "    <tr>\n",
       "      <th>NO</th>\n",
       "      <td>1.429086e+04</td>\n",
       "      <td>6.501408</td>\n",
       "      <td>3.741549</td>\n",
       "      <td>6.623944</td>\n",
       "      <td>6.888732</td>\n",
       "      <td>6.043662</td>\n",
       "      <td>8.085915</td>\n",
       "      <td>5.436620</td>\n",
       "      <td>2.914085</td>\n",
       "      <td>1.466197</td>\n",
       "      <td>46.334507</td>\n",
       "      <td>1.369718</td>\n",
       "    </tr>\n",
       "    <tr>\n",
       "      <th>SE</th>\n",
       "      <td>1.811748e+03</td>\n",
       "      <td>6.502317</td>\n",
       "      <td>3.624565</td>\n",
       "      <td>6.141947</td>\n",
       "      <td>6.665701</td>\n",
       "      <td>6.048088</td>\n",
       "      <td>7.920046</td>\n",
       "      <td>5.485516</td>\n",
       "      <td>2.895133</td>\n",
       "      <td>1.477984</td>\n",
       "      <td>48.983778</td>\n",
       "      <td>1.389340</td>\n",
       "    </tr>\n",
       "  </tbody>\n",
       "</table>\n",
       "</div>"
      ],
      "text/plain": [
       "               idno      year     tvtot   ppltrst   pplfair    pplhlp  \\\n",
       "cntry                                                                   \n",
       "CH     1.469243e+03  6.503729  3.075932  5.725424  6.267797  5.685424   \n",
       "CZ     1.449925e+03  6.502071  4.871582  4.379453  4.909693  4.457332   \n",
       "DE     1.100049e+07  6.518519  3.962963  5.222222  6.222222  5.444444   \n",
       "ES     1.471413e+03  6.494764  3.934119  5.034904  5.365620  4.546248   \n",
       "NO     1.429086e+04  6.501408  3.741549  6.623944  6.888732  6.043662   \n",
       "SE     1.811748e+03  6.502317  3.624565  6.141947  6.665701  6.048088   \n",
       "\n",
       "          happy   sclmeet    sclact      gndr       agea   partner  \n",
       "cntry                                                               \n",
       "CH     8.113220  5.149831  2.747797  1.511186  46.667797  1.364746  \n",
       "CZ     6.856669  4.613090  2.673571  1.526098  45.812759  1.423364  \n",
       "DE     7.592593  4.666667  2.814815  1.592593  56.962963  1.259259  \n",
       "ES     7.504799  5.242583  2.601222  1.502618  47.571990  1.384380  \n",
       "NO     8.085915  5.436620  2.914085  1.466197  46.334507  1.369718  \n",
       "SE     7.920046  5.485516  2.895133  1.477984  48.983778  1.389340  "
      ]
     },
     "execution_count": 17,
     "metadata": {},
     "output_type": "execute_result"
    }
   ],
   "source": [
    "df.groupby('cntry').mean()"
   ]
  },
  {
   "cell_type": "code",
   "execution_count": 18,
   "metadata": {},
   "outputs": [],
   "source": [
    "# CH, CZ, DE"
   ]
  },
  {
   "cell_type": "code",
   "execution_count": 19,
   "metadata": {},
   "outputs": [],
   "source": [
    "CH_2014 = CH[CH.year==6]\n",
    "CZ_2014 = CZ[CZ.year==6]\n",
    "DE_2014 = DE[DE.year==6]\n",
    "countries_2014 = [CH_2014, CZ_2014, DE_2014]"
   ]
  },
  {
   "cell_type": "code",
   "execution_count": 20,
   "metadata": {},
   "outputs": [],
   "source": [
    "F, p = stats.f_oneway(\n",
    "    CH_2014.sclmeet,\n",
    "    CZ_2014.sclmeet,\n",
    "    DE_2014.sclmeet)"
   ]
  },
  {
   "cell_type": "code",
   "execution_count": 21,
   "metadata": {},
   "outputs": [
    {
     "name": "stdout",
     "output_type": "stream",
     "text": [
      "11.844789295056742\n"
     ]
    }
   ],
   "source": [
    "print(F)"
   ]
  },
  {
   "cell_type": "code",
   "execution_count": 22,
   "metadata": {},
   "outputs": [
    {
     "name": "stdout",
     "output_type": "stream",
     "text": [
      "7.95639252996356e-06\n"
     ]
    }
   ],
   "source": [
    "print(p)"
   ]
  },
  {
   "cell_type": "code",
   "execution_count": 23,
   "metadata": {},
   "outputs": [
    {
     "name": "stdout",
     "output_type": "stream",
     "text": [
      "Ttest_indResult(statistic=4.855947325584417, pvalue=1.3399330486546011e-06)\n",
      "Ttest_indResult(statistic=0.5452856099939198, pvalue=0.5857207463645546)\n",
      "Ttest_indResult(statistic=-0.42145894685106416, pvalue=0.6735679678771813)\n"
     ]
    }
   ],
   "source": [
    "print(stats.ttest_ind(CH_2014.sclmeet, CZ_2014.sclmeet))\n",
    "print(stats.ttest_ind(CH_2014.sclmeet, DE_2014.sclmeet))\n",
    "print(stats.ttest_ind(CZ_2014.sclmeet, DE_2014.sclmeet))"
   ]
  },
  {
   "cell_type": "markdown",
   "metadata": {},
   "source": [
    "# Pick three or four of the countries in the sample and compare how often people took part in social activities, relative to others their age, in 2014. Are there differences, and if so, which countries stand out?"
   ]
  },
  {
   "cell_type": "code",
   "execution_count": 24,
   "metadata": {
    "scrolled": true
   },
   "outputs": [
    {
     "data": {
      "text/html": [
       "<div>\n",
       "<style scoped>\n",
       "    .dataframe tbody tr th:only-of-type {\n",
       "        vertical-align: middle;\n",
       "    }\n",
       "\n",
       "    .dataframe tbody tr th {\n",
       "        vertical-align: top;\n",
       "    }\n",
       "\n",
       "    .dataframe thead th {\n",
       "        text-align: right;\n",
       "    }\n",
       "</style>\n",
       "<table border=\"1\" class=\"dataframe\">\n",
       "  <thead>\n",
       "    <tr style=\"text-align: right;\">\n",
       "      <th></th>\n",
       "      <th>cntry</th>\n",
       "      <th>idno</th>\n",
       "      <th>year</th>\n",
       "      <th>tvtot</th>\n",
       "      <th>ppltrst</th>\n",
       "      <th>pplfair</th>\n",
       "      <th>pplhlp</th>\n",
       "      <th>happy</th>\n",
       "      <th>sclmeet</th>\n",
       "      <th>sclact</th>\n",
       "      <th>gndr</th>\n",
       "      <th>agea</th>\n",
       "      <th>partner</th>\n",
       "    </tr>\n",
       "  </thead>\n",
       "  <tbody>\n",
       "    <tr>\n",
       "      <th>0</th>\n",
       "      <td>CH</td>\n",
       "      <td>5.0</td>\n",
       "      <td>6</td>\n",
       "      <td>3.0</td>\n",
       "      <td>3.0</td>\n",
       "      <td>10.0</td>\n",
       "      <td>5.0</td>\n",
       "      <td>8.0</td>\n",
       "      <td>5.0</td>\n",
       "      <td>4.0</td>\n",
       "      <td>2.0</td>\n",
       "      <td>60.0</td>\n",
       "      <td>1.0</td>\n",
       "    </tr>\n",
       "    <tr>\n",
       "      <th>1</th>\n",
       "      <td>CH</td>\n",
       "      <td>25.0</td>\n",
       "      <td>6</td>\n",
       "      <td>6.0</td>\n",
       "      <td>5.0</td>\n",
       "      <td>7.0</td>\n",
       "      <td>5.0</td>\n",
       "      <td>9.0</td>\n",
       "      <td>3.0</td>\n",
       "      <td>2.0</td>\n",
       "      <td>2.0</td>\n",
       "      <td>59.0</td>\n",
       "      <td>1.0</td>\n",
       "    </tr>\n",
       "    <tr>\n",
       "      <th>2</th>\n",
       "      <td>CH</td>\n",
       "      <td>26.0</td>\n",
       "      <td>6</td>\n",
       "      <td>1.0</td>\n",
       "      <td>8.0</td>\n",
       "      <td>8.0</td>\n",
       "      <td>8.0</td>\n",
       "      <td>7.0</td>\n",
       "      <td>6.0</td>\n",
       "      <td>3.0</td>\n",
       "      <td>1.0</td>\n",
       "      <td>24.0</td>\n",
       "      <td>2.0</td>\n",
       "    </tr>\n",
       "    <tr>\n",
       "      <th>3</th>\n",
       "      <td>CH</td>\n",
       "      <td>28.0</td>\n",
       "      <td>6</td>\n",
       "      <td>4.0</td>\n",
       "      <td>6.0</td>\n",
       "      <td>6.0</td>\n",
       "      <td>7.0</td>\n",
       "      <td>10.0</td>\n",
       "      <td>6.0</td>\n",
       "      <td>2.0</td>\n",
       "      <td>2.0</td>\n",
       "      <td>64.0</td>\n",
       "      <td>1.0</td>\n",
       "    </tr>\n",
       "    <tr>\n",
       "      <th>4</th>\n",
       "      <td>CH</td>\n",
       "      <td>29.0</td>\n",
       "      <td>6</td>\n",
       "      <td>5.0</td>\n",
       "      <td>6.0</td>\n",
       "      <td>7.0</td>\n",
       "      <td>5.0</td>\n",
       "      <td>8.0</td>\n",
       "      <td>7.0</td>\n",
       "      <td>2.0</td>\n",
       "      <td>2.0</td>\n",
       "      <td>55.0</td>\n",
       "      <td>1.0</td>\n",
       "    </tr>\n",
       "  </tbody>\n",
       "</table>\n",
       "</div>"
      ],
      "text/plain": [
       "  cntry  idno  year  tvtot  ppltrst  pplfair  pplhlp  happy  sclmeet  sclact  \\\n",
       "0    CH   5.0     6    3.0      3.0     10.0     5.0    8.0      5.0     4.0   \n",
       "1    CH  25.0     6    6.0      5.0      7.0     5.0    9.0      3.0     2.0   \n",
       "2    CH  26.0     6    1.0      8.0      8.0     8.0    7.0      6.0     3.0   \n",
       "3    CH  28.0     6    4.0      6.0      6.0     7.0   10.0      6.0     2.0   \n",
       "4    CH  29.0     6    5.0      6.0      7.0     5.0    8.0      7.0     2.0   \n",
       "\n",
       "   gndr  agea  partner  \n",
       "0   2.0  60.0      1.0  \n",
       "1   2.0  59.0      1.0  \n",
       "2   1.0  24.0      2.0  \n",
       "3   2.0  64.0      1.0  \n",
       "4   2.0  55.0      1.0  "
      ]
     },
     "execution_count": 24,
     "metadata": {},
     "output_type": "execute_result"
    }
   ],
   "source": [
    "df.head()"
   ]
  },
  {
   "cell_type": "code",
   "execution_count": 25,
   "metadata": {},
   "outputs": [
    {
     "name": "stdout",
     "output_type": "stream",
     "text": [
      "2.2685144373158095\n",
      "0.10386210137274612\n"
     ]
    }
   ],
   "source": [
    "F, p = stats.f_oneway(\n",
    "    CH_2014.sclact,\n",
    "    CZ_2014.sclact,\n",
    "    DE_2014.sclact)\n",
    "\n",
    "print(F)\n",
    "print(p)"
   ]
  },
  {
   "cell_type": "code",
   "execution_count": 26,
   "metadata": {},
   "outputs": [
    {
     "name": "stdout",
     "output_type": "stream",
     "text": [
      "Ttest_indResult(statistic=1.8766582063310397, pvalue=0.060783586634628996)\n",
      "Ttest_indResult(statistic=-0.8697759220637884, pvalue=0.3847037669474307)\n",
      "Ttest_indResult(statistic=-1.1623673917440294, pvalue=0.24553933269298717)\n"
     ]
    }
   ],
   "source": [
    "print(stats.ttest_ind(CH_2014.sclact, CZ_2014.sclact))\n",
    "print(stats.ttest_ind(CH_2014.sclact, DE_2014.sclact))\n",
    "print(stats.ttest_ind(CZ_2014.sclact, DE_2014.sclact))"
   ]
  },
  {
   "cell_type": "code",
   "execution_count": null,
   "metadata": {},
   "outputs": [],
   "source": []
  }
 ],
 "metadata": {
  "kernelspec": {
   "display_name": "Python 3",
   "language": "python",
   "name": "python3"
  },
  "language_info": {
   "codemirror_mode": {
    "name": "ipython",
    "version": 3
   },
   "file_extension": ".py",
   "mimetype": "text/x-python",
   "name": "python",
   "nbconvert_exporter": "python",
   "pygments_lexer": "ipython3",
   "version": "3.7.0"
  }
 },
 "nbformat": 4,
 "nbformat_minor": 2
}
