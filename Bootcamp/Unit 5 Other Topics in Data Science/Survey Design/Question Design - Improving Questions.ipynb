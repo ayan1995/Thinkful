{
 "cells": [
  {
   "cell_type": "markdown",
   "metadata": {},
   "source": [
    "# Question Design\n",
    "\n",
    "For each of the following, indicate the best question type to use and why.\n",
    "\n",
    "Age\n",
    "    - Free Response; because there are many options for age.\n",
    "    \n",
    "Gender\n",
    "    - Multiple Choice/ Choose One; Because there are only a few options for gender depending on how inclusive you want to be for different identities.\n",
    "   \n",
    "Income\n",
    "    - Mutiple Choice/ Choose One; I'd set a range so that people don't have to specify how much they make.\n",
    "    \n",
    "Opinions about dish soap\n",
    "    - Free Response; If we want unique opinions\n",
    "    - Rating Scale;  If you want to rate dishsoap\n",
    "\n",
    "Brand of dish soap used\n",
    "    - Multiple Choise/ Choose One; people choose exactly the dish soap they use\n",
    "    \n",
    "Preference for dish soap brand (Cleany, Sudsy, DeGreaser, Pinesoft)\n",
    "    - Ranking; to rank soap brands\n",
    "\n",
    "Positive vs negative feelings about dish soap\n",
    "    - Rating Scale; to rank dish soap\n",
    "    - Yes or No; to see whether someone would use the soap again or not"
   ]
  },
  {
   "cell_type": "markdown",
   "metadata": {},
   "source": [
    "# Improving Questions\n",
    "\n",
    "1. On which issues does the mainstream media do the worst job of representing President Trump? (Select as many that apply.)\n",
    "\n",
    "In your opinion, rank how well mainstream media represents President Trump in each of the following issues. (1 being the worst and 5 being the best)\n",
    "\n",
    "2. Do you feel that the media is too eager to slur conservatives with baseless accusations of racism and sexism?\n",
    "\n",
    "Do you feel that accustations of racism and sexism towads conservatives are baseless? (yes, no, sometimes)\n",
    "\n",
    "If yes, do you feel that the media is too eager to slur conservatives with baseless accusations of racism and sexism?\n",
    "(yes, no, sometimes)\n",
    "\n",
    "3. Do you believe the media fails to report on Democrats’ scandals?\n",
    "\n",
    "How often do you believe that scandals occur amongst the following parties? (Mostly with Democrats, Mostly with Republicans, Equally both)\n",
    "\n",
    "4. Do you believe that the media purposely tries to divide Republicans in order to help elect Democrats?\n",
    "\n",
    "Do you believe that tries media divides Republicans? (Yes or No)\n",
    "\n",
    "If yes, do you believe they do this purposely to help elect Democrats? (Yes or No)\n",
    "\n",
    "5. Do you believe that the media has been too quick to spread false stories about our movement?\n",
    "\n",
    "Do you believe that there are false stories spread about our movement?\n",
    "\n",
    "If yes, do you believe that the media are responsible?\n",
    "\n",
    "6. What percentage do you believe is an accurate representation of President Trump’s positive news coverage by the mainstream media?\n",
    "\n",
    "Do you believe that media representation of President Trump is accurate? (Yes or no)\n",
    "\n",
    "In your opinion, how positive is President Trumps news coverage by mainstream media? (1 being the worst and 5 being the best).\n"
   ]
  },
  {
   "cell_type": "markdown",
   "metadata": {},
   "source": [
    "$$Power = \\dfrac{ \\mu}{\\sigma/N}$$"
   ]
  },
  {
   "cell_type": "code",
   "execution_count": null,
   "metadata": {},
   "outputs": [],
   "source": []
  }
 ],
 "metadata": {
  "kernelspec": {
   "display_name": "Python 3",
   "language": "python",
   "name": "python3"
  },
  "language_info": {
   "codemirror_mode": {
    "name": "ipython",
    "version": 3
   },
   "file_extension": ".py",
   "mimetype": "text/x-python",
   "name": "python",
   "nbconvert_exporter": "python",
   "pygments_lexer": "ipython3",
   "version": "3.7.0"
  }
 },
 "nbformat": 4,
 "nbformat_minor": 2
}
